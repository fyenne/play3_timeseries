{
 "metadata": {
  "language_info": {
   "codemirror_mode": {
    "name": "ipython",
    "version": 3
   },
   "file_extension": ".py",
   "mimetype": "text/x-python",
   "name": "python",
   "nbconvert_exporter": "python",
   "pygments_lexer": "ipython3",
   "version": "3.8.8"
  },
  "orig_nbformat": 4,
  "kernelspec": {
   "name": "python3",
   "display_name": "Python 3.8.8 64-bit ('siming': conda)"
  },
  "interpreter": {
   "hash": "47b50d2908d96196e4220cfb4e81faa93803065ea975497e7026f672c1f58470"
  }
 },
 "nbformat": 4,
 "nbformat_minor": 2,
 "cells": [
  {
   "cell_type": "code",
   "execution_count": 1,
   "source": [
    "import pandas as pd\r\n",
    "import numpy as np\r\n",
    "import sklearn\r\n",
    "import matplotlib.pyplot as plt\r\n",
    "import seaborn as sns\r\n",
    "import re"
   ],
   "outputs": [],
   "metadata": {}
  },
  {
   "cell_type": "code",
   "execution_count": 2,
   "source": [
    "path= 'Q:\\\\SHA_KQ\\\\Digital Intelligence\\\\深度赋智-AI\\\\test_data\\\\hp_test\\\\'\r\n"
   ],
   "outputs": [],
   "metadata": {}
  },
  {
   "cell_type": "code",
   "execution_count": 3,
   "source": [
    "dfs = pd.DataFrame()\r\n",
    "for fname in os.listdir(path):\r\n",
    "    if re.search(r'\\.xlsx$', fname):\r\n",
    "        dfs = pd.concat(\r\n",
    "            [dfs ,pd.read_excel(path + fname)], \r\n",
    "            axis = 0, \r\n",
    "            ignore_index = True)\r\n",
    "\r\n",
    "dfs2 = pd.DataFrame()\r\n",
    "for fname in os.listdir(path):\r\n",
    "    if re.search(r'\\.xls$', fname):\r\n",
    "        dfs2 = pd.concat(\r\n",
    "            [dfs2 ,pd.read_excel(path + fname)], \r\n",
    "            axis = 0, \r\n",
    "            ignore_index = True)"
   ],
   "outputs": [],
   "metadata": {}
  },
  {
   "cell_type": "code",
   "execution_count": 7,
   "source": [
    "dfs.head(1)"
   ],
   "outputs": [
    {
     "output_type": "execute_result",
     "data": {
      "text/plain": [
       "         DN              SADate Delivery Date Route      RDD ship_pt  \\\n",
       "0  41028642 2021-03-01 06:15:00       2/26/21  4DGT  2/25/21    BK03   \n",
       "\n",
       "         PO   OrderNo  Item #  PL  ...  scan  PCS/PLT  City Ship_to  FRemark  \\\n",
       "0  47662050  90876182      10  5T  ...  ZPPU      NaN    XJ      F4      NaN   \n",
       "\n",
       "  DESCRIPTION     Shipto                                        Unnamed: 20  \\\n",
       "0         NaN  F40054315  RRdonnelley 20号 广东省东莞市寮步镇新旧围村黄沙河西路 张 思林 136500...   \n",
       "\n",
       "  Unnamed: 21 Unnamed: 22  \n",
       "0         NaN         200  \n",
       "\n",
       "[1 rows x 23 columns]"
      ],
      "text/html": [
       "<div>\n",
       "<style scoped>\n",
       "    .dataframe tbody tr th:only-of-type {\n",
       "        vertical-align: middle;\n",
       "    }\n",
       "\n",
       "    .dataframe tbody tr th {\n",
       "        vertical-align: top;\n",
       "    }\n",
       "\n",
       "    .dataframe thead th {\n",
       "        text-align: right;\n",
       "    }\n",
       "</style>\n",
       "<table border=\"1\" class=\"dataframe\">\n",
       "  <thead>\n",
       "    <tr style=\"text-align: right;\">\n",
       "      <th></th>\n",
       "      <th>DN</th>\n",
       "      <th>SADate</th>\n",
       "      <th>Delivery Date</th>\n",
       "      <th>Route</th>\n",
       "      <th>RDD</th>\n",
       "      <th>ship_pt</th>\n",
       "      <th>PO</th>\n",
       "      <th>OrderNo</th>\n",
       "      <th>Item #</th>\n",
       "      <th>PL</th>\n",
       "      <th>...</th>\n",
       "      <th>scan</th>\n",
       "      <th>PCS/PLT</th>\n",
       "      <th>City</th>\n",
       "      <th>Ship_to</th>\n",
       "      <th>FRemark</th>\n",
       "      <th>DESCRIPTION</th>\n",
       "      <th>Shipto</th>\n",
       "      <th>Unnamed: 20</th>\n",
       "      <th>Unnamed: 21</th>\n",
       "      <th>Unnamed: 22</th>\n",
       "    </tr>\n",
       "  </thead>\n",
       "  <tbody>\n",
       "    <tr>\n",
       "      <th>0</th>\n",
       "      <td>41028642</td>\n",
       "      <td>2021-03-01 06:15:00</td>\n",
       "      <td>2/26/21</td>\n",
       "      <td>4DGT</td>\n",
       "      <td>2/25/21</td>\n",
       "      <td>BK03</td>\n",
       "      <td>47662050</td>\n",
       "      <td>90876182</td>\n",
       "      <td>10</td>\n",
       "      <td>5T</td>\n",
       "      <td>...</td>\n",
       "      <td>ZPPU</td>\n",
       "      <td>NaN</td>\n",
       "      <td>XJ</td>\n",
       "      <td>F4</td>\n",
       "      <td>NaN</td>\n",
       "      <td>NaN</td>\n",
       "      <td>F40054315</td>\n",
       "      <td>RRdonnelley 20号 广东省东莞市寮步镇新旧围村黄沙河西路 张 思林 136500...</td>\n",
       "      <td>NaN</td>\n",
       "      <td>200</td>\n",
       "    </tr>\n",
       "  </tbody>\n",
       "</table>\n",
       "<p>1 rows × 23 columns</p>\n",
       "</div>"
      ]
     },
     "metadata": {},
     "execution_count": 7
    }
   ],
   "metadata": {}
  },
  {
   "cell_type": "code",
   "execution_count": 6,
   "source": [
    "dfs2.head(1)"
   ],
   "outputs": [
    {
     "output_type": "execute_result",
     "data": {
      "text/plain": [
       "         DN              SADate Del. Date Route      RDD ship_pt          PO  \\\n",
       "0  41222943 2021-03-01 06:00:00   2/26/21  4HZT  2/27/21    BK01  SP32-08838   \n",
       "\n",
       "       OrderNo  Item  PL  ... PCS/PLT  City  Ship_to FRemark  DESCRIPTION  \\\n",
       "0  323838482.0  20.0  GJ  ...     NaN  XJ-2       ER     NaN          NaN   \n",
       "\n",
       "     Shipto                                            company address  \\\n",
       "0  ER/ST/HZ  英迈电子商贸(上海)有限公司 杭州市余杭区崇贤街道龙旋村北马桥21组 C:王云/131361...     NaN   \n",
       "\n",
       "  contact tel  \n",
       "0  1700.0 NaN  \n",
       "\n",
       "[1 rows x 24 columns]"
      ],
      "text/html": [
       "<div>\n",
       "<style scoped>\n",
       "    .dataframe tbody tr th:only-of-type {\n",
       "        vertical-align: middle;\n",
       "    }\n",
       "\n",
       "    .dataframe tbody tr th {\n",
       "        vertical-align: top;\n",
       "    }\n",
       "\n",
       "    .dataframe thead th {\n",
       "        text-align: right;\n",
       "    }\n",
       "</style>\n",
       "<table border=\"1\" class=\"dataframe\">\n",
       "  <thead>\n",
       "    <tr style=\"text-align: right;\">\n",
       "      <th></th>\n",
       "      <th>DN</th>\n",
       "      <th>SADate</th>\n",
       "      <th>Del. Date</th>\n",
       "      <th>Route</th>\n",
       "      <th>RDD</th>\n",
       "      <th>ship_pt</th>\n",
       "      <th>PO</th>\n",
       "      <th>OrderNo</th>\n",
       "      <th>Item</th>\n",
       "      <th>PL</th>\n",
       "      <th>...</th>\n",
       "      <th>PCS/PLT</th>\n",
       "      <th>City</th>\n",
       "      <th>Ship_to</th>\n",
       "      <th>FRemark</th>\n",
       "      <th>DESCRIPTION</th>\n",
       "      <th>Shipto</th>\n",
       "      <th>company</th>\n",
       "      <th>address</th>\n",
       "      <th>contact</th>\n",
       "      <th>tel</th>\n",
       "    </tr>\n",
       "  </thead>\n",
       "  <tbody>\n",
       "    <tr>\n",
       "      <th>0</th>\n",
       "      <td>41222943</td>\n",
       "      <td>2021-03-01 06:00:00</td>\n",
       "      <td>2/26/21</td>\n",
       "      <td>4HZT</td>\n",
       "      <td>2/27/21</td>\n",
       "      <td>BK01</td>\n",
       "      <td>SP32-08838</td>\n",
       "      <td>323838482.0</td>\n",
       "      <td>20.0</td>\n",
       "      <td>GJ</td>\n",
       "      <td>...</td>\n",
       "      <td>NaN</td>\n",
       "      <td>XJ-2</td>\n",
       "      <td>ER</td>\n",
       "      <td>NaN</td>\n",
       "      <td>NaN</td>\n",
       "      <td>ER/ST/HZ</td>\n",
       "      <td>英迈电子商贸(上海)有限公司 杭州市余杭区崇贤街道龙旋村北马桥21组 C:王云/131361...</td>\n",
       "      <td>NaN</td>\n",
       "      <td>1700.0</td>\n",
       "      <td>NaN</td>\n",
       "    </tr>\n",
       "  </tbody>\n",
       "</table>\n",
       "<p>1 rows × 24 columns</p>\n",
       "</div>"
      ]
     },
     "metadata": {},
     "execution_count": 6
    }
   ],
   "metadata": {}
  },
  {
   "cell_type": "code",
   "execution_count": 166,
   "source": [
    "dfs2.columns"
   ],
   "outputs": [
    {
     "output_type": "execute_result",
     "data": {
      "text/plain": [
       "Index(['DN', 'SADate', 'Del. Date', 'Route', 'RDD', 'ship_pt', 'PO', 'OrderNo',\n",
       "       'Item', 'PL', 'PartNo', 'Qty', 'GW', '是否扫描', 'PCS/PLT', 'City',\n",
       "       'Ship_to', 'FRemark', 'DESCRIPTION', 'Shipto', 'company', 'address',\n",
       "       'contact', 'tel'],\n",
       "      dtype='object')"
      ]
     },
     "metadata": {},
     "execution_count": 166
    }
   ],
   "metadata": {}
  },
  {
   "cell_type": "code",
   "execution_count": 167,
   "source": [
    "dfs_test = dfs[['PartNo', 'SADate',' qty']]\r\n",
    "dfs_test['SADate'] = dfs_test['SADate'].astype(str)\r\n",
    "dfs_test['SADate'] = dfs_test['SADate'].str.extract(r'(.{7})')\r\n",
    "dfs_test2 = dfs2[['PartNo', 'SADate','Qty']]\r\n",
    "dfs_test2['SADate'] = dfs_test2['SADate'].astype(str)\r\n",
    "dfs_test2['SADate'] = dfs_test2['SADate'].str.extract(r'(.{7})')\r\n",
    "dfs_test.columns = dfs_test2.columns"
   ],
   "outputs": [
    {
     "output_type": "stream",
     "name": "stderr",
     "text": [
      "<ipython-input-167-89b03285653f>:2: SettingWithCopyWarning: \n",
      "A value is trying to be set on a copy of a slice from a DataFrame.\n",
      "Try using .loc[row_indexer,col_indexer] = value instead\n",
      "\n",
      "See the caveats in the documentation: https://pandas.pydata.org/pandas-docs/stable/user_guide/indexing.html#returning-a-view-versus-a-copy\n",
      "  dfs_test['SADate'] = dfs_test['SADate'].astype(str)\n",
      "<ipython-input-167-89b03285653f>:3: SettingWithCopyWarning: \n",
      "A value is trying to be set on a copy of a slice from a DataFrame.\n",
      "Try using .loc[row_indexer,col_indexer] = value instead\n",
      "\n",
      "See the caveats in the documentation: https://pandas.pydata.org/pandas-docs/stable/user_guide/indexing.html#returning-a-view-versus-a-copy\n",
      "  dfs_test['SADate'] = dfs_test['SADate'].str.extract(r'(.{7})')\n",
      "<ipython-input-167-89b03285653f>:5: SettingWithCopyWarning: \n",
      "A value is trying to be set on a copy of a slice from a DataFrame.\n",
      "Try using .loc[row_indexer,col_indexer] = value instead\n",
      "\n",
      "See the caveats in the documentation: https://pandas.pydata.org/pandas-docs/stable/user_guide/indexing.html#returning-a-view-versus-a-copy\n",
      "  dfs_test2['SADate'] = dfs_test2['SADate'].astype(str)\n",
      "<ipython-input-167-89b03285653f>:6: SettingWithCopyWarning: \n",
      "A value is trying to be set on a copy of a slice from a DataFrame.\n",
      "Try using .loc[row_indexer,col_indexer] = value instead\n",
      "\n",
      "See the caveats in the documentation: https://pandas.pydata.org/pandas-docs/stable/user_guide/indexing.html#returning-a-view-versus-a-copy\n",
      "  dfs_test2['SADate'] = dfs_test2['SADate'].str.extract(r'(.{7})')\n"
     ]
    }
   ],
   "metadata": {}
  },
  {
   "cell_type": "code",
   "execution_count": 168,
   "source": [
    "dfs_test_hp = pd.concat([dfs_test,dfs_test2], axis = 0)"
   ],
   "outputs": [],
   "metadata": {}
  },
  {
   "cell_type": "code",
   "execution_count": 169,
   "source": [
    "dfs_test_hp['SADate'].unique()"
   ],
   "outputs": [
    {
     "output_type": "execute_result",
     "data": {
      "text/plain": [
       "array(['2021-03', '2021-04', '2021-05'], dtype=object)"
      ]
     },
     "metadata": {},
     "execution_count": 169
    }
   ],
   "metadata": {}
  },
  {
   "cell_type": "code",
   "execution_count": 170,
   "source": [
    "dfs_test_hp.groupby(['PartNo', 'SADate'], as_index = False).sum()"
   ],
   "outputs": [
    {
     "output_type": "execute_result",
     "data": {
      "text/plain": [
       "               PartNo   SADate    Qty\n",
       "0           1825-0057  2021-03  18900\n",
       "1           1825-0057  2021-04  15120\n",
       "2              1CQ02A  2021-03      5\n",
       "3              1CQ02A  2021-04      6\n",
       "4     1HA07A     #BCD  2021-03      7\n",
       "...               ...      ...    ...\n",
       "2980           Z8W52A  2021-05      8\n",
       "2981           Z9M04A  2021-05      3\n",
       "2982           Z9M05A  2021-04      5\n",
       "2983           Z9M08A  2021-04      2\n",
       "2984           Z9M08A  2021-05     28\n",
       "\n",
       "[2985 rows x 3 columns]"
      ],
      "text/html": [
       "<div>\n",
       "<style scoped>\n",
       "    .dataframe tbody tr th:only-of-type {\n",
       "        vertical-align: middle;\n",
       "    }\n",
       "\n",
       "    .dataframe tbody tr th {\n",
       "        vertical-align: top;\n",
       "    }\n",
       "\n",
       "    .dataframe thead th {\n",
       "        text-align: right;\n",
       "    }\n",
       "</style>\n",
       "<table border=\"1\" class=\"dataframe\">\n",
       "  <thead>\n",
       "    <tr style=\"text-align: right;\">\n",
       "      <th></th>\n",
       "      <th>PartNo</th>\n",
       "      <th>SADate</th>\n",
       "      <th>Qty</th>\n",
       "    </tr>\n",
       "  </thead>\n",
       "  <tbody>\n",
       "    <tr>\n",
       "      <th>0</th>\n",
       "      <td>1825-0057</td>\n",
       "      <td>2021-03</td>\n",
       "      <td>18900</td>\n",
       "    </tr>\n",
       "    <tr>\n",
       "      <th>1</th>\n",
       "      <td>1825-0057</td>\n",
       "      <td>2021-04</td>\n",
       "      <td>15120</td>\n",
       "    </tr>\n",
       "    <tr>\n",
       "      <th>2</th>\n",
       "      <td>1CQ02A</td>\n",
       "      <td>2021-03</td>\n",
       "      <td>5</td>\n",
       "    </tr>\n",
       "    <tr>\n",
       "      <th>3</th>\n",
       "      <td>1CQ02A</td>\n",
       "      <td>2021-04</td>\n",
       "      <td>6</td>\n",
       "    </tr>\n",
       "    <tr>\n",
       "      <th>4</th>\n",
       "      <td>1HA07A     #BCD</td>\n",
       "      <td>2021-03</td>\n",
       "      <td>7</td>\n",
       "    </tr>\n",
       "    <tr>\n",
       "      <th>...</th>\n",
       "      <td>...</td>\n",
       "      <td>...</td>\n",
       "      <td>...</td>\n",
       "    </tr>\n",
       "    <tr>\n",
       "      <th>2980</th>\n",
       "      <td>Z8W52A</td>\n",
       "      <td>2021-05</td>\n",
       "      <td>8</td>\n",
       "    </tr>\n",
       "    <tr>\n",
       "      <th>2981</th>\n",
       "      <td>Z9M04A</td>\n",
       "      <td>2021-05</td>\n",
       "      <td>3</td>\n",
       "    </tr>\n",
       "    <tr>\n",
       "      <th>2982</th>\n",
       "      <td>Z9M05A</td>\n",
       "      <td>2021-04</td>\n",
       "      <td>5</td>\n",
       "    </tr>\n",
       "    <tr>\n",
       "      <th>2983</th>\n",
       "      <td>Z9M08A</td>\n",
       "      <td>2021-04</td>\n",
       "      <td>2</td>\n",
       "    </tr>\n",
       "    <tr>\n",
       "      <th>2984</th>\n",
       "      <td>Z9M08A</td>\n",
       "      <td>2021-05</td>\n",
       "      <td>28</td>\n",
       "    </tr>\n",
       "  </tbody>\n",
       "</table>\n",
       "<p>2985 rows × 3 columns</p>\n",
       "</div>"
      ]
     },
     "metadata": {},
     "execution_count": 170
    }
   ],
   "metadata": {}
  },
  {
   "cell_type": "code",
   "execution_count": 75,
   "source": [
    "len(np.setdiff1d(dl_test_hp['c_sku'], dfs_test_hp['PartNo']))"
   ],
   "outputs": [
    {
     "output_type": "execute_result",
     "data": {
      "text/plain": [
       "1109"
      ]
     },
     "metadata": {},
     "execution_count": 75
    }
   ],
   "metadata": {}
  },
  {
   "cell_type": "markdown",
   "source": [
    "---\n",
    "dl_test_hp"
   ],
   "metadata": {}
  },
  {
   "cell_type": "code",
   "execution_count": 158,
   "source": [
    "path2 = 'C:\\\\Users\\\\dscshap3808\\\\Documents\\\\data\\\\dlwisdom\\\\hp_dlwis_test_data\\\\'\r\n",
    "dl_test_hp = pd.read_csv(path2 + 'trial1.csv')\r\n",
    "dl_test_hp = dl_test_hp[dl_test_hp['t_month_str'] != '2021-06-01']\r\n",
    "dl_test_hp['t_month_str'] = dl_test_hp['t_month_str'].str.extract(r'(.{7})')"
   ],
   "outputs": [],
   "metadata": {}
  },
  {
   "cell_type": "code",
   "execution_count": 159,
   "source": [
    "# path2 = 'C:\\\\Users\\\\dscshap3808\\\\Documents\\\\data\\\\dlwisdom\\\\hp_dlwis_test_data\\\\'\r\n",
    "dl_test_hp2= pd.read_csv(path2 + 'trial2.csv')\r\n",
    "dl_test_hp2 = dl_test_hp2[dl_test_hp2['t_month_str'] != '2021-06-01']\r\n",
    "dl_test_hp2['t_month_str'] = dl_test_hp2['t_month_str'].str.extract(r'(.{7})')\r\n",
    "dl_test_hp2.columns = ['date','sku','qty']"
   ],
   "outputs": [],
   "metadata": {}
  },
  {
   "cell_type": "code",
   "execution_count": 160,
   "source": [
    "dl_test_hp.columns = ['date','sku','qty']\r\n",
    "dfs_test_hp.columns = ['sku','date','qty']\r\n",
    "dfs_test_hp = dfs_test_hp.groupby(['date', 'sku'], as_index = False).sum()"
   ],
   "outputs": [],
   "metadata": {}
  },
  {
   "cell_type": "code",
   "execution_count": 161,
   "source": [
    "hp_fin = dfs_test_hp.merge(dl_test_hp, on = ['date','sku'], how = 'inner')\r\n",
    "hp_fin = hp_fin.fillna(0)"
   ],
   "outputs": [],
   "metadata": {}
  },
  {
   "cell_type": "code",
   "execution_count": 96,
   "source": [
    "from sklearn import metrics"
   ],
   "outputs": [],
   "metadata": {}
  },
  {
   "cell_type": "code",
   "execution_count": 122,
   "source": [
    "def wmape(y_true, y_pred):\r\n",
    "    return np.sum(np.abs(y_true - y_pred))/np.sum(np.abs(y_true))\r\n",
    "\r\n",
    "def show_acc(col1, col2, notes = None):\r\n",
    "    print(\"\\nModel Report: \" + notes)\r\n",
    "    print(\"MAE :  {:.4f}\".format(metrics.mean_absolute_error(col1, col2)))\r\n",
    "    print(\"RMSE :  {:.4f}\".format(np.sqrt(metrics.mean_squared_error(col1, col2))))\r\n",
    "    print(\"MAPE :  {:.4f}\".format(metrics.mean_absolute_percentage_error(col1, col2)))\r\n",
    "    print(\"WMAPE :  {:.4f}\".format(wmape(col1, col2)))\r\n",
    "\r\n",
    "# mean_absolute_percentage_error\r\n"
   ],
   "outputs": [],
   "metadata": {}
  },
  {
   "cell_type": "code",
   "execution_count": 121,
   "source": [
    "show_acc(hp_fin['qty_x'],hp_fin['qty_y'], 'inner join, use sku exists in both real and predicted data at the same time')"
   ],
   "outputs": [
    {
     "output_type": "stream",
     "name": "stdout",
     "text": [
      "\n",
      "Model Report: inner join, use sku exists in both test and predicted data\n",
      "MAE :  961.9718\n",
      "RMSE :  12918454.5714\n",
      "MAPE :  3.3393\n",
      "WMAPE :  0.5306\n"
     ]
    }
   ],
   "metadata": {}
  },
  {
   "cell_type": "code",
   "execution_count": 128,
   "source": [
    "# ---\r\n",
    "# 只用存在于真实集的item。\r\n",
    "hp_fin2 = dfs_test_hp.merge(dl_test_hp, on = ['date','sku'], how = 'left')\r\n",
    "hp_fin2 = hp_fin2.fillna(0)"
   ],
   "outputs": [],
   "metadata": {}
  },
  {
   "cell_type": "code",
   "execution_count": 141,
   "source": [
    "show_acc(hp_fin2['qty_x'],hp_fin2['qty_y'], 'left join, use sku exists in real data.')"
   ],
   "outputs": [
    {
     "output_type": "stream",
     "name": "stdout",
     "text": [
      "\n",
      "Model Report: left join, use sku exists in real data.\n",
      "MAE :  934.0967\n",
      "RMSE :  12370226.9804\n",
      "MAPE :  3.2319\n",
      "WMAPE :  0.5350\n"
     ]
    }
   ],
   "metadata": {}
  },
  {
   "cell_type": "code",
   "execution_count": 130,
   "source": [
    "# the trial 2 data"
   ],
   "outputs": [],
   "metadata": {}
  },
  {
   "cell_type": "code",
   "execution_count": 138,
   "source": [
    "hp_fin_data2 = dfs_test_hp.merge(dl_test_hp2, on = ['date','sku'], how = 'inner')\r\n",
    "hp_fin_data2 = hp_fin.fillna(0)\r\n",
    "hp_fin_data22 = dfs_test_hp.merge(dl_test_hp2, on = ['date','sku'], how = 'left')\r\n",
    "hp_fin_data22 = hp_fin.fillna(0)"
   ],
   "outputs": [],
   "metadata": {}
  },
  {
   "cell_type": "code",
   "execution_count": 139,
   "source": [
    "show_acc(hp_fin_data2['qty_x'],hp_fin_data2['qty_y'], 'inner join, use sku exists in both real and predicted data at the same time')"
   ],
   "outputs": [
    {
     "output_type": "stream",
     "name": "stdout",
     "text": [
      "\n",
      "Model Report: inner join, use sku exists in both real and predicted data at the same time\n",
      "MAE :  961.9718\n",
      "RMSE :  12918454.5714\n",
      "MAPE :  3.3393\n",
      "WMAPE :  0.5306\n"
     ]
    }
   ],
   "metadata": {}
  },
  {
   "cell_type": "code",
   "execution_count": 140,
   "source": [
    "show_acc(hp_fin_data22['qty_x'],hp_fin_data22['qty_y'], 'inner join, use sku exists in both real and predicted data at the same time')"
   ],
   "outputs": [
    {
     "output_type": "stream",
     "name": "stdout",
     "text": [
      "\n",
      "Model Report: inner join, use sku exists in both real and predicted data at the same time\n",
      "MAE :  961.9718\n",
      "RMSE :  12918454.5714\n",
      "MAPE :  3.3393\n",
      "WMAPE :  0.5306\n"
     ]
    }
   ],
   "metadata": {}
  },
  {
   "cell_type": "markdown",
   "source": [
    "---\n",
    "sum\n"
   ],
   "metadata": {}
  },
  {
   "cell_type": "code",
   "execution_count": 150,
   "source": [
    "print(['%f' % i for i in dl_test_hp.groupby(['date']).sum()['qty']])"
   ],
   "outputs": [
    {
     "output_type": "stream",
     "name": "stdout",
     "text": [
      "['1671825.868865', '1676409.058759', '1807145.735611']\n"
     ]
    }
   ],
   "metadata": {}
  },
  {
   "cell_type": "code",
   "execution_count": 157,
   "source": [
    "hp_fin.groupby('date').sum()"
   ],
   "outputs": [
    {
     "output_type": "execute_result",
     "data": {
      "text/plain": [
       "           qty_x         qty_y\n",
       "date                          \n",
       "2021-03  2112423  1.611131e+06\n",
       "2021-04  1528153  1.576280e+06\n",
       "2021-05  1522984  1.709204e+06"
      ],
      "text/html": [
       "<div>\n",
       "<style scoped>\n",
       "    .dataframe tbody tr th:only-of-type {\n",
       "        vertical-align: middle;\n",
       "    }\n",
       "\n",
       "    .dataframe tbody tr th {\n",
       "        vertical-align: top;\n",
       "    }\n",
       "\n",
       "    .dataframe thead th {\n",
       "        text-align: right;\n",
       "    }\n",
       "</style>\n",
       "<table border=\"1\" class=\"dataframe\">\n",
       "  <thead>\n",
       "    <tr style=\"text-align: right;\">\n",
       "      <th></th>\n",
       "      <th>qty_x</th>\n",
       "      <th>qty_y</th>\n",
       "    </tr>\n",
       "    <tr>\n",
       "      <th>date</th>\n",
       "      <th></th>\n",
       "      <th></th>\n",
       "    </tr>\n",
       "  </thead>\n",
       "  <tbody>\n",
       "    <tr>\n",
       "      <th>2021-03</th>\n",
       "      <td>2112423</td>\n",
       "      <td>1.611131e+06</td>\n",
       "    </tr>\n",
       "    <tr>\n",
       "      <th>2021-04</th>\n",
       "      <td>1528153</td>\n",
       "      <td>1.576280e+06</td>\n",
       "    </tr>\n",
       "    <tr>\n",
       "      <th>2021-05</th>\n",
       "      <td>1522984</td>\n",
       "      <td>1.709204e+06</td>\n",
       "    </tr>\n",
       "  </tbody>\n",
       "</table>\n",
       "</div>"
      ]
     },
     "metadata": {},
     "execution_count": 157
    }
   ],
   "metadata": {}
  },
  {
   "cell_type": "code",
   "execution_count": 171,
   "source": [
    "report = hp_fin_data22.groupby('date').sum()"
   ],
   "outputs": [],
   "metadata": {}
  },
  {
   "cell_type": "code",
   "execution_count": 178,
   "source": [
    "pd.DataFrame(['%i' % i for i in report['qty_y']], report['qty_x'])"
   ],
   "outputs": [
    {
     "output_type": "execute_result",
     "data": {
      "text/plain": [
       "               0\n",
       "qty_x           \n",
       "2112423  1611131\n",
       "1528153  1576280\n",
       "1522984  1709204"
      ],
      "text/html": [
       "<div>\n",
       "<style scoped>\n",
       "    .dataframe tbody tr th:only-of-type {\n",
       "        vertical-align: middle;\n",
       "    }\n",
       "\n",
       "    .dataframe tbody tr th {\n",
       "        vertical-align: top;\n",
       "    }\n",
       "\n",
       "    .dataframe thead th {\n",
       "        text-align: right;\n",
       "    }\n",
       "</style>\n",
       "<table border=\"1\" class=\"dataframe\">\n",
       "  <thead>\n",
       "    <tr style=\"text-align: right;\">\n",
       "      <th></th>\n",
       "      <th>0</th>\n",
       "    </tr>\n",
       "    <tr>\n",
       "      <th>qty_x</th>\n",
       "      <th></th>\n",
       "    </tr>\n",
       "  </thead>\n",
       "  <tbody>\n",
       "    <tr>\n",
       "      <th>2112423</th>\n",
       "      <td>1611131</td>\n",
       "    </tr>\n",
       "    <tr>\n",
       "      <th>1528153</th>\n",
       "      <td>1576280</td>\n",
       "    </tr>\n",
       "    <tr>\n",
       "      <th>1522984</th>\n",
       "      <td>1709204</td>\n",
       "    </tr>\n",
       "  </tbody>\n",
       "</table>\n",
       "</div>"
      ]
     },
     "metadata": {},
     "execution_count": 178
    }
   ],
   "metadata": {}
  },
  {
   "cell_type": "code",
   "execution_count": null,
   "source": [],
   "outputs": [],
   "metadata": {}
  }
 ]
}