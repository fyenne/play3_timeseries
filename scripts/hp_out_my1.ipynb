{
 "metadata": {
  "language_info": {
   "codemirror_mode": {
    "name": "ipython",
    "version": 3
   },
   "file_extension": ".py",
   "mimetype": "text/x-python",
   "name": "python",
   "nbconvert_exporter": "python",
   "pygments_lexer": "ipython3",
   "version": "3.8.8"
  },
  "orig_nbformat": 4,
  "kernelspec": {
   "name": "python3",
   "display_name": "Python 3.8.8 64-bit ('siming': conda)"
  },
  "interpreter": {
   "hash": "47b50d2908d96196e4220cfb4e81faa93803065ea975497e7026f672c1f58470"
  }
 },
 "nbformat": 4,
 "nbformat_minor": 2,
 "cells": [
  {
   "cell_type": "code",
   "execution_count": 1,
   "metadata": {},
   "outputs": [
    {
     "output_type": "execute_result",
     "data": {
      "text/plain": [
       "'c:\\\\Users\\\\dscshap3808\\\\Documents\\\\data\\\\dlwisdom\\\\scripts'"
      ]
     },
     "metadata": {},
     "execution_count": 1
    }
   ],
   "source": [
    "import os\n",
    "import pandas as pd\n",
    "import numpy as np\n",
    "import re \n",
    "\n",
    "from mlxtend.regressor import StackingRegressor\n",
    "\n",
    "from sklearn.linear_model import LinearRegression\n",
    "from sklearn.linear_model import Ridge\n",
    "\n",
    "from sklearn.ensemble import RandomForestRegressor\n",
    "from sklearn.ensemble import AdaBoostRegressor\n",
    "from sklearn.ensemble import GradientBoostingRegressor\n",
    "os.getcwd()"
   ]
  },
  {
   "cell_type": "code",
   "execution_count": 2,
   "metadata": {},
   "outputs": [
    {
     "output_type": "execute_result",
     "data": {
      "text/plain": [
       "['2019 outbound', '2020 outbound', '2021 outbound', 'inbound_hp']"
      ]
     },
     "metadata": {},
     "execution_count": 2
    }
   ],
   "source": [
    "path = 'Q:\\\\SHA_KQ\\\\Digital Intelligence\\\\深度赋智-AI\\\\FTP\\\\hp_train' \n",
    "os.listdir(path)"
   ]
  },
  {
   "cell_type": "code",
   "execution_count": 4,
   "metadata": {},
   "outputs": [],
   "source": [
    "li = []\n",
    "for fname in os.listdir(path):\n",
    "    if re.search(r'ound$', fname):\n",
    "        li.append(path + '\\\\' + fname + '\\\\')\n",
    "li2 = []\n",
    "li2 = [[i + t for t in os.listdir(i)] for i in li]        \n",
    "       "
   ]
  },
  {
   "cell_type": "code",
   "execution_count": 60,
   "metadata": {},
   "outputs": [],
   "source": [
    "dfs = pd.DataFrame()\n",
    "for i in np.arange(1,3):\n",
    "    for t in li2[i]:\n",
    "        dfs = pd.concat([dfs, pd.read_excel(t)], ignore_index=True, axis = 0)\n",
    "\n",
    "dfsave = dfs"
   ]
  },
  {
   "cell_type": "code",
   "execution_count": 62,
   "metadata": {},
   "outputs": [],
   "source": [
    "dfs['SADate'] = dfs.loc[:,'SADate'].astype(str).str.extract(r'(.{10})')"
   ]
  },
  {
   "cell_type": "code",
   "execution_count": 64,
   "metadata": {},
   "outputs": [
    {
     "output_type": "execute_result",
     "data": {
      "text/plain": [
       "Index(['DN', 'SADate', 'Del. Date', 'Route', 'RDD', 'ship_pt', 'PO', 'OrderNo',\n",
       "       'Item', 'PL', 'PartNo', 'Qty', 'GW', '是否扫描', 'PCS/PLT', 'City',\n",
       "       'Ship_to', 'FRemark', 'DESCRIPTION', 'Shipto', 'company', 'address',\n",
       "       'contact', 'tel', 'Delivery Date', 'Item #', 'Unnamed: 11', 'scan',\n",
       "       'Unnamed: 20', 'Unnamed: 21', 'Unnamed: 22', ' qty'],\n",
       "      dtype='object')"
      ]
     },
     "metadata": {},
     "execution_count": 64
    }
   ],
   "source": [
    "dfs.columns"
   ]
  },
  {
   "cell_type": "code",
   "execution_count": 66,
   "metadata": {},
   "outputs": [],
   "source": [
    "dfs_train = dfs.groupby(['SADate', 'PartNo'], as_index=False).sum()\n",
    "dfs_train = dfs_train[['SADate', 'PartNo','Qty']]\n",
    "dfs_train.columns = ['date', 'name', 'quant']"
   ]
  },
  {
   "cell_type": "code",
   "execution_count": 74,
   "metadata": {},
   "outputs": [
    {
     "output_type": "execute_result",
     "data": {
      "text/plain": [
       "1814"
      ]
     },
     "metadata": {},
     "execution_count": 74
    }
   ],
   "source": [
    "len(dfs_train['name'].unique())"
   ]
  },
  {
   "cell_type": "code",
   "execution_count": 77,
   "metadata": {},
   "outputs": [
    {
     "output_type": "execute_result",
     "data": {
      "text/plain": [
       "0       2020-01-02\n",
       "1       2020-01-02\n",
       "2       2020-01-02\n",
       "3       2020-01-02\n",
       "4       2020-01-02\n",
       "           ...    \n",
       "81269   2021-02-26\n",
       "81270   2021-02-26\n",
       "81271   2021-02-26\n",
       "81272   2021-02-26\n",
       "81273   2021-02-26\n",
       "Name: date, Length: 81274, dtype: datetime64[ns]"
      ]
     },
     "metadata": {},
     "execution_count": 77
    }
   ],
   "source": [
    "pd.to_datetime(dfs_train['date'])"
   ]
  },
  {
   "cell_type": "code",
   "execution_count": null,
   "metadata": {},
   "outputs": [],
   "source": []
  }
 ]
}