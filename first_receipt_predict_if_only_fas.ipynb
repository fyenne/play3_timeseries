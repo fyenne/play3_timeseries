{
    "cells": [
        {
            "cell_type": "markdown",
            "source": [
                "---\r\n",
                "# first in receipt prediction on multiple targets, fas data set "
            ],
            "metadata": {}
        },
        {
            "cell_type": "code",
            "execution_count": 1,
            "source": [
                "import pandas as pd\r\n",
                "import numpy as np\r\n",
                "import matplotlib  \r\n",
                "import seaborn as sns\r\n",
                "import plotly.express as px\r\n",
                "import plotly.graph_objs as go\r\n",
                "from plotly.tools import FigureFactory as FF\r\n",
                "import re\r\n",
                "import os\r\n",
                "from datetime import datetime\r\n",
                "os.getcwd()"
            ],
            "outputs": [
                {
                    "output_type": "execute_result",
                    "data": {
                        "text/plain": [
                            "'c:\\\\Users\\\\dscshap3808\\\\Documents\\\\my_scripts_new\\\\play3_first_pre_time_series'"
                        ]
                    },
                    "metadata": {},
                    "execution_count": 1
                }
            ],
            "metadata": {}
        },
        {
            "cell_type": "code",
            "execution_count": 3,
            "source": [
                "# df = pd.read_clipboard()\r\n",
                "# df.to_csv('./fas_057_rh.csv', index = False, encoding='utf_8_sig')\r\n",
                "df = pd.read_csv('./fas_057_rh.csv')\r\n",
                "df = df.fillna(method = 'ffill')\r\n",
                "df_test = pd.read_csv('./fas_inbhdr_test.csv')\r\n",
                "df_test = df_test.fillna(method = 'ffill')\r\n",
                "# df_test.columns = [re.sub(r'.+\\.','',i) for i in df_test.columns]\r\n",
                "df_test = df_test[df_test['RECEIPT_DATE'] > '2021-05-10']\r\n"
            ],
            "outputs": [],
            "metadata": {}
        },
        {
            "cell_type": "code",
            "execution_count": 4,
            "source": [
                "df.columns = [i.upper() for i in df.columns.to_numpy()]\r\n",
                "df_test.columns = [i.upper() for i in df_test.columns.to_numpy()]\r\n",
                "\r\n",
                "def date_mutate(col, df):\r\n",
                "    df[col + '_TIME'] = df[col].str.slice(11,-1).astype(str)\r\n",
                "    df[col] = df[col].str.slice(0,10)\r\n",
                "    df[col + '_2'] = [datetime.strptime(i,'%H:%M:%S.%f').strftime('%H%M%S') \\\r\n",
                "        for i in df[col + '_TIME']]\r\n",
                "    return df.head(1)\r\n",
                "\r\n",
                "for i in df.columns[df.columns.str.contains(r'date|DATE')].to_numpy():\r\n",
                "    date_mutate(i, df)\r\n",
                "\r\n",
                "\r\n",
                "first_df = df.groupby(\r\n",
                "    'CREATION_DATE_TIME_STAMP'\r\n",
                "    )['CREATION_DATE_TIME_STAMP_2'].min().reset_index();first_df\r\n",
                "\r\n",
                "\r\n",
                "first_df = first_df.merge(\r\n",
                "    df, \r\n",
                "    on = ['CREATION_DATE_TIME_STAMP', 'CREATION_DATE_TIME_STAMP_2'], \r\n",
                "    how = 'inner')\r\n",
                "\r\n",
                "\r\n",
                "\r\n",
                "for i in df_test.columns[df_test.columns.str.contains(r'date|DATE')].to_numpy():\r\n",
                "    date_mutate(i, df_test)\r\n",
                "\r\n",
                "df_test_first = df_test.groupby(\r\n",
                "    'CREATION_DATE_TIME_STAMP'\r\n",
                "    )['CREATION_DATE_TIME_STAMP_2'].min().reset_index()\r\n",
                "\r\n",
                "\r\n",
                "df_test_first = df_test_first.merge(\r\n",
                "    df_test, \r\n",
                "    on = ['CREATION_DATE_TIME_STAMP', 'CREATION_DATE_TIME_STAMP_2'], \r\n",
                "    how = 'inner')"
            ],
            "outputs": [],
            "metadata": {}
        },
        {
            "cell_type": "code",
            "execution_count": 5,
            "source": [
                "def data_mani(first_df, df):\r\n",
                "    train_first = first_df.groupby(\r\n",
                "        'CREATION_DATE_TIME_STAMP'\r\n",
                "        ).agg({'RECEIPT_ID':['nunique'], \r\n",
                "        'TOTAL_LINES': ['sum'], \r\n",
                "        'TOTAL_CONTAINERS': 'sum', \r\n",
                "        'TOTAL_WEIGHT':'sum',\r\n",
                "        'TOTAL_QTY': ['sum'],\r\n",
                "        'CREATION_DATE_TIME_STAMP_2': 'min' }).reset_index()\r\n",
                "        \r\n",
                "    train_full = df.groupby(\r\n",
                "        'CREATION_DATE_TIME_STAMP'\r\n",
                "        ).agg({'RECEIPT_ID':['nunique'], \r\n",
                "        'TOTAL_LINES': ['sum'], \r\n",
                "        'TOTAL_CONTAINERS': 'sum', \r\n",
                "        'TOTAL_WEIGHT':'sum',\r\n",
                "        'TOTAL_QTY': ['sum'],\r\n",
                "        'CREATION_DATE_TIME_STAMP_2': 'max' }).reset_index()\r\n",
                "\r\n",
                "    train_full.columns = ['CREATION_DATE_TIME_STAMP','id', 'line_sum', 'container_sum', 'weight', 'qty', 'creat_time']\r\n",
                "    train_first.columns = ['CREATION_DATE_TIME_STAMP','id', 'line_sum', 'container_sum', 'weight', 'qty', 'creat_time']\r\n",
                "\r\n",
                "    train_first.index= pd.to_datetime(train_first['CREATION_DATE_TIME_STAMP'], \\\r\n",
                "        yearfirst = True,  format='%Y-%m-%d')\r\n",
                "    train_full.index = train_full['CREATION_DATE_TIME_STAMP']\r\n",
                "    train_full.index = pd.DatetimeIndex(train_full.index)\r\n",
                "\r\n",
                "    train_full['CREATION_DATE_TIME_STAMP'] = pd.to_datetime(train_full['CREATION_DATE_TIME_STAMP'])\r\n",
                "    train_first['CREATION_DATE_TIME_STAMP'] = pd.to_datetime(train_first['CREATION_DATE_TIME_STAMP'])\r\n",
                "    return train_first  , train_full \r\n",
                "\r\n"
            ],
            "outputs": [],
            "metadata": {}
        },
        {
            "cell_type": "code",
            "execution_count": 6,
            "source": [
                "train_first, train_full = data_mani(first_df, df)\r\n",
                "test_first, test_full = data_mani(df_test_first, df_test)"
            ],
            "outputs": [],
            "metadata": {}
        },
        {
            "cell_type": "code",
            "execution_count": 31,
            "source": [
                "# sns.scatterplot(x = 'container_sum', y  ='qty', color = 'red' , data = train_full)"
            ],
            "outputs": [],
            "metadata": {}
        },
        {
            "cell_type": "code",
            "execution_count": 32,
            "source": [
                "# sns.histplot(train_first['qty'],color = 'red' )"
            ],
            "outputs": [],
            "metadata": {}
        },
        {
            "cell_type": "code",
            "execution_count": 33,
            "source": [
                "# sns.histplot(train_full['qty'],color = 'red' )"
            ],
            "outputs": [],
            "metadata": {}
        },
        {
            "cell_type": "markdown",
            "source": [
                "---"
            ],
            "metadata": {}
        },
        {
            "cell_type": "markdown",
            "source": [
                "## deal with outbound data"
            ],
            "metadata": {}
        },
        {
            "cell_type": "code",
            "execution_count": 10,
            "source": [
                "# ob_train = pd.read_csv('./outb_fas.csv', parse_dates=['date'])\r\n",
                "# ob_train = ob_train.dropna(how = 'all', axis = 1)"
            ],
            "outputs": [],
            "metadata": {}
        },
        {
            "cell_type": "markdown",
            "source": [
                "--- "
            ],
            "metadata": {}
        },
        {
            "cell_type": "code",
            "execution_count": null,
            "source": [
                "# train_first.index= pd.to_datetime(train_first['CREATION_DATE_TIME_STAMP'], yearfirst = True,  format='%Y-%m-%d')\r\n",
                "# train_first.pop('CREATION_DATE_TIME_STAMP')\r\n",
                "# train_full.pop('CREATION_DATE_TIME_STAMP')\r\n",
                "# train_full['qty'] = train_full['qty'].astype(int)\r\n",
                "# train_first['qty'] = train_first['qty'].astype(int)\r\n",
                "# train_first['qty2'] = train_full['qty'].to_numpy() ; train_first\r\n",
                "\r\n",
                "# train_first = train_first.reset_index()\r\n",
                "# train_first.drop(['qty2','CREATION_DATE_TIME_STAMP','creat_time'], axis =1) "
            ],
            "outputs": [],
            "metadata": {}
        },
        {
            "cell_type": "markdown",
            "source": [
                "# sktime; timeseries only prediction on trainfull\r\n"
            ],
            "metadata": {}
        },
        {
            "cell_type": "code",
            "execution_count": 71,
            "source": [
                "# train_full.index = train_full['CREATION_DATE_TIME_STAMP']\r\n",
                "# train_full.index = pd.DatetimeIndex(train_full.index);train_full.index\r\n",
                "train_full_sktime = train_full.asfreq('D')\r\n",
                "train_full_sktime = train_full_sktime.fillna(0);train_full_sktime\r\n"
            ],
            "outputs": [
                {
                    "output_type": "execute_result",
                    "data": {
                        "text/html": [
                            "<div>\n",
                            "<style scoped>\n",
                            "    .dataframe tbody tr th:only-of-type {\n",
                            "        vertical-align: middle;\n",
                            "    }\n",
                            "\n",
                            "    .dataframe tbody tr th {\n",
                            "        vertical-align: top;\n",
                            "    }\n",
                            "\n",
                            "    .dataframe thead th {\n",
                            "        text-align: right;\n",
                            "    }\n",
                            "</style>\n",
                            "<table border=\"1\" class=\"dataframe\">\n",
                            "  <thead>\n",
                            "    <tr style=\"text-align: right;\">\n",
                            "      <th></th>\n",
                            "      <th>CREATION_DATE_TIME_STAMP</th>\n",
                            "      <th>id</th>\n",
                            "      <th>line_sum</th>\n",
                            "      <th>container_sum</th>\n",
                            "      <th>weight</th>\n",
                            "      <th>qty</th>\n",
                            "      <th>creat_time</th>\n",
                            "    </tr>\n",
                            "    <tr>\n",
                            "      <th>CREATION_DATE_TIME_STAMP</th>\n",
                            "      <th></th>\n",
                            "      <th></th>\n",
                            "      <th></th>\n",
                            "      <th></th>\n",
                            "      <th></th>\n",
                            "      <th></th>\n",
                            "      <th></th>\n",
                            "    </tr>\n",
                            "  </thead>\n",
                            "  <tbody>\n",
                            "    <tr>\n",
                            "      <th>2017-09-11</th>\n",
                            "      <td>2017-09-11 00:00:00</td>\n",
                            "      <td>1.000</td>\n",
                            "      <td>2.000</td>\n",
                            "      <td>22.000</td>\n",
                            "      <td>22000.000</td>\n",
                            "      <td>880.000</td>\n",
                            "      <td>032456</td>\n",
                            "    </tr>\n",
                            "    <tr>\n",
                            "      <th>2017-09-12</th>\n",
                            "      <td>2017-09-12 00:00:00</td>\n",
                            "      <td>9.000</td>\n",
                            "      <td>30.000</td>\n",
                            "      <td>96.000</td>\n",
                            "      <td>850242.840</td>\n",
                            "      <td>512046.000</td>\n",
                            "      <td>084029</td>\n",
                            "    </tr>\n",
                            "    <tr>\n",
                            "      <th>2017-09-13</th>\n",
                            "      <td>2017-09-13 00:00:00</td>\n",
                            "      <td>6.000</td>\n",
                            "      <td>9.000</td>\n",
                            "      <td>41.000</td>\n",
                            "      <td>41290.000</td>\n",
                            "      <td>1778.000</td>\n",
                            "      <td>014356</td>\n",
                            "    </tr>\n",
                            "    <tr>\n",
                            "      <th>2017-09-14</th>\n",
                            "      <td>2017-09-14 00:00:00</td>\n",
                            "      <td>11.000</td>\n",
                            "      <td>49.000</td>\n",
                            "      <td>140.000</td>\n",
                            "      <td>121620.000</td>\n",
                            "      <td>16690.000</td>\n",
                            "      <td>071055</td>\n",
                            "    </tr>\n",
                            "    <tr>\n",
                            "      <th>2017-09-15</th>\n",
                            "      <td>2017-09-15 00:00:00</td>\n",
                            "      <td>4.000</td>\n",
                            "      <td>16.000</td>\n",
                            "      <td>36.000</td>\n",
                            "      <td>96619.200</td>\n",
                            "      <td>93797.000</td>\n",
                            "      <td>034049</td>\n",
                            "    </tr>\n",
                            "    <tr>\n",
                            "      <th>...</th>\n",
                            "      <td>...</td>\n",
                            "      <td>...</td>\n",
                            "      <td>...</td>\n",
                            "      <td>...</td>\n",
                            "      <td>...</td>\n",
                            "      <td>...</td>\n",
                            "      <td>...</td>\n",
                            "    </tr>\n",
                            "    <tr>\n",
                            "      <th>2021-05-03</th>\n",
                            "      <td>0</td>\n",
                            "      <td>0.000</td>\n",
                            "      <td>0.000</td>\n",
                            "      <td>0.000</td>\n",
                            "      <td>0.000</td>\n",
                            "      <td>0.000</td>\n",
                            "      <td>0</td>\n",
                            "    </tr>\n",
                            "    <tr>\n",
                            "      <th>2021-05-04</th>\n",
                            "      <td>0</td>\n",
                            "      <td>0.000</td>\n",
                            "      <td>0.000</td>\n",
                            "      <td>0.000</td>\n",
                            "      <td>0.000</td>\n",
                            "      <td>0.000</td>\n",
                            "      <td>0</td>\n",
                            "    </tr>\n",
                            "    <tr>\n",
                            "      <th>2021-05-05</th>\n",
                            "      <td>0</td>\n",
                            "      <td>0.000</td>\n",
                            "      <td>0.000</td>\n",
                            "      <td>0.000</td>\n",
                            "      <td>0.000</td>\n",
                            "      <td>0.000</td>\n",
                            "      <td>0</td>\n",
                            "    </tr>\n",
                            "    <tr>\n",
                            "      <th>2021-05-06</th>\n",
                            "      <td>0</td>\n",
                            "      <td>0.000</td>\n",
                            "      <td>0.000</td>\n",
                            "      <td>0.000</td>\n",
                            "      <td>0.000</td>\n",
                            "      <td>0.000</td>\n",
                            "      <td>0</td>\n",
                            "    </tr>\n",
                            "    <tr>\n",
                            "      <th>2021-05-07</th>\n",
                            "      <td>2021-05-07 00:00:00</td>\n",
                            "      <td>1.000</td>\n",
                            "      <td>2.000</td>\n",
                            "      <td>17.000</td>\n",
                            "      <td>9292.500</td>\n",
                            "      <td>5400.000</td>\n",
                            "      <td>084451</td>\n",
                            "    </tr>\n",
                            "  </tbody>\n",
                            "</table>\n",
                            "<p>1335 rows × 7 columns</p>\n",
                            "</div>"
                        ],
                        "text/plain": [
                            "                         CREATION_DATE_TIME_STAMP     id  line_sum  \\\n",
                            "CREATION_DATE_TIME_STAMP                                             \n",
                            "2017-09-11                    2017-09-11 00:00:00  1.000     2.000   \n",
                            "2017-09-12                    2017-09-12 00:00:00  9.000    30.000   \n",
                            "2017-09-13                    2017-09-13 00:00:00  6.000     9.000   \n",
                            "2017-09-14                    2017-09-14 00:00:00 11.000    49.000   \n",
                            "2017-09-15                    2017-09-15 00:00:00  4.000    16.000   \n",
                            "...                                           ...    ...       ...   \n",
                            "2021-05-03                                      0  0.000     0.000   \n",
                            "2021-05-04                                      0  0.000     0.000   \n",
                            "2021-05-05                                      0  0.000     0.000   \n",
                            "2021-05-06                                      0  0.000     0.000   \n",
                            "2021-05-07                    2021-05-07 00:00:00  1.000     2.000   \n",
                            "\n",
                            "                          container_sum     weight        qty creat_time  \n",
                            "CREATION_DATE_TIME_STAMP                                                  \n",
                            "2017-09-11                       22.000  22000.000    880.000     032456  \n",
                            "2017-09-12                       96.000 850242.840 512046.000     084029  \n",
                            "2017-09-13                       41.000  41290.000   1778.000     014356  \n",
                            "2017-09-14                      140.000 121620.000  16690.000     071055  \n",
                            "2017-09-15                       36.000  96619.200  93797.000     034049  \n",
                            "...                                 ...        ...        ...        ...  \n",
                            "2021-05-03                        0.000      0.000      0.000          0  \n",
                            "2021-05-04                        0.000      0.000      0.000          0  \n",
                            "2021-05-05                        0.000      0.000      0.000          0  \n",
                            "2021-05-06                        0.000      0.000      0.000          0  \n",
                            "2021-05-07                       17.000   9292.500   5400.000     084451  \n",
                            "\n",
                            "[1335 rows x 7 columns]"
                        ]
                    },
                    "metadata": {},
                    "execution_count": 71
                }
            ],
            "metadata": {}
        },
        {
            "cell_type": "code",
            "execution_count": 72,
            "source": [
                "from sktime.forecasting.arima import AutoARIMA\r\n",
                "from sktime.forecasting.base import ForecastingHorizon\r\n",
                "from sktime.forecasting.theta import ThetaForecaster\r\n",
                "from sktime.forecasting.naive import NaiveForecaster\r\n",
                "from sktime.regression import ComposableTimeSeriesForestRegressor\r\n",
                "from sktime.forecasting.model_selection import temporal_train_test_split\r\n",
                "from sklearn.metrics import mean_absolute_percentage_error\r\n",
                "\r\n",
                "x = train_full_sktime.drop(['qty', 'CREATION_DATE_TIME_STAMP', 'creat_time'], axis = 1)\r\n",
                "y = train_full_sktime.loc[:,'qty']\r\n",
                "x_train, x_test , y_train, y_test = temporal_train_test_split(x, y)\r\n",
                "#\r\n",
                "#  # fh = ForecastingHorizon(x_test, is_relative=False)\r\n",
                "# forecaster = ComposableTimeSeriesForestRegressor(x = x_train, y = y_train)\r\n",
                "# forecaster.fit(x_train ,y = y_train)\r\n",
                "# y_pred = forecaster.predict(x_test)\r\n",
                "# mean_absolute_percentage_error(y_test, y_pred)\r\n",
                "\r\n",
                "forecaster = NaiveForecaster(sp = 21)\r\n",
                "forecaster.fit(y_train)\r\n",
                "\r\n",
                "fh = ForecastingHorizon(y_test.index, is_relative=False)\r\n",
                "y_pred = forecaster.predict(fh )\r\n",
                "mean_absolute_percentage_error(y_test, y_pred)\r\n",
                "\r\n"
            ],
            "outputs": [
                {
                    "output_type": "stream",
                    "name": "stderr",
                    "text": [
                        "C:\\Users\\dscshap3808\\Miniconda3\\envs\\siming\\lib\\site-packages\\sktime\\forecasting\\base\\_fh.py:451: FutureWarning:\n",
                        "\n",
                        "Timestamp.freqstr is deprecated and will be removed in a future version.\n",
                        "\n",
                        "C:\\Users\\dscshap3808\\Miniconda3\\envs\\siming\\lib\\site-packages\\sktime\\forecasting\\base\\_fh.py:461: FutureWarning:\n",
                        "\n",
                        "Timestamp.freqstr is deprecated and will be removed in a future version.\n",
                        "\n",
                        "C:\\Users\\dscshap3808\\Miniconda3\\envs\\siming\\lib\\site-packages\\sktime\\utils\\datetime.py:65: FutureWarning:\n",
                        "\n",
                        "Timestamp.freqstr is deprecated and will be removed in a future version.\n",
                        "\n",
                        "C:\\Users\\dscshap3808\\Miniconda3\\envs\\siming\\lib\\site-packages\\sktime\\utils\\datetime.py:66: FutureWarning:\n",
                        "\n",
                        "Timestamp.freqstr is deprecated and will be removed in a future version.\n",
                        "\n",
                        "C:\\Users\\dscshap3808\\Miniconda3\\envs\\siming\\lib\\site-packages\\sktime\\utils\\datetime.py:88: FutureWarning:\n",
                        "\n",
                        "Timestamp.freq is deprecated and will be removed in a future version\n",
                        "\n",
                        "C:\\Users\\dscshap3808\\Miniconda3\\envs\\siming\\lib\\site-packages\\sktime\\utils\\datetime.py:90: FutureWarning:\n",
                        "\n",
                        "Timestamp.freq is deprecated and will be removed in a future version\n",
                        "\n"
                    ]
                },
                {
                    "output_type": "execute_result",
                    "data": {
                        "text/plain": [
                            "5.912689654254918e+19"
                        ]
                    },
                    "metadata": {},
                    "execution_count": 72
                }
            ],
            "metadata": {}
        },
        {
            "cell_type": "code",
            "execution_count": 6,
            "source": [
                "from sktime.regression.interval_based import  TimeSeriesForestRegressor"
            ],
            "outputs": [],
            "metadata": {}
        },
        {
            "cell_type": "code",
            "execution_count": 74,
            "source": [
                "x_train.shape[1]"
            ],
            "outputs": [
                {
                    "output_type": "execute_result",
                    "data": {
                        "text/plain": [
                            "4"
                        ]
                    },
                    "metadata": {},
                    "execution_count": 74
                }
            ],
            "metadata": {}
        },
        {
            "cell_type": "code",
            "execution_count": null,
            "source": [
                "# forecaster = TimeSeriesForestRegressor( )\r\n",
                "# # fh = ForecastingHorizon(x_test, is_relative=False)\r\n",
                "# forecaster.fit(X = x_train,  y = y_train)\r\n",
                "# y_pred = forecaster.predict(x_test)\r\n",
                "# mean_absolute_percentage_error(y_test, y_pred)"
            ],
            "outputs": [],
            "metadata": {}
        },
        {
            "cell_type": "markdown",
            "source": [
                "---\r\n",
                "\r\n",
                "# prophet prepare"
            ],
            "metadata": {}
        },
        {
            "cell_type": "code",
            "execution_count": 11,
            "source": [
                "# train_full = train_full_sktime\r\n",
                "train_full = train_full.asfreq('D')\r\n",
                "train_full = train_full.fillna(0) \r\n",
                "train_first = train_first.asfreq('D')\r\n",
                "train_first = train_first.fillna(0)\r\n",
                "train_full['CREATION_DATE_TIME_STAMP'] = train_full.index\r\n",
                "train_first['CREATION_DATE_TIME_STAMP'] = train_first.index\r\n",
                "\r\n",
                "\r\n",
                "# train_full\r\n",
                "train_full = train_full.reset_index(drop =True)\r\n",
                "train_first = train_first.reset_index(drop =True)\r\n",
                "\r\n",
                "train_fin = train_full.merge(train_first, \r\n",
                "    on = 'CREATION_DATE_TIME_STAMP', \r\n",
                "    how = 'outer',\r\n",
                "    suffixes = ['_full', '_first'])\r\n",
                "train_fin = train_fin.fillna(0);train_fin"
            ],
            "outputs": [
                {
                    "output_type": "execute_result",
                    "data": {
                        "text/html": [
                            "<div>\n",
                            "<style scoped>\n",
                            "    .dataframe tbody tr th:only-of-type {\n",
                            "        vertical-align: middle;\n",
                            "    }\n",
                            "\n",
                            "    .dataframe tbody tr th {\n",
                            "        vertical-align: top;\n",
                            "    }\n",
                            "\n",
                            "    .dataframe thead th {\n",
                            "        text-align: right;\n",
                            "    }\n",
                            "</style>\n",
                            "<table border=\"1\" class=\"dataframe\">\n",
                            "  <thead>\n",
                            "    <tr style=\"text-align: right;\">\n",
                            "      <th></th>\n",
                            "      <th>CREATION_DATE_TIME_STAMP</th>\n",
                            "      <th>id_full</th>\n",
                            "      <th>line_sum_full</th>\n",
                            "      <th>container_sum_full</th>\n",
                            "      <th>weight_full</th>\n",
                            "      <th>qty_full</th>\n",
                            "      <th>creat_time_full</th>\n",
                            "      <th>id_first</th>\n",
                            "      <th>line_sum_first</th>\n",
                            "      <th>container_sum_first</th>\n",
                            "      <th>weight_first</th>\n",
                            "      <th>qty_first</th>\n",
                            "      <th>creat_time_first</th>\n",
                            "    </tr>\n",
                            "  </thead>\n",
                            "  <tbody>\n",
                            "    <tr>\n",
                            "      <th>0</th>\n",
                            "      <td>2017-09-11</td>\n",
                            "      <td>1.0</td>\n",
                            "      <td>2.0</td>\n",
                            "      <td>22.0</td>\n",
                            "      <td>22000.00</td>\n",
                            "      <td>880.0</td>\n",
                            "      <td>032456</td>\n",
                            "      <td>1.0</td>\n",
                            "      <td>2.0</td>\n",
                            "      <td>22.0</td>\n",
                            "      <td>22000.0</td>\n",
                            "      <td>880.0</td>\n",
                            "      <td>032456</td>\n",
                            "    </tr>\n",
                            "    <tr>\n",
                            "      <th>1</th>\n",
                            "      <td>2017-09-12</td>\n",
                            "      <td>9.0</td>\n",
                            "      <td>30.0</td>\n",
                            "      <td>96.0</td>\n",
                            "      <td>850242.84</td>\n",
                            "      <td>512046.0</td>\n",
                            "      <td>084029</td>\n",
                            "      <td>1.0</td>\n",
                            "      <td>1.0</td>\n",
                            "      <td>19.0</td>\n",
                            "      <td>18600.0</td>\n",
                            "      <td>744.0</td>\n",
                            "      <td>050737</td>\n",
                            "    </tr>\n",
                            "    <tr>\n",
                            "      <th>2</th>\n",
                            "      <td>2017-09-13</td>\n",
                            "      <td>6.0</td>\n",
                            "      <td>9.0</td>\n",
                            "      <td>41.0</td>\n",
                            "      <td>41290.00</td>\n",
                            "      <td>1778.0</td>\n",
                            "      <td>014356</td>\n",
                            "      <td>1.0</td>\n",
                            "      <td>1.0</td>\n",
                            "      <td>1.0</td>\n",
                            "      <td>100.0</td>\n",
                            "      <td>4.0</td>\n",
                            "      <td>012211</td>\n",
                            "    </tr>\n",
                            "    <tr>\n",
                            "      <th>3</th>\n",
                            "      <td>2017-09-14</td>\n",
                            "      <td>11.0</td>\n",
                            "      <td>49.0</td>\n",
                            "      <td>140.0</td>\n",
                            "      <td>121620.00</td>\n",
                            "      <td>16690.0</td>\n",
                            "      <td>071055</td>\n",
                            "      <td>1.0</td>\n",
                            "      <td>1.0</td>\n",
                            "      <td>9.0</td>\n",
                            "      <td>8000.0</td>\n",
                            "      <td>6000.0</td>\n",
                            "      <td>002402</td>\n",
                            "    </tr>\n",
                            "    <tr>\n",
                            "      <th>4</th>\n",
                            "      <td>2017-09-15</td>\n",
                            "      <td>4.0</td>\n",
                            "      <td>16.0</td>\n",
                            "      <td>36.0</td>\n",
                            "      <td>96619.20</td>\n",
                            "      <td>93797.0</td>\n",
                            "      <td>034049</td>\n",
                            "      <td>1.0</td>\n",
                            "      <td>2.0</td>\n",
                            "      <td>13.0</td>\n",
                            "      <td>12525.0</td>\n",
                            "      <td>501.0</td>\n",
                            "      <td>014709</td>\n",
                            "    </tr>\n",
                            "    <tr>\n",
                            "      <th>...</th>\n",
                            "      <td>...</td>\n",
                            "      <td>...</td>\n",
                            "      <td>...</td>\n",
                            "      <td>...</td>\n",
                            "      <td>...</td>\n",
                            "      <td>...</td>\n",
                            "      <td>...</td>\n",
                            "      <td>...</td>\n",
                            "      <td>...</td>\n",
                            "      <td>...</td>\n",
                            "      <td>...</td>\n",
                            "      <td>...</td>\n",
                            "      <td>...</td>\n",
                            "    </tr>\n",
                            "    <tr>\n",
                            "      <th>1330</th>\n",
                            "      <td>2021-05-03</td>\n",
                            "      <td>0.0</td>\n",
                            "      <td>0.0</td>\n",
                            "      <td>0.0</td>\n",
                            "      <td>0.00</td>\n",
                            "      <td>0.0</td>\n",
                            "      <td>0</td>\n",
                            "      <td>0.0</td>\n",
                            "      <td>0.0</td>\n",
                            "      <td>0.0</td>\n",
                            "      <td>0.0</td>\n",
                            "      <td>0.0</td>\n",
                            "      <td>0</td>\n",
                            "    </tr>\n",
                            "    <tr>\n",
                            "      <th>1331</th>\n",
                            "      <td>2021-05-04</td>\n",
                            "      <td>0.0</td>\n",
                            "      <td>0.0</td>\n",
                            "      <td>0.0</td>\n",
                            "      <td>0.00</td>\n",
                            "      <td>0.0</td>\n",
                            "      <td>0</td>\n",
                            "      <td>0.0</td>\n",
                            "      <td>0.0</td>\n",
                            "      <td>0.0</td>\n",
                            "      <td>0.0</td>\n",
                            "      <td>0.0</td>\n",
                            "      <td>0</td>\n",
                            "    </tr>\n",
                            "    <tr>\n",
                            "      <th>1332</th>\n",
                            "      <td>2021-05-05</td>\n",
                            "      <td>0.0</td>\n",
                            "      <td>0.0</td>\n",
                            "      <td>0.0</td>\n",
                            "      <td>0.00</td>\n",
                            "      <td>0.0</td>\n",
                            "      <td>0</td>\n",
                            "      <td>0.0</td>\n",
                            "      <td>0.0</td>\n",
                            "      <td>0.0</td>\n",
                            "      <td>0.0</td>\n",
                            "      <td>0.0</td>\n",
                            "      <td>0</td>\n",
                            "    </tr>\n",
                            "    <tr>\n",
                            "      <th>1333</th>\n",
                            "      <td>2021-05-06</td>\n",
                            "      <td>0.0</td>\n",
                            "      <td>0.0</td>\n",
                            "      <td>0.0</td>\n",
                            "      <td>0.00</td>\n",
                            "      <td>0.0</td>\n",
                            "      <td>0</td>\n",
                            "      <td>0.0</td>\n",
                            "      <td>0.0</td>\n",
                            "      <td>0.0</td>\n",
                            "      <td>0.0</td>\n",
                            "      <td>0.0</td>\n",
                            "      <td>0</td>\n",
                            "    </tr>\n",
                            "    <tr>\n",
                            "      <th>1334</th>\n",
                            "      <td>2021-05-07</td>\n",
                            "      <td>1.0</td>\n",
                            "      <td>2.0</td>\n",
                            "      <td>17.0</td>\n",
                            "      <td>9292.50</td>\n",
                            "      <td>5400.0</td>\n",
                            "      <td>084451</td>\n",
                            "      <td>1.0</td>\n",
                            "      <td>2.0</td>\n",
                            "      <td>17.0</td>\n",
                            "      <td>9292.5</td>\n",
                            "      <td>5400.0</td>\n",
                            "      <td>084451</td>\n",
                            "    </tr>\n",
                            "  </tbody>\n",
                            "</table>\n",
                            "<p>1335 rows × 13 columns</p>\n",
                            "</div>"
                        ],
                        "text/plain": [
                            "     CREATION_DATE_TIME_STAMP  id_full  line_sum_full  container_sum_full  \\\n",
                            "0                  2017-09-11      1.0            2.0                22.0   \n",
                            "1                  2017-09-12      9.0           30.0                96.0   \n",
                            "2                  2017-09-13      6.0            9.0                41.0   \n",
                            "3                  2017-09-14     11.0           49.0               140.0   \n",
                            "4                  2017-09-15      4.0           16.0                36.0   \n",
                            "...                       ...      ...            ...                 ...   \n",
                            "1330               2021-05-03      0.0            0.0                 0.0   \n",
                            "1331               2021-05-04      0.0            0.0                 0.0   \n",
                            "1332               2021-05-05      0.0            0.0                 0.0   \n",
                            "1333               2021-05-06      0.0            0.0                 0.0   \n",
                            "1334               2021-05-07      1.0            2.0                17.0   \n",
                            "\n",
                            "      weight_full  qty_full creat_time_full  id_first  line_sum_first  \\\n",
                            "0        22000.00     880.0          032456       1.0             2.0   \n",
                            "1       850242.84  512046.0          084029       1.0             1.0   \n",
                            "2        41290.00    1778.0          014356       1.0             1.0   \n",
                            "3       121620.00   16690.0          071055       1.0             1.0   \n",
                            "4        96619.20   93797.0          034049       1.0             2.0   \n",
                            "...           ...       ...             ...       ...             ...   \n",
                            "1330         0.00       0.0               0       0.0             0.0   \n",
                            "1331         0.00       0.0               0       0.0             0.0   \n",
                            "1332         0.00       0.0               0       0.0             0.0   \n",
                            "1333         0.00       0.0               0       0.0             0.0   \n",
                            "1334      9292.50    5400.0          084451       1.0             2.0   \n",
                            "\n",
                            "      container_sum_first  weight_first  qty_first creat_time_first  \n",
                            "0                    22.0       22000.0      880.0           032456  \n",
                            "1                    19.0       18600.0      744.0           050737  \n",
                            "2                     1.0         100.0        4.0           012211  \n",
                            "3                     9.0        8000.0     6000.0           002402  \n",
                            "4                    13.0       12525.0      501.0           014709  \n",
                            "...                   ...           ...        ...              ...  \n",
                            "1330                  0.0           0.0        0.0                0  \n",
                            "1331                  0.0           0.0        0.0                0  \n",
                            "1332                  0.0           0.0        0.0                0  \n",
                            "1333                  0.0           0.0        0.0                0  \n",
                            "1334                 17.0        9292.5     5400.0           084451  \n",
                            "\n",
                            "[1335 rows x 13 columns]"
                        ]
                    },
                    "metadata": {},
                    "execution_count": 11
                }
            ],
            "metadata": {}
        },
        {
            "cell_type": "code",
            "execution_count": 12,
            "source": [
                "# train_full = train_full_sktime\r\n",
                "test_full  = test_full.asfreq('D')\r\n",
                "test_full  = test_full.fillna(0) \r\n",
                "test_first = test_first.asfreq('D')\r\n",
                "test_first = test_first.fillna(0)\r\n",
                "test_full['CREATION_DATE_TIME_STAMP']  = test_full.index\r\n",
                "test_first['CREATION_DATE_TIME_STAMP'] = test_first.index\r\n",
                "\r\n",
                "\r\n",
                "# train_full\r\n",
                "test_full  = test_full.reset_index(drop =True)\r\n",
                "test_first = test_first.reset_index(drop =True)\r\n",
                "\r\n",
                "test_fin = test_full.merge(test_first, \r\n",
                "    on    = 'CREATION_DATE_TIME_STAMP', \r\n",
                "    how   = 'outer',\r\n",
                "    suffixes = ['_full', '_first'])\r\n",
                "\r\n",
                "test_fin = test_fin.fillna(0);test_fin"
            ],
            "outputs": [
                {
                    "output_type": "execute_result",
                    "data": {
                        "text/html": [
                            "<div>\n",
                            "<style scoped>\n",
                            "    .dataframe tbody tr th:only-of-type {\n",
                            "        vertical-align: middle;\n",
                            "    }\n",
                            "\n",
                            "    .dataframe tbody tr th {\n",
                            "        vertical-align: top;\n",
                            "    }\n",
                            "\n",
                            "    .dataframe thead th {\n",
                            "        text-align: right;\n",
                            "    }\n",
                            "</style>\n",
                            "<table border=\"1\" class=\"dataframe\">\n",
                            "  <thead>\n",
                            "    <tr style=\"text-align: right;\">\n",
                            "      <th></th>\n",
                            "      <th>CREATION_DATE_TIME_STAMP</th>\n",
                            "      <th>id_full</th>\n",
                            "      <th>line_sum_full</th>\n",
                            "      <th>container_sum_full</th>\n",
                            "      <th>weight_full</th>\n",
                            "      <th>qty_full</th>\n",
                            "      <th>creat_time_full</th>\n",
                            "      <th>id_first</th>\n",
                            "      <th>line_sum_first</th>\n",
                            "      <th>container_sum_first</th>\n",
                            "      <th>weight_first</th>\n",
                            "      <th>qty_first</th>\n",
                            "      <th>creat_time_first</th>\n",
                            "    </tr>\n",
                            "  </thead>\n",
                            "  <tbody>\n",
                            "    <tr>\n",
                            "      <th>0</th>\n",
                            "      <td>2021-05-10</td>\n",
                            "      <td>1.0</td>\n",
                            "      <td>1.0</td>\n",
                            "      <td>2.0</td>\n",
                            "      <td>16196.60</td>\n",
                            "      <td>12072.0</td>\n",
                            "      <td>080914</td>\n",
                            "      <td>1.0</td>\n",
                            "      <td>1.0</td>\n",
                            "      <td>2.0</td>\n",
                            "      <td>16196.60</td>\n",
                            "      <td>12072.0</td>\n",
                            "      <td>080914</td>\n",
                            "    </tr>\n",
                            "    <tr>\n",
                            "      <th>1</th>\n",
                            "      <td>2021-05-11</td>\n",
                            "      <td>4.0</td>\n",
                            "      <td>13.0</td>\n",
                            "      <td>35.0</td>\n",
                            "      <td>66215.82</td>\n",
                            "      <td>51258.0</td>\n",
                            "      <td>090427</td>\n",
                            "      <td>1.0</td>\n",
                            "      <td>2.0</td>\n",
                            "      <td>2.0</td>\n",
                            "      <td>22075.20</td>\n",
                            "      <td>17280.0</td>\n",
                            "      <td>025243</td>\n",
                            "    </tr>\n",
                            "    <tr>\n",
                            "      <th>2</th>\n",
                            "      <td>2021-05-12</td>\n",
                            "      <td>11.0</td>\n",
                            "      <td>20.0</td>\n",
                            "      <td>135.0</td>\n",
                            "      <td>172374.90</td>\n",
                            "      <td>232776.0</td>\n",
                            "      <td>080112</td>\n",
                            "      <td>1.0</td>\n",
                            "      <td>1.0</td>\n",
                            "      <td>12.0</td>\n",
                            "      <td>16655.10</td>\n",
                            "      <td>13860.0</td>\n",
                            "      <td>012919</td>\n",
                            "    </tr>\n",
                            "    <tr>\n",
                            "      <th>3</th>\n",
                            "      <td>2021-05-13</td>\n",
                            "      <td>0.0</td>\n",
                            "      <td>0.0</td>\n",
                            "      <td>0.0</td>\n",
                            "      <td>0.00</td>\n",
                            "      <td>0.0</td>\n",
                            "      <td>0</td>\n",
                            "      <td>0.0</td>\n",
                            "      <td>0.0</td>\n",
                            "      <td>0.0</td>\n",
                            "      <td>0.00</td>\n",
                            "      <td>0.0</td>\n",
                            "      <td>0</td>\n",
                            "    </tr>\n",
                            "    <tr>\n",
                            "      <th>4</th>\n",
                            "      <td>2021-05-14</td>\n",
                            "      <td>2.0</td>\n",
                            "      <td>11.0</td>\n",
                            "      <td>34.0</td>\n",
                            "      <td>16479.23</td>\n",
                            "      <td>12065.0</td>\n",
                            "      <td>081753</td>\n",
                            "      <td>1.0</td>\n",
                            "      <td>8.0</td>\n",
                            "      <td>29.0</td>\n",
                            "      <td>15979.23</td>\n",
                            "      <td>12060.0</td>\n",
                            "      <td>081235</td>\n",
                            "    </tr>\n",
                            "    <tr>\n",
                            "      <th>...</th>\n",
                            "      <td>...</td>\n",
                            "      <td>...</td>\n",
                            "      <td>...</td>\n",
                            "      <td>...</td>\n",
                            "      <td>...</td>\n",
                            "      <td>...</td>\n",
                            "      <td>...</td>\n",
                            "      <td>...</td>\n",
                            "      <td>...</td>\n",
                            "      <td>...</td>\n",
                            "      <td>...</td>\n",
                            "      <td>...</td>\n",
                            "      <td>...</td>\n",
                            "    </tr>\n",
                            "    <tr>\n",
                            "      <th>102</th>\n",
                            "      <td>2021-08-20</td>\n",
                            "      <td>0.0</td>\n",
                            "      <td>0.0</td>\n",
                            "      <td>0.0</td>\n",
                            "      <td>0.00</td>\n",
                            "      <td>0.0</td>\n",
                            "      <td>0</td>\n",
                            "      <td>0.0</td>\n",
                            "      <td>0.0</td>\n",
                            "      <td>0.0</td>\n",
                            "      <td>0.00</td>\n",
                            "      <td>0.0</td>\n",
                            "      <td>0</td>\n",
                            "    </tr>\n",
                            "    <tr>\n",
                            "      <th>103</th>\n",
                            "      <td>2021-08-21</td>\n",
                            "      <td>0.0</td>\n",
                            "      <td>0.0</td>\n",
                            "      <td>0.0</td>\n",
                            "      <td>0.00</td>\n",
                            "      <td>0.0</td>\n",
                            "      <td>0</td>\n",
                            "      <td>0.0</td>\n",
                            "      <td>0.0</td>\n",
                            "      <td>0.0</td>\n",
                            "      <td>0.00</td>\n",
                            "      <td>0.0</td>\n",
                            "      <td>0</td>\n",
                            "    </tr>\n",
                            "    <tr>\n",
                            "      <th>104</th>\n",
                            "      <td>2021-08-22</td>\n",
                            "      <td>0.0</td>\n",
                            "      <td>0.0</td>\n",
                            "      <td>0.0</td>\n",
                            "      <td>0.00</td>\n",
                            "      <td>0.0</td>\n",
                            "      <td>0</td>\n",
                            "      <td>0.0</td>\n",
                            "      <td>0.0</td>\n",
                            "      <td>0.0</td>\n",
                            "      <td>0.00</td>\n",
                            "      <td>0.0</td>\n",
                            "      <td>0</td>\n",
                            "    </tr>\n",
                            "    <tr>\n",
                            "      <th>105</th>\n",
                            "      <td>2021-08-23</td>\n",
                            "      <td>11.0</td>\n",
                            "      <td>12.0</td>\n",
                            "      <td>0.0</td>\n",
                            "      <td>2629700.40</td>\n",
                            "      <td>209580.0</td>\n",
                            "      <td>033211</td>\n",
                            "      <td>1.0</td>\n",
                            "      <td>1.0</td>\n",
                            "      <td>0.0</td>\n",
                            "      <td>199861.20</td>\n",
                            "      <td>13860.0</td>\n",
                            "      <td>032128</td>\n",
                            "    </tr>\n",
                            "    <tr>\n",
                            "      <th>106</th>\n",
                            "      <td>2021-08-24</td>\n",
                            "      <td>8.0</td>\n",
                            "      <td>9.0</td>\n",
                            "      <td>0.0</td>\n",
                            "      <td>3278888.40</td>\n",
                            "      <td>189120.0</td>\n",
                            "      <td>064314</td>\n",
                            "      <td>1.0</td>\n",
                            "      <td>1.0</td>\n",
                            "      <td>0.0</td>\n",
                            "      <td>1044810.00</td>\n",
                            "      <td>73320.0</td>\n",
                            "      <td>063559</td>\n",
                            "    </tr>\n",
                            "  </tbody>\n",
                            "</table>\n",
                            "<p>107 rows × 13 columns</p>\n",
                            "</div>"
                        ],
                        "text/plain": [
                            "    CREATION_DATE_TIME_STAMP  id_full  line_sum_full  container_sum_full  \\\n",
                            "0                 2021-05-10      1.0            1.0                 2.0   \n",
                            "1                 2021-05-11      4.0           13.0                35.0   \n",
                            "2                 2021-05-12     11.0           20.0               135.0   \n",
                            "3                 2021-05-13      0.0            0.0                 0.0   \n",
                            "4                 2021-05-14      2.0           11.0                34.0   \n",
                            "..                       ...      ...            ...                 ...   \n",
                            "102               2021-08-20      0.0            0.0                 0.0   \n",
                            "103               2021-08-21      0.0            0.0                 0.0   \n",
                            "104               2021-08-22      0.0            0.0                 0.0   \n",
                            "105               2021-08-23     11.0           12.0                 0.0   \n",
                            "106               2021-08-24      8.0            9.0                 0.0   \n",
                            "\n",
                            "     weight_full  qty_full creat_time_full  id_first  line_sum_first  \\\n",
                            "0       16196.60   12072.0          080914       1.0             1.0   \n",
                            "1       66215.82   51258.0          090427       1.0             2.0   \n",
                            "2      172374.90  232776.0          080112       1.0             1.0   \n",
                            "3           0.00       0.0               0       0.0             0.0   \n",
                            "4       16479.23   12065.0          081753       1.0             8.0   \n",
                            "..           ...       ...             ...       ...             ...   \n",
                            "102         0.00       0.0               0       0.0             0.0   \n",
                            "103         0.00       0.0               0       0.0             0.0   \n",
                            "104         0.00       0.0               0       0.0             0.0   \n",
                            "105   2629700.40  209580.0          033211       1.0             1.0   \n",
                            "106   3278888.40  189120.0          064314       1.0             1.0   \n",
                            "\n",
                            "     container_sum_first  weight_first  qty_first creat_time_first  \n",
                            "0                    2.0      16196.60    12072.0           080914  \n",
                            "1                    2.0      22075.20    17280.0           025243  \n",
                            "2                   12.0      16655.10    13860.0           012919  \n",
                            "3                    0.0          0.00        0.0                0  \n",
                            "4                   29.0      15979.23    12060.0           081235  \n",
                            "..                   ...           ...        ...              ...  \n",
                            "102                  0.0          0.00        0.0                0  \n",
                            "103                  0.0          0.00        0.0                0  \n",
                            "104                  0.0          0.00        0.0                0  \n",
                            "105                  0.0     199861.20    13860.0           032128  \n",
                            "106                  0.0    1044810.00    73320.0           063559  \n",
                            "\n",
                            "[107 rows x 13 columns]"
                        ]
                    },
                    "metadata": {},
                    "execution_count": 12
                }
            ],
            "metadata": {}
        },
        {
            "cell_type": "code",
            "execution_count": 13,
            "source": [
                "def span_mani(train_fin, train_first): \r\n",
                "    # train_full['creat_time_first'] = ''\r\n",
                "    train_fin['span_first'] = train_fin[\r\n",
                "        'creat_time_first'\r\n",
                "        ].str.slice(1,2).fillna(\r\n",
                "            0\r\n",
                "            ).astype(int, errors = 'ignore') + train_fin['creat_time_first'].str.slice(2,4).fillna(\r\n",
                "                0\r\n",
                "                ).astype(int, errors = 'ignore')/60*1 + 8\r\n",
                "\r\n",
                "    # # train_full['creat_time_x']\r\n",
                "    # train_first['span_full'] = train_first['creat_time_full'].str.slice(1,2).astype(int) + \r\n",
                "    #     train_first['creat_time_full'].str.slice(2,4).astype(int)/60*1 + 8\r\n",
                "    train_first['span_first'] = train_first[\r\n",
                "        'creat_time'\r\n",
                "        ].str.slice(1,2).fillna(\r\n",
                "            0\r\n",
                "            ).astype(int, errors = 'ignore') + train_first['creat_time'].str.slice(2,4).fillna(\r\n",
                "                0\r\n",
                "                ).astype(int, errors = 'ignore')/60*1 + 8\r\n",
                "    train_first = train_first.drop('creat_time', axis = 1)\r\n",
                "    return train_fin, train_first"
            ],
            "outputs": [],
            "metadata": {}
        },
        {
            "cell_type": "code",
            "execution_count": 14,
            "source": [
                "train_fin, train_first = span_mani(train_fin, train_first)\r\n",
                "test_fin, test_first   = span_mani(test_fin, test_first) "
            ],
            "outputs": [],
            "metadata": {}
        },
        {
            "cell_type": "code",
            "execution_count": 15,
            "source": [
                "# modeles"
            ],
            "outputs": [],
            "metadata": {}
        },
        {
            "cell_type": "code",
            "execution_count": 16,
            "source": [
                "# from sktime.forecasting.model_selection import temporal_train_test_split\r\n",
                "from sklearn.model_selection import train_test_split\r\n",
                "\r\n",
                "x = train_first \r\n",
                "x['y'] = train_fin['qty_full']\r\n",
                "# x['CREATION_DATE_TIME_STAMP'] = x.index\r\n",
                "x_train, x_test = train_test_split(x, train_size = .75, shuffle = False, random_state = 52943)\r\n",
                "\r\n",
                "cols = [i for i in x.columns if i not in ['y', 'CREATION_DATE_TIME_STAMP']]\r\n"
            ],
            "outputs": [],
            "metadata": {}
        },
        {
            "cell_type": "code",
            "execution_count": 17,
            "source": [
                "%%time\r\n",
                "\r\n",
                "from fbprophet import Prophet\r\n",
                "# df = x[['CREATION_DATE_TIME_STAMP', 'qty']]\r\n",
                "df_naiv = x_train \r\n",
                "df_naiv = df_naiv.rename({'CREATION_DATE_TIME_STAMP' : 'ds'}, axis = 1)\r\n",
                "m = Prophet()\r\n",
                "[m.add_regressor(i) for i in cols]\r\n",
                "\r\n",
                "m.fit(df_naiv)\r\n",
                "\r\n",
                "from sklearn.metrics import mean_absolute_percentage_error\r\n",
                "df_naiv_test = x_test\r\n",
                "df_naiv_test = df_naiv_test.rename({'CREATION_DATE_TIME_STAMP' : 'ds'}, axis = 1)\r\n",
                "# m.predict(x_test)\r\n",
                "mean_absolute_percentage_error(df_naiv_test['y'], m.predict(df_naiv_test)['yhat'])\r\n",
                "# fig = m.plot_components(m.predict(x_test))"
            ],
            "outputs": [
                {
                    "output_type": "stream",
                    "name": "stderr",
                    "text": [
                        "INFO:fbprophet:Disabling daily seasonality. Run prophet with daily_seasonality=True to override this.\n"
                    ]
                },
                {
                    "output_type": "stream",
                    "name": "stdout",
                    "text": [
                        "Wall time: 16.3 s\n"
                    ]
                },
                {
                    "output_type": "execute_result",
                    "data": {
                        "text/plain": [
                            "3.878807837446074e+19"
                        ]
                    },
                    "metadata": {},
                    "execution_count": 17
                }
            ],
            "metadata": {}
        },
        {
            "cell_type": "code",
            "execution_count": null,
            "source": [
                "# m.plot_components(m.predict(df2))\r\n",
                "# plt.show()"
            ],
            "outputs": [],
            "metadata": {}
        },
        {
            "cell_type": "code",
            "execution_count": null,
            "source": [
                "# m.plot(m.predict(df2))\r\n",
                "# plt.show()"
            ],
            "outputs": [],
            "metadata": {}
        },
        {
            "cell_type": "markdown",
            "source": [
                "---"
            ],
            "metadata": {}
        },
        {
            "cell_type": "markdown",
            "source": [
                " ============================== \r\n",
                "# pseudo labeling\r\n",
                " ============================== "
            ],
            "metadata": {}
        },
        {
            "cell_type": "code",
            "execution_count": 18,
            "source": [
                "def labeling_mani(train_first, train_full):\r\n",
                "    train_first['dif'] = train_first['qty'] - train_full['qty'] != 0\r\n",
                "    train_first['dif'] = [1 if i == True else 0 for i in train_first['dif']]\r\n",
                "\r\n",
                "    train_full['dif'] = train_first['qty'] - trai\r\n",
                "    n_full['qty'] != 0\r\n",
                "    train_full['dif'] = [1 if i == True else 0 for i in train_full['dif']]\r\n",
                "    return train_first , train_full\r\n",
                "# train_full['diff'] = train_full['qty_x'] - train_full['qty_y'] ==  0\r\n",
                "# train_full['diff'] = [1 if i == True else 0 for i in train_full['diff']]\r\n",
                "# train_full = train_full.asfreq('D')"
            ],
            "outputs": [],
            "metadata": {}
        },
        {
            "cell_type": "code",
            "execution_count": 19,
            "source": [
                "labeling_mani(train_first, train_full)\r\n",
                "test_first, test_full = labeling_mani(test_first, test_full)"
            ],
            "outputs": [],
            "metadata": {}
        },
        {
            "cell_type": "code",
            "execution_count": 20,
            "source": [
                "x = train_first.drop('y', axis  =1 )\r\n",
                "x_train, x_test = train_test_split(x, train_size = .75, shuffle = False, random_state = -1)\r\n"
            ],
            "outputs": [],
            "metadata": {}
        },
        {
            "cell_type": "code",
            "execution_count": 21,
            "source": [
                "%%time\r\n",
                "from fbprophet import Prophet \r\n",
                "df_lb = x_train \r\n",
                "\r\n",
                "## qty_x s是最终预测值, 所以要drop\r\n",
                "cols_lb = [i for i in df_lb.columns \r\n",
                "    if i not in ['dif', 'CREATION_DATE_TIME_STAMP']]\r\n",
                "\r\n",
                "# df_lb = df_lb.drop(['creat_time_x','creat_time_y', 'qty_x'], axis =1 )\r\n",
                "df_lb = df_lb.rename({'CREATION_DATE_TIME_STAMP' : 'ds', 'dif': 'y'}, axis = 1)\r\n",
                "m = Prophet(daily_seasonality=True) \r\n",
                "\r\n",
                "\"\"\"\r\n",
                "0.12379144878303337 daily_seasonality=True; empty 0.12318682390845224\r\n",
                "\"\"\"\r\n",
                "\r\n",
                "\r\n",
                "[m.add_regressor(i) for i in cols_lb]\r\n",
                "\r\n",
                "m.fit(df_lb)\r\n",
                "\r\n",
                "# ?mean_absolute_percentage_error\r\n",
                "from sktime.performance_metrics.forecasting import  mean_absolute_percentage_error\r\n",
                "from sktime.performance_metrics.forecasting import mean_absolute_error\r\n",
                "from sklearn.metrics import accuracy_score\r\n",
                "\r\n",
                "# x_test1 = x_test.drop(['dif'], axis =1 )\r\n",
                "x_test1 = x_test.rename({'CREATION_DATE_TIME_STAMP' : 'ds', 'dif': 'y'}, axis = 1)\r\n",
                " \r\n",
                "# m.predict(x_test)\r\n",
                "forecast = m.predict(x_test1)\r\n",
                "mean_absolute_error(x_test1['y'], m.predict(x_test1)['yhat'])\r\n",
                "# fig = m.plot_components(m.predict(x_test))"
            ],
            "outputs": [
                {
                    "output_type": "stream",
                    "name": "stdout",
                    "text": [
                        "Wall time: 13.2 s\n"
                    ]
                },
                {
                    "output_type": "execute_result",
                    "data": {
                        "text/plain": [
                            "0.12379144878303337"
                        ]
                    },
                    "metadata": {},
                    "execution_count": 21
                }
            ],
            "metadata": {}
        },
        {
            "cell_type": "code",
            "execution_count": 22,
            "source": [
                "# # %%warning = False\r\n",
                "# from prophet.plot import plot_plotly, plot_components_plotly\r\n",
                "# plot_plotly(m, forecast)\r\n",
                " "
            ],
            "outputs": [],
            "metadata": {}
        },
        {
            "cell_type": "code",
            "execution_count": 23,
            "source": [
                "lb_prophet_result = pd.DataFrame(forecast['yhat'])\r\n",
                "lb_prophet_result['abs_diff'] = np.abs(forecast['yhat'] - .5)\r\n",
                "lb_prophet_result.sort_values('abs_diff').iloc[0,0]"
            ],
            "outputs": [
                {
                    "output_type": "execute_result",
                    "data": {
                        "text/plain": [
                            "0.7434468844249535"
                        ]
                    },
                    "metadata": {},
                    "execution_count": 23
                }
            ],
            "metadata": {}
        },
        {
            "cell_type": "code",
            "execution_count": 24,
            "source": [
                "\r\n",
                "acc_score_data  = [1 if i>=lb_prophet_result['yhat'].mean() \\\r\n",
                "    else 0 for i in forecast['yhat']]\r\n",
                "\r\n",
                "acc_score_data1 = [1 if i>=lb_prophet_result.sort_values('abs_diff').iloc[0,0] \\\r\n",
                "    else 0 for i in forecast['yhat']]\r\n",
                "    \r\n",
                "acc_score_data2 = [1 if i>lb_prophet_result['yhat'].std() \\\r\n",
                "    else 0 for i in forecast['yhat']]\r\n",
                "\r\n",
                "# mean_absolute_error(x_test1['y'], m.predict(x_test1)['yhat'])\r\n",
                "[accuracy_score(x_test1['y'],i) for i in [acc_score_data, acc_score_data1, acc_score_data2]]\r\n"
            ],
            "outputs": [
                {
                    "output_type": "execute_result",
                    "data": {
                        "text/plain": [
                            "[0.9161676646706587, 0.9161676646706587, 0.9161676646706587]"
                        ]
                    },
                    "metadata": {},
                    "execution_count": 24
                }
            ],
            "metadata": {}
        },
        {
            "cell_type": "markdown",
            "source": [
                " ============================== \r\n",
                "## pred 2 the id number predicting:\r\n",
                " ============================== "
            ],
            "metadata": {}
        },
        {
            "cell_type": "code",
            "execution_count": 25,
            "source": [
                "# pred 2 the id number predicting:\r\n",
                "id_cnt_train = train_first.copy()\r\n",
                "id_cnt_train = id_cnt_train[id_cnt_train['dif'] != 0]\r\n",
                "id_cnt_train['y'] = train_full['id']\r\n",
                "\"\"\"\r\n",
                "[4.806768544455207, 1.1680515078598923]\r\n",
                "[7.133413104312447, 0.6253522370101863]  # id\r\n",
                "\"\"\"\r\n",
                "# id_cnt_train['y'] = train_full['line_sum']\r\n",
                "\r\n",
                "\"\"\"\r\n",
                "[16.60773539220494, 0.6975939132491072] # line_sum\r\n",
                "\"\"\"\r\n",
                "id_cnt_train"
            ],
            "outputs": [
                {
                    "output_type": "execute_result",
                    "data": {
                        "text/html": [
                            "<div>\n",
                            "<style scoped>\n",
                            "    .dataframe tbody tr th:only-of-type {\n",
                            "        vertical-align: middle;\n",
                            "    }\n",
                            "\n",
                            "    .dataframe tbody tr th {\n",
                            "        vertical-align: top;\n",
                            "    }\n",
                            "\n",
                            "    .dataframe thead th {\n",
                            "        text-align: right;\n",
                            "    }\n",
                            "</style>\n",
                            "<table border=\"1\" class=\"dataframe\">\n",
                            "  <thead>\n",
                            "    <tr style=\"text-align: right;\">\n",
                            "      <th></th>\n",
                            "      <th>CREATION_DATE_TIME_STAMP</th>\n",
                            "      <th>id</th>\n",
                            "      <th>line_sum</th>\n",
                            "      <th>container_sum</th>\n",
                            "      <th>weight</th>\n",
                            "      <th>qty</th>\n",
                            "      <th>span_first</th>\n",
                            "      <th>y</th>\n",
                            "      <th>dif</th>\n",
                            "    </tr>\n",
                            "  </thead>\n",
                            "  <tbody>\n",
                            "    <tr>\n",
                            "      <th>1</th>\n",
                            "      <td>2017-09-12</td>\n",
                            "      <td>1.0</td>\n",
                            "      <td>1.0</td>\n",
                            "      <td>19.0</td>\n",
                            "      <td>18600.00</td>\n",
                            "      <td>744.0</td>\n",
                            "      <td>13.116667</td>\n",
                            "      <td>9.0</td>\n",
                            "      <td>1</td>\n",
                            "    </tr>\n",
                            "    <tr>\n",
                            "      <th>2</th>\n",
                            "      <td>2017-09-13</td>\n",
                            "      <td>1.0</td>\n",
                            "      <td>1.0</td>\n",
                            "      <td>1.0</td>\n",
                            "      <td>100.00</td>\n",
                            "      <td>4.0</td>\n",
                            "      <td>9.366667</td>\n",
                            "      <td>6.0</td>\n",
                            "      <td>1</td>\n",
                            "    </tr>\n",
                            "    <tr>\n",
                            "      <th>3</th>\n",
                            "      <td>2017-09-14</td>\n",
                            "      <td>1.0</td>\n",
                            "      <td>1.0</td>\n",
                            "      <td>9.0</td>\n",
                            "      <td>8000.00</td>\n",
                            "      <td>6000.0</td>\n",
                            "      <td>8.400000</td>\n",
                            "      <td>11.0</td>\n",
                            "      <td>1</td>\n",
                            "    </tr>\n",
                            "    <tr>\n",
                            "      <th>4</th>\n",
                            "      <td>2017-09-15</td>\n",
                            "      <td>1.0</td>\n",
                            "      <td>2.0</td>\n",
                            "      <td>13.0</td>\n",
                            "      <td>12525.00</td>\n",
                            "      <td>501.0</td>\n",
                            "      <td>9.783333</td>\n",
                            "      <td>4.0</td>\n",
                            "      <td>1</td>\n",
                            "    </tr>\n",
                            "    <tr>\n",
                            "      <th>7</th>\n",
                            "      <td>2017-09-18</td>\n",
                            "      <td>1.0</td>\n",
                            "      <td>1.0</td>\n",
                            "      <td>1.0</td>\n",
                            "      <td>0.00</td>\n",
                            "      <td>600.0</td>\n",
                            "      <td>8.966667</td>\n",
                            "      <td>16.0</td>\n",
                            "      <td>1</td>\n",
                            "    </tr>\n",
                            "    <tr>\n",
                            "      <th>...</th>\n",
                            "      <td>...</td>\n",
                            "      <td>...</td>\n",
                            "      <td>...</td>\n",
                            "      <td>...</td>\n",
                            "      <td>...</td>\n",
                            "      <td>...</td>\n",
                            "      <td>...</td>\n",
                            "      <td>...</td>\n",
                            "      <td>...</td>\n",
                            "    </tr>\n",
                            "    <tr>\n",
                            "      <th>1309</th>\n",
                            "      <td>2021-04-12</td>\n",
                            "      <td>1.0</td>\n",
                            "      <td>3.0</td>\n",
                            "      <td>25.0</td>\n",
                            "      <td>16244.00</td>\n",
                            "      <td>9600.0</td>\n",
                            "      <td>16.166667</td>\n",
                            "      <td>11.0</td>\n",
                            "      <td>1</td>\n",
                            "    </tr>\n",
                            "    <tr>\n",
                            "      <th>1310</th>\n",
                            "      <td>2021-04-13</td>\n",
                            "      <td>1.0</td>\n",
                            "      <td>1.0</td>\n",
                            "      <td>1.0</td>\n",
                            "      <td>17186.40</td>\n",
                            "      <td>16632.0</td>\n",
                            "      <td>8.766667</td>\n",
                            "      <td>13.0</td>\n",
                            "      <td>1</td>\n",
                            "    </tr>\n",
                            "    <tr>\n",
                            "      <th>1313</th>\n",
                            "      <td>2021-04-16</td>\n",
                            "      <td>1.0</td>\n",
                            "      <td>2.0</td>\n",
                            "      <td>14.0</td>\n",
                            "      <td>7963.50</td>\n",
                            "      <td>4680.0</td>\n",
                            "      <td>11.766667</td>\n",
                            "      <td>12.0</td>\n",
                            "      <td>1</td>\n",
                            "    </tr>\n",
                            "    <tr>\n",
                            "      <th>1322</th>\n",
                            "      <td>2021-04-25</td>\n",
                            "      <td>1.0</td>\n",
                            "      <td>3.0</td>\n",
                            "      <td>18.0</td>\n",
                            "      <td>18486.72</td>\n",
                            "      <td>24192.0</td>\n",
                            "      <td>15.983333</td>\n",
                            "      <td>6.0</td>\n",
                            "      <td>1</td>\n",
                            "    </tr>\n",
                            "    <tr>\n",
                            "      <th>1327</th>\n",
                            "      <td>2021-04-30</td>\n",
                            "      <td>1.0</td>\n",
                            "      <td>1.0</td>\n",
                            "      <td>1.0</td>\n",
                            "      <td>17269.56</td>\n",
                            "      <td>16632.0</td>\n",
                            "      <td>12.866667</td>\n",
                            "      <td>6.0</td>\n",
                            "      <td>1</td>\n",
                            "    </tr>\n",
                            "  </tbody>\n",
                            "</table>\n",
                            "<p>832 rows × 9 columns</p>\n",
                            "</div>"
                        ],
                        "text/plain": [
                            "     CREATION_DATE_TIME_STAMP   id  line_sum  container_sum    weight  \\\n",
                            "1                  2017-09-12  1.0       1.0           19.0  18600.00   \n",
                            "2                  2017-09-13  1.0       1.0            1.0    100.00   \n",
                            "3                  2017-09-14  1.0       1.0            9.0   8000.00   \n",
                            "4                  2017-09-15  1.0       2.0           13.0  12525.00   \n",
                            "7                  2017-09-18  1.0       1.0            1.0      0.00   \n",
                            "...                       ...  ...       ...            ...       ...   \n",
                            "1309               2021-04-12  1.0       3.0           25.0  16244.00   \n",
                            "1310               2021-04-13  1.0       1.0            1.0  17186.40   \n",
                            "1313               2021-04-16  1.0       2.0           14.0   7963.50   \n",
                            "1322               2021-04-25  1.0       3.0           18.0  18486.72   \n",
                            "1327               2021-04-30  1.0       1.0            1.0  17269.56   \n",
                            "\n",
                            "          qty  span_first     y  dif  \n",
                            "1       744.0   13.116667   9.0    1  \n",
                            "2         4.0    9.366667   6.0    1  \n",
                            "3      6000.0    8.400000  11.0    1  \n",
                            "4       501.0    9.783333   4.0    1  \n",
                            "7       600.0    8.966667  16.0    1  \n",
                            "...       ...         ...   ...  ...  \n",
                            "1309   9600.0   16.166667  11.0    1  \n",
                            "1310  16632.0    8.766667  13.0    1  \n",
                            "1313   4680.0   11.766667  12.0    1  \n",
                            "1322  24192.0   15.983333   6.0    1  \n",
                            "1327  16632.0   12.866667   6.0    1  \n",
                            "\n",
                            "[832 rows x 9 columns]"
                        ]
                    },
                    "metadata": {},
                    "execution_count": 25
                }
            ],
            "metadata": {}
        },
        {
            "cell_type": "code",
            "execution_count": 26,
            "source": [
                "# x = id_cnt_train.drop('y', axis  =1 )\r\n",
                "x_train, x_test = train_test_split(id_cnt_train,\\\r\n",
                "     train_size = .75, shuffle = False, random_state = None)\r\n",
                "\r\n",
                "## qty_x s是最终预测值, 所以要drop\r\n",
                "cols_lb = [i for i in x_train.columns \r\n",
                "    if i not in ['y', 'CREATION_DATE_TIME_STAMP']]\r\n",
                "\r\n",
                "x_train = x_train.rename({'CREATION_DATE_TIME_STAMP' : 'ds'}, axis = 1)\r\n",
                "m2 = Prophet(daily_seasonality=True) \r\n",
                "\r\n",
                "[m2.add_regressor(i) for i in cols_lb]\r\n",
                "\r\n",
                "m2.fit(x_train)"
            ],
            "outputs": [
                {
                    "output_type": "execute_result",
                    "data": {
                        "text/plain": [
                            "<fbprophet.forecaster.Prophet at 0x211db42b2e0>"
                        ]
                    },
                    "metadata": {},
                    "execution_count": 26
                }
            ],
            "metadata": {}
        },
        {
            "cell_type": "code",
            "execution_count": 27,
            "source": [
                "\r\n",
                "# x_test1 = x_test.drop(['dif'], axis =1 )\r\n",
                "x_test1 = x_test.rename({'CREATION_DATE_TIME_STAMP' : 'ds'}, axis = 1)\r\n",
                " \r\n",
                "# m.predict(x_test)\r\n",
                "forecast_2 = m2.predict(x_test1)\r\n",
                "[mean_absolute_error(x_test1['y'], forecast_2['yhat']),\\\r\n",
                "     mean_absolute_percentage_error(x_test1['y'], forecast_2['yhat'])]"
            ],
            "outputs": [
                {
                    "output_type": "execute_result",
                    "data": {
                        "text/plain": [
                            "[7.133413104312447, 0.6253522370101863]"
                        ]
                    },
                    "metadata": {},
                    "execution_count": 27
                }
            ],
            "metadata": {}
        },
        {
            "cell_type": "code",
            "execution_count": null,
            "source": [],
            "outputs": [],
            "metadata": {}
        },
        {
            "cell_type": "markdown",
            "source": [
                " ============================== \r\n",
                "# test data validate \r\n",
                " \r\n",
                " \r\n",
                " ============================== \r\n"
            ],
            "metadata": {}
        },
        {
            "cell_type": "code",
            "execution_count": 32,
            "source": [
                "train_all = x\r\n",
                "train_all = train_all.rename({'CREATION_DATE_TIME_STAMP' : 'ds', 'dif': 'y'}, axis = 1)\r\n",
                "# m2 = Prophet(daily_seasonality=True) \r\n",
                "# m2.fit(train_all)"
            ],
            "outputs": [],
            "metadata": {}
        },
        {
            "cell_type": "code",
            "execution_count": 33,
            "source": [
                "# a\r\n",
                "test_all  = test_first.rename({'CREATION_DATE_TIME_STAMP' : 'ds', 'dif': 'y'}, axis = 1)\r\n",
                "test_pred = m.predict(test_all)\r\n",
                " \r\n",
                "mean_absolute_error(test_all['y'], test_pred['yhat'])"
            ],
            "outputs": [
                {
                    "output_type": "execute_result",
                    "data": {
                        "text/plain": [
                            "0.11115463834678584"
                        ]
                    },
                    "metadata": {},
                    "execution_count": 33
                }
            ],
            "metadata": {}
        },
        {
            "cell_type": "code",
            "execution_count": 34,
            "source": [
                "acc_tst = [1 if i>=test_pred['yhat'].mean() \\\r\n",
                "    else 0 for i in test_pred['yhat']]\r\n",
                "accuracy_score(acc_tst, test_all['y'])"
            ],
            "outputs": [
                {
                    "output_type": "execute_result",
                    "data": {
                        "text/plain": [
                            "0.9345794392523364"
                        ]
                    },
                    "metadata": {},
                    "execution_count": 34
                }
            ],
            "metadata": {}
        },
        {
            "cell_type": "code",
            "execution_count": 35,
            "source": [
                "import nbformat\r\n",
                "nbformat.__version__"
            ],
            "outputs": [
                {
                    "output_type": "execute_result",
                    "data": {
                        "text/plain": [
                            "'5.1.3'"
                        ]
                    },
                    "metadata": {},
                    "execution_count": 35
                }
            ],
            "metadata": {}
        },
        {
            "cell_type": "code",
            "execution_count": 36,
            "source": [
                "import plotly.express as px"
            ],
            "outputs": [],
            "metadata": {}
        },
        {
            "cell_type": "code",
            "execution_count": 37,
            "source": [
                "# %%warning = False\r\n",
                "test_pre_p = go.Figure()\r\n",
                "test_pre_p.add_trace(go.Scatter(x = test_pred['ds'],\\\r\n",
                "    y = test_pred['yhat'], \r\n",
                "    mode = 'markers',\r\n",
                "    name = 'pred'))\r\n",
                "test_pre_p.add_trace(go.Scatter(x = test_all['ds'], \\\r\n",
                "    y = test_all['y'], \r\n",
                "    mode = 'markers',\r\n",
                "    name = 'original_out'))\r\n"
            ],
            "outputs": [
                {
                    "output_type": "display_data",
                    "data": {
                        "application/vnd.plotly.v1+json": {
                            "config": {
                                "plotlyServerURL": "https://plot.ly"
                            },
                            "data": [
                                {
                                    "mode": "markers",
                                    "name": "pred",
                                    "type": "scatter",
                                    "x": [
                                        "2021-05-10T00:00:00",
                                        "2021-05-11T00:00:00",
                                        "2021-05-12T00:00:00",
                                        "2021-05-13T00:00:00",
                                        "2021-05-14T00:00:00",
                                        "2021-05-15T00:00:00",
                                        "2021-05-16T00:00:00",
                                        "2021-05-17T00:00:00",
                                        "2021-05-18T00:00:00",
                                        "2021-05-19T00:00:00",
                                        "2021-05-20T00:00:00",
                                        "2021-05-21T00:00:00",
                                        "2021-05-22T00:00:00",
                                        "2021-05-23T00:00:00",
                                        "2021-05-24T00:00:00",
                                        "2021-05-25T00:00:00",
                                        "2021-05-26T00:00:00",
                                        "2021-05-27T00:00:00",
                                        "2021-05-28T00:00:00",
                                        "2021-05-29T00:00:00",
                                        "2021-05-30T00:00:00",
                                        "2021-05-31T00:00:00",
                                        "2021-06-01T00:00:00",
                                        "2021-06-02T00:00:00",
                                        "2021-06-03T00:00:00",
                                        "2021-06-04T00:00:00",
                                        "2021-06-05T00:00:00",
                                        "2021-06-06T00:00:00",
                                        "2021-06-07T00:00:00",
                                        "2021-06-08T00:00:00",
                                        "2021-06-09T00:00:00",
                                        "2021-06-10T00:00:00",
                                        "2021-06-11T00:00:00",
                                        "2021-06-12T00:00:00",
                                        "2021-06-13T00:00:00",
                                        "2021-06-14T00:00:00",
                                        "2021-06-15T00:00:00",
                                        "2021-06-16T00:00:00",
                                        "2021-06-17T00:00:00",
                                        "2021-06-18T00:00:00",
                                        "2021-06-19T00:00:00",
                                        "2021-06-20T00:00:00",
                                        "2021-06-21T00:00:00",
                                        "2021-06-22T00:00:00",
                                        "2021-06-23T00:00:00",
                                        "2021-06-24T00:00:00",
                                        "2021-06-25T00:00:00",
                                        "2021-06-26T00:00:00",
                                        "2021-06-27T00:00:00",
                                        "2021-06-28T00:00:00",
                                        "2021-06-29T00:00:00",
                                        "2021-06-30T00:00:00",
                                        "2021-07-01T00:00:00",
                                        "2021-07-02T00:00:00",
                                        "2021-07-03T00:00:00",
                                        "2021-07-04T00:00:00",
                                        "2021-07-05T00:00:00",
                                        "2021-07-06T00:00:00",
                                        "2021-07-07T00:00:00",
                                        "2021-07-08T00:00:00",
                                        "2021-07-09T00:00:00",
                                        "2021-07-10T00:00:00",
                                        "2021-07-11T00:00:00",
                                        "2021-07-12T00:00:00",
                                        "2021-07-13T00:00:00",
                                        "2021-07-14T00:00:00",
                                        "2021-07-15T00:00:00",
                                        "2021-07-16T00:00:00",
                                        "2021-07-17T00:00:00",
                                        "2021-07-18T00:00:00",
                                        "2021-07-19T00:00:00",
                                        "2021-07-20T00:00:00",
                                        "2021-07-21T00:00:00",
                                        "2021-07-22T00:00:00",
                                        "2021-07-23T00:00:00",
                                        "2021-07-24T00:00:00",
                                        "2021-07-25T00:00:00",
                                        "2021-07-26T00:00:00",
                                        "2021-07-27T00:00:00",
                                        "2021-07-28T00:00:00",
                                        "2021-07-29T00:00:00",
                                        "2021-07-30T00:00:00",
                                        "2021-07-31T00:00:00",
                                        "2021-08-01T00:00:00",
                                        "2021-08-02T00:00:00",
                                        "2021-08-03T00:00:00",
                                        "2021-08-04T00:00:00",
                                        "2021-08-05T00:00:00",
                                        "2021-08-06T00:00:00",
                                        "2021-08-07T00:00:00",
                                        "2021-08-08T00:00:00",
                                        "2021-08-09T00:00:00",
                                        "2021-08-10T00:00:00",
                                        "2021-08-11T00:00:00",
                                        "2021-08-12T00:00:00",
                                        "2021-08-13T00:00:00",
                                        "2021-08-14T00:00:00",
                                        "2021-08-15T00:00:00",
                                        "2021-08-16T00:00:00",
                                        "2021-08-17T00:00:00",
                                        "2021-08-18T00:00:00",
                                        "2021-08-19T00:00:00",
                                        "2021-08-20T00:00:00",
                                        "2021-08-21T00:00:00",
                                        "2021-08-22T00:00:00",
                                        "2021-08-23T00:00:00",
                                        "2021-08-24T00:00:00"
                                    ],
                                    "y": [
                                        0.890987944143864,
                                        0.9958786055992702,
                                        1.024289141969869,
                                        0.08847325347481709,
                                        0.8673710448026282,
                                        0.01143087337927098,
                                        0.0017912204752739032,
                                        0.09848843167132379,
                                        1.0185774817767217,
                                        0.8901954689614389,
                                        0.9804887662486211,
                                        0.8976272463035161,
                                        -0.006427688103782914,
                                        -0.01611654153640705,
                                        0.9793128260986,
                                        0.09488430352271841,
                                        0.913014535874984,
                                        0.9207805873909892,
                                        0.8313851513592241,
                                        -0.015719096531061336,
                                        0.8926386549299268,
                                        0.8873456922769135,
                                        0.8632047785847162,
                                        0.9790666929096596,
                                        0.8713594723582656,
                                        0.9261899435474515,
                                        -0.0075937328526142385,
                                        -0.012813087169826973,
                                        0.9442072207462983,
                                        0.9761317831209143,
                                        0.9180196273043686,
                                        0.9035302820033108,
                                        0.9106921931635438,
                                        0.008949797463514979,
                                        0.0037810418263802097,
                                        0.10505246461415549,
                                        0.9835906165599267,
                                        1.0300628984752391,
                                        0.8767279473069529,
                                        0.9626804657253396,
                                        0.021241654761094134,
                                        0.01484874091633092,
                                        1.0514934575791643,
                                        0.9458409716066281,
                                        1.0515297725351733,
                                        0.9235994941820681,
                                        1.0130742250620957,
                                        0.024238759203528294,
                                        0.01652777001616435,
                                        0.9300186888268518,
                                        0.9925009741664566,
                                        0.9973999948925792,
                                        0.9260229889820027,
                                        0.9636241031174884,
                                        0.01860891224214542,
                                        0.009764582183045174,
                                        1.0065168757147234,
                                        0.9024386893379889,
                                        1.014846167406886,
                                        0.9716244680405008,
                                        0.9600196680446647,
                                        0.00568517363926346,
                                        -0.003982450347410602,
                                        0.9825328486219059,
                                        0.9565722790673383,
                                        0.9839537852315514,
                                        0.9476789610687942,
                                        0.9558418461506989,
                                        -0.009914833340249441,
                                        -0.019140032998754178,
                                        0.8500119534747624,
                                        0.8778995055244575,
                                        0.9596954346388057,
                                        0.8279707136766907,
                                        0.9357132528698144,
                                        -0.016330393349718687,
                                        -0.02309449458772976,
                                        0.07718122023570567,
                                        0.09435193258674118,
                                        0.9192816222245278,
                                        0.8928101463979621,
                                        0.0666957109409983,
                                        0.8989026724276928,
                                        -0.005644680902641936,
                                        0.89272351871253,
                                        0.9083080437902543,
                                        0.9358530253089647,
                                        0.9877694439154657,
                                        0.9638066996897554,
                                        0.028965720641344544,
                                        0.026162772295421764,
                                        0.93061844857804,
                                        1.045504990382207,
                                        0.9221905922394723,
                                        0.12275183687415582,
                                        1.0185182675772502,
                                        0.05432998333413173,
                                        0.04863924923744103,
                                        0.1489014847736267,
                                        1.060044150204366,
                                        1.0309763061897559,
                                        1.0264469656481932,
                                        0.12732135025040575,
                                        0.05323784257138201,
                                        0.04334672031538113,
                                        0.982914063868452,
                                        0.881033181944733
                                    ]
                                },
                                {
                                    "mode": "markers",
                                    "name": "original_out",
                                    "type": "scatter",
                                    "x": [
                                        "2021-05-10T00:00:00",
                                        "2021-05-11T00:00:00",
                                        "2021-05-12T00:00:00",
                                        "2021-05-13T00:00:00",
                                        "2021-05-14T00:00:00",
                                        "2021-05-15T00:00:00",
                                        "2021-05-16T00:00:00",
                                        "2021-05-17T00:00:00",
                                        "2021-05-18T00:00:00",
                                        "2021-05-19T00:00:00",
                                        "2021-05-20T00:00:00",
                                        "2021-05-21T00:00:00",
                                        "2021-05-22T00:00:00",
                                        "2021-05-23T00:00:00",
                                        "2021-05-24T00:00:00",
                                        "2021-05-25T00:00:00",
                                        "2021-05-26T00:00:00",
                                        "2021-05-27T00:00:00",
                                        "2021-05-28T00:00:00",
                                        "2021-05-29T00:00:00",
                                        "2021-05-30T00:00:00",
                                        "2021-05-31T00:00:00",
                                        "2021-06-01T00:00:00",
                                        "2021-06-02T00:00:00",
                                        "2021-06-03T00:00:00",
                                        "2021-06-04T00:00:00",
                                        "2021-06-05T00:00:00",
                                        "2021-06-06T00:00:00",
                                        "2021-06-07T00:00:00",
                                        "2021-06-08T00:00:00",
                                        "2021-06-09T00:00:00",
                                        "2021-06-10T00:00:00",
                                        "2021-06-11T00:00:00",
                                        "2021-06-12T00:00:00",
                                        "2021-06-13T00:00:00",
                                        "2021-06-14T00:00:00",
                                        "2021-06-15T00:00:00",
                                        "2021-06-16T00:00:00",
                                        "2021-06-17T00:00:00",
                                        "2021-06-18T00:00:00",
                                        "2021-06-19T00:00:00",
                                        "2021-06-20T00:00:00",
                                        "2021-06-21T00:00:00",
                                        "2021-06-22T00:00:00",
                                        "2021-06-23T00:00:00",
                                        "2021-06-24T00:00:00",
                                        "2021-06-25T00:00:00",
                                        "2021-06-26T00:00:00",
                                        "2021-06-27T00:00:00",
                                        "2021-06-28T00:00:00",
                                        "2021-06-29T00:00:00",
                                        "2021-06-30T00:00:00",
                                        "2021-07-01T00:00:00",
                                        "2021-07-02T00:00:00",
                                        "2021-07-03T00:00:00",
                                        "2021-07-04T00:00:00",
                                        "2021-07-05T00:00:00",
                                        "2021-07-06T00:00:00",
                                        "2021-07-07T00:00:00",
                                        "2021-07-08T00:00:00",
                                        "2021-07-09T00:00:00",
                                        "2021-07-10T00:00:00",
                                        "2021-07-11T00:00:00",
                                        "2021-07-12T00:00:00",
                                        "2021-07-13T00:00:00",
                                        "2021-07-14T00:00:00",
                                        "2021-07-15T00:00:00",
                                        "2021-07-16T00:00:00",
                                        "2021-07-17T00:00:00",
                                        "2021-07-18T00:00:00",
                                        "2021-07-19T00:00:00",
                                        "2021-07-20T00:00:00",
                                        "2021-07-21T00:00:00",
                                        "2021-07-22T00:00:00",
                                        "2021-07-23T00:00:00",
                                        "2021-07-24T00:00:00",
                                        "2021-07-25T00:00:00",
                                        "2021-07-26T00:00:00",
                                        "2021-07-27T00:00:00",
                                        "2021-07-28T00:00:00",
                                        "2021-07-29T00:00:00",
                                        "2021-07-30T00:00:00",
                                        "2021-07-31T00:00:00",
                                        "2021-08-01T00:00:00",
                                        "2021-08-02T00:00:00",
                                        "2021-08-03T00:00:00",
                                        "2021-08-04T00:00:00",
                                        "2021-08-05T00:00:00",
                                        "2021-08-06T00:00:00",
                                        "2021-08-07T00:00:00",
                                        "2021-08-08T00:00:00",
                                        "2021-08-09T00:00:00",
                                        "2021-08-10T00:00:00",
                                        "2021-08-11T00:00:00",
                                        "2021-08-12T00:00:00",
                                        "2021-08-13T00:00:00",
                                        "2021-08-14T00:00:00",
                                        "2021-08-15T00:00:00",
                                        "2021-08-16T00:00:00",
                                        "2021-08-17T00:00:00",
                                        "2021-08-18T00:00:00",
                                        "2021-08-19T00:00:00",
                                        "2021-08-20T00:00:00",
                                        "2021-08-21T00:00:00",
                                        "2021-08-22T00:00:00",
                                        "2021-08-23T00:00:00",
                                        "2021-08-24T00:00:00"
                                    ],
                                    "y": [
                                        0,
                                        1,
                                        1,
                                        0,
                                        1,
                                        0,
                                        0,
                                        0,
                                        1,
                                        1,
                                        1,
                                        1,
                                        0,
                                        0,
                                        1,
                                        0,
                                        1,
                                        1,
                                        1,
                                        0,
                                        1,
                                        1,
                                        1,
                                        1,
                                        1,
                                        1,
                                        0,
                                        0,
                                        1,
                                        1,
                                        1,
                                        1,
                                        0,
                                        0,
                                        0,
                                        0,
                                        1,
                                        1,
                                        1,
                                        1,
                                        0,
                                        0,
                                        1,
                                        1,
                                        1,
                                        1,
                                        1,
                                        0,
                                        0,
                                        1,
                                        1,
                                        1,
                                        1,
                                        1,
                                        0,
                                        0,
                                        1,
                                        1,
                                        1,
                                        1,
                                        1,
                                        0,
                                        0,
                                        1,
                                        1,
                                        0,
                                        1,
                                        1,
                                        0,
                                        0,
                                        1,
                                        1,
                                        1,
                                        0,
                                        1,
                                        0,
                                        0,
                                        0,
                                        0,
                                        1,
                                        1,
                                        0,
                                        1,
                                        0,
                                        1,
                                        1,
                                        0,
                                        0,
                                        1,
                                        0,
                                        0,
                                        1,
                                        1,
                                        0,
                                        0,
                                        1,
                                        0,
                                        0,
                                        0,
                                        1,
                                        1,
                                        1,
                                        0,
                                        0,
                                        0,
                                        1,
                                        1
                                    ]
                                }
                            ],
                            "layout": {
                                "template": {
                                    "data": {
                                        "bar": [
                                            {
                                                "error_x": {
                                                    "color": "#2a3f5f"
                                                },
                                                "error_y": {
                                                    "color": "#2a3f5f"
                                                },
                                                "marker": {
                                                    "line": {
                                                        "color": "#E5ECF6",
                                                        "width": 0.5
                                                    }
                                                },
                                                "type": "bar"
                                            }
                                        ],
                                        "barpolar": [
                                            {
                                                "marker": {
                                                    "line": {
                                                        "color": "#E5ECF6",
                                                        "width": 0.5
                                                    }
                                                },
                                                "type": "barpolar"
                                            }
                                        ],
                                        "carpet": [
                                            {
                                                "aaxis": {
                                                    "endlinecolor": "#2a3f5f",
                                                    "gridcolor": "white",
                                                    "linecolor": "white",
                                                    "minorgridcolor": "white",
                                                    "startlinecolor": "#2a3f5f"
                                                },
                                                "baxis": {
                                                    "endlinecolor": "#2a3f5f",
                                                    "gridcolor": "white",
                                                    "linecolor": "white",
                                                    "minorgridcolor": "white",
                                                    "startlinecolor": "#2a3f5f"
                                                },
                                                "type": "carpet"
                                            }
                                        ],
                                        "choropleth": [
                                            {
                                                "colorbar": {
                                                    "outlinewidth": 0,
                                                    "ticks": ""
                                                },
                                                "type": "choropleth"
                                            }
                                        ],
                                        "contour": [
                                            {
                                                "colorbar": {
                                                    "outlinewidth": 0,
                                                    "ticks": ""
                                                },
                                                "colorscale": [
                                                    [
                                                        0,
                                                        "#0d0887"
                                                    ],
                                                    [
                                                        0.1111111111111111,
                                                        "#46039f"
                                                    ],
                                                    [
                                                        0.2222222222222222,
                                                        "#7201a8"
                                                    ],
                                                    [
                                                        0.3333333333333333,
                                                        "#9c179e"
                                                    ],
                                                    [
                                                        0.4444444444444444,
                                                        "#bd3786"
                                                    ],
                                                    [
                                                        0.5555555555555556,
                                                        "#d8576b"
                                                    ],
                                                    [
                                                        0.6666666666666666,
                                                        "#ed7953"
                                                    ],
                                                    [
                                                        0.7777777777777778,
                                                        "#fb9f3a"
                                                    ],
                                                    [
                                                        0.8888888888888888,
                                                        "#fdca26"
                                                    ],
                                                    [
                                                        1,
                                                        "#f0f921"
                                                    ]
                                                ],
                                                "type": "contour"
                                            }
                                        ],
                                        "contourcarpet": [
                                            {
                                                "colorbar": {
                                                    "outlinewidth": 0,
                                                    "ticks": ""
                                                },
                                                "type": "contourcarpet"
                                            }
                                        ],
                                        "heatmap": [
                                            {
                                                "colorbar": {
                                                    "outlinewidth": 0,
                                                    "ticks": ""
                                                },
                                                "colorscale": [
                                                    [
                                                        0,
                                                        "#0d0887"
                                                    ],
                                                    [
                                                        0.1111111111111111,
                                                        "#46039f"
                                                    ],
                                                    [
                                                        0.2222222222222222,
                                                        "#7201a8"
                                                    ],
                                                    [
                                                        0.3333333333333333,
                                                        "#9c179e"
                                                    ],
                                                    [
                                                        0.4444444444444444,
                                                        "#bd3786"
                                                    ],
                                                    [
                                                        0.5555555555555556,
                                                        "#d8576b"
                                                    ],
                                                    [
                                                        0.6666666666666666,
                                                        "#ed7953"
                                                    ],
                                                    [
                                                        0.7777777777777778,
                                                        "#fb9f3a"
                                                    ],
                                                    [
                                                        0.8888888888888888,
                                                        "#fdca26"
                                                    ],
                                                    [
                                                        1,
                                                        "#f0f921"
                                                    ]
                                                ],
                                                "type": "heatmap"
                                            }
                                        ],
                                        "heatmapgl": [
                                            {
                                                "colorbar": {
                                                    "outlinewidth": 0,
                                                    "ticks": ""
                                                },
                                                "colorscale": [
                                                    [
                                                        0,
                                                        "#0d0887"
                                                    ],
                                                    [
                                                        0.1111111111111111,
                                                        "#46039f"
                                                    ],
                                                    [
                                                        0.2222222222222222,
                                                        "#7201a8"
                                                    ],
                                                    [
                                                        0.3333333333333333,
                                                        "#9c179e"
                                                    ],
                                                    [
                                                        0.4444444444444444,
                                                        "#bd3786"
                                                    ],
                                                    [
                                                        0.5555555555555556,
                                                        "#d8576b"
                                                    ],
                                                    [
                                                        0.6666666666666666,
                                                        "#ed7953"
                                                    ],
                                                    [
                                                        0.7777777777777778,
                                                        "#fb9f3a"
                                                    ],
                                                    [
                                                        0.8888888888888888,
                                                        "#fdca26"
                                                    ],
                                                    [
                                                        1,
                                                        "#f0f921"
                                                    ]
                                                ],
                                                "type": "heatmapgl"
                                            }
                                        ],
                                        "histogram": [
                                            {
                                                "marker": {
                                                    "colorbar": {
                                                        "outlinewidth": 0,
                                                        "ticks": ""
                                                    }
                                                },
                                                "type": "histogram"
                                            }
                                        ],
                                        "histogram2d": [
                                            {
                                                "colorbar": {
                                                    "outlinewidth": 0,
                                                    "ticks": ""
                                                },
                                                "colorscale": [
                                                    [
                                                        0,
                                                        "#0d0887"
                                                    ],
                                                    [
                                                        0.1111111111111111,
                                                        "#46039f"
                                                    ],
                                                    [
                                                        0.2222222222222222,
                                                        "#7201a8"
                                                    ],
                                                    [
                                                        0.3333333333333333,
                                                        "#9c179e"
                                                    ],
                                                    [
                                                        0.4444444444444444,
                                                        "#bd3786"
                                                    ],
                                                    [
                                                        0.5555555555555556,
                                                        "#d8576b"
                                                    ],
                                                    [
                                                        0.6666666666666666,
                                                        "#ed7953"
                                                    ],
                                                    [
                                                        0.7777777777777778,
                                                        "#fb9f3a"
                                                    ],
                                                    [
                                                        0.8888888888888888,
                                                        "#fdca26"
                                                    ],
                                                    [
                                                        1,
                                                        "#f0f921"
                                                    ]
                                                ],
                                                "type": "histogram2d"
                                            }
                                        ],
                                        "histogram2dcontour": [
                                            {
                                                "colorbar": {
                                                    "outlinewidth": 0,
                                                    "ticks": ""
                                                },
                                                "colorscale": [
                                                    [
                                                        0,
                                                        "#0d0887"
                                                    ],
                                                    [
                                                        0.1111111111111111,
                                                        "#46039f"
                                                    ],
                                                    [
                                                        0.2222222222222222,
                                                        "#7201a8"
                                                    ],
                                                    [
                                                        0.3333333333333333,
                                                        "#9c179e"
                                                    ],
                                                    [
                                                        0.4444444444444444,
                                                        "#bd3786"
                                                    ],
                                                    [
                                                        0.5555555555555556,
                                                        "#d8576b"
                                                    ],
                                                    [
                                                        0.6666666666666666,
                                                        "#ed7953"
                                                    ],
                                                    [
                                                        0.7777777777777778,
                                                        "#fb9f3a"
                                                    ],
                                                    [
                                                        0.8888888888888888,
                                                        "#fdca26"
                                                    ],
                                                    [
                                                        1,
                                                        "#f0f921"
                                                    ]
                                                ],
                                                "type": "histogram2dcontour"
                                            }
                                        ],
                                        "mesh3d": [
                                            {
                                                "colorbar": {
                                                    "outlinewidth": 0,
                                                    "ticks": ""
                                                },
                                                "type": "mesh3d"
                                            }
                                        ],
                                        "parcoords": [
                                            {
                                                "line": {
                                                    "colorbar": {
                                                        "outlinewidth": 0,
                                                        "ticks": ""
                                                    }
                                                },
                                                "type": "parcoords"
                                            }
                                        ],
                                        "pie": [
                                            {
                                                "automargin": true,
                                                "type": "pie"
                                            }
                                        ],
                                        "scatter": [
                                            {
                                                "marker": {
                                                    "colorbar": {
                                                        "outlinewidth": 0,
                                                        "ticks": ""
                                                    }
                                                },
                                                "type": "scatter"
                                            }
                                        ],
                                        "scatter3d": [
                                            {
                                                "line": {
                                                    "colorbar": {
                                                        "outlinewidth": 0,
                                                        "ticks": ""
                                                    }
                                                },
                                                "marker": {
                                                    "colorbar": {
                                                        "outlinewidth": 0,
                                                        "ticks": ""
                                                    }
                                                },
                                                "type": "scatter3d"
                                            }
                                        ],
                                        "scattercarpet": [
                                            {
                                                "marker": {
                                                    "colorbar": {
                                                        "outlinewidth": 0,
                                                        "ticks": ""
                                                    }
                                                },
                                                "type": "scattercarpet"
                                            }
                                        ],
                                        "scattergeo": [
                                            {
                                                "marker": {
                                                    "colorbar": {
                                                        "outlinewidth": 0,
                                                        "ticks": ""
                                                    }
                                                },
                                                "type": "scattergeo"
                                            }
                                        ],
                                        "scattergl": [
                                            {
                                                "marker": {
                                                    "colorbar": {
                                                        "outlinewidth": 0,
                                                        "ticks": ""
                                                    }
                                                },
                                                "type": "scattergl"
                                            }
                                        ],
                                        "scattermapbox": [
                                            {
                                                "marker": {
                                                    "colorbar": {
                                                        "outlinewidth": 0,
                                                        "ticks": ""
                                                    }
                                                },
                                                "type": "scattermapbox"
                                            }
                                        ],
                                        "scatterpolar": [
                                            {
                                                "marker": {
                                                    "colorbar": {
                                                        "outlinewidth": 0,
                                                        "ticks": ""
                                                    }
                                                },
                                                "type": "scatterpolar"
                                            }
                                        ],
                                        "scatterpolargl": [
                                            {
                                                "marker": {
                                                    "colorbar": {
                                                        "outlinewidth": 0,
                                                        "ticks": ""
                                                    }
                                                },
                                                "type": "scatterpolargl"
                                            }
                                        ],
                                        "scatterternary": [
                                            {
                                                "marker": {
                                                    "colorbar": {
                                                        "outlinewidth": 0,
                                                        "ticks": ""
                                                    }
                                                },
                                                "type": "scatterternary"
                                            }
                                        ],
                                        "surface": [
                                            {
                                                "colorbar": {
                                                    "outlinewidth": 0,
                                                    "ticks": ""
                                                },
                                                "colorscale": [
                                                    [
                                                        0,
                                                        "#0d0887"
                                                    ],
                                                    [
                                                        0.1111111111111111,
                                                        "#46039f"
                                                    ],
                                                    [
                                                        0.2222222222222222,
                                                        "#7201a8"
                                                    ],
                                                    [
                                                        0.3333333333333333,
                                                        "#9c179e"
                                                    ],
                                                    [
                                                        0.4444444444444444,
                                                        "#bd3786"
                                                    ],
                                                    [
                                                        0.5555555555555556,
                                                        "#d8576b"
                                                    ],
                                                    [
                                                        0.6666666666666666,
                                                        "#ed7953"
                                                    ],
                                                    [
                                                        0.7777777777777778,
                                                        "#fb9f3a"
                                                    ],
                                                    [
                                                        0.8888888888888888,
                                                        "#fdca26"
                                                    ],
                                                    [
                                                        1,
                                                        "#f0f921"
                                                    ]
                                                ],
                                                "type": "surface"
                                            }
                                        ],
                                        "table": [
                                            {
                                                "cells": {
                                                    "fill": {
                                                        "color": "#EBF0F8"
                                                    },
                                                    "line": {
                                                        "color": "white"
                                                    }
                                                },
                                                "header": {
                                                    "fill": {
                                                        "color": "#C8D4E3"
                                                    },
                                                    "line": {
                                                        "color": "white"
                                                    }
                                                },
                                                "type": "table"
                                            }
                                        ]
                                    },
                                    "layout": {
                                        "annotationdefaults": {
                                            "arrowcolor": "#2a3f5f",
                                            "arrowhead": 0,
                                            "arrowwidth": 1
                                        },
                                        "autotypenumbers": "strict",
                                        "coloraxis": {
                                            "colorbar": {
                                                "outlinewidth": 0,
                                                "ticks": ""
                                            }
                                        },
                                        "colorscale": {
                                            "diverging": [
                                                [
                                                    0,
                                                    "#8e0152"
                                                ],
                                                [
                                                    0.1,
                                                    "#c51b7d"
                                                ],
                                                [
                                                    0.2,
                                                    "#de77ae"
                                                ],
                                                [
                                                    0.3,
                                                    "#f1b6da"
                                                ],
                                                [
                                                    0.4,
                                                    "#fde0ef"
                                                ],
                                                [
                                                    0.5,
                                                    "#f7f7f7"
                                                ],
                                                [
                                                    0.6,
                                                    "#e6f5d0"
                                                ],
                                                [
                                                    0.7,
                                                    "#b8e186"
                                                ],
                                                [
                                                    0.8,
                                                    "#7fbc41"
                                                ],
                                                [
                                                    0.9,
                                                    "#4d9221"
                                                ],
                                                [
                                                    1,
                                                    "#276419"
                                                ]
                                            ],
                                            "sequential": [
                                                [
                                                    0,
                                                    "#0d0887"
                                                ],
                                                [
                                                    0.1111111111111111,
                                                    "#46039f"
                                                ],
                                                [
                                                    0.2222222222222222,
                                                    "#7201a8"
                                                ],
                                                [
                                                    0.3333333333333333,
                                                    "#9c179e"
                                                ],
                                                [
                                                    0.4444444444444444,
                                                    "#bd3786"
                                                ],
                                                [
                                                    0.5555555555555556,
                                                    "#d8576b"
                                                ],
                                                [
                                                    0.6666666666666666,
                                                    "#ed7953"
                                                ],
                                                [
                                                    0.7777777777777778,
                                                    "#fb9f3a"
                                                ],
                                                [
                                                    0.8888888888888888,
                                                    "#fdca26"
                                                ],
                                                [
                                                    1,
                                                    "#f0f921"
                                                ]
                                            ],
                                            "sequentialminus": [
                                                [
                                                    0,
                                                    "#0d0887"
                                                ],
                                                [
                                                    0.1111111111111111,
                                                    "#46039f"
                                                ],
                                                [
                                                    0.2222222222222222,
                                                    "#7201a8"
                                                ],
                                                [
                                                    0.3333333333333333,
                                                    "#9c179e"
                                                ],
                                                [
                                                    0.4444444444444444,
                                                    "#bd3786"
                                                ],
                                                [
                                                    0.5555555555555556,
                                                    "#d8576b"
                                                ],
                                                [
                                                    0.6666666666666666,
                                                    "#ed7953"
                                                ],
                                                [
                                                    0.7777777777777778,
                                                    "#fb9f3a"
                                                ],
                                                [
                                                    0.8888888888888888,
                                                    "#fdca26"
                                                ],
                                                [
                                                    1,
                                                    "#f0f921"
                                                ]
                                            ]
                                        },
                                        "colorway": [
                                            "#636efa",
                                            "#EF553B",
                                            "#00cc96",
                                            "#ab63fa",
                                            "#FFA15A",
                                            "#19d3f3",
                                            "#FF6692",
                                            "#B6E880",
                                            "#FF97FF",
                                            "#FECB52"
                                        ],
                                        "font": {
                                            "color": "#2a3f5f"
                                        },
                                        "geo": {
                                            "bgcolor": "white",
                                            "lakecolor": "white",
                                            "landcolor": "#E5ECF6",
                                            "showlakes": true,
                                            "showland": true,
                                            "subunitcolor": "white"
                                        },
                                        "hoverlabel": {
                                            "align": "left"
                                        },
                                        "hovermode": "closest",
                                        "mapbox": {
                                            "style": "light"
                                        },
                                        "paper_bgcolor": "white",
                                        "plot_bgcolor": "#E5ECF6",
                                        "polar": {
                                            "angularaxis": {
                                                "gridcolor": "white",
                                                "linecolor": "white",
                                                "ticks": ""
                                            },
                                            "bgcolor": "#E5ECF6",
                                            "radialaxis": {
                                                "gridcolor": "white",
                                                "linecolor": "white",
                                                "ticks": ""
                                            }
                                        },
                                        "scene": {
                                            "xaxis": {
                                                "backgroundcolor": "#E5ECF6",
                                                "gridcolor": "white",
                                                "gridwidth": 2,
                                                "linecolor": "white",
                                                "showbackground": true,
                                                "ticks": "",
                                                "zerolinecolor": "white"
                                            },
                                            "yaxis": {
                                                "backgroundcolor": "#E5ECF6",
                                                "gridcolor": "white",
                                                "gridwidth": 2,
                                                "linecolor": "white",
                                                "showbackground": true,
                                                "ticks": "",
                                                "zerolinecolor": "white"
                                            },
                                            "zaxis": {
                                                "backgroundcolor": "#E5ECF6",
                                                "gridcolor": "white",
                                                "gridwidth": 2,
                                                "linecolor": "white",
                                                "showbackground": true,
                                                "ticks": "",
                                                "zerolinecolor": "white"
                                            }
                                        },
                                        "shapedefaults": {
                                            "line": {
                                                "color": "#2a3f5f"
                                            }
                                        },
                                        "ternary": {
                                            "aaxis": {
                                                "gridcolor": "white",
                                                "linecolor": "white",
                                                "ticks": ""
                                            },
                                            "baxis": {
                                                "gridcolor": "white",
                                                "linecolor": "white",
                                                "ticks": ""
                                            },
                                            "bgcolor": "#E5ECF6",
                                            "caxis": {
                                                "gridcolor": "white",
                                                "linecolor": "white",
                                                "ticks": ""
                                            }
                                        },
                                        "title": {
                                            "x": 0.05
                                        },
                                        "xaxis": {
                                            "automargin": true,
                                            "gridcolor": "white",
                                            "linecolor": "white",
                                            "ticks": "",
                                            "title": {
                                                "standoff": 15
                                            },
                                            "zerolinecolor": "white",
                                            "zerolinewidth": 2
                                        },
                                        "yaxis": {
                                            "automargin": true,
                                            "gridcolor": "white",
                                            "linecolor": "white",
                                            "ticks": "",
                                            "title": {
                                                "standoff": 15
                                            },
                                            "zerolinecolor": "white",
                                            "zerolinewidth": 2
                                        }
                                    }
                                }
                            }
                        }
                    },
                    "metadata": {}
                }
            ],
            "metadata": {}
        },
        {
            "cell_type": "code",
            "execution_count": 53,
            "source": [
                "# # %%warning = False\r\n",
                "# test_pre_p = go.Figure()\r\n",
                "# test_pre_p.add_trace(go.Scatter(x = test_all['ds'], \\\r\n",
                "#     y = test_all['y'], \r\n",
                "#     mode = 'markers',\r\n",
                "#     name = 'original_out'))\r\n",
                "# test_pre_p.add_trace(go.Scatter(x = test_pred['ds'],\\\r\n",
                "#     y = test_pred['yhat'], \r\n",
                "#     mode = 'markers',\r\n",
                "#     name = 'pred'))\r\n",
                "# test_pre_p.show() "
            ],
            "outputs": [],
            "metadata": {}
        },
        {
            "cell_type": "code",
            "execution_count": null,
            "source": [],
            "outputs": [],
            "metadata": {}
        },
        {
            "cell_type": "markdown",
            "source": [
                "----\r\n",
                "## try h2o predict qty"
            ],
            "metadata": {}
        },
        {
            "cell_type": "code",
            "execution_count": null,
            "source": [
                "x_train2 = x_train[x_train['dif'] == 1] \r\n",
                "x_test2 = x_test[x_test['dif'] == 1];len(x_test2)\r\n",
                "x_train2['qty_tar'] = train_full[train_full['dif'] == 1].iloc[0:len(x_train2), :]['qty']\r\n",
                "x_test2['qty_tar'] = train_full[train_full['dif'] == 1].iloc[len(x_train2):, :]['qty'];x_train2"
            ],
            "outputs": [],
            "metadata": {}
        },
        {
            "cell_type": "code",
            "execution_count": null,
            "source": [
                "import h2o\r\n",
                "from h2o.estimators import H2OIsolationForestEstimator\r\n",
                "from h2o.estimators import H2ODeepLearningEstimator\r\n",
                "from h2o.estimators import H2OXGBoostEstimator\r\n",
                "h2o.init()\r\n"
            ],
            "outputs": [],
            "metadata": {}
        },
        {
            "cell_type": "code",
            "execution_count": null,
            "source": [
                "cols_h2o = [i for i in x_train2.columns.to_numpy() if i not in 'qty_tar']\r\n",
                "\r\n",
                "# Import the prostate dataset\r\n",
                "h2o_df = h2o.H2OFrame(x_train2)\r\n",
                "# Split the data giving the training dataset 75% of the data\r\n",
                "train,test = h2o_df.split_frame(ratios=[0.75])\r\n",
                "\r\n",
                "# Build an Isolation forest model\r\n",
                "model = H2OIsolationForestEstimator(sample_rate = 0.1,\r\n",
                "                                    max_depth = 20,\r\n",
                "                                    ntrees = 500)\r\n",
                "model.train(training_frame=train,x =cols_h2o)\r\n",
                "\r\n",
                "# Calculate score\r\n",
                "score = model.predict(test)\r\n",
                "result_pred = score[\"predict\"]\r\n",
                "\r\n",
                "# Predict the leaf node assignment\r\n",
                "ln_pred = model.predict_leaf_node_assignment(test, \"Path\")"
            ],
            "outputs": [],
            "metadata": {}
        },
        {
            "cell_type": "code",
            "execution_count": null,
            "source": [
                "score_train = model.predict(train)\r\n",
                "forest_pred_trai = pd.concat([score_train['predict'].as_data_frame(),\\\r\n",
                "    result_pred.as_data_frame() ], axis = 0).reset_index()\r\n",
                "forest_pred_test = model.predict(h2o.H2OFrame(x_test2))"
            ],
            "outputs": [],
            "metadata": {}
        },
        {
            "cell_type": "code",
            "execution_count": null,
            "source": [
                "train.as_data_frame()\r\n",
                "train.as_data_frame().append(score_train.as_data_frame())"
            ],
            "outputs": [],
            "metadata": {}
        },
        {
            "cell_type": "code",
            "execution_count": null,
            "source": [
                "score2"
            ],
            "outputs": [],
            "metadata": {}
        },
        {
            "cell_type": "code",
            "execution_count": null,
            "source": [
                "# Generate predictions on a test set (if necessary):\r\n",
                "pred = dl.predict(test)"
            ],
            "outputs": [],
            "metadata": {}
        },
        {
            "cell_type": "code",
            "execution_count": null,
            "source": [
                "sult = pd.concat([test.as_data_frame()['qty_tar'], pred.as_data_frame()], axis = 1)"
            ],
            "outputs": [],
            "metadata": {}
        },
        {
            "cell_type": "code",
            "execution_count": null,
            "source": [
                "sult"
            ],
            "outputs": [],
            "metadata": {}
        },
        {
            "cell_type": "code",
            "execution_count": null,
            "source": [
                "mean_absolute_percentage_error(sult['qty_tar'], sult['predict'])"
            ],
            "outputs": [],
            "metadata": {}
        },
        {
            "cell_type": "code",
            "execution_count": null,
            "source": [
                "x_train2 = x_train2.reset_index()\r\n",
                "x_test2 = x_test2.reset_index()\r\n",
                "x_train2['labels'] = forest_pred_trai['predict'] \r\n",
                "x_test2['labels'] = forest_pred_test.as_data_frame()['predict']"
            ],
            "outputs": [],
            "metadata": {}
        },
        {
            "cell_type": "code",
            "execution_count": null,
            "source": [
                "predictors = [i for i in x_train2.columns.to_numpy() if i not in 'qty_tar']\r\n",
                "response = 'qty_tar'\r\n",
                "# Import the prostate dataset\r\n",
                "h2o_df = h2o.H2OFrame(x_train2)\r\n",
                "# Split the data giving the training dataset 75% of the data\r\n",
                "train,test = h2o_df.split_frame(ratios=[0.75])\r\n",
                "\r\n",
                "dl = H2ODeepLearningEstimator(distribution=\"AUTO\",\r\n",
                "                               hidden=[300,300],\r\n",
                "                               epochs=600,\r\n",
                "                               train_samples_per_iteration=-1,\r\n",
                "                               reproducible=True,\r\n",
                "                               activation=\"Rectifierwithdropout\",\r\n",
                "                               single_node_mode=False,\r\n",
                "                               balance_classes=False,\r\n",
                "                               force_load_balance=False,\r\n",
                "                               seed=707,\r\n",
                "                               tweedie_power=1.5,\r\n",
                "                               score_training_samples=0,\r\n",
                "                               score_validation_samples=0,\r\n",
                "                               score_each_iteration = True,\r\n",
                "                               stopping_rounds=0)\r\n",
                "dl.train(x=predictors,\r\n",
                "         y=response,\r\n",
                "          training_frame= train,\r\n",
                "          validation_frame = test)\r\n",
                "\r\n",
                "# Eval performance:\r\n",
                "perf = dl.model_performance();perf\r\n"
            ],
            "outputs": [],
            "metadata": {}
        },
        {
            "cell_type": "code",
            "execution_count": null,
            "source": [
                "perf"
            ],
            "outputs": [],
            "metadata": {}
        },
        {
            "cell_type": "code",
            "execution_count": null,
            "source": [
                "test_lb_qty_test2 = dl.predict(test).as_data_frame()"
            ],
            "outputs": [],
            "metadata": {}
        },
        {
            "cell_type": "code",
            "execution_count": null,
            "source": [
                "test_lb_qty_test2"
            ],
            "outputs": [],
            "metadata": {}
        },
        {
            "cell_type": "code",
            "execution_count": null,
            "source": [
                "mean_absolute_percentage_error(sult['qty_tar'], sult['predict'])"
            ],
            "outputs": [],
            "metadata": {}
        },
        {
            "cell_type": "markdown",
            "source": [
                "----\r\n",
                "## Darts"
            ],
            "metadata": {}
        },
        {
            "cell_type": "code",
            "execution_count": 28,
            "source": [
                "df_lb , x_test1 \r\n",
                "\r\n",
                "\"\"\"\r\n",
                "the dataframes are taken from fbprophet model, \r\n",
                "no need to split anyway.\r\n",
                "\"\"\""
            ],
            "outputs": [
                {
                    "output_type": "execute_result",
                    "data": {
                        "text/plain": [
                            "'\\nthe dataframes are taken from fbprophet model, \\nno need to split anyway.\\n'"
                        ]
                    },
                    "metadata": {},
                    "execution_count": 28
                }
            ],
            "metadata": {}
        },
        {
            "cell_type": "code",
            "execution_count": 29,
            "source": [
                "from darts import TimeSeries"
            ],
            "outputs": [],
            "metadata": {}
        },
        {
            "cell_type": "code",
            "execution_count": 30,
            "source": [
                "from darts import TimeSeries\r\n",
                "\r\n",
                "series_train = TimeSeries.from_dataframe(df_lb, \r\n",
                "       time_col = 'ds', \r\n",
                "       value_cols ='y')\r\n",
                "series_test = TimeSeries.from_dataframe(x_test1, \r\n",
                "       time_col = 'ds', \r\n",
                "       value_cols =  'y')\r\n",
                "series_train_cov = TimeSeries.from_dataframe(df_lb,\\\r\n",
                "       'ds',\r\n",
                "       ['id', 'line_sum', 'container_sum', 'weight', 'qty', 'span_first'])\r\n",
                "series_test_cov = TimeSeries.from_dataframe(x_test1, \r\n",
                "       'ds', \r\n",
                "       ['id', 'line_sum', 'container_sum', 'weight', 'qty', 'span_first'] )"
            ],
            "outputs": [
                {
                    "output_type": "stream",
                    "name": "stderr",
                    "text": [
                        "[2021-09-23 11:05:19,372] ERROR | darts.timeseries | ValueError: The time index of the provided DataArray is missing the freq attribute, and the frequency cannot be inferred.\n",
                        "ERROR:darts.timeseries:ValueError: The time index of the provided DataArray is missing the freq attribute, and the frequency cannot be inferred.\n"
                    ]
                },
                {
                    "output_type": "error",
                    "ename": "ValueError",
                    "evalue": "The time index of the provided DataArray is missing the freq attribute, and the frequency cannot be inferred.",
                    "traceback": [
                        "\u001b[1;31m---------------------------------------------------------------------------\u001b[0m",
                        "\u001b[1;31mValueError\u001b[0m                                Traceback (most recent call last)",
                        "\u001b[1;32mC:\\Users\\DSCSHA~1\\AppData\\Local\\Temp/ipykernel_11936/3810622174.py\u001b[0m in \u001b[0;36m<module>\u001b[1;34m\u001b[0m\n\u001b[0;32m      4\u001b[0m        \u001b[0mtime_col\u001b[0m \u001b[1;33m=\u001b[0m \u001b[1;34m'ds'\u001b[0m\u001b[1;33m,\u001b[0m\u001b[1;33m\u001b[0m\u001b[1;33m\u001b[0m\u001b[0m\n\u001b[0;32m      5\u001b[0m        value_cols ='y')\n\u001b[1;32m----> 6\u001b[1;33m series_test = TimeSeries.from_dataframe(x_test1, \n\u001b[0m\u001b[0;32m      7\u001b[0m        \u001b[0mtime_col\u001b[0m \u001b[1;33m=\u001b[0m \u001b[1;34m'ds'\u001b[0m\u001b[1;33m,\u001b[0m\u001b[1;33m\u001b[0m\u001b[1;33m\u001b[0m\u001b[0m\n\u001b[0;32m      8\u001b[0m        value_cols =  'y')\n",
                        "\u001b[1;32m~\\Miniconda3\\envs\\siming\\lib\\site-packages\\darts\\timeseries.py\u001b[0m in \u001b[0;36mfrom_dataframe\u001b[1;34m(df, time_col, value_cols, fill_missing_dates, freq)\u001b[0m\n\u001b[0;32m    334\u001b[0m                           coords={time_index.name: time_index, DIMS[1]: series_df.columns})\n\u001b[0;32m    335\u001b[0m \u001b[1;33m\u001b[0m\u001b[0m\n\u001b[1;32m--> 336\u001b[1;33m         \u001b[1;32mreturn\u001b[0m \u001b[0mTimeSeries\u001b[0m\u001b[1;33m.\u001b[0m\u001b[0mfrom_xarray\u001b[0m\u001b[1;33m(\u001b[0m\u001b[0mxa\u001b[0m\u001b[1;33m=\u001b[0m\u001b[0mxa\u001b[0m\u001b[1;33m,\u001b[0m \u001b[0mfill_missing_dates\u001b[0m\u001b[1;33m=\u001b[0m\u001b[0mfill_missing_dates\u001b[0m\u001b[1;33m,\u001b[0m \u001b[0mfreq\u001b[0m\u001b[1;33m=\u001b[0m\u001b[0mfreq\u001b[0m\u001b[1;33m)\u001b[0m\u001b[1;33m\u001b[0m\u001b[1;33m\u001b[0m\u001b[0m\n\u001b[0m\u001b[0;32m    337\u001b[0m \u001b[1;33m\u001b[0m\u001b[0m\n\u001b[0;32m    338\u001b[0m     \u001b[1;33m@\u001b[0m\u001b[0mstaticmethod\u001b[0m\u001b[1;33m\u001b[0m\u001b[1;33m\u001b[0m\u001b[0m\n",
                        "\u001b[1;32m~\\Miniconda3\\envs\\siming\\lib\\site-packages\\darts\\timeseries.py\u001b[0m in \u001b[0;36mfrom_xarray\u001b[1;34m(xa, fill_missing_dates, freq)\u001b[0m\n\u001b[0;32m    226\u001b[0m         \u001b[1;32melse\u001b[0m\u001b[1;33m:\u001b[0m\u001b[1;33m\u001b[0m\u001b[1;33m\u001b[0m\u001b[0m\n\u001b[0;32m    227\u001b[0m             \u001b[1;31m# Otherwise we cast to float64\u001b[0m\u001b[1;33m\u001b[0m\u001b[1;33m\u001b[0m\u001b[1;33m\u001b[0m\u001b[0m\n\u001b[1;32m--> 228\u001b[1;33m             \u001b[1;32mreturn\u001b[0m \u001b[0mTimeSeries\u001b[0m\u001b[1;33m(\u001b[0m\u001b[0mxa_\u001b[0m\u001b[1;33m.\u001b[0m\u001b[0mastype\u001b[0m\u001b[1;33m(\u001b[0m\u001b[0mnp\u001b[0m\u001b[1;33m.\u001b[0m\u001b[0mfloat64\u001b[0m\u001b[1;33m)\u001b[0m\u001b[1;33m)\u001b[0m\u001b[1;33m\u001b[0m\u001b[1;33m\u001b[0m\u001b[0m\n\u001b[0m\u001b[0;32m    229\u001b[0m \u001b[1;33m\u001b[0m\u001b[0m\n\u001b[0;32m    230\u001b[0m     \u001b[1;33m@\u001b[0m\u001b[0mstaticmethod\u001b[0m\u001b[1;33m\u001b[0m\u001b[1;33m\u001b[0m\u001b[0m\n",
                        "\u001b[1;32m~\\Miniconda3\\envs\\siming\\lib\\site-packages\\darts\\timeseries.py\u001b[0m in \u001b[0;36m__init__\u001b[1;34m(self, xa)\u001b[0m\n\u001b[0;32m     80\u001b[0m             self._freq: pd.DateOffset = (freq_tmp if freq_tmp is not None else\n\u001b[0;32m     81\u001b[0m                                          to_offset(self._xa.get_index(self._time_dim).inferred_freq))\n\u001b[1;32m---> 82\u001b[1;33m             raise_if(self._freq is None,\n\u001b[0m\u001b[0;32m     83\u001b[0m                      \u001b[1;34m'The time index of the provided DataArray is missing the freq attribute, and the '\u001b[0m\u001b[1;33m\u001b[0m\u001b[1;33m\u001b[0m\u001b[0m\n\u001b[0;32m     84\u001b[0m                      \u001b[1;34m'frequency cannot be inferred.'\u001b[0m\u001b[1;33m,\u001b[0m\u001b[1;33m\u001b[0m\u001b[1;33m\u001b[0m\u001b[0m\n",
                        "\u001b[1;32m~\\Miniconda3\\envs\\siming\\lib\\site-packages\\darts\\logging.py\u001b[0m in \u001b[0;36mraise_if\u001b[1;34m(condition, message, logger)\u001b[0m\n\u001b[0;32m     74\u001b[0m         \u001b[1;32mif\u001b[0m\u001b[0;31m \u001b[0m\u001b[0;31m`\u001b[0m\u001b[0mcondition\u001b[0m\u001b[0;31m`\u001b[0m \u001b[1;32mis\u001b[0m \u001b[0msatisfied\u001b[0m\u001b[1;33m\u001b[0m\u001b[1;33m\u001b[0m\u001b[0m\n\u001b[0;32m     75\u001b[0m     \"\"\"\n\u001b[1;32m---> 76\u001b[1;33m     \u001b[0mraise_if_not\u001b[0m\u001b[1;33m(\u001b[0m\u001b[1;32mnot\u001b[0m \u001b[0mcondition\u001b[0m\u001b[1;33m,\u001b[0m \u001b[0mmessage\u001b[0m\u001b[1;33m,\u001b[0m \u001b[0mlogger\u001b[0m\u001b[1;33m)\u001b[0m\u001b[1;33m\u001b[0m\u001b[1;33m\u001b[0m\u001b[0m\n\u001b[0m\u001b[0;32m     77\u001b[0m \u001b[1;33m\u001b[0m\u001b[0m\n\u001b[0;32m     78\u001b[0m \u001b[1;33m\u001b[0m\u001b[0m\n",
                        "\u001b[1;32m~\\Miniconda3\\envs\\siming\\lib\\site-packages\\darts\\logging.py\u001b[0m in \u001b[0;36mraise_if_not\u001b[1;34m(condition, message, logger)\u001b[0m\n\u001b[0;32m     52\u001b[0m     \u001b[1;32mif\u001b[0m \u001b[1;33m(\u001b[0m\u001b[1;32mnot\u001b[0m \u001b[0mcondition\u001b[0m\u001b[1;33m)\u001b[0m\u001b[1;33m:\u001b[0m\u001b[1;33m\u001b[0m\u001b[1;33m\u001b[0m\u001b[0m\n\u001b[0;32m     53\u001b[0m         \u001b[0mlogger\u001b[0m\u001b[1;33m.\u001b[0m\u001b[0merror\u001b[0m\u001b[1;33m(\u001b[0m\u001b[1;34m\"ValueError: \"\u001b[0m \u001b[1;33m+\u001b[0m \u001b[0mmessage\u001b[0m\u001b[1;33m)\u001b[0m\u001b[1;33m\u001b[0m\u001b[1;33m\u001b[0m\u001b[0m\n\u001b[1;32m---> 54\u001b[1;33m         \u001b[1;32mraise\u001b[0m \u001b[0mValueError\u001b[0m\u001b[1;33m(\u001b[0m\u001b[0mmessage\u001b[0m\u001b[1;33m)\u001b[0m\u001b[1;33m\u001b[0m\u001b[1;33m\u001b[0m\u001b[0m\n\u001b[0m\u001b[0;32m     55\u001b[0m \u001b[1;33m\u001b[0m\u001b[0m\n\u001b[0;32m     56\u001b[0m \u001b[1;33m\u001b[0m\u001b[0m\n",
                        "\u001b[1;31mValueError\u001b[0m: The time index of the provided DataArray is missing the freq attribute, and the frequency cannot be inferred."
                    ]
                }
            ],
            "metadata": {}
        },
        {
            "cell_type": "code",
            "execution_count": null,
            "source": [
                "ful_span = TimeSeries.from_dataframe(df_lb.append(x_test1), \\\r\n",
                "    'ds', \r\n",
                "    value_cols = 'y')\r\n",
                "ful_span_cov = TimeSeries.from_dataframe(df_lb.append(x_test1), \\\r\n",
                "    'ds', \r\n",
                "    ['id', 'line_sum', 'container_sum', 'weight', 'qty', 'span_first'] )"
            ],
            "outputs": [],
            "metadata": {}
        },
        {
            "cell_type": "code",
            "execution_count": 5,
            "source": [
                "from darts.models import RNNModel\r\n",
                "md1_bert = NBEATSModel(input_chunk_length=31, \\\r\n",
                "    output_chunk_length=15, n_epochs=5, random_state=43)\r\n",
                "    \r\n",
                "# md2_lstm = BlockRNNModel(model='LSTM', \\\r\n",
                "#     input_chunk_length=12, output_chunk_length=6, n_epochs=5, random_state=43)\r\n"
            ],
            "outputs": [
                {
                    "output_type": "error",
                    "ename": "NameError",
                    "evalue": "name '_C' is not defined",
                    "traceback": [
                        "\u001b[1;31m---------------------------------------------------------------------------\u001b[0m",
                        "\u001b[1;31mNameError\u001b[0m                                 Traceback (most recent call last)",
                        "\u001b[1;32mC:\\Users\\DSCSHA~1\\AppData\\Local\\Temp/ipykernel_24632/2564598662.py\u001b[0m in \u001b[0;36m<module>\u001b[1;34m\u001b[0m\n\u001b[1;32m----> 1\u001b[1;33m \u001b[1;32mfrom\u001b[0m \u001b[0mdarts\u001b[0m\u001b[1;33m.\u001b[0m\u001b[0mmodels\u001b[0m \u001b[1;32mimport\u001b[0m \u001b[0mRNNModel\u001b[0m\u001b[1;33m\u001b[0m\u001b[1;33m\u001b[0m\u001b[0m\n\u001b[0m\u001b[0;32m      2\u001b[0m md1_bert = NBEATSModel(input_chunk_length=31, \\\n\u001b[0;32m      3\u001b[0m     output_chunk_length=15, n_epochs=5, random_state=43)\n\u001b[0;32m      4\u001b[0m \u001b[1;33m\u001b[0m\u001b[0m\n\u001b[0;32m      5\u001b[0m \u001b[1;31m# md2_lstm = BlockRNNModel(model='LSTM', \\\u001b[0m\u001b[1;33m\u001b[0m\u001b[1;33m\u001b[0m\u001b[1;33m\u001b[0m\u001b[0m\n",
                        "\u001b[1;32m~\\Miniconda3\\envs\\siming\\lib\\site-packages\\darts\\models\\__init__.py\u001b[0m in \u001b[0;36m<module>\u001b[1;34m\u001b[0m\n\u001b[0;32m     27\u001b[0m \u001b[1;33m\u001b[0m\u001b[0m\n\u001b[0;32m     28\u001b[0m \u001b[1;32mtry\u001b[0m\u001b[1;33m:\u001b[0m\u001b[1;33m\u001b[0m\u001b[1;33m\u001b[0m\u001b[0m\n\u001b[1;32m---> 29\u001b[1;33m     \u001b[1;32mfrom\u001b[0m \u001b[1;33m.\u001b[0m\u001b[0mblock_rnn_model\u001b[0m \u001b[1;32mimport\u001b[0m \u001b[0mBlockRNNModel\u001b[0m\u001b[1;33m\u001b[0m\u001b[1;33m\u001b[0m\u001b[0m\n\u001b[0m\u001b[0;32m     30\u001b[0m     \u001b[1;32mfrom\u001b[0m \u001b[1;33m.\u001b[0m\u001b[0mrnn_model\u001b[0m \u001b[1;32mimport\u001b[0m \u001b[0mRNNModel\u001b[0m\u001b[1;33m\u001b[0m\u001b[1;33m\u001b[0m\u001b[0m\n\u001b[0;32m     31\u001b[0m     \u001b[1;32mfrom\u001b[0m \u001b[1;33m.\u001b[0m\u001b[0mtcn_model\u001b[0m \u001b[1;32mimport\u001b[0m \u001b[0mTCNModel\u001b[0m\u001b[1;33m\u001b[0m\u001b[1;33m\u001b[0m\u001b[0m\n",
                        "\u001b[1;32m~\\Miniconda3\\envs\\siming\\lib\\site-packages\\darts\\models\\block_rnn_model.py\u001b[0m in \u001b[0;36m<module>\u001b[1;34m\u001b[0m\n\u001b[0;32m      4\u001b[0m \"\"\"\n\u001b[0;32m      5\u001b[0m \u001b[1;33m\u001b[0m\u001b[0m\n\u001b[1;32m----> 6\u001b[1;33m \u001b[1;32mimport\u001b[0m \u001b[0mtorch\u001b[0m\u001b[1;33m.\u001b[0m\u001b[0mnn\u001b[0m \u001b[1;32mas\u001b[0m \u001b[0mnn\u001b[0m\u001b[1;33m\u001b[0m\u001b[1;33m\u001b[0m\u001b[0m\n\u001b[0m\u001b[0;32m      7\u001b[0m \u001b[1;32mimport\u001b[0m \u001b[0mtorch\u001b[0m\u001b[1;33m\u001b[0m\u001b[1;33m\u001b[0m\u001b[0m\n\u001b[0;32m      8\u001b[0m \u001b[1;32mfrom\u001b[0m \u001b[0mnumpy\u001b[0m\u001b[1;33m.\u001b[0m\u001b[0mrandom\u001b[0m \u001b[1;32mimport\u001b[0m \u001b[0mRandomState\u001b[0m\u001b[1;33m\u001b[0m\u001b[1;33m\u001b[0m\u001b[0m\n",
                        "\u001b[1;32m~\\Miniconda3\\envs\\siming\\lib\\site-packages\\torch\\__init__.py\u001b[0m in \u001b[0;36m<module>\u001b[1;34m\u001b[0m\n\u001b[0;32m    226\u001b[0m \u001b[1;33m\u001b[0m\u001b[0m\n\u001b[0;32m    227\u001b[0m \u001b[1;33m\u001b[0m\u001b[0m\n\u001b[1;32m--> 228\u001b[1;33m __all__ += [name for name in dir(_C)\n\u001b[0m\u001b[0;32m    229\u001b[0m             \u001b[1;32mif\u001b[0m \u001b[0mname\u001b[0m\u001b[1;33m[\u001b[0m\u001b[1;36m0\u001b[0m\u001b[1;33m]\u001b[0m \u001b[1;33m!=\u001b[0m \u001b[1;34m'_'\u001b[0m \u001b[1;32mand\u001b[0m\u001b[1;33m\u001b[0m\u001b[1;33m\u001b[0m\u001b[0m\n\u001b[0;32m    230\u001b[0m             not name.endswith('Base')]\n",
                        "\u001b[1;31mNameError\u001b[0m: name '_C' is not defined"
                    ]
                }
            ],
            "metadata": {}
        },
        {
            "cell_type": "markdown",
            "source": [
                " > ## *Past Covariates denote time series whose past values are known at prediction time. These are usually things that have to be measured or observed. * Future Covariates denote time series whose future values are already known at prediction time for the span of the forecast horizon. These can for instance represent known future holidays, or weather forecasts.*\r\n",
                "> \r\n",
                "> \r\n",
                " > ## input_chunk_length: this is the length of the lookback window of the model; so each output will be computed by the model by reading the previous input_chunk_length points. "
            ],
            "metadata": {}
        },
        {
            "cell_type": "code",
            "execution_count": null,
            "source": [
                "%%time\r\n",
                "md1_bert.fit(series = series_train, \\\r\n",
                "    past_covariates = series_train_cov,\r\n",
                "    verbose=True)"
            ],
            "outputs": [],
            "metadata": {}
        },
        {
            "cell_type": "code",
            "execution_count": null,
            "source": [
                "%%time\r\n",
                "backtest_bert = md1_bert.historical_forecasts(series_train,\\\r\n",
                "    past_covariates = series_train_cov,\r\n",
                "    start = .75,\r\n",
                "    retrain = False)\r\n",
                "\r\n",
                "# backtest_cov = model_cov.historical_forecasts(series_air_scaled,\r\n",
                "#                                               past_covariates=air_covariates,\r\n",
                "#                                               start=0.6,\r\n",
                "#                                               forecast_horizon=12,\r\n",
                "#                                               stride=1,\r\n",
                "#                                               retrain=False,\r\n",
                "#                                               verbose=True)\r\n"
            ],
            "outputs": [],
            "metadata": {}
        },
        {
            "cell_type": "code",
            "execution_count": null,
            "source": [
                "backtest_bert.values()"
            ],
            "outputs": [],
            "metadata": {}
        },
        {
            "cell_type": "code",
            "execution_count": null,
            "source": [
                "%%time\r\n",
                "train_pred_bert = md1_bert.predict(n = 334 , \r\n",
                "    past_covariates = series_train_cov,\r\n",
                "    # future_covariates = series_test_cov\r\n",
                "    )\r\n",
                "train_pred_bert.values()"
            ],
            "outputs": [],
            "metadata": {}
        },
        {
            "cell_type": "code",
            "execution_count": null,
            "source": [
                "from darts.metrics import mape\r\n",
                "mean_absolute_error(train_pred_bert.values(), series_test.values())"
            ],
            "outputs": [],
            "metadata": {}
        },
        {
            "cell_type": "markdown",
            "source": [
                "## lSTM in darts"
            ],
            "metadata": {}
        },
        {
            "cell_type": "code",
            "execution_count": 42,
            "source": [
                "%%time\r\n",
                "LSTM_darts = RNNModel(\r\n",
                "    model='LSTM',\r\n",
                "    hidden_dim=20,\r\n",
                "    dropout=0,\r\n",
                "    batch_size=7,\r\n",
                "    n_epochs=5,\r\n",
                "    optimizer_kwargs={'lr': 1e-3},\r\n",
                "    model_name='lstm_RNN',\r\n",
                "    log_tensorboard=True,\r\n",
                "    random_state=42,\r\n",
                "    # training_length=20,\r\n",
                "    input_chunk_length=31,\r\n",
                "    force_reset=True\r\n",
                ")\r\n",
                "LSTM_darts.fit(series_train,\r\n",
                "             future_covariates=series_train_cov,\r\n",
                "            #  val_series=series_test,\r\n",
                "            #  val_future_covariates=series_test_cov,\r\n",
                "             verbose=True)"
            ],
            "outputs": [
                {
                    "output_type": "error",
                    "ename": "NameError",
                    "evalue": "name 'RNNModel' is not defined",
                    "traceback": [
                        "\u001b[1;31m---------------------------------------------------------------------------\u001b[0m",
                        "\u001b[1;31mNameError\u001b[0m                                 Traceback (most recent call last)",
                        "\u001b[1;32m<timed exec>\u001b[0m in \u001b[0;36m<module>\u001b[1;34m\u001b[0m\n",
                        "\u001b[1;31mNameError\u001b[0m: name 'RNNModel' is not defined"
                    ]
                }
            ],
            "metadata": {}
        },
        {
            "cell_type": "code",
            "execution_count": null,
            "source": [
                "np.set_printoptions(suppress=True)\r\n",
                "lstm_pred_test = LSTM_darts.predict(n = 334, future_covariates = ful_span_cov).values()"
            ],
            "outputs": [],
            "metadata": {}
        },
        {
            "cell_type": "code",
            "execution_count": null,
            "source": [
                "acc_score_data  = [1 if i>=lstm_pred_test.mean() \\\r\n",
                "    else 0 for i in lstm_pred_test]\r\n",
                "\r\n",
                "# acc_score_data1 = [1 if i>=lstm_pred_test.sort_values() \\\r\n",
                "#     else 0 for i in forecast['yhat']]\r\n",
                "    \r\n",
                "# acc_score_data2 = [1 if i>lb_prophet_result['yhat'].std() \\\r\n",
                "#     else 0 for i in forecast['yhat']]\r\n",
                "\r\n",
                "# mean_absolute_error(x_test1['y'], m.predict(x_test1)['yhat'])\r\n",
                "# [accuracy_score(x_test1['y'],i) for i in [acc_score_data, acc_score_data1, acc_score_data2]]\r\n",
                "accuracy_score(x_test1['y'],acc_score_data) "
            ],
            "outputs": [],
            "metadata": {}
        },
        {
            "cell_type": "code",
            "execution_count": null,
            "source": [
                "lstm_plt = x_test1.copy()\r\n",
                "lstm_plt['y_pred'] = lstm_pred_test"
            ],
            "outputs": [],
            "metadata": {}
        },
        {
            "cell_type": "code",
            "execution_count": null,
            "source": [
                "import plotly.express as ex\r\n",
                "fig = ex.scatter(data_frame=lstm_plt, x = 'ds', y = 'y')\r\n",
                "fig.add_scatter(x = lstm_plt['ds'],  y = lstm_plt['y_pred'])\r\n",
                "fig.show()"
            ],
            "outputs": [],
            "metadata": {}
        },
        {
            "cell_type": "code",
            "execution_count": null,
            "source": [
                "# import altair as alt\r\n",
                "# brush = alt.selection_interval()\r\n",
                "# alt.Chart(lstm_plt).mark_point().encode(\r\n",
                "#     x='ds',\r\n",
                "#     y='y'\r\n",
                "# ).add_selection(\r\n",
                "#     brush\r\n",
                "# )\r\n",
                " "
            ],
            "outputs": [],
            "metadata": {}
        },
        {
            "cell_type": "code",
            "execution_count": null,
            "source": [
                "# min(abs(lstm_plt['y_pred'] - .5))\r\n",
                "\r\n",
                "lstm_plt['abs_diff'] = np.abs(lstm_plt['y_pred'] - .5)\r\n",
                "lstm_plt.sort_values('abs_diff')"
            ],
            "outputs": [],
            "metadata": {}
        },
        {
            "cell_type": "code",
            "execution_count": null,
            "source": [
                "pred_1_lable1 = [1 if i> 0.565032 else 0 for i in lstm_plt['y_pred']]\r\n",
                "# lstm_plt['y_pred']\r\n",
                "pred_1_lable2 = [1 if i> lstm_plt['y_pred'].mean() else 0 for i in lstm_plt['y_pred']]"
            ],
            "outputs": [],
            "metadata": {}
        },
        {
            "cell_type": "code",
            "execution_count": null,
            "source": [
                "from sklearn.metrics import mean_absolute_percentage_error\r\n",
                "[accuracy_score(lstm_plt['y'], pred_1_lable1),\r\n",
                "accuracy_score(lstm_plt['y'], pred_1_lable2)]"
            ],
            "outputs": [],
            "metadata": {}
        },
        {
            "cell_type": "code",
            "execution_count": null,
            "source": [
                "\r\n",
                "\r\n",
                "# series.plot(label='data')\r\n",
                "# for i, m in enumerate(berkets):\r\n",
                "#     err = mape(backtests[i], series)\r\n",
                "#     backtests[i].plot(lw=3, label='{}, MAPE={:.2f}%'.format(m, err))\r\n",
                "\r\n",
                "# plt.title('Backtests with 3-months forecast horizon')\r\n",
                "# plt.legend()"
            ],
            "outputs": [],
            "metadata": {}
        },
        {
            "cell_type": "markdown",
            "source": [
                "---"
            ],
            "metadata": {}
        },
        {
            "cell_type": "markdown",
            "source": [
                "## qty prediction, filter data which not 1"
            ],
            "metadata": {}
        },
        {
            "cell_type": "code",
            "execution_count": null,
            "source": [
                "x_train2 = x_train[x_train['dif'] == 1] \r\n",
                "x_test2 = x_test[x_test['dif'] == 1];len(x_test2)\r\n",
                "x_train2['qty_tar'] = train_full[train_full['dif'] == 1].iloc[0:len(x_train2), :]['qty']\r\n",
                "x_test2['qty_tar'] = train_full[train_full['dif'] == 1].iloc[len(x_train2):, :]['qty']"
            ],
            "outputs": [],
            "metadata": {}
        },
        {
            "cell_type": "code",
            "execution_count": null,
            "source": [
                "[len(x_train2),len(x_test2)]"
            ],
            "outputs": [],
            "metadata": {}
        },
        {
            "cell_type": "code",
            "execution_count": null,
            "source": [
                "df_2_all = pd.DataFrame(pd.concat([x_train2, x_test2], axis = 0)).reset_index(); df_2_all"
            ],
            "outputs": [],
            "metadata": {}
        },
        {
            "cell_type": "code",
            "execution_count": null,
            "source": [
                "pd.set_option('display.float_format', lambda x: '%.3f' % x)\r\n",
                "from sklearn.compose import ColumnTransformer\r\n",
                "from sklearn.preprocessing import StandardScaler\r\n",
                "\r\n",
                "tran3 = ColumnTransformer([\r\n",
                "        ('somename', StandardScaler(), ['weight', 'qty', 'qty_tar'])\r\n",
                "    ])\r\n",
                "tran3.fit(df_2_all[['weight', 'qty', 'qty_tar']])\r\n",
                "\r\n",
                "df_2_all[['weight', 'qty',  'qty_tar']] = pd.DataFrame(\r\n",
                "    tran3.fit_transform(df_2_all[['weight', 'qty', 'qty_tar']])\r\n",
                "\r\n",
                ") "
            ],
            "outputs": [],
            "metadata": {}
        },
        {
            "cell_type": "code",
            "execution_count": null,
            "source": [
                "# tran2.fit(x_train2[['weight', 'qty', 'span_first']])\r\n",
                "# tran2.transform(x_test2[['weight', 'qty', 'span_first']])\r\n",
                "\r\n",
                "df_2_all =df_2_all.fillna(0)\r\n",
                "x_train2 = df_2_all.iloc[0:652,:]\r\n",
                "x_test2 = df_2_all.iloc[652:,:]"
            ],
            "outputs": [],
            "metadata": {}
        },
        {
            "cell_type": "code",
            "execution_count": null,
            "source": [
                "from fbprophet import Prophet \r\n",
                "df_lb = x_train2\r\n",
                "\r\n",
                "## qty_x s是最终预测值, 所以要drop\r\n",
                "cols_lb = [i for i in df_lb.columns \r\n",
                "    if i not in ['qty_tar', 'CREATION_DATE_TIME_STAMP']]\r\n",
                "\r\n",
                "# df_lb = df_lb.drop(['creat_time_x','creat_time_y', 'qty_x'], axis =1 )\r\n",
                "df_lb = df_lb.rename({'CREATION_DATE_TIME_STAMP' : 'ds', 'qty_tar': 'y'}, axis = 1)\r\n",
                "m = Prophet(daily_seasonality=True)\r\n",
                "[m.add_regressor(i) for i in cols_lb]\r\n",
                "\r\n",
                "m.fit(df_lb)\r\n",
                "\r\n",
                "\r\n",
                "# ?mean_absolute_percentage_error\r\n",
                "from sktime.performance_metrics.forecasting import  mean_absolute_percentage_error\r\n",
                "from sktime.performance_metrics.forecasting import mean_absolute_error\r\n",
                "from sklearn.metrics import accuracy_score\r\n",
                "\r\n",
                "# x_test1 = x_test.drop(['dif'], axis =1 )\r\n",
                "x_test1 = x_test2.rename({'CREATION_DATE_TIME_STAMP' : 'ds', 'qty_tar': 'y'}, axis = 1)\r\n",
                " \r\n",
                "# m.predict(x_test)\r\n",
                "forecast = m.predict(x_test1)\r\n",
                "mean_absolute_percentage_error(x_test1['y'], m.predict(x_test1)['yhat'])\r\n",
                "# fig = m.plot_components(m.predict(x_test))"
            ],
            "outputs": [],
            "metadata": {}
        },
        {
            "cell_type": "code",
            "execution_count": null,
            "source": [],
            "outputs": [],
            "metadata": {}
        },
        {
            "cell_type": "markdown",
            "source": [
                "---\r\n",
                "# cross validation on prophet"
            ],
            "metadata": {}
        },
        {
            "cell_type": "code",
            "execution_count": null,
            "source": [
                "from prophet.diagnostics import cross_validation, performance_metrics\r\n",
                "df_cv = cross_validation(m, initial='365 days', period='31 days', horizon = '180 days')\r\n"
            ],
            "outputs": [],
            "metadata": {}
        },
        {
            "cell_type": "code",
            "execution_count": null,
            "source": [
                "df_cv = pd.DataFrame(df_cv);df_cv"
            ],
            "outputs": [],
            "metadata": {}
        },
        {
            "cell_type": "code",
            "execution_count": null,
            "source": [
                "sns.scatterplot(data = df_cv, x = 'ds', y = 'yhat')"
            ],
            "outputs": [],
            "metadata": {}
        },
        {
            "cell_type": "code",
            "execution_count": null,
            "source": [
                "performance_metrics(df_cv).sort_values('mae')"
            ],
            "outputs": [],
            "metadata": {}
        },
        {
            "cell_type": "markdown",
            "source": [
                "## Tunning paras"
            ],
            "metadata": {}
        },
        {
            "cell_type": "code",
            "execution_count": null,
            "source": [
                "from fbprophet import Prophet \r\n",
                "df_lb = x_train \r\n",
                "cols_lb = [i for i in df_lb.columns \r\n",
                "    if i not in ['diff','qty_x','creat_time_x','creat_time_y','CREATION_DATE_TIME_STAMP']]\r\n",
                "\r\n",
                "df_lb = df_lb.drop(['creat_time_x','creat_time_y', 'qty_x'], axis =1 )\r\n",
                "df_lb = df_lb.rename({'CREATION_DATE_TIME_STAMP' : 'ds', 'diff': 'y'}, axis = 1)\r\n",
                "m = Prophet()\r\n",
                "[m.add_regressor(i) for i in cols_lb]\r\n",
                "\r\n",
                "m.fit(df_lb)"
            ],
            "outputs": [],
            "metadata": {}
        },
        {
            "cell_type": "code",
            "execution_count": null,
            "source": [
                "%%Time\r\n",
                "import itertools\r\n",
                "param_grid = {  \r\n",
                "    'changepoint_prior_scale': [0.01,  0.5],\r\n",
                "    'seasonality_prior_scale': [0.01, 0.1],\r\n",
                "}\r\n",
                " \r\n",
                "\r\n",
                "# Generate all combinations of parameters\r\n",
                "all_params = [dict(zip(param_grid.keys(), v)) for v in itertools.product(*param_grid.values())]\r\n",
                "rmses = []  # Store the RMSEs for each params here\r\n",
                "\r\n",
                "# Use cross validation to evaluate all parameters\r\n",
                "for params in all_params:\r\n",
                "    m = Prophet(**params)  # Fit model with given params\r\n",
                "    [m.add_regressor(i) for i in cols_lb]\r\n",
                "    m.fit(df_lb)\r\n",
                "    df_cv = cross_validation(m, \r\n",
                "        initial='365 days', period='31 days', horizon = '180 days', parallel=\"processes\")\r\n",
                "    df_p = performance_metrics(df_cv, rolling_window=1)\r\n",
                "    rmses.append(df_p['rmse'].values[0])\r\n",
                "\r\n",
                "# Find the best parameters\r\n",
                "tuning_results = pd.DataFrame(all_params)\r\n",
                "tuning_results['rmse'] = rmses\r\n",
                "print(tuning_results)"
            ],
            "outputs": [],
            "metadata": {}
        },
        {
            "cell_type": "code",
            "execution_count": null,
            "source": [
                "# Python\r\n",
                "best_params = all_params[np.argmin(rmses)]\r\n",
                "print(best_params)"
            ],
            "outputs": [],
            "metadata": {}
        },
        {
            "cell_type": "code",
            "execution_count": null,
            "source": [
                "df_lb"
            ],
            "outputs": [],
            "metadata": {}
        },
        {
            "cell_type": "code",
            "execution_count": null,
            "source": [
                "x_test1 = x_test.drop(['creat_time_x','creat_time_y', 'qty_x', 'diff'], axis =1 )\r\n",
                "x_test1 = x_test1.rename({'CREATION_DATE_TIME_STAMP' : 'ds'}, axis = 1)\r\n",
                "x_test1['y'] = 0\r\n",
                "m.predict(x_test1)\r\n",
                "mean_absolute_error(x_test['diff'], m.predict(x_test1)['yhat'])"
            ],
            "outputs": [],
            "metadata": {}
        },
        {
            "cell_type": "code",
            "execution_count": null,
            "source": [
                "values = m.predict(x_test1)['yhat']\r\n",
                "labels = [1 if i>.5 else 0 for i in values]"
            ],
            "outputs": [],
            "metadata": {}
        },
        {
            "cell_type": "code",
            "execution_count": null,
            "source": [
                "x_test['pred_labels'] = labels;x_test\r\n"
            ],
            "outputs": [],
            "metadata": {}
        },
        {
            "cell_type": "code",
            "execution_count": null,
            "source": [
                "accuracy_score(x_test['diff'], x_test['pred_labels'])"
            ],
            "outputs": [],
            "metadata": {}
        },
        {
            "cell_type": "code",
            "execution_count": null,
            "source": [
                "x_train"
            ],
            "outputs": [],
            "metadata": {}
        },
        {
            "cell_type": "code",
            "execution_count": null,
            "source": [
                "# qty_x is target\r\n",
                "from fbprophet import Prophet \r\n",
                "df_value = x_train \r\n",
                "df_value = df_value.drop(['creat_time_x','creat_time_y'], axis =1 )\r\n",
                "\r\n",
                "df_value = df_value.rename({\r\n",
                "    'CREATION_DATE_TIME_STAMP' : 'ds', 'qty_x': 'y', 'diff':'pred_labels'\r\n",
                "    }, axis = 1)\r\n",
                "\r\n",
                "    \r\n",
                "cols_value = [i for i in df_value.columns \r\n",
                "    if i not in ['y', 'ds', 'pred_labels']]\r\n",
                "\r\n",
                "m = Prophet()\r\n",
                "[m.add_regressor(i) for i in cols_value]\r\n",
                "\r\n",
                "m.fit(df_value)"
            ],
            "outputs": [],
            "metadata": {}
        },
        {
            "cell_type": "code",
            "execution_count": null,
            "source": [
                "df_value"
            ],
            "outputs": [],
            "metadata": {}
        },
        {
            "cell_type": "code",
            "execution_count": null,
            "source": [
                "x_test_fin = x_test.drop(['creat_time_x','creat_time_y', 'qty_x', 'diff'], axis =1 )\r\n",
                " \r\n",
                "x_test_fin = x_test_fin.rename({'CREATION_DATE_TIME_STAMP' : 'ds'}, axis = 1);\r\n",
                "x_test_fin"
            ],
            "outputs": [],
            "metadata": {}
        },
        {
            "cell_type": "code",
            "execution_count": null,
            "source": [
                "\r\n",
                "# m.predict(x_test_fin)\r\n",
                "mean_absolute_percentage_error(x_test['qty_x'], m.predict(x_test_fin)['yhat'])"
            ],
            "outputs": [],
            "metadata": {}
        },
        {
            "cell_type": "code",
            "execution_count": null,
            "source": [],
            "outputs": [],
            "metadata": {}
        },
        {
            "cell_type": "markdown",
            "source": [
                "# aaa"
            ],
            "metadata": {}
        },
        {
            "cell_type": "code",
            "execution_count": null,
            "source": [
                "from sklearn.linear_model import Ridge, LinearRegression, Lasso\r\n",
                "from sklearn import model_selection\r\n",
                "cv_split = model_selection.ShuffleSplit(\r\n",
                "    n_splits = 6, \r\n",
                "    test_size = .25, \r\n",
                "    # max_train_size = .75\r\n",
                "    )\r\n",
                "alg1 = Lasso()\r\n",
                "\r\n",
                "cv_results_1 = model_selection.cross_validate(\r\n",
                "    alg1, \r\n",
                "    train_first.drop(['qty2','CREATION_DATE_TIME_STAMP','creat_time'], axis =1) , train_first['qty2'].to_numpy(), \r\n",
                "    cv  = cv_split, scoring='neg_mean_absolute_percentage_error')\r\n",
                "\r\n",
                "\r\n",
                "cv_results_1['test_score'].mean()"
            ],
            "outputs": [],
            "metadata": {}
        },
        {
            "cell_type": "code",
            "execution_count": null,
            "source": [
                "from sklearn.ensemble import RandomForestRegressor\r\n",
                "alg2 = RandomForestRegressor(n_estimators = 34, \r\n",
                "        max_depth = 61,\r\n",
                "        min_samples_split = 3, \r\n",
                "        min_samples_leaf=4, \r\n",
                "        # max_leaf_nodes = 31\r\n",
                "        )\r\n",
                "cv_results_2 = model_selection.cross_validate(\r\n",
                "        alg2, \r\n",
                "        train_first, \r\n",
                "        train_full['qty'], \r\n",
                "        cv  = cv_split, scoring='neg_mean_absolute_percentage_error')\r\n",
                "cv_results_2['test_score'].mean()"
            ],
            "outputs": [],
            "metadata": {}
        },
        {
            "cell_type": "code",
            "execution_count": null,
            "source": [
                "alg2.fit(train_first,train_full['qty']).predict(train_first)"
            ],
            "outputs": [],
            "metadata": {}
        },
        {
            "cell_type": "code",
            "execution_count": null,
            "source": [
                "from sklearn.neural_network import MLPRegressor\r\n",
                "alg3 = MLPRegressor(\r\n",
                "    hidden_layer_sizes = (891, 891, 450, 135), \r\n",
                "    max_iter=1000,\r\n",
                "    verbose=True, \r\n",
                "    activation = 'identity', \r\n",
                "    solver = 'adam', learning_rate = 'adaptive')\r\n",
                "cv_results_3 = model_selection.cross_validate(\r\n",
                "    alg3, train_first,train_full['qty'], \r\n",
                "    cv  = cv_split, \r\n",
                "    scoring='neg_mean_absolute_percentage_error')\r\n",
                "cv_results_3['test_score'].mean()"
            ],
            "outputs": [],
            "metadata": {}
        },
        {
            "cell_type": "code",
            "execution_count": null,
            "source": [
                "from sklearn.neural_network import MLPRegressor\r\n",
                "alg3 = MLPRegressor(\r\n",
                "    hidden_layer_sizes = (1120, 850, 450, 135), \r\n",
                "    max_iter=1000,\r\n",
                "    verbose=True, \r\n",
                "    activation = 'relu', \r\n",
                "    solver = 'adam', \r\n",
                "    learning_rate = 'adaptive',\r\n",
                "    warm_start = True,\r\n",
                "    early_stopping = True\r\n",
                "    )\r\n",
                "cv_results_3 = model_selection.cross_validate(\r\n",
                "    alg3, train_first,train_full['qty'], \r\n",
                "    cv  = cv_split, \r\n",
                "    scoring='neg_mean_absolute_percentage_error')\r\n",
                "cv_results_3['test_score'].mean()"
            ],
            "outputs": [],
            "metadata": {}
        },
        {
            "cell_type": "code",
            "execution_count": null,
            "source": [],
            "outputs": [],
            "metadata": {}
        }
    ],
    "metadata": {
        "orig_nbformat": 4,
        "language_info": {
            "name": "python",
            "version": "3.8.8",
            "mimetype": "text/x-python",
            "codemirror_mode": {
                "name": "ipython",
                "version": 3
            },
            "pygments_lexer": "ipython3",
            "nbconvert_exporter": "python",
            "file_extension": ".py"
        },
        "kernelspec": {
            "name": "python3",
            "display_name": "Python 3.8.8 64-bit ('siming': conda)"
        },
        "interpreter": {
            "hash": "47b50d2908d96196e4220cfb4e81faa93803065ea975497e7026f672c1f58470"
        }
    },
    "nbformat": 4,
    "nbformat_minor": 2
}