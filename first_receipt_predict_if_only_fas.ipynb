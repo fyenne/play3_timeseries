{
    "cells": [
        {
            "cell_type": "markdown",
            "source": [
                "---\r\n",
                "# first in receipt prediction on multiple targets, fas data set "
            ],
            "metadata": {}
        },
        {
            "cell_type": "code",
            "execution_count": 1,
            "source": [
                "import pandas as pd\r\n",
                "import numpy as np\r\n",
                "import matplotlib.pyplot as plt\r\n",
                "import seaborn as sns\r\n",
                "import plotly.express as px\r\n",
                "import plotly.graph_objs as go\r\n",
                "from plotly.tools import FigureFactory as FF\r\n",
                "import re\r\n",
                "import os\r\n",
                "from datetime import datetime\r\n",
                "os.getcwd()"
            ],
            "outputs": [
                {
                    "output_type": "execute_result",
                    "data": {
                        "text/plain": [
                            "'c:\\\\Users\\\\dscshap3808\\\\Documents\\\\my_scripts_new\\\\play3_first_pre_time_series'"
                        ]
                    },
                    "metadata": {},
                    "execution_count": 1
                }
            ],
            "metadata": {}
        },
        {
            "cell_type": "code",
            "execution_count": 26,
            "source": [
                "\r\n",
                "# path0 = 'Q:\\\\SHA_KQ\\\\Digital Intelligence\\\\深度赋智-AI\\\\FTP\\\\hp_train\\\\2019 outbound\\\\'\r\n",
                "# path1 = 'Q:\\\\SHA_KQ\\\\Digital Intelligence\\\\深度赋智-AI\\\\FTP\\\\hp_train\\\\2020 outbound\\\\'\r\n",
                "# # path2 = 'Q:\\\\SHA_KQ\\\\Digital Intelligence\\\\深度赋智-AI\\\\FTP\\\\hp_train\\\\2021 outbound\\\\'\r\n",
                "# path2 = 'Q:\\\\SHA_KQ\\\\Digital Intelligence\\\\深度赋智-AI\\\\FTP\\\\保乐力加_train\\\\outbound\\\\'\r\n",
                "# %%time\r\n",
                "# dfs0 = pd.DataFrame()\r\n",
                "# for fname in os.listdir(path0):\r\n",
                "#     if re.search(r'\\.xls$', fname):\r\n",
                "#         dfs0 = pd.concat(\r\n",
                "#             [dfs0 ,pd.read_excel(path0 + fname)], \r\n",
                "#             axis = 0, \r\n",
                "#             ignore_index = True)\r\n",
                "\r\n",
                "# dfs1 = pd.DataFrame()\r\n",
                "# for fname in os.listdir(path1):\r\n",
                "#     if re.search(r'\\.xls$', fname):\r\n",
                "#         dfs1 = pd.concat(\r\n",
                "#             [dfs1 ,pd.read_excel(path1 + fname)], \r\n",
                "#             axis = 0, \r\n",
                "#             ignore_index = True)\r\n",
                "\r\n",
                "\r\n",
                "# dfs2 = pd.DataFrame()\r\n",
                "# for fname in os.listdir(path2):\r\n",
                "#     if re.search(r'\\.xls$', fname):\r\n",
                "#         dfs2 = pd.concat(\r\n",
                "#             [dfs2 ,pd.read_excel(path2 + fname)], \r\n",
                "#             axis = 0, \r\n",
                "#             ignore_index = True)\r\n",
                "# dfs2 = dfs2.dropna(axis =1 , how = 'all')\r\n",
                " \r\n",
                "# # path+\r\n",
                "# dfs = pd.DataFrame()\r\n",
                "# for fname in os.listdir(path):\r\n",
                "#     if re.search(r'\\.xls$', fname):\r\n",
                "#         dfs = pd.concat(\r\n",
                "#             [dfs ,pd.read_excel(path + fname)], axis = 0, ignore_index = True)\r\n",
                "# prc_in = pd.DataFrame(dfs)\r\n",
                "# prc_in = prc_in.drop(['仓库城市','仓库编号','Unnamed: 7'], axis = 1)\r\n",
                "# prc_in.columns = ['time', 'sku','name','code','quant']\r\n",
                "\r\n",
                "# dfs3 = pd.DataFrame()\r\n",
                "# for fname in os.listdir(path2):\r\n",
                "#     if re.search(r'\\.xlsx$', fname):\r\n",
                "#         dfs3 = pd.concat(\r\n",
                "#             [dfs3 ,pd.read_excel(path3 + fname)], \r\n",
                "#             axis = 0, \r\n",
                "#             ignore_index = True)\r\n",
                "# pd.set_option(\"display.max_rows\", None, \"display.max_columns\", None)\r\n",
                "  \r\n",
                "# # dfs2.head(200)"
            ],
            "outputs": [],
            "metadata": {}
        },
        {
            "cell_type": "code",
            "execution_count": 2,
            "source": [
                "# df = pd.read_clipboard()\r\n",
                "# df.to_csv('./fas_057_rh.csv', index = False, encoding='utf_8_sig')\r\n",
                "df = pd.read_csv('./fas_057_rh.csv')\r\n",
                "df = df.fillna(method = 'ffill')\r\n",
                "df_test = pd.read_csv('./fas_inbhdr_test.csv')\r\n",
                "df_test = df_test.fillna(method = 'ffill')\r\n",
                "# df_test.columns = [re.sub(r'.+\\.','',i) for i in df_test.columns]\r\n",
                "df_test = df_test[df_test['RECEIPT_DATE'] > '2021-05-10']\r\n"
            ],
            "outputs": [],
            "metadata": {}
        },
        {
            "cell_type": "code",
            "execution_count": 3,
            "source": [
                "df.columns = [i.upper() for i in df.columns.to_numpy()]\r\n",
                "df_test.columns = [i.upper() for i in df_test.columns.to_numpy()]\r\n",
                "\r\n",
                "def date_mutate(col, df):\r\n",
                "    df[col + '_TIME'] = df[col].str.slice(11,-1).astype(str)\r\n",
                "    df[col] = df[col].str.slice(0,10)\r\n",
                "    df[col + '_2'] = [datetime.strptime(i,'%H:%M:%S.%f').strftime('%H%M%S') \\\r\n",
                "        for i in df[col + '_TIME']]\r\n",
                "    return df.head(1)\r\n",
                "\r\n",
                "for i in df.columns[df.columns.str.contains(r'date|DATE')].to_numpy():\r\n",
                "    date_mutate(i, df)\r\n",
                "\r\n",
                "\r\n",
                "first_df = df.groupby(\r\n",
                "    'CREATION_DATE_TIME_STAMP'\r\n",
                "    )['CREATION_DATE_TIME_STAMP_2'].min().reset_index();first_df\r\n",
                "\r\n",
                "\r\n",
                "first_df = first_df.merge(\r\n",
                "    df, \r\n",
                "    on = ['CREATION_DATE_TIME_STAMP', 'CREATION_DATE_TIME_STAMP_2'], \r\n",
                "    how = 'inner')\r\n",
                "\r\n",
                "\r\n",
                "\r\n",
                "for i in df_test.columns[df_test.columns.str.contains(r'date|DATE')].to_numpy():\r\n",
                "    date_mutate(i, df_test)\r\n",
                "\r\n",
                "df_test_first = df_test.groupby(\r\n",
                "    'CREATION_DATE_TIME_STAMP'\r\n",
                "    )['CREATION_DATE_TIME_STAMP_2'].min().reset_index()\r\n",
                "\r\n",
                "\r\n",
                "df_test_first = df_test_first.merge(\r\n",
                "    df_test, \r\n",
                "    on = ['CREATION_DATE_TIME_STAMP', 'CREATION_DATE_TIME_STAMP_2'], \r\n",
                "    how = 'inner')"
            ],
            "outputs": [],
            "metadata": {}
        },
        {
            "cell_type": "code",
            "execution_count": 4,
            "source": [
                "def data_mani(first_df, df):\r\n",
                "    train_first = first_df.groupby(\r\n",
                "        'CREATION_DATE_TIME_STAMP'\r\n",
                "        ).agg({'RECEIPT_ID':['nunique'], \r\n",
                "        'TOTAL_LINES': ['sum'], \r\n",
                "        'TOTAL_CONTAINERS': 'sum', \r\n",
                "        'TOTAL_WEIGHT':'sum',\r\n",
                "        'TOTAL_QTY': ['sum'],\r\n",
                "        'CREATION_DATE_TIME_STAMP_2': 'min' }).reset_index()\r\n",
                "        \r\n",
                "    train_full = df.groupby(\r\n",
                "        'CREATION_DATE_TIME_STAMP'\r\n",
                "        ).agg({'RECEIPT_ID':['nunique'], \r\n",
                "        'TOTAL_LINES': ['sum'], \r\n",
                "        'TOTAL_CONTAINERS': 'sum', \r\n",
                "        'TOTAL_WEIGHT':'sum',\r\n",
                "        'TOTAL_QTY': ['sum'],\r\n",
                "        'CREATION_DATE_TIME_STAMP_2': 'max' }).reset_index()\r\n",
                "\r\n",
                "    train_full.columns = ['CREATION_DATE_TIME_STAMP','id', 'line_sum', 'container_sum', 'weight', 'qty', 'creat_time']\r\n",
                "    train_first.columns = ['CREATION_DATE_TIME_STAMP','id', 'line_sum', 'container_sum', 'weight', 'qty', 'creat_time']\r\n",
                "\r\n",
                "    train_first.index= pd.to_datetime(train_first['CREATION_DATE_TIME_STAMP'], \\\r\n",
                "        yearfirst = True,  format='%Y-%m-%d')\r\n",
                "    train_full.index = train_full['CREATION_DATE_TIME_STAMP']\r\n",
                "    train_full.index = pd.DatetimeIndex(train_full.index)\r\n",
                "\r\n",
                "    train_full['CREATION_DATE_TIME_STAMP'] = pd.to_datetime(train_full['CREATION_DATE_TIME_STAMP'])\r\n",
                "    train_first['CREATION_DATE_TIME_STAMP'] = pd.to_datetime(train_first['CREATION_DATE_TIME_STAMP'])\r\n",
                "    return train_first  , train_full \r\n",
                "\r\n"
            ],
            "outputs": [],
            "metadata": {}
        },
        {
            "cell_type": "code",
            "execution_count": 5,
            "source": [
                "train_first, train_full = data_mani(first_df, df)\r\n",
                "test_first, test_full = data_mani(df_test_first, df_test)"
            ],
            "outputs": [],
            "metadata": {}
        },
        {
            "cell_type": "code",
            "execution_count": 6,
            "source": [
                "sns.scatterplot(x = 'container_sum', y  ='qty', data = train_full)"
            ],
            "outputs": [
                {
                    "output_type": "execute_result",
                    "data": {
                        "text/plain": [
                            "<AxesSubplot:xlabel='container_sum', ylabel='qty'>"
                        ]
                    },
                    "metadata": {},
                    "execution_count": 6
                },
                {
                    "output_type": "display_data",
                    "data": {
                        "text/plain": [
                            "<Figure size 432x288 with 1 Axes>"
                        ],
                        "image/svg+xml": "<?xml version=\"1.0\" encoding=\"utf-8\" standalone=\"no\"?>\r\n<!DOCTYPE svg PUBLIC \"-//W3C//DTD SVG 1.1//EN\"\r\n  \"http://www.w3.org/Graphics/SVG/1.1/DTD/svg11.dtd\">\r\n<svg height=\"262.474375pt\" version=\"1.1\" viewBox=\"0 0 408.053125 262.474375\" width=\"408.053125pt\" xmlns=\"http://www.w3.org/2000/svg\" xmlns:xlink=\"http://www.w3.org/1999/xlink\">\r\n <metadata>\r\n  <rdf:RDF xmlns:cc=\"http://creativecommons.org/ns#\" xmlns:dc=\"http://purl.org/dc/elements/1.1/\" xmlns:rdf=\"http://www.w3.org/1999/02/22-rdf-syntax-ns#\">\r\n   <cc:Work>\r\n    <dc:type rdf:resource=\"http://purl.org/dc/dcmitype/StillImage\"/>\r\n    <dc:date>2021-09-01T14:58:03.725635</dc:date>\r\n    <dc:format>image/svg+xml</dc:format>\r\n    <dc:creator>\r\n     <cc:Agent>\r\n      <dc:title>Matplotlib v3.4.3, https://matplotlib.org/</dc:title>\r\n     </cc:Agent>\r\n    </dc:creator>\r\n   </cc:Work>\r\n  </rdf:RDF>\r\n </metadata>\r\n <defs>\r\n  <style type=\"text/css\">*{stroke-linecap:butt;stroke-linejoin:round;}</style>\r\n </defs>\r\n <g id=\"figure_1\">\r\n  <g id=\"patch_1\">\r\n   <path d=\"M 0 262.474375 \r\nL 408.053125 262.474375 \r\nL 408.053125 0 \r\nL 0 0 \r\nz\r\n\" style=\"fill:none;\"/>\r\n  </g>\r\n  <g id=\"axes_1\">\r\n   <g id=\"patch_2\">\r\n    <path d=\"M 66.053125 224.64 \r\nL 400.853125 224.64 \r\nL 400.853125 7.2 \r\nL 66.053125 7.2 \r\nz\r\n\" style=\"fill:#ffffff;\"/>\r\n   </g>\r\n   <g id=\"PathCollection_1\">\r\n    <defs>\r\n     <path d=\"M 0 3 \r\nC 0.795609 3 1.55874 2.683901 2.12132 2.12132 \r\nC 2.683901 1.55874 3 0.795609 3 0 \r\nC 3 -0.795609 2.683901 -1.55874 2.12132 -2.12132 \r\nC 1.55874 -2.683901 0.795609 -3 0 -3 \r\nC -0.795609 -3 -1.55874 -2.683901 -2.12132 -2.12132 \r\nC -2.683901 -1.55874 -3 -0.795609 -3 0 \r\nC -3 0.795609 -2.683901 1.55874 -2.12132 2.12132 \r\nC -1.55874 2.683901 -0.795609 3 0 3 \r\nz\r\n\" id=\"m54d873b748\" style=\"stroke:#ffffff;stroke-width:0.48;\"/>\r\n    </defs>\r\n    <g clip-path=\"url(#p5313c59dc4)\">\r\n     <use style=\"fill:#1f77b4;stroke:#ffffff;stroke-width:0.48;\" x=\"85.238803\" xlink:href=\"#m54d873b748\" y=\"214.543601\"/>\r\n     <use style=\"fill:#1f77b4;stroke:#ffffff;stroke-width:0.48;\" x=\"99.219504\" xlink:href=\"#m54d873b748\" y=\"90.815762\"/>\r\n     <use style=\"fill:#1f77b4;stroke:#ffffff;stroke-width:0.48;\" x=\"88.828442\" xlink:href=\"#m54d873b748\" y=\"214.32624\"/>\r\n     <use style=\"fill:#1f77b4;stroke:#ffffff;stroke-width:0.48;\" x=\"107.532353\" xlink:href=\"#m54d873b748\" y=\"210.716788\"/>\r\n     <use style=\"fill:#1f77b4;stroke:#ffffff;stroke-width:0.48;\" x=\"87.8838\" xlink:href=\"#m54d873b748\" y=\"192.053022\"/>\r\n     <use style=\"fill:#1f77b4;stroke:#ffffff;stroke-width:0.48;\" x=\"96.574506\" xlink:href=\"#m54d873b748\" y=\"185.103518\"/>\r\n     <use style=\"fill:#1f77b4;stroke:#ffffff;stroke-width:0.48;\" x=\"102.998072\" xlink:href=\"#m54d873b748\" y=\"210.288601\"/>\r\n     <use style=\"fill:#1f77b4;stroke:#ffffff;stroke-width:0.48;\" x=\"101.297716\" xlink:href=\"#m54d873b748\" y=\"198.296223\"/>\r\n     <use style=\"fill:#1f77b4;stroke:#ffffff;stroke-width:0.48;\" x=\"93.929509\" xlink:href=\"#m54d873b748\" y=\"214.133084\"/>\r\n     <use style=\"fill:#1f77b4;stroke:#ffffff;stroke-width:0.48;\" x=\"92.040225\" xlink:href=\"#m54d873b748\" y=\"212.708861\"/>\r\n     <use style=\"fill:#1f77b4;stroke:#ffffff;stroke-width:0.48;\" x=\"86.183445\" xlink:href=\"#m54d873b748\" y=\"207.082646\"/>\r\n     <use style=\"fill:#1f77b4;stroke:#ffffff;stroke-width:0.48;\" x=\"95.818793\" xlink:href=\"#m54d873b748\" y=\"181.23846\"/>\r\n     <use style=\"fill:#1f77b4;stroke:#ffffff;stroke-width:0.48;\" x=\"101.864501\" xlink:href=\"#m54d873b748\" y=\"206.252898\"/>\r\n     <use style=\"fill:#1f77b4;stroke:#ffffff;stroke-width:0.48;\" x=\"91.662368\" xlink:href=\"#m54d873b748\" y=\"200.411016\"/>\r\n     <use style=\"fill:#1f77b4;stroke:#ffffff;stroke-width:0.48;\" x=\"88.450586\" xlink:href=\"#m54d873b748\" y=\"213.494798\"/>\r\n     <use style=\"fill:#1f77b4;stroke:#ffffff;stroke-width:0.48;\" x=\"92.040225\" xlink:href=\"#m54d873b748\" y=\"194.337008\"/>\r\n     <use style=\"fill:#1f77b4;stroke:#ffffff;stroke-width:0.48;\" x=\"88.261657\" xlink:href=\"#m54d873b748\" y=\"207.495099\"/>\r\n     <use style=\"fill:#1f77b4;stroke:#ffffff;stroke-width:0.48;\" x=\"106.020926\" xlink:href=\"#m54d873b748\" y=\"208.334287\"/>\r\n     <use style=\"fill:#1f77b4;stroke:#ffffff;stroke-width:0.48;\" x=\"96.385578\" xlink:href=\"#m54d873b748\" y=\"190.622263\"/>\r\n     <use style=\"fill:#1f77b4;stroke:#ffffff;stroke-width:0.48;\" x=\"106.398783\" xlink:href=\"#m54d873b748\" y=\"209.232294\"/>\r\n     <use style=\"fill:#1f77b4;stroke:#ffffff;stroke-width:0.48;\" x=\"152.875167\" xlink:href=\"#m54d873b748\" y=\"210.86105\"/>\r\n     <use style=\"fill:#1f77b4;stroke:#ffffff;stroke-width:0.48;\" x=\"100.730931\" xlink:href=\"#m54d873b748\" y=\"79.921566\"/>\r\n     <use style=\"fill:#1f77b4;stroke:#ffffff;stroke-width:0.48;\" x=\"84.483089\" xlink:href=\"#m54d873b748\" y=\"192.323634\"/>\r\n     <use style=\"fill:#1f77b4;stroke:#ffffff;stroke-width:0.48;\" x=\"86.372373\" xlink:href=\"#m54d873b748\" y=\"211.132872\"/>\r\n     <use style=\"fill:#1f77b4;stroke:#ffffff;stroke-width:0.48;\" x=\"85.805588\" xlink:href=\"#m54d873b748\" y=\"209.441909\"/>\r\n     <use style=\"fill:#1f77b4;stroke:#ffffff;stroke-width:0.48;\" x=\"95.252008\" xlink:href=\"#m54d873b748\" y=\"214.224337\"/>\r\n     <use style=\"fill:#1f77b4;stroke:#ffffff;stroke-width:0.48;\" x=\"83.916304\" xlink:href=\"#m54d873b748\" y=\"214.698998\"/>\r\n     <use style=\"fill:#1f77b4;stroke:#ffffff;stroke-width:0.48;\" x=\"99.597361\" xlink:href=\"#m54d873b748\" y=\"213.78671\"/>\r\n     <use style=\"fill:#1f77b4;stroke:#ffffff;stroke-width:0.48;\" x=\"89.584156\" xlink:href=\"#m54d873b748\" y=\"210.925919\"/>\r\n     <use style=\"fill:#1f77b4;stroke:#ffffff;stroke-width:0.48;\" x=\"111.121992\" xlink:href=\"#m54d873b748\" y=\"149.409341\"/>\r\n     <use style=\"fill:#1f77b4;stroke:#ffffff;stroke-width:0.48;\" x=\"88.639514\" xlink:href=\"#m54d873b748\" y=\"159.780709\"/>\r\n     <use style=\"fill:#1f77b4;stroke:#ffffff;stroke-width:0.48;\" x=\"86.75023\" xlink:href=\"#m54d873b748\" y=\"214.379976\"/>\r\n     <use style=\"fill:#1f77b4;stroke:#ffffff;stroke-width:0.48;\" x=\"94.496294\" xlink:href=\"#m54d873b748\" y=\"168.525015\"/>\r\n     <use style=\"fill:#1f77b4;stroke:#ffffff;stroke-width:0.48;\" x=\"92.418082\" xlink:href=\"#m54d873b748\" y=\"200.277404\"/>\r\n     <use style=\"fill:#1f77b4;stroke:#ffffff;stroke-width:0.48;\" x=\"98.652719\" xlink:href=\"#m54d873b748\" y=\"174.349953\"/>\r\n     <use style=\"fill:#1f77b4;stroke:#ffffff;stroke-width:0.48;\" x=\"104.698427\" xlink:href=\"#m54d873b748\" y=\"166.436364\"/>\r\n     <use style=\"fill:#1f77b4;stroke:#ffffff;stroke-width:0.48;\" x=\"88.261657\" xlink:href=\"#m54d873b748\" y=\"189.197555\"/>\r\n     <use style=\"fill:#1f77b4;stroke:#ffffff;stroke-width:0.48;\" x=\"105.076284\" xlink:href=\"#m54d873b748\" y=\"213.339402\"/>\r\n     <use style=\"fill:#1f77b4;stroke:#ffffff;stroke-width:0.48;\" x=\"100.164146\" xlink:href=\"#m54d873b748\" y=\"194.211626\"/>\r\n     <use style=\"fill:#1f77b4;stroke:#ffffff;stroke-width:0.48;\" x=\"96.007721\" xlink:href=\"#m54d873b748\" y=\"211.437855\"/>\r\n     <use style=\"fill:#1f77b4;stroke:#ffffff;stroke-width:0.48;\" x=\"104.698427\" xlink:href=\"#m54d873b748\" y=\"213.23532\"/>\r\n     <use style=\"fill:#1f77b4;stroke:#ffffff;stroke-width:0.48;\" x=\"94.307366\" xlink:href=\"#m54d873b748\" y=\"208.370353\"/>\r\n     <use style=\"fill:#1f77b4;stroke:#ffffff;stroke-width:0.48;\" x=\"88.072729\" xlink:href=\"#m54d873b748\" y=\"202.755756\"/>\r\n     <use style=\"fill:#1f77b4;stroke:#ffffff;stroke-width:0.48;\" x=\"83.160591\" xlink:href=\"#m54d873b748\" y=\"202.446658\"/>\r\n     <use style=\"fill:#1f77b4;stroke:#ffffff;stroke-width:0.48;\" x=\"92.984867\" xlink:href=\"#m54d873b748\" y=\"211.736303\"/>\r\n     <use style=\"fill:#1f77b4;stroke:#ffffff;stroke-width:0.48;\" x=\"114.144847\" xlink:href=\"#m54d873b748\" y=\"189.582415\"/>\r\n     <use style=\"fill:#1f77b4;stroke:#ffffff;stroke-width:0.48;\" x=\"96.007721\" xlink:href=\"#m54d873b748\" y=\"190.455006\"/>\r\n     <use style=\"fill:#1f77b4;stroke:#ffffff;stroke-width:0.48;\" x=\"86.372373\" xlink:href=\"#m54d873b748\" y=\"214.444845\"/>\r\n     <use style=\"fill:#1f77b4;stroke:#ffffff;stroke-width:0.48;\" x=\"101.108788\" xlink:href=\"#m54d873b748\" y=\"133.475902\"/>\r\n     <use style=\"fill:#1f77b4;stroke:#ffffff;stroke-width:0.48;\" x=\"113.578062\" xlink:href=\"#m54d873b748\" y=\"213.10776\"/>\r\n     <use style=\"fill:#1f77b4;stroke:#ffffff;stroke-width:0.48;\" x=\"92.229153\" xlink:href=\"#m54d873b748\" y=\"170.252527\"/>\r\n     <use style=\"fill:#1f77b4;stroke:#ffffff;stroke-width:0.48;\" x=\"116.789844\" xlink:href=\"#m54d873b748\" y=\"94.245614\"/>\r\n     <use style=\"fill:#1f77b4;stroke:#ffffff;stroke-width:0.48;\" x=\"85.427731\" xlink:href=\"#m54d873b748\" y=\"182.11565\"/>\r\n     <use style=\"fill:#1f77b4;stroke:#ffffff;stroke-width:0.48;\" x=\"122.646624\" xlink:href=\"#m54d873b748\" y=\"182.615726\"/>\r\n     <use style=\"fill:#1f77b4;stroke:#ffffff;stroke-width:0.48;\" x=\"99.597361\" xlink:href=\"#m54d873b748\" y=\"196.475521\"/>\r\n     <use style=\"fill:#1f77b4;stroke:#ffffff;stroke-width:0.48;\" x=\"86.939159\" xlink:href=\"#m54d873b748\" y=\"211.399611\"/>\r\n     <use style=\"fill:#1f77b4;stroke:#ffffff;stroke-width:0.48;\" x=\"93.551652\" xlink:href=\"#m54d873b748\" y=\"200.491134\"/>\r\n     <use style=\"fill:#1f77b4;stroke:#ffffff;stroke-width:0.48;\" x=\"115.089489\" xlink:href=\"#m54d873b748\" y=\"207.754093\"/>\r\n     <use style=\"fill:#1f77b4;stroke:#ffffff;stroke-width:0.48;\" x=\"87.694872\" xlink:href=\"#m54d873b748\" y=\"191.201731\"/>\r\n     <use style=\"fill:#1f77b4;stroke:#ffffff;stroke-width:0.48;\" x=\"101.675573\" xlink:href=\"#m54d873b748\" y=\"200.061979\"/>\r\n     <use style=\"fill:#1f77b4;stroke:#ffffff;stroke-width:0.48;\" x=\"96.385578\" xlink:href=\"#m54d873b748\" y=\"180.020464\"/>\r\n     <use style=\"fill:#1f77b4;stroke:#ffffff;stroke-width:0.48;\" x=\"88.072729\" xlink:href=\"#m54d873b748\" y=\"207.235864\"/>\r\n     <use style=\"fill:#1f77b4;stroke:#ffffff;stroke-width:0.48;\" x=\"92.229153\" xlink:href=\"#m54d873b748\" y=\"208.629347\"/>\r\n     <use style=\"fill:#1f77b4;stroke:#ffffff;stroke-width:0.48;\" x=\"84.483089\" xlink:href=\"#m54d873b748\" y=\"209.165246\"/>\r\n     <use style=\"fill:#1f77b4;stroke:#ffffff;stroke-width:0.48;\" x=\"100.164146\" xlink:href=\"#m54d873b748\" y=\"209.235924\"/>\r\n     <use style=\"fill:#1f77b4;stroke:#ffffff;stroke-width:0.48;\" x=\"90.906655\" xlink:href=\"#m54d873b748\" y=\"202.700569\"/>\r\n     <use style=\"fill:#1f77b4;stroke:#ffffff;stroke-width:0.48;\" x=\"87.505944\" xlink:href=\"#m54d873b748\" y=\"209.927462\"/>\r\n     <use style=\"fill:#1f77b4;stroke:#ffffff;stroke-width:0.48;\" x=\"94.496294\" xlink:href=\"#m54d873b748\" y=\"209.821444\"/>\r\n     <use style=\"fill:#1f77b4;stroke:#ffffff;stroke-width:0.48;\" x=\"94.685223\" xlink:href=\"#m54d873b748\" y=\"214.01811\"/>\r\n     <use style=\"fill:#1f77b4;stroke:#ffffff;stroke-width:0.48;\" x=\"81.271307\" xlink:href=\"#m54d873b748\" y=\"206.623719\"/>\r\n     <use style=\"fill:#1f77b4;stroke:#ffffff;stroke-width:0.48;\" x=\"95.440936\" xlink:href=\"#m54d873b748\" y=\"210.72768\"/>\r\n     <use style=\"fill:#1f77b4;stroke:#ffffff;stroke-width:0.48;\" x=\"100.730931\" xlink:href=\"#m54d873b748\" y=\"209.304183\"/>\r\n     <use style=\"fill:#1f77b4;stroke:#ffffff;stroke-width:0.48;\" x=\"88.072729\" xlink:href=\"#m54d873b748\" y=\"209.932303\"/>\r\n     <use style=\"fill:#1f77b4;stroke:#ffffff;stroke-width:0.48;\" x=\"136.627325\" xlink:href=\"#m54d873b748\" y=\"116.964205\"/>\r\n     <use style=\"fill:#1f77b4;stroke:#ffffff;stroke-width:0.48;\" x=\"93.740581\" xlink:href=\"#m54d873b748\" y=\"178.731062\"/>\r\n     <use style=\"fill:#1f77b4;stroke:#ffffff;stroke-width:0.48;\" x=\"88.261657\" xlink:href=\"#m54d873b748\" y=\"214.078865\"/>\r\n     <use style=\"fill:#1f77b4;stroke:#ffffff;stroke-width:0.48;\" x=\"90.528798\" xlink:href=\"#m54d873b748\" y=\"210.409868\"/>\r\n     <use style=\"fill:#1f77b4;stroke:#ffffff;stroke-width:0.48;\" x=\"99.219504\" xlink:href=\"#m54d873b748\" y=\"146.043875\"/>\r\n     <use style=\"fill:#1f77b4;stroke:#ffffff;stroke-width:0.48;\" x=\"92.60701\" xlink:href=\"#m54d873b748\" y=\"214.166487\"/>\r\n     <use style=\"fill:#1f77b4;stroke:#ffffff;stroke-width:0.48;\" x=\"82.782734\" xlink:href=\"#m54d873b748\" y=\"211.6816\"/>\r\n     <use style=\"fill:#1f77b4;stroke:#ffffff;stroke-width:0.48;\" x=\"105.076284\" xlink:href=\"#m54d873b748\" y=\"213.57298\"/>\r\n     <use style=\"fill:#1f77b4;stroke:#ffffff;stroke-width:0.48;\" x=\"93.551652\" xlink:href=\"#m54d873b748\" y=\"191.342362\"/>\r\n     <use style=\"fill:#1f77b4;stroke:#ffffff;stroke-width:0.48;\" x=\"96.763435\" xlink:href=\"#m54d873b748\" y=\"213.610014\"/>\r\n     <use style=\"fill:#1f77b4;stroke:#ffffff;stroke-width:0.48;\" x=\"95.440936\" xlink:href=\"#m54d873b748\" y=\"214.020773\"/>\r\n     <use style=\"fill:#1f77b4;stroke:#ffffff;stroke-width:0.48;\" x=\"108.288067\" xlink:href=\"#m54d873b748\" y=\"208.957083\"/>\r\n     <use style=\"fill:#1f77b4;stroke:#ffffff;stroke-width:0.48;\" x=\"86.939159\" xlink:href=\"#m54d873b748\" y=\"204.580815\"/>\r\n     <use style=\"fill:#1f77b4;stroke:#ffffff;stroke-width:0.48;\" x=\"85.049875\" xlink:href=\"#m54d873b748\" y=\"214.473407\"/>\r\n     <use style=\"fill:#1f77b4;stroke:#ffffff;stroke-width:0.48;\" x=\"88.639514\" xlink:href=\"#m54d873b748\" y=\"195.332318\"/>\r\n     <use style=\"fill:#1f77b4;stroke:#ffffff;stroke-width:0.48;\" x=\"89.962013\" xlink:href=\"#m54d873b748\" y=\"197.738781\"/>\r\n     <use style=\"fill:#1f77b4;stroke:#ffffff;stroke-width:0.48;\" x=\"109.04378\" xlink:href=\"#m54d873b748\" y=\"90.077025\"/>\r\n     <use style=\"fill:#1f77b4;stroke:#ffffff;stroke-width:0.48;\" x=\"107.91021\" xlink:href=\"#m54d873b748\" y=\"154.830782\"/>\r\n     <use style=\"fill:#1f77b4;stroke:#ffffff;stroke-width:0.48;\" x=\"89.206299\" xlink:href=\"#m54d873b748\" y=\"170.89275\"/>\r\n     <use style=\"fill:#1f77b4;stroke:#ffffff;stroke-width:0.48;\" x=\"90.150941\" xlink:href=\"#m54d873b748\" y=\"177.944157\"/>\r\n     <use style=\"fill:#1f77b4;stroke:#ffffff;stroke-width:0.48;\" x=\"92.040225\" xlink:href=\"#m54d873b748\" y=\"208.28152\"/>\r\n     <use style=\"fill:#1f77b4;stroke:#ffffff;stroke-width:0.48;\" x=\"120.568412\" xlink:href=\"#m54d873b748\" y=\"208.959987\"/>\r\n     <use style=\"fill:#1f77b4;stroke:#ffffff;stroke-width:0.48;\" x=\"101.108788\" xlink:href=\"#m54d873b748\" y=\"136.941819\"/>\r\n     <use style=\"fill:#1f77b4;stroke:#ffffff;stroke-width:0.48;\" x=\"88.639514\" xlink:href=\"#m54d873b748\" y=\"213.030304\"/>\r\n     <use style=\"fill:#1f77b4;stroke:#ffffff;stroke-width:0.48;\" x=\"139.083394\" xlink:href=\"#m54d873b748\" y=\"211.673612\"/>\r\n     <use style=\"fill:#1f77b4;stroke:#ffffff;stroke-width:0.48;\" x=\"101.864501\" xlink:href=\"#m54d873b748\" y=\"195.826101\"/>\r\n     <use style=\"fill:#1f77b4;stroke:#ffffff;stroke-width:0.48;\" x=\"89.395228\" xlink:href=\"#m54d873b748\" y=\"200.753517\"/>\r\n     <use style=\"fill:#1f77b4;stroke:#ffffff;stroke-width:0.48;\" x=\"94.307366\" xlink:href=\"#m54d873b748\" y=\"199.733275\"/>\r\n     <use style=\"fill:#1f77b4;stroke:#ffffff;stroke-width:0.48;\" x=\"173.65729\" xlink:href=\"#m54d873b748\" y=\"184.545834\"/>\r\n     <use style=\"fill:#1f77b4;stroke:#ffffff;stroke-width:0.48;\" x=\"85.61666\" xlink:href=\"#m54d873b748\" y=\"214.360127\"/>\r\n     <use style=\"fill:#1f77b4;stroke:#ffffff;stroke-width:0.48;\" x=\"104.698427\" xlink:href=\"#m54d873b748\" y=\"211.896782\"/>\r\n     <use style=\"fill:#1f77b4;stroke:#ffffff;stroke-width:0.48;\" x=\"87.317015\" xlink:href=\"#m54d873b748\" y=\"214.40999\"/>\r\n     <use style=\"fill:#1f77b4;stroke:#ffffff;stroke-width:0.48;\" x=\"96.763435\" xlink:href=\"#m54d873b748\" y=\"164.351585\"/>\r\n     <use style=\"fill:#1f77b4;stroke:#ffffff;stroke-width:0.48;\" x=\"99.219504\" xlink:href=\"#m54d873b748\" y=\"180.955504\"/>\r\n     <use style=\"fill:#1f77b4;stroke:#ffffff;stroke-width:0.48;\" x=\"83.727376\" xlink:href=\"#m54d873b748\" y=\"213.683355\"/>\r\n     <use style=\"fill:#1f77b4;stroke:#ffffff;stroke-width:0.48;\" x=\"362.396751\" xlink:href=\"#m54d873b748\" y=\"177.611096\"/>\r\n     <use style=\"fill:#1f77b4;stroke:#ffffff;stroke-width:0.48;\" x=\"385.634943\" xlink:href=\"#m54d873b748\" y=\"203.682566\"/>\r\n     <use style=\"fill:#1f77b4;stroke:#ffffff;stroke-width:0.48;\" x=\"84.860946\" xlink:href=\"#m54d873b748\" y=\"210.831035\"/>\r\n     <use style=\"fill:#1f77b4;stroke:#ffffff;stroke-width:0.48;\" x=\"120.379484\" xlink:href=\"#m54d873b748\" y=\"65.113902\"/>\r\n     <use style=\"fill:#1f77b4;stroke:#ffffff;stroke-width:0.48;\" x=\"81.460235\" xlink:href=\"#m54d873b748\" y=\"214.751039\"/>\r\n     <use style=\"fill:#1f77b4;stroke:#ffffff;stroke-width:0.48;\" x=\"93.551652\" xlink:href=\"#m54d873b748\" y=\"192.373012\"/>\r\n     <use style=\"fill:#1f77b4;stroke:#ffffff;stroke-width:0.48;\" x=\"95.629864\" xlink:href=\"#m54d873b748\" y=\"200.39383\"/>\r\n     <use style=\"fill:#1f77b4;stroke:#ffffff;stroke-width:0.48;\" x=\"87.505944\" xlink:href=\"#m54d873b748\" y=\"214.501243\"/>\r\n     <use style=\"fill:#1f77b4;stroke:#ffffff;stroke-width:0.48;\" x=\"82.971662\" xlink:href=\"#m54d873b748\" y=\"185.285056\"/>\r\n     <use style=\"fill:#1f77b4;stroke:#ffffff;stroke-width:0.48;\" x=\"100.353074\" xlink:href=\"#m54d873b748\" y=\"195.813272\"/>\r\n     <use style=\"fill:#1f77b4;stroke:#ffffff;stroke-width:0.48;\" x=\"119.812698\" xlink:href=\"#m54d873b748\" y=\"212.143432\"/>\r\n     <use style=\"fill:#1f77b4;stroke:#ffffff;stroke-width:0.48;\" x=\"85.049875\" xlink:href=\"#m54d873b748\" y=\"206.24612\"/>\r\n     <use style=\"fill:#1f77b4;stroke:#ffffff;stroke-width:0.48;\" x=\"87.128087\" xlink:href=\"#m54d873b748\" y=\"213.952757\"/>\r\n     <use style=\"fill:#1f77b4;stroke:#ffffff;stroke-width:0.48;\" x=\"105.831998\" xlink:href=\"#m54d873b748\" y=\"213.568381\"/>\r\n     <use style=\"fill:#1f77b4;stroke:#ffffff;stroke-width:0.48;\" x=\"96.385578\" xlink:href=\"#m54d873b748\" y=\"212.418885\"/>\r\n     <use style=\"fill:#1f77b4;stroke:#ffffff;stroke-width:0.48;\" x=\"133.604471\" xlink:href=\"#m54d873b748\" y=\"209.640148\"/>\r\n     <use style=\"fill:#1f77b4;stroke:#ffffff;stroke-width:0.48;\" x=\"87.128087\" xlink:href=\"#m54d873b748\" y=\"169.542836\"/>\r\n     <use style=\"fill:#1f77b4;stroke:#ffffff;stroke-width:0.48;\" x=\"107.91021\" xlink:href=\"#m54d873b748\" y=\"213.115989\"/>\r\n     <use style=\"fill:#1f77b4;stroke:#ffffff;stroke-width:0.48;\" x=\"103.187\" xlink:href=\"#m54d873b748\" y=\"171.087116\"/>\r\n     <use style=\"fill:#1f77b4;stroke:#ffffff;stroke-width:0.48;\" x=\"89.962013\" xlink:href=\"#m54d873b748\" y=\"195.535156\"/>\r\n     <use style=\"fill:#1f77b4;stroke:#ffffff;stroke-width:0.48;\" x=\"99.786289\" xlink:href=\"#m54d873b748\" y=\"205.070482\"/>\r\n     <use style=\"fill:#1f77b4;stroke:#ffffff;stroke-width:0.48;\" x=\"83.349519\" xlink:href=\"#m54d873b748\" y=\"206.737966\"/>\r\n     <use style=\"fill:#1f77b4;stroke:#ffffff;stroke-width:0.48;\" x=\"92.795939\" xlink:href=\"#m54d873b748\" y=\"214.322852\"/>\r\n     <use style=\"fill:#1f77b4;stroke:#ffffff;stroke-width:0.48;\" x=\"102.809143\" xlink:href=\"#m54d873b748\" y=\"161.058976\"/>\r\n     <use style=\"fill:#1f77b4;stroke:#ffffff;stroke-width:0.48;\" x=\"100.353074\" xlink:href=\"#m54d873b748\" y=\"154.39848\"/>\r\n     <use style=\"fill:#1f77b4;stroke:#ffffff;stroke-width:0.48;\" x=\"92.795939\" xlink:href=\"#m54d873b748\" y=\"201.003797\"/>\r\n     <use style=\"fill:#1f77b4;stroke:#ffffff;stroke-width:0.48;\" x=\"86.561302\" xlink:href=\"#m54d873b748\" y=\"214.493497\"/>\r\n     <use style=\"fill:#1f77b4;stroke:#ffffff;stroke-width:0.48;\" x=\"106.776639\" xlink:href=\"#m54d873b748\" y=\"193.485717\"/>\r\n     <use style=\"fill:#1f77b4;stroke:#ffffff;stroke-width:0.48;\" x=\"98.274862\" xlink:href=\"#m54d873b748\" y=\"198.679146\"/>\r\n     <use style=\"fill:#1f77b4;stroke:#ffffff;stroke-width:0.48;\" x=\"82.971662\" xlink:href=\"#m54d873b748\" y=\"214.433711\"/>\r\n     <use style=\"fill:#1f77b4;stroke:#ffffff;stroke-width:0.48;\" x=\"96.385578\" xlink:href=\"#m54d873b748\" y=\"213.837299\"/>\r\n     <use style=\"fill:#1f77b4;stroke:#ffffff;stroke-width:0.48;\" x=\"101.297716\" xlink:href=\"#m54d873b748\" y=\"158.092651\"/>\r\n     <use style=\"fill:#1f77b4;stroke:#ffffff;stroke-width:0.48;\" x=\"85.427731\" xlink:href=\"#m54d873b748\" y=\"214.534888\"/>\r\n     <use style=\"fill:#1f77b4;stroke:#ffffff;stroke-width:0.48;\" x=\"144.373389\" xlink:href=\"#m54d873b748\" y=\"210.364847\"/>\r\n     <use style=\"fill:#1f77b4;stroke:#ffffff;stroke-width:0.48;\" x=\"89.395228\" xlink:href=\"#m54d873b748\" y=\"195.699508\"/>\r\n     <use style=\"fill:#1f77b4;stroke:#ffffff;stroke-width:0.48;\" x=\"106.398783\" xlink:href=\"#m54d873b748\" y=\"193.82846\"/>\r\n     <use style=\"fill:#1f77b4;stroke:#ffffff;stroke-width:0.48;\" x=\"176.113359\" xlink:href=\"#m54d873b748\" y=\"177.726554\"/>\r\n     <use style=\"fill:#1f77b4;stroke:#ffffff;stroke-width:0.48;\" x=\"87.128087\" xlink:href=\"#m54d873b748\" y=\"212.097926\"/>\r\n     <use style=\"fill:#1f77b4;stroke:#ffffff;stroke-width:0.48;\" x=\"81.649164\" xlink:href=\"#m54d873b748\" y=\"214.041589\"/>\r\n     <use style=\"fill:#1f77b4;stroke:#ffffff;stroke-width:0.48;\" x=\"90.528798\" xlink:href=\"#m54d873b748\" y=\"214.154627\"/>\r\n     <use style=\"fill:#1f77b4;stroke:#ffffff;stroke-width:0.48;\" x=\"81.460235\" xlink:href=\"#m54d873b748\" y=\"213.54466\"/>\r\n     <use style=\"fill:#1f77b4;stroke:#ffffff;stroke-width:0.48;\" x=\"128.314476\" xlink:href=\"#m54d873b748\" y=\"211.84813\"/>\r\n     <use style=\"fill:#1f77b4;stroke:#ffffff;stroke-width:0.48;\" x=\"104.698427\" xlink:href=\"#m54d873b748\" y=\"164.266626\"/>\r\n     <use style=\"fill:#1f77b4;stroke:#ffffff;stroke-width:0.48;\" x=\"125.48055\" xlink:href=\"#m54d873b748\" y=\"132.608394\"/>\r\n     <use style=\"fill:#1f77b4;stroke:#ffffff;stroke-width:0.48;\" x=\"91.47344\" xlink:href=\"#m54d873b748\" y=\"174.524229\"/>\r\n     <use style=\"fill:#1f77b4;stroke:#ffffff;stroke-width:0.48;\" x=\"81.271307\" xlink:href=\"#m54d873b748\" y=\"214.755153\"/>\r\n     <use style=\"fill:#1f77b4;stroke:#ffffff;stroke-width:0.48;\" x=\"81.460235\" xlink:href=\"#m54d873b748\" y=\"214.753217\"/>\r\n     <use style=\"fill:#1f77b4;stroke:#ffffff;stroke-width:0.48;\" x=\"96.574506\" xlink:href=\"#m54d873b748\" y=\"214.083222\"/>\r\n     <use style=\"fill:#1f77b4;stroke:#ffffff;stroke-width:0.48;\" x=\"102.242358\" xlink:href=\"#m54d873b748\" y=\"165.785249\"/>\r\n     <use style=\"fill:#1f77b4;stroke:#ffffff;stroke-width:0.48;\" x=\"90.33987\" xlink:href=\"#m54d873b748\" y=\"206.303486\"/>\r\n     <use style=\"fill:#1f77b4;stroke:#ffffff;stroke-width:0.48;\" x=\"113.011276\" xlink:href=\"#m54d873b748\" y=\"200.998472\"/>\r\n     <use style=\"fill:#1f77b4;stroke:#ffffff;stroke-width:0.48;\" x=\"90.906655\" xlink:href=\"#m54d873b748\" y=\"209.314833\"/>\r\n     <use style=\"fill:#1f77b4;stroke:#ffffff;stroke-width:0.48;\" x=\"117.734486\" xlink:href=\"#m54d873b748\" y=\"208.395526\"/>\r\n     <use style=\"fill:#1f77b4;stroke:#ffffff;stroke-width:0.48;\" x=\"84.105233\" xlink:href=\"#m54d873b748\" y=\"213.113085\"/>\r\n     <use style=\"fill:#1f77b4;stroke:#ffffff;stroke-width:0.48;\" x=\"87.694872\" xlink:href=\"#m54d873b748\" y=\"190.644048\"/>\r\n     <use style=\"fill:#1f77b4;stroke:#ffffff;stroke-width:0.48;\" x=\"81.649164\" xlink:href=\"#m54d873b748\" y=\"214.746924\"/>\r\n     <use style=\"fill:#1f77b4;stroke:#ffffff;stroke-width:0.48;\" x=\"90.150941\" xlink:href=\"#m54d873b748\" y=\"214.29429\"/>\r\n     <use style=\"fill:#1f77b4;stroke:#ffffff;stroke-width:0.48;\" x=\"81.460235\" xlink:href=\"#m54d873b748\" y=\"202.11868\"/>\r\n     <use style=\"fill:#1f77b4;stroke:#ffffff;stroke-width:0.48;\" x=\"90.528798\" xlink:href=\"#m54d873b748\" y=\"210.135625\"/>\r\n     <use style=\"fill:#1f77b4;stroke:#ffffff;stroke-width:0.48;\" x=\"100.730931\" xlink:href=\"#m54d873b748\" y=\"158.081032\"/>\r\n     <use style=\"fill:#1f77b4;stroke:#ffffff;stroke-width:0.48;\" x=\"88.828442\" xlink:href=\"#m54d873b748\" y=\"199.810489\"/>\r\n     <use style=\"fill:#1f77b4;stroke:#ffffff;stroke-width:0.48;\" x=\"105.265212\" xlink:href=\"#m54d873b748\" y=\"207.163975\"/>\r\n     <use style=\"fill:#1f77b4;stroke:#ffffff;stroke-width:0.48;\" x=\"174.79086\" xlink:href=\"#m54d873b748\" y=\"210.846527\"/>\r\n     <use style=\"fill:#1f77b4;stroke:#ffffff;stroke-width:0.48;\" x=\"100.919859\" xlink:href=\"#m54d873b748\" y=\"188.694817\"/>\r\n     <use style=\"fill:#1f77b4;stroke:#ffffff;stroke-width:0.48;\" x=\"87.505944\" xlink:href=\"#m54d873b748\" y=\"212.677394\"/>\r\n     <use style=\"fill:#1f77b4;stroke:#ffffff;stroke-width:0.48;\" x=\"98.274862\" xlink:href=\"#m54d873b748\" y=\"193.351379\"/>\r\n     <use style=\"fill:#1f77b4;stroke:#ffffff;stroke-width:0.48;\" x=\"111.121992\" xlink:href=\"#m54d873b748\" y=\"208.90722\"/>\r\n     <use style=\"fill:#1f77b4;stroke:#ffffff;stroke-width:0.48;\" x=\"94.685223\" xlink:href=\"#m54d873b748\" y=\"206.589589\"/>\r\n     <use style=\"fill:#1f77b4;stroke:#ffffff;stroke-width:0.48;\" x=\"105.076284\" xlink:href=\"#m54d873b748\" y=\"132.532874\"/>\r\n     <use style=\"fill:#1f77b4;stroke:#ffffff;stroke-width:0.48;\" x=\"84.672018\" xlink:href=\"#m54d873b748\" y=\"191.546895\"/>\r\n     <use style=\"fill:#1f77b4;stroke:#ffffff;stroke-width:0.48;\" x=\"85.61666\" xlink:href=\"#m54d873b748\" y=\"214.516976\"/>\r\n     <use style=\"fill:#1f77b4;stroke:#ffffff;stroke-width:0.48;\" x=\"105.076284\" xlink:href=\"#m54d873b748\" y=\"208.455555\"/>\r\n     <use style=\"fill:#1f77b4;stroke:#ffffff;stroke-width:0.48;\" x=\"106.965568\" xlink:href=\"#m54d873b748\" y=\"175.179701\"/>\r\n     <use style=\"fill:#1f77b4;stroke:#ffffff;stroke-width:0.48;\" x=\"90.717726\" xlink:href=\"#m54d873b748\" y=\"213.835847\"/>\r\n     <use style=\"fill:#1f77b4;stroke:#ffffff;stroke-width:0.48;\" x=\"85.238803\" xlink:href=\"#m54d873b748\" y=\"214.668984\"/>\r\n     <use style=\"fill:#1f77b4;stroke:#ffffff;stroke-width:0.48;\" x=\"86.183445\" xlink:href=\"#m54d873b748\" y=\"209.960865\"/>\r\n     <use style=\"fill:#1f77b4;stroke:#ffffff;stroke-width:0.48;\" x=\"81.271307\" xlink:href=\"#m54d873b748\" y=\"214.749344\"/>\r\n     <use style=\"fill:#1f77b4;stroke:#ffffff;stroke-width:0.48;\" x=\"107.154496\" xlink:href=\"#m54d873b748\" y=\"212.952605\"/>\r\n     <use style=\"fill:#1f77b4;stroke:#ffffff;stroke-width:0.48;\" x=\"113.011276\" xlink:href=\"#m54d873b748\" y=\"155.732177\"/>\r\n     <use style=\"fill:#1f77b4;stroke:#ffffff;stroke-width:0.48;\" x=\"99.408432\" xlink:href=\"#m54d873b748\" y=\"134.463225\"/>\r\n     <use style=\"fill:#1f77b4;stroke:#ffffff;stroke-width:0.48;\" x=\"91.662368\" xlink:href=\"#m54d873b748\" y=\"180.071778\"/>\r\n     <use style=\"fill:#1f77b4;stroke:#ffffff;stroke-width:0.48;\" x=\"85.61666\" xlink:href=\"#m54d873b748\" y=\"206.691251\"/>\r\n     <use style=\"fill:#1f77b4;stroke:#ffffff;stroke-width:0.48;\" x=\"132.281972\" xlink:href=\"#m54d873b748\" y=\"190.382633\"/>\r\n     <use style=\"fill:#1f77b4;stroke:#ffffff;stroke-width:0.48;\" x=\"94.874151\" xlink:href=\"#m54d873b748\" y=\"150.374154\"/>\r\n     <use style=\"fill:#1f77b4;stroke:#ffffff;stroke-width:0.48;\" x=\"83.160591\" xlink:href=\"#m54d873b748\" y=\"201.195742\"/>\r\n     <use style=\"fill:#1f77b4;stroke:#ffffff;stroke-width:0.48;\" x=\"98.841647\" xlink:href=\"#m54d873b748\" y=\"213.035871\"/>\r\n     <use style=\"fill:#1f77b4;stroke:#ffffff;stroke-width:0.48;\" x=\"99.219504\" xlink:href=\"#m54d873b748\" y=\"213.290992\"/>\r\n     <use style=\"fill:#1f77b4;stroke:#ffffff;stroke-width:0.48;\" x=\"81.271307\" xlink:href=\"#m54d873b748\" y=\"214.755637\"/>\r\n     <use style=\"fill:#1f77b4;stroke:#ffffff;stroke-width:0.48;\" x=\"91.851297\" xlink:href=\"#m54d873b748\" y=\"196.337795\"/>\r\n     <use style=\"fill:#1f77b4;stroke:#ffffff;stroke-width:0.48;\" x=\"105.831998\" xlink:href=\"#m54d873b748\" y=\"96.138688\"/>\r\n     <use style=\"fill:#1f77b4;stroke:#ffffff;stroke-width:0.48;\" x=\"94.307366\" xlink:href=\"#m54d873b748\" y=\"214.462515\"/>\r\n     <use style=\"fill:#1f77b4;stroke:#ffffff;stroke-width:0.48;\" x=\"98.274862\" xlink:href=\"#m54d873b748\" y=\"184.90189\"/>\r\n     <use style=\"fill:#1f77b4;stroke:#ffffff;stroke-width:0.48;\" x=\"105.265212\" xlink:href=\"#m54d873b748\" y=\"112.068739\"/>\r\n     <use style=\"fill:#1f77b4;stroke:#ffffff;stroke-width:0.48;\" x=\"106.209854\" xlink:href=\"#m54d873b748\" y=\"186.334101\"/>\r\n     <use style=\"fill:#1f77b4;stroke:#ffffff;stroke-width:0.48;\" x=\"82.971662\" xlink:href=\"#m54d873b748\" y=\"214.402728\"/>\r\n     <use style=\"fill:#1f77b4;stroke:#ffffff;stroke-width:0.48;\" x=\"129.448046\" xlink:href=\"#m54d873b748\" y=\"162.374035\"/>\r\n     <use style=\"fill:#1f77b4;stroke:#ffffff;stroke-width:0.48;\" x=\"107.154496\" xlink:href=\"#m54d873b748\" y=\"75.09218\"/>\r\n     <use style=\"fill:#1f77b4;stroke:#ffffff;stroke-width:0.48;\" x=\"114.90056\" xlink:href=\"#m54d873b748\" y=\"175.240456\"/>\r\n     <use style=\"fill:#1f77b4;stroke:#ffffff;stroke-width:0.48;\" x=\"142.295177\" xlink:href=\"#m54d873b748\" y=\"168.479752\"/>\r\n     <use style=\"fill:#1f77b4;stroke:#ffffff;stroke-width:0.48;\" x=\"101.108788\" xlink:href=\"#m54d873b748\" y=\"131.263805\"/>\r\n     <use style=\"fill:#1f77b4;stroke:#ffffff;stroke-width:0.48;\" x=\"83.916304\" xlink:href=\"#m54d873b748\" y=\"186.365084\"/>\r\n     <use style=\"fill:#1f77b4;stroke:#ffffff;stroke-width:0.48;\" x=\"84.860946\" xlink:href=\"#m54d873b748\" y=\"214.576278\"/>\r\n     <use style=\"fill:#1f77b4;stroke:#ffffff;stroke-width:0.48;\" x=\"102.620215\" xlink:href=\"#m54d873b748\" y=\"207.547382\"/>\r\n     <use style=\"fill:#1f77b4;stroke:#ffffff;stroke-width:0.48;\" x=\"103.564857\" xlink:href=\"#m54d873b748\" y=\"195.413163\"/>\r\n     <use style=\"fill:#1f77b4;stroke:#ffffff;stroke-width:0.48;\" x=\"85.427731\" xlink:href=\"#m54d873b748\" y=\"196.281397\"/>\r\n     <use style=\"fill:#1f77b4;stroke:#ffffff;stroke-width:0.48;\" x=\"106.965568\" xlink:href=\"#m54d873b748\" y=\"213.362881\"/>\r\n     <use style=\"fill:#1f77b4;stroke:#ffffff;stroke-width:0.48;\" x=\"85.238803\" xlink:href=\"#m54d873b748\" y=\"160.798046\"/>\r\n     <use style=\"fill:#1f77b4;stroke:#ffffff;stroke-width:0.48;\" x=\"107.532353\" xlink:href=\"#m54d873b748\" y=\"212.534827\"/>\r\n     <use style=\"fill:#1f77b4;stroke:#ffffff;stroke-width:0.48;\" x=\"113.955918\" xlink:href=\"#m54d873b748\" y=\"204.961076\"/>\r\n     <use style=\"fill:#1f77b4;stroke:#ffffff;stroke-width:0.48;\" x=\"92.795939\" xlink:href=\"#m54d873b748\" y=\"214.173507\"/>\r\n     <use style=\"fill:#1f77b4;stroke:#ffffff;stroke-width:0.48;\" x=\"123.402338\" xlink:href=\"#m54d873b748\" y=\"124.491482\"/>\r\n     <use style=\"fill:#1f77b4;stroke:#ffffff;stroke-width:0.48;\" x=\"91.851297\" xlink:href=\"#m54d873b748\" y=\"211.814243\"/>\r\n     <use style=\"fill:#1f77b4;stroke:#ffffff;stroke-width:0.48;\" x=\"128.314476\" xlink:href=\"#m54d873b748\" y=\"154.235096\"/>\r\n     <use style=\"fill:#1f77b4;stroke:#ffffff;stroke-width:0.48;\" x=\"93.551652\" xlink:href=\"#m54d873b748\" y=\"212.921139\"/>\r\n     <use style=\"fill:#1f77b4;stroke:#ffffff;stroke-width:0.48;\" x=\"86.75023\" xlink:href=\"#m54d873b748\" y=\"214.447508\"/>\r\n     <use style=\"fill:#1f77b4;stroke:#ffffff;stroke-width:0.48;\" x=\"91.662368\" xlink:href=\"#m54d873b748\" y=\"210.332412\"/>\r\n     <use style=\"fill:#1f77b4;stroke:#ffffff;stroke-width:0.48;\" x=\"95.440936\" xlink:href=\"#m54d873b748\" y=\"209.498791\"/>\r\n     <use style=\"fill:#1f77b4;stroke:#ffffff;stroke-width:0.48;\" x=\"81.271307\" xlink:href=\"#m54d873b748\" y=\"214.755153\"/>\r\n     <use style=\"fill:#1f77b4;stroke:#ffffff;stroke-width:0.48;\" x=\"107.91021\" xlink:href=\"#m54d873b748\" y=\"189.385386\"/>\r\n     <use style=\"fill:#1f77b4;stroke:#ffffff;stroke-width:0.48;\" x=\"93.740581\" xlink:href=\"#m54d873b748\" y=\"198.349958\"/>\r\n     <use style=\"fill:#1f77b4;stroke:#ffffff;stroke-width:0.48;\" x=\"99.597361\" xlink:href=\"#m54d873b748\" y=\"203.859505\"/>\r\n     <use style=\"fill:#1f77b4;stroke:#ffffff;stroke-width:0.48;\" x=\"100.730931\" xlink:href=\"#m54d873b748\" y=\"195.123913\"/>\r\n     <use style=\"fill:#1f77b4;stroke:#ffffff;stroke-width:0.48;\" x=\"106.965568\" xlink:href=\"#m54d873b748\" y=\"213.722567\"/>\r\n     <use style=\"fill:#1f77b4;stroke:#ffffff;stroke-width:0.48;\" x=\"115.278417\" xlink:href=\"#m54d873b748\" y=\"183.151141\"/>\r\n     <use style=\"fill:#1f77b4;stroke:#ffffff;stroke-width:0.48;\" x=\"83.916304\" xlink:href=\"#m54d873b748\" y=\"214.618153\"/>\r\n     <use style=\"fill:#1f77b4;stroke:#ffffff;stroke-width:0.48;\" x=\"91.095583\" xlink:href=\"#m54d873b748\" y=\"214.303004\"/>\r\n     <use style=\"fill:#1f77b4;stroke:#ffffff;stroke-width:0.48;\" x=\"86.372373\" xlink:href=\"#m54d873b748\" y=\"211.721296\"/>\r\n     <use style=\"fill:#1f77b4;stroke:#ffffff;stroke-width:0.48;\" x=\"108.854852\" xlink:href=\"#m54d873b748\" y=\"213.444694\"/>\r\n     <use style=\"fill:#1f77b4;stroke:#ffffff;stroke-width:0.48;\" x=\"83.727376\" xlink:href=\"#m54d873b748\" y=\"186.693788\"/>\r\n     <use style=\"fill:#1f77b4;stroke:#ffffff;stroke-width:0.48;\" x=\"86.561302\" xlink:href=\"#m54d873b748\" y=\"214.475343\"/>\r\n     <use style=\"fill:#1f77b4;stroke:#ffffff;stroke-width:0.48;\" x=\"98.46379\" xlink:href=\"#m54d873b748\" y=\"194.749703\"/>\r\n     <use style=\"fill:#1f77b4;stroke:#ffffff;stroke-width:0.48;\" x=\"109.04378\" xlink:href=\"#m54d873b748\" y=\"212.640361\"/>\r\n     <use style=\"fill:#1f77b4;stroke:#ffffff;stroke-width:0.48;\" x=\"93.551652\" xlink:href=\"#m54d873b748\" y=\"173.011658\"/>\r\n     <use style=\"fill:#1f77b4;stroke:#ffffff;stroke-width:0.48;\" x=\"91.284511\" xlink:href=\"#m54d873b748\" y=\"214.405633\"/>\r\n     <use style=\"fill:#1f77b4;stroke:#ffffff;stroke-width:0.48;\" x=\"278.701474\" xlink:href=\"#m54d873b748\" y=\"204.944616\"/>\r\n     <use style=\"fill:#1f77b4;stroke:#ffffff;stroke-width:0.48;\" x=\"105.265212\" xlink:href=\"#m54d873b748\" y=\"198.946128\"/>\r\n     <use style=\"fill:#1f77b4;stroke:#ffffff;stroke-width:0.48;\" x=\"85.61666\" xlink:href=\"#m54d873b748\" y=\"214.06168\"/>\r\n     <use style=\"fill:#1f77b4;stroke:#ffffff;stroke-width:0.48;\" x=\"113.011276\" xlink:href=\"#m54d873b748\" y=\"213.221039\"/>\r\n     <use style=\"fill:#1f77b4;stroke:#ffffff;stroke-width:0.48;\" x=\"95.629864\" xlink:href=\"#m54d873b748\" y=\"214.256288\"/>\r\n     <use style=\"fill:#1f77b4;stroke:#ffffff;stroke-width:0.48;\" x=\"83.727376\" xlink:href=\"#m54d873b748\" y=\"197.108967\"/>\r\n     <use style=\"fill:#1f77b4;stroke:#ffffff;stroke-width:0.48;\" x=\"88.639514\" xlink:href=\"#m54d873b748\" y=\"208.148635\"/>\r\n     <use style=\"fill:#1f77b4;stroke:#ffffff;stroke-width:0.48;\" x=\"82.404877\" xlink:href=\"#m54d873b748\" y=\"198.632189\"/>\r\n     <use style=\"fill:#1f77b4;stroke:#ffffff;stroke-width:0.48;\" x=\"99.030575\" xlink:href=\"#m54d873b748\" y=\"110.604093\"/>\r\n     <use style=\"fill:#1f77b4;stroke:#ffffff;stroke-width:0.48;\" x=\"84.294161\" xlink:href=\"#m54d873b748\" y=\"211.185881\"/>\r\n     <use style=\"fill:#1f77b4;stroke:#ffffff;stroke-width:0.48;\" x=\"83.538447\" xlink:href=\"#m54d873b748\" y=\"194.796177\"/>\r\n     <use style=\"fill:#1f77b4;stroke:#ffffff;stroke-width:0.48;\" x=\"111.121992\" xlink:href=\"#m54d873b748\" y=\"181.728128\"/>\r\n     <use style=\"fill:#1f77b4;stroke:#ffffff;stroke-width:0.48;\" x=\"97.141292\" xlink:href=\"#m54d873b748\" y=\"213.98495\"/>\r\n     <use style=\"fill:#1f77b4;stroke:#ffffff;stroke-width:0.48;\" x=\"89.206299\" xlink:href=\"#m54d873b748\" y=\"206.935479\"/>\r\n     <use style=\"fill:#1f77b4;stroke:#ffffff;stroke-width:0.48;\" x=\"82.02702\" xlink:href=\"#m54d873b748\" y=\"208.017928\"/>\r\n     <use style=\"fill:#1f77b4;stroke:#ffffff;stroke-width:0.48;\" x=\"85.049875\" xlink:href=\"#m54d873b748\" y=\"214.577246\"/>\r\n     <use style=\"fill:#1f77b4;stroke:#ffffff;stroke-width:0.48;\" x=\"137.005182\" xlink:href=\"#m54d873b748\" y=\"140.968808\"/>\r\n     <use style=\"fill:#1f77b4;stroke:#ffffff;stroke-width:0.48;\" x=\"86.75023\" xlink:href=\"#m54d873b748\" y=\"214.319705\"/>\r\n     <use style=\"fill:#1f77b4;stroke:#ffffff;stroke-width:0.48;\" x=\"96.952363\" xlink:href=\"#m54d873b748\" y=\"173.315189\"/>\r\n     <use style=\"fill:#1f77b4;stroke:#ffffff;stroke-width:0.48;\" x=\"84.294161\" xlink:href=\"#m54d873b748\" y=\"214.613554\"/>\r\n     <use style=\"fill:#1f77b4;stroke:#ffffff;stroke-width:0.48;\" x=\"95.818793\" xlink:href=\"#m54d873b748\" y=\"193.844193\"/>\r\n     <use style=\"fill:#1f77b4;stroke:#ffffff;stroke-width:0.48;\" x=\"106.776639\" xlink:href=\"#m54d873b748\" y=\"190.379003\"/>\r\n     <use style=\"fill:#1f77b4;stroke:#ffffff;stroke-width:0.48;\" x=\"111.499849\" xlink:href=\"#m54d873b748\" y=\"178.457787\"/>\r\n     <use style=\"fill:#1f77b4;stroke:#ffffff;stroke-width:0.48;\" x=\"96.574506\" xlink:href=\"#m54d873b748\" y=\"204.169813\"/>\r\n     <use style=\"fill:#1f77b4;stroke:#ffffff;stroke-width:0.48;\" x=\"91.095583\" xlink:href=\"#m54d873b748\" y=\"213.222249\"/>\r\n     <use style=\"fill:#1f77b4;stroke:#ffffff;stroke-width:0.48;\" x=\"87.317015\" xlink:href=\"#m54d873b748\" y=\"176.101187\"/>\r\n     <use style=\"fill:#1f77b4;stroke:#ffffff;stroke-width:0.48;\" x=\"85.994517\" xlink:href=\"#m54d873b748\" y=\"203.957051\"/>\r\n     <use style=\"fill:#1f77b4;stroke:#ffffff;stroke-width:0.48;\" x=\"83.727376\" xlink:href=\"#m54d873b748\" y=\"208.777965\"/>\r\n     <use style=\"fill:#1f77b4;stroke:#ffffff;stroke-width:0.48;\" x=\"83.727376\" xlink:href=\"#m54d873b748\" y=\"214.629771\"/>\r\n     <use style=\"fill:#1f77b4;stroke:#ffffff;stroke-width:0.48;\" x=\"108.476995\" xlink:href=\"#m54d873b748\" y=\"173.602018\"/>\r\n     <use style=\"fill:#1f77b4;stroke:#ffffff;stroke-width:0.48;\" x=\"97.708077\" xlink:href=\"#m54d873b748\" y=\"170.075831\"/>\r\n     <use style=\"fill:#1f77b4;stroke:#ffffff;stroke-width:0.48;\" x=\"97.33022\" xlink:href=\"#m54d873b748\" y=\"209.948278\"/>\r\n     <use style=\"fill:#1f77b4;stroke:#ffffff;stroke-width:0.48;\" x=\"103.564857\" xlink:href=\"#m54d873b748\" y=\"206.719086\"/>\r\n     <use style=\"fill:#1f77b4;stroke:#ffffff;stroke-width:0.48;\" x=\"97.33022\" xlink:href=\"#m54d873b748\" y=\"213.942833\"/>\r\n     <use style=\"fill:#1f77b4;stroke:#ffffff;stroke-width:0.48;\" x=\"85.238803\" xlink:href=\"#m54d873b748\" y=\"214.618637\"/>\r\n     <use style=\"fill:#1f77b4;stroke:#ffffff;stroke-width:0.48;\" x=\"81.271307\" xlink:href=\"#m54d873b748\" y=\"214.739178\"/>\r\n     <use style=\"fill:#1f77b4;stroke:#ffffff;stroke-width:0.48;\" x=\"93.362724\" xlink:href=\"#m54d873b748\" y=\"127.346464\"/>\r\n     <use style=\"fill:#1f77b4;stroke:#ffffff;stroke-width:0.48;\" x=\"110.366279\" xlink:href=\"#m54d873b748\" y=\"197.529166\"/>\r\n     <use style=\"fill:#1f77b4;stroke:#ffffff;stroke-width:0.48;\" x=\"103.564857\" xlink:href=\"#m54d873b748\" y=\"210.130542\"/>\r\n     <use style=\"fill:#1f77b4;stroke:#ffffff;stroke-width:0.48;\" x=\"93.362724\" xlink:href=\"#m54d873b748\" y=\"212.853365\"/>\r\n     <use style=\"fill:#1f77b4;stroke:#ffffff;stroke-width:0.48;\" x=\"101.486645\" xlink:href=\"#m54d873b748\" y=\"206.404179\"/>\r\n     <use style=\"fill:#1f77b4;stroke:#ffffff;stroke-width:0.48;\" x=\"101.864501\" xlink:href=\"#m54d873b748\" y=\"140.111709\"/>\r\n     <use style=\"fill:#1f77b4;stroke:#ffffff;stroke-width:0.48;\" x=\"99.219504\" xlink:href=\"#m54d873b748\" y=\"210.710494\"/>\r\n     <use style=\"fill:#1f77b4;stroke:#ffffff;stroke-width:0.48;\" x=\"98.274862\" xlink:href=\"#m54d873b748\" y=\"137.581316\"/>\r\n     <use style=\"fill:#1f77b4;stroke:#ffffff;stroke-width:0.48;\" x=\"91.095583\" xlink:href=\"#m54d873b748\" y=\"211.672402\"/>\r\n     <use style=\"fill:#1f77b4;stroke:#ffffff;stroke-width:0.48;\" x=\"88.639514\" xlink:href=\"#m54d873b748\" y=\"214.404907\"/>\r\n     <use style=\"fill:#1f77b4;stroke:#ffffff;stroke-width:0.48;\" x=\"123.780195\" xlink:href=\"#m54d873b748\" y=\"199.785558\"/>\r\n     <use style=\"fill:#1f77b4;stroke:#ffffff;stroke-width:0.48;\" x=\"126.425192\" xlink:href=\"#m54d873b748\" y=\"17.083636\"/>\r\n     <use style=\"fill:#1f77b4;stroke:#ffffff;stroke-width:0.48;\" x=\"91.662368\" xlink:href=\"#m54d873b748\" y=\"198.688102\"/>\r\n     <use style=\"fill:#1f77b4;stroke:#ffffff;stroke-width:0.48;\" x=\"100.542003\" xlink:href=\"#m54d873b748\" y=\"190.634366\"/>\r\n     <use style=\"fill:#1f77b4;stroke:#ffffff;stroke-width:0.48;\" x=\"86.75023\" xlink:href=\"#m54d873b748\" y=\"171.776233\"/>\r\n     <use style=\"fill:#1f77b4;stroke:#ffffff;stroke-width:0.48;\" x=\"155.520164\" xlink:href=\"#m54d873b748\" y=\"130.726454\"/>\r\n     <use style=\"fill:#1f77b4;stroke:#ffffff;stroke-width:0.48;\" x=\"87.317015\" xlink:href=\"#m54d873b748\" y=\"179.530554\"/>\r\n     <use style=\"fill:#1f77b4;stroke:#ffffff;stroke-width:0.48;\" x=\"91.284511\" xlink:href=\"#m54d873b748\" y=\"57.72895\"/>\r\n     <use style=\"fill:#1f77b4;stroke:#ffffff;stroke-width:0.48;\" x=\"91.851297\" xlink:href=\"#m54d873b748\" y=\"214.24951\"/>\r\n     <use style=\"fill:#1f77b4;stroke:#ffffff;stroke-width:0.48;\" x=\"83.916304\" xlink:href=\"#m54d873b748\" y=\"214.593948\"/>\r\n     <use style=\"fill:#1f77b4;stroke:#ffffff;stroke-width:0.48;\" x=\"85.61666\" xlink:href=\"#m54d873b748\" y=\"199.491951\"/>\r\n     <use style=\"fill:#1f77b4;stroke:#ffffff;stroke-width:0.48;\" x=\"94.685223\" xlink:href=\"#m54d873b748\" y=\"195.966248\"/>\r\n     <use style=\"fill:#1f77b4;stroke:#ffffff;stroke-width:0.48;\" x=\"99.219504\" xlink:href=\"#m54d873b748\" y=\"209.217045\"/>\r\n     <use style=\"fill:#1f77b4;stroke:#ffffff;stroke-width:0.48;\" x=\"89.584156\" xlink:href=\"#m54d873b748\" y=\"167.612002\"/>\r\n     <use style=\"fill:#1f77b4;stroke:#ffffff;stroke-width:0.48;\" x=\"91.284511\" xlink:href=\"#m54d873b748\" y=\"212.346512\"/>\r\n     <use style=\"fill:#1f77b4;stroke:#ffffff;stroke-width:0.48;\" x=\"89.206299\" xlink:href=\"#m54d873b748\" y=\"210.417129\"/>\r\n     <use style=\"fill:#1f77b4;stroke:#ffffff;stroke-width:0.48;\" x=\"97.141292\" xlink:href=\"#m54d873b748\" y=\"141.190284\"/>\r\n     <use style=\"fill:#1f77b4;stroke:#ffffff;stroke-width:0.48;\" x=\"87.505944\" xlink:href=\"#m54d873b748\" y=\"210.854756\"/>\r\n     <use style=\"fill:#1f77b4;stroke:#ffffff;stroke-width:0.48;\" x=\"107.343425\" xlink:href=\"#m54d873b748\" y=\"148.853352\"/>\r\n     <use style=\"fill:#1f77b4;stroke:#ffffff;stroke-width:0.48;\" x=\"94.685223\" xlink:href=\"#m54d873b748\" y=\"129.613023\"/>\r\n     <use style=\"fill:#1f77b4;stroke:#ffffff;stroke-width:0.48;\" x=\"88.639514\" xlink:href=\"#m54d873b748\" y=\"151.795714\"/>\r\n     <use style=\"fill:#1f77b4;stroke:#ffffff;stroke-width:0.48;\" x=\"94.307366\" xlink:href=\"#m54d873b748\" y=\"203.480939\"/>\r\n     <use style=\"fill:#1f77b4;stroke:#ffffff;stroke-width:0.48;\" x=\"89.773084\" xlink:href=\"#m54d873b748\" y=\"208.132175\"/>\r\n     <use style=\"fill:#1f77b4;stroke:#ffffff;stroke-width:0.48;\" x=\"84.672018\" xlink:href=\"#m54d873b748\" y=\"193.335646\"/>\r\n     <use style=\"fill:#1f77b4;stroke:#ffffff;stroke-width:0.48;\" x=\"95.252008\" xlink:href=\"#m54d873b748\" y=\"164.272677\"/>\r\n     <use style=\"fill:#1f77b4;stroke:#ffffff;stroke-width:0.48;\" x=\"101.297716\" xlink:href=\"#m54d873b748\" y=\"197.716271\"/>\r\n     <use style=\"fill:#1f77b4;stroke:#ffffff;stroke-width:0.48;\" x=\"81.649164\" xlink:href=\"#m54d873b748\" y=\"212.758481\"/>\r\n     <use style=\"fill:#1f77b4;stroke:#ffffff;stroke-width:0.48;\" x=\"90.528798\" xlink:href=\"#m54d873b748\" y=\"147.63705\"/>\r\n     <use style=\"fill:#1f77b4;stroke:#ffffff;stroke-width:0.48;\" x=\"82.215949\" xlink:href=\"#m54d873b748\" y=\"214.736758\"/>\r\n     <use style=\"fill:#1f77b4;stroke:#ffffff;stroke-width:0.48;\" x=\"103.942714\" xlink:href=\"#m54d873b748\" y=\"211.216379\"/>\r\n     <use style=\"fill:#1f77b4;stroke:#ffffff;stroke-width:0.48;\" x=\"84.294161\" xlink:href=\"#m54d873b748\" y=\"184.666375\"/>\r\n     <use style=\"fill:#1f77b4;stroke:#ffffff;stroke-width:0.48;\" x=\"92.040225\" xlink:href=\"#m54d873b748\" y=\"200.429896\"/>\r\n     <use style=\"fill:#1f77b4;stroke:#ffffff;stroke-width:0.48;\" x=\"97.519148\" xlink:href=\"#m54d873b748\" y=\"179.210322\"/>\r\n     <use style=\"fill:#1f77b4;stroke:#ffffff;stroke-width:0.48;\" x=\"82.593806\" xlink:href=\"#m54d873b748\" y=\"214.67915\"/>\r\n     <use style=\"fill:#1f77b4;stroke:#ffffff;stroke-width:0.48;\" x=\"92.040225\" xlink:href=\"#m54d873b748\" y=\"205.422181\"/>\r\n     <use style=\"fill:#1f77b4;stroke:#ffffff;stroke-width:0.48;\" x=\"96.19665\" xlink:href=\"#m54d873b748\" y=\"176.783768\"/>\r\n     <use style=\"fill:#1f77b4;stroke:#ffffff;stroke-width:0.48;\" x=\"84.105233\" xlink:href=\"#m54d873b748\" y=\"211.619393\"/>\r\n     <use style=\"fill:#1f77b4;stroke:#ffffff;stroke-width:0.48;\" x=\"90.33987\" xlink:href=\"#m54d873b748\" y=\"87.843143\"/>\r\n     <use style=\"fill:#1f77b4;stroke:#ffffff;stroke-width:0.48;\" x=\"92.229153\" xlink:href=\"#m54d873b748\" y=\"192.088119\"/>\r\n     <use style=\"fill:#1f77b4;stroke:#ffffff;stroke-width:0.48;\" x=\"85.238803\" xlink:href=\"#m54d873b748\" y=\"212.833759\"/>\r\n     <use style=\"fill:#1f77b4;stroke:#ffffff;stroke-width:0.48;\" x=\"104.887356\" xlink:href=\"#m54d873b748\" y=\"201.200341\"/>\r\n     <use style=\"fill:#1f77b4;stroke:#ffffff;stroke-width:0.48;\" x=\"95.252008\" xlink:href=\"#m54d873b748\" y=\"190.942737\"/>\r\n     <use style=\"fill:#1f77b4;stroke:#ffffff;stroke-width:0.48;\" x=\"86.561302\" xlink:href=\"#m54d873b748\" y=\"210.159588\"/>\r\n     <use style=\"fill:#1f77b4;stroke:#ffffff;stroke-width:0.48;\" x=\"90.906655\" xlink:href=\"#m54d873b748\" y=\"210.406721\"/>\r\n     <use style=\"fill:#1f77b4;stroke:#ffffff;stroke-width:0.48;\" x=\"86.561302\" xlink:href=\"#m54d873b748\" y=\"205.016021\"/>\r\n     <use style=\"fill:#1f77b4;stroke:#ffffff;stroke-width:0.48;\" x=\"85.805588\" xlink:href=\"#m54d873b748\" y=\"214.551831\"/>\r\n     <use style=\"fill:#1f77b4;stroke:#ffffff;stroke-width:0.48;\" x=\"85.238803\" xlink:href=\"#m54d873b748\" y=\"211.417281\"/>\r\n     <use style=\"fill:#1f77b4;stroke:#ffffff;stroke-width:0.48;\" x=\"84.105233\" xlink:href=\"#m54d873b748\" y=\"214.601694\"/>\r\n     <use style=\"fill:#1f77b4;stroke:#ffffff;stroke-width:0.48;\" x=\"82.215949\" xlink:href=\"#m54d873b748\" y=\"214.728044\"/>\r\n     <use style=\"fill:#1f77b4;stroke:#ffffff;stroke-width:0.48;\" x=\"93.740581\" xlink:href=\"#m54d873b748\" y=\"200.410774\"/>\r\n     <use style=\"fill:#1f77b4;stroke:#ffffff;stroke-width:0.48;\" x=\"82.593806\" xlink:href=\"#m54d873b748\" y=\"207.780961\"/>\r\n     <use style=\"fill:#1f77b4;stroke:#ffffff;stroke-width:0.48;\" x=\"127.180906\" xlink:href=\"#m54d873b748\" y=\"159.630396\"/>\r\n     <use style=\"fill:#1f77b4;stroke:#ffffff;stroke-width:0.48;\" x=\"89.584156\" xlink:href=\"#m54d873b748\" y=\"210.194927\"/>\r\n     <use style=\"fill:#1f77b4;stroke:#ffffff;stroke-width:0.48;\" x=\"99.030575\" xlink:href=\"#m54d873b748\" y=\"154.448101\"/>\r\n     <use style=\"fill:#1f77b4;stroke:#ffffff;stroke-width:0.48;\" x=\"81.838092\" xlink:href=\"#m54d873b748\" y=\"214.717878\"/>\r\n     <use style=\"fill:#1f77b4;stroke:#ffffff;stroke-width:0.48;\" x=\"113.955918\" xlink:href=\"#m54d873b748\" y=\"199.078287\"/>\r\n     <use style=\"fill:#1f77b4;stroke:#ffffff;stroke-width:0.48;\" x=\"91.851297\" xlink:href=\"#m54d873b748\" y=\"208.056898\"/>\r\n     <use style=\"fill:#1f77b4;stroke:#ffffff;stroke-width:0.48;\" x=\"91.095583\" xlink:href=\"#m54d873b748\" y=\"191.037863\"/>\r\n     <use style=\"fill:#1f77b4;stroke:#ffffff;stroke-width:0.48;\" x=\"85.61666\" xlink:href=\"#m54d873b748\" y=\"199.418126\"/>\r\n     <use style=\"fill:#1f77b4;stroke:#ffffff;stroke-width:0.48;\" x=\"85.238803\" xlink:href=\"#m54d873b748\" y=\"199.343816\"/>\r\n     <use style=\"fill:#1f77b4;stroke:#ffffff;stroke-width:0.48;\" x=\"96.19665\" xlink:href=\"#m54d873b748\" y=\"214.446781\"/>\r\n     <use style=\"fill:#1f77b4;stroke:#ffffff;stroke-width:0.48;\" x=\"87.694872\" xlink:href=\"#m54d873b748\" y=\"200.564233\"/>\r\n     <use style=\"fill:#1f77b4;stroke:#ffffff;stroke-width:0.48;\" x=\"84.860946\" xlink:href=\"#m54d873b748\" y=\"206.498337\"/>\r\n     <use style=\"fill:#1f77b4;stroke:#ffffff;stroke-width:0.48;\" x=\"113.389133\" xlink:href=\"#m54d873b748\" y=\"209.833062\"/>\r\n     <use style=\"fill:#1f77b4;stroke:#ffffff;stroke-width:0.48;\" x=\"99.786289\" xlink:href=\"#m54d873b748\" y=\"209.87179\"/>\r\n     <use style=\"fill:#1f77b4;stroke:#ffffff;stroke-width:0.48;\" x=\"94.874151\" xlink:href=\"#m54d873b748\" y=\"195.55452\"/>\r\n     <use style=\"fill:#1f77b4;stroke:#ffffff;stroke-width:0.48;\" x=\"90.33987\" xlink:href=\"#m54d873b748\" y=\"199.678088\"/>\r\n     <use style=\"fill:#1f77b4;stroke:#ffffff;stroke-width:0.48;\" x=\"90.528798\" xlink:href=\"#m54d873b748\" y=\"209.572374\"/>\r\n     <use style=\"fill:#1f77b4;stroke:#ffffff;stroke-width:0.48;\" x=\"85.994517\" xlink:href=\"#m54d873b748\" y=\"200.243033\"/>\r\n     <use style=\"fill:#1f77b4;stroke:#ffffff;stroke-width:0.48;\" x=\"89.017371\" xlink:href=\"#m54d873b748\" y=\"206.926523\"/>\r\n     <use style=\"fill:#1f77b4;stroke:#ffffff;stroke-width:0.48;\" x=\"92.60701\" xlink:href=\"#m54d873b748\" y=\"213.54224\"/>\r\n     <use style=\"fill:#1f77b4;stroke:#ffffff;stroke-width:0.48;\" x=\"88.639514\" xlink:href=\"#m54d873b748\" y=\"214.601694\"/>\r\n     <use style=\"fill:#1f77b4;stroke:#ffffff;stroke-width:0.48;\" x=\"84.294161\" xlink:href=\"#m54d873b748\" y=\"214.592012\"/>\r\n     <use style=\"fill:#1f77b4;stroke:#ffffff;stroke-width:0.48;\" x=\"84.294161\" xlink:href=\"#m54d873b748\" y=\"205.835603\"/>\r\n     <use style=\"fill:#1f77b4;stroke:#ffffff;stroke-width:0.48;\" x=\"81.460235\" xlink:href=\"#m54d873b748\" y=\"210.916721\"/>\r\n     <use style=\"fill:#1f77b4;stroke:#ffffff;stroke-width:0.48;\" x=\"91.095583\" xlink:href=\"#m54d873b748\" y=\"158.349708\"/>\r\n     <use style=\"fill:#1f77b4;stroke:#ffffff;stroke-width:0.48;\" x=\"113.389133\" xlink:href=\"#m54d873b748\" y=\"211.625444\"/>\r\n     <use style=\"fill:#1f77b4;stroke:#ffffff;stroke-width:0.48;\" x=\"103.942714\" xlink:href=\"#m54d873b748\" y=\"205.178921\"/>\r\n     <use style=\"fill:#1f77b4;stroke:#ffffff;stroke-width:0.48;\" x=\"87.505944\" xlink:href=\"#m54d873b748\" y=\"195.719841\"/>\r\n     <use style=\"fill:#1f77b4;stroke:#ffffff;stroke-width:0.48;\" x=\"94.118437\" xlink:href=\"#m54d873b748\" y=\"214.340037\"/>\r\n     <use style=\"fill:#1f77b4;stroke:#ffffff;stroke-width:0.48;\" x=\"88.828442\" xlink:href=\"#m54d873b748\" y=\"214.600241\"/>\r\n     <use style=\"fill:#1f77b4;stroke:#ffffff;stroke-width:0.48;\" x=\"89.395228\" xlink:href=\"#m54d873b748\" y=\"213.944285\"/>\r\n     <use style=\"fill:#1f77b4;stroke:#ffffff;stroke-width:0.48;\" x=\"93.740581\" xlink:href=\"#m54d873b748\" y=\"192.34082\"/>\r\n     <use style=\"fill:#1f77b4;stroke:#ffffff;stroke-width:0.48;\" x=\"105.831998\" xlink:href=\"#m54d873b748\" y=\"208.37471\"/>\r\n     <use style=\"fill:#1f77b4;stroke:#ffffff;stroke-width:0.48;\" x=\"84.294161\" xlink:href=\"#m54d873b748\" y=\"159.856713\"/>\r\n     <use style=\"fill:#1f77b4;stroke:#ffffff;stroke-width:0.48;\" x=\"81.838092\" xlink:href=\"#m54d873b748\" y=\"207.035204\"/>\r\n     <use style=\"fill:#1f77b4;stroke:#ffffff;stroke-width:0.48;\" x=\"84.860946\" xlink:href=\"#m54d873b748\" y=\"214.483089\"/>\r\n     <use style=\"fill:#1f77b4;stroke:#ffffff;stroke-width:0.48;\" x=\"84.105233\" xlink:href=\"#m54d873b748\" y=\"200.630071\"/>\r\n     <use style=\"fill:#1f77b4;stroke:#ffffff;stroke-width:0.48;\" x=\"88.261657\" xlink:href=\"#m54d873b748\" y=\"209.05245\"/>\r\n     <use style=\"fill:#1f77b4;stroke:#ffffff;stroke-width:0.48;\" x=\"89.017371\" xlink:href=\"#m54d873b748\" y=\"178.961494\"/>\r\n     <use style=\"fill:#1f77b4;stroke:#ffffff;stroke-width:0.48;\" x=\"88.261657\" xlink:href=\"#m54d873b748\" y=\"214.212235\"/>\r\n     <use style=\"fill:#1f77b4;stroke:#ffffff;stroke-width:0.48;\" x=\"98.652719\" xlink:href=\"#m54d873b748\" y=\"205.158831\"/>\r\n     <use style=\"fill:#1f77b4;stroke:#ffffff;stroke-width:0.48;\" x=\"84.483089\" xlink:href=\"#m54d873b748\" y=\"188.892572\"/>\r\n     <use style=\"fill:#1f77b4;stroke:#ffffff;stroke-width:0.48;\" x=\"81.460235\" xlink:href=\"#m54d873b748\" y=\"214.553284\"/>\r\n     <use style=\"fill:#1f77b4;stroke:#ffffff;stroke-width:0.48;\" x=\"90.906655\" xlink:href=\"#m54d873b748\" y=\"190.068936\"/>\r\n     <use style=\"fill:#1f77b4;stroke:#ffffff;stroke-width:0.48;\" x=\"88.072729\" xlink:href=\"#m54d873b748\" y=\"214.424271\"/>\r\n     <use style=\"fill:#1f77b4;stroke:#ffffff;stroke-width:0.48;\" x=\"83.349519\" xlink:href=\"#m54d873b748\" y=\"205.537397\"/>\r\n     <use style=\"fill:#1f77b4;stroke:#ffffff;stroke-width:0.48;\" x=\"82.02702\" xlink:href=\"#m54d873b748\" y=\"214.685443\"/>\r\n     <use style=\"fill:#1f77b4;stroke:#ffffff;stroke-width:0.48;\" x=\"96.007721\" xlink:href=\"#m54d873b748\" y=\"159.242631\"/>\r\n     <use style=\"fill:#1f77b4;stroke:#ffffff;stroke-width:0.48;\" x=\"89.206299\" xlink:href=\"#m54d873b748\" y=\"207.688255\"/>\r\n     <use style=\"fill:#1f77b4;stroke:#ffffff;stroke-width:0.48;\" x=\"111.688778\" xlink:href=\"#m54d873b748\" y=\"192.718176\"/>\r\n     <use style=\"fill:#1f77b4;stroke:#ffffff;stroke-width:0.48;\" x=\"91.47344\" xlink:href=\"#m54d873b748\" y=\"195.201853\"/>\r\n     <use style=\"fill:#1f77b4;stroke:#ffffff;stroke-width:0.48;\" x=\"113.389133\" xlink:href=\"#m54d873b748\" y=\"206.606775\"/>\r\n     <use style=\"fill:#1f77b4;stroke:#ffffff;stroke-width:0.48;\" x=\"87.694872\" xlink:href=\"#m54d873b748\" y=\"155.155129\"/>\r\n     <use style=\"fill:#1f77b4;stroke:#ffffff;stroke-width:0.48;\" x=\"82.593806\" xlink:href=\"#m54d873b748\" y=\"206.578213\"/>\r\n     <use style=\"fill:#1f77b4;stroke:#ffffff;stroke-width:0.48;\" x=\"93.551652\" xlink:href=\"#m54d873b748\" y=\"166.757322\"/>\r\n     <use style=\"fill:#1f77b4;stroke:#ffffff;stroke-width:0.48;\" x=\"95.818793\" xlink:href=\"#m54d873b748\" y=\"214.189966\"/>\r\n     <use style=\"fill:#1f77b4;stroke:#ffffff;stroke-width:0.48;\" x=\"97.897005\" xlink:href=\"#m54d873b748\" y=\"134.822185\"/>\r\n     <use style=\"fill:#1f77b4;stroke:#ffffff;stroke-width:0.48;\" x=\"101.297716\" xlink:href=\"#m54d873b748\" y=\"210.983043\"/>\r\n     <use style=\"fill:#1f77b4;stroke:#ffffff;stroke-width:0.48;\" x=\"85.049875\" xlink:href=\"#m54d873b748\" y=\"186.272137\"/>\r\n     <use style=\"fill:#1f77b4;stroke:#ffffff;stroke-width:0.48;\" x=\"92.795939\" xlink:href=\"#m54d873b748\" y=\"210.380338\"/>\r\n     <use style=\"fill:#1f77b4;stroke:#ffffff;stroke-width:0.48;\" x=\"85.994517\" xlink:href=\"#m54d873b748\" y=\"203.767526\"/>\r\n     <use style=\"fill:#1f77b4;stroke:#ffffff;stroke-width:0.48;\" x=\"109.04378\" xlink:href=\"#m54d873b748\" y=\"213.536189\"/>\r\n     <use style=\"fill:#1f77b4;stroke:#ffffff;stroke-width:0.48;\" x=\"91.095583\" xlink:href=\"#m54d873b748\" y=\"184.418274\"/>\r\n     <use style=\"fill:#1f77b4;stroke:#ffffff;stroke-width:0.48;\" x=\"90.906655\" xlink:href=\"#m54d873b748\" y=\"114.976246\"/>\r\n     <use style=\"fill:#1f77b4;stroke:#ffffff;stroke-width:0.48;\" x=\"81.838092\" xlink:href=\"#m54d873b748\" y=\"214.6898\"/>\r\n     <use style=\"fill:#1f77b4;stroke:#ffffff;stroke-width:0.48;\" x=\"88.639514\" xlink:href=\"#m54d873b748\" y=\"211.7714\"/>\r\n     <use style=\"fill:#1f77b4;stroke:#ffffff;stroke-width:0.48;\" x=\"85.805588\" xlink:href=\"#m54d873b748\" y=\"189.534489\"/>\r\n     <use style=\"fill:#1f77b4;stroke:#ffffff;stroke-width:0.48;\" x=\"82.215949\" xlink:href=\"#m54d873b748\" y=\"214.745955\"/>\r\n     <use style=\"fill:#1f77b4;stroke:#ffffff;stroke-width:0.48;\" x=\"89.395228\" xlink:href=\"#m54d873b748\" y=\"214.451864\"/>\r\n     <use style=\"fill:#1f77b4;stroke:#ffffff;stroke-width:0.48;\" x=\"94.118437\" xlink:href=\"#m54d873b748\" y=\"213.793488\"/>\r\n     <use style=\"fill:#1f77b4;stroke:#ffffff;stroke-width:0.48;\" x=\"107.532353\" xlink:href=\"#m54d873b748\" y=\"210.290053\"/>\r\n     <use style=\"fill:#1f77b4;stroke:#ffffff;stroke-width:0.48;\" x=\"84.105233\" xlink:href=\"#m54d873b748\" y=\"186.032507\"/>\r\n     <use style=\"fill:#1f77b4;stroke:#ffffff;stroke-width:0.48;\" x=\"99.786289\" xlink:href=\"#m54d873b748\" y=\"210.8717\"/>\r\n     <use style=\"fill:#1f77b4;stroke:#ffffff;stroke-width:0.48;\" x=\"92.418082\" xlink:href=\"#m54d873b748\" y=\"169.712513\"/>\r\n     <use style=\"fill:#1f77b4;stroke:#ffffff;stroke-width:0.48;\" x=\"97.897005\" xlink:href=\"#m54d873b748\" y=\"214.38046\"/>\r\n     <use style=\"fill:#1f77b4;stroke:#ffffff;stroke-width:0.48;\" x=\"84.294161\" xlink:href=\"#m54d873b748\" y=\"207.333652\"/>\r\n     <use style=\"fill:#1f77b4;stroke:#ffffff;stroke-width:0.48;\" x=\"82.404877\" xlink:href=\"#m54d873b748\" y=\"214.723687\"/>\r\n     <use style=\"fill:#1f77b4;stroke:#ffffff;stroke-width:0.48;\" x=\"82.215949\" xlink:href=\"#m54d873b748\" y=\"205.119134\"/>\r\n     <use style=\"fill:#1f77b4;stroke:#ffffff;stroke-width:0.48;\" x=\"99.597361\" xlink:href=\"#m54d873b748\" y=\"210.589227\"/>\r\n     <use style=\"fill:#1f77b4;stroke:#ffffff;stroke-width:0.48;\" x=\"85.994517\" xlink:href=\"#m54d873b748\" y=\"206.166486\"/>\r\n     <use style=\"fill:#1f77b4;stroke:#ffffff;stroke-width:0.48;\" x=\"90.906655\" xlink:href=\"#m54d873b748\" y=\"170.454155\"/>\r\n     <use style=\"fill:#1f77b4;stroke:#ffffff;stroke-width:0.48;\" x=\"100.730931\" xlink:href=\"#m54d873b748\" y=\"192.124911\"/>\r\n     <use style=\"fill:#1f77b4;stroke:#ffffff;stroke-width:0.48;\" x=\"91.851297\" xlink:href=\"#m54d873b748\" y=\"23.019434\"/>\r\n     <use style=\"fill:#1f77b4;stroke:#ffffff;stroke-width:0.48;\" x=\"83.727376\" xlink:href=\"#m54d873b748\" y=\"214.704081\"/>\r\n     <use style=\"fill:#1f77b4;stroke:#ffffff;stroke-width:0.48;\" x=\"90.717726\" xlink:href=\"#m54d873b748\" y=\"210.850399\"/>\r\n     <use style=\"fill:#1f77b4;stroke:#ffffff;stroke-width:0.48;\" x=\"86.561302\" xlink:href=\"#m54d873b748\" y=\"150.480414\"/>\r\n     <use style=\"fill:#1f77b4;stroke:#ffffff;stroke-width:0.48;\" x=\"94.118437\" xlink:href=\"#m54d873b748\" y=\"137.306347\"/>\r\n     <use style=\"fill:#1f77b4;stroke:#ffffff;stroke-width:0.48;\" x=\"95.252008\" xlink:href=\"#m54d873b748\" y=\"210.944073\"/>\r\n     <use style=\"fill:#1f77b4;stroke:#ffffff;stroke-width:0.48;\" x=\"96.19665\" xlink:href=\"#m54d873b748\" y=\"188.819715\"/>\r\n     <use style=\"fill:#1f77b4;stroke:#ffffff;stroke-width:0.48;\" x=\"89.206299\" xlink:href=\"#m54d873b748\" y=\"206.763624\"/>\r\n     <use style=\"fill:#1f77b4;stroke:#ffffff;stroke-width:0.48;\" x=\"93.173795\" xlink:href=\"#m54d873b748\" y=\"176.944974\"/>\r\n     <use style=\"fill:#1f77b4;stroke:#ffffff;stroke-width:0.48;\" x=\"81.271307\" xlink:href=\"#m54d873b748\" y=\"211.442454\"/>\r\n     <use style=\"fill:#1f77b4;stroke:#ffffff;stroke-width:0.48;\" x=\"109.799494\" xlink:href=\"#m54d873b748\" y=\"212.518851\"/>\r\n     <use style=\"fill:#1f77b4;stroke:#ffffff;stroke-width:0.48;\" x=\"94.307366\" xlink:href=\"#m54d873b748\" y=\"163.821495\"/>\r\n     <use style=\"fill:#1f77b4;stroke:#ffffff;stroke-width:0.48;\" x=\"107.91021\" xlink:href=\"#m54d873b748\" y=\"193.052931\"/>\r\n     <use style=\"fill:#1f77b4;stroke:#ffffff;stroke-width:0.48;\" x=\"82.971662\" xlink:href=\"#m54d873b748\" y=\"211.706289\"/>\r\n     <use style=\"fill:#1f77b4;stroke:#ffffff;stroke-width:0.48;\" x=\"90.150941\" xlink:href=\"#m54d873b748\" y=\"189.837778\"/>\r\n     <use style=\"fill:#1f77b4;stroke:#ffffff;stroke-width:0.48;\" x=\"101.297716\" xlink:href=\"#m54d873b748\" y=\"202.407446\"/>\r\n     <use style=\"fill:#1f77b4;stroke:#ffffff;stroke-width:0.48;\" x=\"89.395228\" xlink:href=\"#m54d873b748\" y=\"209.879536\"/>\r\n     <use style=\"fill:#1f77b4;stroke:#ffffff;stroke-width:0.48;\" x=\"96.007721\" xlink:href=\"#m54d873b748\" y=\"189.672942\"/>\r\n     <use style=\"fill:#1f77b4;stroke:#ffffff;stroke-width:0.48;\" x=\"98.652719\" xlink:href=\"#m54d873b748\" y=\"211.289478\"/>\r\n     <use style=\"fill:#1f77b4;stroke:#ffffff;stroke-width:0.48;\" x=\"96.763435\" xlink:href=\"#m54d873b748\" y=\"214.263307\"/>\r\n     <use style=\"fill:#1f77b4;stroke:#ffffff;stroke-width:0.48;\" x=\"130.959473\" xlink:href=\"#m54d873b748\" y=\"185.552037\"/>\r\n     <use style=\"fill:#1f77b4;stroke:#ffffff;stroke-width:0.48;\" x=\"93.551652\" xlink:href=\"#m54d873b748\" y=\"136.764396\"/>\r\n     <use style=\"fill:#1f77b4;stroke:#ffffff;stroke-width:0.48;\" x=\"94.307366\" xlink:href=\"#m54d873b748\" y=\"211.895814\"/>\r\n     <use style=\"fill:#1f77b4;stroke:#ffffff;stroke-width:0.48;\" x=\"104.509499\" xlink:href=\"#m54d873b748\" y=\"152.888329\"/>\r\n     <use style=\"fill:#1f77b4;stroke:#ffffff;stroke-width:0.48;\" x=\"145.695888\" xlink:href=\"#m54d873b748\" y=\"154.774626\"/>\r\n     <use style=\"fill:#1f77b4;stroke:#ffffff;stroke-width:0.48;\" x=\"122.268767\" xlink:href=\"#m54d873b748\" y=\"135.033495\"/>\r\n     <use style=\"fill:#1f77b4;stroke:#ffffff;stroke-width:0.48;\" x=\"111.877706\" xlink:href=\"#m54d873b748\" y=\"177.029449\"/>\r\n     <use style=\"fill:#1f77b4;stroke:#ffffff;stroke-width:0.48;\" x=\"92.795939\" xlink:href=\"#m54d873b748\" y=\"188.965913\"/>\r\n     <use style=\"fill:#1f77b4;stroke:#ffffff;stroke-width:0.48;\" x=\"104.509499\" xlink:href=\"#m54d873b748\" y=\"177.872026\"/>\r\n     <use style=\"fill:#1f77b4;stroke:#ffffff;stroke-width:0.48;\" x=\"82.971662\" xlink:href=\"#m54d873b748\" y=\"211.692008\"/>\r\n     <use style=\"fill:#1f77b4;stroke:#ffffff;stroke-width:0.48;\" x=\"88.639514\" xlink:href=\"#m54d873b748\" y=\"143.853805\"/>\r\n     <use style=\"fill:#1f77b4;stroke:#ffffff;stroke-width:0.48;\" x=\"81.649164\" xlink:href=\"#m54d873b748\" y=\"211.412924\"/>\r\n     <use style=\"fill:#1f77b4;stroke:#ffffff;stroke-width:0.48;\" x=\"84.105233\" xlink:href=\"#m54d873b748\" y=\"214.399098\"/>\r\n     <use style=\"fill:#1f77b4;stroke:#ffffff;stroke-width:0.48;\" x=\"95.063079\" xlink:href=\"#m54d873b748\" y=\"179.075016\"/>\r\n     <use style=\"fill:#1f77b4;stroke:#ffffff;stroke-width:0.48;\" x=\"104.698427\" xlink:href=\"#m54d873b748\" y=\"211.859023\"/>\r\n     <use style=\"fill:#1f77b4;stroke:#ffffff;stroke-width:0.48;\" x=\"86.75023\" xlink:href=\"#m54d873b748\" y=\"214.710374\"/>\r\n     <use style=\"fill:#1f77b4;stroke:#ffffff;stroke-width:0.48;\" x=\"90.33987\" xlink:href=\"#m54d873b748\" y=\"164.313825\"/>\r\n     <use style=\"fill:#1f77b4;stroke:#ffffff;stroke-width:0.48;\" x=\"130.20376\" xlink:href=\"#m54d873b748\" y=\"179.08494\"/>\r\n     <use style=\"fill:#1f77b4;stroke:#ffffff;stroke-width:0.48;\" x=\"93.173795\" xlink:href=\"#m54d873b748\" y=\"214.405391\"/>\r\n     <use style=\"fill:#1f77b4;stroke:#ffffff;stroke-width:0.48;\" x=\"141.728392\" xlink:href=\"#m54d873b748\" y=\"140.343593\"/>\r\n     <use style=\"fill:#1f77b4;stroke:#ffffff;stroke-width:0.48;\" x=\"88.450586\" xlink:href=\"#m54d873b748\" y=\"131.098243\"/>\r\n     <use style=\"fill:#1f77b4;stroke:#ffffff;stroke-width:0.48;\" x=\"105.454141\" xlink:href=\"#m54d873b748\" y=\"200.539302\"/>\r\n     <use style=\"fill:#1f77b4;stroke:#ffffff;stroke-width:0.48;\" x=\"121.324126\" xlink:href=\"#m54d873b748\" y=\"160.143058\"/>\r\n     <use style=\"fill:#1f77b4;stroke:#ffffff;stroke-width:0.48;\" x=\"103.375928\" xlink:href=\"#m54d873b748\" y=\"130.038547\"/>\r\n     <use style=\"fill:#1f77b4;stroke:#ffffff;stroke-width:0.48;\" x=\"88.261657\" xlink:href=\"#m54d873b748\" y=\"159.36293\"/>\r\n     <use style=\"fill:#1f77b4;stroke:#ffffff;stroke-width:0.48;\" x=\"89.017371\" xlink:href=\"#m54d873b748\" y=\"184.286599\"/>\r\n     <use style=\"fill:#1f77b4;stroke:#ffffff;stroke-width:0.48;\" x=\"92.418082\" xlink:href=\"#m54d873b748\" y=\"201.69364\"/>\r\n     <use style=\"fill:#1f77b4;stroke:#ffffff;stroke-width:0.48;\" x=\"85.427731\" xlink:href=\"#m54d873b748\" y=\"214.588623\"/>\r\n     <use style=\"fill:#1f77b4;stroke:#ffffff;stroke-width:0.48;\" x=\"87.694872\" xlink:href=\"#m54d873b748\" y=\"210.68048\"/>\r\n     <use style=\"fill:#1f77b4;stroke:#ffffff;stroke-width:0.48;\" x=\"86.75023\" xlink:href=\"#m54d873b748\" y=\"213.207\"/>\r\n     <use style=\"fill:#1f77b4;stroke:#ffffff;stroke-width:0.48;\" x=\"86.183445\" xlink:href=\"#m54d873b748\" y=\"214.228936\"/>\r\n     <use style=\"fill:#1f77b4;stroke:#ffffff;stroke-width:0.48;\" x=\"85.427731\" xlink:href=\"#m54d873b748\" y=\"194.28182\"/>\r\n     <use style=\"fill:#1f77b4;stroke:#ffffff;stroke-width:0.48;\" x=\"88.450586\" xlink:href=\"#m54d873b748\" y=\"155.000701\"/>\r\n     <use style=\"fill:#1f77b4;stroke:#ffffff;stroke-width:0.48;\" x=\"87.8838\" xlink:href=\"#m54d873b748\" y=\"192.429652\"/>\r\n     <use style=\"fill:#1f77b4;stroke:#ffffff;stroke-width:0.48;\" x=\"90.717726\" xlink:href=\"#m54d873b748\" y=\"209.198891\"/>\r\n     <use style=\"fill:#1f77b4;stroke:#ffffff;stroke-width:0.48;\" x=\"99.597361\" xlink:href=\"#m54d873b748\" y=\"191.236829\"/>\r\n     <use style=\"fill:#1f77b4;stroke:#ffffff;stroke-width:0.48;\" x=\"85.994517\" xlink:href=\"#m54d873b748\" y=\"213.885951\"/>\r\n     <use style=\"fill:#1f77b4;stroke:#ffffff;stroke-width:0.48;\" x=\"87.128087\" xlink:href=\"#m54d873b748\" y=\"184.804344\"/>\r\n     <use style=\"fill:#1f77b4;stroke:#ffffff;stroke-width:0.48;\" x=\"103.187\" xlink:href=\"#m54d873b748\" y=\"214.119045\"/>\r\n     <use style=\"fill:#1f77b4;stroke:#ffffff;stroke-width:0.48;\" x=\"98.085934\" xlink:href=\"#m54d873b748\" y=\"196.110994\"/>\r\n     <use style=\"fill:#1f77b4;stroke:#ffffff;stroke-width:0.48;\" x=\"97.519148\" xlink:href=\"#m54d873b748\" y=\"204.617606\"/>\r\n     <use style=\"fill:#1f77b4;stroke:#ffffff;stroke-width:0.48;\" x=\"82.971662\" xlink:href=\"#m54d873b748\" y=\"177.681532\"/>\r\n     <use style=\"fill:#1f77b4;stroke:#ffffff;stroke-width:0.48;\" x=\"100.353074\" xlink:href=\"#m54d873b748\" y=\"173.228293\"/>\r\n     <use style=\"fill:#1f77b4;stroke:#ffffff;stroke-width:0.48;\" x=\"98.652719\" xlink:href=\"#m54d873b748\" y=\"195.892906\"/>\r\n     <use style=\"fill:#1f77b4;stroke:#ffffff;stroke-width:0.48;\" x=\"88.450586\" xlink:href=\"#m54d873b748\" y=\"189.337945\"/>\r\n     <use style=\"fill:#1f77b4;stroke:#ffffff;stroke-width:0.48;\" x=\"120.379484\" xlink:href=\"#m54d873b748\" y=\"106.37596\"/>\r\n     <use style=\"fill:#1f77b4;stroke:#ffffff;stroke-width:0.48;\" x=\"83.349519\" xlink:href=\"#m54d873b748\" y=\"214.733369\"/>\r\n     <use style=\"fill:#1f77b4;stroke:#ffffff;stroke-width:0.48;\" x=\"89.962013\" xlink:href=\"#m54d873b748\" y=\"178.743407\"/>\r\n     <use style=\"fill:#1f77b4;stroke:#ffffff;stroke-width:0.48;\" x=\"85.994517\" xlink:href=\"#m54d873b748\" y=\"210.125701\"/>\r\n     <use style=\"fill:#1f77b4;stroke:#ffffff;stroke-width:0.48;\" x=\"102.242358\" xlink:href=\"#m54d873b748\" y=\"209.926978\"/>\r\n     <use style=\"fill:#1f77b4;stroke:#ffffff;stroke-width:0.48;\" x=\"87.128087\" xlink:href=\"#m54d873b748\" y=\"214.519396\"/>\r\n     <use style=\"fill:#1f77b4;stroke:#ffffff;stroke-width:0.48;\" x=\"82.593806\" xlink:href=\"#m54d873b748\" y=\"210.34161\"/>\r\n     <use style=\"fill:#1f77b4;stroke:#ffffff;stroke-width:0.48;\" x=\"83.160591\" xlink:href=\"#m54d873b748\" y=\"192.012599\"/>\r\n     <use style=\"fill:#1f77b4;stroke:#ffffff;stroke-width:0.48;\" x=\"95.063079\" xlink:href=\"#m54d873b748\" y=\"210.954239\"/>\r\n     <use style=\"fill:#1f77b4;stroke:#ffffff;stroke-width:0.48;\" x=\"110.366279\" xlink:href=\"#m54d873b748\" y=\"182.460814\"/>\r\n     <use style=\"fill:#1f77b4;stroke:#ffffff;stroke-width:0.48;\" x=\"85.994517\" xlink:href=\"#m54d873b748\" y=\"179.119795\"/>\r\n     <use style=\"fill:#1f77b4;stroke:#ffffff;stroke-width:0.48;\" x=\"99.408432\" xlink:href=\"#m54d873b748\" y=\"194.287871\"/>\r\n     <use style=\"fill:#1f77b4;stroke:#ffffff;stroke-width:0.48;\" x=\"87.694872\" xlink:href=\"#m54d873b748\" y=\"205.541028\"/>\r\n     <use style=\"fill:#1f77b4;stroke:#ffffff;stroke-width:0.48;\" x=\"116.978773\" xlink:href=\"#m54d873b748\" y=\"130.913074\"/>\r\n     <use style=\"fill:#1f77b4;stroke:#ffffff;stroke-width:0.48;\" x=\"116.789844\" xlink:href=\"#m54d873b748\" y=\"212.048548\"/>\r\n     <use style=\"fill:#1f77b4;stroke:#ffffff;stroke-width:0.48;\" x=\"83.349519\" xlink:href=\"#m54d873b748\" y=\"211.638999\"/>\r\n     <use style=\"fill:#1f77b4;stroke:#ffffff;stroke-width:0.48;\" x=\"86.939159\" xlink:href=\"#m54d873b748\" y=\"211.108183\"/>\r\n     <use style=\"fill:#1f77b4;stroke:#ffffff;stroke-width:0.48;\" x=\"98.652719\" xlink:href=\"#m54d873b748\" y=\"213.98495\"/>\r\n     <use style=\"fill:#1f77b4;stroke:#ffffff;stroke-width:0.48;\" x=\"97.33022\" xlink:href=\"#m54d873b748\" y=\"131.039425\"/>\r\n     <use style=\"fill:#1f77b4;stroke:#ffffff;stroke-width:0.48;\" x=\"85.238803\" xlink:href=\"#m54d873b748\" y=\"191.309202\"/>\r\n     <use style=\"fill:#1f77b4;stroke:#ffffff;stroke-width:0.48;\" x=\"88.450586\" xlink:href=\"#m54d873b748\" y=\"207.264183\"/>\r\n     <use style=\"fill:#1f77b4;stroke:#ffffff;stroke-width:0.48;\" x=\"97.33022\" xlink:href=\"#m54d873b748\" y=\"156.196429\"/>\r\n     <use style=\"fill:#1f77b4;stroke:#ffffff;stroke-width:0.48;\" x=\"86.372373\" xlink:href=\"#m54d873b748\" y=\"207.901744\"/>\r\n     <use style=\"fill:#1f77b4;stroke:#ffffff;stroke-width:0.48;\" x=\"97.897005\" xlink:href=\"#m54d873b748\" y=\"206.733125\"/>\r\n     <use style=\"fill:#1f77b4;stroke:#ffffff;stroke-width:0.48;\" x=\"91.662368\" xlink:href=\"#m54d873b748\" y=\"202.809733\"/>\r\n     <use style=\"fill:#1f77b4;stroke:#ffffff;stroke-width:0.48;\" x=\"110.366279\" xlink:href=\"#m54d873b748\" y=\"160.689365\"/>\r\n     <use style=\"fill:#1f77b4;stroke:#ffffff;stroke-width:0.48;\" x=\"81.649164\" xlink:href=\"#m54d873b748\" y=\"211.443422\"/>\r\n     <use style=\"fill:#1f77b4;stroke:#ffffff;stroke-width:0.48;\" x=\"103.375928\" xlink:href=\"#m54d873b748\" y=\"202.0526\"/>\r\n     <use style=\"fill:#1f77b4;stroke:#ffffff;stroke-width:0.48;\" x=\"85.805588\" xlink:href=\"#m54d873b748\" y=\"186.742682\"/>\r\n     <use style=\"fill:#1f77b4;stroke:#ffffff;stroke-width:0.48;\" x=\"95.440936\" xlink:href=\"#m54d873b748\" y=\"192.21689\"/>\r\n     <use style=\"fill:#1f77b4;stroke:#ffffff;stroke-width:0.48;\" x=\"88.639514\" xlink:href=\"#m54d873b748\" y=\"193.777388\"/>\r\n     <use style=\"fill:#1f77b4;stroke:#ffffff;stroke-width:0.48;\" x=\"97.708077\" xlink:href=\"#m54d873b748\" y=\"178.601807\"/>\r\n     <use style=\"fill:#1f77b4;stroke:#ffffff;stroke-width:0.48;\" x=\"98.46379\" xlink:href=\"#m54d873b748\" y=\"172.530462\"/>\r\n     <use style=\"fill:#1f77b4;stroke:#ffffff;stroke-width:0.48;\" x=\"91.47344\" xlink:href=\"#m54d873b748\" y=\"204.578878\"/>\r\n     <use style=\"fill:#1f77b4;stroke:#ffffff;stroke-width:0.48;\" x=\"90.150941\" xlink:href=\"#m54d873b748\" y=\"211.534675\"/>\r\n     <use style=\"fill:#1f77b4;stroke:#ffffff;stroke-width:0.48;\" x=\"83.538447\" xlink:href=\"#m54d873b748\" y=\"214.662206\"/>\r\n     <use style=\"fill:#1f77b4;stroke:#ffffff;stroke-width:0.48;\" x=\"113.200205\" xlink:href=\"#m54d873b748\" y=\"137.834016\"/>\r\n     <use style=\"fill:#1f77b4;stroke:#ffffff;stroke-width:0.48;\" x=\"85.238803\" xlink:href=\"#m54d873b748\" y=\"214.699482\"/>\r\n     <use style=\"fill:#1f77b4;stroke:#ffffff;stroke-width:0.48;\" x=\"92.418082\" xlink:href=\"#m54d873b748\" y=\"214.230873\"/>\r\n     <use style=\"fill:#1f77b4;stroke:#ffffff;stroke-width:0.48;\" x=\"89.017371\" xlink:href=\"#m54d873b748\" y=\"152.664191\"/>\r\n     <use style=\"fill:#1f77b4;stroke:#ffffff;stroke-width:0.48;\" x=\"135.871612\" xlink:href=\"#m54d873b748\" y=\"81.872007\"/>\r\n     <use style=\"fill:#1f77b4;stroke:#ffffff;stroke-width:0.48;\" x=\"82.782734\" xlink:href=\"#m54d873b748\" y=\"198.980741\"/>\r\n     <use style=\"fill:#1f77b4;stroke:#ffffff;stroke-width:0.48;\" x=\"87.8838\" xlink:href=\"#m54d873b748\" y=\"186.615848\"/>\r\n     <use style=\"fill:#1f77b4;stroke:#ffffff;stroke-width:0.48;\" x=\"89.017371\" xlink:href=\"#m54d873b748\" y=\"178.043398\"/>\r\n     <use style=\"fill:#1f77b4;stroke:#ffffff;stroke-width:0.48;\" x=\"98.46379\" xlink:href=\"#m54d873b748\" y=\"145.542347\"/>\r\n     <use style=\"fill:#1f77b4;stroke:#ffffff;stroke-width:0.48;\" x=\"103.187\" xlink:href=\"#m54d873b748\" y=\"47.147967\"/>\r\n     <use style=\"fill:#1f77b4;stroke:#ffffff;stroke-width:0.48;\" x=\"109.610565\" xlink:href=\"#m54d873b748\" y=\"189.00924\"/>\r\n     <use style=\"fill:#1f77b4;stroke:#ffffff;stroke-width:0.48;\" x=\"83.727376\" xlink:href=\"#m54d873b748\" y=\"211.255833\"/>\r\n     <use style=\"fill:#1f77b4;stroke:#ffffff;stroke-width:0.48;\" x=\"85.049875\" xlink:href=\"#m54d873b748\" y=\"210.303608\"/>\r\n     <use style=\"fill:#1f77b4;stroke:#ffffff;stroke-width:0.48;\" x=\"112.066634\" xlink:href=\"#m54d873b748\" y=\"109.389727\"/>\r\n     <use style=\"fill:#1f77b4;stroke:#ffffff;stroke-width:0.48;\" x=\"91.095583\" xlink:href=\"#m54d873b748\" y=\"203.193141\"/>\r\n     <use style=\"fill:#1f77b4;stroke:#ffffff;stroke-width:0.48;\" x=\"86.939159\" xlink:href=\"#m54d873b748\" y=\"209.143945\"/>\r\n     <use style=\"fill:#1f77b4;stroke:#ffffff;stroke-width:0.48;\" x=\"81.271307\" xlink:href=\"#m54d873b748\" y=\"210.48684\"/>\r\n     <use style=\"fill:#1f77b4;stroke:#ffffff;stroke-width:0.48;\" x=\"116.223059\" xlink:href=\"#m54d873b748\" y=\"190.542871\"/>\r\n     <use style=\"fill:#1f77b4;stroke:#ffffff;stroke-width:0.48;\" x=\"103.753785\" xlink:href=\"#m54d873b748\" y=\"147.534905\"/>\r\n     <use style=\"fill:#1f77b4;stroke:#ffffff;stroke-width:0.48;\" x=\"146.451601\" xlink:href=\"#m54d873b748\" y=\"103.130309\"/>\r\n     <use style=\"fill:#1f77b4;stroke:#ffffff;stroke-width:0.48;\" x=\"89.206299\" xlink:href=\"#m54d873b748\" y=\"164.614452\"/>\r\n     <use style=\"fill:#1f77b4;stroke:#ffffff;stroke-width:0.48;\" x=\"98.652719\" xlink:href=\"#m54d873b748\" y=\"196.678601\"/>\r\n     <use style=\"fill:#1f77b4;stroke:#ffffff;stroke-width:0.48;\" x=\"81.460235\" xlink:href=\"#m54d873b748\" y=\"214.756122\"/>\r\n     <use style=\"fill:#1f77b4;stroke:#ffffff;stroke-width:0.48;\" x=\"91.095583\" xlink:href=\"#m54d873b748\" y=\"170.388802\"/>\r\n     <use style=\"fill:#1f77b4;stroke:#ffffff;stroke-width:0.48;\" x=\"98.841647\" xlink:href=\"#m54d873b748\" y=\"167.758684\"/>\r\n     <use style=\"fill:#1f77b4;stroke:#ffffff;stroke-width:0.48;\" x=\"87.128087\" xlink:href=\"#m54d873b748\" y=\"214.392078\"/>\r\n     <use style=\"fill:#1f77b4;stroke:#ffffff;stroke-width:0.48;\" x=\"94.496294\" xlink:href=\"#m54d873b748\" y=\"163.971082\"/>\r\n     <use style=\"fill:#1f77b4;stroke:#ffffff;stroke-width:0.48;\" x=\"91.851297\" xlink:href=\"#m54d873b748\" y=\"170.193225\"/>\r\n     <use style=\"fill:#1f77b4;stroke:#ffffff;stroke-width:0.48;\" x=\"81.649164\" xlink:href=\"#m54d873b748\" y=\"214.750554\"/>\r\n     <use style=\"fill:#1f77b4;stroke:#ffffff;stroke-width:0.48;\" x=\"87.505944\" xlink:href=\"#m54d873b748\" y=\"205.323667\"/>\r\n     <use style=\"fill:#1f77b4;stroke:#ffffff;stroke-width:0.48;\" x=\"106.398783\" xlink:href=\"#m54d873b748\" y=\"186.456337\"/>\r\n     <use style=\"fill:#1f77b4;stroke:#ffffff;stroke-width:0.48;\" x=\"91.284511\" xlink:href=\"#m54d873b748\" y=\"198.0975\"/>\r\n     <use style=\"fill:#1f77b4;stroke:#ffffff;stroke-width:0.48;\" x=\"81.838092\" xlink:href=\"#m54d873b748\" y=\"210.34161\"/>\r\n     <use style=\"fill:#1f77b4;stroke:#ffffff;stroke-width:0.48;\" x=\"87.128087\" xlink:href=\"#m54d873b748\" y=\"108.344312\"/>\r\n     <use style=\"fill:#1f77b4;stroke:#ffffff;stroke-width:0.48;\" x=\"159.48766\" xlink:href=\"#m54d873b748\" y=\"37.965066\"/>\r\n     <use style=\"fill:#1f77b4;stroke:#ffffff;stroke-width:0.48;\" x=\"90.528798\" xlink:href=\"#m54d873b748\" y=\"208.125882\"/>\r\n     <use style=\"fill:#1f77b4;stroke:#ffffff;stroke-width:0.48;\" x=\"85.049875\" xlink:href=\"#m54d873b748\" y=\"208.598848\"/>\r\n     <use style=\"fill:#1f77b4;stroke:#ffffff;stroke-width:0.48;\" x=\"111.877706\" xlink:href=\"#m54d873b748\" y=\"205.721839\"/>\r\n     <use style=\"fill:#1f77b4;stroke:#ffffff;stroke-width:0.48;\" x=\"93.362724\" xlink:href=\"#m54d873b748\" y=\"86.184373\"/>\r\n     <use style=\"fill:#1f77b4;stroke:#ffffff;stroke-width:0.48;\" x=\"81.460235\" xlink:href=\"#m54d873b748\" y=\"208.715032\"/>\r\n     <use style=\"fill:#1f77b4;stroke:#ffffff;stroke-width:0.48;\" x=\"89.206299\" xlink:href=\"#m54d873b748\" y=\"205.668104\"/>\r\n     <use style=\"fill:#1f77b4;stroke:#ffffff;stroke-width:0.48;\" x=\"96.574506\" xlink:href=\"#m54d873b748\" y=\"214.232325\"/>\r\n     <use style=\"fill:#1f77b4;stroke:#ffffff;stroke-width:0.48;\" x=\"142.106248\" xlink:href=\"#m54d873b748\" y=\"118.386492\"/>\r\n     <use style=\"fill:#1f77b4;stroke:#ffffff;stroke-width:0.48;\" x=\"122.268767\" xlink:href=\"#m54d873b748\" y=\"185.651036\"/>\r\n     <use style=\"fill:#1f77b4;stroke:#ffffff;stroke-width:0.48;\" x=\"90.717726\" xlink:href=\"#m54d873b748\" y=\"205.570558\"/>\r\n     <use style=\"fill:#1f77b4;stroke:#ffffff;stroke-width:0.48;\" x=\"105.831998\" xlink:href=\"#m54d873b748\" y=\"164.749516\"/>\r\n     <use style=\"fill:#1f77b4;stroke:#ffffff;stroke-width:0.48;\" x=\"98.085934\" xlink:href=\"#m54d873b748\" y=\"185.208568\"/>\r\n     <use style=\"fill:#1f77b4;stroke:#ffffff;stroke-width:0.48;\" x=\"94.874151\" xlink:href=\"#m54d873b748\" y=\"214.021741\"/>\r\n     <use style=\"fill:#1f77b4;stroke:#ffffff;stroke-width:0.48;\" x=\"108.288067\" xlink:href=\"#m54d873b748\" y=\"144.682101\"/>\r\n     <use style=\"fill:#1f77b4;stroke:#ffffff;stroke-width:0.48;\" x=\"99.597361\" xlink:href=\"#m54d873b748\" y=\"206.751279\"/>\r\n     <use style=\"fill:#1f77b4;stroke:#ffffff;stroke-width:0.48;\" x=\"109.421637\" xlink:href=\"#m54d873b748\" y=\"199.204395\"/>\r\n     <use style=\"fill:#1f77b4;stroke:#ffffff;stroke-width:0.48;\" x=\"86.561302\" xlink:href=\"#m54d873b748\" y=\"204.983344\"/>\r\n     <use style=\"fill:#1f77b4;stroke:#ffffff;stroke-width:0.48;\" x=\"83.349519\" xlink:href=\"#m54d873b748\" y=\"214.325756\"/>\r\n     <use style=\"fill:#1f77b4;stroke:#ffffff;stroke-width:0.48;\" x=\"92.984867\" xlink:href=\"#m54d873b748\" y=\"196.110267\"/>\r\n     <use style=\"fill:#1f77b4;stroke:#ffffff;stroke-width:0.48;\" x=\"82.782734\" xlink:href=\"#m54d873b748\" y=\"212.692644\"/>\r\n     <use style=\"fill:#1f77b4;stroke:#ffffff;stroke-width:0.48;\" x=\"85.049875\" xlink:href=\"#m54d873b748\" y=\"214.581361\"/>\r\n     <use style=\"fill:#1f77b4;stroke:#ffffff;stroke-width:0.48;\" x=\"121.890911\" xlink:href=\"#m54d873b748\" y=\"150.66655\"/>\r\n     <use style=\"fill:#1f77b4;stroke:#ffffff;stroke-width:0.48;\" x=\"84.860946\" xlink:href=\"#m54d873b748\" y=\"202.320066\"/>\r\n     <use style=\"fill:#1f77b4;stroke:#ffffff;stroke-width:0.48;\" x=\"84.105233\" xlink:href=\"#m54d873b748\" y=\"212.528291\"/>\r\n     <use style=\"fill:#1f77b4;stroke:#ffffff;stroke-width:0.48;\" x=\"82.215949\" xlink:href=\"#m54d873b748\" y=\"214.668257\"/>\r\n     <use style=\"fill:#1f77b4;stroke:#ffffff;stroke-width:0.48;\" x=\"96.007721\" xlink:href=\"#m54d873b748\" y=\"208.763442\"/>\r\n     <use style=\"fill:#1f77b4;stroke:#ffffff;stroke-width:0.48;\" x=\"88.072729\" xlink:href=\"#m54d873b748\" y=\"206.220463\"/>\r\n     <use style=\"fill:#1f77b4;stroke:#ffffff;stroke-width:0.48;\" x=\"99.786289\" xlink:href=\"#m54d873b748\" y=\"191.421997\"/>\r\n     <use style=\"fill:#1f77b4;stroke:#ffffff;stroke-width:0.48;\" x=\"111.877706\" xlink:href=\"#m54d873b748\" y=\"117.94596\"/>\r\n     <use style=\"fill:#1f77b4;stroke:#ffffff;stroke-width:0.48;\" x=\"106.587711\" xlink:href=\"#m54d873b748\" y=\"210.374045\"/>\r\n     <use style=\"fill:#1f77b4;stroke:#ffffff;stroke-width:0.48;\" x=\"89.584156\" xlink:href=\"#m54d873b748\" y=\"205.614853\"/>\r\n     <use style=\"fill:#1f77b4;stroke:#ffffff;stroke-width:0.48;\" x=\"83.349519\" xlink:href=\"#m54d873b748\" y=\"212.578154\"/>\r\n     <use style=\"fill:#1f77b4;stroke:#ffffff;stroke-width:0.48;\" x=\"81.460235\" xlink:href=\"#m54d873b748\" y=\"214.650588\"/>\r\n     <use style=\"fill:#1f77b4;stroke:#ffffff;stroke-width:0.48;\" x=\"127.180906\" xlink:href=\"#m54d873b748\" y=\"198.774272\"/>\r\n     <use style=\"fill:#1f77b4;stroke:#ffffff;stroke-width:0.48;\" x=\"99.030575\" xlink:href=\"#m54d873b748\" y=\"203.625685\"/>\r\n     <use style=\"fill:#1f77b4;stroke:#ffffff;stroke-width:0.48;\" x=\"106.965568\" xlink:href=\"#m54d873b748\" y=\"199.536972\"/>\r\n     <use style=\"fill:#1f77b4;stroke:#ffffff;stroke-width:0.48;\" x=\"89.962013\" xlink:href=\"#m54d873b748\" y=\"213.647048\"/>\r\n     <use style=\"fill:#1f77b4;stroke:#ffffff;stroke-width:0.48;\" x=\"94.685223\" xlink:href=\"#m54d873b748\" y=\"212.497793\"/>\r\n     <use style=\"fill:#1f77b4;stroke:#ffffff;stroke-width:0.48;\" x=\"83.727376\" xlink:href=\"#m54d873b748\" y=\"214.229904\"/>\r\n     <use style=\"fill:#1f77b4;stroke:#ffffff;stroke-width:0.48;\" x=\"100.353074\" xlink:href=\"#m54d873b748\" y=\"208.700751\"/>\r\n     <use style=\"fill:#1f77b4;stroke:#ffffff;stroke-width:0.48;\" x=\"123.213409\" xlink:href=\"#m54d873b748\" y=\"144.203325\"/>\r\n     <use style=\"fill:#1f77b4;stroke:#ffffff;stroke-width:0.48;\" x=\"100.164146\" xlink:href=\"#m54d873b748\" y=\"198.101373\"/>\r\n     <use style=\"fill:#1f77b4;stroke:#ffffff;stroke-width:0.48;\" x=\"89.584156\" xlink:href=\"#m54d873b748\" y=\"200.687921\"/>\r\n     <use style=\"fill:#1f77b4;stroke:#ffffff;stroke-width:0.48;\" x=\"81.838092\" xlink:href=\"#m54d873b748\" y=\"208.075778\"/>\r\n     <use style=\"fill:#1f77b4;stroke:#ffffff;stroke-width:0.48;\" x=\"84.483089\" xlink:href=\"#m54d873b748\" y=\"195.777933\"/>\r\n     <use style=\"fill:#1f77b4;stroke:#ffffff;stroke-width:0.48;\" x=\"89.017371\" xlink:href=\"#m54d873b748\" y=\"211.104794\"/>\r\n     <use style=\"fill:#1f77b4;stroke:#ffffff;stroke-width:0.48;\" x=\"87.317015\" xlink:href=\"#m54d873b748\" y=\"214.53513\"/>\r\n     <use style=\"fill:#1f77b4;stroke:#ffffff;stroke-width:0.48;\" x=\"86.183445\" xlink:href=\"#m54d873b748\" y=\"209.714216\"/>\r\n     <use style=\"fill:#1f77b4;stroke:#ffffff;stroke-width:0.48;\" x=\"87.317015\" xlink:href=\"#m54d873b748\" y=\"187.804072\"/>\r\n     <use style=\"fill:#1f77b4;stroke:#ffffff;stroke-width:0.48;\" x=\"81.271307\" xlink:href=\"#m54d873b748\" y=\"211.096806\"/>\r\n     <use style=\"fill:#1f77b4;stroke:#ffffff;stroke-width:0.48;\" x=\"143.05089\" xlink:href=\"#m54d873b748\" y=\"103.582701\"/>\r\n     <use style=\"fill:#1f77b4;stroke:#ffffff;stroke-width:0.48;\" x=\"102.431287\" xlink:href=\"#m54d873b748\" y=\"179.04597\"/>\r\n     <use style=\"fill:#1f77b4;stroke:#ffffff;stroke-width:0.48;\" x=\"180.458712\" xlink:href=\"#m54d873b748\" y=\"162.390494\"/>\r\n     <use style=\"fill:#1f77b4;stroke:#ffffff;stroke-width:0.48;\" x=\"143.05089\" xlink:href=\"#m54d873b748\" y=\"161.354035\"/>\r\n     <use style=\"fill:#1f77b4;stroke:#ffffff;stroke-width:0.48;\" x=\"91.662368\" xlink:href=\"#m54d873b748\" y=\"206.944919\"/>\r\n     <use style=\"fill:#1f77b4;stroke:#ffffff;stroke-width:0.48;\" x=\"84.105233\" xlink:href=\"#m54d873b748\" y=\"212.432924\"/>\r\n     <use style=\"fill:#1f77b4;stroke:#ffffff;stroke-width:0.48;\" x=\"99.408432\" xlink:href=\"#m54d873b748\" y=\"213.409354\"/>\r\n     <use style=\"fill:#1f77b4;stroke:#ffffff;stroke-width:0.48;\" x=\"112.066634\" xlink:href=\"#m54d873b748\" y=\"166.883188\"/>\r\n     <use style=\"fill:#1f77b4;stroke:#ffffff;stroke-width:0.48;\" x=\"82.782734\" xlink:href=\"#m54d873b748\" y=\"214.711584\"/>\r\n     <use style=\"fill:#1f77b4;stroke:#ffffff;stroke-width:0.48;\" x=\"91.284511\" xlink:href=\"#m54d873b748\" y=\"214.195291\"/>\r\n     <use style=\"fill:#1f77b4;stroke:#ffffff;stroke-width:0.48;\" x=\"122.079839\" xlink:href=\"#m54d873b748\" y=\"121.221142\"/>\r\n     <use style=\"fill:#1f77b4;stroke:#ffffff;stroke-width:0.48;\" x=\"99.408432\" xlink:href=\"#m54d873b748\" y=\"208.07723\"/>\r\n     <use style=\"fill:#1f77b4;stroke:#ffffff;stroke-width:0.48;\" x=\"91.851297\" xlink:href=\"#m54d873b748\" y=\"214.449686\"/>\r\n     <use style=\"fill:#1f77b4;stroke:#ffffff;stroke-width:0.48;\" x=\"124.535908\" xlink:href=\"#m54d873b748\" y=\"198.946854\"/>\r\n     <use style=\"fill:#1f77b4;stroke:#ffffff;stroke-width:0.48;\" x=\"84.860946\" xlink:href=\"#m54d873b748\" y=\"211.735819\"/>\r\n     <use style=\"fill:#1f77b4;stroke:#ffffff;stroke-width:0.48;\" x=\"89.584156\" xlink:href=\"#m54d873b748\" y=\"205.361185\"/>\r\n     <use style=\"fill:#1f77b4;stroke:#ffffff;stroke-width:0.48;\" x=\"93.929509\" xlink:href=\"#m54d873b748\" y=\"192.993387\"/>\r\n     <use style=\"fill:#1f77b4;stroke:#ffffff;stroke-width:0.48;\" x=\"91.662368\" xlink:href=\"#m54d873b748\" y=\"203.659572\"/>\r\n     <use style=\"fill:#1f77b4;stroke:#ffffff;stroke-width:0.48;\" x=\"96.385578\" xlink:href=\"#m54d873b748\" y=\"207.636941\"/>\r\n     <use style=\"fill:#1f77b4;stroke:#ffffff;stroke-width:0.48;\" x=\"87.694872\" xlink:href=\"#m54d873b748\" y=\"211.142554\"/>\r\n     <use style=\"fill:#1f77b4;stroke:#ffffff;stroke-width:0.48;\" x=\"81.271307\" xlink:href=\"#m54d873b748\" y=\"214.752249\"/>\r\n     <use style=\"fill:#1f77b4;stroke:#ffffff;stroke-width:0.48;\" x=\"111.877706\" xlink:href=\"#m54d873b748\" y=\"162.684827\"/>\r\n     <use style=\"fill:#1f77b4;stroke:#ffffff;stroke-width:0.48;\" x=\"99.030575\" xlink:href=\"#m54d873b748\" y=\"176.980555\"/>\r\n     <use style=\"fill:#1f77b4;stroke:#ffffff;stroke-width:0.48;\" x=\"110.933064\" xlink:href=\"#m54d873b748\" y=\"203.078651\"/>\r\n     <use style=\"fill:#1f77b4;stroke:#ffffff;stroke-width:0.48;\" x=\"87.8838\" xlink:href=\"#m54d873b748\" y=\"211.943014\"/>\r\n     <use style=\"fill:#1f77b4;stroke:#ffffff;stroke-width:0.48;\" x=\"85.805588\" xlink:href=\"#m54d873b748\" y=\"200.308144\"/>\r\n     <use style=\"fill:#1f77b4;stroke:#ffffff;stroke-width:0.48;\" x=\"93.173795\" xlink:href=\"#m54d873b748\" y=\"209.295953\"/>\r\n     <use style=\"fill:#1f77b4;stroke:#ffffff;stroke-width:0.48;\" x=\"87.317015\" xlink:href=\"#m54d873b748\" y=\"174.96936\"/>\r\n     <use style=\"fill:#1f77b4;stroke:#ffffff;stroke-width:0.48;\" x=\"101.864501\" xlink:href=\"#m54d873b748\" y=\"164.159397\"/>\r\n     <use style=\"fill:#1f77b4;stroke:#ffffff;stroke-width:0.48;\" x=\"95.629864\" xlink:href=\"#m54d873b748\" y=\"172.178763\"/>\r\n     <use style=\"fill:#1f77b4;stroke:#ffffff;stroke-width:0.48;\" x=\"117.356629\" xlink:href=\"#m54d873b748\" y=\"148.927661\"/>\r\n     <use style=\"fill:#1f77b4;stroke:#ffffff;stroke-width:0.48;\" x=\"84.672018\" xlink:href=\"#m54d873b748\" y=\"214.661238\"/>\r\n     <use style=\"fill:#1f77b4;stroke:#ffffff;stroke-width:0.48;\" x=\"109.799494\" xlink:href=\"#m54d873b748\" y=\"198.056109\"/>\r\n     <use style=\"fill:#1f77b4;stroke:#ffffff;stroke-width:0.48;\" x=\"102.620215\" xlink:href=\"#m54d873b748\" y=\"186.40599\"/>\r\n     <use style=\"fill:#1f77b4;stroke:#ffffff;stroke-width:0.48;\" x=\"88.072729\" xlink:href=\"#m54d873b748\" y=\"196.627045\"/>\r\n     <use style=\"fill:#1f77b4;stroke:#ffffff;stroke-width:0.48;\" x=\"85.049875\" xlink:href=\"#m54d873b748\" y=\"202.695728\"/>\r\n     <use style=\"fill:#1f77b4;stroke:#ffffff;stroke-width:0.48;\" x=\"88.639514\" xlink:href=\"#m54d873b748\" y=\"201.739629\"/>\r\n     <use style=\"fill:#1f77b4;stroke:#ffffff;stroke-width:0.48;\" x=\"81.271307\" xlink:href=\"#m54d873b748\" y=\"211.340793\"/>\r\n     <use style=\"fill:#1f77b4;stroke:#ffffff;stroke-width:0.48;\" x=\"100.542003\" xlink:href=\"#m54d873b748\" y=\"167.636449\"/>\r\n     <use style=\"fill:#1f77b4;stroke:#ffffff;stroke-width:0.48;\" x=\"101.486645\" xlink:href=\"#m54d873b748\" y=\"209.75488\"/>\r\n     <use style=\"fill:#1f77b4;stroke:#ffffff;stroke-width:0.48;\" x=\"91.284511\" xlink:href=\"#m54d873b748\" y=\"188.727252\"/>\r\n     <use style=\"fill:#1f77b4;stroke:#ffffff;stroke-width:0.48;\" x=\"87.128087\" xlink:href=\"#m54d873b748\" y=\"207.834938\"/>\r\n     <use style=\"fill:#1f77b4;stroke:#ffffff;stroke-width:0.48;\" x=\"89.395228\" xlink:href=\"#m54d873b748\" y=\"196.847794\"/>\r\n     <use style=\"fill:#1f77b4;stroke:#ffffff;stroke-width:0.48;\" x=\"93.551652\" xlink:href=\"#m54d873b748\" y=\"195.668768\"/>\r\n     <use style=\"fill:#1f77b4;stroke:#ffffff;stroke-width:0.48;\" x=\"93.740581\" xlink:href=\"#m54d873b748\" y=\"205.119134\"/>\r\n     <use style=\"fill:#1f77b4;stroke:#ffffff;stroke-width:0.48;\" x=\"100.730931\" xlink:href=\"#m54d873b748\" y=\"212.65803\"/>\r\n     <use style=\"fill:#1f77b4;stroke:#ffffff;stroke-width:0.48;\" x=\"118.301271\" xlink:href=\"#m54d873b748\" y=\"152.634418\"/>\r\n     <use style=\"fill:#1f77b4;stroke:#ffffff;stroke-width:0.48;\" x=\"86.75023\" xlink:href=\"#m54d873b748\" y=\"201.982164\"/>\r\n     <use style=\"fill:#1f77b4;stroke:#ffffff;stroke-width:0.48;\" x=\"81.649164\" xlink:href=\"#m54d873b748\" y=\"212.830854\"/>\r\n     <use style=\"fill:#1f77b4;stroke:#ffffff;stroke-width:0.48;\" x=\"86.372373\" xlink:href=\"#m54d873b748\" y=\"214.561513\"/>\r\n     <use style=\"fill:#1f77b4;stroke:#ffffff;stroke-width:0.48;\" x=\"86.372373\" xlink:href=\"#m54d873b748\" y=\"211.295772\"/>\r\n     <use style=\"fill:#1f77b4;stroke:#ffffff;stroke-width:0.48;\" x=\"90.528798\" xlink:href=\"#m54d873b748\" y=\"154.274067\"/>\r\n     <use style=\"fill:#1f77b4;stroke:#ffffff;stroke-width:0.48;\" x=\"107.532353\" xlink:href=\"#m54d873b748\" y=\"96.950525\"/>\r\n     <use style=\"fill:#1f77b4;stroke:#ffffff;stroke-width:0.48;\" x=\"82.404877\" xlink:href=\"#m54d873b748\" y=\"211.573161\"/>\r\n     <use style=\"fill:#1f77b4;stroke:#ffffff;stroke-width:0.48;\" x=\"92.60701\" xlink:href=\"#m54d873b748\" y=\"176.756417\"/>\r\n     <use style=\"fill:#1f77b4;stroke:#ffffff;stroke-width:0.48;\" x=\"92.418082\" xlink:href=\"#m54d873b748\" y=\"176.753754\"/>\r\n     <use style=\"fill:#1f77b4;stroke:#ffffff;stroke-width:0.48;\" x=\"87.8838\" xlink:href=\"#m54d873b748\" y=\"214.414831\"/>\r\n     <use style=\"fill:#1f77b4;stroke:#ffffff;stroke-width:0.48;\" x=\"88.828442\" xlink:href=\"#m54d873b748\" y=\"157.705128\"/>\r\n     <use style=\"fill:#1f77b4;stroke:#ffffff;stroke-width:0.48;\" x=\"88.639514\" xlink:href=\"#m54d873b748\" y=\"158.559324\"/>\r\n     <use style=\"fill:#1f77b4;stroke:#ffffff;stroke-width:0.48;\" x=\"134.171256\" xlink:href=\"#m54d873b748\" y=\"138.772445\"/>\r\n     <use style=\"fill:#1f77b4;stroke:#ffffff;stroke-width:0.48;\" x=\"108.665923\" xlink:href=\"#m54d873b748\" y=\"199.004462\"/>\r\n     <use style=\"fill:#1f77b4;stroke:#ffffff;stroke-width:0.48;\" x=\"108.099138\" xlink:href=\"#m54d873b748\" y=\"193.852423\"/>\r\n     <use style=\"fill:#1f77b4;stroke:#ffffff;stroke-width:0.48;\" x=\"106.020926\" xlink:href=\"#m54d873b748\" y=\"181.443719\"/>\r\n     <use style=\"fill:#1f77b4;stroke:#ffffff;stroke-width:0.48;\" x=\"118.112343\" xlink:href=\"#m54d873b748\" y=\"159.278213\"/>\r\n     <use style=\"fill:#1f77b4;stroke:#ffffff;stroke-width:0.48;\" x=\"102.431287\" xlink:href=\"#m54d873b748\" y=\"198.589588\"/>\r\n     <use style=\"fill:#1f77b4;stroke:#ffffff;stroke-width:0.48;\" x=\"132.659829\" xlink:href=\"#m54d873b748\" y=\"112.636589\"/>\r\n     <use style=\"fill:#1f77b4;stroke:#ffffff;stroke-width:0.48;\" x=\"85.427731\" xlink:href=\"#m54d873b748\" y=\"214.60484\"/>\r\n     <use style=\"fill:#1f77b4;stroke:#ffffff;stroke-width:0.48;\" x=\"111.121992\" xlink:href=\"#m54d873b748\" y=\"172.49125\"/>\r\n     <use style=\"fill:#1f77b4;stroke:#ffffff;stroke-width:0.48;\" x=\"83.160591\" xlink:href=\"#m54d873b748\" y=\"211.094386\"/>\r\n     <use style=\"fill:#1f77b4;stroke:#ffffff;stroke-width:0.48;\" x=\"87.317015\" xlink:href=\"#m54d873b748\" y=\"211.994087\"/>\r\n     <use style=\"fill:#1f77b4;stroke:#ffffff;stroke-width:0.48;\" x=\"99.975217\" xlink:href=\"#m54d873b748\" y=\"213.868281\"/>\r\n     <use style=\"fill:#1f77b4;stroke:#ffffff;stroke-width:0.48;\" x=\"92.418082\" xlink:href=\"#m54d873b748\" y=\"212.498277\"/>\r\n     <use style=\"fill:#1f77b4;stroke:#ffffff;stroke-width:0.48;\" x=\"120.946269\" xlink:href=\"#m54d873b748\" y=\"147.265745\"/>\r\n     <use style=\"fill:#1f77b4;stroke:#ffffff;stroke-width:0.48;\" x=\"106.776639\" xlink:href=\"#m54d873b748\" y=\"147.824881\"/>\r\n     <use style=\"fill:#1f77b4;stroke:#ffffff;stroke-width:0.48;\" x=\"101.297716\" xlink:href=\"#m54d873b748\" y=\"196.487624\"/>\r\n     <use style=\"fill:#1f77b4;stroke:#ffffff;stroke-width:0.48;\" x=\"92.795939\" xlink:href=\"#m54d873b748\" y=\"195.669494\"/>\r\n     <use style=\"fill:#1f77b4;stroke:#ffffff;stroke-width:0.48;\" x=\"89.206299\" xlink:href=\"#m54d873b748\" y=\"214.622994\"/>\r\n     <use style=\"fill:#1f77b4;stroke:#ffffff;stroke-width:0.48;\" x=\"92.418082\" xlink:href=\"#m54d873b748\" y=\"212.081709\"/>\r\n     <use style=\"fill:#1f77b4;stroke:#ffffff;stroke-width:0.48;\" x=\"88.828442\" xlink:href=\"#m54d873b748\" y=\"214.394499\"/>\r\n     <use style=\"fill:#1f77b4;stroke:#ffffff;stroke-width:0.48;\" x=\"88.261657\" xlink:href=\"#m54d873b748\" y=\"210.467718\"/>\r\n     <use style=\"fill:#1f77b4;stroke:#ffffff;stroke-width:0.48;\" x=\"94.496294\" xlink:href=\"#m54d873b748\" y=\"198.246361\"/>\r\n     <use style=\"fill:#1f77b4;stroke:#ffffff;stroke-width:0.48;\" x=\"82.971662\" xlink:href=\"#m54d873b748\" y=\"214.659786\"/>\r\n     <use style=\"fill:#1f77b4;stroke:#ffffff;stroke-width:0.48;\" x=\"82.593806\" xlink:href=\"#m54d873b748\" y=\"214.710616\"/>\r\n     <use style=\"fill:#1f77b4;stroke:#ffffff;stroke-width:0.48;\" x=\"89.017371\" xlink:href=\"#m54d873b748\" y=\"211.666351\"/>\r\n     <use style=\"fill:#1f77b4;stroke:#ffffff;stroke-width:0.48;\" x=\"109.421637\" xlink:href=\"#m54d873b748\" y=\"188.358851\"/>\r\n     <use style=\"fill:#1f77b4;stroke:#ffffff;stroke-width:0.48;\" x=\"91.662368\" xlink:href=\"#m54d873b748\" y=\"214.441456\"/>\r\n     <use style=\"fill:#1f77b4;stroke:#ffffff;stroke-width:0.48;\" x=\"85.049875\" xlink:href=\"#m54d873b748\" y=\"214.745229\"/>\r\n     <use style=\"fill:#1f77b4;stroke:#ffffff;stroke-width:0.48;\" x=\"107.721281\" xlink:href=\"#m54d873b748\" y=\"167.285718\"/>\r\n     <use style=\"fill:#1f77b4;stroke:#ffffff;stroke-width:0.48;\" x=\"95.252008\" xlink:href=\"#m54d873b748\" y=\"209.636275\"/>\r\n     <use style=\"fill:#1f77b4;stroke:#ffffff;stroke-width:0.48;\" x=\"85.238803\" xlink:href=\"#m54d873b748\" y=\"214.740872\"/>\r\n     <use style=\"fill:#1f77b4;stroke:#ffffff;stroke-width:0.48;\" x=\"105.076284\" xlink:href=\"#m54d873b748\" y=\"198.743048\"/>\r\n     <use style=\"fill:#1f77b4;stroke:#ffffff;stroke-width:0.48;\" x=\"84.483089\" xlink:href=\"#m54d873b748\" y=\"214.282187\"/>\r\n     <use style=\"fill:#1f77b4;stroke:#ffffff;stroke-width:0.48;\" x=\"87.128087\" xlink:href=\"#m54d873b748\" y=\"214.627835\"/>\r\n     <use style=\"fill:#1f77b4;stroke:#ffffff;stroke-width:0.48;\" x=\"98.652719\" xlink:href=\"#m54d873b748\" y=\"191.940226\"/>\r\n     <use style=\"fill:#1f77b4;stroke:#ffffff;stroke-width:0.48;\" x=\"89.962013\" xlink:href=\"#m54d873b748\" y=\"214.360127\"/>\r\n     <use style=\"fill:#1f77b4;stroke:#ffffff;stroke-width:0.48;\" x=\"87.8838\" xlink:href=\"#m54d873b748\" y=\"209.961107\"/>\r\n     <use style=\"fill:#1f77b4;stroke:#ffffff;stroke-width:0.48;\" x=\"89.773084\" xlink:href=\"#m54d873b748\" y=\"204.89548\"/>\r\n     <use style=\"fill:#1f77b4;stroke:#ffffff;stroke-width:0.48;\" x=\"101.864501\" xlink:href=\"#m54d873b748\" y=\"204.939049\"/>\r\n     <use style=\"fill:#1f77b4;stroke:#ffffff;stroke-width:0.48;\" x=\"88.639514\" xlink:href=\"#m54d873b748\" y=\"205.710221\"/>\r\n     <use style=\"fill:#1f77b4;stroke:#ffffff;stroke-width:0.48;\" x=\"83.727376\" xlink:href=\"#m54d873b748\" y=\"214.701418\"/>\r\n     <use style=\"fill:#1f77b4;stroke:#ffffff;stroke-width:0.48;\" x=\"89.206299\" xlink:href=\"#m54d873b748\" y=\"157.559414\"/>\r\n     <use style=\"fill:#1f77b4;stroke:#ffffff;stroke-width:0.48;\" x=\"101.108788\" xlink:href=\"#m54d873b748\" y=\"190.903041\"/>\r\n     <use style=\"fill:#1f77b4;stroke:#ffffff;stroke-width:0.48;\" x=\"91.284511\" xlink:href=\"#m54d873b748\" y=\"156.647127\"/>\r\n     <use style=\"fill:#1f77b4;stroke:#ffffff;stroke-width:0.48;\" x=\"101.486645\" xlink:href=\"#m54d873b748\" y=\"177.501447\"/>\r\n     <use style=\"fill:#1f77b4;stroke:#ffffff;stroke-width:0.48;\" x=\"86.75023\" xlink:href=\"#m54d873b748\" y=\"214.568533\"/>\r\n     <use style=\"fill:#1f77b4;stroke:#ffffff;stroke-width:0.48;\" x=\"85.049875\" xlink:href=\"#m54d873b748\" y=\"214.609923\"/>\r\n     <use style=\"fill:#1f77b4;stroke:#ffffff;stroke-width:0.48;\" x=\"88.828442\" xlink:href=\"#m54d873b748\" y=\"207.208996\"/>\r\n     <use style=\"fill:#1f77b4;stroke:#ffffff;stroke-width:0.48;\" x=\"85.427731\" xlink:href=\"#m54d873b748\" y=\"192.548015\"/>\r\n     <use style=\"fill:#1f77b4;stroke:#ffffff;stroke-width:0.48;\" x=\"84.294161\" xlink:href=\"#m54d873b748\" y=\"194.559936\"/>\r\n     <use style=\"fill:#1f77b4;stroke:#ffffff;stroke-width:0.48;\" x=\"84.294161\" xlink:href=\"#m54d873b748\" y=\"202.063492\"/>\r\n     <use style=\"fill:#1f77b4;stroke:#ffffff;stroke-width:0.48;\" x=\"104.887356\" xlink:href=\"#m54d873b748\" y=\"213.996568\"/>\r\n     <use style=\"fill:#1f77b4;stroke:#ffffff;stroke-width:0.48;\" x=\"108.288067\" xlink:href=\"#m54d873b748\" y=\"143.843639\"/>\r\n     <use style=\"fill:#1f77b4;stroke:#ffffff;stroke-width:0.48;\" x=\"92.60701\" xlink:href=\"#m54d873b748\" y=\"204.549832\"/>\r\n     <use style=\"fill:#1f77b4;stroke:#ffffff;stroke-width:0.48;\" x=\"84.483089\" xlink:href=\"#m54d873b748\" y=\"207.431924\"/>\r\n     <use style=\"fill:#1f77b4;stroke:#ffffff;stroke-width:0.48;\" x=\"94.685223\" xlink:href=\"#m54d873b748\" y=\"164.667703\"/>\r\n     <use style=\"fill:#1f77b4;stroke:#ffffff;stroke-width:0.48;\" x=\"85.994517\" xlink:href=\"#m54d873b748\" y=\"214.586444\"/>\r\n     <use style=\"fill:#1f77b4;stroke:#ffffff;stroke-width:0.48;\" x=\"114.522703\" xlink:href=\"#m54d873b748\" y=\"162.249137\"/>\r\n     <use style=\"fill:#1f77b4;stroke:#ffffff;stroke-width:0.48;\" x=\"88.261657\" xlink:href=\"#m54d873b748\" y=\"214.264276\"/>\r\n     <use style=\"fill:#1f77b4;stroke:#ffffff;stroke-width:0.48;\" x=\"84.105233\" xlink:href=\"#m54d873b748\" y=\"214.486236\"/>\r\n     <use style=\"fill:#1f77b4;stroke:#ffffff;stroke-width:0.48;\" x=\"107.154496\" xlink:href=\"#m54d873b748\" y=\"213.835847\"/>\r\n     <use style=\"fill:#1f77b4;stroke:#ffffff;stroke-width:0.48;\" x=\"93.929509\" xlink:href=\"#m54d873b748\" y=\"213.355135\"/>\r\n     <use style=\"fill:#1f77b4;stroke:#ffffff;stroke-width:0.48;\" x=\"87.505944\" xlink:href=\"#m54d873b748\" y=\"214.464935\"/>\r\n     <use style=\"fill:#1f77b4;stroke:#ffffff;stroke-width:0.48;\" x=\"82.404877\" xlink:href=\"#m54d873b748\" y=\"214.70989\"/>\r\n     <use style=\"fill:#1f77b4;stroke:#ffffff;stroke-width:0.48;\" x=\"81.271307\" xlink:href=\"#m54d873b748\" y=\"214.752007\"/>\r\n     <use style=\"fill:#1f77b4;stroke:#ffffff;stroke-width:0.48;\" x=\"85.049875\" xlink:href=\"#m54d873b748\" y=\"214.553284\"/>\r\n     <use style=\"fill:#1f77b4;stroke:#ffffff;stroke-width:0.48;\" x=\"89.773084\" xlink:href=\"#m54d873b748\" y=\"188.577423\"/>\r\n     <use style=\"fill:#1f77b4;stroke:#ffffff;stroke-width:0.48;\" x=\"90.33987\" xlink:href=\"#m54d873b748\" y=\"214.408537\"/>\r\n     <use style=\"fill:#1f77b4;stroke:#ffffff;stroke-width:0.48;\" x=\"94.874151\" xlink:href=\"#m54d873b748\" y=\"165.554817\"/>\r\n     <use style=\"fill:#1f77b4;stroke:#ffffff;stroke-width:0.48;\" x=\"86.75023\" xlink:href=\"#m54d873b748\" y=\"214.228936\"/>\r\n     <use style=\"fill:#1f77b4;stroke:#ffffff;stroke-width:0.48;\" x=\"114.522703\" xlink:href=\"#m54d873b748\" y=\"166.322358\"/>\r\n     <use style=\"fill:#1f77b4;stroke:#ffffff;stroke-width:0.48;\" x=\"112.63342\" xlink:href=\"#m54d873b748\" y=\"137.667728\"/>\r\n     <use style=\"fill:#1f77b4;stroke:#ffffff;stroke-width:0.48;\" x=\"102.998072\" xlink:href=\"#m54d873b748\" y=\"204.239766\"/>\r\n     <use style=\"fill:#1f77b4;stroke:#ffffff;stroke-width:0.48;\" x=\"88.072729\" xlink:href=\"#m54d873b748\" y=\"211.407841\"/>\r\n     <use style=\"fill:#1f77b4;stroke:#ffffff;stroke-width:0.48;\" x=\"90.150941\" xlink:href=\"#m54d873b748\" y=\"214.416525\"/>\r\n     <use style=\"fill:#1f77b4;stroke:#ffffff;stroke-width:0.48;\" x=\"81.271307\" xlink:href=\"#m54d873b748\" y=\"214.746924\"/>\r\n     <use style=\"fill:#1f77b4;stroke:#ffffff;stroke-width:0.48;\" x=\"101.864501\" xlink:href=\"#m54d873b748\" y=\"201.068424\"/>\r\n     <use style=\"fill:#1f77b4;stroke:#ffffff;stroke-width:0.48;\" x=\"95.252008\" xlink:href=\"#m54d873b748\" y=\"214.113478\"/>\r\n     <use style=\"fill:#1f77b4;stroke:#ffffff;stroke-width:0.48;\" x=\"82.782734\" xlink:href=\"#m54d873b748\" y=\"214.675761\"/>\r\n     <use style=\"fill:#1f77b4;stroke:#ffffff;stroke-width:0.48;\" x=\"85.805588\" xlink:href=\"#m54d873b748\" y=\"166.01447\"/>\r\n     <use style=\"fill:#1f77b4;stroke:#ffffff;stroke-width:0.48;\" x=\"88.072729\" xlink:href=\"#m54d873b748\" y=\"206.988246\"/>\r\n     <use style=\"fill:#1f77b4;stroke:#ffffff;stroke-width:0.48;\" x=\"87.505944\" xlink:href=\"#m54d873b748\" y=\"214.50681\"/>\r\n     <use style=\"fill:#1f77b4;stroke:#ffffff;stroke-width:0.48;\" x=\"87.505944\" xlink:href=\"#m54d873b748\" y=\"214.492771\"/>\r\n     <use style=\"fill:#1f77b4;stroke:#ffffff;stroke-width:0.48;\" x=\"103.753785\" xlink:href=\"#m54d873b748\" y=\"213.674883\"/>\r\n     <use style=\"fill:#1f77b4;stroke:#ffffff;stroke-width:0.48;\" x=\"89.017371\" xlink:href=\"#m54d873b748\" y=\"214.626383\"/>\r\n     <use style=\"fill:#1f77b4;stroke:#ffffff;stroke-width:0.48;\" x=\"86.372373\" xlink:href=\"#m54d873b748\" y=\"212.858932\"/>\r\n     <use style=\"fill:#1f77b4;stroke:#ffffff;stroke-width:0.48;\" x=\"87.317015\" xlink:href=\"#m54d873b748\" y=\"208.550922\"/>\r\n     <use style=\"fill:#1f77b4;stroke:#ffffff;stroke-width:0.48;\" x=\"83.727376\" xlink:href=\"#m54d873b748\" y=\"214.658333\"/>\r\n     <use style=\"fill:#1f77b4;stroke:#ffffff;stroke-width:0.48;\" x=\"107.721281\" xlink:href=\"#m54d873b748\" y=\"195.54508\"/>\r\n     <use style=\"fill:#1f77b4;stroke:#ffffff;stroke-width:0.48;\" x=\"84.672018\" xlink:href=\"#m54d873b748\" y=\"197.721838\"/>\r\n     <use style=\"fill:#1f77b4;stroke:#ffffff;stroke-width:0.48;\" x=\"103.564857\" xlink:href=\"#m54d873b748\" y=\"212.121889\"/>\r\n     <use style=\"fill:#1f77b4;stroke:#ffffff;stroke-width:0.48;\" x=\"113.200205\" xlink:href=\"#m54d873b748\" y=\"142.966449\"/>\r\n     <use style=\"fill:#1f77b4;stroke:#ffffff;stroke-width:0.48;\" x=\"89.584156\" xlink:href=\"#m54d873b748\" y=\"205.769281\"/>\r\n     <use style=\"fill:#1f77b4;stroke:#ffffff;stroke-width:0.48;\" x=\"96.19665\" xlink:href=\"#m54d873b748\" y=\"214.057565\"/>\r\n     <use style=\"fill:#1f77b4;stroke:#ffffff;stroke-width:0.48;\" x=\"89.206299\" xlink:href=\"#m54d873b748\" y=\"136.659588\"/>\r\n     <use style=\"fill:#1f77b4;stroke:#ffffff;stroke-width:0.48;\" x=\"142.861962\" xlink:href=\"#m54d873b748\" y=\"138.493119\"/>\r\n     <use style=\"fill:#1f77b4;stroke:#ffffff;stroke-width:0.48;\" x=\"86.561302\" xlink:href=\"#m54d873b748\" y=\"214.267664\"/>\r\n     <use style=\"fill:#1f77b4;stroke:#ffffff;stroke-width:0.48;\" x=\"91.47344\" xlink:href=\"#m54d873b748\" y=\"184.63031\"/>\r\n     <use style=\"fill:#1f77b4;stroke:#ffffff;stroke-width:0.48;\" x=\"86.75023\" xlink:href=\"#m54d873b748\" y=\"211.568078\"/>\r\n     <use style=\"fill:#1f77b4;stroke:#ffffff;stroke-width:0.48;\" x=\"84.483089\" xlink:href=\"#m54d873b748\" y=\"214.592012\"/>\r\n     <use style=\"fill:#1f77b4;stroke:#ffffff;stroke-width:0.48;\" x=\"110.744136\" xlink:href=\"#m54d873b748\" y=\"178.355158\"/>\r\n     <use style=\"fill:#1f77b4;stroke:#ffffff;stroke-width:0.48;\" x=\"134.738041\" xlink:href=\"#m54d873b748\" y=\"145.732357\"/>\r\n     <use style=\"fill:#1f77b4;stroke:#ffffff;stroke-width:0.48;\" x=\"105.076284\" xlink:href=\"#m54d873b748\" y=\"208.734396\"/>\r\n     <use style=\"fill:#1f77b4;stroke:#ffffff;stroke-width:0.48;\" x=\"86.183445\" xlink:href=\"#m54d873b748\" y=\"190.762652\"/>\r\n     <use style=\"fill:#1f77b4;stroke:#ffffff;stroke-width:0.48;\" x=\"87.128087\" xlink:href=\"#m54d873b748\" y=\"204.032329\"/>\r\n     <use style=\"fill:#1f77b4;stroke:#ffffff;stroke-width:0.48;\" x=\"100.919859\" xlink:href=\"#m54d873b748\" y=\"166.989206\"/>\r\n     <use style=\"fill:#1f77b4;stroke:#ffffff;stroke-width:0.48;\" x=\"87.505944\" xlink:href=\"#m54d873b748\" y=\"188.410408\"/>\r\n     <use style=\"fill:#1f77b4;stroke:#ffffff;stroke-width:0.48;\" x=\"93.929509\" xlink:href=\"#m54d873b748\" y=\"214.191176\"/>\r\n     <use style=\"fill:#1f77b4;stroke:#ffffff;stroke-width:0.48;\" x=\"84.105233\" xlink:href=\"#m54d873b748\" y=\"193.44118\"/>\r\n     <use style=\"fill:#1f77b4;stroke:#ffffff;stroke-width:0.48;\" x=\"117.734486\" xlink:href=\"#m54d873b748\" y=\"146.431398\"/>\r\n     <use style=\"fill:#1f77b4;stroke:#ffffff;stroke-width:0.48;\" x=\"95.252008\" xlink:href=\"#m54d873b748\" y=\"204.657303\"/>\r\n     <use style=\"fill:#1f77b4;stroke:#ffffff;stroke-width:0.48;\" x=\"82.02702\" xlink:href=\"#m54d873b748\" y=\"214.72756\"/>\r\n     <use style=\"fill:#1f77b4;stroke:#ffffff;stroke-width:0.48;\" x=\"184.992993\" xlink:href=\"#m54d873b748\" y=\"31.923009\"/>\r\n     <use style=\"fill:#1f77b4;stroke:#ffffff;stroke-width:0.48;\" x=\"99.786289\" xlink:href=\"#m54d873b748\" y=\"142.655656\"/>\r\n     <use style=\"fill:#1f77b4;stroke:#ffffff;stroke-width:0.48;\" x=\"99.030575\" xlink:href=\"#m54d873b748\" y=\"145.721464\"/>\r\n     <use style=\"fill:#1f77b4;stroke:#ffffff;stroke-width:0.48;\" x=\"90.150941\" xlink:href=\"#m54d873b748\" y=\"208.193898\"/>\r\n     <use style=\"fill:#1f77b4;stroke:#ffffff;stroke-width:0.48;\" x=\"115.089489\" xlink:href=\"#m54d873b748\" y=\"163.735325\"/>\r\n     <use style=\"fill:#1f77b4;stroke:#ffffff;stroke-width:0.48;\" x=\"91.47344\" xlink:href=\"#m54d873b748\" y=\"200.808704\"/>\r\n     <use style=\"fill:#1f77b4;stroke:#ffffff;stroke-width:0.48;\" x=\"93.551652\" xlink:href=\"#m54d873b748\" y=\"191.15671\"/>\r\n     <use style=\"fill:#1f77b4;stroke:#ffffff;stroke-width:0.48;\" x=\"102.05343\" xlink:href=\"#m54d873b748\" y=\"164.640593\"/>\r\n     <use style=\"fill:#1f77b4;stroke:#ffffff;stroke-width:0.48;\" x=\"88.450586\" xlink:href=\"#m54d873b748\" y=\"205.74435\"/>\r\n     <use style=\"fill:#1f77b4;stroke:#ffffff;stroke-width:0.48;\" x=\"102.809143\" xlink:href=\"#m54d873b748\" y=\"204.171992\"/>\r\n     <use style=\"fill:#1f77b4;stroke:#ffffff;stroke-width:0.48;\" x=\"85.61666\" xlink:href=\"#m54d873b748\" y=\"206.79509\"/>\r\n     <use style=\"fill:#1f77b4;stroke:#ffffff;stroke-width:0.48;\" x=\"109.799494\" xlink:href=\"#m54d873b748\" y=\"214.519154\"/>\r\n     <use style=\"fill:#1f77b4;stroke:#ffffff;stroke-width:0.48;\" x=\"102.242358\" xlink:href=\"#m54d873b748\" y=\"196.542811\"/>\r\n     <use style=\"fill:#1f77b4;stroke:#ffffff;stroke-width:0.48;\" x=\"123.402338\" xlink:href=\"#m54d873b748\" y=\"174.366413\"/>\r\n     <use style=\"fill:#1f77b4;stroke:#ffffff;stroke-width:0.48;\" x=\"109.421637\" xlink:href=\"#m54d873b748\" y=\"198.965976\"/>\r\n     <use style=\"fill:#1f77b4;stroke:#ffffff;stroke-width:0.48;\" x=\"83.916304\" xlink:href=\"#m54d873b748\" y=\"214.621058\"/>\r\n     <use style=\"fill:#1f77b4;stroke:#ffffff;stroke-width:0.48;\" x=\"81.271307\" xlink:href=\"#m54d873b748\" y=\"210.059863\"/>\r\n     <use style=\"fill:#1f77b4;stroke:#ffffff;stroke-width:0.48;\" x=\"138.705537\" xlink:href=\"#m54d873b748\" y=\"103.125952\"/>\r\n     <use style=\"fill:#1f77b4;stroke:#ffffff;stroke-width:0.48;\" x=\"83.727376\" xlink:href=\"#m54d873b748\" y=\"210.936085\"/>\r\n     <use style=\"fill:#1f77b4;stroke:#ffffff;stroke-width:0.48;\" x=\"98.274862\" xlink:href=\"#m54d873b748\" y=\"214.149544\"/>\r\n     <use style=\"fill:#1f77b4;stroke:#ffffff;stroke-width:0.48;\" x=\"120.946269\" xlink:href=\"#m54d873b748\" y=\"106.883781\"/>\r\n     <use style=\"fill:#1f77b4;stroke:#ffffff;stroke-width:0.48;\" x=\"111.688778\" xlink:href=\"#m54d873b748\" y=\"190.590312\"/>\r\n     <use style=\"fill:#1f77b4;stroke:#ffffff;stroke-width:0.48;\" x=\"86.183445\" xlink:href=\"#m54d873b748\" y=\"187.06122\"/>\r\n     <use style=\"fill:#1f77b4;stroke:#ffffff;stroke-width:0.48;\" x=\"93.362724\" xlink:href=\"#m54d873b748\" y=\"203.426477\"/>\r\n     <use style=\"fill:#1f77b4;stroke:#ffffff;stroke-width:0.48;\" x=\"85.805588\" xlink:href=\"#m54d873b748\" y=\"214.164551\"/>\r\n     <use style=\"fill:#1f77b4;stroke:#ffffff;stroke-width:0.48;\" x=\"109.232709\" xlink:href=\"#m54d873b748\" y=\"190.52278\"/>\r\n     <use style=\"fill:#1f77b4;stroke:#ffffff;stroke-width:0.48;\" x=\"112.255563\" xlink:href=\"#m54d873b748\" y=\"151.072226\"/>\r\n     <use style=\"fill:#1f77b4;stroke:#ffffff;stroke-width:0.48;\" x=\"83.349519\" xlink:href=\"#m54d873b748\" y=\"214.733127\"/>\r\n     <use style=\"fill:#1f77b4;stroke:#ffffff;stroke-width:0.48;\" x=\"143.617676\" xlink:href=\"#m54d873b748\" y=\"76.310903\"/>\r\n     <use style=\"fill:#1f77b4;stroke:#ffffff;stroke-width:0.48;\" x=\"107.154496\" xlink:href=\"#m54d873b748\" y=\"190.893117\"/>\r\n     <use style=\"fill:#1f77b4;stroke:#ffffff;stroke-width:0.48;\" x=\"85.994517\" xlink:href=\"#m54d873b748\" y=\"213.674157\"/>\r\n     <use style=\"fill:#1f77b4;stroke:#ffffff;stroke-width:0.48;\" x=\"85.049875\" xlink:href=\"#m54d873b748\" y=\"208.168967\"/>\r\n     <use style=\"fill:#1f77b4;stroke:#ffffff;stroke-width:0.48;\" x=\"103.187\" xlink:href=\"#m54d873b748\" y=\"207.889399\"/>\r\n     <use style=\"fill:#1f77b4;stroke:#ffffff;stroke-width:0.48;\" x=\"101.675573\" xlink:href=\"#m54d873b748\" y=\"168.102395\"/>\r\n     <use style=\"fill:#1f77b4;stroke:#ffffff;stroke-width:0.48;\" x=\"115.467345\" xlink:href=\"#m54d873b748\" y=\"150.564647\"/>\r\n     <use style=\"fill:#1f77b4;stroke:#ffffff;stroke-width:0.48;\" x=\"97.897005\" xlink:href=\"#m54d873b748\" y=\"187.323603\"/>\r\n     <use style=\"fill:#1f77b4;stroke:#ffffff;stroke-width:0.48;\" x=\"86.75023\" xlink:href=\"#m54d873b748\" y=\"206.170843\"/>\r\n     <use style=\"fill:#1f77b4;stroke:#ffffff;stroke-width:0.48;\" x=\"90.906655\" xlink:href=\"#m54d873b748\" y=\"193.204455\"/>\r\n     <use style=\"fill:#1f77b4;stroke:#ffffff;stroke-width:0.48;\" x=\"98.652719\" xlink:href=\"#m54d873b748\" y=\"130.744849\"/>\r\n     <use style=\"fill:#1f77b4;stroke:#ffffff;stroke-width:0.48;\" x=\"113.200205\" xlink:href=\"#m54d873b748\" y=\"203.741627\"/>\r\n     <use style=\"fill:#1f77b4;stroke:#ffffff;stroke-width:0.48;\" x=\"86.561302\" xlink:href=\"#m54d873b748\" y=\"205.980833\"/>\r\n     <use style=\"fill:#1f77b4;stroke:#ffffff;stroke-width:0.48;\" x=\"87.128087\" xlink:href=\"#m54d873b748\" y=\"204.905888\"/>\r\n     <use style=\"fill:#1f77b4;stroke:#ffffff;stroke-width:0.48;\" x=\"82.02702\" xlink:href=\"#m54d873b748\" y=\"202.50354\"/>\r\n     <use style=\"fill:#1f77b4;stroke:#ffffff;stroke-width:0.48;\" x=\"90.150941\" xlink:href=\"#m54d873b748\" y=\"205.294379\"/>\r\n     <use style=\"fill:#1f77b4;stroke:#ffffff;stroke-width:0.48;\" x=\"112.63342\" xlink:href=\"#m54d873b748\" y=\"206.99575\"/>\r\n     <use style=\"fill:#1f77b4;stroke:#ffffff;stroke-width:0.48;\" x=\"115.089489\" xlink:href=\"#m54d873b748\" y=\"208.962892\"/>\r\n     <use style=\"fill:#1f77b4;stroke:#ffffff;stroke-width:0.48;\" x=\"135.115898\" xlink:href=\"#m54d873b748\" y=\"187.483598\"/>\r\n     <use style=\"fill:#1f77b4;stroke:#ffffff;stroke-width:0.48;\" x=\"82.971662\" xlink:href=\"#m54d873b748\" y=\"214.453317\"/>\r\n     <use style=\"fill:#1f77b4;stroke:#ffffff;stroke-width:0.48;\" x=\"109.04378\" xlink:href=\"#m54d873b748\" y=\"213.502301\"/>\r\n     <use style=\"fill:#1f77b4;stroke:#ffffff;stroke-width:0.48;\" x=\"123.024481\" xlink:href=\"#m54d873b748\" y=\"153.694598\"/>\r\n     <use style=\"fill:#1f77b4;stroke:#ffffff;stroke-width:0.48;\" x=\"95.440936\" xlink:href=\"#m54d873b748\" y=\"214.382638\"/>\r\n     <use style=\"fill:#1f77b4;stroke:#ffffff;stroke-width:0.48;\" x=\"96.385578\" xlink:href=\"#m54d873b748\" y=\"203.252443\"/>\r\n     <use style=\"fill:#1f77b4;stroke:#ffffff;stroke-width:0.48;\" x=\"83.349519\" xlink:href=\"#m54d873b748\" y=\"211.40179\"/>\r\n     <use style=\"fill:#1f77b4;stroke:#ffffff;stroke-width:0.48;\" x=\"82.593806\" xlink:href=\"#m54d873b748\" y=\"193.57818\"/>\r\n     <use style=\"fill:#1f77b4;stroke:#ffffff;stroke-width:0.48;\" x=\"99.975217\" xlink:href=\"#m54d873b748\" y=\"213.468414\"/>\r\n     <use style=\"fill:#1f77b4;stroke:#ffffff;stroke-width:0.48;\" x=\"93.551652\" xlink:href=\"#m54d873b748\" y=\"185.540903\"/>\r\n     <use style=\"fill:#1f77b4;stroke:#ffffff;stroke-width:0.48;\" x=\"98.46379\" xlink:href=\"#m54d873b748\" y=\"205.282518\"/>\r\n     <use style=\"fill:#1f77b4;stroke:#ffffff;stroke-width:0.48;\" x=\"85.61666\" xlink:href=\"#m54d873b748\" y=\"203.645049\"/>\r\n     <use style=\"fill:#1f77b4;stroke:#ffffff;stroke-width:0.48;\" x=\"98.652719\" xlink:href=\"#m54d873b748\" y=\"163.71112\"/>\r\n     <use style=\"fill:#1f77b4;stroke:#ffffff;stroke-width:0.48;\" x=\"81.271307\" xlink:href=\"#m54d873b748\" y=\"212.107608\"/>\r\n     <use style=\"fill:#1f77b4;stroke:#ffffff;stroke-width:0.48;\" x=\"81.271307\" xlink:href=\"#m54d873b748\" y=\"211.735819\"/>\r\n     <use style=\"fill:#1f77b4;stroke:#ffffff;stroke-width:0.48;\" x=\"84.672018\" xlink:href=\"#m54d873b748\" y=\"193.83911\"/>\r\n     <use style=\"fill:#1f77b4;stroke:#ffffff;stroke-width:0.48;\" x=\"92.60701\" xlink:href=\"#m54d873b748\" y=\"191.325177\"/>\r\n     <use style=\"fill:#1f77b4;stroke:#ffffff;stroke-width:0.48;\" x=\"93.929509\" xlink:href=\"#m54d873b748\" y=\"191.294679\"/>\r\n     <use style=\"fill:#1f77b4;stroke:#ffffff;stroke-width:0.48;\" x=\"81.838092\" xlink:href=\"#m54d873b748\" y=\"196.864254\"/>\r\n     <use style=\"fill:#1f77b4;stroke:#ffffff;stroke-width:0.48;\" x=\"96.385578\" xlink:href=\"#m54d873b748\" y=\"185.739626\"/>\r\n     <use style=\"fill:#1f77b4;stroke:#ffffff;stroke-width:0.48;\" x=\"89.206299\" xlink:href=\"#m54d873b748\" y=\"180.720473\"/>\r\n     <use style=\"fill:#1f77b4;stroke:#ffffff;stroke-width:0.48;\" x=\"83.727376\" xlink:href=\"#m54d873b748\" y=\"207.909005\"/>\r\n     <use style=\"fill:#1f77b4;stroke:#ffffff;stroke-width:0.48;\" x=\"82.782734\" xlink:href=\"#m54d873b748\" y=\"180.249927\"/>\r\n     <use style=\"fill:#1f77b4;stroke:#ffffff;stroke-width:0.48;\" x=\"104.509499\" xlink:href=\"#m54d873b748\" y=\"157.021336\"/>\r\n     <use style=\"fill:#1f77b4;stroke:#ffffff;stroke-width:0.48;\" x=\"83.160591\" xlink:href=\"#m54d873b748\" y=\"179.933326\"/>\r\n     <use style=\"fill:#1f77b4;stroke:#ffffff;stroke-width:0.48;\" x=\"81.271307\" xlink:href=\"#m54d873b748\" y=\"214.753701\"/>\r\n     <use style=\"fill:#1f77b4;stroke:#ffffff;stroke-width:0.48;\" x=\"97.33022\" xlink:href=\"#m54d873b748\" y=\"100.440163\"/>\r\n     <use style=\"fill:#1f77b4;stroke:#ffffff;stroke-width:0.48;\" x=\"91.284511\" xlink:href=\"#m54d873b748\" y=\"173.018919\"/>\r\n     <use style=\"fill:#1f77b4;stroke:#ffffff;stroke-width:0.48;\" x=\"113.011276\" xlink:href=\"#m54d873b748\" y=\"176.321452\"/>\r\n     <use style=\"fill:#1f77b4;stroke:#ffffff;stroke-width:0.48;\" x=\"95.818793\" xlink:href=\"#m54d873b748\" y=\"152.651846\"/>\r\n     <use style=\"fill:#1f77b4;stroke:#ffffff;stroke-width:0.48;\" x=\"123.024481\" xlink:href=\"#m54d873b748\" y=\"59.128\"/>\r\n     <use style=\"fill:#1f77b4;stroke:#ffffff;stroke-width:0.48;\" x=\"81.271307\" xlink:href=\"#m54d873b748\" y=\"213.246212\"/>\r\n     <use style=\"fill:#1f77b4;stroke:#ffffff;stroke-width:0.48;\" x=\"81.460235\" xlink:href=\"#m54d873b748\" y=\"209.998867\"/>\r\n     <use style=\"fill:#1f77b4;stroke:#ffffff;stroke-width:0.48;\" x=\"88.639514\" xlink:href=\"#m54d873b748\" y=\"204.103976\"/>\r\n     <use style=\"fill:#1f77b4;stroke:#ffffff;stroke-width:0.48;\" x=\"84.483089\" xlink:href=\"#m54d873b748\" y=\"190.093625\"/>\r\n     <use style=\"fill:#1f77b4;stroke:#ffffff;stroke-width:0.48;\" x=\"87.8838\" xlink:href=\"#m54d873b748\" y=\"180.344327\"/>\r\n     <use style=\"fill:#1f77b4;stroke:#ffffff;stroke-width:0.48;\" x=\"86.75023\" xlink:href=\"#m54d873b748\" y=\"189.5098\"/>\r\n     <use style=\"fill:#1f77b4;stroke:#ffffff;stroke-width:0.48;\" x=\"82.593806\" xlink:href=\"#m54d873b748\" y=\"190.71521\"/>\r\n     <use style=\"fill:#1f77b4;stroke:#ffffff;stroke-width:0.48;\" x=\"93.740581\" xlink:href=\"#m54d873b748\" y=\"203.915177\"/>\r\n     <use style=\"fill:#1f77b4;stroke:#ffffff;stroke-width:0.48;\" x=\"98.274862\" xlink:href=\"#m54d873b748\" y=\"165.41467\"/>\r\n     <use style=\"fill:#1f77b4;stroke:#ffffff;stroke-width:0.48;\" x=\"81.271307\" xlink:href=\"#m54d873b748\" y=\"214.75588\"/>\r\n     <use style=\"fill:#1f77b4;stroke:#ffffff;stroke-width:0.48;\" x=\"84.860946\" xlink:href=\"#m54d873b748\" y=\"211.735819\"/>\r\n     <use style=\"fill:#1f77b4;stroke:#ffffff;stroke-width:0.48;\" x=\"87.128087\" xlink:href=\"#m54d873b748\" y=\"204.164972\"/>\r\n     <use style=\"fill:#1f77b4;stroke:#ffffff;stroke-width:0.48;\" x=\"87.317015\" xlink:href=\"#m54d873b748\" y=\"193.420121\"/>\r\n     <use style=\"fill:#1f77b4;stroke:#ffffff;stroke-width:0.48;\" x=\"115.089489\" xlink:href=\"#m54d873b748\" y=\"146.993438\"/>\r\n     <use style=\"fill:#1f77b4;stroke:#ffffff;stroke-width:0.48;\" x=\"82.02702\" xlink:href=\"#m54d873b748\" y=\"214.740872\"/>\r\n     <use style=\"fill:#1f77b4;stroke:#ffffff;stroke-width:0.48;\" x=\"95.629864\" xlink:href=\"#m54d873b748\" y=\"108.029889\"/>\r\n     <use style=\"fill:#1f77b4;stroke:#ffffff;stroke-width:0.48;\" x=\"81.460235\" xlink:href=\"#m54d873b748\" y=\"210.92253\"/>\r\n     <use style=\"fill:#1f77b4;stroke:#ffffff;stroke-width:0.48;\" x=\"85.238803\" xlink:href=\"#m54d873b748\" y=\"206.856087\"/>\r\n     <use style=\"fill:#1f77b4;stroke:#ffffff;stroke-width:0.48;\" x=\"100.730931\" xlink:href=\"#m54d873b748\" y=\"169.524682\"/>\r\n     <use style=\"fill:#1f77b4;stroke:#ffffff;stroke-width:0.48;\" x=\"101.864501\" xlink:href=\"#m54d873b748\" y=\"196.899835\"/>\r\n     <use style=\"fill:#1f77b4;stroke:#ffffff;stroke-width:0.48;\" x=\"82.971662\" xlink:href=\"#m54d873b748\" y=\"212.31674\"/>\r\n     <use style=\"fill:#1f77b4;stroke:#ffffff;stroke-width:0.48;\" x=\"85.427731\" xlink:href=\"#m54d873b748\" y=\"212.136654\"/>\r\n     <use style=\"fill:#1f77b4;stroke:#ffffff;stroke-width:0.48;\" x=\"85.238803\" xlink:href=\"#m54d873b748\" y=\"213.06177\"/>\r\n     <use style=\"fill:#1f77b4;stroke:#ffffff;stroke-width:0.48;\" x=\"81.838092\" xlink:href=\"#m54d873b748\" y=\"201.720749\"/>\r\n     <use style=\"fill:#1f77b4;stroke:#ffffff;stroke-width:0.48;\" x=\"101.297716\" xlink:href=\"#m54d873b748\" y=\"183.614909\"/>\r\n     <use style=\"fill:#1f77b4;stroke:#ffffff;stroke-width:0.48;\" x=\"90.150941\" xlink:href=\"#m54d873b748\" y=\"161.852175\"/>\r\n     <use style=\"fill:#1f77b4;stroke:#ffffff;stroke-width:0.48;\" x=\"96.574506\" xlink:href=\"#m54d873b748\" y=\"180.395157\"/>\r\n     <use style=\"fill:#1f77b4;stroke:#ffffff;stroke-width:0.48;\" x=\"100.919859\" xlink:href=\"#m54d873b748\" y=\"166.593454\"/>\r\n     <use style=\"fill:#1f77b4;stroke:#ffffff;stroke-width:0.48;\" x=\"81.271307\" xlink:href=\"#m54d873b748\" y=\"211.096806\"/>\r\n     <use style=\"fill:#1f77b4;stroke:#ffffff;stroke-width:0.48;\" x=\"105.454141\" xlink:href=\"#m54d873b748\" y=\"174.844462\"/>\r\n     <use style=\"fill:#1f77b4;stroke:#ffffff;stroke-width:0.48;\" x=\"82.971662\" xlink:href=\"#m54d873b748\" y=\"208.244487\"/>\r\n     <use style=\"fill:#1f77b4;stroke:#ffffff;stroke-width:0.48;\" x=\"81.271307\" xlink:href=\"#m54d873b748\" y=\"212.723384\"/>\r\n     <use style=\"fill:#1f77b4;stroke:#ffffff;stroke-width:0.48;\" x=\"81.271307\" xlink:href=\"#m54d873b748\" y=\"214.756364\"/>\r\n     <use style=\"fill:#1f77b4;stroke:#ffffff;stroke-width:0.48;\" x=\"91.47344\" xlink:href=\"#m54d873b748\" y=\"192.337431\"/>\r\n     <use style=\"fill:#1f77b4;stroke:#ffffff;stroke-width:0.48;\" x=\"81.649164\" xlink:href=\"#m54d873b748\" y=\"214.512619\"/>\r\n     <use style=\"fill:#1f77b4;stroke:#ffffff;stroke-width:0.48;\" x=\"82.971662\" xlink:href=\"#m54d873b748\" y=\"212.31674\"/>\r\n     <use style=\"fill:#1f77b4;stroke:#ffffff;stroke-width:0.48;\" x=\"85.994517\" xlink:href=\"#m54d873b748\" y=\"183.790638\"/>\r\n     <use style=\"fill:#1f77b4;stroke:#ffffff;stroke-width:0.48;\" x=\"84.294161\" xlink:href=\"#m54d873b748\" y=\"213.449535\"/>\r\n    </g>\r\n   </g>\r\n   <g id=\"matplotlib.axis_1\">\r\n    <g id=\"xtick_1\">\r\n     <g id=\"line2d_1\">\r\n      <defs>\r\n       <path d=\"M 0 0 \r\nL 0 3.5 \r\n\" id=\"m22d69b87f9\" style=\"stroke:#000000;stroke-width:0.8;\"/>\r\n      </defs>\r\n      <g>\r\n       <use style=\"stroke:#000000;stroke-width:0.8;\" x=\"81.082378\" xlink:href=\"#m22d69b87f9\" y=\"224.64\"/>\r\n      </g>\r\n     </g>\r\n     <g id=\"text_1\">\r\n      <!-- 0 -->\r\n      <g transform=\"translate(77.901128 239.238438)scale(0.1 -0.1)\">\r\n       <defs>\r\n        <path d=\"M 2034 4250 \r\nQ 1547 4250 1301 3770 \r\nQ 1056 3291 1056 2328 \r\nQ 1056 1369 1301 889 \r\nQ 1547 409 2034 409 \r\nQ 2525 409 2770 889 \r\nQ 3016 1369 3016 2328 \r\nQ 3016 3291 2770 3770 \r\nQ 2525 4250 2034 4250 \r\nz\r\nM 2034 4750 \r\nQ 2819 4750 3233 4129 \r\nQ 3647 3509 3647 2328 \r\nQ 3647 1150 3233 529 \r\nQ 2819 -91 2034 -91 \r\nQ 1250 -91 836 529 \r\nQ 422 1150 422 2328 \r\nQ 422 3509 836 4129 \r\nQ 1250 4750 2034 4750 \r\nz\r\n\" id=\"DejaVuSans-30\" transform=\"scale(0.015625)\"/>\r\n       </defs>\r\n       <use xlink:href=\"#DejaVuSans-30\"/>\r\n      </g>\r\n     </g>\r\n    </g>\r\n    <g id=\"xtick_2\">\r\n     <g id=\"line2d_2\">\r\n      <g>\r\n       <use style=\"stroke:#000000;stroke-width:0.8;\" x=\"118.868056\" xlink:href=\"#m22d69b87f9\" y=\"224.64\"/>\r\n      </g>\r\n     </g>\r\n     <g id=\"text_2\">\r\n      <!-- 200 -->\r\n      <g transform=\"translate(109.324306 239.238438)scale(0.1 -0.1)\">\r\n       <defs>\r\n        <path d=\"M 1228 531 \r\nL 3431 531 \r\nL 3431 0 \r\nL 469 0 \r\nL 469 531 \r\nQ 828 903 1448 1529 \r\nQ 2069 2156 2228 2338 \r\nQ 2531 2678 2651 2914 \r\nQ 2772 3150 2772 3378 \r\nQ 2772 3750 2511 3984 \r\nQ 2250 4219 1831 4219 \r\nQ 1534 4219 1204 4116 \r\nQ 875 4013 500 3803 \r\nL 500 4441 \r\nQ 881 4594 1212 4672 \r\nQ 1544 4750 1819 4750 \r\nQ 2544 4750 2975 4387 \r\nQ 3406 4025 3406 3419 \r\nQ 3406 3131 3298 2873 \r\nQ 3191 2616 2906 2266 \r\nQ 2828 2175 2409 1742 \r\nQ 1991 1309 1228 531 \r\nz\r\n\" id=\"DejaVuSans-32\" transform=\"scale(0.015625)\"/>\r\n       </defs>\r\n       <use xlink:href=\"#DejaVuSans-32\"/>\r\n       <use x=\"63.623047\" xlink:href=\"#DejaVuSans-30\"/>\r\n       <use x=\"127.246094\" xlink:href=\"#DejaVuSans-30\"/>\r\n      </g>\r\n     </g>\r\n    </g>\r\n    <g id=\"xtick_3\">\r\n     <g id=\"line2d_3\">\r\n      <g>\r\n       <use style=\"stroke:#000000;stroke-width:0.8;\" x=\"156.653734\" xlink:href=\"#m22d69b87f9\" y=\"224.64\"/>\r\n      </g>\r\n     </g>\r\n     <g id=\"text_3\">\r\n      <!-- 400 -->\r\n      <g transform=\"translate(147.109984 239.238438)scale(0.1 -0.1)\">\r\n       <defs>\r\n        <path d=\"M 2419 4116 \r\nL 825 1625 \r\nL 2419 1625 \r\nL 2419 4116 \r\nz\r\nM 2253 4666 \r\nL 3047 4666 \r\nL 3047 1625 \r\nL 3713 1625 \r\nL 3713 1100 \r\nL 3047 1100 \r\nL 3047 0 \r\nL 2419 0 \r\nL 2419 1100 \r\nL 313 1100 \r\nL 313 1709 \r\nL 2253 4666 \r\nz\r\n\" id=\"DejaVuSans-34\" transform=\"scale(0.015625)\"/>\r\n       </defs>\r\n       <use xlink:href=\"#DejaVuSans-34\"/>\r\n       <use x=\"63.623047\" xlink:href=\"#DejaVuSans-30\"/>\r\n       <use x=\"127.246094\" xlink:href=\"#DejaVuSans-30\"/>\r\n      </g>\r\n     </g>\r\n    </g>\r\n    <g id=\"xtick_4\">\r\n     <g id=\"line2d_4\">\r\n      <g>\r\n       <use style=\"stroke:#000000;stroke-width:0.8;\" x=\"194.439412\" xlink:href=\"#m22d69b87f9\" y=\"224.64\"/>\r\n      </g>\r\n     </g>\r\n     <g id=\"text_4\">\r\n      <!-- 600 -->\r\n      <g transform=\"translate(184.895662 239.238438)scale(0.1 -0.1)\">\r\n       <defs>\r\n        <path d=\"M 2113 2584 \r\nQ 1688 2584 1439 2293 \r\nQ 1191 2003 1191 1497 \r\nQ 1191 994 1439 701 \r\nQ 1688 409 2113 409 \r\nQ 2538 409 2786 701 \r\nQ 3034 994 3034 1497 \r\nQ 3034 2003 2786 2293 \r\nQ 2538 2584 2113 2584 \r\nz\r\nM 3366 4563 \r\nL 3366 3988 \r\nQ 3128 4100 2886 4159 \r\nQ 2644 4219 2406 4219 \r\nQ 1781 4219 1451 3797 \r\nQ 1122 3375 1075 2522 \r\nQ 1259 2794 1537 2939 \r\nQ 1816 3084 2150 3084 \r\nQ 2853 3084 3261 2657 \r\nQ 3669 2231 3669 1497 \r\nQ 3669 778 3244 343 \r\nQ 2819 -91 2113 -91 \r\nQ 1303 -91 875 529 \r\nQ 447 1150 447 2328 \r\nQ 447 3434 972 4092 \r\nQ 1497 4750 2381 4750 \r\nQ 2619 4750 2861 4703 \r\nQ 3103 4656 3366 4563 \r\nz\r\n\" id=\"DejaVuSans-36\" transform=\"scale(0.015625)\"/>\r\n       </defs>\r\n       <use xlink:href=\"#DejaVuSans-36\"/>\r\n       <use x=\"63.623047\" xlink:href=\"#DejaVuSans-30\"/>\r\n       <use x=\"127.246094\" xlink:href=\"#DejaVuSans-30\"/>\r\n      </g>\r\n     </g>\r\n    </g>\r\n    <g id=\"xtick_5\">\r\n     <g id=\"line2d_5\">\r\n      <g>\r\n       <use style=\"stroke:#000000;stroke-width:0.8;\" x=\"232.22509\" xlink:href=\"#m22d69b87f9\" y=\"224.64\"/>\r\n      </g>\r\n     </g>\r\n     <g id=\"text_5\">\r\n      <!-- 800 -->\r\n      <g transform=\"translate(222.68134 239.238438)scale(0.1 -0.1)\">\r\n       <defs>\r\n        <path d=\"M 2034 2216 \r\nQ 1584 2216 1326 1975 \r\nQ 1069 1734 1069 1313 \r\nQ 1069 891 1326 650 \r\nQ 1584 409 2034 409 \r\nQ 2484 409 2743 651 \r\nQ 3003 894 3003 1313 \r\nQ 3003 1734 2745 1975 \r\nQ 2488 2216 2034 2216 \r\nz\r\nM 1403 2484 \r\nQ 997 2584 770 2862 \r\nQ 544 3141 544 3541 \r\nQ 544 4100 942 4425 \r\nQ 1341 4750 2034 4750 \r\nQ 2731 4750 3128 4425 \r\nQ 3525 4100 3525 3541 \r\nQ 3525 3141 3298 2862 \r\nQ 3072 2584 2669 2484 \r\nQ 3125 2378 3379 2068 \r\nQ 3634 1759 3634 1313 \r\nQ 3634 634 3220 271 \r\nQ 2806 -91 2034 -91 \r\nQ 1263 -91 848 271 \r\nQ 434 634 434 1313 \r\nQ 434 1759 690 2068 \r\nQ 947 2378 1403 2484 \r\nz\r\nM 1172 3481 \r\nQ 1172 3119 1398 2916 \r\nQ 1625 2713 2034 2713 \r\nQ 2441 2713 2670 2916 \r\nQ 2900 3119 2900 3481 \r\nQ 2900 3844 2670 4047 \r\nQ 2441 4250 2034 4250 \r\nQ 1625 4250 1398 4047 \r\nQ 1172 3844 1172 3481 \r\nz\r\n\" id=\"DejaVuSans-38\" transform=\"scale(0.015625)\"/>\r\n       </defs>\r\n       <use xlink:href=\"#DejaVuSans-38\"/>\r\n       <use x=\"63.623047\" xlink:href=\"#DejaVuSans-30\"/>\r\n       <use x=\"127.246094\" xlink:href=\"#DejaVuSans-30\"/>\r\n      </g>\r\n     </g>\r\n    </g>\r\n    <g id=\"xtick_6\">\r\n     <g id=\"line2d_6\">\r\n      <g>\r\n       <use style=\"stroke:#000000;stroke-width:0.8;\" x=\"270.010768\" xlink:href=\"#m22d69b87f9\" y=\"224.64\"/>\r\n      </g>\r\n     </g>\r\n     <g id=\"text_6\">\r\n      <!-- 1000 -->\r\n      <g transform=\"translate(257.285768 239.238438)scale(0.1 -0.1)\">\r\n       <defs>\r\n        <path d=\"M 794 531 \r\nL 1825 531 \r\nL 1825 4091 \r\nL 703 3866 \r\nL 703 4441 \r\nL 1819 4666 \r\nL 2450 4666 \r\nL 2450 531 \r\nL 3481 531 \r\nL 3481 0 \r\nL 794 0 \r\nL 794 531 \r\nz\r\n\" id=\"DejaVuSans-31\" transform=\"scale(0.015625)\"/>\r\n       </defs>\r\n       <use xlink:href=\"#DejaVuSans-31\"/>\r\n       <use x=\"63.623047\" xlink:href=\"#DejaVuSans-30\"/>\r\n       <use x=\"127.246094\" xlink:href=\"#DejaVuSans-30\"/>\r\n       <use x=\"190.869141\" xlink:href=\"#DejaVuSans-30\"/>\r\n      </g>\r\n     </g>\r\n    </g>\r\n    <g id=\"xtick_7\">\r\n     <g id=\"line2d_7\">\r\n      <g>\r\n       <use style=\"stroke:#000000;stroke-width:0.8;\" x=\"307.796446\" xlink:href=\"#m22d69b87f9\" y=\"224.64\"/>\r\n      </g>\r\n     </g>\r\n     <g id=\"text_7\">\r\n      <!-- 1200 -->\r\n      <g transform=\"translate(295.071446 239.238438)scale(0.1 -0.1)\">\r\n       <use xlink:href=\"#DejaVuSans-31\"/>\r\n       <use x=\"63.623047\" xlink:href=\"#DejaVuSans-32\"/>\r\n       <use x=\"127.246094\" xlink:href=\"#DejaVuSans-30\"/>\r\n       <use x=\"190.869141\" xlink:href=\"#DejaVuSans-30\"/>\r\n      </g>\r\n     </g>\r\n    </g>\r\n    <g id=\"xtick_8\">\r\n     <g id=\"line2d_8\">\r\n      <g>\r\n       <use style=\"stroke:#000000;stroke-width:0.8;\" x=\"345.582124\" xlink:href=\"#m22d69b87f9\" y=\"224.64\"/>\r\n      </g>\r\n     </g>\r\n     <g id=\"text_8\">\r\n      <!-- 1400 -->\r\n      <g transform=\"translate(332.857124 239.238438)scale(0.1 -0.1)\">\r\n       <use xlink:href=\"#DejaVuSans-31\"/>\r\n       <use x=\"63.623047\" xlink:href=\"#DejaVuSans-34\"/>\r\n       <use x=\"127.246094\" xlink:href=\"#DejaVuSans-30\"/>\r\n       <use x=\"190.869141\" xlink:href=\"#DejaVuSans-30\"/>\r\n      </g>\r\n     </g>\r\n    </g>\r\n    <g id=\"xtick_9\">\r\n     <g id=\"line2d_9\">\r\n      <g>\r\n       <use style=\"stroke:#000000;stroke-width:0.8;\" x=\"383.367803\" xlink:href=\"#m22d69b87f9\" y=\"224.64\"/>\r\n      </g>\r\n     </g>\r\n     <g id=\"text_9\">\r\n      <!-- 1600 -->\r\n      <g transform=\"translate(370.642803 239.238438)scale(0.1 -0.1)\">\r\n       <use xlink:href=\"#DejaVuSans-31\"/>\r\n       <use x=\"63.623047\" xlink:href=\"#DejaVuSans-36\"/>\r\n       <use x=\"127.246094\" xlink:href=\"#DejaVuSans-30\"/>\r\n       <use x=\"190.869141\" xlink:href=\"#DejaVuSans-30\"/>\r\n      </g>\r\n     </g>\r\n    </g>\r\n    <g id=\"text_10\">\r\n     <!-- container_sum -->\r\n     <g transform=\"translate(196.617969 252.916562)scale(0.1 -0.1)\">\r\n      <defs>\r\n       <path d=\"M 3122 3366 \r\nL 3122 2828 \r\nQ 2878 2963 2633 3030 \r\nQ 2388 3097 2138 3097 \r\nQ 1578 3097 1268 2742 \r\nQ 959 2388 959 1747 \r\nQ 959 1106 1268 751 \r\nQ 1578 397 2138 397 \r\nQ 2388 397 2633 464 \r\nQ 2878 531 3122 666 \r\nL 3122 134 \r\nQ 2881 22 2623 -34 \r\nQ 2366 -91 2075 -91 \r\nQ 1284 -91 818 406 \r\nQ 353 903 353 1747 \r\nQ 353 2603 823 3093 \r\nQ 1294 3584 2113 3584 \r\nQ 2378 3584 2631 3529 \r\nQ 2884 3475 3122 3366 \r\nz\r\n\" id=\"DejaVuSans-63\" transform=\"scale(0.015625)\"/>\r\n       <path d=\"M 1959 3097 \r\nQ 1497 3097 1228 2736 \r\nQ 959 2375 959 1747 \r\nQ 959 1119 1226 758 \r\nQ 1494 397 1959 397 \r\nQ 2419 397 2687 759 \r\nQ 2956 1122 2956 1747 \r\nQ 2956 2369 2687 2733 \r\nQ 2419 3097 1959 3097 \r\nz\r\nM 1959 3584 \r\nQ 2709 3584 3137 3096 \r\nQ 3566 2609 3566 1747 \r\nQ 3566 888 3137 398 \r\nQ 2709 -91 1959 -91 \r\nQ 1206 -91 779 398 \r\nQ 353 888 353 1747 \r\nQ 353 2609 779 3096 \r\nQ 1206 3584 1959 3584 \r\nz\r\n\" id=\"DejaVuSans-6f\" transform=\"scale(0.015625)\"/>\r\n       <path d=\"M 3513 2113 \r\nL 3513 0 \r\nL 2938 0 \r\nL 2938 2094 \r\nQ 2938 2591 2744 2837 \r\nQ 2550 3084 2163 3084 \r\nQ 1697 3084 1428 2787 \r\nQ 1159 2491 1159 1978 \r\nL 1159 0 \r\nL 581 0 \r\nL 581 3500 \r\nL 1159 3500 \r\nL 1159 2956 \r\nQ 1366 3272 1645 3428 \r\nQ 1925 3584 2291 3584 \r\nQ 2894 3584 3203 3211 \r\nQ 3513 2838 3513 2113 \r\nz\r\n\" id=\"DejaVuSans-6e\" transform=\"scale(0.015625)\"/>\r\n       <path d=\"M 1172 4494 \r\nL 1172 3500 \r\nL 2356 3500 \r\nL 2356 3053 \r\nL 1172 3053 \r\nL 1172 1153 \r\nQ 1172 725 1289 603 \r\nQ 1406 481 1766 481 \r\nL 2356 481 \r\nL 2356 0 \r\nL 1766 0 \r\nQ 1100 0 847 248 \r\nQ 594 497 594 1153 \r\nL 594 3053 \r\nL 172 3053 \r\nL 172 3500 \r\nL 594 3500 \r\nL 594 4494 \r\nL 1172 4494 \r\nz\r\n\" id=\"DejaVuSans-74\" transform=\"scale(0.015625)\"/>\r\n       <path d=\"M 2194 1759 \r\nQ 1497 1759 1228 1600 \r\nQ 959 1441 959 1056 \r\nQ 959 750 1161 570 \r\nQ 1363 391 1709 391 \r\nQ 2188 391 2477 730 \r\nQ 2766 1069 2766 1631 \r\nL 2766 1759 \r\nL 2194 1759 \r\nz\r\nM 3341 1997 \r\nL 3341 0 \r\nL 2766 0 \r\nL 2766 531 \r\nQ 2569 213 2275 61 \r\nQ 1981 -91 1556 -91 \r\nQ 1019 -91 701 211 \r\nQ 384 513 384 1019 \r\nQ 384 1609 779 1909 \r\nQ 1175 2209 1959 2209 \r\nL 2766 2209 \r\nL 2766 2266 \r\nQ 2766 2663 2505 2880 \r\nQ 2244 3097 1772 3097 \r\nQ 1472 3097 1187 3025 \r\nQ 903 2953 641 2809 \r\nL 641 3341 \r\nQ 956 3463 1253 3523 \r\nQ 1550 3584 1831 3584 \r\nQ 2591 3584 2966 3190 \r\nQ 3341 2797 3341 1997 \r\nz\r\n\" id=\"DejaVuSans-61\" transform=\"scale(0.015625)\"/>\r\n       <path d=\"M 603 3500 \r\nL 1178 3500 \r\nL 1178 0 \r\nL 603 0 \r\nL 603 3500 \r\nz\r\nM 603 4863 \r\nL 1178 4863 \r\nL 1178 4134 \r\nL 603 4134 \r\nL 603 4863 \r\nz\r\n\" id=\"DejaVuSans-69\" transform=\"scale(0.015625)\"/>\r\n       <path d=\"M 3597 1894 \r\nL 3597 1613 \r\nL 953 1613 \r\nQ 991 1019 1311 708 \r\nQ 1631 397 2203 397 \r\nQ 2534 397 2845 478 \r\nQ 3156 559 3463 722 \r\nL 3463 178 \r\nQ 3153 47 2828 -22 \r\nQ 2503 -91 2169 -91 \r\nQ 1331 -91 842 396 \r\nQ 353 884 353 1716 \r\nQ 353 2575 817 3079 \r\nQ 1281 3584 2069 3584 \r\nQ 2775 3584 3186 3129 \r\nQ 3597 2675 3597 1894 \r\nz\r\nM 3022 2063 \r\nQ 3016 2534 2758 2815 \r\nQ 2500 3097 2075 3097 \r\nQ 1594 3097 1305 2825 \r\nQ 1016 2553 972 2059 \r\nL 3022 2063 \r\nz\r\n\" id=\"DejaVuSans-65\" transform=\"scale(0.015625)\"/>\r\n       <path d=\"M 2631 2963 \r\nQ 2534 3019 2420 3045 \r\nQ 2306 3072 2169 3072 \r\nQ 1681 3072 1420 2755 \r\nQ 1159 2438 1159 1844 \r\nL 1159 0 \r\nL 581 0 \r\nL 581 3500 \r\nL 1159 3500 \r\nL 1159 2956 \r\nQ 1341 3275 1631 3429 \r\nQ 1922 3584 2338 3584 \r\nQ 2397 3584 2469 3576 \r\nQ 2541 3569 2628 3553 \r\nL 2631 2963 \r\nz\r\n\" id=\"DejaVuSans-72\" transform=\"scale(0.015625)\"/>\r\n       <path d=\"M 3263 -1063 \r\nL 3263 -1509 \r\nL -63 -1509 \r\nL -63 -1063 \r\nL 3263 -1063 \r\nz\r\n\" id=\"DejaVuSans-5f\" transform=\"scale(0.015625)\"/>\r\n       <path d=\"M 2834 3397 \r\nL 2834 2853 \r\nQ 2591 2978 2328 3040 \r\nQ 2066 3103 1784 3103 \r\nQ 1356 3103 1142 2972 \r\nQ 928 2841 928 2578 \r\nQ 928 2378 1081 2264 \r\nQ 1234 2150 1697 2047 \r\nL 1894 2003 \r\nQ 2506 1872 2764 1633 \r\nQ 3022 1394 3022 966 \r\nQ 3022 478 2636 193 \r\nQ 2250 -91 1575 -91 \r\nQ 1294 -91 989 -36 \r\nQ 684 19 347 128 \r\nL 347 722 \r\nQ 666 556 975 473 \r\nQ 1284 391 1588 391 \r\nQ 1994 391 2212 530 \r\nQ 2431 669 2431 922 \r\nQ 2431 1156 2273 1281 \r\nQ 2116 1406 1581 1522 \r\nL 1381 1569 \r\nQ 847 1681 609 1914 \r\nQ 372 2147 372 2553 \r\nQ 372 3047 722 3315 \r\nQ 1072 3584 1716 3584 \r\nQ 2034 3584 2315 3537 \r\nQ 2597 3491 2834 3397 \r\nz\r\n\" id=\"DejaVuSans-73\" transform=\"scale(0.015625)\"/>\r\n       <path d=\"M 544 1381 \r\nL 544 3500 \r\nL 1119 3500 \r\nL 1119 1403 \r\nQ 1119 906 1312 657 \r\nQ 1506 409 1894 409 \r\nQ 2359 409 2629 706 \r\nQ 2900 1003 2900 1516 \r\nL 2900 3500 \r\nL 3475 3500 \r\nL 3475 0 \r\nL 2900 0 \r\nL 2900 538 \r\nQ 2691 219 2414 64 \r\nQ 2138 -91 1772 -91 \r\nQ 1169 -91 856 284 \r\nQ 544 659 544 1381 \r\nz\r\nM 1991 3584 \r\nL 1991 3584 \r\nz\r\n\" id=\"DejaVuSans-75\" transform=\"scale(0.015625)\"/>\r\n       <path d=\"M 3328 2828 \r\nQ 3544 3216 3844 3400 \r\nQ 4144 3584 4550 3584 \r\nQ 5097 3584 5394 3201 \r\nQ 5691 2819 5691 2113 \r\nL 5691 0 \r\nL 5113 0 \r\nL 5113 2094 \r\nQ 5113 2597 4934 2840 \r\nQ 4756 3084 4391 3084 \r\nQ 3944 3084 3684 2787 \r\nQ 3425 2491 3425 1978 \r\nL 3425 0 \r\nL 2847 0 \r\nL 2847 2094 \r\nQ 2847 2600 2669 2842 \r\nQ 2491 3084 2119 3084 \r\nQ 1678 3084 1418 2786 \r\nQ 1159 2488 1159 1978 \r\nL 1159 0 \r\nL 581 0 \r\nL 581 3500 \r\nL 1159 3500 \r\nL 1159 2956 \r\nQ 1356 3278 1631 3431 \r\nQ 1906 3584 2284 3584 \r\nQ 2666 3584 2933 3390 \r\nQ 3200 3197 3328 2828 \r\nz\r\n\" id=\"DejaVuSans-6d\" transform=\"scale(0.015625)\"/>\r\n      </defs>\r\n      <use xlink:href=\"#DejaVuSans-63\"/>\r\n      <use x=\"54.980469\" xlink:href=\"#DejaVuSans-6f\"/>\r\n      <use x=\"116.162109\" xlink:href=\"#DejaVuSans-6e\"/>\r\n      <use x=\"179.541016\" xlink:href=\"#DejaVuSans-74\"/>\r\n      <use x=\"218.75\" xlink:href=\"#DejaVuSans-61\"/>\r\n      <use x=\"280.029297\" xlink:href=\"#DejaVuSans-69\"/>\r\n      <use x=\"307.8125\" xlink:href=\"#DejaVuSans-6e\"/>\r\n      <use x=\"371.191406\" xlink:href=\"#DejaVuSans-65\"/>\r\n      <use x=\"432.714844\" xlink:href=\"#DejaVuSans-72\"/>\r\n      <use x=\"473.828125\" xlink:href=\"#DejaVuSans-5f\"/>\r\n      <use x=\"523.828125\" xlink:href=\"#DejaVuSans-73\"/>\r\n      <use x=\"575.927734\" xlink:href=\"#DejaVuSans-75\"/>\r\n      <use x=\"639.306641\" xlink:href=\"#DejaVuSans-6d\"/>\r\n     </g>\r\n    </g>\r\n   </g>\r\n   <g id=\"matplotlib.axis_2\">\r\n    <g id=\"ytick_1\">\r\n     <g id=\"line2d_10\">\r\n      <defs>\r\n       <path d=\"M 0 0 \r\nL -3.5 0 \r\n\" id=\"m83df4d3ad6\" style=\"stroke:#000000;stroke-width:0.8;\"/>\r\n      </defs>\r\n      <g>\r\n       <use style=\"stroke:#000000;stroke-width:0.8;\" x=\"66.053125\" xlink:href=\"#m83df4d3ad6\" y=\"214.756606\"/>\r\n      </g>\r\n     </g>\r\n     <g id=\"text_11\">\r\n      <!-- 0 -->\r\n      <g transform=\"translate(52.690625 218.555824)scale(0.1 -0.1)\">\r\n       <use xlink:href=\"#DejaVuSans-30\"/>\r\n      </g>\r\n     </g>\r\n    </g>\r\n    <g id=\"ytick_2\">\r\n     <g id=\"line2d_11\">\r\n      <g>\r\n       <use style=\"stroke:#000000;stroke-width:0.8;\" x=\"66.053125\" xlink:href=\"#m83df4d3ad6\" y=\"190.551584\"/>\r\n      </g>\r\n     </g>\r\n     <g id=\"text_12\">\r\n      <!-- 100000 -->\r\n      <g transform=\"translate(20.878125 194.350803)scale(0.1 -0.1)\">\r\n       <use xlink:href=\"#DejaVuSans-31\"/>\r\n       <use x=\"63.623047\" xlink:href=\"#DejaVuSans-30\"/>\r\n       <use x=\"127.246094\" xlink:href=\"#DejaVuSans-30\"/>\r\n       <use x=\"190.869141\" xlink:href=\"#DejaVuSans-30\"/>\r\n       <use x=\"254.492188\" xlink:href=\"#DejaVuSans-30\"/>\r\n       <use x=\"318.115234\" xlink:href=\"#DejaVuSans-30\"/>\r\n      </g>\r\n     </g>\r\n    </g>\r\n    <g id=\"ytick_3\">\r\n     <g id=\"line2d_12\">\r\n      <g>\r\n       <use style=\"stroke:#000000;stroke-width:0.8;\" x=\"66.053125\" xlink:href=\"#m83df4d3ad6\" y=\"166.346563\"/>\r\n      </g>\r\n     </g>\r\n     <g id=\"text_13\">\r\n      <!-- 200000 -->\r\n      <g transform=\"translate(20.878125 170.145782)scale(0.1 -0.1)\">\r\n       <use xlink:href=\"#DejaVuSans-32\"/>\r\n       <use x=\"63.623047\" xlink:href=\"#DejaVuSans-30\"/>\r\n       <use x=\"127.246094\" xlink:href=\"#DejaVuSans-30\"/>\r\n       <use x=\"190.869141\" xlink:href=\"#DejaVuSans-30\"/>\r\n       <use x=\"254.492188\" xlink:href=\"#DejaVuSans-30\"/>\r\n       <use x=\"318.115234\" xlink:href=\"#DejaVuSans-30\"/>\r\n      </g>\r\n     </g>\r\n    </g>\r\n    <g id=\"ytick_4\">\r\n     <g id=\"line2d_13\">\r\n      <g>\r\n       <use style=\"stroke:#000000;stroke-width:0.8;\" x=\"66.053125\" xlink:href=\"#m83df4d3ad6\" y=\"142.141542\"/>\r\n      </g>\r\n     </g>\r\n     <g id=\"text_14\">\r\n      <!-- 300000 -->\r\n      <g transform=\"translate(20.878125 145.94076)scale(0.1 -0.1)\">\r\n       <defs>\r\n        <path d=\"M 2597 2516 \r\nQ 3050 2419 3304 2112 \r\nQ 3559 1806 3559 1356 \r\nQ 3559 666 3084 287 \r\nQ 2609 -91 1734 -91 \r\nQ 1441 -91 1130 -33 \r\nQ 819 25 488 141 \r\nL 488 750 \r\nQ 750 597 1062 519 \r\nQ 1375 441 1716 441 \r\nQ 2309 441 2620 675 \r\nQ 2931 909 2931 1356 \r\nQ 2931 1769 2642 2001 \r\nQ 2353 2234 1838 2234 \r\nL 1294 2234 \r\nL 1294 2753 \r\nL 1863 2753 \r\nQ 2328 2753 2575 2939 \r\nQ 2822 3125 2822 3475 \r\nQ 2822 3834 2567 4026 \r\nQ 2313 4219 1838 4219 \r\nQ 1578 4219 1281 4162 \r\nQ 984 4106 628 3988 \r\nL 628 4550 \r\nQ 988 4650 1302 4700 \r\nQ 1616 4750 1894 4750 \r\nQ 2613 4750 3031 4423 \r\nQ 3450 4097 3450 3541 \r\nQ 3450 3153 3228 2886 \r\nQ 3006 2619 2597 2516 \r\nz\r\n\" id=\"DejaVuSans-33\" transform=\"scale(0.015625)\"/>\r\n       </defs>\r\n       <use xlink:href=\"#DejaVuSans-33\"/>\r\n       <use x=\"63.623047\" xlink:href=\"#DejaVuSans-30\"/>\r\n       <use x=\"127.246094\" xlink:href=\"#DejaVuSans-30\"/>\r\n       <use x=\"190.869141\" xlink:href=\"#DejaVuSans-30\"/>\r\n       <use x=\"254.492188\" xlink:href=\"#DejaVuSans-30\"/>\r\n       <use x=\"318.115234\" xlink:href=\"#DejaVuSans-30\"/>\r\n      </g>\r\n     </g>\r\n    </g>\r\n    <g id=\"ytick_5\">\r\n     <g id=\"line2d_14\">\r\n      <g>\r\n       <use style=\"stroke:#000000;stroke-width:0.8;\" x=\"66.053125\" xlink:href=\"#m83df4d3ad6\" y=\"117.93652\"/>\r\n      </g>\r\n     </g>\r\n     <g id=\"text_15\">\r\n      <!-- 400000 -->\r\n      <g transform=\"translate(20.878125 121.735739)scale(0.1 -0.1)\">\r\n       <use xlink:href=\"#DejaVuSans-34\"/>\r\n       <use x=\"63.623047\" xlink:href=\"#DejaVuSans-30\"/>\r\n       <use x=\"127.246094\" xlink:href=\"#DejaVuSans-30\"/>\r\n       <use x=\"190.869141\" xlink:href=\"#DejaVuSans-30\"/>\r\n       <use x=\"254.492188\" xlink:href=\"#DejaVuSans-30\"/>\r\n       <use x=\"318.115234\" xlink:href=\"#DejaVuSans-30\"/>\r\n      </g>\r\n     </g>\r\n    </g>\r\n    <g id=\"ytick_6\">\r\n     <g id=\"line2d_15\">\r\n      <g>\r\n       <use style=\"stroke:#000000;stroke-width:0.8;\" x=\"66.053125\" xlink:href=\"#m83df4d3ad6\" y=\"93.731499\"/>\r\n      </g>\r\n     </g>\r\n     <g id=\"text_16\">\r\n      <!-- 500000 -->\r\n      <g transform=\"translate(20.878125 97.530718)scale(0.1 -0.1)\">\r\n       <defs>\r\n        <path d=\"M 691 4666 \r\nL 3169 4666 \r\nL 3169 4134 \r\nL 1269 4134 \r\nL 1269 2991 \r\nQ 1406 3038 1543 3061 \r\nQ 1681 3084 1819 3084 \r\nQ 2600 3084 3056 2656 \r\nQ 3513 2228 3513 1497 \r\nQ 3513 744 3044 326 \r\nQ 2575 -91 1722 -91 \r\nQ 1428 -91 1123 -41 \r\nQ 819 9 494 109 \r\nL 494 744 \r\nQ 775 591 1075 516 \r\nQ 1375 441 1709 441 \r\nQ 2250 441 2565 725 \r\nQ 2881 1009 2881 1497 \r\nQ 2881 1984 2565 2268 \r\nQ 2250 2553 1709 2553 \r\nQ 1456 2553 1204 2497 \r\nQ 953 2441 691 2322 \r\nL 691 4666 \r\nz\r\n\" id=\"DejaVuSans-35\" transform=\"scale(0.015625)\"/>\r\n       </defs>\r\n       <use xlink:href=\"#DejaVuSans-35\"/>\r\n       <use x=\"63.623047\" xlink:href=\"#DejaVuSans-30\"/>\r\n       <use x=\"127.246094\" xlink:href=\"#DejaVuSans-30\"/>\r\n       <use x=\"190.869141\" xlink:href=\"#DejaVuSans-30\"/>\r\n       <use x=\"254.492188\" xlink:href=\"#DejaVuSans-30\"/>\r\n       <use x=\"318.115234\" xlink:href=\"#DejaVuSans-30\"/>\r\n      </g>\r\n     </g>\r\n    </g>\r\n    <g id=\"ytick_7\">\r\n     <g id=\"line2d_16\">\r\n      <g>\r\n       <use style=\"stroke:#000000;stroke-width:0.8;\" x=\"66.053125\" xlink:href=\"#m83df4d3ad6\" y=\"69.526478\"/>\r\n      </g>\r\n     </g>\r\n     <g id=\"text_17\">\r\n      <!-- 600000 -->\r\n      <g transform=\"translate(20.878125 73.325696)scale(0.1 -0.1)\">\r\n       <use xlink:href=\"#DejaVuSans-36\"/>\r\n       <use x=\"63.623047\" xlink:href=\"#DejaVuSans-30\"/>\r\n       <use x=\"127.246094\" xlink:href=\"#DejaVuSans-30\"/>\r\n       <use x=\"190.869141\" xlink:href=\"#DejaVuSans-30\"/>\r\n       <use x=\"254.492188\" xlink:href=\"#DejaVuSans-30\"/>\r\n       <use x=\"318.115234\" xlink:href=\"#DejaVuSans-30\"/>\r\n      </g>\r\n     </g>\r\n    </g>\r\n    <g id=\"ytick_8\">\r\n     <g id=\"line2d_17\">\r\n      <g>\r\n       <use style=\"stroke:#000000;stroke-width:0.8;\" x=\"66.053125\" xlink:href=\"#m83df4d3ad6\" y=\"45.321456\"/>\r\n      </g>\r\n     </g>\r\n     <g id=\"text_18\">\r\n      <!-- 700000 -->\r\n      <g transform=\"translate(20.878125 49.120675)scale(0.1 -0.1)\">\r\n       <defs>\r\n        <path d=\"M 525 4666 \r\nL 3525 4666 \r\nL 3525 4397 \r\nL 1831 0 \r\nL 1172 0 \r\nL 2766 4134 \r\nL 525 4134 \r\nL 525 4666 \r\nz\r\n\" id=\"DejaVuSans-37\" transform=\"scale(0.015625)\"/>\r\n       </defs>\r\n       <use xlink:href=\"#DejaVuSans-37\"/>\r\n       <use x=\"63.623047\" xlink:href=\"#DejaVuSans-30\"/>\r\n       <use x=\"127.246094\" xlink:href=\"#DejaVuSans-30\"/>\r\n       <use x=\"190.869141\" xlink:href=\"#DejaVuSans-30\"/>\r\n       <use x=\"254.492188\" xlink:href=\"#DejaVuSans-30\"/>\r\n       <use x=\"318.115234\" xlink:href=\"#DejaVuSans-30\"/>\r\n      </g>\r\n     </g>\r\n    </g>\r\n    <g id=\"ytick_9\">\r\n     <g id=\"line2d_18\">\r\n      <g>\r\n       <use style=\"stroke:#000000;stroke-width:0.8;\" x=\"66.053125\" xlink:href=\"#m83df4d3ad6\" y=\"21.116435\"/>\r\n      </g>\r\n     </g>\r\n     <g id=\"text_19\">\r\n      <!-- 800000 -->\r\n      <g transform=\"translate(20.878125 24.915654)scale(0.1 -0.1)\">\r\n       <use xlink:href=\"#DejaVuSans-38\"/>\r\n       <use x=\"63.623047\" xlink:href=\"#DejaVuSans-30\"/>\r\n       <use x=\"127.246094\" xlink:href=\"#DejaVuSans-30\"/>\r\n       <use x=\"190.869141\" xlink:href=\"#DejaVuSans-30\"/>\r\n       <use x=\"254.492188\" xlink:href=\"#DejaVuSans-30\"/>\r\n       <use x=\"318.115234\" xlink:href=\"#DejaVuSans-30\"/>\r\n      </g>\r\n     </g>\r\n    </g>\r\n    <g id=\"text_20\">\r\n     <!-- qty -->\r\n     <g transform=\"translate(14.798438 124.01375)rotate(-90)scale(0.1 -0.1)\">\r\n      <defs>\r\n       <path d=\"M 947 1747 \r\nQ 947 1113 1208 752 \r\nQ 1469 391 1925 391 \r\nQ 2381 391 2643 752 \r\nQ 2906 1113 2906 1747 \r\nQ 2906 2381 2643 2742 \r\nQ 2381 3103 1925 3103 \r\nQ 1469 3103 1208 2742 \r\nQ 947 2381 947 1747 \r\nz\r\nM 2906 525 \r\nQ 2725 213 2448 61 \r\nQ 2172 -91 1784 -91 \r\nQ 1150 -91 751 415 \r\nQ 353 922 353 1747 \r\nQ 353 2572 751 3078 \r\nQ 1150 3584 1784 3584 \r\nQ 2172 3584 2448 3432 \r\nQ 2725 3281 2906 2969 \r\nL 2906 3500 \r\nL 3481 3500 \r\nL 3481 -1331 \r\nL 2906 -1331 \r\nL 2906 525 \r\nz\r\n\" id=\"DejaVuSans-71\" transform=\"scale(0.015625)\"/>\r\n       <path d=\"M 2059 -325 \r\nQ 1816 -950 1584 -1140 \r\nQ 1353 -1331 966 -1331 \r\nL 506 -1331 \r\nL 506 -850 \r\nL 844 -850 \r\nQ 1081 -850 1212 -737 \r\nQ 1344 -625 1503 -206 \r\nL 1606 56 \r\nL 191 3500 \r\nL 800 3500 \r\nL 1894 763 \r\nL 2988 3500 \r\nL 3597 3500 \r\nL 2059 -325 \r\nz\r\n\" id=\"DejaVuSans-79\" transform=\"scale(0.015625)\"/>\r\n      </defs>\r\n      <use xlink:href=\"#DejaVuSans-71\"/>\r\n      <use x=\"63.476562\" xlink:href=\"#DejaVuSans-74\"/>\r\n      <use x=\"102.685547\" xlink:href=\"#DejaVuSans-79\"/>\r\n     </g>\r\n    </g>\r\n   </g>\r\n   <g id=\"patch_3\">\r\n    <path d=\"M 66.053125 224.64 \r\nL 66.053125 7.2 \r\n\" style=\"fill:none;stroke:#000000;stroke-linecap:square;stroke-linejoin:miter;stroke-width:0.8;\"/>\r\n   </g>\r\n   <g id=\"patch_4\">\r\n    <path d=\"M 400.853125 224.64 \r\nL 400.853125 7.2 \r\n\" style=\"fill:none;stroke:#000000;stroke-linecap:square;stroke-linejoin:miter;stroke-width:0.8;\"/>\r\n   </g>\r\n   <g id=\"patch_5\">\r\n    <path d=\"M 66.053125 224.64 \r\nL 400.853125 224.64 \r\n\" style=\"fill:none;stroke:#000000;stroke-linecap:square;stroke-linejoin:miter;stroke-width:0.8;\"/>\r\n   </g>\r\n   <g id=\"patch_6\">\r\n    <path d=\"M 66.053125 7.2 \r\nL 400.853125 7.2 \r\n\" style=\"fill:none;stroke:#000000;stroke-linecap:square;stroke-linejoin:miter;stroke-width:0.8;\"/>\r\n   </g>\r\n  </g>\r\n </g>\r\n <defs>\r\n  <clipPath id=\"p5313c59dc4\">\r\n   <rect height=\"217.44\" width=\"334.8\" x=\"66.053125\" y=\"7.2\"/>\r\n  </clipPath>\r\n </defs>\r\n</svg>\r\n",
                        "image/png": "[encoded data removed]"
                    },
                    "metadata": {
                        "needs_background": "light"
                    }
                }
            ],
            "metadata": {}
        },
        {
            "cell_type": "code",
            "execution_count": 7,
            "source": [
                "sns.histplot(train_first['qty'])"
            ],
            "outputs": [
                {
                    "output_type": "execute_result",
                    "data": {
                        "text/plain": [
                            "<AxesSubplot:xlabel='qty', ylabel='Count'>"
                        ]
                    },
                    "metadata": {},
                    "execution_count": 7
                },
                {
                    "output_type": "display_data",
                    "data": {
                        "text/plain": [
                            "<Figure size 432x288 with 1 Axes>"
                        ],
                        "image/svg+xml": "<?xml version=\"1.0\" encoding=\"utf-8\" standalone=\"no\"?>\r\n<!DOCTYPE svg PUBLIC \"-//W3C//DTD SVG 1.1//EN\"\r\n  \"http://www.w3.org/Graphics/SVG/1.1/DTD/svg11.dtd\">\r\n<svg height=\"262.19625pt\" version=\"1.1\" viewBox=\"0 0 400.159665 262.19625\" width=\"400.159665pt\" xmlns=\"http://www.w3.org/2000/svg\" xmlns:xlink=\"http://www.w3.org/1999/xlink\">\r\n <metadata>\r\n  <rdf:RDF xmlns:cc=\"http://creativecommons.org/ns#\" xmlns:dc=\"http://purl.org/dc/elements/1.1/\" xmlns:rdf=\"http://www.w3.org/1999/02/22-rdf-syntax-ns#\">\r\n   <cc:Work>\r\n    <dc:type rdf:resource=\"http://purl.org/dc/dcmitype/StillImage\"/>\r\n    <dc:date>2021-09-01T14:58:05.582570</dc:date>\r\n    <dc:format>image/svg+xml</dc:format>\r\n    <dc:creator>\r\n     <cc:Agent>\r\n      <dc:title>Matplotlib v3.4.3, https://matplotlib.org/</dc:title>\r\n     </cc:Agent>\r\n    </dc:creator>\r\n   </cc:Work>\r\n  </rdf:RDF>\r\n </metadata>\r\n <defs>\r\n  <style type=\"text/css\">*{stroke-linecap:butt;stroke-linejoin:round;}</style>\r\n </defs>\r\n <g id=\"figure_1\">\r\n  <g id=\"patch_1\">\r\n   <path d=\"M 0 262.19625 \r\nL 400.159665 262.19625 \r\nL 400.159665 0 \r\nL 0 0 \r\nz\r\n\" style=\"fill:none;\"/>\r\n  </g>\r\n  <g id=\"axes_1\">\r\n   <g id=\"patch_2\">\r\n    <path d=\"M 46.965625 224.64 \r\nL 381.765625 224.64 \r\nL 381.765625 7.2 \r\nL 46.965625 7.2 \r\nz\r\n\" style=\"fill:#ffffff;\"/>\r\n   </g>\r\n   <g id=\"patch_3\">\r\n    <path clip-path=\"url(#pf27272d1a8)\" d=\"M 62.183807 224.64 \r\nL 67.173375 224.64 \r\nL 67.173375 17.554286 \r\nL 62.183807 17.554286 \r\nz\r\n\" style=\"fill:#1f77b4;fill-opacity:0.75;stroke:#000000;stroke-linejoin:miter;stroke-width:0.498957;\"/>\r\n   </g>\r\n   <g id=\"patch_4\">\r\n    <path clip-path=\"url(#pf27272d1a8)\" d=\"M 67.173375 224.64 \r\nL 72.162942 224.64 \r\nL 72.162942 215.315315 \r\nL 67.173375 215.315315 \r\nz\r\n\" style=\"fill:#1f77b4;fill-opacity:0.75;stroke:#000000;stroke-linejoin:miter;stroke-width:0.498957;\"/>\r\n   </g>\r\n   <g id=\"patch_5\">\r\n    <path clip-path=\"url(#pf27272d1a8)\" d=\"M 72.162942 224.64 \r\nL 77.15251 224.64 \r\nL 77.15251 208.321801 \r\nL 72.162942 208.321801 \r\nz\r\n\" style=\"fill:#1f77b4;fill-opacity:0.75;stroke:#000000;stroke-linejoin:miter;stroke-width:0.498957;\"/>\r\n   </g>\r\n   <g id=\"patch_6\">\r\n    <path clip-path=\"url(#pf27272d1a8)\" d=\"M 77.15251 224.64 \r\nL 82.142078 224.64 \r\nL 82.142078 208.321801 \r\nL 77.15251 208.321801 \r\nz\r\n\" style=\"fill:#1f77b4;fill-opacity:0.75;stroke:#000000;stroke-linejoin:miter;stroke-width:0.498957;\"/>\r\n   </g>\r\n   <g id=\"patch_7\">\r\n    <path clip-path=\"url(#pf27272d1a8)\" d=\"M 82.142078 224.64 \r\nL 87.131646 224.64 \r\nL 87.131646 204.047987 \r\nL 82.142078 204.047987 \r\nz\r\n\" style=\"fill:#1f77b4;fill-opacity:0.75;stroke:#000000;stroke-linejoin:miter;stroke-width:0.498957;\"/>\r\n   </g>\r\n   <g id=\"patch_8\">\r\n    <path clip-path=\"url(#pf27272d1a8)\" d=\"M 87.131646 224.64 \r\nL 92.121214 224.64 \r\nL 92.121214 200.55123 \r\nL 87.131646 200.55123 \r\nz\r\n\" style=\"fill:#1f77b4;fill-opacity:0.75;stroke:#000000;stroke-linejoin:miter;stroke-width:0.498957;\"/>\r\n   </g>\r\n   <g id=\"patch_9\">\r\n    <path clip-path=\"url(#pf27272d1a8)\" d=\"M 92.121214 224.64 \r\nL 97.110781 224.64 \r\nL 97.110781 214.538258 \r\nL 92.121214 214.538258 \r\nz\r\n\" style=\"fill:#1f77b4;fill-opacity:0.75;stroke:#000000;stroke-linejoin:miter;stroke-width:0.498957;\"/>\r\n   </g>\r\n   <g id=\"patch_10\">\r\n    <path clip-path=\"url(#pf27272d1a8)\" d=\"M 97.110781 224.64 \r\nL 102.100349 224.64 \r\nL 102.100349 212.984144 \r\nL 97.110781 212.984144 \r\nz\r\n\" style=\"fill:#1f77b4;fill-opacity:0.75;stroke:#000000;stroke-linejoin:miter;stroke-width:0.498957;\"/>\r\n   </g>\r\n   <g id=\"patch_11\">\r\n    <path clip-path=\"url(#pf27272d1a8)\" d=\"M 102.100349 224.64 \r\nL 107.089917 224.64 \r\nL 107.089917 221.531772 \r\nL 102.100349 221.531772 \r\nz\r\n\" style=\"fill:#1f77b4;fill-opacity:0.75;stroke:#000000;stroke-linejoin:miter;stroke-width:0.498957;\"/>\r\n   </g>\r\n   <g id=\"patch_12\">\r\n    <path clip-path=\"url(#pf27272d1a8)\" d=\"M 107.089917 224.64 \r\nL 112.079485 224.64 \r\nL 112.079485 221.531772 \r\nL 107.089917 221.531772 \r\nz\r\n\" style=\"fill:#1f77b4;fill-opacity:0.75;stroke:#000000;stroke-linejoin:miter;stroke-width:0.498957;\"/>\r\n   </g>\r\n   <g id=\"patch_13\">\r\n    <path clip-path=\"url(#pf27272d1a8)\" d=\"M 112.079485 224.64 \r\nL 117.069053 224.64 \r\nL 117.069053 220.366186 \r\nL 112.079485 220.366186 \r\nz\r\n\" style=\"fill:#1f77b4;fill-opacity:0.75;stroke:#000000;stroke-linejoin:miter;stroke-width:0.498957;\"/>\r\n   </g>\r\n   <g id=\"patch_14\">\r\n    <path clip-path=\"url(#pf27272d1a8)\" d=\"M 117.069053 224.64 \r\nL 122.058621 224.64 \r\nL 122.058621 221.531772 \r\nL 117.069053 221.531772 \r\nz\r\n\" style=\"fill:#1f77b4;fill-opacity:0.75;stroke:#000000;stroke-linejoin:miter;stroke-width:0.498957;\"/>\r\n   </g>\r\n   <g id=\"patch_15\">\r\n    <path clip-path=\"url(#pf27272d1a8)\" d=\"M 122.058621 224.64 \r\nL 127.048188 224.64 \r\nL 127.048188 223.474414 \r\nL 122.058621 223.474414 \r\nz\r\n\" style=\"fill:#1f77b4;fill-opacity:0.75;stroke:#000000;stroke-linejoin:miter;stroke-width:0.498957;\"/>\r\n   </g>\r\n   <g id=\"patch_16\">\r\n    <path clip-path=\"url(#pf27272d1a8)\" d=\"M 127.048188 224.64 \r\nL 132.037756 224.64 \r\nL 132.037756 223.085886 \r\nL 127.048188 223.085886 \r\nz\r\n\" style=\"fill:#1f77b4;fill-opacity:0.75;stroke:#000000;stroke-linejoin:miter;stroke-width:0.498957;\"/>\r\n   </g>\r\n   <g id=\"patch_17\">\r\n    <path clip-path=\"url(#pf27272d1a8)\" d=\"M 132.037756 224.64 \r\nL 137.027324 224.64 \r\nL 137.027324 224.251471 \r\nL 132.037756 224.251471 \r\nz\r\n\" style=\"fill:#1f77b4;fill-opacity:0.75;stroke:#000000;stroke-linejoin:miter;stroke-width:0.498957;\"/>\r\n   </g>\r\n   <g id=\"patch_18\">\r\n    <path clip-path=\"url(#pf27272d1a8)\" d=\"M 137.027324 224.64 \r\nL 142.016892 224.64 \r\nL 142.016892 224.251471 \r\nL 137.027324 224.251471 \r\nz\r\n\" style=\"fill:#1f77b4;fill-opacity:0.75;stroke:#000000;stroke-linejoin:miter;stroke-width:0.498957;\"/>\r\n   </g>\r\n   <g id=\"patch_19\">\r\n    <path clip-path=\"url(#pf27272d1a8)\" d=\"M 142.016892 224.64 \r\nL 147.00646 224.64 \r\nL 147.00646 223.085886 \r\nL 142.016892 223.085886 \r\nz\r\n\" style=\"fill:#1f77b4;fill-opacity:0.75;stroke:#000000;stroke-linejoin:miter;stroke-width:0.498957;\"/>\r\n   </g>\r\n   <g id=\"patch_20\">\r\n    <path clip-path=\"url(#pf27272d1a8)\" d=\"M 147.00646 224.64 \r\nL 151.996027 224.64 \r\nL 151.996027 224.251471 \r\nL 147.00646 224.251471 \r\nz\r\n\" style=\"fill:#1f77b4;fill-opacity:0.75;stroke:#000000;stroke-linejoin:miter;stroke-width:0.498957;\"/>\r\n   </g>\r\n   <g id=\"patch_21\">\r\n    <path clip-path=\"url(#pf27272d1a8)\" d=\"M 151.996027 224.64 \r\nL 156.985595 224.64 \r\nL 156.985595 223.085886 \r\nL 151.996027 223.085886 \r\nz\r\n\" style=\"fill:#1f77b4;fill-opacity:0.75;stroke:#000000;stroke-linejoin:miter;stroke-width:0.498957;\"/>\r\n   </g>\r\n   <g id=\"patch_22\">\r\n    <path clip-path=\"url(#pf27272d1a8)\" d=\"M 156.985595 224.64 \r\nL 161.975163 224.64 \r\nL 161.975163 223.862943 \r\nL 156.985595 223.862943 \r\nz\r\n\" style=\"fill:#1f77b4;fill-opacity:0.75;stroke:#000000;stroke-linejoin:miter;stroke-width:0.498957;\"/>\r\n   </g>\r\n   <g id=\"patch_23\">\r\n    <path clip-path=\"url(#pf27272d1a8)\" d=\"M 161.975163 224.64 \r\nL 166.964731 224.64 \r\nL 166.964731 223.474414 \r\nL 161.975163 223.474414 \r\nz\r\n\" style=\"fill:#1f77b4;fill-opacity:0.75;stroke:#000000;stroke-linejoin:miter;stroke-width:0.498957;\"/>\r\n   </g>\r\n   <g id=\"patch_24\">\r\n    <path clip-path=\"url(#pf27272d1a8)\" d=\"M 166.964731 224.64 \r\nL 171.954299 224.64 \r\nL 171.954299 223.862943 \r\nL 166.964731 223.862943 \r\nz\r\n\" style=\"fill:#1f77b4;fill-opacity:0.75;stroke:#000000;stroke-linejoin:miter;stroke-width:0.498957;\"/>\r\n   </g>\r\n   <g id=\"patch_25\">\r\n    <path clip-path=\"url(#pf27272d1a8)\" d=\"M 171.954299 224.64 \r\nL 176.943866 224.64 \r\nL 176.943866 224.64 \r\nL 171.954299 224.64 \r\nz\r\n\" style=\"fill:#1f77b4;fill-opacity:0.75;stroke:#000000;stroke-linejoin:miter;stroke-width:0.498957;\"/>\r\n   </g>\r\n   <g id=\"patch_26\">\r\n    <path clip-path=\"url(#pf27272d1a8)\" d=\"M 176.943866 224.64 \r\nL 181.933434 224.64 \r\nL 181.933434 223.862943 \r\nL 176.943866 223.862943 \r\nz\r\n\" style=\"fill:#1f77b4;fill-opacity:0.75;stroke:#000000;stroke-linejoin:miter;stroke-width:0.498957;\"/>\r\n   </g>\r\n   <g id=\"patch_27\">\r\n    <path clip-path=\"url(#pf27272d1a8)\" d=\"M 181.933434 224.64 \r\nL 186.923002 224.64 \r\nL 186.923002 223.862943 \r\nL 181.933434 223.862943 \r\nz\r\n\" style=\"fill:#1f77b4;fill-opacity:0.75;stroke:#000000;stroke-linejoin:miter;stroke-width:0.498957;\"/>\r\n   </g>\r\n   <g id=\"patch_28\">\r\n    <path clip-path=\"url(#pf27272d1a8)\" d=\"M 186.923002 224.64 \r\nL 191.91257 224.64 \r\nL 191.91257 224.251471 \r\nL 186.923002 224.251471 \r\nz\r\n\" style=\"fill:#1f77b4;fill-opacity:0.75;stroke:#000000;stroke-linejoin:miter;stroke-width:0.498957;\"/>\r\n   </g>\r\n   <g id=\"patch_29\">\r\n    <path clip-path=\"url(#pf27272d1a8)\" d=\"M 191.91257 224.64 \r\nL 196.902138 224.64 \r\nL 196.902138 223.862943 \r\nL 191.91257 223.862943 \r\nz\r\n\" style=\"fill:#1f77b4;fill-opacity:0.75;stroke:#000000;stroke-linejoin:miter;stroke-width:0.498957;\"/>\r\n   </g>\r\n   <g id=\"patch_30\">\r\n    <path clip-path=\"url(#pf27272d1a8)\" d=\"M 196.902138 224.64 \r\nL 201.891705 224.64 \r\nL 201.891705 224.251471 \r\nL 196.902138 224.251471 \r\nz\r\n\" style=\"fill:#1f77b4;fill-opacity:0.75;stroke:#000000;stroke-linejoin:miter;stroke-width:0.498957;\"/>\r\n   </g>\r\n   <g id=\"patch_31\">\r\n    <path clip-path=\"url(#pf27272d1a8)\" d=\"M 201.891705 224.64 \r\nL 206.881273 224.64 \r\nL 206.881273 224.64 \r\nL 201.891705 224.64 \r\nz\r\n\" style=\"fill:#1f77b4;fill-opacity:0.75;stroke:#000000;stroke-linejoin:miter;stroke-width:0.498957;\"/>\r\n   </g>\r\n   <g id=\"patch_32\">\r\n    <path clip-path=\"url(#pf27272d1a8)\" d=\"M 206.881273 224.64 \r\nL 211.870841 224.64 \r\nL 211.870841 223.085886 \r\nL 206.881273 223.085886 \r\nz\r\n\" style=\"fill:#1f77b4;fill-opacity:0.75;stroke:#000000;stroke-linejoin:miter;stroke-width:0.498957;\"/>\r\n   </g>\r\n   <g id=\"patch_33\">\r\n    <path clip-path=\"url(#pf27272d1a8)\" d=\"M 211.870841 224.64 \r\nL 216.860409 224.64 \r\nL 216.860409 224.251471 \r\nL 211.870841 224.251471 \r\nz\r\n\" style=\"fill:#1f77b4;fill-opacity:0.75;stroke:#000000;stroke-linejoin:miter;stroke-width:0.498957;\"/>\r\n   </g>\r\n   <g id=\"patch_34\">\r\n    <path clip-path=\"url(#pf27272d1a8)\" d=\"M 216.860409 224.64 \r\nL 221.849977 224.64 \r\nL 221.849977 224.64 \r\nL 216.860409 224.64 \r\nz\r\n\" style=\"fill:#1f77b4;fill-opacity:0.75;stroke:#000000;stroke-linejoin:miter;stroke-width:0.498957;\"/>\r\n   </g>\r\n   <g id=\"patch_35\">\r\n    <path clip-path=\"url(#pf27272d1a8)\" d=\"M 221.849977 224.64 \r\nL 226.839545 224.64 \r\nL 226.839545 224.64 \r\nL 221.849977 224.64 \r\nz\r\n\" style=\"fill:#1f77b4;fill-opacity:0.75;stroke:#000000;stroke-linejoin:miter;stroke-width:0.498957;\"/>\r\n   </g>\r\n   <g id=\"patch_36\">\r\n    <path clip-path=\"url(#pf27272d1a8)\" d=\"M 226.839545 224.64 \r\nL 231.829112 224.64 \r\nL 231.829112 224.64 \r\nL 226.839545 224.64 \r\nz\r\n\" style=\"fill:#1f77b4;fill-opacity:0.75;stroke:#000000;stroke-linejoin:miter;stroke-width:0.498957;\"/>\r\n   </g>\r\n   <g id=\"patch_37\">\r\n    <path clip-path=\"url(#pf27272d1a8)\" d=\"M 231.829112 224.64 \r\nL 236.81868 224.64 \r\nL 236.81868 224.64 \r\nL 231.829112 224.64 \r\nz\r\n\" style=\"fill:#1f77b4;fill-opacity:0.75;stroke:#000000;stroke-linejoin:miter;stroke-width:0.498957;\"/>\r\n   </g>\r\n   <g id=\"patch_38\">\r\n    <path clip-path=\"url(#pf27272d1a8)\" d=\"M 236.81868 224.64 \r\nL 241.808248 224.64 \r\nL 241.808248 224.64 \r\nL 236.81868 224.64 \r\nz\r\n\" style=\"fill:#1f77b4;fill-opacity:0.75;stroke:#000000;stroke-linejoin:miter;stroke-width:0.498957;\"/>\r\n   </g>\r\n   <g id=\"patch_39\">\r\n    <path clip-path=\"url(#pf27272d1a8)\" d=\"M 241.808248 224.64 \r\nL 246.797816 224.64 \r\nL 246.797816 224.251471 \r\nL 241.808248 224.251471 \r\nz\r\n\" style=\"fill:#1f77b4;fill-opacity:0.75;stroke:#000000;stroke-linejoin:miter;stroke-width:0.498957;\"/>\r\n   </g>\r\n   <g id=\"patch_40\">\r\n    <path clip-path=\"url(#pf27272d1a8)\" d=\"M 246.797816 224.64 \r\nL 251.787384 224.64 \r\nL 251.787384 224.251471 \r\nL 246.797816 224.251471 \r\nz\r\n\" style=\"fill:#1f77b4;fill-opacity:0.75;stroke:#000000;stroke-linejoin:miter;stroke-width:0.498957;\"/>\r\n   </g>\r\n   <g id=\"patch_41\">\r\n    <path clip-path=\"url(#pf27272d1a8)\" d=\"M 251.787384 224.64 \r\nL 256.776951 224.64 \r\nL 256.776951 224.251471 \r\nL 251.787384 224.251471 \r\nz\r\n\" style=\"fill:#1f77b4;fill-opacity:0.75;stroke:#000000;stroke-linejoin:miter;stroke-width:0.498957;\"/>\r\n   </g>\r\n   <g id=\"patch_42\">\r\n    <path clip-path=\"url(#pf27272d1a8)\" d=\"M 256.776951 224.64 \r\nL 261.766519 224.64 \r\nL 261.766519 224.64 \r\nL 256.776951 224.64 \r\nz\r\n\" style=\"fill:#1f77b4;fill-opacity:0.75;stroke:#000000;stroke-linejoin:miter;stroke-width:0.498957;\"/>\r\n   </g>\r\n   <g id=\"patch_43\">\r\n    <path clip-path=\"url(#pf27272d1a8)\" d=\"M 261.766519 224.64 \r\nL 266.756087 224.64 \r\nL 266.756087 224.64 \r\nL 261.766519 224.64 \r\nz\r\n\" style=\"fill:#1f77b4;fill-opacity:0.75;stroke:#000000;stroke-linejoin:miter;stroke-width:0.498957;\"/>\r\n   </g>\r\n   <g id=\"patch_44\">\r\n    <path clip-path=\"url(#pf27272d1a8)\" d=\"M 266.756087 224.64 \r\nL 271.745655 224.64 \r\nL 271.745655 224.64 \r\nL 266.756087 224.64 \r\nz\r\n\" style=\"fill:#1f77b4;fill-opacity:0.75;stroke:#000000;stroke-linejoin:miter;stroke-width:0.498957;\"/>\r\n   </g>\r\n   <g id=\"patch_45\">\r\n    <path clip-path=\"url(#pf27272d1a8)\" d=\"M 271.745655 224.64 \r\nL 276.735223 224.64 \r\nL 276.735223 224.251471 \r\nL 271.745655 224.251471 \r\nz\r\n\" style=\"fill:#1f77b4;fill-opacity:0.75;stroke:#000000;stroke-linejoin:miter;stroke-width:0.498957;\"/>\r\n   </g>\r\n   <g id=\"patch_46\">\r\n    <path clip-path=\"url(#pf27272d1a8)\" d=\"M 276.735223 224.64 \r\nL 281.72479 224.64 \r\nL 281.72479 224.64 \r\nL 276.735223 224.64 \r\nz\r\n\" style=\"fill:#1f77b4;fill-opacity:0.75;stroke:#000000;stroke-linejoin:miter;stroke-width:0.498957;\"/>\r\n   </g>\r\n   <g id=\"patch_47\">\r\n    <path clip-path=\"url(#pf27272d1a8)\" d=\"M 281.72479 224.64 \r\nL 286.714358 224.64 \r\nL 286.714358 224.251471 \r\nL 281.72479 224.251471 \r\nz\r\n\" style=\"fill:#1f77b4;fill-opacity:0.75;stroke:#000000;stroke-linejoin:miter;stroke-width:0.498957;\"/>\r\n   </g>\r\n   <g id=\"patch_48\">\r\n    <path clip-path=\"url(#pf27272d1a8)\" d=\"M 286.714358 224.64 \r\nL 291.703926 224.64 \r\nL 291.703926 224.64 \r\nL 286.714358 224.64 \r\nz\r\n\" style=\"fill:#1f77b4;fill-opacity:0.75;stroke:#000000;stroke-linejoin:miter;stroke-width:0.498957;\"/>\r\n   </g>\r\n   <g id=\"patch_49\">\r\n    <path clip-path=\"url(#pf27272d1a8)\" d=\"M 291.703926 224.64 \r\nL 296.693494 224.64 \r\nL 296.693494 224.64 \r\nL 291.703926 224.64 \r\nz\r\n\" style=\"fill:#1f77b4;fill-opacity:0.75;stroke:#000000;stroke-linejoin:miter;stroke-width:0.498957;\"/>\r\n   </g>\r\n   <g id=\"patch_50\">\r\n    <path clip-path=\"url(#pf27272d1a8)\" d=\"M 296.693494 224.64 \r\nL 301.683062 224.64 \r\nL 301.683062 224.64 \r\nL 296.693494 224.64 \r\nz\r\n\" style=\"fill:#1f77b4;fill-opacity:0.75;stroke:#000000;stroke-linejoin:miter;stroke-width:0.498957;\"/>\r\n   </g>\r\n   <g id=\"patch_51\">\r\n    <path clip-path=\"url(#pf27272d1a8)\" d=\"M 301.683062 224.64 \r\nL 306.672629 224.64 \r\nL 306.672629 224.64 \r\nL 301.683062 224.64 \r\nz\r\n\" style=\"fill:#1f77b4;fill-opacity:0.75;stroke:#000000;stroke-linejoin:miter;stroke-width:0.498957;\"/>\r\n   </g>\r\n   <g id=\"patch_52\">\r\n    <path clip-path=\"url(#pf27272d1a8)\" d=\"M 306.672629 224.64 \r\nL 311.662197 224.64 \r\nL 311.662197 224.64 \r\nL 306.672629 224.64 \r\nz\r\n\" style=\"fill:#1f77b4;fill-opacity:0.75;stroke:#000000;stroke-linejoin:miter;stroke-width:0.498957;\"/>\r\n   </g>\r\n   <g id=\"patch_53\">\r\n    <path clip-path=\"url(#pf27272d1a8)\" d=\"M 311.662197 224.64 \r\nL 316.651765 224.64 \r\nL 316.651765 224.251471 \r\nL 311.662197 224.251471 \r\nz\r\n\" style=\"fill:#1f77b4;fill-opacity:0.75;stroke:#000000;stroke-linejoin:miter;stroke-width:0.498957;\"/>\r\n   </g>\r\n   <g id=\"patch_54\">\r\n    <path clip-path=\"url(#pf27272d1a8)\" d=\"M 316.651765 224.64 \r\nL 321.641333 224.64 \r\nL 321.641333 224.64 \r\nL 316.651765 224.64 \r\nz\r\n\" style=\"fill:#1f77b4;fill-opacity:0.75;stroke:#000000;stroke-linejoin:miter;stroke-width:0.498957;\"/>\r\n   </g>\r\n   <g id=\"patch_55\">\r\n    <path clip-path=\"url(#pf27272d1a8)\" d=\"M 321.641333 224.64 \r\nL 326.630901 224.64 \r\nL 326.630901 224.64 \r\nL 321.641333 224.64 \r\nz\r\n\" style=\"fill:#1f77b4;fill-opacity:0.75;stroke:#000000;stroke-linejoin:miter;stroke-width:0.498957;\"/>\r\n   </g>\r\n   <g id=\"patch_56\">\r\n    <path clip-path=\"url(#pf27272d1a8)\" d=\"M 326.630901 224.64 \r\nL 331.620469 224.64 \r\nL 331.620469 224.64 \r\nL 326.630901 224.64 \r\nz\r\n\" style=\"fill:#1f77b4;fill-opacity:0.75;stroke:#000000;stroke-linejoin:miter;stroke-width:0.498957;\"/>\r\n   </g>\r\n   <g id=\"patch_57\">\r\n    <path clip-path=\"url(#pf27272d1a8)\" d=\"M 331.620469 224.64 \r\nL 336.610036 224.64 \r\nL 336.610036 224.64 \r\nL 331.620469 224.64 \r\nz\r\n\" style=\"fill:#1f77b4;fill-opacity:0.75;stroke:#000000;stroke-linejoin:miter;stroke-width:0.498957;\"/>\r\n   </g>\r\n   <g id=\"patch_58\">\r\n    <path clip-path=\"url(#pf27272d1a8)\" d=\"M 336.610036 224.64 \r\nL 341.599604 224.64 \r\nL 341.599604 224.64 \r\nL 336.610036 224.64 \r\nz\r\n\" style=\"fill:#1f77b4;fill-opacity:0.75;stroke:#000000;stroke-linejoin:miter;stroke-width:0.498957;\"/>\r\n   </g>\r\n   <g id=\"patch_59\">\r\n    <path clip-path=\"url(#pf27272d1a8)\" d=\"M 341.599604 224.64 \r\nL 346.589172 224.64 \r\nL 346.589172 224.251471 \r\nL 341.599604 224.251471 \r\nz\r\n\" style=\"fill:#1f77b4;fill-opacity:0.75;stroke:#000000;stroke-linejoin:miter;stroke-width:0.498957;\"/>\r\n   </g>\r\n   <g id=\"patch_60\">\r\n    <path clip-path=\"url(#pf27272d1a8)\" d=\"M 346.589172 224.64 \r\nL 351.57874 224.64 \r\nL 351.57874 224.64 \r\nL 346.589172 224.64 \r\nz\r\n\" style=\"fill:#1f77b4;fill-opacity:0.75;stroke:#000000;stroke-linejoin:miter;stroke-width:0.498957;\"/>\r\n   </g>\r\n   <g id=\"patch_61\">\r\n    <path clip-path=\"url(#pf27272d1a8)\" d=\"M 351.57874 224.64 \r\nL 356.568308 224.64 \r\nL 356.568308 224.64 \r\nL 351.57874 224.64 \r\nz\r\n\" style=\"fill:#1f77b4;fill-opacity:0.75;stroke:#000000;stroke-linejoin:miter;stroke-width:0.498957;\"/>\r\n   </g>\r\n   <g id=\"patch_62\">\r\n    <path clip-path=\"url(#pf27272d1a8)\" d=\"M 356.568308 224.64 \r\nL 361.557875 224.64 \r\nL 361.557875 224.64 \r\nL 356.568308 224.64 \r\nz\r\n\" style=\"fill:#1f77b4;fill-opacity:0.75;stroke:#000000;stroke-linejoin:miter;stroke-width:0.498957;\"/>\r\n   </g>\r\n   <g id=\"patch_63\">\r\n    <path clip-path=\"url(#pf27272d1a8)\" d=\"M 361.557875 224.64 \r\nL 366.547443 224.64 \r\nL 366.547443 224.251471 \r\nL 361.557875 224.251471 \r\nz\r\n\" style=\"fill:#1f77b4;fill-opacity:0.75;stroke:#000000;stroke-linejoin:miter;stroke-width:0.498957;\"/>\r\n   </g>\r\n   <g id=\"matplotlib.axis_1\">\r\n    <g id=\"xtick_1\">\r\n     <g id=\"line2d_1\">\r\n      <defs>\r\n       <path d=\"M 0 0 \r\nL 0 3.5 \r\n\" id=\"m06dde305a2\" style=\"stroke:#000000;stroke-width:0.8;\"/>\r\n      </defs>\r\n      <g>\r\n       <use style=\"stroke:#000000;stroke-width:0.8;\" x=\"62.181859\" xlink:href=\"#m06dde305a2\" y=\"224.64\"/>\r\n      </g>\r\n     </g>\r\n     <g id=\"text_1\">\r\n      <!-- 0 -->\r\n      <g transform=\"translate(59.000609 239.238437)scale(0.1 -0.1)\">\r\n       <defs>\r\n        <path d=\"M 2034 4250 \r\nQ 1547 4250 1301 3770 \r\nQ 1056 3291 1056 2328 \r\nQ 1056 1369 1301 889 \r\nQ 1547 409 2034 409 \r\nQ 2525 409 2770 889 \r\nQ 3016 1369 3016 2328 \r\nQ 3016 3291 2770 3770 \r\nQ 2525 4250 2034 4250 \r\nz\r\nM 2034 4750 \r\nQ 2819 4750 3233 4129 \r\nQ 3647 3509 3647 2328 \r\nQ 3647 1150 3233 529 \r\nQ 2819 -91 2034 -91 \r\nQ 1250 -91 836 529 \r\nQ 422 1150 422 2328 \r\nQ 422 3509 836 4129 \r\nQ 1250 4750 2034 4750 \r\nz\r\n\" id=\"DejaVuSans-30\" transform=\"scale(0.015625)\"/>\r\n       </defs>\r\n       <use xlink:href=\"#DejaVuSans-30\"/>\r\n      </g>\r\n     </g>\r\n    </g>\r\n    <g id=\"xtick_2\">\r\n     <g id=\"line2d_2\">\r\n      <g>\r\n       <use style=\"stroke:#000000;stroke-width:0.8;\" x=\"101.143147\" xlink:href=\"#m06dde305a2\" y=\"224.64\"/>\r\n      </g>\r\n     </g>\r\n     <g id=\"text_2\">\r\n      <!-- 20000 -->\r\n      <g transform=\"translate(85.236897 239.238437)scale(0.1 -0.1)\">\r\n       <defs>\r\n        <path d=\"M 1228 531 \r\nL 3431 531 \r\nL 3431 0 \r\nL 469 0 \r\nL 469 531 \r\nQ 828 903 1448 1529 \r\nQ 2069 2156 2228 2338 \r\nQ 2531 2678 2651 2914 \r\nQ 2772 3150 2772 3378 \r\nQ 2772 3750 2511 3984 \r\nQ 2250 4219 1831 4219 \r\nQ 1534 4219 1204 4116 \r\nQ 875 4013 500 3803 \r\nL 500 4441 \r\nQ 881 4594 1212 4672 \r\nQ 1544 4750 1819 4750 \r\nQ 2544 4750 2975 4387 \r\nQ 3406 4025 3406 3419 \r\nQ 3406 3131 3298 2873 \r\nQ 3191 2616 2906 2266 \r\nQ 2828 2175 2409 1742 \r\nQ 1991 1309 1228 531 \r\nz\r\n\" id=\"DejaVuSans-32\" transform=\"scale(0.015625)\"/>\r\n       </defs>\r\n       <use xlink:href=\"#DejaVuSans-32\"/>\r\n       <use x=\"63.623047\" xlink:href=\"#DejaVuSans-30\"/>\r\n       <use x=\"127.246094\" xlink:href=\"#DejaVuSans-30\"/>\r\n       <use x=\"190.869141\" xlink:href=\"#DejaVuSans-30\"/>\r\n       <use x=\"254.492188\" xlink:href=\"#DejaVuSans-30\"/>\r\n      </g>\r\n     </g>\r\n    </g>\r\n    <g id=\"xtick_3\">\r\n     <g id=\"line2d_3\">\r\n      <g>\r\n       <use style=\"stroke:#000000;stroke-width:0.8;\" x=\"140.104435\" xlink:href=\"#m06dde305a2\" y=\"224.64\"/>\r\n      </g>\r\n     </g>\r\n     <g id=\"text_3\">\r\n      <!-- 40000 -->\r\n      <g transform=\"translate(124.198185 239.238437)scale(0.1 -0.1)\">\r\n       <defs>\r\n        <path d=\"M 2419 4116 \r\nL 825 1625 \r\nL 2419 1625 \r\nL 2419 4116 \r\nz\r\nM 2253 4666 \r\nL 3047 4666 \r\nL 3047 1625 \r\nL 3713 1625 \r\nL 3713 1100 \r\nL 3047 1100 \r\nL 3047 0 \r\nL 2419 0 \r\nL 2419 1100 \r\nL 313 1100 \r\nL 313 1709 \r\nL 2253 4666 \r\nz\r\n\" id=\"DejaVuSans-34\" transform=\"scale(0.015625)\"/>\r\n       </defs>\r\n       <use xlink:href=\"#DejaVuSans-34\"/>\r\n       <use x=\"63.623047\" xlink:href=\"#DejaVuSans-30\"/>\r\n       <use x=\"127.246094\" xlink:href=\"#DejaVuSans-30\"/>\r\n       <use x=\"190.869141\" xlink:href=\"#DejaVuSans-30\"/>\r\n       <use x=\"254.492188\" xlink:href=\"#DejaVuSans-30\"/>\r\n      </g>\r\n     </g>\r\n    </g>\r\n    <g id=\"xtick_4\">\r\n     <g id=\"line2d_4\">\r\n      <g>\r\n       <use style=\"stroke:#000000;stroke-width:0.8;\" x=\"179.065724\" xlink:href=\"#m06dde305a2\" y=\"224.64\"/>\r\n      </g>\r\n     </g>\r\n     <g id=\"text_4\">\r\n      <!-- 60000 -->\r\n      <g transform=\"translate(163.159474 239.238437)scale(0.1 -0.1)\">\r\n       <defs>\r\n        <path d=\"M 2113 2584 \r\nQ 1688 2584 1439 2293 \r\nQ 1191 2003 1191 1497 \r\nQ 1191 994 1439 701 \r\nQ 1688 409 2113 409 \r\nQ 2538 409 2786 701 \r\nQ 3034 994 3034 1497 \r\nQ 3034 2003 2786 2293 \r\nQ 2538 2584 2113 2584 \r\nz\r\nM 3366 4563 \r\nL 3366 3988 \r\nQ 3128 4100 2886 4159 \r\nQ 2644 4219 2406 4219 \r\nQ 1781 4219 1451 3797 \r\nQ 1122 3375 1075 2522 \r\nQ 1259 2794 1537 2939 \r\nQ 1816 3084 2150 3084 \r\nQ 2853 3084 3261 2657 \r\nQ 3669 2231 3669 1497 \r\nQ 3669 778 3244 343 \r\nQ 2819 -91 2113 -91 \r\nQ 1303 -91 875 529 \r\nQ 447 1150 447 2328 \r\nQ 447 3434 972 4092 \r\nQ 1497 4750 2381 4750 \r\nQ 2619 4750 2861 4703 \r\nQ 3103 4656 3366 4563 \r\nz\r\n\" id=\"DejaVuSans-36\" transform=\"scale(0.015625)\"/>\r\n       </defs>\r\n       <use xlink:href=\"#DejaVuSans-36\"/>\r\n       <use x=\"63.623047\" xlink:href=\"#DejaVuSans-30\"/>\r\n       <use x=\"127.246094\" xlink:href=\"#DejaVuSans-30\"/>\r\n       <use x=\"190.869141\" xlink:href=\"#DejaVuSans-30\"/>\r\n       <use x=\"254.492188\" xlink:href=\"#DejaVuSans-30\"/>\r\n      </g>\r\n     </g>\r\n    </g>\r\n    <g id=\"xtick_5\">\r\n     <g id=\"line2d_5\">\r\n      <g>\r\n       <use style=\"stroke:#000000;stroke-width:0.8;\" x=\"218.027012\" xlink:href=\"#m06dde305a2\" y=\"224.64\"/>\r\n      </g>\r\n     </g>\r\n     <g id=\"text_5\">\r\n      <!-- 80000 -->\r\n      <g transform=\"translate(202.120762 239.238437)scale(0.1 -0.1)\">\r\n       <defs>\r\n        <path d=\"M 2034 2216 \r\nQ 1584 2216 1326 1975 \r\nQ 1069 1734 1069 1313 \r\nQ 1069 891 1326 650 \r\nQ 1584 409 2034 409 \r\nQ 2484 409 2743 651 \r\nQ 3003 894 3003 1313 \r\nQ 3003 1734 2745 1975 \r\nQ 2488 2216 2034 2216 \r\nz\r\nM 1403 2484 \r\nQ 997 2584 770 2862 \r\nQ 544 3141 544 3541 \r\nQ 544 4100 942 4425 \r\nQ 1341 4750 2034 4750 \r\nQ 2731 4750 3128 4425 \r\nQ 3525 4100 3525 3541 \r\nQ 3525 3141 3298 2862 \r\nQ 3072 2584 2669 2484 \r\nQ 3125 2378 3379 2068 \r\nQ 3634 1759 3634 1313 \r\nQ 3634 634 3220 271 \r\nQ 2806 -91 2034 -91 \r\nQ 1263 -91 848 271 \r\nQ 434 634 434 1313 \r\nQ 434 1759 690 2068 \r\nQ 947 2378 1403 2484 \r\nz\r\nM 1172 3481 \r\nQ 1172 3119 1398 2916 \r\nQ 1625 2713 2034 2713 \r\nQ 2441 2713 2670 2916 \r\nQ 2900 3119 2900 3481 \r\nQ 2900 3844 2670 4047 \r\nQ 2441 4250 2034 4250 \r\nQ 1625 4250 1398 4047 \r\nQ 1172 3844 1172 3481 \r\nz\r\n\" id=\"DejaVuSans-38\" transform=\"scale(0.015625)\"/>\r\n       </defs>\r\n       <use xlink:href=\"#DejaVuSans-38\"/>\r\n       <use x=\"63.623047\" xlink:href=\"#DejaVuSans-30\"/>\r\n       <use x=\"127.246094\" xlink:href=\"#DejaVuSans-30\"/>\r\n       <use x=\"190.869141\" xlink:href=\"#DejaVuSans-30\"/>\r\n       <use x=\"254.492188\" xlink:href=\"#DejaVuSans-30\"/>\r\n      </g>\r\n     </g>\r\n    </g>\r\n    <g id=\"xtick_6\">\r\n     <g id=\"line2d_6\">\r\n      <g>\r\n       <use style=\"stroke:#000000;stroke-width:0.8;\" x=\"256.9883\" xlink:href=\"#m06dde305a2\" y=\"224.64\"/>\r\n      </g>\r\n     </g>\r\n     <g id=\"text_6\">\r\n      <!-- 100000 -->\r\n      <g transform=\"translate(237.9008 239.238437)scale(0.1 -0.1)\">\r\n       <defs>\r\n        <path d=\"M 794 531 \r\nL 1825 531 \r\nL 1825 4091 \r\nL 703 3866 \r\nL 703 4441 \r\nL 1819 4666 \r\nL 2450 4666 \r\nL 2450 531 \r\nL 3481 531 \r\nL 3481 0 \r\nL 794 0 \r\nL 794 531 \r\nz\r\n\" id=\"DejaVuSans-31\" transform=\"scale(0.015625)\"/>\r\n       </defs>\r\n       <use xlink:href=\"#DejaVuSans-31\"/>\r\n       <use x=\"63.623047\" xlink:href=\"#DejaVuSans-30\"/>\r\n       <use x=\"127.246094\" xlink:href=\"#DejaVuSans-30\"/>\r\n       <use x=\"190.869141\" xlink:href=\"#DejaVuSans-30\"/>\r\n       <use x=\"254.492188\" xlink:href=\"#DejaVuSans-30\"/>\r\n       <use x=\"318.115234\" xlink:href=\"#DejaVuSans-30\"/>\r\n      </g>\r\n     </g>\r\n    </g>\r\n    <g id=\"xtick_7\">\r\n     <g id=\"line2d_7\">\r\n      <g>\r\n       <use style=\"stroke:#000000;stroke-width:0.8;\" x=\"295.949589\" xlink:href=\"#m06dde305a2\" y=\"224.64\"/>\r\n      </g>\r\n     </g>\r\n     <g id=\"text_7\">\r\n      <!-- 120000 -->\r\n      <g transform=\"translate(276.862089 239.238437)scale(0.1 -0.1)\">\r\n       <use xlink:href=\"#DejaVuSans-31\"/>\r\n       <use x=\"63.623047\" xlink:href=\"#DejaVuSans-32\"/>\r\n       <use x=\"127.246094\" xlink:href=\"#DejaVuSans-30\"/>\r\n       <use x=\"190.869141\" xlink:href=\"#DejaVuSans-30\"/>\r\n       <use x=\"254.492188\" xlink:href=\"#DejaVuSans-30\"/>\r\n       <use x=\"318.115234\" xlink:href=\"#DejaVuSans-30\"/>\r\n      </g>\r\n     </g>\r\n    </g>\r\n    <g id=\"xtick_8\">\r\n     <g id=\"line2d_8\">\r\n      <g>\r\n       <use style=\"stroke:#000000;stroke-width:0.8;\" x=\"334.910877\" xlink:href=\"#m06dde305a2\" y=\"224.64\"/>\r\n      </g>\r\n     </g>\r\n     <g id=\"text_8\">\r\n      <!-- 140000 -->\r\n      <g transform=\"translate(315.823377 239.238437)scale(0.1 -0.1)\">\r\n       <use xlink:href=\"#DejaVuSans-31\"/>\r\n       <use x=\"63.623047\" xlink:href=\"#DejaVuSans-34\"/>\r\n       <use x=\"127.246094\" xlink:href=\"#DejaVuSans-30\"/>\r\n       <use x=\"190.869141\" xlink:href=\"#DejaVuSans-30\"/>\r\n       <use x=\"254.492188\" xlink:href=\"#DejaVuSans-30\"/>\r\n       <use x=\"318.115234\" xlink:href=\"#DejaVuSans-30\"/>\r\n      </g>\r\n     </g>\r\n    </g>\r\n    <g id=\"xtick_9\">\r\n     <g id=\"line2d_9\">\r\n      <g>\r\n       <use style=\"stroke:#000000;stroke-width:0.8;\" x=\"373.872165\" xlink:href=\"#m06dde305a2\" y=\"224.64\"/>\r\n      </g>\r\n     </g>\r\n     <g id=\"text_9\">\r\n      <!-- 160000 -->\r\n      <g transform=\"translate(354.784665 239.238437)scale(0.1 -0.1)\">\r\n       <use xlink:href=\"#DejaVuSans-31\"/>\r\n       <use x=\"63.623047\" xlink:href=\"#DejaVuSans-36\"/>\r\n       <use x=\"127.246094\" xlink:href=\"#DejaVuSans-30\"/>\r\n       <use x=\"190.869141\" xlink:href=\"#DejaVuSans-30\"/>\r\n       <use x=\"254.492188\" xlink:href=\"#DejaVuSans-30\"/>\r\n       <use x=\"318.115234\" xlink:href=\"#DejaVuSans-30\"/>\r\n      </g>\r\n     </g>\r\n    </g>\r\n    <g id=\"text_10\">\r\n     <!-- qty -->\r\n     <g transform=\"translate(206.271875 252.916562)scale(0.1 -0.1)\">\r\n      <defs>\r\n       <path d=\"M 947 1747 \r\nQ 947 1113 1208 752 \r\nQ 1469 391 1925 391 \r\nQ 2381 391 2643 752 \r\nQ 2906 1113 2906 1747 \r\nQ 2906 2381 2643 2742 \r\nQ 2381 3103 1925 3103 \r\nQ 1469 3103 1208 2742 \r\nQ 947 2381 947 1747 \r\nz\r\nM 2906 525 \r\nQ 2725 213 2448 61 \r\nQ 2172 -91 1784 -91 \r\nQ 1150 -91 751 415 \r\nQ 353 922 353 1747 \r\nQ 353 2572 751 3078 \r\nQ 1150 3584 1784 3584 \r\nQ 2172 3584 2448 3432 \r\nQ 2725 3281 2906 2969 \r\nL 2906 3500 \r\nL 3481 3500 \r\nL 3481 -1331 \r\nL 2906 -1331 \r\nL 2906 525 \r\nz\r\n\" id=\"DejaVuSans-71\" transform=\"scale(0.015625)\"/>\r\n       <path d=\"M 1172 4494 \r\nL 1172 3500 \r\nL 2356 3500 \r\nL 2356 3053 \r\nL 1172 3053 \r\nL 1172 1153 \r\nQ 1172 725 1289 603 \r\nQ 1406 481 1766 481 \r\nL 2356 481 \r\nL 2356 0 \r\nL 1766 0 \r\nQ 1100 0 847 248 \r\nQ 594 497 594 1153 \r\nL 594 3053 \r\nL 172 3053 \r\nL 172 3500 \r\nL 594 3500 \r\nL 594 4494 \r\nL 1172 4494 \r\nz\r\n\" id=\"DejaVuSans-74\" transform=\"scale(0.015625)\"/>\r\n       <path d=\"M 2059 -325 \r\nQ 1816 -950 1584 -1140 \r\nQ 1353 -1331 966 -1331 \r\nL 506 -1331 \r\nL 506 -850 \r\nL 844 -850 \r\nQ 1081 -850 1212 -737 \r\nQ 1344 -625 1503 -206 \r\nL 1606 56 \r\nL 191 3500 \r\nL 800 3500 \r\nL 1894 763 \r\nL 2988 3500 \r\nL 3597 3500 \r\nL 2059 -325 \r\nz\r\n\" id=\"DejaVuSans-79\" transform=\"scale(0.015625)\"/>\r\n      </defs>\r\n      <use xlink:href=\"#DejaVuSans-71\"/>\r\n      <use x=\"63.476562\" xlink:href=\"#DejaVuSans-74\"/>\r\n      <use x=\"102.685547\" xlink:href=\"#DejaVuSans-79\"/>\r\n     </g>\r\n    </g>\r\n   </g>\r\n   <g id=\"matplotlib.axis_2\">\r\n    <g id=\"ytick_1\">\r\n     <g id=\"line2d_10\">\r\n      <defs>\r\n       <path d=\"M 0 0 \r\nL -3.5 0 \r\n\" id=\"m465dcb2138\" style=\"stroke:#000000;stroke-width:0.8;\"/>\r\n      </defs>\r\n      <g>\r\n       <use style=\"stroke:#000000;stroke-width:0.8;\" x=\"46.965625\" xlink:href=\"#m465dcb2138\" y=\"224.64\"/>\r\n      </g>\r\n     </g>\r\n     <g id=\"text_11\">\r\n      <!-- 0 -->\r\n      <g transform=\"translate(33.603125 228.439219)scale(0.1 -0.1)\">\r\n       <use xlink:href=\"#DejaVuSans-30\"/>\r\n      </g>\r\n     </g>\r\n    </g>\r\n    <g id=\"ytick_2\">\r\n     <g id=\"line2d_11\">\r\n      <g>\r\n       <use style=\"stroke:#000000;stroke-width:0.8;\" x=\"46.965625\" xlink:href=\"#m465dcb2138\" y=\"185.787146\"/>\r\n      </g>\r\n     </g>\r\n     <g id=\"text_12\">\r\n      <!-- 100 -->\r\n      <g transform=\"translate(20.878125 189.586364)scale(0.1 -0.1)\">\r\n       <use xlink:href=\"#DejaVuSans-31\"/>\r\n       <use x=\"63.623047\" xlink:href=\"#DejaVuSans-30\"/>\r\n       <use x=\"127.246094\" xlink:href=\"#DejaVuSans-30\"/>\r\n      </g>\r\n     </g>\r\n    </g>\r\n    <g id=\"ytick_3\">\r\n     <g id=\"line2d_12\">\r\n      <g>\r\n       <use style=\"stroke:#000000;stroke-width:0.8;\" x=\"46.965625\" xlink:href=\"#m465dcb2138\" y=\"146.934291\"/>\r\n      </g>\r\n     </g>\r\n     <g id=\"text_13\">\r\n      <!-- 200 -->\r\n      <g transform=\"translate(20.878125 150.73351)scale(0.1 -0.1)\">\r\n       <use xlink:href=\"#DejaVuSans-32\"/>\r\n       <use x=\"63.623047\" xlink:href=\"#DejaVuSans-30\"/>\r\n       <use x=\"127.246094\" xlink:href=\"#DejaVuSans-30\"/>\r\n      </g>\r\n     </g>\r\n    </g>\r\n    <g id=\"ytick_4\">\r\n     <g id=\"line2d_13\">\r\n      <g>\r\n       <use style=\"stroke:#000000;stroke-width:0.8;\" x=\"46.965625\" xlink:href=\"#m465dcb2138\" y=\"108.081437\"/>\r\n      </g>\r\n     </g>\r\n     <g id=\"text_14\">\r\n      <!-- 300 -->\r\n      <g transform=\"translate(20.878125 111.880655)scale(0.1 -0.1)\">\r\n       <defs>\r\n        <path d=\"M 2597 2516 \r\nQ 3050 2419 3304 2112 \r\nQ 3559 1806 3559 1356 \r\nQ 3559 666 3084 287 \r\nQ 2609 -91 1734 -91 \r\nQ 1441 -91 1130 -33 \r\nQ 819 25 488 141 \r\nL 488 750 \r\nQ 750 597 1062 519 \r\nQ 1375 441 1716 441 \r\nQ 2309 441 2620 675 \r\nQ 2931 909 2931 1356 \r\nQ 2931 1769 2642 2001 \r\nQ 2353 2234 1838 2234 \r\nL 1294 2234 \r\nL 1294 2753 \r\nL 1863 2753 \r\nQ 2328 2753 2575 2939 \r\nQ 2822 3125 2822 3475 \r\nQ 2822 3834 2567 4026 \r\nQ 2313 4219 1838 4219 \r\nQ 1578 4219 1281 4162 \r\nQ 984 4106 628 3988 \r\nL 628 4550 \r\nQ 988 4650 1302 4700 \r\nQ 1616 4750 1894 4750 \r\nQ 2613 4750 3031 4423 \r\nQ 3450 4097 3450 3541 \r\nQ 3450 3153 3228 2886 \r\nQ 3006 2619 2597 2516 \r\nz\r\n\" id=\"DejaVuSans-33\" transform=\"scale(0.015625)\"/>\r\n       </defs>\r\n       <use xlink:href=\"#DejaVuSans-33\"/>\r\n       <use x=\"63.623047\" xlink:href=\"#DejaVuSans-30\"/>\r\n       <use x=\"127.246094\" xlink:href=\"#DejaVuSans-30\"/>\r\n      </g>\r\n     </g>\r\n    </g>\r\n    <g id=\"ytick_5\">\r\n     <g id=\"line2d_14\">\r\n      <g>\r\n       <use style=\"stroke:#000000;stroke-width:0.8;\" x=\"46.965625\" xlink:href=\"#m465dcb2138\" y=\"69.228582\"/>\r\n      </g>\r\n     </g>\r\n     <g id=\"text_15\">\r\n      <!-- 400 -->\r\n      <g transform=\"translate(20.878125 73.027801)scale(0.1 -0.1)\">\r\n       <use xlink:href=\"#DejaVuSans-34\"/>\r\n       <use x=\"63.623047\" xlink:href=\"#DejaVuSans-30\"/>\r\n       <use x=\"127.246094\" xlink:href=\"#DejaVuSans-30\"/>\r\n      </g>\r\n     </g>\r\n    </g>\r\n    <g id=\"ytick_6\">\r\n     <g id=\"line2d_15\">\r\n      <g>\r\n       <use style=\"stroke:#000000;stroke-width:0.8;\" x=\"46.965625\" xlink:href=\"#m465dcb2138\" y=\"30.375728\"/>\r\n      </g>\r\n     </g>\r\n     <g id=\"text_16\">\r\n      <!-- 500 -->\r\n      <g transform=\"translate(20.878125 34.174946)scale(0.1 -0.1)\">\r\n       <defs>\r\n        <path d=\"M 691 4666 \r\nL 3169 4666 \r\nL 3169 4134 \r\nL 1269 4134 \r\nL 1269 2991 \r\nQ 1406 3038 1543 3061 \r\nQ 1681 3084 1819 3084 \r\nQ 2600 3084 3056 2656 \r\nQ 3513 2228 3513 1497 \r\nQ 3513 744 3044 326 \r\nQ 2575 -91 1722 -91 \r\nQ 1428 -91 1123 -41 \r\nQ 819 9 494 109 \r\nL 494 744 \r\nQ 775 591 1075 516 \r\nQ 1375 441 1709 441 \r\nQ 2250 441 2565 725 \r\nQ 2881 1009 2881 1497 \r\nQ 2881 1984 2565 2268 \r\nQ 2250 2553 1709 2553 \r\nQ 1456 2553 1204 2497 \r\nQ 953 2441 691 2322 \r\nL 691 4666 \r\nz\r\n\" id=\"DejaVuSans-35\" transform=\"scale(0.015625)\"/>\r\n       </defs>\r\n       <use xlink:href=\"#DejaVuSans-35\"/>\r\n       <use x=\"63.623047\" xlink:href=\"#DejaVuSans-30\"/>\r\n       <use x=\"127.246094\" xlink:href=\"#DejaVuSans-30\"/>\r\n      </g>\r\n     </g>\r\n    </g>\r\n    <g id=\"text_17\">\r\n     <!-- Count -->\r\n     <g transform=\"translate(14.798438 130.768437)rotate(-90)scale(0.1 -0.1)\">\r\n      <defs>\r\n       <path d=\"M 4122 4306 \r\nL 4122 3641 \r\nQ 3803 3938 3442 4084 \r\nQ 3081 4231 2675 4231 \r\nQ 1875 4231 1450 3742 \r\nQ 1025 3253 1025 2328 \r\nQ 1025 1406 1450 917 \r\nQ 1875 428 2675 428 \r\nQ 3081 428 3442 575 \r\nQ 3803 722 4122 1019 \r\nL 4122 359 \r\nQ 3791 134 3420 21 \r\nQ 3050 -91 2638 -91 \r\nQ 1578 -91 968 557 \r\nQ 359 1206 359 2328 \r\nQ 359 3453 968 4101 \r\nQ 1578 4750 2638 4750 \r\nQ 3056 4750 3426 4639 \r\nQ 3797 4528 4122 4306 \r\nz\r\n\" id=\"DejaVuSans-43\" transform=\"scale(0.015625)\"/>\r\n       <path d=\"M 1959 3097 \r\nQ 1497 3097 1228 2736 \r\nQ 959 2375 959 1747 \r\nQ 959 1119 1226 758 \r\nQ 1494 397 1959 397 \r\nQ 2419 397 2687 759 \r\nQ 2956 1122 2956 1747 \r\nQ 2956 2369 2687 2733 \r\nQ 2419 3097 1959 3097 \r\nz\r\nM 1959 3584 \r\nQ 2709 3584 3137 3096 \r\nQ 3566 2609 3566 1747 \r\nQ 3566 888 3137 398 \r\nQ 2709 -91 1959 -91 \r\nQ 1206 -91 779 398 \r\nQ 353 888 353 1747 \r\nQ 353 2609 779 3096 \r\nQ 1206 3584 1959 3584 \r\nz\r\n\" id=\"DejaVuSans-6f\" transform=\"scale(0.015625)\"/>\r\n       <path d=\"M 544 1381 \r\nL 544 3500 \r\nL 1119 3500 \r\nL 1119 1403 \r\nQ 1119 906 1312 657 \r\nQ 1506 409 1894 409 \r\nQ 2359 409 2629 706 \r\nQ 2900 1003 2900 1516 \r\nL 2900 3500 \r\nL 3475 3500 \r\nL 3475 0 \r\nL 2900 0 \r\nL 2900 538 \r\nQ 2691 219 2414 64 \r\nQ 2138 -91 1772 -91 \r\nQ 1169 -91 856 284 \r\nQ 544 659 544 1381 \r\nz\r\nM 1991 3584 \r\nL 1991 3584 \r\nz\r\n\" id=\"DejaVuSans-75\" transform=\"scale(0.015625)\"/>\r\n       <path d=\"M 3513 2113 \r\nL 3513 0 \r\nL 2938 0 \r\nL 2938 2094 \r\nQ 2938 2591 2744 2837 \r\nQ 2550 3084 2163 3084 \r\nQ 1697 3084 1428 2787 \r\nQ 1159 2491 1159 1978 \r\nL 1159 0 \r\nL 581 0 \r\nL 581 3500 \r\nL 1159 3500 \r\nL 1159 2956 \r\nQ 1366 3272 1645 3428 \r\nQ 1925 3584 2291 3584 \r\nQ 2894 3584 3203 3211 \r\nQ 3513 2838 3513 2113 \r\nz\r\n\" id=\"DejaVuSans-6e\" transform=\"scale(0.015625)\"/>\r\n      </defs>\r\n      <use xlink:href=\"#DejaVuSans-43\"/>\r\n      <use x=\"69.824219\" xlink:href=\"#DejaVuSans-6f\"/>\r\n      <use x=\"131.005859\" xlink:href=\"#DejaVuSans-75\"/>\r\n      <use x=\"194.384766\" xlink:href=\"#DejaVuSans-6e\"/>\r\n      <use x=\"257.763672\" xlink:href=\"#DejaVuSans-74\"/>\r\n     </g>\r\n    </g>\r\n   </g>\r\n   <g id=\"patch_64\">\r\n    <path d=\"M 46.965625 224.64 \r\nL 46.965625 7.2 \r\n\" style=\"fill:none;stroke:#000000;stroke-linecap:square;stroke-linejoin:miter;stroke-width:0.8;\"/>\r\n   </g>\r\n   <g id=\"patch_65\">\r\n    <path d=\"M 381.765625 224.64 \r\nL 381.765625 7.2 \r\n\" style=\"fill:none;stroke:#000000;stroke-linecap:square;stroke-linejoin:miter;stroke-width:0.8;\"/>\r\n   </g>\r\n   <g id=\"patch_66\">\r\n    <path d=\"M 46.965625 224.64 \r\nL 381.765625 224.64 \r\n\" style=\"fill:none;stroke:#000000;stroke-linecap:square;stroke-linejoin:miter;stroke-width:0.8;\"/>\r\n   </g>\r\n   <g id=\"patch_67\">\r\n    <path d=\"M 46.965625 7.2 \r\nL 381.765625 7.2 \r\n\" style=\"fill:none;stroke:#000000;stroke-linecap:square;stroke-linejoin:miter;stroke-width:0.8;\"/>\r\n   </g>\r\n  </g>\r\n </g>\r\n <defs>\r\n  <clipPath id=\"pf27272d1a8\">\r\n   <rect height=\"217.44\" width=\"334.8\" x=\"46.965625\" y=\"7.2\"/>\r\n  </clipPath>\r\n </defs>\r\n</svg>\r\n",
                        "image/png": "[encoded data removed]"
                    },
                    "metadata": {
                        "needs_background": "light"
                    }
                }
            ],
            "metadata": {}
        },
        {
            "cell_type": "code",
            "execution_count": 8,
            "source": [
                "sns.histplot(train_full['qty'])"
            ],
            "outputs": [
                {
                    "output_type": "execute_result",
                    "data": {
                        "text/plain": [
                            "<AxesSubplot:xlabel='qty', ylabel='Count'>"
                        ]
                    },
                    "metadata": {},
                    "execution_count": 8
                },
                {
                    "output_type": "display_data",
                    "data": {
                        "text/plain": [
                            "<Figure size 432x288 with 1 Axes>"
                        ],
                        "image/svg+xml": "<?xml version=\"1.0\" encoding=\"utf-8\" standalone=\"no\"?>\r\n<!DOCTYPE svg PUBLIC \"-//W3C//DTD SVG 1.1//EN\"\r\n  \"http://www.w3.org/Graphics/SVG/1.1/DTD/svg11.dtd\">\r\n<svg height=\"262.19625pt\" version=\"1.1\" viewBox=\"0 0 388.965625 262.19625\" width=\"388.965625pt\" xmlns=\"http://www.w3.org/2000/svg\" xmlns:xlink=\"http://www.w3.org/1999/xlink\">\r\n <metadata>\r\n  <rdf:RDF xmlns:cc=\"http://creativecommons.org/ns#\" xmlns:dc=\"http://purl.org/dc/elements/1.1/\" xmlns:rdf=\"http://www.w3.org/1999/02/22-rdf-syntax-ns#\">\r\n   <cc:Work>\r\n    <dc:type rdf:resource=\"http://purl.org/dc/dcmitype/StillImage\"/>\r\n    <dc:date>2021-09-01T14:58:06.714999</dc:date>\r\n    <dc:format>image/svg+xml</dc:format>\r\n    <dc:creator>\r\n     <cc:Agent>\r\n      <dc:title>Matplotlib v3.4.3, https://matplotlib.org/</dc:title>\r\n     </cc:Agent>\r\n    </dc:creator>\r\n   </cc:Work>\r\n  </rdf:RDF>\r\n </metadata>\r\n <defs>\r\n  <style type=\"text/css\">*{stroke-linecap:butt;stroke-linejoin:round;}</style>\r\n </defs>\r\n <g id=\"figure_1\">\r\n  <g id=\"patch_1\">\r\n   <path d=\"M 0 262.19625 \r\nL 388.965625 262.19625 \r\nL 388.965625 0 \r\nL 0 0 \r\nz\r\n\" style=\"fill:none;\"/>\r\n  </g>\r\n  <g id=\"axes_1\">\r\n   <g id=\"patch_2\">\r\n    <path d=\"M 46.965625 224.64 \r\nL 381.765625 224.64 \r\nL 381.765625 7.2 \r\nL 46.965625 7.2 \r\nz\r\n\" style=\"fill:#ffffff;\"/>\r\n   </g>\r\n   <g id=\"patch_3\">\r\n    <path clip-path=\"url(#p5fef8e7eb8)\" d=\"M 62.183807 224.64 \r\nL 71.69517 224.64 \r\nL 71.69517 17.554286 \r\nL 62.183807 17.554286 \r\nz\r\n\" style=\"fill:#1f77b4;fill-opacity:0.75;stroke:#000000;stroke-linejoin:miter;stroke-width:0.951136;\"/>\r\n   </g>\r\n   <g id=\"patch_4\">\r\n    <path clip-path=\"url(#p5fef8e7eb8)\" d=\"M 71.69517 224.64 \r\nL 81.206534 224.64 \r\nL 81.206534 154.042597 \r\nL 71.69517 154.042597 \r\nz\r\n\" style=\"fill:#1f77b4;fill-opacity:0.75;stroke:#000000;stroke-linejoin:miter;stroke-width:0.951136;\"/>\r\n   </g>\r\n   <g id=\"patch_5\">\r\n    <path clip-path=\"url(#p5fef8e7eb8)\" d=\"M 81.206534 224.64 \r\nL 90.717898 224.64 \r\nL 90.717898 183.458182 \r\nL 81.206534 183.458182 \r\nz\r\n\" style=\"fill:#1f77b4;fill-opacity:0.75;stroke:#000000;stroke-linejoin:miter;stroke-width:0.951136;\"/>\r\n   </g>\r\n   <g id=\"patch_6\">\r\n    <path clip-path=\"url(#p5fef8e7eb8)\" d=\"M 90.717898 224.64 \r\nL 100.229261 224.64 \r\nL 100.229261 178.751688 \r\nL 90.717898 178.751688 \r\nz\r\n\" style=\"fill:#1f77b4;fill-opacity:0.75;stroke:#000000;stroke-linejoin:miter;stroke-width:0.951136;\"/>\r\n   </g>\r\n   <g id=\"patch_7\">\r\n    <path clip-path=\"url(#p5fef8e7eb8)\" d=\"M 100.229261 224.64 \r\nL 109.740625 224.64 \r\nL 109.740625 198.754286 \r\nL 100.229261 198.754286 \r\nz\r\n\" style=\"fill:#1f77b4;fill-opacity:0.75;stroke:#000000;stroke-linejoin:miter;stroke-width:0.951136;\"/>\r\n   </g>\r\n   <g id=\"patch_8\">\r\n    <path clip-path=\"url(#p5fef8e7eb8)\" d=\"M 109.740625 224.64 \r\nL 119.251989 224.64 \r\nL 119.251989 205.225714 \r\nL 109.740625 205.225714 \r\nz\r\n\" style=\"fill:#1f77b4;fill-opacity:0.75;stroke:#000000;stroke-linejoin:miter;stroke-width:0.951136;\"/>\r\n   </g>\r\n   <g id=\"patch_9\">\r\n    <path clip-path=\"url(#p5fef8e7eb8)\" d=\"M 119.251989 224.64 \r\nL 128.763352 224.64 \r\nL 128.763352 208.755584 \r\nL 119.251989 208.755584 \r\nz\r\n\" style=\"fill:#1f77b4;fill-opacity:0.75;stroke:#000000;stroke-linejoin:miter;stroke-width:0.951136;\"/>\r\n   </g>\r\n   <g id=\"patch_10\">\r\n    <path clip-path=\"url(#p5fef8e7eb8)\" d=\"M 128.763352 224.64 \r\nL 138.274716 224.64 \r\nL 138.274716 208.755584 \r\nL 128.763352 208.755584 \r\nz\r\n\" style=\"fill:#1f77b4;fill-opacity:0.75;stroke:#000000;stroke-linejoin:miter;stroke-width:0.951136;\"/>\r\n   </g>\r\n   <g id=\"patch_11\">\r\n    <path clip-path=\"url(#p5fef8e7eb8)\" d=\"M 138.274716 224.64 \r\nL 147.78608 224.64 \r\nL 147.78608 207.578961 \r\nL 138.274716 207.578961 \r\nz\r\n\" style=\"fill:#1f77b4;fill-opacity:0.75;stroke:#000000;stroke-linejoin:miter;stroke-width:0.951136;\"/>\r\n   </g>\r\n   <g id=\"patch_12\">\r\n    <path clip-path=\"url(#p5fef8e7eb8)\" d=\"M 147.78608 224.64 \r\nL 157.297443 224.64 \r\nL 157.297443 213.462078 \r\nL 147.78608 213.462078 \r\nz\r\n\" style=\"fill:#1f77b4;fill-opacity:0.75;stroke:#000000;stroke-linejoin:miter;stroke-width:0.951136;\"/>\r\n   </g>\r\n   <g id=\"patch_13\">\r\n    <path clip-path=\"url(#p5fef8e7eb8)\" d=\"M 157.297443 224.64 \r\nL 166.808807 224.64 \r\nL 166.808807 214.05039 \r\nL 157.297443 214.05039 \r\nz\r\n\" style=\"fill:#1f77b4;fill-opacity:0.75;stroke:#000000;stroke-linejoin:miter;stroke-width:0.951136;\"/>\r\n   </g>\r\n   <g id=\"patch_14\">\r\n    <path clip-path=\"url(#p5fef8e7eb8)\" d=\"M 166.808807 224.64 \r\nL 176.32017 224.64 \r\nL 176.32017 216.991948 \r\nL 166.808807 216.991948 \r\nz\r\n\" style=\"fill:#1f77b4;fill-opacity:0.75;stroke:#000000;stroke-linejoin:miter;stroke-width:0.951136;\"/>\r\n   </g>\r\n   <g id=\"patch_15\">\r\n    <path clip-path=\"url(#p5fef8e7eb8)\" d=\"M 176.32017 224.64 \r\nL 185.831534 224.64 \r\nL 185.831534 216.403636 \r\nL 176.32017 216.403636 \r\nz\r\n\" style=\"fill:#1f77b4;fill-opacity:0.75;stroke:#000000;stroke-linejoin:miter;stroke-width:0.951136;\"/>\r\n   </g>\r\n   <g id=\"patch_16\">\r\n    <path clip-path=\"url(#p5fef8e7eb8)\" d=\"M 185.831534 224.64 \r\nL 195.342898 224.64 \r\nL 195.342898 218.168571 \r\nL 185.831534 218.168571 \r\nz\r\n\" style=\"fill:#1f77b4;fill-opacity:0.75;stroke:#000000;stroke-linejoin:miter;stroke-width:0.951136;\"/>\r\n   </g>\r\n   <g id=\"patch_17\">\r\n    <path clip-path=\"url(#p5fef8e7eb8)\" d=\"M 195.342898 224.64 \r\nL 204.854261 224.64 \r\nL 204.854261 223.463377 \r\nL 195.342898 223.463377 \r\nz\r\n\" style=\"fill:#1f77b4;fill-opacity:0.75;stroke:#000000;stroke-linejoin:miter;stroke-width:0.951136;\"/>\r\n   </g>\r\n   <g id=\"patch_18\">\r\n    <path clip-path=\"url(#p5fef8e7eb8)\" d=\"M 204.854261 224.64 \r\nL 214.365625 224.64 \r\nL 214.365625 222.286753 \r\nL 204.854261 222.286753 \r\nz\r\n\" style=\"fill:#1f77b4;fill-opacity:0.75;stroke:#000000;stroke-linejoin:miter;stroke-width:0.951136;\"/>\r\n   </g>\r\n   <g id=\"patch_19\">\r\n    <path clip-path=\"url(#p5fef8e7eb8)\" d=\"M 214.365625 224.64 \r\nL 223.876989 224.64 \r\nL 223.876989 222.286753 \r\nL 214.365625 222.286753 \r\nz\r\n\" style=\"fill:#1f77b4;fill-opacity:0.75;stroke:#000000;stroke-linejoin:miter;stroke-width:0.951136;\"/>\r\n   </g>\r\n   <g id=\"patch_20\">\r\n    <path clip-path=\"url(#p5fef8e7eb8)\" d=\"M 223.876989 224.64 \r\nL 233.388352 224.64 \r\nL 233.388352 221.11013 \r\nL 223.876989 221.11013 \r\nz\r\n\" style=\"fill:#1f77b4;fill-opacity:0.75;stroke:#000000;stroke-linejoin:miter;stroke-width:0.951136;\"/>\r\n   </g>\r\n   <g id=\"patch_21\">\r\n    <path clip-path=\"url(#p5fef8e7eb8)\" d=\"M 233.388352 224.64 \r\nL 242.899716 224.64 \r\nL 242.899716 222.875065 \r\nL 233.388352 222.875065 \r\nz\r\n\" style=\"fill:#1f77b4;fill-opacity:0.75;stroke:#000000;stroke-linejoin:miter;stroke-width:0.951136;\"/>\r\n   </g>\r\n   <g id=\"patch_22\">\r\n    <path clip-path=\"url(#p5fef8e7eb8)\" d=\"M 242.899716 224.64 \r\nL 252.41108 224.64 \r\nL 252.41108 222.875065 \r\nL 242.899716 222.875065 \r\nz\r\n\" style=\"fill:#1f77b4;fill-opacity:0.75;stroke:#000000;stroke-linejoin:miter;stroke-width:0.951136;\"/>\r\n   </g>\r\n   <g id=\"patch_23\">\r\n    <path clip-path=\"url(#p5fef8e7eb8)\" d=\"M 252.41108 224.64 \r\nL 261.922443 224.64 \r\nL 261.922443 222.286753 \r\nL 252.41108 222.286753 \r\nz\r\n\" style=\"fill:#1f77b4;fill-opacity:0.75;stroke:#000000;stroke-linejoin:miter;stroke-width:0.951136;\"/>\r\n   </g>\r\n   <g id=\"patch_24\">\r\n    <path clip-path=\"url(#p5fef8e7eb8)\" d=\"M 261.922443 224.64 \r\nL 271.433807 224.64 \r\nL 271.433807 223.463377 \r\nL 261.922443 223.463377 \r\nz\r\n\" style=\"fill:#1f77b4;fill-opacity:0.75;stroke:#000000;stroke-linejoin:miter;stroke-width:0.951136;\"/>\r\n   </g>\r\n   <g id=\"patch_25\">\r\n    <path clip-path=\"url(#p5fef8e7eb8)\" d=\"M 271.433807 224.64 \r\nL 280.94517 224.64 \r\nL 280.94517 223.463377 \r\nL 271.433807 223.463377 \r\nz\r\n\" style=\"fill:#1f77b4;fill-opacity:0.75;stroke:#000000;stroke-linejoin:miter;stroke-width:0.951136;\"/>\r\n   </g>\r\n   <g id=\"patch_26\">\r\n    <path clip-path=\"url(#p5fef8e7eb8)\" d=\"M 280.94517 224.64 \r\nL 290.456534 224.64 \r\nL 290.456534 224.64 \r\nL 280.94517 224.64 \r\nz\r\n\" style=\"fill:#1f77b4;fill-opacity:0.75;stroke:#000000;stroke-linejoin:miter;stroke-width:0.951136;\"/>\r\n   </g>\r\n   <g id=\"patch_27\">\r\n    <path clip-path=\"url(#p5fef8e7eb8)\" d=\"M 290.456534 224.64 \r\nL 299.967898 224.64 \r\nL 299.967898 224.051688 \r\nL 290.456534 224.051688 \r\nz\r\n\" style=\"fill:#1f77b4;fill-opacity:0.75;stroke:#000000;stroke-linejoin:miter;stroke-width:0.951136;\"/>\r\n   </g>\r\n   <g id=\"patch_28\">\r\n    <path clip-path=\"url(#p5fef8e7eb8)\" d=\"M 299.967898 224.64 \r\nL 309.479261 224.64 \r\nL 309.479261 223.463377 \r\nL 299.967898 223.463377 \r\nz\r\n\" style=\"fill:#1f77b4;fill-opacity:0.75;stroke:#000000;stroke-linejoin:miter;stroke-width:0.951136;\"/>\r\n   </g>\r\n   <g id=\"patch_29\">\r\n    <path clip-path=\"url(#p5fef8e7eb8)\" d=\"M 309.479261 224.64 \r\nL 318.990625 224.64 \r\nL 318.990625 224.64 \r\nL 309.479261 224.64 \r\nz\r\n\" style=\"fill:#1f77b4;fill-opacity:0.75;stroke:#000000;stroke-linejoin:miter;stroke-width:0.951136;\"/>\r\n   </g>\r\n   <g id=\"patch_30\">\r\n    <path clip-path=\"url(#p5fef8e7eb8)\" d=\"M 318.990625 224.64 \r\nL 328.501989 224.64 \r\nL 328.501989 224.051688 \r\nL 318.990625 224.051688 \r\nz\r\n\" style=\"fill:#1f77b4;fill-opacity:0.75;stroke:#000000;stroke-linejoin:miter;stroke-width:0.951136;\"/>\r\n   </g>\r\n   <g id=\"patch_31\">\r\n    <path clip-path=\"url(#p5fef8e7eb8)\" d=\"M 328.501989 224.64 \r\nL 338.013352 224.64 \r\nL 338.013352 224.051688 \r\nL 328.501989 224.051688 \r\nz\r\n\" style=\"fill:#1f77b4;fill-opacity:0.75;stroke:#000000;stroke-linejoin:miter;stroke-width:0.951136;\"/>\r\n   </g>\r\n   <g id=\"patch_32\">\r\n    <path clip-path=\"url(#p5fef8e7eb8)\" d=\"M 338.013352 224.64 \r\nL 347.524716 224.64 \r\nL 347.524716 224.051688 \r\nL 338.013352 224.051688 \r\nz\r\n\" style=\"fill:#1f77b4;fill-opacity:0.75;stroke:#000000;stroke-linejoin:miter;stroke-width:0.951136;\"/>\r\n   </g>\r\n   <g id=\"patch_33\">\r\n    <path clip-path=\"url(#p5fef8e7eb8)\" d=\"M 347.524716 224.64 \r\nL 357.03608 224.64 \r\nL 357.03608 224.64 \r\nL 347.524716 224.64 \r\nz\r\n\" style=\"fill:#1f77b4;fill-opacity:0.75;stroke:#000000;stroke-linejoin:miter;stroke-width:0.951136;\"/>\r\n   </g>\r\n   <g id=\"patch_34\">\r\n    <path clip-path=\"url(#p5fef8e7eb8)\" d=\"M 357.03608 224.64 \r\nL 366.547443 224.64 \r\nL 366.547443 223.463377 \r\nL 357.03608 223.463377 \r\nz\r\n\" style=\"fill:#1f77b4;fill-opacity:0.75;stroke:#000000;stroke-linejoin:miter;stroke-width:0.951136;\"/>\r\n   </g>\r\n   <g id=\"matplotlib.axis_1\">\r\n    <g id=\"xtick_1\">\r\n     <g id=\"line2d_1\">\r\n      <defs>\r\n       <path d=\"M 0 0 \r\nL 0 3.5 \r\n\" id=\"m4aae149ed1\" style=\"stroke:#000000;stroke-width:0.8;\"/>\r\n      </defs>\r\n      <g>\r\n       <use style=\"stroke:#000000;stroke-width:0.8;\" x=\"62.183434\" xlink:href=\"#m4aae149ed1\" y=\"224.64\"/>\r\n      </g>\r\n     </g>\r\n     <g id=\"text_1\">\r\n      <!-- 0 -->\r\n      <g transform=\"translate(59.002184 239.238437)scale(0.1 -0.1)\">\r\n       <defs>\r\n        <path d=\"M 2034 4250 \r\nQ 1547 4250 1301 3770 \r\nQ 1056 3291 1056 2328 \r\nQ 1056 1369 1301 889 \r\nQ 1547 409 2034 409 \r\nQ 2525 409 2770 889 \r\nQ 3016 1369 3016 2328 \r\nQ 3016 3291 2770 3770 \r\nQ 2525 4250 2034 4250 \r\nz\r\nM 2034 4750 \r\nQ 2819 4750 3233 4129 \r\nQ 3647 3509 3647 2328 \r\nQ 3647 1150 3233 529 \r\nQ 2819 -91 2034 -91 \r\nQ 1250 -91 836 529 \r\nQ 422 1150 422 2328 \r\nQ 422 3509 836 4129 \r\nQ 1250 4750 2034 4750 \r\nz\r\n\" id=\"DejaVuSans-30\" transform=\"scale(0.015625)\"/>\r\n       </defs>\r\n       <use xlink:href=\"#DejaVuSans-30\"/>\r\n      </g>\r\n     </g>\r\n    </g>\r\n    <g id=\"xtick_2\">\r\n     <g id=\"line2d_2\">\r\n      <g>\r\n       <use style=\"stroke:#000000;stroke-width:0.8;\" x=\"99.452755\" xlink:href=\"#m4aae149ed1\" y=\"224.64\"/>\r\n      </g>\r\n     </g>\r\n     <g id=\"text_2\">\r\n      <!-- 100000 -->\r\n      <g transform=\"translate(80.365255 239.238437)scale(0.1 -0.1)\">\r\n       <defs>\r\n        <path d=\"M 794 531 \r\nL 1825 531 \r\nL 1825 4091 \r\nL 703 3866 \r\nL 703 4441 \r\nL 1819 4666 \r\nL 2450 4666 \r\nL 2450 531 \r\nL 3481 531 \r\nL 3481 0 \r\nL 794 0 \r\nL 794 531 \r\nz\r\n\" id=\"DejaVuSans-31\" transform=\"scale(0.015625)\"/>\r\n       </defs>\r\n       <use xlink:href=\"#DejaVuSans-31\"/>\r\n       <use x=\"63.623047\" xlink:href=\"#DejaVuSans-30\"/>\r\n       <use x=\"127.246094\" xlink:href=\"#DejaVuSans-30\"/>\r\n       <use x=\"190.869141\" xlink:href=\"#DejaVuSans-30\"/>\r\n       <use x=\"254.492188\" xlink:href=\"#DejaVuSans-30\"/>\r\n       <use x=\"318.115234\" xlink:href=\"#DejaVuSans-30\"/>\r\n      </g>\r\n     </g>\r\n    </g>\r\n    <g id=\"xtick_3\">\r\n     <g id=\"line2d_3\">\r\n      <g>\r\n       <use style=\"stroke:#000000;stroke-width:0.8;\" x=\"136.722076\" xlink:href=\"#m4aae149ed1\" y=\"224.64\"/>\r\n      </g>\r\n     </g>\r\n     <g id=\"text_3\">\r\n      <!-- 200000 -->\r\n      <g transform=\"translate(117.634576 239.238437)scale(0.1 -0.1)\">\r\n       <defs>\r\n        <path d=\"M 1228 531 \r\nL 3431 531 \r\nL 3431 0 \r\nL 469 0 \r\nL 469 531 \r\nQ 828 903 1448 1529 \r\nQ 2069 2156 2228 2338 \r\nQ 2531 2678 2651 2914 \r\nQ 2772 3150 2772 3378 \r\nQ 2772 3750 2511 3984 \r\nQ 2250 4219 1831 4219 \r\nQ 1534 4219 1204 4116 \r\nQ 875 4013 500 3803 \r\nL 500 4441 \r\nQ 881 4594 1212 4672 \r\nQ 1544 4750 1819 4750 \r\nQ 2544 4750 2975 4387 \r\nQ 3406 4025 3406 3419 \r\nQ 3406 3131 3298 2873 \r\nQ 3191 2616 2906 2266 \r\nQ 2828 2175 2409 1742 \r\nQ 1991 1309 1228 531 \r\nz\r\n\" id=\"DejaVuSans-32\" transform=\"scale(0.015625)\"/>\r\n       </defs>\r\n       <use xlink:href=\"#DejaVuSans-32\"/>\r\n       <use x=\"63.623047\" xlink:href=\"#DejaVuSans-30\"/>\r\n       <use x=\"127.246094\" xlink:href=\"#DejaVuSans-30\"/>\r\n       <use x=\"190.869141\" xlink:href=\"#DejaVuSans-30\"/>\r\n       <use x=\"254.492188\" xlink:href=\"#DejaVuSans-30\"/>\r\n       <use x=\"318.115234\" xlink:href=\"#DejaVuSans-30\"/>\r\n      </g>\r\n     </g>\r\n    </g>\r\n    <g id=\"xtick_4\">\r\n     <g id=\"line2d_4\">\r\n      <g>\r\n       <use style=\"stroke:#000000;stroke-width:0.8;\" x=\"173.991397\" xlink:href=\"#m4aae149ed1\" y=\"224.64\"/>\r\n      </g>\r\n     </g>\r\n     <g id=\"text_4\">\r\n      <!-- 300000 -->\r\n      <g transform=\"translate(154.903897 239.238437)scale(0.1 -0.1)\">\r\n       <defs>\r\n        <path d=\"M 2597 2516 \r\nQ 3050 2419 3304 2112 \r\nQ 3559 1806 3559 1356 \r\nQ 3559 666 3084 287 \r\nQ 2609 -91 1734 -91 \r\nQ 1441 -91 1130 -33 \r\nQ 819 25 488 141 \r\nL 488 750 \r\nQ 750 597 1062 519 \r\nQ 1375 441 1716 441 \r\nQ 2309 441 2620 675 \r\nQ 2931 909 2931 1356 \r\nQ 2931 1769 2642 2001 \r\nQ 2353 2234 1838 2234 \r\nL 1294 2234 \r\nL 1294 2753 \r\nL 1863 2753 \r\nQ 2328 2753 2575 2939 \r\nQ 2822 3125 2822 3475 \r\nQ 2822 3834 2567 4026 \r\nQ 2313 4219 1838 4219 \r\nQ 1578 4219 1281 4162 \r\nQ 984 4106 628 3988 \r\nL 628 4550 \r\nQ 988 4650 1302 4700 \r\nQ 1616 4750 1894 4750 \r\nQ 2613 4750 3031 4423 \r\nQ 3450 4097 3450 3541 \r\nQ 3450 3153 3228 2886 \r\nQ 3006 2619 2597 2516 \r\nz\r\n\" id=\"DejaVuSans-33\" transform=\"scale(0.015625)\"/>\r\n       </defs>\r\n       <use xlink:href=\"#DejaVuSans-33\"/>\r\n       <use x=\"63.623047\" xlink:href=\"#DejaVuSans-30\"/>\r\n       <use x=\"127.246094\" xlink:href=\"#DejaVuSans-30\"/>\r\n       <use x=\"190.869141\" xlink:href=\"#DejaVuSans-30\"/>\r\n       <use x=\"254.492188\" xlink:href=\"#DejaVuSans-30\"/>\r\n       <use x=\"318.115234\" xlink:href=\"#DejaVuSans-30\"/>\r\n      </g>\r\n     </g>\r\n    </g>\r\n    <g id=\"xtick_5\">\r\n     <g id=\"line2d_5\">\r\n      <g>\r\n       <use style=\"stroke:#000000;stroke-width:0.8;\" x=\"211.260718\" xlink:href=\"#m4aae149ed1\" y=\"224.64\"/>\r\n      </g>\r\n     </g>\r\n     <g id=\"text_5\">\r\n      <!-- 400000 -->\r\n      <g transform=\"translate(192.173218 239.238437)scale(0.1 -0.1)\">\r\n       <defs>\r\n        <path d=\"M 2419 4116 \r\nL 825 1625 \r\nL 2419 1625 \r\nL 2419 4116 \r\nz\r\nM 2253 4666 \r\nL 3047 4666 \r\nL 3047 1625 \r\nL 3713 1625 \r\nL 3713 1100 \r\nL 3047 1100 \r\nL 3047 0 \r\nL 2419 0 \r\nL 2419 1100 \r\nL 313 1100 \r\nL 313 1709 \r\nL 2253 4666 \r\nz\r\n\" id=\"DejaVuSans-34\" transform=\"scale(0.015625)\"/>\r\n       </defs>\r\n       <use xlink:href=\"#DejaVuSans-34\"/>\r\n       <use x=\"63.623047\" xlink:href=\"#DejaVuSans-30\"/>\r\n       <use x=\"127.246094\" xlink:href=\"#DejaVuSans-30\"/>\r\n       <use x=\"190.869141\" xlink:href=\"#DejaVuSans-30\"/>\r\n       <use x=\"254.492188\" xlink:href=\"#DejaVuSans-30\"/>\r\n       <use x=\"318.115234\" xlink:href=\"#DejaVuSans-30\"/>\r\n      </g>\r\n     </g>\r\n    </g>\r\n    <g id=\"xtick_6\">\r\n     <g id=\"line2d_6\">\r\n      <g>\r\n       <use style=\"stroke:#000000;stroke-width:0.8;\" x=\"248.530039\" xlink:href=\"#m4aae149ed1\" y=\"224.64\"/>\r\n      </g>\r\n     </g>\r\n     <g id=\"text_6\">\r\n      <!-- 500000 -->\r\n      <g transform=\"translate(229.442539 239.238437)scale(0.1 -0.1)\">\r\n       <defs>\r\n        <path d=\"M 691 4666 \r\nL 3169 4666 \r\nL 3169 4134 \r\nL 1269 4134 \r\nL 1269 2991 \r\nQ 1406 3038 1543 3061 \r\nQ 1681 3084 1819 3084 \r\nQ 2600 3084 3056 2656 \r\nQ 3513 2228 3513 1497 \r\nQ 3513 744 3044 326 \r\nQ 2575 -91 1722 -91 \r\nQ 1428 -91 1123 -41 \r\nQ 819 9 494 109 \r\nL 494 744 \r\nQ 775 591 1075 516 \r\nQ 1375 441 1709 441 \r\nQ 2250 441 2565 725 \r\nQ 2881 1009 2881 1497 \r\nQ 2881 1984 2565 2268 \r\nQ 2250 2553 1709 2553 \r\nQ 1456 2553 1204 2497 \r\nQ 953 2441 691 2322 \r\nL 691 4666 \r\nz\r\n\" id=\"DejaVuSans-35\" transform=\"scale(0.015625)\"/>\r\n       </defs>\r\n       <use xlink:href=\"#DejaVuSans-35\"/>\r\n       <use x=\"63.623047\" xlink:href=\"#DejaVuSans-30\"/>\r\n       <use x=\"127.246094\" xlink:href=\"#DejaVuSans-30\"/>\r\n       <use x=\"190.869141\" xlink:href=\"#DejaVuSans-30\"/>\r\n       <use x=\"254.492188\" xlink:href=\"#DejaVuSans-30\"/>\r\n       <use x=\"318.115234\" xlink:href=\"#DejaVuSans-30\"/>\r\n      </g>\r\n     </g>\r\n    </g>\r\n    <g id=\"xtick_7\">\r\n     <g id=\"line2d_7\">\r\n      <g>\r\n       <use style=\"stroke:#000000;stroke-width:0.8;\" x=\"285.79936\" xlink:href=\"#m4aae149ed1\" y=\"224.64\"/>\r\n      </g>\r\n     </g>\r\n     <g id=\"text_7\">\r\n      <!-- 600000 -->\r\n      <g transform=\"translate(266.71186 239.238437)scale(0.1 -0.1)\">\r\n       <defs>\r\n        <path d=\"M 2113 2584 \r\nQ 1688 2584 1439 2293 \r\nQ 1191 2003 1191 1497 \r\nQ 1191 994 1439 701 \r\nQ 1688 409 2113 409 \r\nQ 2538 409 2786 701 \r\nQ 3034 994 3034 1497 \r\nQ 3034 2003 2786 2293 \r\nQ 2538 2584 2113 2584 \r\nz\r\nM 3366 4563 \r\nL 3366 3988 \r\nQ 3128 4100 2886 4159 \r\nQ 2644 4219 2406 4219 \r\nQ 1781 4219 1451 3797 \r\nQ 1122 3375 1075 2522 \r\nQ 1259 2794 1537 2939 \r\nQ 1816 3084 2150 3084 \r\nQ 2853 3084 3261 2657 \r\nQ 3669 2231 3669 1497 \r\nQ 3669 778 3244 343 \r\nQ 2819 -91 2113 -91 \r\nQ 1303 -91 875 529 \r\nQ 447 1150 447 2328 \r\nQ 447 3434 972 4092 \r\nQ 1497 4750 2381 4750 \r\nQ 2619 4750 2861 4703 \r\nQ 3103 4656 3366 4563 \r\nz\r\n\" id=\"DejaVuSans-36\" transform=\"scale(0.015625)\"/>\r\n       </defs>\r\n       <use xlink:href=\"#DejaVuSans-36\"/>\r\n       <use x=\"63.623047\" xlink:href=\"#DejaVuSans-30\"/>\r\n       <use x=\"127.246094\" xlink:href=\"#DejaVuSans-30\"/>\r\n       <use x=\"190.869141\" xlink:href=\"#DejaVuSans-30\"/>\r\n       <use x=\"254.492188\" xlink:href=\"#DejaVuSans-30\"/>\r\n       <use x=\"318.115234\" xlink:href=\"#DejaVuSans-30\"/>\r\n      </g>\r\n     </g>\r\n    </g>\r\n    <g id=\"xtick_8\">\r\n     <g id=\"line2d_8\">\r\n      <g>\r\n       <use style=\"stroke:#000000;stroke-width:0.8;\" x=\"323.068681\" xlink:href=\"#m4aae149ed1\" y=\"224.64\"/>\r\n      </g>\r\n     </g>\r\n     <g id=\"text_8\">\r\n      <!-- 700000 -->\r\n      <g transform=\"translate(303.981181 239.238437)scale(0.1 -0.1)\">\r\n       <defs>\r\n        <path d=\"M 525 4666 \r\nL 3525 4666 \r\nL 3525 4397 \r\nL 1831 0 \r\nL 1172 0 \r\nL 2766 4134 \r\nL 525 4134 \r\nL 525 4666 \r\nz\r\n\" id=\"DejaVuSans-37\" transform=\"scale(0.015625)\"/>\r\n       </defs>\r\n       <use xlink:href=\"#DejaVuSans-37\"/>\r\n       <use x=\"63.623047\" xlink:href=\"#DejaVuSans-30\"/>\r\n       <use x=\"127.246094\" xlink:href=\"#DejaVuSans-30\"/>\r\n       <use x=\"190.869141\" xlink:href=\"#DejaVuSans-30\"/>\r\n       <use x=\"254.492188\" xlink:href=\"#DejaVuSans-30\"/>\r\n       <use x=\"318.115234\" xlink:href=\"#DejaVuSans-30\"/>\r\n      </g>\r\n     </g>\r\n    </g>\r\n    <g id=\"xtick_9\">\r\n     <g id=\"line2d_9\">\r\n      <g>\r\n       <use style=\"stroke:#000000;stroke-width:0.8;\" x=\"360.338002\" xlink:href=\"#m4aae149ed1\" y=\"224.64\"/>\r\n      </g>\r\n     </g>\r\n     <g id=\"text_9\">\r\n      <!-- 800000 -->\r\n      <g transform=\"translate(341.250502 239.238437)scale(0.1 -0.1)\">\r\n       <defs>\r\n        <path d=\"M 2034 2216 \r\nQ 1584 2216 1326 1975 \r\nQ 1069 1734 1069 1313 \r\nQ 1069 891 1326 650 \r\nQ 1584 409 2034 409 \r\nQ 2484 409 2743 651 \r\nQ 3003 894 3003 1313 \r\nQ 3003 1734 2745 1975 \r\nQ 2488 2216 2034 2216 \r\nz\r\nM 1403 2484 \r\nQ 997 2584 770 2862 \r\nQ 544 3141 544 3541 \r\nQ 544 4100 942 4425 \r\nQ 1341 4750 2034 4750 \r\nQ 2731 4750 3128 4425 \r\nQ 3525 4100 3525 3541 \r\nQ 3525 3141 3298 2862 \r\nQ 3072 2584 2669 2484 \r\nQ 3125 2378 3379 2068 \r\nQ 3634 1759 3634 1313 \r\nQ 3634 634 3220 271 \r\nQ 2806 -91 2034 -91 \r\nQ 1263 -91 848 271 \r\nQ 434 634 434 1313 \r\nQ 434 1759 690 2068 \r\nQ 947 2378 1403 2484 \r\nz\r\nM 1172 3481 \r\nQ 1172 3119 1398 2916 \r\nQ 1625 2713 2034 2713 \r\nQ 2441 2713 2670 2916 \r\nQ 2900 3119 2900 3481 \r\nQ 2900 3844 2670 4047 \r\nQ 2441 4250 2034 4250 \r\nQ 1625 4250 1398 4047 \r\nQ 1172 3844 1172 3481 \r\nz\r\n\" id=\"DejaVuSans-38\" transform=\"scale(0.015625)\"/>\r\n       </defs>\r\n       <use xlink:href=\"#DejaVuSans-38\"/>\r\n       <use x=\"63.623047\" xlink:href=\"#DejaVuSans-30\"/>\r\n       <use x=\"127.246094\" xlink:href=\"#DejaVuSans-30\"/>\r\n       <use x=\"190.869141\" xlink:href=\"#DejaVuSans-30\"/>\r\n       <use x=\"254.492188\" xlink:href=\"#DejaVuSans-30\"/>\r\n       <use x=\"318.115234\" xlink:href=\"#DejaVuSans-30\"/>\r\n      </g>\r\n     </g>\r\n    </g>\r\n    <g id=\"text_10\">\r\n     <!-- qty -->\r\n     <g transform=\"translate(206.271875 252.916562)scale(0.1 -0.1)\">\r\n      <defs>\r\n       <path d=\"M 947 1747 \r\nQ 947 1113 1208 752 \r\nQ 1469 391 1925 391 \r\nQ 2381 391 2643 752 \r\nQ 2906 1113 2906 1747 \r\nQ 2906 2381 2643 2742 \r\nQ 2381 3103 1925 3103 \r\nQ 1469 3103 1208 2742 \r\nQ 947 2381 947 1747 \r\nz\r\nM 2906 525 \r\nQ 2725 213 2448 61 \r\nQ 2172 -91 1784 -91 \r\nQ 1150 -91 751 415 \r\nQ 353 922 353 1747 \r\nQ 353 2572 751 3078 \r\nQ 1150 3584 1784 3584 \r\nQ 2172 3584 2448 3432 \r\nQ 2725 3281 2906 2969 \r\nL 2906 3500 \r\nL 3481 3500 \r\nL 3481 -1331 \r\nL 2906 -1331 \r\nL 2906 525 \r\nz\r\n\" id=\"DejaVuSans-71\" transform=\"scale(0.015625)\"/>\r\n       <path d=\"M 1172 4494 \r\nL 1172 3500 \r\nL 2356 3500 \r\nL 2356 3053 \r\nL 1172 3053 \r\nL 1172 1153 \r\nQ 1172 725 1289 603 \r\nQ 1406 481 1766 481 \r\nL 2356 481 \r\nL 2356 0 \r\nL 1766 0 \r\nQ 1100 0 847 248 \r\nQ 594 497 594 1153 \r\nL 594 3053 \r\nL 172 3053 \r\nL 172 3500 \r\nL 594 3500 \r\nL 594 4494 \r\nL 1172 4494 \r\nz\r\n\" id=\"DejaVuSans-74\" transform=\"scale(0.015625)\"/>\r\n       <path d=\"M 2059 -325 \r\nQ 1816 -950 1584 -1140 \r\nQ 1353 -1331 966 -1331 \r\nL 506 -1331 \r\nL 506 -850 \r\nL 844 -850 \r\nQ 1081 -850 1212 -737 \r\nQ 1344 -625 1503 -206 \r\nL 1606 56 \r\nL 191 3500 \r\nL 800 3500 \r\nL 1894 763 \r\nL 2988 3500 \r\nL 3597 3500 \r\nL 2059 -325 \r\nz\r\n\" id=\"DejaVuSans-79\" transform=\"scale(0.015625)\"/>\r\n      </defs>\r\n      <use xlink:href=\"#DejaVuSans-71\"/>\r\n      <use x=\"63.476562\" xlink:href=\"#DejaVuSans-74\"/>\r\n      <use x=\"102.685547\" xlink:href=\"#DejaVuSans-79\"/>\r\n     </g>\r\n    </g>\r\n   </g>\r\n   <g id=\"matplotlib.axis_2\">\r\n    <g id=\"ytick_1\">\r\n     <g id=\"line2d_10\">\r\n      <defs>\r\n       <path d=\"M 0 0 \r\nL -3.5 0 \r\n\" id=\"m941d5ab066\" style=\"stroke:#000000;stroke-width:0.8;\"/>\r\n      </defs>\r\n      <g>\r\n       <use style=\"stroke:#000000;stroke-width:0.8;\" x=\"46.965625\" xlink:href=\"#m941d5ab066\" y=\"224.64\"/>\r\n      </g>\r\n     </g>\r\n     <g id=\"text_11\">\r\n      <!-- 0 -->\r\n      <g transform=\"translate(33.603125 228.439219)scale(0.1 -0.1)\">\r\n       <use xlink:href=\"#DejaVuSans-30\"/>\r\n      </g>\r\n     </g>\r\n    </g>\r\n    <g id=\"ytick_2\">\r\n     <g id=\"line2d_11\">\r\n      <g>\r\n       <use style=\"stroke:#000000;stroke-width:0.8;\" x=\"46.965625\" xlink:href=\"#m941d5ab066\" y=\"195.224416\"/>\r\n      </g>\r\n     </g>\r\n     <g id=\"text_12\">\r\n      <!-- 50 -->\r\n      <g transform=\"translate(27.240625 199.023634)scale(0.1 -0.1)\">\r\n       <use xlink:href=\"#DejaVuSans-35\"/>\r\n       <use x=\"63.623047\" xlink:href=\"#DejaVuSans-30\"/>\r\n      </g>\r\n     </g>\r\n    </g>\r\n    <g id=\"ytick_3\">\r\n     <g id=\"line2d_12\">\r\n      <g>\r\n       <use style=\"stroke:#000000;stroke-width:0.8;\" x=\"46.965625\" xlink:href=\"#m941d5ab066\" y=\"165.808831\"/>\r\n      </g>\r\n     </g>\r\n     <g id=\"text_13\">\r\n      <!-- 100 -->\r\n      <g transform=\"translate(20.878125 169.60805)scale(0.1 -0.1)\">\r\n       <use xlink:href=\"#DejaVuSans-31\"/>\r\n       <use x=\"63.623047\" xlink:href=\"#DejaVuSans-30\"/>\r\n       <use x=\"127.246094\" xlink:href=\"#DejaVuSans-30\"/>\r\n      </g>\r\n     </g>\r\n    </g>\r\n    <g id=\"ytick_4\">\r\n     <g id=\"line2d_13\">\r\n      <g>\r\n       <use style=\"stroke:#000000;stroke-width:0.8;\" x=\"46.965625\" xlink:href=\"#m941d5ab066\" y=\"136.393247\"/>\r\n      </g>\r\n     </g>\r\n     <g id=\"text_14\">\r\n      <!-- 150 -->\r\n      <g transform=\"translate(20.878125 140.192466)scale(0.1 -0.1)\">\r\n       <use xlink:href=\"#DejaVuSans-31\"/>\r\n       <use x=\"63.623047\" xlink:href=\"#DejaVuSans-35\"/>\r\n       <use x=\"127.246094\" xlink:href=\"#DejaVuSans-30\"/>\r\n      </g>\r\n     </g>\r\n    </g>\r\n    <g id=\"ytick_5\">\r\n     <g id=\"line2d_14\">\r\n      <g>\r\n       <use style=\"stroke:#000000;stroke-width:0.8;\" x=\"46.965625\" xlink:href=\"#m941d5ab066\" y=\"106.977662\"/>\r\n      </g>\r\n     </g>\r\n     <g id=\"text_15\">\r\n      <!-- 200 -->\r\n      <g transform=\"translate(20.878125 110.776881)scale(0.1 -0.1)\">\r\n       <use xlink:href=\"#DejaVuSans-32\"/>\r\n       <use x=\"63.623047\" xlink:href=\"#DejaVuSans-30\"/>\r\n       <use x=\"127.246094\" xlink:href=\"#DejaVuSans-30\"/>\r\n      </g>\r\n     </g>\r\n    </g>\r\n    <g id=\"ytick_6\">\r\n     <g id=\"line2d_15\">\r\n      <g>\r\n       <use style=\"stroke:#000000;stroke-width:0.8;\" x=\"46.965625\" xlink:href=\"#m941d5ab066\" y=\"77.562078\"/>\r\n      </g>\r\n     </g>\r\n     <g id=\"text_16\">\r\n      <!-- 250 -->\r\n      <g transform=\"translate(20.878125 81.361297)scale(0.1 -0.1)\">\r\n       <use xlink:href=\"#DejaVuSans-32\"/>\r\n       <use x=\"63.623047\" xlink:href=\"#DejaVuSans-35\"/>\r\n       <use x=\"127.246094\" xlink:href=\"#DejaVuSans-30\"/>\r\n      </g>\r\n     </g>\r\n    </g>\r\n    <g id=\"ytick_7\">\r\n     <g id=\"line2d_16\">\r\n      <g>\r\n       <use style=\"stroke:#000000;stroke-width:0.8;\" x=\"46.965625\" xlink:href=\"#m941d5ab066\" y=\"48.146494\"/>\r\n      </g>\r\n     </g>\r\n     <g id=\"text_17\">\r\n      <!-- 300 -->\r\n      <g transform=\"translate(20.878125 51.945712)scale(0.1 -0.1)\">\r\n       <use xlink:href=\"#DejaVuSans-33\"/>\r\n       <use x=\"63.623047\" xlink:href=\"#DejaVuSans-30\"/>\r\n       <use x=\"127.246094\" xlink:href=\"#DejaVuSans-30\"/>\r\n      </g>\r\n     </g>\r\n    </g>\r\n    <g id=\"ytick_8\">\r\n     <g id=\"line2d_17\">\r\n      <g>\r\n       <use style=\"stroke:#000000;stroke-width:0.8;\" x=\"46.965625\" xlink:href=\"#m941d5ab066\" y=\"18.730909\"/>\r\n      </g>\r\n     </g>\r\n     <g id=\"text_18\">\r\n      <!-- 350 -->\r\n      <g transform=\"translate(20.878125 22.530128)scale(0.1 -0.1)\">\r\n       <use xlink:href=\"#DejaVuSans-33\"/>\r\n       <use x=\"63.623047\" xlink:href=\"#DejaVuSans-35\"/>\r\n       <use x=\"127.246094\" xlink:href=\"#DejaVuSans-30\"/>\r\n      </g>\r\n     </g>\r\n    </g>\r\n    <g id=\"text_19\">\r\n     <!-- Count -->\r\n     <g transform=\"translate(14.798438 130.768437)rotate(-90)scale(0.1 -0.1)\">\r\n      <defs>\r\n       <path d=\"M 4122 4306 \r\nL 4122 3641 \r\nQ 3803 3938 3442 4084 \r\nQ 3081 4231 2675 4231 \r\nQ 1875 4231 1450 3742 \r\nQ 1025 3253 1025 2328 \r\nQ 1025 1406 1450 917 \r\nQ 1875 428 2675 428 \r\nQ 3081 428 3442 575 \r\nQ 3803 722 4122 1019 \r\nL 4122 359 \r\nQ 3791 134 3420 21 \r\nQ 3050 -91 2638 -91 \r\nQ 1578 -91 968 557 \r\nQ 359 1206 359 2328 \r\nQ 359 3453 968 4101 \r\nQ 1578 4750 2638 4750 \r\nQ 3056 4750 3426 4639 \r\nQ 3797 4528 4122 4306 \r\nz\r\n\" id=\"DejaVuSans-43\" transform=\"scale(0.015625)\"/>\r\n       <path d=\"M 1959 3097 \r\nQ 1497 3097 1228 2736 \r\nQ 959 2375 959 1747 \r\nQ 959 1119 1226 758 \r\nQ 1494 397 1959 397 \r\nQ 2419 397 2687 759 \r\nQ 2956 1122 2956 1747 \r\nQ 2956 2369 2687 2733 \r\nQ 2419 3097 1959 3097 \r\nz\r\nM 1959 3584 \r\nQ 2709 3584 3137 3096 \r\nQ 3566 2609 3566 1747 \r\nQ 3566 888 3137 398 \r\nQ 2709 -91 1959 -91 \r\nQ 1206 -91 779 398 \r\nQ 353 888 353 1747 \r\nQ 353 2609 779 3096 \r\nQ 1206 3584 1959 3584 \r\nz\r\n\" id=\"DejaVuSans-6f\" transform=\"scale(0.015625)\"/>\r\n       <path d=\"M 544 1381 \r\nL 544 3500 \r\nL 1119 3500 \r\nL 1119 1403 \r\nQ 1119 906 1312 657 \r\nQ 1506 409 1894 409 \r\nQ 2359 409 2629 706 \r\nQ 2900 1003 2900 1516 \r\nL 2900 3500 \r\nL 3475 3500 \r\nL 3475 0 \r\nL 2900 0 \r\nL 2900 538 \r\nQ 2691 219 2414 64 \r\nQ 2138 -91 1772 -91 \r\nQ 1169 -91 856 284 \r\nQ 544 659 544 1381 \r\nz\r\nM 1991 3584 \r\nL 1991 3584 \r\nz\r\n\" id=\"DejaVuSans-75\" transform=\"scale(0.015625)\"/>\r\n       <path d=\"M 3513 2113 \r\nL 3513 0 \r\nL 2938 0 \r\nL 2938 2094 \r\nQ 2938 2591 2744 2837 \r\nQ 2550 3084 2163 3084 \r\nQ 1697 3084 1428 2787 \r\nQ 1159 2491 1159 1978 \r\nL 1159 0 \r\nL 581 0 \r\nL 581 3500 \r\nL 1159 3500 \r\nL 1159 2956 \r\nQ 1366 3272 1645 3428 \r\nQ 1925 3584 2291 3584 \r\nQ 2894 3584 3203 3211 \r\nQ 3513 2838 3513 2113 \r\nz\r\n\" id=\"DejaVuSans-6e\" transform=\"scale(0.015625)\"/>\r\n      </defs>\r\n      <use xlink:href=\"#DejaVuSans-43\"/>\r\n      <use x=\"69.824219\" xlink:href=\"#DejaVuSans-6f\"/>\r\n      <use x=\"131.005859\" xlink:href=\"#DejaVuSans-75\"/>\r\n      <use x=\"194.384766\" xlink:href=\"#DejaVuSans-6e\"/>\r\n      <use x=\"257.763672\" xlink:href=\"#DejaVuSans-74\"/>\r\n     </g>\r\n    </g>\r\n   </g>\r\n   <g id=\"patch_35\">\r\n    <path d=\"M 46.965625 224.64 \r\nL 46.965625 7.2 \r\n\" style=\"fill:none;stroke:#000000;stroke-linecap:square;stroke-linejoin:miter;stroke-width:0.8;\"/>\r\n   </g>\r\n   <g id=\"patch_36\">\r\n    <path d=\"M 381.765625 224.64 \r\nL 381.765625 7.2 \r\n\" style=\"fill:none;stroke:#000000;stroke-linecap:square;stroke-linejoin:miter;stroke-width:0.8;\"/>\r\n   </g>\r\n   <g id=\"patch_37\">\r\n    <path d=\"M 46.965625 224.64 \r\nL 381.765625 224.64 \r\n\" style=\"fill:none;stroke:#000000;stroke-linecap:square;stroke-linejoin:miter;stroke-width:0.8;\"/>\r\n   </g>\r\n   <g id=\"patch_38\">\r\n    <path d=\"M 46.965625 7.2 \r\nL 381.765625 7.2 \r\n\" style=\"fill:none;stroke:#000000;stroke-linecap:square;stroke-linejoin:miter;stroke-width:0.8;\"/>\r\n   </g>\r\n  </g>\r\n </g>\r\n <defs>\r\n  <clipPath id=\"p5fef8e7eb8\">\r\n   <rect height=\"217.44\" width=\"334.8\" x=\"46.965625\" y=\"7.2\"/>\r\n  </clipPath>\r\n </defs>\r\n</svg>\r\n",
                        "image/png": "[encoded data removed]"
                    },
                    "metadata": {
                        "needs_background": "light"
                    }
                }
            ],
            "metadata": {}
        },
        {
            "cell_type": "markdown",
            "source": [
                "---"
            ],
            "metadata": {}
        },
        {
            "cell_type": "markdown",
            "source": [
                "## deal with outbound data"
            ],
            "metadata": {}
        },
        {
            "cell_type": "code",
            "execution_count": 11,
            "source": [
                "ob_train = pd.read_csv('./outb_fas.csv', parse_dates=['date'])\r\n",
                "ob_train = ob_train.dropna(how = 'all', axis = 1)"
            ],
            "outputs": [
                {
                    "output_type": "stream",
                    "name": "stderr",
                    "text": [
                        "C:\\Users\\dscshap3808\\Miniconda3\\envs\\siming\\lib\\site-packages\\IPython\\core\\interactiveshell.py:3165: DtypeWarning:\n",
                        "\n",
                        "Columns (8,26,36,41,43,44,56,64,67,75,86,120,121,144) have mixed types.Specify dtype option on import or set low_memory=False.\n",
                        "\n"
                    ]
                }
            ],
            "metadata": {}
        },
        {
            "cell_type": "code",
            "execution_count": 15,
            "source": [
                "re.findall()"
            ],
            "outputs": [
                {
                    "output_type": "execute_result",
                    "data": {
                        "text/plain": [
                            "Index(['INTERNAL_SHIPMENT_NUM', 'warehouse', 'SHIPPING_LOAD_NUM',\n",
                            "       'SHIPMENT_ID', 'TRAILING_STS', 'TRAILING_STS_DATE',\n",
                            "       'TRAILING_STS_FAILED', 'ORDER_TYPE', 'CONSOLIDATED', 'LEADING_STS',\n",
                            "       'LEADING_STS_DATE', 'CARRIER', 'LEADING_STS_FAILED', 'COMPANY',\n",
                            "       'CARRIER_SERVICE', 'CARRIER_TYPE', 'CUSTOMER', 'SHIP_TO',\n",
                            "       'SHIP_TO_ADDRESS1', 'CUSTOMER_NAME', 'SHIP_TO_ADDRESS2', 'SHIP_TO_CITY',\n",
                            "       'SHIP_TO_STATE', 'SHIP_TO_COUNTRY', 'SHIP_TO_POSTAL_CODE',\n",
                            "       'SHIP_TO_PHONE_NUM', 'SHIP_TO_FAX_NUM', 'CUSTOMER_ADDRESS1',\n",
                            "       'LAUNCH_NUM', 'WEIGHT_UM', 'USER_DEF1', 'USER_DEF2', 'PRIORITY',\n",
                            "       'USER_DEF3', 'USER_DEF4', 'USER_DEF7', 'MANUALLY_ENTERED', 'USER_DEF8',\n",
                            "       'USER_STAMP', 'PROCESS_STAMP', 'DATE_TIME_STAMP', 'BOL_NUM_ALPHA',\n",
                            "       'CUSTOMER_ADDRESS2', 'CUSTOMER_ATTENTION_TO', 'CUSTOMER_CITY',\n",
                            "       'CUSTOMER_STATE', 'CUSTOMER_COUNTRY', 'CUSTOMER_POSTAL_CODE',\n",
                            "       'CUSTOMER_PHONE_NUM', 'CUSTOMER_FAX_NUM', 'CUSTOMER_EMAIL_ADDRESS',\n",
                            "       'SHIP_TO_NAME', 'SHIP_TO_ATTENTION_TO', 'SHIP_TO_EMAIL_ADDRESS',\n",
                            "       'SCHEDULED_SHIP_DATE', 'PLANNED_SHIP_DATE', 'ACTUAL_SHIP_DATE_TIME',\n",
                            "       'QUANTITY_UM', 'TOTAL_FREIGHT_CHARGE', 'BASE_FREIGHT_CHARGE',\n",
                            "       'FREIGHT_DISCOUNT', 'ACCESSORIAL_CHARGE', 'CONSOLIDATION_ALLOWED',\n",
                            "       'INTERMEDIATE_ATTENTION_TO', 'ERP_ORDER', 'INTERNAL_ORDER_NUM',\n",
                            "       'EXPORT_PORT', 'CONTAINERIZED', 'AUTHORIZED_EMPL_NAME',\n",
                            "       'AUTHORIZED_EMPL_TITLE', 'UPLOAD_INTERFACE_BATCH',\n",
                            "       'CUSTOMER_RESIDENTIAL_FLAG', 'SHIPTO_RESIDENTIAL_FLAG',\n",
                            "       'REJECTION_NOTE', 'INTERFACE_RECORD_ID', 'CREATION_PROCESS_STAMP',\n",
                            "       'CREATION_DATE_TIME_STAMP', 'ALLOCATE_COMPLETE',\n",
                            "       'ALTERNATE_EMAIL_ADDRESS', 'STOP_SEQUENCE', 'INTERNAL_CARRIER_NUM',\n",
                            "       'TOTAL_LBR_ESTIMATE', 'WEIGHT_ENTERED', 'VOLUME_ENTERED',\n",
                            "       'VALUE_ENTERED', 'LOCKED', 'IN_DELETION', 'INVENTORY_LOAD_CONFIRMED',\n",
                            "       'LAST_STATUS_UPLOADED', 'USER_DEF9', 'USER_DEF10'],\n",
                            "      dtype='object')"
                        ]
                    },
                    "metadata": {},
                    "execution_count": 15
                }
            ],
            "metadata": {}
        },
        {
            "cell_type": "markdown",
            "source": [
                "--- "
            ],
            "metadata": {}
        },
        {
            "cell_type": "code",
            "execution_count": 10,
            "source": [
                "# train_first.index= pd.to_datetime(train_first['CREATION_DATE_TIME_STAMP'], yearfirst = True,  format='%Y-%m-%d')\r\n",
                "# train_first.pop('CREATION_DATE_TIME_STAMP')\r\n",
                "# train_full.pop('CREATION_DATE_TIME_STAMP')\r\n",
                "# train_full['qty'] = train_full['qty'].astype(int)\r\n",
                "# train_first['qty'] = train_first['qty'].astype(int)\r\n",
                "# train_first['qty2'] = train_full['qty'].to_numpy() ; train_first\r\n",
                "\r\n",
                "# train_first = train_first.reset_index()\r\n",
                "# train_first.drop(['qty2','CREATION_DATE_TIME_STAMP','creat_time'], axis =1) "
            ],
            "outputs": [],
            "metadata": {}
        },
        {
            "cell_type": "markdown",
            "source": [
                "# sktime; timeseries only prediction on trainfull\r\n"
            ],
            "metadata": {}
        },
        {
            "cell_type": "code",
            "execution_count": null,
            "source": [
                "# train_full.index = train_full['CREATION_DATE_TIME_STAMP']\r\n",
                "# train_full.index = pd.DatetimeIndex(train_full.index);train_full.index\r\n",
                "train_full_sktime = train_full.asfreq('D')\r\n",
                "train_full_sktime = train_full_sktime.fillna(0);train_full_sktime\r\n"
            ],
            "outputs": [],
            "metadata": {}
        },
        {
            "cell_type": "code",
            "execution_count": null,
            "source": [
                "from sktime.forecasting.arima import AutoARIMA\r\n",
                "from sktime.forecasting.base import ForecastingHorizon\r\n",
                "from sktime.forecasting.theta import ThetaForecaster\r\n",
                "from sktime.forecasting.naive import NaiveForecaster\r\n",
                "from sktime.regression import ComposableTimeSeriesForestRegressor\r\n",
                "from sktime.forecasting.model_selection import temporal_train_test_split\r\n",
                "from sklearn.metrics import mean_absolute_percentage_error\r\n",
                "\r\n",
                "x = train_full_sktime.drop(['qty', 'CREATION_DATE_TIME_STAMP', 'creat_time'], axis = 1)\r\n",
                "y = train_full_sktime.loc[:,'qty']\r\n",
                "x_train, x_test , y_train, y_test = temporal_train_test_split(x, y)\r\n",
                "#\r\n",
                "#  # fh = ForecastingHorizon(x_test, is_relative=False)\r\n",
                "# forecaster = ComposableTimeSeriesForestRegressor(x = x_train, y = y_train)\r\n",
                "# forecaster.fit(x_train ,y = y_train)\r\n",
                "# y_pred = forecaster.predict(x_test)\r\n",
                "# mean_absolute_percentage_error(y_test, y_pred)\r\n",
                "\r\n",
                "forecaster = NaiveForecaster(sp = 21)\r\n",
                "forecaster.fit(y_train)\r\n",
                "\r\n",
                "fh = ForecastingHorizon(y_test.index, is_relative=False)\r\n",
                "y_pred = forecaster.predict(fh )\r\n",
                "mean_absolute_percentage_error(y_test, y_pred)\r\n",
                "\r\n"
            ],
            "outputs": [],
            "metadata": {}
        },
        {
            "cell_type": "code",
            "execution_count": null,
            "source": [
                "from sktime.regression.interval_based import  TimeSeriesForestRegressor"
            ],
            "outputs": [],
            "metadata": {}
        },
        {
            "cell_type": "code",
            "execution_count": null,
            "source": [
                "x_train.shape[1]"
            ],
            "outputs": [],
            "metadata": {}
        },
        {
            "cell_type": "code",
            "execution_count": null,
            "source": [
                "# forecaster = TimeSeriesForestRegressor( )\r\n",
                "# # fh = ForecastingHorizon(x_test, is_relative=False)\r\n",
                "# forecaster.fit(X = x_train,  y = y_train)\r\n",
                "# y_pred = forecaster.predict(x_test)\r\n",
                "# mean_absolute_percentage_error(y_test, y_pred)"
            ],
            "outputs": [],
            "metadata": {}
        },
        {
            "cell_type": "markdown",
            "source": [
                "---\r\n",
                "\r\n",
                "# prophet prepare"
            ],
            "metadata": {}
        },
        {
            "cell_type": "code",
            "execution_count": 39,
            "source": [
                "# train_full = train_full_sktime\r\n",
                "train_full = train_full.asfreq('D')\r\n",
                "train_full = train_full.fillna(0) \r\n",
                "train_first = train_first.asfreq('D')\r\n",
                "train_first = train_first.fillna(0)\r\n",
                "train_full['CREATION_DATE_TIME_STAMP'] = train_full.index\r\n",
                "train_first['CREATION_DATE_TIME_STAMP'] = train_first.index\r\n",
                "\r\n",
                "\r\n",
                "# train_full\r\n",
                "train_full = train_full.reset_index(drop =True)\r\n",
                "train_first = train_first.reset_index(drop =True)\r\n",
                "\r\n",
                "train_fin = train_full.merge(train_first, \r\n",
                "    on = 'CREATION_DATE_TIME_STAMP', \r\n",
                "    how = 'outer',\r\n",
                "    suffixes = ['_full', '_first'])\r\n",
                "train_fin = train_fin.fillna(0);train_fin"
            ],
            "outputs": [
                {
                    "output_type": "execute_result",
                    "data": {
                        "text/plain": [
                            "     CREATION_DATE_TIME_STAMP  id_full  line_sum_full  container_sum_full  \\\n",
                            "0                  2017-09-11      1.0            2.0                22.0   \n",
                            "1                  2017-09-12      9.0           30.0                96.0   \n",
                            "2                  2017-09-13      6.0            9.0                41.0   \n",
                            "3                  2017-09-14     11.0           49.0               140.0   \n",
                            "4                  2017-09-15      4.0           16.0                36.0   \n",
                            "...                       ...      ...            ...                 ...   \n",
                            "1330               2021-05-03      0.0            0.0                 0.0   \n",
                            "1331               2021-05-04      0.0            0.0                 0.0   \n",
                            "1332               2021-05-05      0.0            0.0                 0.0   \n",
                            "1333               2021-05-06      0.0            0.0                 0.0   \n",
                            "1334               2021-05-07      1.0            2.0                17.0   \n",
                            "\n",
                            "      weight_full  qty_full creat_time_full  id_first  line_sum_first  \\\n",
                            "0        22000.00     880.0          032456       1.0             2.0   \n",
                            "1       850242.84  512046.0          084029       1.0             1.0   \n",
                            "2        41290.00    1778.0          014356       1.0             1.0   \n",
                            "3       121620.00   16690.0          071055       1.0             1.0   \n",
                            "4        96619.20   93797.0          034049       1.0             2.0   \n",
                            "...           ...       ...             ...       ...             ...   \n",
                            "1330         0.00       0.0               0       0.0             0.0   \n",
                            "1331         0.00       0.0               0       0.0             0.0   \n",
                            "1332         0.00       0.0               0       0.0             0.0   \n",
                            "1333         0.00       0.0               0       0.0             0.0   \n",
                            "1334      9292.50    5400.0          084451       1.0             2.0   \n",
                            "\n",
                            "      container_sum_first  weight_first  qty_first creat_time_first  \n",
                            "0                    22.0       22000.0      880.0           032456  \n",
                            "1                    19.0       18600.0      744.0           050737  \n",
                            "2                     1.0         100.0        4.0           012211  \n",
                            "3                     9.0        8000.0     6000.0           002402  \n",
                            "4                    13.0       12525.0      501.0           014709  \n",
                            "...                   ...           ...        ...              ...  \n",
                            "1330                  0.0           0.0        0.0                0  \n",
                            "1331                  0.0           0.0        0.0                0  \n",
                            "1332                  0.0           0.0        0.0                0  \n",
                            "1333                  0.0           0.0        0.0                0  \n",
                            "1334                 17.0        9292.5     5400.0           084451  \n",
                            "\n",
                            "[1335 rows x 13 columns]"
                        ],
                        "text/html": [
                            "<div>\n",
                            "<style scoped>\n",
                            "    .dataframe tbody tr th:only-of-type {\n",
                            "        vertical-align: middle;\n",
                            "    }\n",
                            "\n",
                            "    .dataframe tbody tr th {\n",
                            "        vertical-align: top;\n",
                            "    }\n",
                            "\n",
                            "    .dataframe thead th {\n",
                            "        text-align: right;\n",
                            "    }\n",
                            "</style>\n",
                            "<table border=\"1\" class=\"dataframe\">\n",
                            "  <thead>\n",
                            "    <tr style=\"text-align: right;\">\n",
                            "      <th></th>\n",
                            "      <th>CREATION_DATE_TIME_STAMP</th>\n",
                            "      <th>id_full</th>\n",
                            "      <th>line_sum_full</th>\n",
                            "      <th>container_sum_full</th>\n",
                            "      <th>weight_full</th>\n",
                            "      <th>qty_full</th>\n",
                            "      <th>creat_time_full</th>\n",
                            "      <th>id_first</th>\n",
                            "      <th>line_sum_first</th>\n",
                            "      <th>container_sum_first</th>\n",
                            "      <th>weight_first</th>\n",
                            "      <th>qty_first</th>\n",
                            "      <th>creat_time_first</th>\n",
                            "    </tr>\n",
                            "  </thead>\n",
                            "  <tbody>\n",
                            "    <tr>\n",
                            "      <th>0</th>\n",
                            "      <td>2017-09-11</td>\n",
                            "      <td>1.0</td>\n",
                            "      <td>2.0</td>\n",
                            "      <td>22.0</td>\n",
                            "      <td>22000.00</td>\n",
                            "      <td>880.0</td>\n",
                            "      <td>032456</td>\n",
                            "      <td>1.0</td>\n",
                            "      <td>2.0</td>\n",
                            "      <td>22.0</td>\n",
                            "      <td>22000.0</td>\n",
                            "      <td>880.0</td>\n",
                            "      <td>032456</td>\n",
                            "    </tr>\n",
                            "    <tr>\n",
                            "      <th>1</th>\n",
                            "      <td>2017-09-12</td>\n",
                            "      <td>9.0</td>\n",
                            "      <td>30.0</td>\n",
                            "      <td>96.0</td>\n",
                            "      <td>850242.84</td>\n",
                            "      <td>512046.0</td>\n",
                            "      <td>084029</td>\n",
                            "      <td>1.0</td>\n",
                            "      <td>1.0</td>\n",
                            "      <td>19.0</td>\n",
                            "      <td>18600.0</td>\n",
                            "      <td>744.0</td>\n",
                            "      <td>050737</td>\n",
                            "    </tr>\n",
                            "    <tr>\n",
                            "      <th>2</th>\n",
                            "      <td>2017-09-13</td>\n",
                            "      <td>6.0</td>\n",
                            "      <td>9.0</td>\n",
                            "      <td>41.0</td>\n",
                            "      <td>41290.00</td>\n",
                            "      <td>1778.0</td>\n",
                            "      <td>014356</td>\n",
                            "      <td>1.0</td>\n",
                            "      <td>1.0</td>\n",
                            "      <td>1.0</td>\n",
                            "      <td>100.0</td>\n",
                            "      <td>4.0</td>\n",
                            "      <td>012211</td>\n",
                            "    </tr>\n",
                            "    <tr>\n",
                            "      <th>3</th>\n",
                            "      <td>2017-09-14</td>\n",
                            "      <td>11.0</td>\n",
                            "      <td>49.0</td>\n",
                            "      <td>140.0</td>\n",
                            "      <td>121620.00</td>\n",
                            "      <td>16690.0</td>\n",
                            "      <td>071055</td>\n",
                            "      <td>1.0</td>\n",
                            "      <td>1.0</td>\n",
                            "      <td>9.0</td>\n",
                            "      <td>8000.0</td>\n",
                            "      <td>6000.0</td>\n",
                            "      <td>002402</td>\n",
                            "    </tr>\n",
                            "    <tr>\n",
                            "      <th>4</th>\n",
                            "      <td>2017-09-15</td>\n",
                            "      <td>4.0</td>\n",
                            "      <td>16.0</td>\n",
                            "      <td>36.0</td>\n",
                            "      <td>96619.20</td>\n",
                            "      <td>93797.0</td>\n",
                            "      <td>034049</td>\n",
                            "      <td>1.0</td>\n",
                            "      <td>2.0</td>\n",
                            "      <td>13.0</td>\n",
                            "      <td>12525.0</td>\n",
                            "      <td>501.0</td>\n",
                            "      <td>014709</td>\n",
                            "    </tr>\n",
                            "    <tr>\n",
                            "      <th>...</th>\n",
                            "      <td>...</td>\n",
                            "      <td>...</td>\n",
                            "      <td>...</td>\n",
                            "      <td>...</td>\n",
                            "      <td>...</td>\n",
                            "      <td>...</td>\n",
                            "      <td>...</td>\n",
                            "      <td>...</td>\n",
                            "      <td>...</td>\n",
                            "      <td>...</td>\n",
                            "      <td>...</td>\n",
                            "      <td>...</td>\n",
                            "      <td>...</td>\n",
                            "    </tr>\n",
                            "    <tr>\n",
                            "      <th>1330</th>\n",
                            "      <td>2021-05-03</td>\n",
                            "      <td>0.0</td>\n",
                            "      <td>0.0</td>\n",
                            "      <td>0.0</td>\n",
                            "      <td>0.00</td>\n",
                            "      <td>0.0</td>\n",
                            "      <td>0</td>\n",
                            "      <td>0.0</td>\n",
                            "      <td>0.0</td>\n",
                            "      <td>0.0</td>\n",
                            "      <td>0.0</td>\n",
                            "      <td>0.0</td>\n",
                            "      <td>0</td>\n",
                            "    </tr>\n",
                            "    <tr>\n",
                            "      <th>1331</th>\n",
                            "      <td>2021-05-04</td>\n",
                            "      <td>0.0</td>\n",
                            "      <td>0.0</td>\n",
                            "      <td>0.0</td>\n",
                            "      <td>0.00</td>\n",
                            "      <td>0.0</td>\n",
                            "      <td>0</td>\n",
                            "      <td>0.0</td>\n",
                            "      <td>0.0</td>\n",
                            "      <td>0.0</td>\n",
                            "      <td>0.0</td>\n",
                            "      <td>0.0</td>\n",
                            "      <td>0</td>\n",
                            "    </tr>\n",
                            "    <tr>\n",
                            "      <th>1332</th>\n",
                            "      <td>2021-05-05</td>\n",
                            "      <td>0.0</td>\n",
                            "      <td>0.0</td>\n",
                            "      <td>0.0</td>\n",
                            "      <td>0.00</td>\n",
                            "      <td>0.0</td>\n",
                            "      <td>0</td>\n",
                            "      <td>0.0</td>\n",
                            "      <td>0.0</td>\n",
                            "      <td>0.0</td>\n",
                            "      <td>0.0</td>\n",
                            "      <td>0.0</td>\n",
                            "      <td>0</td>\n",
                            "    </tr>\n",
                            "    <tr>\n",
                            "      <th>1333</th>\n",
                            "      <td>2021-05-06</td>\n",
                            "      <td>0.0</td>\n",
                            "      <td>0.0</td>\n",
                            "      <td>0.0</td>\n",
                            "      <td>0.00</td>\n",
                            "      <td>0.0</td>\n",
                            "      <td>0</td>\n",
                            "      <td>0.0</td>\n",
                            "      <td>0.0</td>\n",
                            "      <td>0.0</td>\n",
                            "      <td>0.0</td>\n",
                            "      <td>0.0</td>\n",
                            "      <td>0</td>\n",
                            "    </tr>\n",
                            "    <tr>\n",
                            "      <th>1334</th>\n",
                            "      <td>2021-05-07</td>\n",
                            "      <td>1.0</td>\n",
                            "      <td>2.0</td>\n",
                            "      <td>17.0</td>\n",
                            "      <td>9292.50</td>\n",
                            "      <td>5400.0</td>\n",
                            "      <td>084451</td>\n",
                            "      <td>1.0</td>\n",
                            "      <td>2.0</td>\n",
                            "      <td>17.0</td>\n",
                            "      <td>9292.5</td>\n",
                            "      <td>5400.0</td>\n",
                            "      <td>084451</td>\n",
                            "    </tr>\n",
                            "  </tbody>\n",
                            "</table>\n",
                            "<p>1335 rows × 13 columns</p>\n",
                            "</div>"
                        ]
                    },
                    "metadata": {},
                    "execution_count": 39
                }
            ],
            "metadata": {}
        },
        {
            "cell_type": "code",
            "execution_count": 51,
            "source": [
                "# train_full = train_full_sktime\r\n",
                "test_full  = test_full.asfreq('D')\r\n",
                "test_full  = test_full.fillna(0) \r\n",
                "test_first = test_first.asfreq('D')\r\n",
                "test_first = test_first.fillna(0)\r\n",
                "test_full['CREATION_DATE_TIME_STAMP']  = test_full.index\r\n",
                "test_first['CREATION_DATE_TIME_STAMP'] = test_first.index\r\n",
                "\r\n",
                "\r\n",
                "# train_full\r\n",
                "test_full  = test_full.reset_index(drop =True)\r\n",
                "test_first = test_first.reset_index(drop =True)\r\n",
                "\r\n",
                "test_fin = test_full.merge(test_first, \r\n",
                "    on    = 'CREATION_DATE_TIME_STAMP', \r\n",
                "    how   = 'outer',\r\n",
                "    suffixes = ['_full', '_first'])\r\n",
                "\r\n",
                "test_fin = test_fin.fillna(0);test_fin"
            ],
            "outputs": [
                {
                    "output_type": "execute_result",
                    "data": {
                        "text/plain": [
                            "    CREATION_DATE_TIME_STAMP  id_full  line_sum_full  container_sum_full  \\\n",
                            "0                 2021-05-10      1.0            1.0                 2.0   \n",
                            "1                 2021-05-11      4.0           13.0                35.0   \n",
                            "2                 2021-05-12     11.0           20.0               135.0   \n",
                            "3                 2021-05-13      0.0            0.0                 0.0   \n",
                            "4                 2021-05-14      2.0           11.0                34.0   \n",
                            "..                       ...      ...            ...                 ...   \n",
                            "102               2021-08-20      0.0            0.0                 0.0   \n",
                            "103               2021-08-21      0.0            0.0                 0.0   \n",
                            "104               2021-08-22      0.0            0.0                 0.0   \n",
                            "105               2021-08-23     11.0           12.0                 0.0   \n",
                            "106               2021-08-24      8.0            9.0                 0.0   \n",
                            "\n",
                            "     weight_full  qty_full creat_time_full  id_first  line_sum_first  \\\n",
                            "0       16196.60   12072.0          080914       1.0             1.0   \n",
                            "1       66215.82   51258.0          090427       1.0             2.0   \n",
                            "2      172374.90  232776.0          080112       1.0             1.0   \n",
                            "3           0.00       0.0               0       0.0             0.0   \n",
                            "4       16479.23   12065.0          081753       1.0             8.0   \n",
                            "..           ...       ...             ...       ...             ...   \n",
                            "102         0.00       0.0               0       0.0             0.0   \n",
                            "103         0.00       0.0               0       0.0             0.0   \n",
                            "104         0.00       0.0               0       0.0             0.0   \n",
                            "105   2629700.40  209580.0          033211       1.0             1.0   \n",
                            "106   3278888.40  189120.0          064314       1.0             1.0   \n",
                            "\n",
                            "     container_sum_first  weight_first  qty_first creat_time_first  \n",
                            "0                    2.0      16196.60    12072.0           080914  \n",
                            "1                    2.0      22075.20    17280.0           025243  \n",
                            "2                   12.0      16655.10    13860.0           012919  \n",
                            "3                    0.0          0.00        0.0                0  \n",
                            "4                   29.0      15979.23    12060.0           081235  \n",
                            "..                   ...           ...        ...              ...  \n",
                            "102                  0.0          0.00        0.0                0  \n",
                            "103                  0.0          0.00        0.0                0  \n",
                            "104                  0.0          0.00        0.0                0  \n",
                            "105                  0.0     199861.20    13860.0           032128  \n",
                            "106                  0.0    1044810.00    73320.0           063559  \n",
                            "\n",
                            "[107 rows x 13 columns]"
                        ],
                        "text/html": [
                            "<div>\n",
                            "<style scoped>\n",
                            "    .dataframe tbody tr th:only-of-type {\n",
                            "        vertical-align: middle;\n",
                            "    }\n",
                            "\n",
                            "    .dataframe tbody tr th {\n",
                            "        vertical-align: top;\n",
                            "    }\n",
                            "\n",
                            "    .dataframe thead th {\n",
                            "        text-align: right;\n",
                            "    }\n",
                            "</style>\n",
                            "<table border=\"1\" class=\"dataframe\">\n",
                            "  <thead>\n",
                            "    <tr style=\"text-align: right;\">\n",
                            "      <th></th>\n",
                            "      <th>CREATION_DATE_TIME_STAMP</th>\n",
                            "      <th>id_full</th>\n",
                            "      <th>line_sum_full</th>\n",
                            "      <th>container_sum_full</th>\n",
                            "      <th>weight_full</th>\n",
                            "      <th>qty_full</th>\n",
                            "      <th>creat_time_full</th>\n",
                            "      <th>id_first</th>\n",
                            "      <th>line_sum_first</th>\n",
                            "      <th>container_sum_first</th>\n",
                            "      <th>weight_first</th>\n",
                            "      <th>qty_first</th>\n",
                            "      <th>creat_time_first</th>\n",
                            "    </tr>\n",
                            "  </thead>\n",
                            "  <tbody>\n",
                            "    <tr>\n",
                            "      <th>0</th>\n",
                            "      <td>2021-05-10</td>\n",
                            "      <td>1.0</td>\n",
                            "      <td>1.0</td>\n",
                            "      <td>2.0</td>\n",
                            "      <td>16196.60</td>\n",
                            "      <td>12072.0</td>\n",
                            "      <td>080914</td>\n",
                            "      <td>1.0</td>\n",
                            "      <td>1.0</td>\n",
                            "      <td>2.0</td>\n",
                            "      <td>16196.60</td>\n",
                            "      <td>12072.0</td>\n",
                            "      <td>080914</td>\n",
                            "    </tr>\n",
                            "    <tr>\n",
                            "      <th>1</th>\n",
                            "      <td>2021-05-11</td>\n",
                            "      <td>4.0</td>\n",
                            "      <td>13.0</td>\n",
                            "      <td>35.0</td>\n",
                            "      <td>66215.82</td>\n",
                            "      <td>51258.0</td>\n",
                            "      <td>090427</td>\n",
                            "      <td>1.0</td>\n",
                            "      <td>2.0</td>\n",
                            "      <td>2.0</td>\n",
                            "      <td>22075.20</td>\n",
                            "      <td>17280.0</td>\n",
                            "      <td>025243</td>\n",
                            "    </tr>\n",
                            "    <tr>\n",
                            "      <th>2</th>\n",
                            "      <td>2021-05-12</td>\n",
                            "      <td>11.0</td>\n",
                            "      <td>20.0</td>\n",
                            "      <td>135.0</td>\n",
                            "      <td>172374.90</td>\n",
                            "      <td>232776.0</td>\n",
                            "      <td>080112</td>\n",
                            "      <td>1.0</td>\n",
                            "      <td>1.0</td>\n",
                            "      <td>12.0</td>\n",
                            "      <td>16655.10</td>\n",
                            "      <td>13860.0</td>\n",
                            "      <td>012919</td>\n",
                            "    </tr>\n",
                            "    <tr>\n",
                            "      <th>3</th>\n",
                            "      <td>2021-05-13</td>\n",
                            "      <td>0.0</td>\n",
                            "      <td>0.0</td>\n",
                            "      <td>0.0</td>\n",
                            "      <td>0.00</td>\n",
                            "      <td>0.0</td>\n",
                            "      <td>0</td>\n",
                            "      <td>0.0</td>\n",
                            "      <td>0.0</td>\n",
                            "      <td>0.0</td>\n",
                            "      <td>0.00</td>\n",
                            "      <td>0.0</td>\n",
                            "      <td>0</td>\n",
                            "    </tr>\n",
                            "    <tr>\n",
                            "      <th>4</th>\n",
                            "      <td>2021-05-14</td>\n",
                            "      <td>2.0</td>\n",
                            "      <td>11.0</td>\n",
                            "      <td>34.0</td>\n",
                            "      <td>16479.23</td>\n",
                            "      <td>12065.0</td>\n",
                            "      <td>081753</td>\n",
                            "      <td>1.0</td>\n",
                            "      <td>8.0</td>\n",
                            "      <td>29.0</td>\n",
                            "      <td>15979.23</td>\n",
                            "      <td>12060.0</td>\n",
                            "      <td>081235</td>\n",
                            "    </tr>\n",
                            "    <tr>\n",
                            "      <th>...</th>\n",
                            "      <td>...</td>\n",
                            "      <td>...</td>\n",
                            "      <td>...</td>\n",
                            "      <td>...</td>\n",
                            "      <td>...</td>\n",
                            "      <td>...</td>\n",
                            "      <td>...</td>\n",
                            "      <td>...</td>\n",
                            "      <td>...</td>\n",
                            "      <td>...</td>\n",
                            "      <td>...</td>\n",
                            "      <td>...</td>\n",
                            "      <td>...</td>\n",
                            "    </tr>\n",
                            "    <tr>\n",
                            "      <th>102</th>\n",
                            "      <td>2021-08-20</td>\n",
                            "      <td>0.0</td>\n",
                            "      <td>0.0</td>\n",
                            "      <td>0.0</td>\n",
                            "      <td>0.00</td>\n",
                            "      <td>0.0</td>\n",
                            "      <td>0</td>\n",
                            "      <td>0.0</td>\n",
                            "      <td>0.0</td>\n",
                            "      <td>0.0</td>\n",
                            "      <td>0.00</td>\n",
                            "      <td>0.0</td>\n",
                            "      <td>0</td>\n",
                            "    </tr>\n",
                            "    <tr>\n",
                            "      <th>103</th>\n",
                            "      <td>2021-08-21</td>\n",
                            "      <td>0.0</td>\n",
                            "      <td>0.0</td>\n",
                            "      <td>0.0</td>\n",
                            "      <td>0.00</td>\n",
                            "      <td>0.0</td>\n",
                            "      <td>0</td>\n",
                            "      <td>0.0</td>\n",
                            "      <td>0.0</td>\n",
                            "      <td>0.0</td>\n",
                            "      <td>0.00</td>\n",
                            "      <td>0.0</td>\n",
                            "      <td>0</td>\n",
                            "    </tr>\n",
                            "    <tr>\n",
                            "      <th>104</th>\n",
                            "      <td>2021-08-22</td>\n",
                            "      <td>0.0</td>\n",
                            "      <td>0.0</td>\n",
                            "      <td>0.0</td>\n",
                            "      <td>0.00</td>\n",
                            "      <td>0.0</td>\n",
                            "      <td>0</td>\n",
                            "      <td>0.0</td>\n",
                            "      <td>0.0</td>\n",
                            "      <td>0.0</td>\n",
                            "      <td>0.00</td>\n",
                            "      <td>0.0</td>\n",
                            "      <td>0</td>\n",
                            "    </tr>\n",
                            "    <tr>\n",
                            "      <th>105</th>\n",
                            "      <td>2021-08-23</td>\n",
                            "      <td>11.0</td>\n",
                            "      <td>12.0</td>\n",
                            "      <td>0.0</td>\n",
                            "      <td>2629700.40</td>\n",
                            "      <td>209580.0</td>\n",
                            "      <td>033211</td>\n",
                            "      <td>1.0</td>\n",
                            "      <td>1.0</td>\n",
                            "      <td>0.0</td>\n",
                            "      <td>199861.20</td>\n",
                            "      <td>13860.0</td>\n",
                            "      <td>032128</td>\n",
                            "    </tr>\n",
                            "    <tr>\n",
                            "      <th>106</th>\n",
                            "      <td>2021-08-24</td>\n",
                            "      <td>8.0</td>\n",
                            "      <td>9.0</td>\n",
                            "      <td>0.0</td>\n",
                            "      <td>3278888.40</td>\n",
                            "      <td>189120.0</td>\n",
                            "      <td>064314</td>\n",
                            "      <td>1.0</td>\n",
                            "      <td>1.0</td>\n",
                            "      <td>0.0</td>\n",
                            "      <td>1044810.00</td>\n",
                            "      <td>73320.0</td>\n",
                            "      <td>063559</td>\n",
                            "    </tr>\n",
                            "  </tbody>\n",
                            "</table>\n",
                            "<p>107 rows × 13 columns</p>\n",
                            "</div>"
                        ]
                    },
                    "metadata": {},
                    "execution_count": 51
                }
            ],
            "metadata": {}
        },
        {
            "cell_type": "code",
            "execution_count": 52,
            "source": [
                "def span_mani(train_fin, train_first): \r\n",
                "    # train_full['creat_time_first'] = ''\r\n",
                "    train_fin['span_first'] = train_fin[\r\n",
                "        'creat_time_first'\r\n",
                "        ].str.slice(1,2).fillna(\r\n",
                "            0\r\n",
                "            ).astype(int, errors = 'ignore') + train_fin['creat_time_first'].str.slice(2,4).fillna(\r\n",
                "                0\r\n",
                "                ).astype(int, errors = 'ignore')/60*1 + 8\r\n",
                "\r\n",
                "    # # train_full['creat_time_x']\r\n",
                "    # train_first['span_full'] = train_first['creat_time_full'].str.slice(1,2).astype(int) + \r\n",
                "    #     train_first['creat_time_full'].str.slice(2,4).astype(int)/60*1 + 8\r\n",
                "    train_first['span_first'] = train_first[\r\n",
                "        'creat_time'\r\n",
                "        ].str.slice(1,2).fillna(\r\n",
                "            0\r\n",
                "            ).astype(int, errors = 'ignore') + train_first['creat_time'].str.slice(2,4).fillna(\r\n",
                "                0\r\n",
                "                ).astype(int, errors = 'ignore')/60*1 + 8\r\n",
                "    train_first = train_first.drop('creat_time', axis = 1)\r\n",
                "    return train_fin, train_first"
            ],
            "outputs": [],
            "metadata": {}
        },
        {
            "cell_type": "code",
            "execution_count": 54,
            "source": [
                "train_fin, train_first = span_mani(train_fin, train_first)\r\n",
                "test_fin, test_first   = span_mani(test_fin, test_first) "
            ],
            "outputs": [],
            "metadata": {}
        },
        {
            "cell_type": "code",
            "execution_count": 57,
            "source": [
                "# modeles"
            ],
            "outputs": [],
            "metadata": {}
        },
        {
            "cell_type": "code",
            "execution_count": 42,
            "source": [
                "# from sktime.forecasting.model_selection import temporal_train_test_split\r\n",
                "from sklearn.model_selection import train_test_split\r\n",
                "\r\n",
                "x = train_first \r\n",
                "x['y'] = train_fin['qty_full']\r\n",
                "# x['CREATION_DATE_TIME_STAMP'] = x.index\r\n",
                "x_train, x_test = train_test_split(x, train_size = .75, shuffle = False, random_state = 52943)\r\n",
                "\r\n",
                "cols = [i for i in x.columns if i not in ['y', 'CREATION_DATE_TIME_STAMP']]\r\n"
            ],
            "outputs": [],
            "metadata": {}
        },
        {
            "cell_type": "code",
            "execution_count": 43,
            "source": [
                "%%time\r\n",
                "\r\n",
                "from fbprophet import Prophet\r\n",
                "# df = x[['CREATION_DATE_TIME_STAMP', 'qty']]\r\n",
                "df_naiv = x_train \r\n",
                "df_naiv = df_naiv.rename({'CREATION_DATE_TIME_STAMP' : 'ds'}, axis = 1)\r\n",
                "m = Prophet()\r\n",
                "[m.add_regressor(i) for i in cols]\r\n",
                "\r\n",
                "m.fit(df_naiv)\r\n",
                "\r\n",
                "from sklearn.metrics import mean_absolute_percentage_error\r\n",
                "df_naiv_test = x_test\r\n",
                "df_naiv_test = df_naiv_test.rename({'CREATION_DATE_TIME_STAMP' : 'ds'}, axis = 1)\r\n",
                "# m.predict(x_test)\r\n",
                "mean_absolute_percentage_error(df_naiv_test['y'], m.predict(df_naiv_test)['yhat'])\r\n",
                "# fig = m.plot_components(m.predict(x_test))"
            ],
            "outputs": [
                {
                    "output_type": "stream",
                    "name": "stderr",
                    "text": [
                        "INFO:fbprophet:Disabling daily seasonality. Run prophet with daily_seasonality=True to override this.\n"
                    ]
                },
                {
                    "output_type": "stream",
                    "name": "stdout",
                    "text": [
                        "Wall time: 11.7 s\n"
                    ]
                },
                {
                    "output_type": "execute_result",
                    "data": {
                        "text/plain": [
                            "3.878807837446074e+19"
                        ]
                    },
                    "metadata": {},
                    "execution_count": 43
                }
            ],
            "metadata": {}
        },
        {
            "cell_type": "code",
            "execution_count": null,
            "source": [
                "# m.plot_components(m.predict(df2))\r\n",
                "# plt.show()"
            ],
            "outputs": [],
            "metadata": {}
        },
        {
            "cell_type": "code",
            "execution_count": null,
            "source": [
                "# m.plot(m.predict(df2))\r\n",
                "# plt.show()"
            ],
            "outputs": [],
            "metadata": {}
        },
        {
            "cell_type": "markdown",
            "source": [
                "---"
            ],
            "metadata": {}
        },
        {
            "cell_type": "markdown",
            "source": [
                "# pseudo labeling"
            ],
            "metadata": {}
        },
        {
            "cell_type": "code",
            "execution_count": 58,
            "source": [
                "def labeling_mani(train_first, train_full):\r\n",
                "    train_first['dif'] = train_first['qty'] - train_full['qty'] != 0\r\n",
                "    train_first['dif'] = [1 if i == True else 0 for i in train_first['dif']]\r\n",
                "\r\n",
                "    train_full['dif'] = train_first['qty'] - train_full['qty'] != 0\r\n",
                "    train_full['dif'] = [1 if i == True else 0 for i in train_full['dif']]\r\n",
                "    return train_first , train_full\r\n",
                "# train_full['diff'] = train_full['qty_x'] - train_full['qty_y'] ==  0\r\n",
                "# train_full['diff'] = [1 if i == True else 0 for i in train_full['diff']]\r\n",
                "# train_full = train_full.asfreq('D')"
            ],
            "outputs": [],
            "metadata": {}
        },
        {
            "cell_type": "code",
            "execution_count": 60,
            "source": [
                "labeling_mani(train_first, train_full)\r\n",
                "test_first, test_full = labeling_mani(test_first, test_full)"
            ],
            "outputs": [],
            "metadata": {}
        },
        {
            "cell_type": "code",
            "execution_count": 45,
            "source": [
                "x = train_first.drop('y', axis  =1 )\r\n",
                "x_train, x_test = train_test_split(x, train_size = .75, shuffle = False, random_state = -1)\r\n"
            ],
            "outputs": [],
            "metadata": {}
        },
        {
            "cell_type": "code",
            "execution_count": 46,
            "source": [
                "%%time\r\n",
                "from fbprophet import Prophet \r\n",
                "df_lb = x_train \r\n",
                "\r\n",
                "## qty_x s是最终预测值, 所以要drop\r\n",
                "cols_lb = [i for i in df_lb.columns \r\n",
                "    if i not in ['dif', 'CREATION_DATE_TIME_STAMP']]\r\n",
                "\r\n",
                "# df_lb = df_lb.drop(['creat_time_x','creat_time_y', 'qty_x'], axis =1 )\r\n",
                "df_lb = df_lb.rename({'CREATION_DATE_TIME_STAMP' : 'ds', 'dif': 'y'}, axis = 1)\r\n",
                "m = Prophet(daily_seasonality=True) \r\n",
                "\r\n",
                "\"\"\"\r\n",
                "0.12379144878303337 daily_seasonality=True; empty 0.12318682390845224\r\n",
                "\"\"\"\r\n",
                "\r\n",
                "\r\n",
                "[m.add_regressor(i) for i in cols_lb]\r\n",
                "\r\n",
                "m.fit(df_lb)\r\n",
                "\r\n",
                "# ?mean_absolute_percentage_error\r\n",
                "from sktime.performance_metrics.forecasting import  mean_absolute_percentage_error\r\n",
                "from sktime.performance_metrics.forecasting import mean_absolute_error\r\n",
                "from sklearn.metrics import accuracy_score\r\n",
                "\r\n",
                "# x_test1 = x_test.drop(['dif'], axis =1 )\r\n",
                "x_test1 = x_test.rename({'CREATION_DATE_TIME_STAMP' : 'ds', 'dif': 'y'}, axis = 1)\r\n",
                " \r\n",
                "# m.predict(x_test)\r\n",
                "forecast = m.predict(x_test1)\r\n",
                "mean_absolute_error(x_test1['y'], m.predict(x_test1)['yhat'])\r\n",
                "# fig = m.plot_components(m.predict(x_test))"
            ],
            "outputs": [
                {
                    "output_type": "stream",
                    "name": "stdout",
                    "text": [
                        "Wall time: 9.72 s\n"
                    ]
                },
                {
                    "output_type": "execute_result",
                    "data": {
                        "text/plain": [
                            "0.12379144878303337"
                        ]
                    },
                    "metadata": {},
                    "execution_count": 46
                }
            ],
            "metadata": {}
        },
        {
            "cell_type": "code",
            "execution_count": 47,
            "source": [
                "# # %%warning = False\r\n",
                "# from prophet.plot import plot_plotly, plot_components_plotly\r\n",
                "# plot_plotly(m, forecast)\r\n",
                " "
            ],
            "outputs": [],
            "metadata": {}
        },
        {
            "cell_type": "code",
            "execution_count": 48,
            "source": [
                "lb_prophet_result = pd.DataFrame(forecast['yhat'])\r\n",
                "lb_prophet_result['abs_diff'] = np.abs(forecast['yhat'] - .5)\r\n",
                "lb_prophet_result.sort_values('abs_diff').iloc[0,0]"
            ],
            "outputs": [
                {
                    "output_type": "execute_result",
                    "data": {
                        "text/plain": [
                            "0.7434468844249535"
                        ]
                    },
                    "metadata": {},
                    "execution_count": 48
                }
            ],
            "metadata": {}
        },
        {
            "cell_type": "code",
            "execution_count": 49,
            "source": [
                "acc_score_data  = [1 if i>=lb_prophet_result['yhat'].mean() \\\r\n",
                "    else 0 for i in forecast['yhat']]\r\n",
                "\r\n",
                "acc_score_data1 = [1 if i>=lb_prophet_result.sort_values('abs_diff').iloc[0,0] \\\r\n",
                "    else 0 for i in forecast['yhat']]\r\n",
                "    \r\n",
                "acc_score_data2 = [1 if i>lb_prophet_result['yhat'].std() \\\r\n",
                "    else 0 for i in forecast['yhat']]\r\n",
                "\r\n",
                "# mean_absolute_error(x_test1['y'], m.predict(x_test1)['yhat'])\r\n",
                "[accuracy_score(x_test1['y'],i) for i in [acc_score_data, acc_score_data1, acc_score_data2]]\r\n"
            ],
            "outputs": [
                {
                    "output_type": "execute_result",
                    "data": {
                        "text/plain": [
                            "[0.9161676646706587, 0.9161676646706587, 0.9161676646706587]"
                        ]
                    },
                    "metadata": {},
                    "execution_count": 49
                }
            ],
            "metadata": {}
        },
        {
            "cell_type": "markdown",
            "source": [
                "### pred 2 the id number predicting:"
            ],
            "metadata": {}
        },
        {
            "cell_type": "code",
            "execution_count": 119,
            "source": [
                "# pred 2 the id number predicting:\r\n",
                "id_cnt_train = train_first.copy()\r\n",
                "id_cnt_train = id_cnt_train[id_cnt_train['dif'] != 0]\r\n",
                "id_cnt_train['y'] = train_full['id']\r\n",
                "\"\"\"\r\n",
                "[4.806768544455207, 1.1680515078598923]\r\n",
                "[7.133413104312447, 0.6253522370101863]  # id\r\n",
                "\"\"\"\r\n",
                "# id_cnt_train['y'] = train_full['line_sum']\r\n",
                "\r\n",
                "\"\"\"\r\n",
                "[16.60773539220494, 0.6975939132491072] # line_sum\r\n",
                "\"\"\"\r\n",
                "id_cnt_train"
            ],
            "outputs": [
                {
                    "output_type": "execute_result",
                    "data": {
                        "text/plain": [
                            "     CREATION_DATE_TIME_STAMP   id  line_sum  container_sum    weight  \\\n",
                            "1                  2017-09-12  1.0       1.0           19.0  18600.00   \n",
                            "2                  2017-09-13  1.0       1.0            1.0    100.00   \n",
                            "3                  2017-09-14  1.0       1.0            9.0   8000.00   \n",
                            "4                  2017-09-15  1.0       2.0           13.0  12525.00   \n",
                            "7                  2017-09-18  1.0       1.0            1.0      0.00   \n",
                            "...                       ...  ...       ...            ...       ...   \n",
                            "1309               2021-04-12  1.0       3.0           25.0  16244.00   \n",
                            "1310               2021-04-13  1.0       1.0            1.0  17186.40   \n",
                            "1313               2021-04-16  1.0       2.0           14.0   7963.50   \n",
                            "1322               2021-04-25  1.0       3.0           18.0  18486.72   \n",
                            "1327               2021-04-30  1.0       1.0            1.0  17269.56   \n",
                            "\n",
                            "          qty  span_first     y  dif  \n",
                            "1       744.0   13.116667   9.0    1  \n",
                            "2         4.0    9.366667   6.0    1  \n",
                            "3      6000.0    8.400000  11.0    1  \n",
                            "4       501.0    9.783333   4.0    1  \n",
                            "7       600.0    8.966667  16.0    1  \n",
                            "...       ...         ...   ...  ...  \n",
                            "1309   9600.0   16.166667  11.0    1  \n",
                            "1310  16632.0    8.766667  13.0    1  \n",
                            "1313   4680.0   11.766667  12.0    1  \n",
                            "1322  24192.0   15.983333   6.0    1  \n",
                            "1327  16632.0   12.866667   6.0    1  \n",
                            "\n",
                            "[832 rows x 9 columns]"
                        ],
                        "text/html": [
                            "<div>\n",
                            "<style scoped>\n",
                            "    .dataframe tbody tr th:only-of-type {\n",
                            "        vertical-align: middle;\n",
                            "    }\n",
                            "\n",
                            "    .dataframe tbody tr th {\n",
                            "        vertical-align: top;\n",
                            "    }\n",
                            "\n",
                            "    .dataframe thead th {\n",
                            "        text-align: right;\n",
                            "    }\n",
                            "</style>\n",
                            "<table border=\"1\" class=\"dataframe\">\n",
                            "  <thead>\n",
                            "    <tr style=\"text-align: right;\">\n",
                            "      <th></th>\n",
                            "      <th>CREATION_DATE_TIME_STAMP</th>\n",
                            "      <th>id</th>\n",
                            "      <th>line_sum</th>\n",
                            "      <th>container_sum</th>\n",
                            "      <th>weight</th>\n",
                            "      <th>qty</th>\n",
                            "      <th>span_first</th>\n",
                            "      <th>y</th>\n",
                            "      <th>dif</th>\n",
                            "    </tr>\n",
                            "  </thead>\n",
                            "  <tbody>\n",
                            "    <tr>\n",
                            "      <th>1</th>\n",
                            "      <td>2017-09-12</td>\n",
                            "      <td>1.0</td>\n",
                            "      <td>1.0</td>\n",
                            "      <td>19.0</td>\n",
                            "      <td>18600.00</td>\n",
                            "      <td>744.0</td>\n",
                            "      <td>13.116667</td>\n",
                            "      <td>9.0</td>\n",
                            "      <td>1</td>\n",
                            "    </tr>\n",
                            "    <tr>\n",
                            "      <th>2</th>\n",
                            "      <td>2017-09-13</td>\n",
                            "      <td>1.0</td>\n",
                            "      <td>1.0</td>\n",
                            "      <td>1.0</td>\n",
                            "      <td>100.00</td>\n",
                            "      <td>4.0</td>\n",
                            "      <td>9.366667</td>\n",
                            "      <td>6.0</td>\n",
                            "      <td>1</td>\n",
                            "    </tr>\n",
                            "    <tr>\n",
                            "      <th>3</th>\n",
                            "      <td>2017-09-14</td>\n",
                            "      <td>1.0</td>\n",
                            "      <td>1.0</td>\n",
                            "      <td>9.0</td>\n",
                            "      <td>8000.00</td>\n",
                            "      <td>6000.0</td>\n",
                            "      <td>8.400000</td>\n",
                            "      <td>11.0</td>\n",
                            "      <td>1</td>\n",
                            "    </tr>\n",
                            "    <tr>\n",
                            "      <th>4</th>\n",
                            "      <td>2017-09-15</td>\n",
                            "      <td>1.0</td>\n",
                            "      <td>2.0</td>\n",
                            "      <td>13.0</td>\n",
                            "      <td>12525.00</td>\n",
                            "      <td>501.0</td>\n",
                            "      <td>9.783333</td>\n",
                            "      <td>4.0</td>\n",
                            "      <td>1</td>\n",
                            "    </tr>\n",
                            "    <tr>\n",
                            "      <th>7</th>\n",
                            "      <td>2017-09-18</td>\n",
                            "      <td>1.0</td>\n",
                            "      <td>1.0</td>\n",
                            "      <td>1.0</td>\n",
                            "      <td>0.00</td>\n",
                            "      <td>600.0</td>\n",
                            "      <td>8.966667</td>\n",
                            "      <td>16.0</td>\n",
                            "      <td>1</td>\n",
                            "    </tr>\n",
                            "    <tr>\n",
                            "      <th>...</th>\n",
                            "      <td>...</td>\n",
                            "      <td>...</td>\n",
                            "      <td>...</td>\n",
                            "      <td>...</td>\n",
                            "      <td>...</td>\n",
                            "      <td>...</td>\n",
                            "      <td>...</td>\n",
                            "      <td>...</td>\n",
                            "      <td>...</td>\n",
                            "    </tr>\n",
                            "    <tr>\n",
                            "      <th>1309</th>\n",
                            "      <td>2021-04-12</td>\n",
                            "      <td>1.0</td>\n",
                            "      <td>3.0</td>\n",
                            "      <td>25.0</td>\n",
                            "      <td>16244.00</td>\n",
                            "      <td>9600.0</td>\n",
                            "      <td>16.166667</td>\n",
                            "      <td>11.0</td>\n",
                            "      <td>1</td>\n",
                            "    </tr>\n",
                            "    <tr>\n",
                            "      <th>1310</th>\n",
                            "      <td>2021-04-13</td>\n",
                            "      <td>1.0</td>\n",
                            "      <td>1.0</td>\n",
                            "      <td>1.0</td>\n",
                            "      <td>17186.40</td>\n",
                            "      <td>16632.0</td>\n",
                            "      <td>8.766667</td>\n",
                            "      <td>13.0</td>\n",
                            "      <td>1</td>\n",
                            "    </tr>\n",
                            "    <tr>\n",
                            "      <th>1313</th>\n",
                            "      <td>2021-04-16</td>\n",
                            "      <td>1.0</td>\n",
                            "      <td>2.0</td>\n",
                            "      <td>14.0</td>\n",
                            "      <td>7963.50</td>\n",
                            "      <td>4680.0</td>\n",
                            "      <td>11.766667</td>\n",
                            "      <td>12.0</td>\n",
                            "      <td>1</td>\n",
                            "    </tr>\n",
                            "    <tr>\n",
                            "      <th>1322</th>\n",
                            "      <td>2021-04-25</td>\n",
                            "      <td>1.0</td>\n",
                            "      <td>3.0</td>\n",
                            "      <td>18.0</td>\n",
                            "      <td>18486.72</td>\n",
                            "      <td>24192.0</td>\n",
                            "      <td>15.983333</td>\n",
                            "      <td>6.0</td>\n",
                            "      <td>1</td>\n",
                            "    </tr>\n",
                            "    <tr>\n",
                            "      <th>1327</th>\n",
                            "      <td>2021-04-30</td>\n",
                            "      <td>1.0</td>\n",
                            "      <td>1.0</td>\n",
                            "      <td>1.0</td>\n",
                            "      <td>17269.56</td>\n",
                            "      <td>16632.0</td>\n",
                            "      <td>12.866667</td>\n",
                            "      <td>6.0</td>\n",
                            "      <td>1</td>\n",
                            "    </tr>\n",
                            "  </tbody>\n",
                            "</table>\n",
                            "<p>832 rows × 9 columns</p>\n",
                            "</div>"
                        ]
                    },
                    "metadata": {},
                    "execution_count": 119
                }
            ],
            "metadata": {}
        },
        {
            "cell_type": "code",
            "execution_count": 120,
            "source": [
                "id_cnt_train"
            ],
            "outputs": [
                {
                    "output_type": "execute_result",
                    "data": {
                        "text/plain": [
                            "     CREATION_DATE_TIME_STAMP   id  line_sum  container_sum    weight  \\\n",
                            "1                  2017-09-12  1.0       1.0           19.0  18600.00   \n",
                            "2                  2017-09-13  1.0       1.0            1.0    100.00   \n",
                            "3                  2017-09-14  1.0       1.0            9.0   8000.00   \n",
                            "4                  2017-09-15  1.0       2.0           13.0  12525.00   \n",
                            "7                  2017-09-18  1.0       1.0            1.0      0.00   \n",
                            "...                       ...  ...       ...            ...       ...   \n",
                            "1309               2021-04-12  1.0       3.0           25.0  16244.00   \n",
                            "1310               2021-04-13  1.0       1.0            1.0  17186.40   \n",
                            "1313               2021-04-16  1.0       2.0           14.0   7963.50   \n",
                            "1322               2021-04-25  1.0       3.0           18.0  18486.72   \n",
                            "1327               2021-04-30  1.0       1.0            1.0  17269.56   \n",
                            "\n",
                            "          qty  span_first     y  dif  \n",
                            "1       744.0   13.116667   9.0    1  \n",
                            "2         4.0    9.366667   6.0    1  \n",
                            "3      6000.0    8.400000  11.0    1  \n",
                            "4       501.0    9.783333   4.0    1  \n",
                            "7       600.0    8.966667  16.0    1  \n",
                            "...       ...         ...   ...  ...  \n",
                            "1309   9600.0   16.166667  11.0    1  \n",
                            "1310  16632.0    8.766667  13.0    1  \n",
                            "1313   4680.0   11.766667  12.0    1  \n",
                            "1322  24192.0   15.983333   6.0    1  \n",
                            "1327  16632.0   12.866667   6.0    1  \n",
                            "\n",
                            "[832 rows x 9 columns]"
                        ],
                        "text/html": [
                            "<div>\n",
                            "<style scoped>\n",
                            "    .dataframe tbody tr th:only-of-type {\n",
                            "        vertical-align: middle;\n",
                            "    }\n",
                            "\n",
                            "    .dataframe tbody tr th {\n",
                            "        vertical-align: top;\n",
                            "    }\n",
                            "\n",
                            "    .dataframe thead th {\n",
                            "        text-align: right;\n",
                            "    }\n",
                            "</style>\n",
                            "<table border=\"1\" class=\"dataframe\">\n",
                            "  <thead>\n",
                            "    <tr style=\"text-align: right;\">\n",
                            "      <th></th>\n",
                            "      <th>CREATION_DATE_TIME_STAMP</th>\n",
                            "      <th>id</th>\n",
                            "      <th>line_sum</th>\n",
                            "      <th>container_sum</th>\n",
                            "      <th>weight</th>\n",
                            "      <th>qty</th>\n",
                            "      <th>span_first</th>\n",
                            "      <th>y</th>\n",
                            "      <th>dif</th>\n",
                            "    </tr>\n",
                            "  </thead>\n",
                            "  <tbody>\n",
                            "    <tr>\n",
                            "      <th>1</th>\n",
                            "      <td>2017-09-12</td>\n",
                            "      <td>1.0</td>\n",
                            "      <td>1.0</td>\n",
                            "      <td>19.0</td>\n",
                            "      <td>18600.00</td>\n",
                            "      <td>744.0</td>\n",
                            "      <td>13.116667</td>\n",
                            "      <td>9.0</td>\n",
                            "      <td>1</td>\n",
                            "    </tr>\n",
                            "    <tr>\n",
                            "      <th>2</th>\n",
                            "      <td>2017-09-13</td>\n",
                            "      <td>1.0</td>\n",
                            "      <td>1.0</td>\n",
                            "      <td>1.0</td>\n",
                            "      <td>100.00</td>\n",
                            "      <td>4.0</td>\n",
                            "      <td>9.366667</td>\n",
                            "      <td>6.0</td>\n",
                            "      <td>1</td>\n",
                            "    </tr>\n",
                            "    <tr>\n",
                            "      <th>3</th>\n",
                            "      <td>2017-09-14</td>\n",
                            "      <td>1.0</td>\n",
                            "      <td>1.0</td>\n",
                            "      <td>9.0</td>\n",
                            "      <td>8000.00</td>\n",
                            "      <td>6000.0</td>\n",
                            "      <td>8.400000</td>\n",
                            "      <td>11.0</td>\n",
                            "      <td>1</td>\n",
                            "    </tr>\n",
                            "    <tr>\n",
                            "      <th>4</th>\n",
                            "      <td>2017-09-15</td>\n",
                            "      <td>1.0</td>\n",
                            "      <td>2.0</td>\n",
                            "      <td>13.0</td>\n",
                            "      <td>12525.00</td>\n",
                            "      <td>501.0</td>\n",
                            "      <td>9.783333</td>\n",
                            "      <td>4.0</td>\n",
                            "      <td>1</td>\n",
                            "    </tr>\n",
                            "    <tr>\n",
                            "      <th>7</th>\n",
                            "      <td>2017-09-18</td>\n",
                            "      <td>1.0</td>\n",
                            "      <td>1.0</td>\n",
                            "      <td>1.0</td>\n",
                            "      <td>0.00</td>\n",
                            "      <td>600.0</td>\n",
                            "      <td>8.966667</td>\n",
                            "      <td>16.0</td>\n",
                            "      <td>1</td>\n",
                            "    </tr>\n",
                            "    <tr>\n",
                            "      <th>...</th>\n",
                            "      <td>...</td>\n",
                            "      <td>...</td>\n",
                            "      <td>...</td>\n",
                            "      <td>...</td>\n",
                            "      <td>...</td>\n",
                            "      <td>...</td>\n",
                            "      <td>...</td>\n",
                            "      <td>...</td>\n",
                            "      <td>...</td>\n",
                            "    </tr>\n",
                            "    <tr>\n",
                            "      <th>1309</th>\n",
                            "      <td>2021-04-12</td>\n",
                            "      <td>1.0</td>\n",
                            "      <td>3.0</td>\n",
                            "      <td>25.0</td>\n",
                            "      <td>16244.00</td>\n",
                            "      <td>9600.0</td>\n",
                            "      <td>16.166667</td>\n",
                            "      <td>11.0</td>\n",
                            "      <td>1</td>\n",
                            "    </tr>\n",
                            "    <tr>\n",
                            "      <th>1310</th>\n",
                            "      <td>2021-04-13</td>\n",
                            "      <td>1.0</td>\n",
                            "      <td>1.0</td>\n",
                            "      <td>1.0</td>\n",
                            "      <td>17186.40</td>\n",
                            "      <td>16632.0</td>\n",
                            "      <td>8.766667</td>\n",
                            "      <td>13.0</td>\n",
                            "      <td>1</td>\n",
                            "    </tr>\n",
                            "    <tr>\n",
                            "      <th>1313</th>\n",
                            "      <td>2021-04-16</td>\n",
                            "      <td>1.0</td>\n",
                            "      <td>2.0</td>\n",
                            "      <td>14.0</td>\n",
                            "      <td>7963.50</td>\n",
                            "      <td>4680.0</td>\n",
                            "      <td>11.766667</td>\n",
                            "      <td>12.0</td>\n",
                            "      <td>1</td>\n",
                            "    </tr>\n",
                            "    <tr>\n",
                            "      <th>1322</th>\n",
                            "      <td>2021-04-25</td>\n",
                            "      <td>1.0</td>\n",
                            "      <td>3.0</td>\n",
                            "      <td>18.0</td>\n",
                            "      <td>18486.72</td>\n",
                            "      <td>24192.0</td>\n",
                            "      <td>15.983333</td>\n",
                            "      <td>6.0</td>\n",
                            "      <td>1</td>\n",
                            "    </tr>\n",
                            "    <tr>\n",
                            "      <th>1327</th>\n",
                            "      <td>2021-04-30</td>\n",
                            "      <td>1.0</td>\n",
                            "      <td>1.0</td>\n",
                            "      <td>1.0</td>\n",
                            "      <td>17269.56</td>\n",
                            "      <td>16632.0</td>\n",
                            "      <td>12.866667</td>\n",
                            "      <td>6.0</td>\n",
                            "      <td>1</td>\n",
                            "    </tr>\n",
                            "  </tbody>\n",
                            "</table>\n",
                            "<p>832 rows × 9 columns</p>\n",
                            "</div>"
                        ]
                    },
                    "metadata": {},
                    "execution_count": 120
                }
            ],
            "metadata": {}
        },
        {
            "cell_type": "code",
            "execution_count": 121,
            "source": [
                "# x = id_cnt_train.drop('y', axis  =1 )\r\n",
                "x_train, x_test = train_test_split(id_cnt_train,\\\r\n",
                "     train_size = .75, shuffle = False, random_state = None)\r\n",
                "\r\n",
                "## qty_x s是最终预测值, 所以要drop\r\n",
                "cols_lb = [i for i in x_train.columns \r\n",
                "    if i not in ['y', 'CREATION_DATE_TIME_STAMP']]\r\n",
                "\r\n",
                "x_train = x_train.rename({'CREATION_DATE_TIME_STAMP' : 'ds'}, axis = 1)\r\n",
                "m2 = Prophet(daily_seasonality=True) \r\n",
                "\r\n",
                "[m2.add_regressor(i) for i in cols_lb]\r\n",
                "\r\n",
                "m2.fit(x_train)"
            ],
            "outputs": [
                {
                    "output_type": "execute_result",
                    "data": {
                        "text/plain": [
                            "<fbprophet.forecaster.Prophet at 0x17606f8ee80>"
                        ]
                    },
                    "metadata": {},
                    "execution_count": 121
                }
            ],
            "metadata": {}
        },
        {
            "cell_type": "code",
            "execution_count": 122,
            "source": [
                "\r\n",
                "# x_test1 = x_test.drop(['dif'], axis =1 )\r\n",
                "x_test1 = x_test.rename({'CREATION_DATE_TIME_STAMP' : 'ds'}, axis = 1)\r\n",
                " \r\n",
                "# m.predict(x_test)\r\n",
                "forecast_2 = m2.predict(x_test1)\r\n",
                "[mean_absolute_error(x_test1['y'], forecast_2['yhat']),\\\r\n",
                "     mean_absolute_percentage_error(x_test1['y'], forecast_2['yhat'])]"
            ],
            "outputs": [
                {
                    "output_type": "execute_result",
                    "data": {
                        "text/plain": [
                            "[7.133413104312447, 0.6253522370101863]"
                        ]
                    },
                    "metadata": {},
                    "execution_count": 122
                }
            ],
            "metadata": {}
        },
        {
            "cell_type": "markdown",
            "source": [
                "# test data validate"
            ],
            "metadata": {}
        },
        {
            "cell_type": "code",
            "execution_count": null,
            "source": [
                "train_all = x\r\n",
                "train_all = train_all.rename({'CREATION_DATE_TIME_STAMP' : 'ds', 'dif': 'y'}, axis = 1)\r\n",
                "m.fit(train_all)"
            ],
            "outputs": [],
            "metadata": {}
        },
        {
            "cell_type": "code",
            "execution_count": 66,
            "source": [
                "# a\r\n",
                "test_all  = test_first.rename({'CREATION_DATE_TIME_STAMP' : 'ds', 'dif': 'y'}, axis = 1)\r\n",
                "test_pred = m.predict(test_all)\r\n",
                " \r\n",
                "mean_absolute_error(test_all['y'], test_pred['yhat'])"
            ],
            "outputs": [
                {
                    "output_type": "execute_result",
                    "data": {
                        "text/plain": [
                            "0.11115463834678584"
                        ]
                    },
                    "metadata": {},
                    "execution_count": 66
                }
            ],
            "metadata": {}
        },
        {
            "cell_type": "code",
            "execution_count": 84,
            "source": [
                "acc_tst = [1 if i>=test_pred['yhat'].mean() \\\r\n",
                "    else 0 for i in test_pred['yhat']]\r\n",
                "accuracy_score(acc_tst, test_all['y'])"
            ],
            "outputs": [
                {
                    "output_type": "execute_result",
                    "data": {
                        "text/plain": [
                            "0.9345794392523364"
                        ]
                    },
                    "metadata": {},
                    "execution_count": 84
                }
            ],
            "metadata": {}
        },
        {
            "cell_type": "code",
            "execution_count": 83,
            "source": [
                "# %%warning = False\r\n",
                "test_pre_p = go.Figure()\r\n",
                "test_pre_p.add_trace(go.Scatter(x = test_all['ds'], \\\r\n",
                "    y = test_all['y'], \r\n",
                "    mode = 'markers',\r\n",
                "    name = 'original_out'))\r\n",
                "test_pre_p.add_trace(go.Scatter(x = test_pred['ds'],\\\r\n",
                "    y = test_pred['yhat'], \r\n",
                "    mode = 'markers',\r\n",
                "    name = 'pred'))\r\n",
                "test_pre_p.show() "
            ],
            "outputs": [
                {
                    "output_type": "display_data",
                    "data": {
                        "application/vnd.plotly.v1+json": {
                            "config": {
                                "plotlyServerURL": "https://plot.ly"
                            },
                            "data": [
                                {
                                    "mode": "markers",
                                    "name": "original_out",
                                    "type": "scatter",
                                    "x": [
                                        "2021-05-10T00:00:00",
                                        "2021-05-11T00:00:00",
                                        "2021-05-12T00:00:00",
                                        "2021-05-13T00:00:00",
                                        "2021-05-14T00:00:00",
                                        "2021-05-15T00:00:00",
                                        "2021-05-16T00:00:00",
                                        "2021-05-17T00:00:00",
                                        "2021-05-18T00:00:00",
                                        "2021-05-19T00:00:00",
                                        "2021-05-20T00:00:00",
                                        "2021-05-21T00:00:00",
                                        "2021-05-22T00:00:00",
                                        "2021-05-23T00:00:00",
                                        "2021-05-24T00:00:00",
                                        "2021-05-25T00:00:00",
                                        "2021-05-26T00:00:00",
                                        "2021-05-27T00:00:00",
                                        "2021-05-28T00:00:00",
                                        "2021-05-29T00:00:00",
                                        "2021-05-30T00:00:00",
                                        "2021-05-31T00:00:00",
                                        "2021-06-01T00:00:00",
                                        "2021-06-02T00:00:00",
                                        "2021-06-03T00:00:00",
                                        "2021-06-04T00:00:00",
                                        "2021-06-05T00:00:00",
                                        "2021-06-06T00:00:00",
                                        "2021-06-07T00:00:00",
                                        "2021-06-08T00:00:00",
                                        "2021-06-09T00:00:00",
                                        "2021-06-10T00:00:00",
                                        "2021-06-11T00:00:00",
                                        "2021-06-12T00:00:00",
                                        "2021-06-13T00:00:00",
                                        "2021-06-14T00:00:00",
                                        "2021-06-15T00:00:00",
                                        "2021-06-16T00:00:00",
                                        "2021-06-17T00:00:00",
                                        "2021-06-18T00:00:00",
                                        "2021-06-19T00:00:00",
                                        "2021-06-20T00:00:00",
                                        "2021-06-21T00:00:00",
                                        "2021-06-22T00:00:00",
                                        "2021-06-23T00:00:00",
                                        "2021-06-24T00:00:00",
                                        "2021-06-25T00:00:00",
                                        "2021-06-26T00:00:00",
                                        "2021-06-27T00:00:00",
                                        "2021-06-28T00:00:00",
                                        "2021-06-29T00:00:00",
                                        "2021-06-30T00:00:00",
                                        "2021-07-01T00:00:00",
                                        "2021-07-02T00:00:00",
                                        "2021-07-03T00:00:00",
                                        "2021-07-04T00:00:00",
                                        "2021-07-05T00:00:00",
                                        "2021-07-06T00:00:00",
                                        "2021-07-07T00:00:00",
                                        "2021-07-08T00:00:00",
                                        "2021-07-09T00:00:00",
                                        "2021-07-10T00:00:00",
                                        "2021-07-11T00:00:00",
                                        "2021-07-12T00:00:00",
                                        "2021-07-13T00:00:00",
                                        "2021-07-14T00:00:00",
                                        "2021-07-15T00:00:00",
                                        "2021-07-16T00:00:00",
                                        "2021-07-17T00:00:00",
                                        "2021-07-18T00:00:00",
                                        "2021-07-19T00:00:00",
                                        "2021-07-20T00:00:00",
                                        "2021-07-21T00:00:00",
                                        "2021-07-22T00:00:00",
                                        "2021-07-23T00:00:00",
                                        "2021-07-24T00:00:00",
                                        "2021-07-25T00:00:00",
                                        "2021-07-26T00:00:00",
                                        "2021-07-27T00:00:00",
                                        "2021-07-28T00:00:00",
                                        "2021-07-29T00:00:00",
                                        "2021-07-30T00:00:00",
                                        "2021-07-31T00:00:00",
                                        "2021-08-01T00:00:00",
                                        "2021-08-02T00:00:00",
                                        "2021-08-03T00:00:00",
                                        "2021-08-04T00:00:00",
                                        "2021-08-05T00:00:00",
                                        "2021-08-06T00:00:00",
                                        "2021-08-07T00:00:00",
                                        "2021-08-08T00:00:00",
                                        "2021-08-09T00:00:00",
                                        "2021-08-10T00:00:00",
                                        "2021-08-11T00:00:00",
                                        "2021-08-12T00:00:00",
                                        "2021-08-13T00:00:00",
                                        "2021-08-14T00:00:00",
                                        "2021-08-15T00:00:00",
                                        "2021-08-16T00:00:00",
                                        "2021-08-17T00:00:00",
                                        "2021-08-18T00:00:00",
                                        "2021-08-19T00:00:00",
                                        "2021-08-20T00:00:00",
                                        "2021-08-21T00:00:00",
                                        "2021-08-22T00:00:00",
                                        "2021-08-23T00:00:00",
                                        "2021-08-24T00:00:00"
                                    ],
                                    "y": [
                                        0,
                                        1,
                                        1,
                                        0,
                                        1,
                                        0,
                                        0,
                                        0,
                                        1,
                                        1,
                                        1,
                                        1,
                                        0,
                                        0,
                                        1,
                                        0,
                                        1,
                                        1,
                                        1,
                                        0,
                                        1,
                                        1,
                                        1,
                                        1,
                                        1,
                                        1,
                                        0,
                                        0,
                                        1,
                                        1,
                                        1,
                                        1,
                                        0,
                                        0,
                                        0,
                                        0,
                                        1,
                                        1,
                                        1,
                                        1,
                                        0,
                                        0,
                                        1,
                                        1,
                                        1,
                                        1,
                                        1,
                                        0,
                                        0,
                                        1,
                                        1,
                                        1,
                                        1,
                                        1,
                                        0,
                                        0,
                                        1,
                                        1,
                                        1,
                                        1,
                                        1,
                                        0,
                                        0,
                                        1,
                                        1,
                                        0,
                                        1,
                                        1,
                                        0,
                                        0,
                                        1,
                                        1,
                                        1,
                                        0,
                                        1,
                                        0,
                                        0,
                                        0,
                                        0,
                                        1,
                                        1,
                                        0,
                                        1,
                                        0,
                                        1,
                                        1,
                                        0,
                                        0,
                                        1,
                                        0,
                                        0,
                                        1,
                                        1,
                                        0,
                                        0,
                                        1,
                                        0,
                                        0,
                                        0,
                                        1,
                                        1,
                                        1,
                                        0,
                                        0,
                                        0,
                                        1,
                                        1
                                    ]
                                },
                                {
                                    "mode": "markers",
                                    "name": "pred",
                                    "type": "scatter",
                                    "x": [
                                        "2021-05-10T00:00:00",
                                        "2021-05-11T00:00:00",
                                        "2021-05-12T00:00:00",
                                        "2021-05-13T00:00:00",
                                        "2021-05-14T00:00:00",
                                        "2021-05-15T00:00:00",
                                        "2021-05-16T00:00:00",
                                        "2021-05-17T00:00:00",
                                        "2021-05-18T00:00:00",
                                        "2021-05-19T00:00:00",
                                        "2021-05-20T00:00:00",
                                        "2021-05-21T00:00:00",
                                        "2021-05-22T00:00:00",
                                        "2021-05-23T00:00:00",
                                        "2021-05-24T00:00:00",
                                        "2021-05-25T00:00:00",
                                        "2021-05-26T00:00:00",
                                        "2021-05-27T00:00:00",
                                        "2021-05-28T00:00:00",
                                        "2021-05-29T00:00:00",
                                        "2021-05-30T00:00:00",
                                        "2021-05-31T00:00:00",
                                        "2021-06-01T00:00:00",
                                        "2021-06-02T00:00:00",
                                        "2021-06-03T00:00:00",
                                        "2021-06-04T00:00:00",
                                        "2021-06-05T00:00:00",
                                        "2021-06-06T00:00:00",
                                        "2021-06-07T00:00:00",
                                        "2021-06-08T00:00:00",
                                        "2021-06-09T00:00:00",
                                        "2021-06-10T00:00:00",
                                        "2021-06-11T00:00:00",
                                        "2021-06-12T00:00:00",
                                        "2021-06-13T00:00:00",
                                        "2021-06-14T00:00:00",
                                        "2021-06-15T00:00:00",
                                        "2021-06-16T00:00:00",
                                        "2021-06-17T00:00:00",
                                        "2021-06-18T00:00:00",
                                        "2021-06-19T00:00:00",
                                        "2021-06-20T00:00:00",
                                        "2021-06-21T00:00:00",
                                        "2021-06-22T00:00:00",
                                        "2021-06-23T00:00:00",
                                        "2021-06-24T00:00:00",
                                        "2021-06-25T00:00:00",
                                        "2021-06-26T00:00:00",
                                        "2021-06-27T00:00:00",
                                        "2021-06-28T00:00:00",
                                        "2021-06-29T00:00:00",
                                        "2021-06-30T00:00:00",
                                        "2021-07-01T00:00:00",
                                        "2021-07-02T00:00:00",
                                        "2021-07-03T00:00:00",
                                        "2021-07-04T00:00:00",
                                        "2021-07-05T00:00:00",
                                        "2021-07-06T00:00:00",
                                        "2021-07-07T00:00:00",
                                        "2021-07-08T00:00:00",
                                        "2021-07-09T00:00:00",
                                        "2021-07-10T00:00:00",
                                        "2021-07-11T00:00:00",
                                        "2021-07-12T00:00:00",
                                        "2021-07-13T00:00:00",
                                        "2021-07-14T00:00:00",
                                        "2021-07-15T00:00:00",
                                        "2021-07-16T00:00:00",
                                        "2021-07-17T00:00:00",
                                        "2021-07-18T00:00:00",
                                        "2021-07-19T00:00:00",
                                        "2021-07-20T00:00:00",
                                        "2021-07-21T00:00:00",
                                        "2021-07-22T00:00:00",
                                        "2021-07-23T00:00:00",
                                        "2021-07-24T00:00:00",
                                        "2021-07-25T00:00:00",
                                        "2021-07-26T00:00:00",
                                        "2021-07-27T00:00:00",
                                        "2021-07-28T00:00:00",
                                        "2021-07-29T00:00:00",
                                        "2021-07-30T00:00:00",
                                        "2021-07-31T00:00:00",
                                        "2021-08-01T00:00:00",
                                        "2021-08-02T00:00:00",
                                        "2021-08-03T00:00:00",
                                        "2021-08-04T00:00:00",
                                        "2021-08-05T00:00:00",
                                        "2021-08-06T00:00:00",
                                        "2021-08-07T00:00:00",
                                        "2021-08-08T00:00:00",
                                        "2021-08-09T00:00:00",
                                        "2021-08-10T00:00:00",
                                        "2021-08-11T00:00:00",
                                        "2021-08-12T00:00:00",
                                        "2021-08-13T00:00:00",
                                        "2021-08-14T00:00:00",
                                        "2021-08-15T00:00:00",
                                        "2021-08-16T00:00:00",
                                        "2021-08-17T00:00:00",
                                        "2021-08-18T00:00:00",
                                        "2021-08-19T00:00:00",
                                        "2021-08-20T00:00:00",
                                        "2021-08-21T00:00:00",
                                        "2021-08-22T00:00:00",
                                        "2021-08-23T00:00:00",
                                        "2021-08-24T00:00:00"
                                    ],
                                    "y": [
                                        0.890987944143864,
                                        0.9958786055992702,
                                        1.024289141969869,
                                        0.08847325347481709,
                                        0.8673710448026282,
                                        0.01143087337927098,
                                        0.0017912204752739032,
                                        0.09848843167132379,
                                        1.0185774817767217,
                                        0.8901954689614389,
                                        0.9804887662486211,
                                        0.8976272463035161,
                                        -0.006427688103782914,
                                        -0.01611654153640705,
                                        0.9793128260986,
                                        0.09488430352271841,
                                        0.913014535874984,
                                        0.9207805873909892,
                                        0.8313851513592241,
                                        -0.015719096531061336,
                                        0.8926386549299268,
                                        0.8873456922769135,
                                        0.8632047785847162,
                                        0.9790666929096596,
                                        0.8713594723582656,
                                        0.9261899435474515,
                                        -0.0075937328526142385,
                                        -0.012813087169826973,
                                        0.9442072207462983,
                                        0.9761317831209143,
                                        0.9180196273043686,
                                        0.9035302820033108,
                                        0.9106921931635438,
                                        0.008949797463514979,
                                        0.0037810418263802097,
                                        0.10505246461415549,
                                        0.9835906165599267,
                                        1.0300628984752391,
                                        0.8767279473069529,
                                        0.9626804657253396,
                                        0.021241654761094134,
                                        0.01484874091633092,
                                        1.0514934575791643,
                                        0.9458409716066281,
                                        1.0515297725351733,
                                        0.9235994941820681,
                                        1.0130742250620957,
                                        0.024238759203528294,
                                        0.01652777001616435,
                                        0.9300186888268518,
                                        0.9925009741664566,
                                        0.9973999948925792,
                                        0.9260229889820027,
                                        0.9636241031174884,
                                        0.01860891224214542,
                                        0.009764582183045174,
                                        1.0065168757147234,
                                        0.9024386893379889,
                                        1.014846167406886,
                                        0.9716244680405008,
                                        0.9600196680446647,
                                        0.00568517363926346,
                                        -0.003982450347410602,
                                        0.9825328486219059,
                                        0.9565722790673383,
                                        0.9839537852315514,
                                        0.9476789610687942,
                                        0.9558418461506989,
                                        -0.009914833340249441,
                                        -0.019140032998754178,
                                        0.8500119534747624,
                                        0.8778995055244575,
                                        0.9596954346388057,
                                        0.8279707136766907,
                                        0.9357132528698144,
                                        -0.016330393349718687,
                                        -0.02309449458772976,
                                        0.07718122023570567,
                                        0.09435193258674118,
                                        0.9192816222245278,
                                        0.8928101463979621,
                                        0.0666957109409983,
                                        0.8989026724276928,
                                        -0.005644680902641936,
                                        0.89272351871253,
                                        0.9083080437902543,
                                        0.9358530253089647,
                                        0.9877694439154657,
                                        0.9638066996897554,
                                        0.028965720641344544,
                                        0.026162772295421764,
                                        0.93061844857804,
                                        1.045504990382207,
                                        0.9221905922394723,
                                        0.12275183687415582,
                                        1.0185182675772502,
                                        0.05432998333413173,
                                        0.04863924923744103,
                                        0.1489014847736267,
                                        1.060044150204366,
                                        1.0309763061897559,
                                        1.0264469656481932,
                                        0.12732135025040575,
                                        0.05323784257138201,
                                        0.04334672031538113,
                                        0.982914063868452,
                                        0.881033181944733
                                    ]
                                }
                            ],
                            "layout": {
                                "template": {
                                    "data": {
                                        "bar": [
                                            {
                                                "error_x": {
                                                    "color": "#2a3f5f"
                                                },
                                                "error_y": {
                                                    "color": "#2a3f5f"
                                                },
                                                "marker": {
                                                    "line": {
                                                        "color": "#E5ECF6",
                                                        "width": 0.5
                                                    }
                                                },
                                                "type": "bar"
                                            }
                                        ],
                                        "barpolar": [
                                            {
                                                "marker": {
                                                    "line": {
                                                        "color": "#E5ECF6",
                                                        "width": 0.5
                                                    }
                                                },
                                                "type": "barpolar"
                                            }
                                        ],
                                        "carpet": [
                                            {
                                                "aaxis": {
                                                    "endlinecolor": "#2a3f5f",
                                                    "gridcolor": "white",
                                                    "linecolor": "white",
                                                    "minorgridcolor": "white",
                                                    "startlinecolor": "#2a3f5f"
                                                },
                                                "baxis": {
                                                    "endlinecolor": "#2a3f5f",
                                                    "gridcolor": "white",
                                                    "linecolor": "white",
                                                    "minorgridcolor": "white",
                                                    "startlinecolor": "#2a3f5f"
                                                },
                                                "type": "carpet"
                                            }
                                        ],
                                        "choropleth": [
                                            {
                                                "colorbar": {
                                                    "outlinewidth": 0,
                                                    "ticks": ""
                                                },
                                                "type": "choropleth"
                                            }
                                        ],
                                        "contour": [
                                            {
                                                "colorbar": {
                                                    "outlinewidth": 0,
                                                    "ticks": ""
                                                },
                                                "colorscale": [
                                                    [
                                                        0,
                                                        "#0d0887"
                                                    ],
                                                    [
                                                        0.1111111111111111,
                                                        "#46039f"
                                                    ],
                                                    [
                                                        0.2222222222222222,
                                                        "#7201a8"
                                                    ],
                                                    [
                                                        0.3333333333333333,
                                                        "#9c179e"
                                                    ],
                                                    [
                                                        0.4444444444444444,
                                                        "#bd3786"
                                                    ],
                                                    [
                                                        0.5555555555555556,
                                                        "#d8576b"
                                                    ],
                                                    [
                                                        0.6666666666666666,
                                                        "#ed7953"
                                                    ],
                                                    [
                                                        0.7777777777777778,
                                                        "#fb9f3a"
                                                    ],
                                                    [
                                                        0.8888888888888888,
                                                        "#fdca26"
                                                    ],
                                                    [
                                                        1,
                                                        "#f0f921"
                                                    ]
                                                ],
                                                "type": "contour"
                                            }
                                        ],
                                        "contourcarpet": [
                                            {
                                                "colorbar": {
                                                    "outlinewidth": 0,
                                                    "ticks": ""
                                                },
                                                "type": "contourcarpet"
                                            }
                                        ],
                                        "heatmap": [
                                            {
                                                "colorbar": {
                                                    "outlinewidth": 0,
                                                    "ticks": ""
                                                },
                                                "colorscale": [
                                                    [
                                                        0,
                                                        "#0d0887"
                                                    ],
                                                    [
                                                        0.1111111111111111,
                                                        "#46039f"
                                                    ],
                                                    [
                                                        0.2222222222222222,
                                                        "#7201a8"
                                                    ],
                                                    [
                                                        0.3333333333333333,
                                                        "#9c179e"
                                                    ],
                                                    [
                                                        0.4444444444444444,
                                                        "#bd3786"
                                                    ],
                                                    [
                                                        0.5555555555555556,
                                                        "#d8576b"
                                                    ],
                                                    [
                                                        0.6666666666666666,
                                                        "#ed7953"
                                                    ],
                                                    [
                                                        0.7777777777777778,
                                                        "#fb9f3a"
                                                    ],
                                                    [
                                                        0.8888888888888888,
                                                        "#fdca26"
                                                    ],
                                                    [
                                                        1,
                                                        "#f0f921"
                                                    ]
                                                ],
                                                "type": "heatmap"
                                            }
                                        ],
                                        "heatmapgl": [
                                            {
                                                "colorbar": {
                                                    "outlinewidth": 0,
                                                    "ticks": ""
                                                },
                                                "colorscale": [
                                                    [
                                                        0,
                                                        "#0d0887"
                                                    ],
                                                    [
                                                        0.1111111111111111,
                                                        "#46039f"
                                                    ],
                                                    [
                                                        0.2222222222222222,
                                                        "#7201a8"
                                                    ],
                                                    [
                                                        0.3333333333333333,
                                                        "#9c179e"
                                                    ],
                                                    [
                                                        0.4444444444444444,
                                                        "#bd3786"
                                                    ],
                                                    [
                                                        0.5555555555555556,
                                                        "#d8576b"
                                                    ],
                                                    [
                                                        0.6666666666666666,
                                                        "#ed7953"
                                                    ],
                                                    [
                                                        0.7777777777777778,
                                                        "#fb9f3a"
                                                    ],
                                                    [
                                                        0.8888888888888888,
                                                        "#fdca26"
                                                    ],
                                                    [
                                                        1,
                                                        "#f0f921"
                                                    ]
                                                ],
                                                "type": "heatmapgl"
                                            }
                                        ],
                                        "histogram": [
                                            {
                                                "marker": {
                                                    "colorbar": {
                                                        "outlinewidth": 0,
                                                        "ticks": ""
                                                    }
                                                },
                                                "type": "histogram"
                                            }
                                        ],
                                        "histogram2d": [
                                            {
                                                "colorbar": {
                                                    "outlinewidth": 0,
                                                    "ticks": ""
                                                },
                                                "colorscale": [
                                                    [
                                                        0,
                                                        "#0d0887"
                                                    ],
                                                    [
                                                        0.1111111111111111,
                                                        "#46039f"
                                                    ],
                                                    [
                                                        0.2222222222222222,
                                                        "#7201a8"
                                                    ],
                                                    [
                                                        0.3333333333333333,
                                                        "#9c179e"
                                                    ],
                                                    [
                                                        0.4444444444444444,
                                                        "#bd3786"
                                                    ],
                                                    [
                                                        0.5555555555555556,
                                                        "#d8576b"
                                                    ],
                                                    [
                                                        0.6666666666666666,
                                                        "#ed7953"
                                                    ],
                                                    [
                                                        0.7777777777777778,
                                                        "#fb9f3a"
                                                    ],
                                                    [
                                                        0.8888888888888888,
                                                        "#fdca26"
                                                    ],
                                                    [
                                                        1,
                                                        "#f0f921"
                                                    ]
                                                ],
                                                "type": "histogram2d"
                                            }
                                        ],
                                        "histogram2dcontour": [
                                            {
                                                "colorbar": {
                                                    "outlinewidth": 0,
                                                    "ticks": ""
                                                },
                                                "colorscale": [
                                                    [
                                                        0,
                                                        "#0d0887"
                                                    ],
                                                    [
                                                        0.1111111111111111,
                                                        "#46039f"
                                                    ],
                                                    [
                                                        0.2222222222222222,
                                                        "#7201a8"
                                                    ],
                                                    [
                                                        0.3333333333333333,
                                                        "#9c179e"
                                                    ],
                                                    [
                                                        0.4444444444444444,
                                                        "#bd3786"
                                                    ],
                                                    [
                                                        0.5555555555555556,
                                                        "#d8576b"
                                                    ],
                                                    [
                                                        0.6666666666666666,
                                                        "#ed7953"
                                                    ],
                                                    [
                                                        0.7777777777777778,
                                                        "#fb9f3a"
                                                    ],
                                                    [
                                                        0.8888888888888888,
                                                        "#fdca26"
                                                    ],
                                                    [
                                                        1,
                                                        "#f0f921"
                                                    ]
                                                ],
                                                "type": "histogram2dcontour"
                                            }
                                        ],
                                        "mesh3d": [
                                            {
                                                "colorbar": {
                                                    "outlinewidth": 0,
                                                    "ticks": ""
                                                },
                                                "type": "mesh3d"
                                            }
                                        ],
                                        "parcoords": [
                                            {
                                                "line": {
                                                    "colorbar": {
                                                        "outlinewidth": 0,
                                                        "ticks": ""
                                                    }
                                                },
                                                "type": "parcoords"
                                            }
                                        ],
                                        "pie": [
                                            {
                                                "automargin": true,
                                                "type": "pie"
                                            }
                                        ],
                                        "scatter": [
                                            {
                                                "marker": {
                                                    "colorbar": {
                                                        "outlinewidth": 0,
                                                        "ticks": ""
                                                    }
                                                },
                                                "type": "scatter"
                                            }
                                        ],
                                        "scatter3d": [
                                            {
                                                "line": {
                                                    "colorbar": {
                                                        "outlinewidth": 0,
                                                        "ticks": ""
                                                    }
                                                },
                                                "marker": {
                                                    "colorbar": {
                                                        "outlinewidth": 0,
                                                        "ticks": ""
                                                    }
                                                },
                                                "type": "scatter3d"
                                            }
                                        ],
                                        "scattercarpet": [
                                            {
                                                "marker": {
                                                    "colorbar": {
                                                        "outlinewidth": 0,
                                                        "ticks": ""
                                                    }
                                                },
                                                "type": "scattercarpet"
                                            }
                                        ],
                                        "scattergeo": [
                                            {
                                                "marker": {
                                                    "colorbar": {
                                                        "outlinewidth": 0,
                                                        "ticks": ""
                                                    }
                                                },
                                                "type": "scattergeo"
                                            }
                                        ],
                                        "scattergl": [
                                            {
                                                "marker": {
                                                    "colorbar": {
                                                        "outlinewidth": 0,
                                                        "ticks": ""
                                                    }
                                                },
                                                "type": "scattergl"
                                            }
                                        ],
                                        "scattermapbox": [
                                            {
                                                "marker": {
                                                    "colorbar": {
                                                        "outlinewidth": 0,
                                                        "ticks": ""
                                                    }
                                                },
                                                "type": "scattermapbox"
                                            }
                                        ],
                                        "scatterpolar": [
                                            {
                                                "marker": {
                                                    "colorbar": {
                                                        "outlinewidth": 0,
                                                        "ticks": ""
                                                    }
                                                },
                                                "type": "scatterpolar"
                                            }
                                        ],
                                        "scatterpolargl": [
                                            {
                                                "marker": {
                                                    "colorbar": {
                                                        "outlinewidth": 0,
                                                        "ticks": ""
                                                    }
                                                },
                                                "type": "scatterpolargl"
                                            }
                                        ],
                                        "scatterternary": [
                                            {
                                                "marker": {
                                                    "colorbar": {
                                                        "outlinewidth": 0,
                                                        "ticks": ""
                                                    }
                                                },
                                                "type": "scatterternary"
                                            }
                                        ],
                                        "surface": [
                                            {
                                                "colorbar": {
                                                    "outlinewidth": 0,
                                                    "ticks": ""
                                                },
                                                "colorscale": [
                                                    [
                                                        0,
                                                        "#0d0887"
                                                    ],
                                                    [
                                                        0.1111111111111111,
                                                        "#46039f"
                                                    ],
                                                    [
                                                        0.2222222222222222,
                                                        "#7201a8"
                                                    ],
                                                    [
                                                        0.3333333333333333,
                                                        "#9c179e"
                                                    ],
                                                    [
                                                        0.4444444444444444,
                                                        "#bd3786"
                                                    ],
                                                    [
                                                        0.5555555555555556,
                                                        "#d8576b"
                                                    ],
                                                    [
                                                        0.6666666666666666,
                                                        "#ed7953"
                                                    ],
                                                    [
                                                        0.7777777777777778,
                                                        "#fb9f3a"
                                                    ],
                                                    [
                                                        0.8888888888888888,
                                                        "#fdca26"
                                                    ],
                                                    [
                                                        1,
                                                        "#f0f921"
                                                    ]
                                                ],
                                                "type": "surface"
                                            }
                                        ],
                                        "table": [
                                            {
                                                "cells": {
                                                    "fill": {
                                                        "color": "#EBF0F8"
                                                    },
                                                    "line": {
                                                        "color": "white"
                                                    }
                                                },
                                                "header": {
                                                    "fill": {
                                                        "color": "#C8D4E3"
                                                    },
                                                    "line": {
                                                        "color": "white"
                                                    }
                                                },
                                                "type": "table"
                                            }
                                        ]
                                    },
                                    "layout": {
                                        "annotationdefaults": {
                                            "arrowcolor": "#2a3f5f",
                                            "arrowhead": 0,
                                            "arrowwidth": 1
                                        },
                                        "autotypenumbers": "strict",
                                        "coloraxis": {
                                            "colorbar": {
                                                "outlinewidth": 0,
                                                "ticks": ""
                                            }
                                        },
                                        "colorscale": {
                                            "diverging": [
                                                [
                                                    0,
                                                    "#8e0152"
                                                ],
                                                [
                                                    0.1,
                                                    "#c51b7d"
                                                ],
                                                [
                                                    0.2,
                                                    "#de77ae"
                                                ],
                                                [
                                                    0.3,
                                                    "#f1b6da"
                                                ],
                                                [
                                                    0.4,
                                                    "#fde0ef"
                                                ],
                                                [
                                                    0.5,
                                                    "#f7f7f7"
                                                ],
                                                [
                                                    0.6,
                                                    "#e6f5d0"
                                                ],
                                                [
                                                    0.7,
                                                    "#b8e186"
                                                ],
                                                [
                                                    0.8,
                                                    "#7fbc41"
                                                ],
                                                [
                                                    0.9,
                                                    "#4d9221"
                                                ],
                                                [
                                                    1,
                                                    "#276419"
                                                ]
                                            ],
                                            "sequential": [
                                                [
                                                    0,
                                                    "#0d0887"
                                                ],
                                                [
                                                    0.1111111111111111,
                                                    "#46039f"
                                                ],
                                                [
                                                    0.2222222222222222,
                                                    "#7201a8"
                                                ],
                                                [
                                                    0.3333333333333333,
                                                    "#9c179e"
                                                ],
                                                [
                                                    0.4444444444444444,
                                                    "#bd3786"
                                                ],
                                                [
                                                    0.5555555555555556,
                                                    "#d8576b"
                                                ],
                                                [
                                                    0.6666666666666666,
                                                    "#ed7953"
                                                ],
                                                [
                                                    0.7777777777777778,
                                                    "#fb9f3a"
                                                ],
                                                [
                                                    0.8888888888888888,
                                                    "#fdca26"
                                                ],
                                                [
                                                    1,
                                                    "#f0f921"
                                                ]
                                            ],
                                            "sequentialminus": [
                                                [
                                                    0,
                                                    "#0d0887"
                                                ],
                                                [
                                                    0.1111111111111111,
                                                    "#46039f"
                                                ],
                                                [
                                                    0.2222222222222222,
                                                    "#7201a8"
                                                ],
                                                [
                                                    0.3333333333333333,
                                                    "#9c179e"
                                                ],
                                                [
                                                    0.4444444444444444,
                                                    "#bd3786"
                                                ],
                                                [
                                                    0.5555555555555556,
                                                    "#d8576b"
                                                ],
                                                [
                                                    0.6666666666666666,
                                                    "#ed7953"
                                                ],
                                                [
                                                    0.7777777777777778,
                                                    "#fb9f3a"
                                                ],
                                                [
                                                    0.8888888888888888,
                                                    "#fdca26"
                                                ],
                                                [
                                                    1,
                                                    "#f0f921"
                                                ]
                                            ]
                                        },
                                        "colorway": [
                                            "#636efa",
                                            "#EF553B",
                                            "#00cc96",
                                            "#ab63fa",
                                            "#FFA15A",
                                            "#19d3f3",
                                            "#FF6692",
                                            "#B6E880",
                                            "#FF97FF",
                                            "#FECB52"
                                        ],
                                        "font": {
                                            "color": "#2a3f5f"
                                        },
                                        "geo": {
                                            "bgcolor": "white",
                                            "lakecolor": "white",
                                            "landcolor": "#E5ECF6",
                                            "showlakes": true,
                                            "showland": true,
                                            "subunitcolor": "white"
                                        },
                                        "hoverlabel": {
                                            "align": "left"
                                        },
                                        "hovermode": "closest",
                                        "mapbox": {
                                            "style": "light"
                                        },
                                        "paper_bgcolor": "white",
                                        "plot_bgcolor": "#E5ECF6",
                                        "polar": {
                                            "angularaxis": {
                                                "gridcolor": "white",
                                                "linecolor": "white",
                                                "ticks": ""
                                            },
                                            "bgcolor": "#E5ECF6",
                                            "radialaxis": {
                                                "gridcolor": "white",
                                                "linecolor": "white",
                                                "ticks": ""
                                            }
                                        },
                                        "scene": {
                                            "xaxis": {
                                                "backgroundcolor": "#E5ECF6",
                                                "gridcolor": "white",
                                                "gridwidth": 2,
                                                "linecolor": "white",
                                                "showbackground": true,
                                                "ticks": "",
                                                "zerolinecolor": "white"
                                            },
                                            "yaxis": {
                                                "backgroundcolor": "#E5ECF6",
                                                "gridcolor": "white",
                                                "gridwidth": 2,
                                                "linecolor": "white",
                                                "showbackground": true,
                                                "ticks": "",
                                                "zerolinecolor": "white"
                                            },
                                            "zaxis": {
                                                "backgroundcolor": "#E5ECF6",
                                                "gridcolor": "white",
                                                "gridwidth": 2,
                                                "linecolor": "white",
                                                "showbackground": true,
                                                "ticks": "",
                                                "zerolinecolor": "white"
                                            }
                                        },
                                        "shapedefaults": {
                                            "line": {
                                                "color": "#2a3f5f"
                                            }
                                        },
                                        "ternary": {
                                            "aaxis": {
                                                "gridcolor": "white",
                                                "linecolor": "white",
                                                "ticks": ""
                                            },
                                            "baxis": {
                                                "gridcolor": "white",
                                                "linecolor": "white",
                                                "ticks": ""
                                            },
                                            "bgcolor": "#E5ECF6",
                                            "caxis": {
                                                "gridcolor": "white",
                                                "linecolor": "white",
                                                "ticks": ""
                                            }
                                        },
                                        "title": {
                                            "x": 0.05
                                        },
                                        "xaxis": {
                                            "automargin": true,
                                            "gridcolor": "white",
                                            "linecolor": "white",
                                            "ticks": "",
                                            "title": {
                                                "standoff": 15
                                            },
                                            "zerolinecolor": "white",
                                            "zerolinewidth": 2
                                        },
                                        "yaxis": {
                                            "automargin": true,
                                            "gridcolor": "white",
                                            "linecolor": "white",
                                            "ticks": "",
                                            "title": {
                                                "standoff": 15
                                            },
                                            "zerolinecolor": "white",
                                            "zerolinewidth": 2
                                        }
                                    }
                                }
                            }
                        }
                    },
                    "metadata": {}
                }
            ],
            "metadata": {}
        },
        {
            "cell_type": "code",
            "execution_count": null,
            "source": [],
            "outputs": [],
            "metadata": {}
        },
        {
            "cell_type": "markdown",
            "source": [
                "----\r\n",
                "## try h2o predict qty"
            ],
            "metadata": {}
        },
        {
            "cell_type": "code",
            "execution_count": null,
            "source": [
                "x_train2 = x_train[x_train['dif'] == 1] \r\n",
                "x_test2 = x_test[x_test['dif'] == 1];len(x_test2)\r\n",
                "x_train2['qty_tar'] = train_full[train_full['dif'] == 1].iloc[0:len(x_train2), :]['qty']\r\n",
                "x_test2['qty_tar'] = train_full[train_full['dif'] == 1].iloc[len(x_train2):, :]['qty'];x_train2"
            ],
            "outputs": [],
            "metadata": {}
        },
        {
            "cell_type": "code",
            "execution_count": null,
            "source": [
                "import h2o\r\n",
                "from h2o.estimators import H2OIsolationForestEstimator\r\n",
                "from h2o.estimators import H2ODeepLearningEstimator\r\n",
                "from h2o.estimators import H2OXGBoostEstimator\r\n",
                "h2o.init()\r\n"
            ],
            "outputs": [],
            "metadata": {}
        },
        {
            "cell_type": "code",
            "execution_count": null,
            "source": [
                "cols_h2o = [i for i in x_train2.columns.to_numpy() if i not in 'qty_tar']\r\n",
                "\r\n",
                "# Import the prostate dataset\r\n",
                "h2o_df = h2o.H2OFrame(x_train2)\r\n",
                "# Split the data giving the training dataset 75% of the data\r\n",
                "train,test = h2o_df.split_frame(ratios=[0.75])\r\n",
                "\r\n",
                "# Build an Isolation forest model\r\n",
                "model = H2OIsolationForestEstimator(sample_rate = 0.1,\r\n",
                "                                    max_depth = 20,\r\n",
                "                                    ntrees = 500)\r\n",
                "model.train(training_frame=train,x =cols_h2o)\r\n",
                "\r\n",
                "# Calculate score\r\n",
                "score = model.predict(test)\r\n",
                "result_pred = score[\"predict\"]\r\n",
                "\r\n",
                "# Predict the leaf node assignment\r\n",
                "ln_pred = model.predict_leaf_node_assignment(test, \"Path\")"
            ],
            "outputs": [],
            "metadata": {}
        },
        {
            "cell_type": "code",
            "execution_count": null,
            "source": [
                "score_train = model.predict(train)\r\n",
                "forest_pred_trai = pd.concat([score_train['predict'].as_data_frame(),\\\r\n",
                "    result_pred.as_data_frame() ], axis = 0).reset_index()\r\n",
                "forest_pred_test = model.predict(h2o.H2OFrame(x_test2))"
            ],
            "outputs": [],
            "metadata": {}
        },
        {
            "cell_type": "code",
            "execution_count": null,
            "source": [
                "train.as_data_frame()"
            ],
            "outputs": [],
            "metadata": {}
        },
        {
            "cell_type": "code",
            "execution_count": null,
            "source": [
                "train.as_data_frame().append(score_train.as_data_frame)"
            ],
            "outputs": [],
            "metadata": {}
        },
        {
            "cell_type": "code",
            "execution_count": null,
            "source": [
                "score2"
            ],
            "outputs": [],
            "metadata": {}
        },
        {
            "cell_type": "code",
            "execution_count": null,
            "source": [
                "# Generate predictions on a test set (if necessary):\r\n",
                "pred = dl.predict(test)"
            ],
            "outputs": [],
            "metadata": {}
        },
        {
            "cell_type": "code",
            "execution_count": null,
            "source": [
                "sult = pd.concat([test.as_data_frame()['qty_tar'], pred.as_data_frame()], axis = 1)"
            ],
            "outputs": [],
            "metadata": {}
        },
        {
            "cell_type": "code",
            "execution_count": null,
            "source": [
                "sult"
            ],
            "outputs": [],
            "metadata": {}
        },
        {
            "cell_type": "code",
            "execution_count": null,
            "source": [
                "mean_absolute_percentage_error(sult['qty_tar'], sult['predict'])"
            ],
            "outputs": [],
            "metadata": {}
        },
        {
            "cell_type": "code",
            "execution_count": null,
            "source": [
                "x_train2 = x_train2.reset_index()\r\n",
                "x_test2 = x_test2.reset_index()\r\n",
                "x_train2['labels'] = forest_pred_trai['predict'] \r\n",
                "x_test2['labels'] = forest_pred_test.as_data_frame()['predict']"
            ],
            "outputs": [],
            "metadata": {}
        },
        {
            "cell_type": "code",
            "execution_count": null,
            "source": [
                "predictors = [i for i in x_train2.columns.to_numpy() if i not in 'qty_tar']\r\n",
                "response = 'qty_tar'\r\n",
                "# Import the prostate dataset\r\n",
                "h2o_df = h2o.H2OFrame(x_train2)\r\n",
                "# Split the data giving the training dataset 75% of the data\r\n",
                "train,test = h2o_df.split_frame(ratios=[0.75])\r\n",
                "\r\n",
                "dl = H2ODeepLearningEstimator(distribution=\"AUTO\",\r\n",
                "                               hidden=[300,300],\r\n",
                "                               epochs=600,\r\n",
                "                               train_samples_per_iteration=-1,\r\n",
                "                               reproducible=True,\r\n",
                "                               activation=\"Rectifierwithdropout\",\r\n",
                "                               single_node_mode=False,\r\n",
                "                               balance_classes=False,\r\n",
                "                               force_load_balance=False,\r\n",
                "                               seed=707,\r\n",
                "                               tweedie_power=1.5,\r\n",
                "                               score_training_samples=0,\r\n",
                "                               score_validation_samples=0,\r\n",
                "                               score_each_iteration = True,\r\n",
                "                               stopping_rounds=0)\r\n",
                "dl.train(x=predictors,\r\n",
                "         y=response,\r\n",
                "          training_frame= train,\r\n",
                "          validation_frame = test)\r\n",
                "\r\n",
                "# Eval performance:\r\n",
                "perf = dl.model_performance();perf\r\n"
            ],
            "outputs": [],
            "metadata": {}
        },
        {
            "cell_type": "code",
            "execution_count": null,
            "source": [
                "perf"
            ],
            "outputs": [],
            "metadata": {}
        },
        {
            "cell_type": "code",
            "execution_count": null,
            "source": [
                "test_lb_qty_test2 = dl.predict(test).as_data_frame()"
            ],
            "outputs": [],
            "metadata": {}
        },
        {
            "cell_type": "code",
            "execution_count": null,
            "source": [
                "test_lb_qty_test2"
            ],
            "outputs": [],
            "metadata": {}
        },
        {
            "cell_type": "code",
            "execution_count": null,
            "source": [
                "mean_absolute_percentage_error(sult['qty_tar'], sult['predict'])"
            ],
            "outputs": [],
            "metadata": {}
        },
        {
            "cell_type": "markdown",
            "source": [
                "----\r\n",
                "## Darts"
            ],
            "metadata": {}
        },
        {
            "cell_type": "code",
            "execution_count": null,
            "source": [
                "df_lb , x_test1 \r\n",
                "\r\n",
                "\"\"\"\r\n",
                "the dataframes are taken from fbprophet model, \r\n",
                "no need to split anyway.\r\n",
                "\"\"\""
            ],
            "outputs": [],
            "metadata": {}
        },
        {
            "cell_type": "code",
            "execution_count": null,
            "source": [
                "df_lb"
            ],
            "outputs": [],
            "metadata": {}
        },
        {
            "cell_type": "code",
            "execution_count": null,
            "source": [
                "from darts import TimeSeries\r\n",
                "\r\n",
                "series_train = TimeSeries.from_dataframe(df_lb, \r\n",
                "       time_col = 'ds', \r\n",
                "       value_cols ='y')\r\n",
                "series_test = TimeSeries.from_dataframe(x_test1, \r\n",
                "       time_col = 'ds', \r\n",
                "       value_cols =  'y')\r\n",
                "series_train_cov = TimeSeries.from_dataframe(df_lb,\\\r\n",
                "       'ds',\r\n",
                "       ['id', 'line_sum', 'container_sum', 'weight', 'qty', 'span_first'])\r\n",
                "series_test_cov = TimeSeries.from_dataframe(x_test1, \r\n",
                "       'ds', \r\n",
                "       ['id', 'line_sum', 'container_sum', 'weight', 'qty', 'span_first'] )"
            ],
            "outputs": [],
            "metadata": {}
        },
        {
            "cell_type": "code",
            "execution_count": null,
            "source": [],
            "outputs": [],
            "metadata": {}
        },
        {
            "cell_type": "code",
            "execution_count": null,
            "source": [
                "ful_span = TimeSeries.from_dataframe(df_lb.append(x_test1), \\\r\n",
                "    'ds', \r\n",
                "    value_cols = 'y')\r\n",
                "ful_span_cov = TimeSeries.from_dataframe(df_lb.append(x_test1), \\\r\n",
                "    'ds', \r\n",
                "    ['id', 'line_sum', 'container_sum', 'weight', 'qty', 'span_first'] )"
            ],
            "outputs": [],
            "metadata": {}
        },
        {
            "cell_type": "code",
            "execution_count": null,
            "source": [
                "from darts.models import *\r\n",
                "md1_bert = NBEATSModel(input_chunk_length=31, \\\r\n",
                "    output_chunk_length=15, n_epochs=5, random_state=43)\r\n",
                "    \r\n",
                "# md2_lstm = BlockRNNModel(model='LSTM', \\\r\n",
                "#     input_chunk_length=12, output_chunk_length=6, n_epochs=5, random_state=43)\r\n"
            ],
            "outputs": [],
            "metadata": {}
        },
        {
            "cell_type": "markdown",
            "source": [
                " > ## *Past Covariates denote time series whose past values are known at prediction time. These are usually things that have to be measured or observed. * Future Covariates denote time series whose future values are already known at prediction time for the span of the forecast horizon. These can for instance represent known future holidays, or weather forecasts.*\r\n",
                "> \r\n",
                "> \r\n",
                " > ## input_chunk_length: this is the length of the lookback window of the model; so each output will be computed by the model by reading the previous input_chunk_length points. "
            ],
            "metadata": {}
        },
        {
            "cell_type": "code",
            "execution_count": null,
            "source": [
                "%%time\r\n",
                "md1_bert.fit(series = series_train, \\\r\n",
                "    past_covariates = series_train_cov,\r\n",
                "    verbose=True)"
            ],
            "outputs": [],
            "metadata": {}
        },
        {
            "cell_type": "code",
            "execution_count": null,
            "source": [
                "%%time\r\n",
                "backtest_bert = md1_bert.historical_forecasts(series_train,\\\r\n",
                "    past_covariates = series_train_cov,\r\n",
                "    start = .75,\r\n",
                "    retrain = False)\r\n",
                "\r\n",
                "# backtest_cov = model_cov.historical_forecasts(series_air_scaled,\r\n",
                "#                                               past_covariates=air_covariates,\r\n",
                "#                                               start=0.6,\r\n",
                "#                                               forecast_horizon=12,\r\n",
                "#                                               stride=1,\r\n",
                "#                                               retrain=False,\r\n",
                "#                                               verbose=True)\r\n"
            ],
            "outputs": [],
            "metadata": {}
        },
        {
            "cell_type": "code",
            "execution_count": null,
            "source": [
                "backtest_bert.values()"
            ],
            "outputs": [],
            "metadata": {}
        },
        {
            "cell_type": "code",
            "execution_count": null,
            "source": [
                "%%time\r\n",
                "train_pred_bert = md1_bert.predict(n = 334 , \r\n",
                "    past_covariates = series_train_cov,\r\n",
                "    # future_covariates = series_test_cov\r\n",
                "    )\r\n",
                "train_pred_bert.values()"
            ],
            "outputs": [],
            "metadata": {}
        },
        {
            "cell_type": "code",
            "execution_count": null,
            "source": [
                "from darts.metrics import mape\r\n",
                "mean_absolute_error(train_pred_bert.values(), series_test.values())"
            ],
            "outputs": [],
            "metadata": {}
        },
        {
            "cell_type": "markdown",
            "source": [
                "## lSTM in darts"
            ],
            "metadata": {}
        },
        {
            "cell_type": "code",
            "execution_count": null,
            "source": [
                "%%time\r\n",
                "LSTM_darts = RNNModel(\r\n",
                "    model='LSTM',\r\n",
                "    hidden_dim=20,\r\n",
                "    dropout=0,\r\n",
                "    batch_size=7,\r\n",
                "    n_epochs=5,\r\n",
                "    optimizer_kwargs={'lr': 1e-3},\r\n",
                "    model_name='lstm_RNN',\r\n",
                "    log_tensorboard=True,\r\n",
                "    random_state=42,\r\n",
                "    # training_length=20,\r\n",
                "    input_chunk_length=31,\r\n",
                "    force_reset=True\r\n",
                ")\r\n",
                "LSTM_darts.fit(series_train,\r\n",
                "             future_covariates=series_train_cov,\r\n",
                "            #  val_series=series_test,\r\n",
                "            #  val_future_covariates=series_test_cov,\r\n",
                "             verbose=True)"
            ],
            "outputs": [],
            "metadata": {}
        },
        {
            "cell_type": "code",
            "execution_count": null,
            "source": [
                "np.set_printoptions(suppress=True)\r\n",
                "lstm_pred_test = LSTM_darts.predict(n = 334, future_covariates = ful_span_cov).values()"
            ],
            "outputs": [],
            "metadata": {}
        },
        {
            "cell_type": "code",
            "execution_count": null,
            "source": [
                "acc_score_data  = [1 if i>=lstm_pred_test.mean() \\\r\n",
                "    else 0 for i in lstm_pred_test]\r\n",
                "\r\n",
                "# acc_score_data1 = [1 if i>=lstm_pred_test.sort_values() \\\r\n",
                "#     else 0 for i in forecast['yhat']]\r\n",
                "    \r\n",
                "# acc_score_data2 = [1 if i>lb_prophet_result['yhat'].std() \\\r\n",
                "#     else 0 for i in forecast['yhat']]\r\n",
                "\r\n",
                "# mean_absolute_error(x_test1['y'], m.predict(x_test1)['yhat'])\r\n",
                "# [accuracy_score(x_test1['y'],i) for i in [acc_score_data, acc_score_data1, acc_score_data2]]\r\n",
                "accuracy_score(x_test1['y'],acc_score_data) "
            ],
            "outputs": [],
            "metadata": {}
        },
        {
            "cell_type": "code",
            "execution_count": null,
            "source": [
                "lstm_plt = x_test1.copy()\r\n",
                "lstm_plt['y_pred'] = lstm_pred_test"
            ],
            "outputs": [],
            "metadata": {}
        },
        {
            "cell_type": "code",
            "execution_count": null,
            "source": [
                "import plotly.express as ex\r\n",
                "fig = ex.scatter(data_frame=lstm_plt, x = 'ds', y = 'y')\r\n",
                "fig.add_scatter(x = lstm_plt['ds'],  y = lstm_plt['y_pred'])\r\n",
                "fig.show()"
            ],
            "outputs": [],
            "metadata": {}
        },
        {
            "cell_type": "code",
            "execution_count": null,
            "source": [
                "# import altair as alt\r\n",
                "# brush = alt.selection_interval()\r\n",
                "# alt.Chart(lstm_plt).mark_point().encode(\r\n",
                "#     x='ds',\r\n",
                "#     y='y'\r\n",
                "# ).add_selection(\r\n",
                "#     brush\r\n",
                "# )\r\n",
                " "
            ],
            "outputs": [],
            "metadata": {}
        },
        {
            "cell_type": "code",
            "execution_count": null,
            "source": [
                "# min(abs(lstm_plt['y_pred'] - .5))\r\n",
                "\r\n",
                "lstm_plt['abs_diff'] = np.abs(lstm_plt['y_pred'] - .5)\r\n",
                "lstm_plt.sort_values('abs_diff')"
            ],
            "outputs": [],
            "metadata": {}
        },
        {
            "cell_type": "code",
            "execution_count": null,
            "source": [
                "pred_1_lable1 = [1 if i> 0.565032 else 0 for i in lstm_plt['y_pred']]\r\n",
                "# lstm_plt['y_pred']\r\n",
                "pred_1_lable2 = [1 if i> lstm_plt['y_pred'].mean() else 0 for i in lstm_plt['y_pred']]"
            ],
            "outputs": [],
            "metadata": {}
        },
        {
            "cell_type": "code",
            "execution_count": null,
            "source": [
                "from sklearn.metrics import mean_absolute_percentage_error\r\n",
                "[accuracy_score(lstm_plt['y'], pred_1_lable1),\r\n",
                "accuracy_score(lstm_plt['y'], pred_1_lable2)]"
            ],
            "outputs": [],
            "metadata": {}
        },
        {
            "cell_type": "code",
            "execution_count": null,
            "source": [
                "\r\n",
                "\r\n",
                "# series.plot(label='data')\r\n",
                "# for i, m in enumerate(berkets):\r\n",
                "#     err = mape(backtests[i], series)\r\n",
                "#     backtests[i].plot(lw=3, label='{}, MAPE={:.2f}%'.format(m, err))\r\n",
                "\r\n",
                "# plt.title('Backtests with 3-months forecast horizon')\r\n",
                "# plt.legend()"
            ],
            "outputs": [],
            "metadata": {}
        },
        {
            "cell_type": "markdown",
            "source": [
                "---"
            ],
            "metadata": {}
        },
        {
            "cell_type": "markdown",
            "source": [
                "## qty prediction, filter data which not 1"
            ],
            "metadata": {}
        },
        {
            "cell_type": "code",
            "execution_count": null,
            "source": [
                "x_train2 = x_train[x_train['dif'] == 1] \r\n",
                "x_test2 = x_test[x_test['dif'] == 1];len(x_test2)\r\n",
                "x_train2['qty_tar'] = train_full[train_full['dif'] == 1].iloc[0:len(x_train2), :]['qty']\r\n",
                "x_test2['qty_tar'] = train_full[train_full['dif'] == 1].iloc[len(x_train2):, :]['qty']"
            ],
            "outputs": [],
            "metadata": {}
        },
        {
            "cell_type": "code",
            "execution_count": null,
            "source": [
                "[len(x_train2),len(x_test2)]"
            ],
            "outputs": [],
            "metadata": {}
        },
        {
            "cell_type": "code",
            "execution_count": null,
            "source": [
                "df_2_all = pd.DataFrame(pd.concat([x_train2, x_test2], axis = 0)).reset_index(); df_2_all"
            ],
            "outputs": [],
            "metadata": {}
        },
        {
            "cell_type": "code",
            "execution_count": null,
            "source": [
                "pd.set_option('display.float_format', lambda x: '%.3f' % x)\r\n",
                "from sklearn.compose import ColumnTransformer\r\n",
                "from sklearn.preprocessing import StandardScaler\r\n",
                "\r\n",
                "tran3 = ColumnTransformer([\r\n",
                "        ('somename', StandardScaler(), ['weight', 'qty', 'qty_tar'])\r\n",
                "    ])\r\n",
                "tran3.fit(df_2_all[['weight', 'qty', 'qty_tar']])\r\n",
                "\r\n",
                "df_2_all[['weight', 'qty',  'qty_tar']] = pd.DataFrame(\r\n",
                "    tran3.fit_transform(df_2_all[['weight', 'qty', 'qty_tar']])\r\n",
                "\r\n",
                ") "
            ],
            "outputs": [],
            "metadata": {}
        },
        {
            "cell_type": "code",
            "execution_count": null,
            "source": [
                "# tran2.fit(x_train2[['weight', 'qty', 'span_first']])\r\n",
                "# tran2.transform(x_test2[['weight', 'qty', 'span_first']])\r\n",
                "\r\n",
                "df_2_all =df_2_all.fillna(0)\r\n",
                "x_train2 = df_2_all.iloc[0:652,:]\r\n",
                "x_test2 = df_2_all.iloc[652:,:]"
            ],
            "outputs": [],
            "metadata": {}
        },
        {
            "cell_type": "code",
            "execution_count": null,
            "source": [
                "from fbprophet import Prophet \r\n",
                "df_lb = x_train2\r\n",
                "\r\n",
                "## qty_x s是最终预测值, 所以要drop\r\n",
                "cols_lb = [i for i in df_lb.columns \r\n",
                "    if i not in ['qty_tar', 'CREATION_DATE_TIME_STAMP']]\r\n",
                "\r\n",
                "# df_lb = df_lb.drop(['creat_time_x','creat_time_y', 'qty_x'], axis =1 )\r\n",
                "df_lb = df_lb.rename({'CREATION_DATE_TIME_STAMP' : 'ds', 'qty_tar': 'y'}, axis = 1)\r\n",
                "m = Prophet(daily_seasonality=True)\r\n",
                "[m.add_regressor(i) for i in cols_lb]\r\n",
                "\r\n",
                "m.fit(df_lb)\r\n",
                "\r\n",
                "\r\n",
                "# ?mean_absolute_percentage_error\r\n",
                "from sktime.performance_metrics.forecasting import  mean_absolute_percentage_error\r\n",
                "from sktime.performance_metrics.forecasting import mean_absolute_error\r\n",
                "from sklearn.metrics import accuracy_score\r\n",
                "\r\n",
                "# x_test1 = x_test.drop(['dif'], axis =1 )\r\n",
                "x_test1 = x_test2.rename({'CREATION_DATE_TIME_STAMP' : 'ds', 'qty_tar': 'y'}, axis = 1)\r\n",
                " \r\n",
                "# m.predict(x_test)\r\n",
                "forecast = m.predict(x_test1)\r\n",
                "mean_absolute_percentage_error(x_test1['y'], m.predict(x_test1)['yhat'])\r\n",
                "# fig = m.plot_components(m.predict(x_test))"
            ],
            "outputs": [],
            "metadata": {}
        },
        {
            "cell_type": "code",
            "execution_count": null,
            "source": [],
            "outputs": [],
            "metadata": {}
        },
        {
            "cell_type": "markdown",
            "source": [
                "---\r\n",
                "# cross validation on prophet"
            ],
            "metadata": {}
        },
        {
            "cell_type": "code",
            "execution_count": null,
            "source": [
                "from prophet.diagnostics import cross_validation, performance_metrics\r\n",
                "df_cv = cross_validation(m, initial='365 days', period='31 days', horizon = '180 days')\r\n"
            ],
            "outputs": [],
            "metadata": {}
        },
        {
            "cell_type": "code",
            "execution_count": null,
            "source": [
                "df_cv = pd.DataFrame(df_cv);df_cv"
            ],
            "outputs": [],
            "metadata": {}
        },
        {
            "cell_type": "code",
            "execution_count": null,
            "source": [
                "sns.scatterplot(data = df_cv, x = 'ds', y = 'yhat')"
            ],
            "outputs": [],
            "metadata": {}
        },
        {
            "cell_type": "code",
            "execution_count": null,
            "source": [
                "performance_metrics(df_cv).sort_values('mae')"
            ],
            "outputs": [],
            "metadata": {}
        },
        {
            "cell_type": "markdown",
            "source": [
                "## Tunning paras"
            ],
            "metadata": {}
        },
        {
            "cell_type": "code",
            "execution_count": null,
            "source": [
                "from fbprophet import Prophet \r\n",
                "df_lb = x_train \r\n",
                "cols_lb = [i for i in df_lb.columns \r\n",
                "    if i not in ['diff','qty_x','creat_time_x','creat_time_y','CREATION_DATE_TIME_STAMP']]\r\n",
                "\r\n",
                "df_lb = df_lb.drop(['creat_time_x','creat_time_y', 'qty_x'], axis =1 )\r\n",
                "df_lb = df_lb.rename({'CREATION_DATE_TIME_STAMP' : 'ds', 'diff': 'y'}, axis = 1)\r\n",
                "m = Prophet()\r\n",
                "[m.add_regressor(i) for i in cols_lb]\r\n",
                "\r\n",
                "m.fit(df_lb)"
            ],
            "outputs": [],
            "metadata": {}
        },
        {
            "cell_type": "code",
            "execution_count": null,
            "source": [
                "%%Time\r\n",
                "import itertools\r\n",
                "param_grid = {  \r\n",
                "    'changepoint_prior_scale': [0.01,  0.5],\r\n",
                "    'seasonality_prior_scale': [0.01, 0.1],\r\n",
                "}\r\n",
                " \r\n",
                "\r\n",
                "# Generate all combinations of parameters\r\n",
                "all_params = [dict(zip(param_grid.keys(), v)) for v in itertools.product(*param_grid.values())]\r\n",
                "rmses = []  # Store the RMSEs for each params here\r\n",
                "\r\n",
                "# Use cross validation to evaluate all parameters\r\n",
                "for params in all_params:\r\n",
                "    m = Prophet(**params)  # Fit model with given params\r\n",
                "    [m.add_regressor(i) for i in cols_lb]\r\n",
                "    m.fit(df_lb)\r\n",
                "    df_cv = cross_validation(m, \r\n",
                "        initial='365 days', period='31 days', horizon = '180 days', parallel=\"processes\")\r\n",
                "    df_p = performance_metrics(df_cv, rolling_window=1)\r\n",
                "    rmses.append(df_p['rmse'].values[0])\r\n",
                "\r\n",
                "# Find the best parameters\r\n",
                "tuning_results = pd.DataFrame(all_params)\r\n",
                "tuning_results['rmse'] = rmses\r\n",
                "print(tuning_results)"
            ],
            "outputs": [],
            "metadata": {}
        },
        {
            "cell_type": "code",
            "execution_count": null,
            "source": [
                "# Python\r\n",
                "best_params = all_params[np.argmin(rmses)]\r\n",
                "print(best_params)"
            ],
            "outputs": [],
            "metadata": {}
        },
        {
            "cell_type": "code",
            "execution_count": null,
            "source": [
                "df_lb"
            ],
            "outputs": [],
            "metadata": {}
        },
        {
            "cell_type": "code",
            "execution_count": null,
            "source": [
                "x_test1 = x_test.drop(['creat_time_x','creat_time_y', 'qty_x', 'diff'], axis =1 )\r\n",
                "x_test1 = x_test1.rename({'CREATION_DATE_TIME_STAMP' : 'ds'}, axis = 1)\r\n",
                "x_test1['y'] = 0\r\n",
                "m.predict(x_test1)\r\n",
                "mean_absolute_error(x_test['diff'], m.predict(x_test1)['yhat'])"
            ],
            "outputs": [],
            "metadata": {}
        },
        {
            "cell_type": "code",
            "execution_count": null,
            "source": [
                "values = m.predict(x_test1)['yhat']\r\n",
                "labels = [1 if i>.5 else 0 for i in values]"
            ],
            "outputs": [],
            "metadata": {}
        },
        {
            "cell_type": "code",
            "execution_count": null,
            "source": [
                "x_test['pred_labels'] = labels;x_test\r\n"
            ],
            "outputs": [],
            "metadata": {}
        },
        {
            "cell_type": "code",
            "execution_count": null,
            "source": [
                "accuracy_score(x_test['diff'], x_test['pred_labels'])"
            ],
            "outputs": [],
            "metadata": {}
        },
        {
            "cell_type": "code",
            "execution_count": null,
            "source": [
                "x_train"
            ],
            "outputs": [],
            "metadata": {}
        },
        {
            "cell_type": "code",
            "execution_count": null,
            "source": [
                "# qty_x is target\r\n",
                "from fbprophet import Prophet \r\n",
                "df_value = x_train \r\n",
                "df_value = df_value.drop(['creat_time_x','creat_time_y'], axis =1 )\r\n",
                "\r\n",
                "df_value = df_value.rename({\r\n",
                "    'CREATION_DATE_TIME_STAMP' : 'ds', 'qty_x': 'y', 'diff':'pred_labels'\r\n",
                "    }, axis = 1)\r\n",
                "\r\n",
                "    \r\n",
                "cols_value = [i for i in df_value.columns \r\n",
                "    if i not in ['y', 'ds', 'pred_labels']]\r\n",
                "\r\n",
                "m = Prophet()\r\n",
                "[m.add_regressor(i) for i in cols_value]\r\n",
                "\r\n",
                "m.fit(df_value)"
            ],
            "outputs": [],
            "metadata": {}
        },
        {
            "cell_type": "code",
            "execution_count": null,
            "source": [
                "df_value"
            ],
            "outputs": [],
            "metadata": {}
        },
        {
            "cell_type": "code",
            "execution_count": null,
            "source": [
                "x_test_fin = x_test.drop(['creat_time_x','creat_time_y', 'qty_x', 'diff'], axis =1 )\r\n",
                " \r\n",
                "x_test_fin = x_test_fin.rename({'CREATION_DATE_TIME_STAMP' : 'ds'}, axis = 1);\r\n",
                "x_test_fin"
            ],
            "outputs": [],
            "metadata": {}
        },
        {
            "cell_type": "code",
            "execution_count": null,
            "source": [
                "\r\n",
                "# m.predict(x_test_fin)\r\n",
                "mean_absolute_percentage_error(x_test['qty_x'], m.predict(x_test_fin)['yhat'])"
            ],
            "outputs": [],
            "metadata": {}
        },
        {
            "cell_type": "code",
            "execution_count": null,
            "source": [],
            "outputs": [],
            "metadata": {}
        },
        {
            "cell_type": "markdown",
            "source": [
                "# aaa"
            ],
            "metadata": {}
        },
        {
            "cell_type": "code",
            "execution_count": null,
            "source": [
                "from sklearn.linear_model import Ridge, LinearRegression, Lasso\r\n",
                "from sklearn import model_selection\r\n",
                "cv_split = model_selection.ShuffleSplit(\r\n",
                "    n_splits = 6, \r\n",
                "    test_size = .25, \r\n",
                "    # max_train_size = .75\r\n",
                "    )\r\n",
                "alg1 = Lasso()\r\n",
                "\r\n",
                "cv_results_1 = model_selection.cross_validate(\r\n",
                "    alg1, \r\n",
                "    train_first.drop(['qty2','CREATION_DATE_TIME_STAMP','creat_time'], axis =1) , train_first['qty2'].to_numpy(), \r\n",
                "    cv  = cv_split, scoring='neg_mean_absolute_percentage_error')\r\n",
                "\r\n",
                "\r\n",
                "cv_results_1['test_score'].mean()"
            ],
            "outputs": [],
            "metadata": {}
        },
        {
            "cell_type": "code",
            "execution_count": null,
            "source": [
                "from sklearn.ensemble import RandomForestRegressor\r\n",
                "alg2 = RandomForestRegressor(n_estimators = 34, \r\n",
                "        max_depth = 61,\r\n",
                "        min_samples_split = 3, \r\n",
                "        min_samples_leaf=4, \r\n",
                "        # max_leaf_nodes = 31\r\n",
                "        )\r\n",
                "cv_results_2 = model_selection.cross_validate(\r\n",
                "        alg2, \r\n",
                "        train_first, \r\n",
                "        train_full['qty'], \r\n",
                "        cv  = cv_split, scoring='neg_mean_absolute_percentage_error')\r\n",
                "cv_results_2['test_score'].mean()"
            ],
            "outputs": [],
            "metadata": {}
        },
        {
            "cell_type": "code",
            "execution_count": null,
            "source": [
                "alg2.fit(train_first,train_full['qty']).predict(train_first)"
            ],
            "outputs": [],
            "metadata": {}
        },
        {
            "cell_type": "code",
            "execution_count": null,
            "source": [
                "from sklearn.neural_network import MLPRegressor\r\n",
                "alg3 = MLPRegressor(\r\n",
                "    hidden_layer_sizes = (891, 891, 450, 135), \r\n",
                "    max_iter=1000,\r\n",
                "    verbose=True, \r\n",
                "    activation = 'identity', \r\n",
                "    solver = 'adam', learning_rate = 'adaptive')\r\n",
                "cv_results_3 = model_selection.cross_validate(\r\n",
                "    alg3, train_first,train_full['qty'], \r\n",
                "    cv  = cv_split, \r\n",
                "    scoring='neg_mean_absolute_percentage_error')\r\n",
                "cv_results_3['test_score'].mean()"
            ],
            "outputs": [],
            "metadata": {}
        },
        {
            "cell_type": "code",
            "execution_count": null,
            "source": [
                "from sklearn.neural_network import MLPRegressor\r\n",
                "alg3 = MLPRegressor(\r\n",
                "    hidden_layer_sizes = (1120, 850, 450, 135), \r\n",
                "    max_iter=1000,\r\n",
                "    verbose=True, \r\n",
                "    activation = 'relu', \r\n",
                "    solver = 'adam', \r\n",
                "    learning_rate = 'adaptive',\r\n",
                "    warm_start = True,\r\n",
                "    early_stopping = True\r\n",
                "    )\r\n",
                "cv_results_3 = model_selection.cross_validate(\r\n",
                "    alg3, train_first,train_full['qty'], \r\n",
                "    cv  = cv_split, \r\n",
                "    scoring='neg_mean_absolute_percentage_error')\r\n",
                "cv_results_3['test_score'].mean()"
            ],
            "outputs": [],
            "metadata": {}
        },
        {
            "cell_type": "code",
            "execution_count": null,
            "source": [],
            "outputs": [],
            "metadata": {}
        }
    ],
    "metadata": {
        "orig_nbformat": 4,
        "language_info": {
            "name": "python",
            "version": "3.8.8",
            "mimetype": "text/x-python",
            "codemirror_mode": {
                "name": "ipython",
                "version": 3
            },
            "pygments_lexer": "ipython3",
            "nbconvert_exporter": "python",
            "file_extension": ".py"
        },
        "kernelspec": {
            "name": "python3",
            "display_name": "Python 3.8.8 64-bit ('siming': conda)"
        },
        "interpreter": {
            "hash": "47b50d2908d96196e4220cfb4e81faa93803065ea975497e7026f672c1f58470"
        }
    },
    "nbformat": 4,
    "nbformat_minor": 2
}