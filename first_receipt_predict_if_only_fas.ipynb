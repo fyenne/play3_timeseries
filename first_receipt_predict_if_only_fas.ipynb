{
    "cells": [
        {
            "cell_type": "markdown",
            "source": [
                "---\r\n",
                "# first in receipt prediction on multiple targets, fas data set "
            ],
            "metadata": {}
        },
        {
            "cell_type": "code",
            "execution_count": 4,
            "source": [
                "import pandas as pd\r\n",
                "import numpy as np\r\n",
                "import matplotlib.pyplot as plt\r\n",
                "import seaborn as sns\r\n",
                "import re\r\n",
                "import os\r\n",
                "from datetime import datetime\r\n",
                "os.getcwd()"
            ],
            "outputs": [
                {
                    "output_type": "execute_result",
                    "data": {
                        "text/plain": [
                            "'c:\\\\Users\\\\dscshap3808\\\\Documents\\\\data\\\\dlwisdom'"
                        ]
                    },
                    "metadata": {},
                    "execution_count": 4
                }
            ],
            "metadata": {}
        },
        {
            "cell_type": "code",
            "execution_count": 5,
            "source": [
                "\r\n",
                "# path0 = 'Q:\\\\SHA_KQ\\\\Digital Intelligence\\\\深度赋智-AI\\\\FTP\\\\hp_train\\\\2019 outbound\\\\'\r\n",
                "# path1 = 'Q:\\\\SHA_KQ\\\\Digital Intelligence\\\\深度赋智-AI\\\\FTP\\\\hp_train\\\\2020 outbound\\\\'\r\n",
                "# # path2 = 'Q:\\\\SHA_KQ\\\\Digital Intelligence\\\\深度赋智-AI\\\\FTP\\\\hp_train\\\\2021 outbound\\\\'\r\n",
                "# path2 = 'Q:\\\\SHA_KQ\\\\Digital Intelligence\\\\深度赋智-AI\\\\FTP\\\\保乐力加_train\\\\outbound\\\\'\r\n",
                "# %%time\r\n",
                "# dfs0 = pd.DataFrame()\r\n",
                "# for fname in os.listdir(path0):\r\n",
                "#     if re.search(r'\\.xls$', fname):\r\n",
                "#         dfs0 = pd.concat(\r\n",
                "#             [dfs0 ,pd.read_excel(path0 + fname)], \r\n",
                "#             axis = 0, \r\n",
                "#             ignore_index = True)\r\n",
                "\r\n",
                "# dfs1 = pd.DataFrame()\r\n",
                "# for fname in os.listdir(path1):\r\n",
                "#     if re.search(r'\\.xls$', fname):\r\n",
                "#         dfs1 = pd.concat(\r\n",
                "#             [dfs1 ,pd.read_excel(path1 + fname)], \r\n",
                "#             axis = 0, \r\n",
                "#             ignore_index = True)\r\n",
                "\r\n",
                "\r\n",
                "# dfs2 = pd.DataFrame()\r\n",
                "# for fname in os.listdir(path2):\r\n",
                "#     if re.search(r'\\.xls$', fname):\r\n",
                "#         dfs2 = pd.concat(\r\n",
                "#             [dfs2 ,pd.read_excel(path2 + fname)], \r\n",
                "#             axis = 0, \r\n",
                "#             ignore_index = True)\r\n",
                "# dfs2 = dfs2.dropna(axis =1 , how = 'all')\r\n",
                " \r\n",
                "# # path+\r\n",
                "# dfs = pd.DataFrame()\r\n",
                "# for fname in os.listdir(path):\r\n",
                "#     if re.search(r'\\.xls$', fname):\r\n",
                "#         dfs = pd.concat(\r\n",
                "#             [dfs ,pd.read_excel(path + fname)], axis = 0, ignore_index = True)\r\n",
                "# prc_in = pd.DataFrame(dfs)\r\n",
                "# prc_in = prc_in.drop(['仓库城市','仓库编号','Unnamed: 7'], axis = 1)\r\n",
                "# prc_in.columns = ['time', 'sku','name','code','quant']\r\n",
                "\r\n",
                "# dfs3 = pd.DataFrame()\r\n",
                "# for fname in os.listdir(path2):\r\n",
                "#     if re.search(r'\\.xlsx$', fname):\r\n",
                "#         dfs3 = pd.concat(\r\n",
                "#             [dfs3 ,pd.read_excel(path3 + fname)], \r\n",
                "#             axis = 0, \r\n",
                "#             ignore_index = True)\r\n",
                "# pd.set_option(\"display.max_rows\", None, \"display.max_columns\", None)\r\n",
                "  \r\n",
                "# # dfs2.head(200)"
            ],
            "outputs": [],
            "metadata": {}
        },
        {
            "cell_type": "code",
            "execution_count": 6,
            "source": [
                "# df = pd.read_clipboard()\r\n",
                "# df.to_csv('./fas_057_rh.csv', index = False, encoding='utf_8_sig')\r\n",
                "df = pd.read_csv('./fas_057_rh.csv')\r\n",
                "df = df.fillna(method = 'ffill')\r\n",
                "df_test = pd.read_csv('./fas_inbhdr_test.csv')\r\n",
                "df_test = df_test.fillna(method = 'ffill')\r\n",
                "# df_test.columns = [re.sub(r'.+\\.','',i) for i in df_test.columns]\r\n",
                "df_test = df_test[df_test['RECEIPT_DATE'] > '2021-05-10']\r\n"
            ],
            "outputs": [],
            "metadata": {}
        },
        {
            "cell_type": "code",
            "execution_count": 13,
            "source": [
                "df.columns.columns = [i.upper() for i in df.columns.to_numpy()]\r\n",
                "df_test.columns = [i.upper() for i in df_test.columns.to_numpy()]"
            ],
            "outputs": [],
            "metadata": {}
        },
        {
            "cell_type": "code",
            "execution_count": 14,
            "source": [
                "def date_mutate(col, df):\r\n",
                "    df[col + '_time'] = df[col].str.slice(11,-1).astype(str)\r\n",
                "    df[col] = df[col].str.slice(0,10)\r\n",
                "    df[col + '_2'] = [datetime.strptime(i,'%H:%M:%S.%f').strftime('%H%M%S') for i in df[col + '_time']]\r\n",
                "    return df.head(1)\r\n",
                "\r\n",
                "# df.columns[df.columns.str.contains(r'date|DATE')].to_numpy()\r\n",
                "# df[df['receipt_id'].str.findall(r'(货)').apply(len) > 1]\r\n",
                "\r\n",
                "for i in df.columns[df.columns.str.contains(r'date|DATE')].to_numpy():\r\n",
                "    date_mutate(i, df)\r\n",
                "\r\n",
                "\r\n",
                "first_df = df.groupby(\r\n",
                "    'CREATION_DATE_TIME_STAMP'\r\n",
                "    )['CREATION_DATE_TIME_STAMP_2'].min().reset_index();first_df\r\n",
                "\r\n",
                "\r\n",
                "first_df = first_df.merge(\r\n",
                "    df, \r\n",
                "    on = ['CREATION_DATE_TIME_STAMP', 'CREATION_DATE_TIME_STAMP_2'], \r\n",
                "    how = 'inner')\r\n",
                "\r\n",
                "# first_df2 = df.copy().groupby('CLOSE_DATE')[\r\n",
                "#     ['receipt_id', 'receipt_date','total_lines', 'TOTAL_QTY']\r\n",
                "#     ].sum().reset_index()\r\n",
                "\r\n",
                "# first_df2.columns = ['CLOSE_DATE', 'ttl_line_cnt', 'ttl_qty_sum']\r\n",
                "\r\n",
                "# first_df = first_df.merge(first_df2, how = 'inner', on = 'CLOSE_DATE')\r\n",
                "\r\n",
                "# df[['CREATION_DATE_TIME_STAMP', 'CREATION_DATE_TIME_STAMP_2']].sort_values(by = 'CREATION_DATE_TIME_STAMP')\r\n",
                "\r\n",
                "\r\n",
                "for i in df_test.columns[df_test.columns.str.contains(r'date|DATE')].to_numpy():\r\n",
                "    date_mutate(i, df_test)\r\n",
                "\r\n",
                "df_test_first = df_test.groupby(\r\n",
                "    'CREATION_DATE_TIME_STAMP'\r\n",
                "    )['CREATION_DATE_TIME_STAMP_2'].min().reset_index()\r\n",
                "\r\n",
                "\r\n",
                "df_test_first = df_test_first.merge(\r\n",
                "    df_test, \r\n",
                "    on = ['CREATION_DATE_TIME_STAMP', 'CREATION_DATE_TIME_STAMP_2'], \r\n",
                "    how = 'inner')"
            ],
            "outputs": [
                {
                    "output_type": "error",
                    "ename": "ValueError",
                    "evalue": "time data '' does not match format '%H:%M:%S.%f'",
                    "traceback": [
                        "\u001b[1;31m---------------------------------------------------------------------------\u001b[0m",
                        "\u001b[1;31mValueError\u001b[0m                                Traceback (most recent call last)",
                        "\u001b[1;32m<ipython-input-14-f25c232e05b8>\u001b[0m in \u001b[0;36m<module>\u001b[1;34m\u001b[0m\n\u001b[0;32m      9\u001b[0m \u001b[1;33m\u001b[0m\u001b[0m\n\u001b[0;32m     10\u001b[0m \u001b[1;32mfor\u001b[0m \u001b[0mi\u001b[0m \u001b[1;32min\u001b[0m \u001b[0mdf\u001b[0m\u001b[1;33m.\u001b[0m\u001b[0mcolumns\u001b[0m\u001b[1;33m[\u001b[0m\u001b[0mdf\u001b[0m\u001b[1;33m.\u001b[0m\u001b[0mcolumns\u001b[0m\u001b[1;33m.\u001b[0m\u001b[0mstr\u001b[0m\u001b[1;33m.\u001b[0m\u001b[0mcontains\u001b[0m\u001b[1;33m(\u001b[0m\u001b[1;34mr'date|DATE'\u001b[0m\u001b[1;33m)\u001b[0m\u001b[1;33m]\u001b[0m\u001b[1;33m.\u001b[0m\u001b[0mto_numpy\u001b[0m\u001b[1;33m(\u001b[0m\u001b[1;33m)\u001b[0m\u001b[1;33m:\u001b[0m\u001b[1;33m\u001b[0m\u001b[1;33m\u001b[0m\u001b[0m\n\u001b[1;32m---> 11\u001b[1;33m     \u001b[0mdate_mutate\u001b[0m\u001b[1;33m(\u001b[0m\u001b[0mi\u001b[0m\u001b[1;33m,\u001b[0m \u001b[0mdf\u001b[0m\u001b[1;33m)\u001b[0m\u001b[1;33m\u001b[0m\u001b[1;33m\u001b[0m\u001b[0m\n\u001b[0m\u001b[0;32m     12\u001b[0m \u001b[1;33m\u001b[0m\u001b[0m\n\u001b[0;32m     13\u001b[0m \u001b[1;33m\u001b[0m\u001b[0m\n",
                        "\u001b[1;32m<ipython-input-14-f25c232e05b8>\u001b[0m in \u001b[0;36mdate_mutate\u001b[1;34m(col, df)\u001b[0m\n\u001b[0;32m      2\u001b[0m     \u001b[0mdf\u001b[0m\u001b[1;33m[\u001b[0m\u001b[0mcol\u001b[0m \u001b[1;33m+\u001b[0m \u001b[1;34m'_time'\u001b[0m\u001b[1;33m]\u001b[0m \u001b[1;33m=\u001b[0m \u001b[0mdf\u001b[0m\u001b[1;33m[\u001b[0m\u001b[0mcol\u001b[0m\u001b[1;33m]\u001b[0m\u001b[1;33m.\u001b[0m\u001b[0mstr\u001b[0m\u001b[1;33m.\u001b[0m\u001b[0mslice\u001b[0m\u001b[1;33m(\u001b[0m\u001b[1;36m11\u001b[0m\u001b[1;33m,\u001b[0m\u001b[1;33m-\u001b[0m\u001b[1;36m1\u001b[0m\u001b[1;33m)\u001b[0m\u001b[1;33m.\u001b[0m\u001b[0mastype\u001b[0m\u001b[1;33m(\u001b[0m\u001b[0mstr\u001b[0m\u001b[1;33m)\u001b[0m\u001b[1;33m\u001b[0m\u001b[1;33m\u001b[0m\u001b[0m\n\u001b[0;32m      3\u001b[0m     \u001b[0mdf\u001b[0m\u001b[1;33m[\u001b[0m\u001b[0mcol\u001b[0m\u001b[1;33m]\u001b[0m \u001b[1;33m=\u001b[0m \u001b[0mdf\u001b[0m\u001b[1;33m[\u001b[0m\u001b[0mcol\u001b[0m\u001b[1;33m]\u001b[0m\u001b[1;33m.\u001b[0m\u001b[0mstr\u001b[0m\u001b[1;33m.\u001b[0m\u001b[0mslice\u001b[0m\u001b[1;33m(\u001b[0m\u001b[1;36m0\u001b[0m\u001b[1;33m,\u001b[0m\u001b[1;36m10\u001b[0m\u001b[1;33m)\u001b[0m\u001b[1;33m\u001b[0m\u001b[1;33m\u001b[0m\u001b[0m\n\u001b[1;32m----> 4\u001b[1;33m     \u001b[0mdf\u001b[0m\u001b[1;33m[\u001b[0m\u001b[0mcol\u001b[0m \u001b[1;33m+\u001b[0m \u001b[1;34m'_2'\u001b[0m\u001b[1;33m]\u001b[0m \u001b[1;33m=\u001b[0m \u001b[1;33m[\u001b[0m\u001b[0mdatetime\u001b[0m\u001b[1;33m.\u001b[0m\u001b[0mstrptime\u001b[0m\u001b[1;33m(\u001b[0m\u001b[0mi\u001b[0m\u001b[1;33m,\u001b[0m\u001b[1;34m'%H:%M:%S.%f'\u001b[0m\u001b[1;33m)\u001b[0m\u001b[1;33m.\u001b[0m\u001b[0mstrftime\u001b[0m\u001b[1;33m(\u001b[0m\u001b[1;34m'%H%M%S'\u001b[0m\u001b[1;33m)\u001b[0m \u001b[1;32mfor\u001b[0m \u001b[0mi\u001b[0m \u001b[1;32min\u001b[0m \u001b[0mdf\u001b[0m\u001b[1;33m[\u001b[0m\u001b[0mcol\u001b[0m \u001b[1;33m+\u001b[0m \u001b[1;34m'_time'\u001b[0m\u001b[1;33m]\u001b[0m\u001b[1;33m]\u001b[0m\u001b[1;33m\u001b[0m\u001b[1;33m\u001b[0m\u001b[0m\n\u001b[0m\u001b[0;32m      5\u001b[0m     \u001b[1;32mreturn\u001b[0m \u001b[0mdf\u001b[0m\u001b[1;33m.\u001b[0m\u001b[0mhead\u001b[0m\u001b[1;33m(\u001b[0m\u001b[1;36m1\u001b[0m\u001b[1;33m)\u001b[0m\u001b[1;33m\u001b[0m\u001b[1;33m\u001b[0m\u001b[0m\n\u001b[0;32m      6\u001b[0m \u001b[1;33m\u001b[0m\u001b[0m\n",
                        "\u001b[1;32m<ipython-input-14-f25c232e05b8>\u001b[0m in \u001b[0;36m<listcomp>\u001b[1;34m(.0)\u001b[0m\n\u001b[0;32m      2\u001b[0m     \u001b[0mdf\u001b[0m\u001b[1;33m[\u001b[0m\u001b[0mcol\u001b[0m \u001b[1;33m+\u001b[0m \u001b[1;34m'_time'\u001b[0m\u001b[1;33m]\u001b[0m \u001b[1;33m=\u001b[0m \u001b[0mdf\u001b[0m\u001b[1;33m[\u001b[0m\u001b[0mcol\u001b[0m\u001b[1;33m]\u001b[0m\u001b[1;33m.\u001b[0m\u001b[0mstr\u001b[0m\u001b[1;33m.\u001b[0m\u001b[0mslice\u001b[0m\u001b[1;33m(\u001b[0m\u001b[1;36m11\u001b[0m\u001b[1;33m,\u001b[0m\u001b[1;33m-\u001b[0m\u001b[1;36m1\u001b[0m\u001b[1;33m)\u001b[0m\u001b[1;33m.\u001b[0m\u001b[0mastype\u001b[0m\u001b[1;33m(\u001b[0m\u001b[0mstr\u001b[0m\u001b[1;33m)\u001b[0m\u001b[1;33m\u001b[0m\u001b[1;33m\u001b[0m\u001b[0m\n\u001b[0;32m      3\u001b[0m     \u001b[0mdf\u001b[0m\u001b[1;33m[\u001b[0m\u001b[0mcol\u001b[0m\u001b[1;33m]\u001b[0m \u001b[1;33m=\u001b[0m \u001b[0mdf\u001b[0m\u001b[1;33m[\u001b[0m\u001b[0mcol\u001b[0m\u001b[1;33m]\u001b[0m\u001b[1;33m.\u001b[0m\u001b[0mstr\u001b[0m\u001b[1;33m.\u001b[0m\u001b[0mslice\u001b[0m\u001b[1;33m(\u001b[0m\u001b[1;36m0\u001b[0m\u001b[1;33m,\u001b[0m\u001b[1;36m10\u001b[0m\u001b[1;33m)\u001b[0m\u001b[1;33m\u001b[0m\u001b[1;33m\u001b[0m\u001b[0m\n\u001b[1;32m----> 4\u001b[1;33m     \u001b[0mdf\u001b[0m\u001b[1;33m[\u001b[0m\u001b[0mcol\u001b[0m \u001b[1;33m+\u001b[0m \u001b[1;34m'_2'\u001b[0m\u001b[1;33m]\u001b[0m \u001b[1;33m=\u001b[0m \u001b[1;33m[\u001b[0m\u001b[0mdatetime\u001b[0m\u001b[1;33m.\u001b[0m\u001b[0mstrptime\u001b[0m\u001b[1;33m(\u001b[0m\u001b[0mi\u001b[0m\u001b[1;33m,\u001b[0m\u001b[1;34m'%H:%M:%S.%f'\u001b[0m\u001b[1;33m)\u001b[0m\u001b[1;33m.\u001b[0m\u001b[0mstrftime\u001b[0m\u001b[1;33m(\u001b[0m\u001b[1;34m'%H%M%S'\u001b[0m\u001b[1;33m)\u001b[0m \u001b[1;32mfor\u001b[0m \u001b[0mi\u001b[0m \u001b[1;32min\u001b[0m \u001b[0mdf\u001b[0m\u001b[1;33m[\u001b[0m\u001b[0mcol\u001b[0m \u001b[1;33m+\u001b[0m \u001b[1;34m'_time'\u001b[0m\u001b[1;33m]\u001b[0m\u001b[1;33m]\u001b[0m\u001b[1;33m\u001b[0m\u001b[1;33m\u001b[0m\u001b[0m\n\u001b[0m\u001b[0;32m      5\u001b[0m     \u001b[1;32mreturn\u001b[0m \u001b[0mdf\u001b[0m\u001b[1;33m.\u001b[0m\u001b[0mhead\u001b[0m\u001b[1;33m(\u001b[0m\u001b[1;36m1\u001b[0m\u001b[1;33m)\u001b[0m\u001b[1;33m\u001b[0m\u001b[1;33m\u001b[0m\u001b[0m\n\u001b[0;32m      6\u001b[0m \u001b[1;33m\u001b[0m\u001b[0m\n",
                        "\u001b[1;32m~\\Miniconda3\\envs\\siming\\lib\\_strptime.py\u001b[0m in \u001b[0;36m_strptime_datetime\u001b[1;34m(cls, data_string, format)\u001b[0m\n\u001b[0;32m    566\u001b[0m     \"\"\"Return a class cls instance based on the input string and the\n\u001b[0;32m    567\u001b[0m     format string.\"\"\"\n\u001b[1;32m--> 568\u001b[1;33m     \u001b[0mtt\u001b[0m\u001b[1;33m,\u001b[0m \u001b[0mfraction\u001b[0m\u001b[1;33m,\u001b[0m \u001b[0mgmtoff_fraction\u001b[0m \u001b[1;33m=\u001b[0m \u001b[0m_strptime\u001b[0m\u001b[1;33m(\u001b[0m\u001b[0mdata_string\u001b[0m\u001b[1;33m,\u001b[0m \u001b[0mformat\u001b[0m\u001b[1;33m)\u001b[0m\u001b[1;33m\u001b[0m\u001b[1;33m\u001b[0m\u001b[0m\n\u001b[0m\u001b[0;32m    569\u001b[0m     \u001b[0mtzname\u001b[0m\u001b[1;33m,\u001b[0m \u001b[0mgmtoff\u001b[0m \u001b[1;33m=\u001b[0m \u001b[0mtt\u001b[0m\u001b[1;33m[\u001b[0m\u001b[1;33m-\u001b[0m\u001b[1;36m2\u001b[0m\u001b[1;33m:\u001b[0m\u001b[1;33m]\u001b[0m\u001b[1;33m\u001b[0m\u001b[1;33m\u001b[0m\u001b[0m\n\u001b[0;32m    570\u001b[0m     \u001b[0margs\u001b[0m \u001b[1;33m=\u001b[0m \u001b[0mtt\u001b[0m\u001b[1;33m[\u001b[0m\u001b[1;33m:\u001b[0m\u001b[1;36m6\u001b[0m\u001b[1;33m]\u001b[0m \u001b[1;33m+\u001b[0m \u001b[1;33m(\u001b[0m\u001b[0mfraction\u001b[0m\u001b[1;33m,\u001b[0m\u001b[1;33m)\u001b[0m\u001b[1;33m\u001b[0m\u001b[1;33m\u001b[0m\u001b[0m\n",
                        "\u001b[1;32m~\\Miniconda3\\envs\\siming\\lib\\_strptime.py\u001b[0m in \u001b[0;36m_strptime\u001b[1;34m(data_string, format)\u001b[0m\n\u001b[0;32m    347\u001b[0m     \u001b[0mfound\u001b[0m \u001b[1;33m=\u001b[0m \u001b[0mformat_regex\u001b[0m\u001b[1;33m.\u001b[0m\u001b[0mmatch\u001b[0m\u001b[1;33m(\u001b[0m\u001b[0mdata_string\u001b[0m\u001b[1;33m)\u001b[0m\u001b[1;33m\u001b[0m\u001b[1;33m\u001b[0m\u001b[0m\n\u001b[0;32m    348\u001b[0m     \u001b[1;32mif\u001b[0m \u001b[1;32mnot\u001b[0m \u001b[0mfound\u001b[0m\u001b[1;33m:\u001b[0m\u001b[1;33m\u001b[0m\u001b[1;33m\u001b[0m\u001b[0m\n\u001b[1;32m--> 349\u001b[1;33m         raise ValueError(\"time data %r does not match format %r\" %\n\u001b[0m\u001b[0;32m    350\u001b[0m                          (data_string, format))\n\u001b[0;32m    351\u001b[0m     \u001b[1;32mif\u001b[0m \u001b[0mlen\u001b[0m\u001b[1;33m(\u001b[0m\u001b[0mdata_string\u001b[0m\u001b[1;33m)\u001b[0m \u001b[1;33m!=\u001b[0m \u001b[0mfound\u001b[0m\u001b[1;33m.\u001b[0m\u001b[0mend\u001b[0m\u001b[1;33m(\u001b[0m\u001b[1;33m)\u001b[0m\u001b[1;33m:\u001b[0m\u001b[1;33m\u001b[0m\u001b[1;33m\u001b[0m\u001b[0m\n",
                        "\u001b[1;31mValueError\u001b[0m: time data '' does not match format '%H:%M:%S.%f'"
                    ]
                }
            ],
            "metadata": {}
        },
        {
            "cell_type": "code",
            "execution_count": 36,
            "source": [
                "def data_mani(first_df, df):\r\n",
                "    train_first = first_df.groupby(\r\n",
                "        'CREATION_DATE_TIME_STAMP'\r\n",
                "        ).agg({'receipt_id':['nunique'], \r\n",
                "        'total_lines': ['sum'], \r\n",
                "        'TOTAL_CONTAINERS': 'sum', \r\n",
                "        'TOTAL_WEIGHT':'sum',\r\n",
                "        'TOTAL_QTY': ['sum'],\r\n",
                "        'CREATION_DATE_TIME_STAMP_2': 'min' }).reset_index()\r\n",
                "        \r\n",
                "    train_full = df.groupby(\r\n",
                "        'CREATION_DATE_TIME_STAMP'\r\n",
                "        ).agg({'receipt_id':['nunique'], \r\n",
                "        'total_lines': ['sum'], \r\n",
                "        'TOTAL_CONTAINERS': 'sum', \r\n",
                "        'TOTAL_WEIGHT':'sum',\r\n",
                "        'TOTAL_QTY': ['sum'],\r\n",
                "        'CREATION_DATE_TIME_STAMP_2': 'max' }).reset_index()\r\n",
                "\r\n",
                "    train_full.columns = ['CREATION_DATE_TIME_STAMP','id', 'line_sum', 'container_sum', 'weight', 'qty', 'creat_time']\r\n",
                "    train_first.columns = ['CREATION_DATE_TIME_STAMP','id', 'line_sum', 'container_sum', 'weight', 'qty', 'creat_time']\r\n",
                "\r\n",
                "    train_first.index= pd.to_datetime(train_first['CREATION_DATE_TIME_STAMP'], \\\r\n",
                "        yearfirst = True,  format='%Y-%m-%d')\r\n",
                "    train_full.index = train_full['CREATION_DATE_TIME_STAMP']\r\n",
                "    train_full.index = pd.DatetimeIndex(train_full.index);train_full.index\r\n",
                "\r\n",
                "    train_full['CREATION_DATE_TIME_STAMP'] = pd.to_datetime(train_full['CREATION_DATE_TIME_STAMP'])\r\n",
                "    train_first['CREATION_DATE_TIME_STAMP'] = pd.to_datetime(train_first['CREATION_DATE_TIME_STAMP'])\r\n",
                "\r\n",
                "\r\n",
                "# plt1 = (train_full.sort_values(\r\n",
                "#     by = 'CREATION_DATE_TIME_STAMP')['qty'] - train_first.sort_values(\r\n",
                "#         by = 'CREATION_DATE_TIME_STAMP')['qty'] ).reset_index()\r\n",
                "# sns.lineplot(x = 'index', y  ='qty', data = plt1)"
            ],
            "outputs": [],
            "metadata": {}
        },
        {
            "cell_type": "code",
            "execution_count": 37,
            "source": [
                "data_mani(first_df, df)\r\n",
                "data_mani(df_test_first, df_test)"
            ],
            "outputs": [
                {
                    "output_type": "error",
                    "ename": "KeyError",
                    "evalue": "\"Column 'receipt_id' does not exist!\"",
                    "traceback": [
                        "\u001b[1;31m---------------------------------------------------------------------------\u001b[0m",
                        "\u001b[1;31mKeyError\u001b[0m                                  Traceback (most recent call last)",
                        "\u001b[1;32m<ipython-input-37-1d6fe1c30de6>\u001b[0m in \u001b[0;36m<module>\u001b[1;34m\u001b[0m\n\u001b[0;32m      1\u001b[0m \u001b[0mdata_mani\u001b[0m\u001b[1;33m(\u001b[0m\u001b[0mfirst_df\u001b[0m\u001b[1;33m,\u001b[0m \u001b[0mdf\u001b[0m\u001b[1;33m)\u001b[0m\u001b[1;33m\u001b[0m\u001b[1;33m\u001b[0m\u001b[0m\n\u001b[1;32m----> 2\u001b[1;33m \u001b[0mdata_mani\u001b[0m\u001b[1;33m(\u001b[0m\u001b[0mdf_test_first\u001b[0m\u001b[1;33m,\u001b[0m \u001b[0mdf_test\u001b[0m\u001b[1;33m)\u001b[0m\u001b[1;33m\u001b[0m\u001b[1;33m\u001b[0m\u001b[0m\n\u001b[0m",
                        "\u001b[1;32m<ipython-input-36-1ea7e8600f4e>\u001b[0m in \u001b[0;36mdata_mani\u001b[1;34m(first_df, df)\u001b[0m\n\u001b[0;32m      1\u001b[0m \u001b[1;32mdef\u001b[0m \u001b[0mdata_mani\u001b[0m\u001b[1;33m(\u001b[0m\u001b[0mfirst_df\u001b[0m\u001b[1;33m,\u001b[0m \u001b[0mdf\u001b[0m\u001b[1;33m)\u001b[0m\u001b[1;33m:\u001b[0m\u001b[1;33m\u001b[0m\u001b[1;33m\u001b[0m\u001b[0m\n\u001b[1;32m----> 2\u001b[1;33m     train_first = first_df.groupby(\n\u001b[0m\u001b[0;32m      3\u001b[0m         \u001b[1;34m'CREATION_DATE_TIME_STAMP'\u001b[0m\u001b[1;33m\u001b[0m\u001b[1;33m\u001b[0m\u001b[0m\n\u001b[0;32m      4\u001b[0m         ).agg({'receipt_id':['nunique'], \n\u001b[0;32m      5\u001b[0m         \u001b[1;34m'total_lines'\u001b[0m\u001b[1;33m:\u001b[0m \u001b[1;33m[\u001b[0m\u001b[1;34m'sum'\u001b[0m\u001b[1;33m]\u001b[0m\u001b[1;33m,\u001b[0m\u001b[1;33m\u001b[0m\u001b[1;33m\u001b[0m\u001b[0m\n",
                        "\u001b[1;32m~\\Miniconda3\\envs\\siming\\lib\\site-packages\\pandas\\core\\groupby\\generic.py\u001b[0m in \u001b[0;36maggregate\u001b[1;34m(self, func, engine, engine_kwargs, *args, **kwargs)\u001b[0m\n\u001b[0;32m    943\u001b[0m         \u001b[0mfunc\u001b[0m \u001b[1;33m=\u001b[0m \u001b[0mmaybe_mangle_lambdas\u001b[0m\u001b[1;33m(\u001b[0m\u001b[0mfunc\u001b[0m\u001b[1;33m)\u001b[0m\u001b[1;33m\u001b[0m\u001b[1;33m\u001b[0m\u001b[0m\n\u001b[0;32m    944\u001b[0m \u001b[1;33m\u001b[0m\u001b[0m\n\u001b[1;32m--> 945\u001b[1;33m         \u001b[0mresult\u001b[0m\u001b[1;33m,\u001b[0m \u001b[0mhow\u001b[0m \u001b[1;33m=\u001b[0m \u001b[0maggregate\u001b[0m\u001b[1;33m(\u001b[0m\u001b[0mself\u001b[0m\u001b[1;33m,\u001b[0m \u001b[0mfunc\u001b[0m\u001b[1;33m,\u001b[0m \u001b[1;33m*\u001b[0m\u001b[0margs\u001b[0m\u001b[1;33m,\u001b[0m \u001b[1;33m**\u001b[0m\u001b[0mkwargs\u001b[0m\u001b[1;33m)\u001b[0m\u001b[1;33m\u001b[0m\u001b[1;33m\u001b[0m\u001b[0m\n\u001b[0m\u001b[0;32m    946\u001b[0m         \u001b[1;32mif\u001b[0m \u001b[0mhow\u001b[0m \u001b[1;32mis\u001b[0m \u001b[1;32mNone\u001b[0m\u001b[1;33m:\u001b[0m\u001b[1;33m\u001b[0m\u001b[1;33m\u001b[0m\u001b[0m\n\u001b[0;32m    947\u001b[0m             \u001b[1;32mreturn\u001b[0m \u001b[0mresult\u001b[0m\u001b[1;33m\u001b[0m\u001b[1;33m\u001b[0m\u001b[0m\n",
                        "\u001b[1;32m~\\Miniconda3\\envs\\siming\\lib\\site-packages\\pandas\\core\\aggregation.py\u001b[0m in \u001b[0;36maggregate\u001b[1;34m(obj, arg, *args, **kwargs)\u001b[0m\n\u001b[0;32m    580\u001b[0m     \u001b[1;32melif\u001b[0m \u001b[0mis_dict_like\u001b[0m\u001b[1;33m(\u001b[0m\u001b[0marg\u001b[0m\u001b[1;33m)\u001b[0m\u001b[1;33m:\u001b[0m\u001b[1;33m\u001b[0m\u001b[1;33m\u001b[0m\u001b[0m\n\u001b[0;32m    581\u001b[0m         \u001b[0marg\u001b[0m \u001b[1;33m=\u001b[0m \u001b[0mcast\u001b[0m\u001b[1;33m(\u001b[0m\u001b[0mAggFuncTypeDict\u001b[0m\u001b[1;33m,\u001b[0m \u001b[0marg\u001b[0m\u001b[1;33m)\u001b[0m\u001b[1;33m\u001b[0m\u001b[1;33m\u001b[0m\u001b[0m\n\u001b[1;32m--> 582\u001b[1;33m         \u001b[1;32mreturn\u001b[0m \u001b[0magg_dict_like\u001b[0m\u001b[1;33m(\u001b[0m\u001b[0mobj\u001b[0m\u001b[1;33m,\u001b[0m \u001b[0marg\u001b[0m\u001b[1;33m,\u001b[0m \u001b[0m_axis\u001b[0m\u001b[1;33m)\u001b[0m\u001b[1;33m,\u001b[0m \u001b[1;32mTrue\u001b[0m\u001b[1;33m\u001b[0m\u001b[1;33m\u001b[0m\u001b[0m\n\u001b[0m\u001b[0;32m    583\u001b[0m     \u001b[1;32melif\u001b[0m \u001b[0mis_list_like\u001b[0m\u001b[1;33m(\u001b[0m\u001b[0marg\u001b[0m\u001b[1;33m)\u001b[0m\u001b[1;33m:\u001b[0m\u001b[1;33m\u001b[0m\u001b[1;33m\u001b[0m\u001b[0m\n\u001b[0;32m    584\u001b[0m         \u001b[1;31m# we require a list, but not an 'str'\u001b[0m\u001b[1;33m\u001b[0m\u001b[1;33m\u001b[0m\u001b[1;33m\u001b[0m\u001b[0m\n",
                        "\u001b[1;32m~\\Miniconda3\\envs\\siming\\lib\\site-packages\\pandas\\core\\aggregation.py\u001b[0m in \u001b[0;36magg_dict_like\u001b[1;34m(obj, arg, _axis)\u001b[0m\n\u001b[0;32m    744\u001b[0m                 \u001b[0misinstance\u001b[0m\u001b[1;33m(\u001b[0m\u001b[0mselected_obj\u001b[0m\u001b[1;33m,\u001b[0m \u001b[0mABCDataFrame\u001b[0m\u001b[1;33m)\u001b[0m \u001b[1;32mand\u001b[0m \u001b[0mk\u001b[0m \u001b[1;32mnot\u001b[0m \u001b[1;32min\u001b[0m \u001b[0mselected_obj\u001b[0m\u001b[1;33m.\u001b[0m\u001b[0mcolumns\u001b[0m\u001b[1;33m\u001b[0m\u001b[1;33m\u001b[0m\u001b[0m\n\u001b[0;32m    745\u001b[0m             ):\n\u001b[1;32m--> 746\u001b[1;33m                 \u001b[1;32mraise\u001b[0m \u001b[0mKeyError\u001b[0m\u001b[1;33m(\u001b[0m\u001b[1;34mf\"Column '{k}' does not exist!\"\u001b[0m\u001b[1;33m)\u001b[0m\u001b[1;33m\u001b[0m\u001b[1;33m\u001b[0m\u001b[0m\n\u001b[0m\u001b[0;32m    747\u001b[0m \u001b[1;33m\u001b[0m\u001b[0m\n\u001b[0;32m    748\u001b[0m         \u001b[0marg\u001b[0m \u001b[1;33m=\u001b[0m \u001b[0mnew_arg\u001b[0m\u001b[1;33m\u001b[0m\u001b[1;33m\u001b[0m\u001b[0m\n",
                        "\u001b[1;31mKeyError\u001b[0m: \"Column 'receipt_id' does not exist!\""
                    ]
                }
            ],
            "metadata": {}
        },
        {
            "cell_type": "markdown",
            "source": [
                "---"
            ],
            "metadata": {}
        },
        {
            "cell_type": "code",
            "execution_count": 6,
            "source": [
                "# train_first.index= pd.to_datetime(train_first['CREATION_DATE_TIME_STAMP'], yearfirst = True,  format='%Y-%m-%d')\r\n",
                "# train_first.pop('CREATION_DATE_TIME_STAMP')\r\n",
                "# train_full.pop('CREATION_DATE_TIME_STAMP')\r\n",
                "# train_full['qty'] = train_full['qty'].astype(int)\r\n",
                "# train_first['qty'] = train_first['qty'].astype(int)\r\n",
                "# train_first['qty2'] = train_full['qty'].to_numpy() ; train_first\r\n",
                "\r\n",
                "# train_first = train_first.reset_index()\r\n",
                "# train_first.drop(['qty2','CREATION_DATE_TIME_STAMP','creat_time'], axis =1) "
            ],
            "outputs": [],
            "metadata": {}
        },
        {
            "cell_type": "markdown",
            "source": [
                "# sktime; timeseries only prediction on trainfull\r\n"
            ],
            "metadata": {}
        },
        {
            "cell_type": "code",
            "execution_count": 7,
            "source": [
                "# train_full.index = train_full['CREATION_DATE_TIME_STAMP']\r\n",
                "# train_full.index = pd.DatetimeIndex(train_full.index);train_full.index\r\n",
                "train_full_sktime = train_full.asfreq('D')\r\n",
                "train_full_sktime = train_full_sktime.fillna(0);train_full_sktime\r\n"
            ],
            "outputs": [
                {
                    "output_type": "execute_result",
                    "data": {
                        "text/plain": [
                            "                         CREATION_DATE_TIME_STAMP    id  line_sum  \\\n",
                            "CREATION_DATE_TIME_STAMP                                            \n",
                            "2017-09-11                    2017-09-11 00:00:00   1.0       2.0   \n",
                            "2017-09-12                    2017-09-12 00:00:00   9.0      30.0   \n",
                            "2017-09-13                    2017-09-13 00:00:00   6.0       9.0   \n",
                            "2017-09-14                    2017-09-14 00:00:00  11.0      49.0   \n",
                            "2017-09-15                    2017-09-15 00:00:00   4.0      16.0   \n",
                            "...                                           ...   ...       ...   \n",
                            "2021-05-03                                      0   0.0       0.0   \n",
                            "2021-05-04                                      0   0.0       0.0   \n",
                            "2021-05-05                                      0   0.0       0.0   \n",
                            "2021-05-06                                      0   0.0       0.0   \n",
                            "2021-05-07                    2021-05-07 00:00:00   1.0       2.0   \n",
                            "\n",
                            "                          container_sum     weight       qty creat_time  \n",
                            "CREATION_DATE_TIME_STAMP                                                 \n",
                            "2017-09-11                         22.0   22000.00     880.0     032456  \n",
                            "2017-09-12                         96.0  850242.84  512046.0     084029  \n",
                            "2017-09-13                         41.0   41290.00    1778.0     014356  \n",
                            "2017-09-14                        140.0  121620.00   16690.0     071055  \n",
                            "2017-09-15                         36.0   96619.20   93797.0     034049  \n",
                            "...                                 ...        ...       ...        ...  \n",
                            "2021-05-03                          0.0       0.00       0.0          0  \n",
                            "2021-05-04                          0.0       0.00       0.0          0  \n",
                            "2021-05-05                          0.0       0.00       0.0          0  \n",
                            "2021-05-06                          0.0       0.00       0.0          0  \n",
                            "2021-05-07                         17.0    9292.50    5400.0     084451  \n",
                            "\n",
                            "[1335 rows x 7 columns]"
                        ],
                        "text/html": [
                            "<div>\n",
                            "<style scoped>\n",
                            "    .dataframe tbody tr th:only-of-type {\n",
                            "        vertical-align: middle;\n",
                            "    }\n",
                            "\n",
                            "    .dataframe tbody tr th {\n",
                            "        vertical-align: top;\n",
                            "    }\n",
                            "\n",
                            "    .dataframe thead th {\n",
                            "        text-align: right;\n",
                            "    }\n",
                            "</style>\n",
                            "<table border=\"1\" class=\"dataframe\">\n",
                            "  <thead>\n",
                            "    <tr style=\"text-align: right;\">\n",
                            "      <th></th>\n",
                            "      <th>CREATION_DATE_TIME_STAMP</th>\n",
                            "      <th>id</th>\n",
                            "      <th>line_sum</th>\n",
                            "      <th>container_sum</th>\n",
                            "      <th>weight</th>\n",
                            "      <th>qty</th>\n",
                            "      <th>creat_time</th>\n",
                            "    </tr>\n",
                            "    <tr>\n",
                            "      <th>CREATION_DATE_TIME_STAMP</th>\n",
                            "      <th></th>\n",
                            "      <th></th>\n",
                            "      <th></th>\n",
                            "      <th></th>\n",
                            "      <th></th>\n",
                            "      <th></th>\n",
                            "      <th></th>\n",
                            "    </tr>\n",
                            "  </thead>\n",
                            "  <tbody>\n",
                            "    <tr>\n",
                            "      <th>2017-09-11</th>\n",
                            "      <td>2017-09-11 00:00:00</td>\n",
                            "      <td>1.0</td>\n",
                            "      <td>2.0</td>\n",
                            "      <td>22.0</td>\n",
                            "      <td>22000.00</td>\n",
                            "      <td>880.0</td>\n",
                            "      <td>032456</td>\n",
                            "    </tr>\n",
                            "    <tr>\n",
                            "      <th>2017-09-12</th>\n",
                            "      <td>2017-09-12 00:00:00</td>\n",
                            "      <td>9.0</td>\n",
                            "      <td>30.0</td>\n",
                            "      <td>96.0</td>\n",
                            "      <td>850242.84</td>\n",
                            "      <td>512046.0</td>\n",
                            "      <td>084029</td>\n",
                            "    </tr>\n",
                            "    <tr>\n",
                            "      <th>2017-09-13</th>\n",
                            "      <td>2017-09-13 00:00:00</td>\n",
                            "      <td>6.0</td>\n",
                            "      <td>9.0</td>\n",
                            "      <td>41.0</td>\n",
                            "      <td>41290.00</td>\n",
                            "      <td>1778.0</td>\n",
                            "      <td>014356</td>\n",
                            "    </tr>\n",
                            "    <tr>\n",
                            "      <th>2017-09-14</th>\n",
                            "      <td>2017-09-14 00:00:00</td>\n",
                            "      <td>11.0</td>\n",
                            "      <td>49.0</td>\n",
                            "      <td>140.0</td>\n",
                            "      <td>121620.00</td>\n",
                            "      <td>16690.0</td>\n",
                            "      <td>071055</td>\n",
                            "    </tr>\n",
                            "    <tr>\n",
                            "      <th>2017-09-15</th>\n",
                            "      <td>2017-09-15 00:00:00</td>\n",
                            "      <td>4.0</td>\n",
                            "      <td>16.0</td>\n",
                            "      <td>36.0</td>\n",
                            "      <td>96619.20</td>\n",
                            "      <td>93797.0</td>\n",
                            "      <td>034049</td>\n",
                            "    </tr>\n",
                            "    <tr>\n",
                            "      <th>...</th>\n",
                            "      <td>...</td>\n",
                            "      <td>...</td>\n",
                            "      <td>...</td>\n",
                            "      <td>...</td>\n",
                            "      <td>...</td>\n",
                            "      <td>...</td>\n",
                            "      <td>...</td>\n",
                            "    </tr>\n",
                            "    <tr>\n",
                            "      <th>2021-05-03</th>\n",
                            "      <td>0</td>\n",
                            "      <td>0.0</td>\n",
                            "      <td>0.0</td>\n",
                            "      <td>0.0</td>\n",
                            "      <td>0.00</td>\n",
                            "      <td>0.0</td>\n",
                            "      <td>0</td>\n",
                            "    </tr>\n",
                            "    <tr>\n",
                            "      <th>2021-05-04</th>\n",
                            "      <td>0</td>\n",
                            "      <td>0.0</td>\n",
                            "      <td>0.0</td>\n",
                            "      <td>0.0</td>\n",
                            "      <td>0.00</td>\n",
                            "      <td>0.0</td>\n",
                            "      <td>0</td>\n",
                            "    </tr>\n",
                            "    <tr>\n",
                            "      <th>2021-05-05</th>\n",
                            "      <td>0</td>\n",
                            "      <td>0.0</td>\n",
                            "      <td>0.0</td>\n",
                            "      <td>0.0</td>\n",
                            "      <td>0.00</td>\n",
                            "      <td>0.0</td>\n",
                            "      <td>0</td>\n",
                            "    </tr>\n",
                            "    <tr>\n",
                            "      <th>2021-05-06</th>\n",
                            "      <td>0</td>\n",
                            "      <td>0.0</td>\n",
                            "      <td>0.0</td>\n",
                            "      <td>0.0</td>\n",
                            "      <td>0.00</td>\n",
                            "      <td>0.0</td>\n",
                            "      <td>0</td>\n",
                            "    </tr>\n",
                            "    <tr>\n",
                            "      <th>2021-05-07</th>\n",
                            "      <td>2021-05-07 00:00:00</td>\n",
                            "      <td>1.0</td>\n",
                            "      <td>2.0</td>\n",
                            "      <td>17.0</td>\n",
                            "      <td>9292.50</td>\n",
                            "      <td>5400.0</td>\n",
                            "      <td>084451</td>\n",
                            "    </tr>\n",
                            "  </tbody>\n",
                            "</table>\n",
                            "<p>1335 rows × 7 columns</p>\n",
                            "</div>"
                        ]
                    },
                    "metadata": {},
                    "execution_count": 7
                }
            ],
            "metadata": {}
        },
        {
            "cell_type": "code",
            "execution_count": null,
            "source": [
                "from sktime.forecasting.arima import AutoARIMA\r\n",
                "from sktime.forecasting.base import ForecastingHorizon\r\n",
                "from sktime.forecasting.theta import ThetaForecaster\r\n",
                "from sktime.forecasting.naive import NaiveForecaster\r\n",
                "from sktime.regression import ComposableTimeSeriesForestRegressor\r\n",
                "from sktime.forecasting.model_selection import temporal_train_test_split\r\n",
                "from sklearn.metrics import mean_absolute_percentage_error\r\n",
                "\r\n",
                "x = train_full_sktime.drop(['qty', 'CREATION_DATE_TIME_STAMP', 'creat_time'], axis = 1)\r\n",
                "y = train_full_sktime.loc[:,'qty']\r\n",
                "x_train, x_test , y_train, y_test = temporal_train_test_split(x, y)\r\n",
                "#\r\n",
                "#  # fh = ForecastingHorizon(x_test, is_relative=False)\r\n",
                "# forecaster = ComposableTimeSeriesForestRegressor(x = x_train, y = y_train)\r\n",
                "# forecaster.fit(x_train ,y = y_train)\r\n",
                "# y_pred = forecaster.predict(x_test)\r\n",
                "# mean_absolute_percentage_error(y_test, y_pred)\r\n",
                "\r\n",
                "forecaster = NaiveForecaster(sp = 21)\r\n",
                "forecaster.fit(y_train)\r\n",
                "\r\n",
                "fh = ForecastingHorizon(y_test.index, is_relative=False)\r\n",
                "y_pred = forecaster.predict(fh )\r\n",
                "mean_absolute_percentage_error(y_test, y_pred)\r\n",
                "\r\n"
            ],
            "outputs": [],
            "metadata": {}
        },
        {
            "cell_type": "code",
            "execution_count": null,
            "source": [
                "from sktime.regression.interval_based import  TimeSeriesForestRegressor"
            ],
            "outputs": [],
            "metadata": {}
        },
        {
            "cell_type": "code",
            "execution_count": null,
            "source": [
                "x_train.shape[1]"
            ],
            "outputs": [],
            "metadata": {}
        },
        {
            "cell_type": "code",
            "execution_count": null,
            "source": [
                "# forecaster = TimeSeriesForestRegressor( )\r\n",
                "# # fh = ForecastingHorizon(x_test, is_relative=False)\r\n",
                "# forecaster.fit(X = x_train,  y = y_train)\r\n",
                "# y_pred = forecaster.predict(x_test)\r\n",
                "# mean_absolute_percentage_error(y_test, y_pred)"
            ],
            "outputs": [],
            "metadata": {}
        },
        {
            "cell_type": "markdown",
            "source": [
                "---\r\n",
                "\r\n",
                "# prophet prepare"
            ],
            "metadata": {}
        },
        {
            "cell_type": "code",
            "execution_count": 8,
            "source": [
                "# train_full = train_full_sktime\r\n",
                "train_full = train_full.asfreq('D')\r\n",
                "train_full = train_full.fillna(0) \r\n",
                "train_first = train_first.asfreq('D')\r\n",
                "train_first = train_first.fillna(0)\r\n",
                "train_full['CREATION_DATE_TIME_STAMP'] = train_full.index\r\n",
                "train_first['CREATION_DATE_TIME_STAMP'] = train_first.index\r\n",
                "\r\n",
                "\r\n",
                "# train_full\r\n",
                "train_full = train_full.reset_index(drop =True)\r\n",
                "train_first = train_first.reset_index(drop =True)\r\n",
                "\r\n",
                "train_fin = train_full.merge(train_first, \r\n",
                "    on = 'CREATION_DATE_TIME_STAMP', \r\n",
                "    how = 'outer',\r\n",
                "    suffixes = ['_full', '_first'])\r\n",
                "train_fin = train_fin.fillna(0);train_fin"
            ],
            "outputs": [
                {
                    "output_type": "execute_result",
                    "data": {
                        "text/plain": [
                            "                         CREATION_DATE_TIME_STAMP    id  line_sum  \\\n",
                            "CREATION_DATE_TIME_STAMP                                            \n",
                            "2017-09-11                             2017-09-11   1.0       2.0   \n",
                            "2017-09-12                             2017-09-12   9.0      30.0   \n",
                            "2017-09-13                             2017-09-13   6.0       9.0   \n",
                            "2017-09-14                             2017-09-14  11.0      49.0   \n",
                            "2017-09-15                             2017-09-15   4.0      16.0   \n",
                            "...                                           ...   ...       ...   \n",
                            "2021-05-03                             2021-05-03   0.0       0.0   \n",
                            "2021-05-04                             2021-05-04   0.0       0.0   \n",
                            "2021-05-05                             2021-05-05   0.0       0.0   \n",
                            "2021-05-06                             2021-05-06   0.0       0.0   \n",
                            "2021-05-07                             2021-05-07   1.0       2.0   \n",
                            "\n",
                            "                          container_sum     weight       qty creat_time  \n",
                            "CREATION_DATE_TIME_STAMP                                                 \n",
                            "2017-09-11                         22.0   22000.00     880.0     032456  \n",
                            "2017-09-12                         96.0  850242.84  512046.0     084029  \n",
                            "2017-09-13                         41.0   41290.00    1778.0     014356  \n",
                            "2017-09-14                        140.0  121620.00   16690.0     071055  \n",
                            "2017-09-15                         36.0   96619.20   93797.0     034049  \n",
                            "...                                 ...        ...       ...        ...  \n",
                            "2021-05-03                          0.0       0.00       0.0          0  \n",
                            "2021-05-04                          0.0       0.00       0.0          0  \n",
                            "2021-05-05                          0.0       0.00       0.0          0  \n",
                            "2021-05-06                          0.0       0.00       0.0          0  \n",
                            "2021-05-07                         17.0    9292.50    5400.0     084451  \n",
                            "\n",
                            "[1335 rows x 7 columns]"
                        ],
                        "text/html": [
                            "<div>\n",
                            "<style scoped>\n",
                            "    .dataframe tbody tr th:only-of-type {\n",
                            "        vertical-align: middle;\n",
                            "    }\n",
                            "\n",
                            "    .dataframe tbody tr th {\n",
                            "        vertical-align: top;\n",
                            "    }\n",
                            "\n",
                            "    .dataframe thead th {\n",
                            "        text-align: right;\n",
                            "    }\n",
                            "</style>\n",
                            "<table border=\"1\" class=\"dataframe\">\n",
                            "  <thead>\n",
                            "    <tr style=\"text-align: right;\">\n",
                            "      <th></th>\n",
                            "      <th>CREATION_DATE_TIME_STAMP</th>\n",
                            "      <th>id</th>\n",
                            "      <th>line_sum</th>\n",
                            "      <th>container_sum</th>\n",
                            "      <th>weight</th>\n",
                            "      <th>qty</th>\n",
                            "      <th>creat_time</th>\n",
                            "    </tr>\n",
                            "    <tr>\n",
                            "      <th>CREATION_DATE_TIME_STAMP</th>\n",
                            "      <th></th>\n",
                            "      <th></th>\n",
                            "      <th></th>\n",
                            "      <th></th>\n",
                            "      <th></th>\n",
                            "      <th></th>\n",
                            "      <th></th>\n",
                            "    </tr>\n",
                            "  </thead>\n",
                            "  <tbody>\n",
                            "    <tr>\n",
                            "      <th>2017-09-11</th>\n",
                            "      <td>2017-09-11</td>\n",
                            "      <td>1.0</td>\n",
                            "      <td>2.0</td>\n",
                            "      <td>22.0</td>\n",
                            "      <td>22000.00</td>\n",
                            "      <td>880.0</td>\n",
                            "      <td>032456</td>\n",
                            "    </tr>\n",
                            "    <tr>\n",
                            "      <th>2017-09-12</th>\n",
                            "      <td>2017-09-12</td>\n",
                            "      <td>9.0</td>\n",
                            "      <td>30.0</td>\n",
                            "      <td>96.0</td>\n",
                            "      <td>850242.84</td>\n",
                            "      <td>512046.0</td>\n",
                            "      <td>084029</td>\n",
                            "    </tr>\n",
                            "    <tr>\n",
                            "      <th>2017-09-13</th>\n",
                            "      <td>2017-09-13</td>\n",
                            "      <td>6.0</td>\n",
                            "      <td>9.0</td>\n",
                            "      <td>41.0</td>\n",
                            "      <td>41290.00</td>\n",
                            "      <td>1778.0</td>\n",
                            "      <td>014356</td>\n",
                            "    </tr>\n",
                            "    <tr>\n",
                            "      <th>2017-09-14</th>\n",
                            "      <td>2017-09-14</td>\n",
                            "      <td>11.0</td>\n",
                            "      <td>49.0</td>\n",
                            "      <td>140.0</td>\n",
                            "      <td>121620.00</td>\n",
                            "      <td>16690.0</td>\n",
                            "      <td>071055</td>\n",
                            "    </tr>\n",
                            "    <tr>\n",
                            "      <th>2017-09-15</th>\n",
                            "      <td>2017-09-15</td>\n",
                            "      <td>4.0</td>\n",
                            "      <td>16.0</td>\n",
                            "      <td>36.0</td>\n",
                            "      <td>96619.20</td>\n",
                            "      <td>93797.0</td>\n",
                            "      <td>034049</td>\n",
                            "    </tr>\n",
                            "    <tr>\n",
                            "      <th>...</th>\n",
                            "      <td>...</td>\n",
                            "      <td>...</td>\n",
                            "      <td>...</td>\n",
                            "      <td>...</td>\n",
                            "      <td>...</td>\n",
                            "      <td>...</td>\n",
                            "      <td>...</td>\n",
                            "    </tr>\n",
                            "    <tr>\n",
                            "      <th>2021-05-03</th>\n",
                            "      <td>2021-05-03</td>\n",
                            "      <td>0.0</td>\n",
                            "      <td>0.0</td>\n",
                            "      <td>0.0</td>\n",
                            "      <td>0.00</td>\n",
                            "      <td>0.0</td>\n",
                            "      <td>0</td>\n",
                            "    </tr>\n",
                            "    <tr>\n",
                            "      <th>2021-05-04</th>\n",
                            "      <td>2021-05-04</td>\n",
                            "      <td>0.0</td>\n",
                            "      <td>0.0</td>\n",
                            "      <td>0.0</td>\n",
                            "      <td>0.00</td>\n",
                            "      <td>0.0</td>\n",
                            "      <td>0</td>\n",
                            "    </tr>\n",
                            "    <tr>\n",
                            "      <th>2021-05-05</th>\n",
                            "      <td>2021-05-05</td>\n",
                            "      <td>0.0</td>\n",
                            "      <td>0.0</td>\n",
                            "      <td>0.0</td>\n",
                            "      <td>0.00</td>\n",
                            "      <td>0.0</td>\n",
                            "      <td>0</td>\n",
                            "    </tr>\n",
                            "    <tr>\n",
                            "      <th>2021-05-06</th>\n",
                            "      <td>2021-05-06</td>\n",
                            "      <td>0.0</td>\n",
                            "      <td>0.0</td>\n",
                            "      <td>0.0</td>\n",
                            "      <td>0.00</td>\n",
                            "      <td>0.0</td>\n",
                            "      <td>0</td>\n",
                            "    </tr>\n",
                            "    <tr>\n",
                            "      <th>2021-05-07</th>\n",
                            "      <td>2021-05-07</td>\n",
                            "      <td>1.0</td>\n",
                            "      <td>2.0</td>\n",
                            "      <td>17.0</td>\n",
                            "      <td>9292.50</td>\n",
                            "      <td>5400.0</td>\n",
                            "      <td>084451</td>\n",
                            "    </tr>\n",
                            "  </tbody>\n",
                            "</table>\n",
                            "<p>1335 rows × 7 columns</p>\n",
                            "</div>"
                        ]
                    },
                    "metadata": {},
                    "execution_count": 8
                }
            ],
            "metadata": {}
        },
        {
            "cell_type": "code",
            "execution_count": 10,
            "source": [
                "# train_full['creat_time_first']\r\n",
                "train_fin['span_first'] = train_fin[\r\n",
                "    'creat_time_first'\r\n",
                "    ].str.slice(1,2).fillna(\r\n",
                "        0\r\n",
                "        ).astype(int, errors = 'ignore') + train_fin['creat_time_first'].str.slice(2,4).fillna(\r\n",
                "            0\r\n",
                "            ).astype(int, errors = 'ignore')/60*1 + 8\r\n",
                "\r\n",
                "# # train_full['creat_time_x']\r\n",
                "# train_first['span_full'] = train_first['creat_time_full'].str.slice(1,2).astype(int) + \r\n",
                "#     train_first['creat_time_full'].str.slice(2,4).astype(int)/60*1 + 8\r\n",
                "train_first['span_first'] = train_first[\r\n",
                "    'creat_time'\r\n",
                "    ].str.slice(1,2).fillna(\r\n",
                "        0\r\n",
                "        ).astype(int, errors = 'ignore') + train_first['creat_time'].str.slice(2,4).fillna(\r\n",
                "            0\r\n",
                "            ).astype(int, errors = 'ignore')/60*1 + 8\r\n",
                "train_first = train_first.drop('creat_time', axis = 1)"
            ],
            "outputs": [],
            "metadata": {}
        },
        {
            "cell_type": "code",
            "execution_count": 13,
            "source": [
                "# from sktime.forecasting.model_selection import temporal_train_test_split\r\n",
                "from sklearn.model_selection import train_test_split\r\n",
                "\r\n",
                "x = train_first \r\n",
                "x['y'] = train_fin['qty_full']\r\n",
                "# x['CREATION_DATE_TIME_STAMP'] = x.index\r\n",
                "x_train, x_test = train_test_split(x, train_size = .75, shuffle = False, random_state = 52943)\r\n",
                "\r\n",
                "cols = [i for i in x.columns if i not in ['y', 'CREATION_DATE_TIME_STAMP']]\r\n"
            ],
            "outputs": [],
            "metadata": {}
        },
        {
            "cell_type": "code",
            "execution_count": 13,
            "source": [
                "%%time\r\n",
                "\r\n",
                "from fbprophet import Prophet\r\n",
                "# df = x[['CREATION_DATE_TIME_STAMP', 'qty']]\r\n",
                "df_naiv = x_train \r\n",
                "df_naiv = df_naiv.rename({'CREATION_DATE_TIME_STAMP' : 'ds'}, axis = 1)\r\n",
                "m = Prophet()\r\n",
                "[m.add_regressor(i) for i in cols]\r\n",
                "\r\n",
                "m.fit(df_naiv)\r\n",
                "\r\n",
                "from sklearn.metrics import mean_absolute_percentage_error\r\n",
                "df_naiv_test = x_test\r\n",
                "df_naiv_test = df_naiv_test.rename({'CREATION_DATE_TIME_STAMP' : 'ds'}, axis = 1)\r\n",
                "# m.predict(x_test)\r\n",
                "mean_absolute_percentage_error(df_naiv_test['y'], m.predict(df_naiv_test)['yhat'])\r\n",
                "# fig = m.plot_components(m.predict(x_test))"
            ],
            "outputs": [
                {
                    "output_type": "stream",
                    "name": "stderr",
                    "text": [
                        "INFO:fbprophet:Disabling daily seasonality. Run prophet with daily_seasonality=True to override this.\n"
                    ]
                },
                {
                    "output_type": "stream",
                    "name": "stdout",
                    "text": [
                        "Wall time: 3.17 s\n"
                    ]
                },
                {
                    "output_type": "execute_result",
                    "data": {
                        "text/plain": [
                            "<fbprophet.forecaster.Prophet at 0x291b3f700d0>"
                        ]
                    },
                    "metadata": {},
                    "execution_count": 13
                }
            ],
            "metadata": {}
        },
        {
            "cell_type": "code",
            "execution_count": null,
            "source": [
                "# m.plot_components(m.predict(df2))\r\n",
                "# plt.show()"
            ],
            "outputs": [],
            "metadata": {}
        },
        {
            "cell_type": "code",
            "execution_count": null,
            "source": [
                "# m.plot(m.predict(df2))\r\n",
                "# plt.show()"
            ],
            "outputs": [],
            "metadata": {}
        },
        {
            "cell_type": "markdown",
            "source": [
                "---"
            ],
            "metadata": {}
        },
        {
            "cell_type": "markdown",
            "source": [
                "# pseudo labeling"
            ],
            "metadata": {}
        },
        {
            "cell_type": "code",
            "execution_count": 14,
            "source": [
                "train_first['dif'] = train_first['qty'] - train_full['qty'] != 0\r\n",
                "train_first['dif'] = [1 if i == True else 0 for i in train_first['dif']]\r\n",
                "\r\n",
                "train_full['dif'] = train_first['qty'] - train_full['qty'] != 0\r\n",
                "train_full['dif'] = [1 if i == True else 0 for i in train_full['dif']]\r\n",
                "\r\n",
                "# train_full['diff'] = train_full['qty_x'] - train_full['qty_y'] ==  0\r\n",
                "# train_full['diff'] = [1 if i == True else 0 for i in train_full['diff']]\r\n",
                "# train_full = train_full.asfreq('D')"
            ],
            "outputs": [],
            "metadata": {}
        },
        {
            "cell_type": "code",
            "execution_count": 15,
            "source": [
                "x = train_first.drop('y', axis  =1 )\r\n",
                "x_train, x_test = train_test_split(x, train_size = .75, shuffle = False, random_state = -1)\r\n"
            ],
            "outputs": [],
            "metadata": {}
        },
        {
            "cell_type": "code",
            "execution_count": 16,
            "source": [
                "%%time\r\n",
                "from fbprophet import Prophet \r\n",
                "df_lb = x_train \r\n",
                "\r\n",
                "## qty_x s是最终预测值, 所以要drop\r\n",
                "cols_lb = [i for i in df_lb.columns \r\n",
                "    if i not in ['dif', 'CREATION_DATE_TIME_STAMP']]\r\n",
                "\r\n",
                "# df_lb = df_lb.drop(['creat_time_x','creat_time_y', 'qty_x'], axis =1 )\r\n",
                "df_lb = df_lb.rename({'CREATION_DATE_TIME_STAMP' : 'ds', 'dif': 'y'}, axis = 1)\r\n",
                "m = Prophet(daily_seasonality=True) \r\n",
                "\r\n",
                "\"\"\"\r\n",
                "0.12379144878303337 daily_seasonality=True; empty 0.12318682390845224\r\n",
                "\"\"\"\r\n",
                "\r\n",
                "\r\n",
                "[m.add_regressor(i) for i in cols_lb]\r\n",
                "\r\n",
                "m.fit(df_lb)\r\n",
                "\r\n",
                "# ?mean_absolute_percentage_error\r\n",
                "from sktime.performance_metrics.forecasting import  mean_absolute_percentage_error\r\n",
                "from sktime.performance_metrics.forecasting import mean_absolute_error\r\n",
                "from sklearn.metrics import accuracy_score\r\n",
                "\r\n",
                "# x_test1 = x_test.drop(['dif'], axis =1 )\r\n",
                "x_test1 = x_test.rename({'CREATION_DATE_TIME_STAMP' : 'ds', 'dif': 'y'}, axis = 1)\r\n",
                " \r\n",
                "# m.predict(x_test)\r\n",
                "forecast = m.predict(x_test1)\r\n",
                "mean_absolute_error(x_test1['y'], m.predict(x_test1)['yhat'])\r\n",
                "# fig = m.plot_components(m.predict(x_test))"
            ],
            "outputs": [
                {
                    "output_type": "stream",
                    "name": "stdout",
                    "text": [
                        "Wall time: 11.1 s\n"
                    ]
                },
                {
                    "output_type": "execute_result",
                    "data": {
                        "text/plain": [
                            "0.12379144878303337"
                        ]
                    },
                    "metadata": {},
                    "execution_count": 16
                }
            ],
            "metadata": {}
        },
        {
            "cell_type": "code",
            "execution_count": 17,
            "source": [
                "# # %%warning = False\r\n",
                "# from prophet.plot import plot_plotly, plot_components_plotly\r\n",
                "\r\n",
                "# plot_plotly(m, forecast)\r\n",
                " "
            ],
            "outputs": [],
            "metadata": {}
        },
        {
            "cell_type": "code",
            "execution_count": 18,
            "source": [
                "lb_prophet_result = pd.DataFrame(forecast['yhat'])\r\n",
                "lb_prophet_result['abs_diff'] = np.abs(forecast['yhat'] - .5)\r\n",
                "lb_prophet_result.sort_values('abs_diff').iloc[0,0]"
            ],
            "outputs": [
                {
                    "output_type": "execute_result",
                    "data": {
                        "text/plain": [
                            "0.7434468844249535"
                        ]
                    },
                    "metadata": {},
                    "execution_count": 18
                }
            ],
            "metadata": {}
        },
        {
            "cell_type": "code",
            "execution_count": 19,
            "source": [
                "acc_score_data  = [1 if i>=lb_prophet_result['yhat'].mean() \\\r\n",
                "    else 0 for i in forecast['yhat']]\r\n",
                "\r\n",
                "acc_score_data1 = [1 if i>=lb_prophet_result.sort_values('abs_diff').iloc[0,0] \\\r\n",
                "    else 0 for i in forecast['yhat']]\r\n",
                "    \r\n",
                "acc_score_data2 = [1 if i>lb_prophet_result['yhat'].std() \\\r\n",
                "    else 0 for i in forecast['yhat']]\r\n",
                "\r\n",
                "# mean_absolute_error(x_test1['y'], m.predict(x_test1)['yhat'])\r\n",
                "[accuracy_score(x_test1['y'],i) for i in [acc_score_data, acc_score_data1, acc_score_data2]]\r\n"
            ],
            "outputs": [
                {
                    "output_type": "execute_result",
                    "data": {
                        "text/plain": [
                            "[0.9161676646706587, 0.9161676646706587, 0.9161676646706587]"
                        ]
                    },
                    "metadata": {},
                    "execution_count": 19
                }
            ],
            "metadata": {}
        },
        {
            "cell_type": "markdown",
            "source": [
                "----\r\n",
                "## try h2o predict qty"
            ],
            "metadata": {}
        },
        {
            "cell_type": "code",
            "execution_count": 23,
            "source": [
                "x_train2 = x_train[x_train['dif'] == 1] \r\n",
                "x_test2 = x_test[x_test['dif'] == 1];len(x_test2)\r\n",
                "x_train2['qty_tar'] = train_full[train_full['dif'] == 1].iloc[0:len(x_train2), :]['qty']\r\n",
                "x_test2['qty_tar'] = train_full[train_full['dif'] == 1].iloc[len(x_train2):, :]['qty'];x_train2"
            ],
            "outputs": [
                {
                    "output_type": "stream",
                    "name": "stderr",
                    "text": [
                        "<ipython-input-23-dd408b05bf4d>:3: SettingWithCopyWarning: \n",
                        "A value is trying to be set on a copy of a slice from a DataFrame.\n",
                        "Try using .loc[row_indexer,col_indexer] = value instead\n",
                        "\n",
                        "See the caveats in the documentation: https://pandas.pydata.org/pandas-docs/stable/user_guide/indexing.html#returning-a-view-versus-a-copy\n",
                        "  x_train2['qty_tar'] = train_full[train_full['dif'] == 1].iloc[0:len(x_train2), :]['qty']\n",
                        "<ipython-input-23-dd408b05bf4d>:4: SettingWithCopyWarning: \n",
                        "A value is trying to be set on a copy of a slice from a DataFrame.\n",
                        "Try using .loc[row_indexer,col_indexer] = value instead\n",
                        "\n",
                        "See the caveats in the documentation: https://pandas.pydata.org/pandas-docs/stable/user_guide/indexing.html#returning-a-view-versus-a-copy\n",
                        "  x_test2['qty_tar'] = train_full[train_full['dif'] == 1].iloc[len(x_train2):, :]['qty'];x_train2\n"
                    ]
                },
                {
                    "output_type": "execute_result",
                    "data": {
                        "text/plain": [
                            "    CREATION_DATE_TIME_STAMP   id  line_sum  container_sum    weight      qty  \\\n",
                            "1                 2017-09-12  1.0       1.0           19.0  18600.00    744.0   \n",
                            "2                 2017-09-13  1.0       1.0            1.0    100.00      4.0   \n",
                            "3                 2017-09-14  1.0       1.0            9.0   8000.00   6000.0   \n",
                            "4                 2017-09-15  1.0       2.0           13.0  12525.00    501.0   \n",
                            "7                 2017-09-18  1.0       1.0            1.0      0.00    600.0   \n",
                            "..                       ...  ...       ...            ...       ...      ...   \n",
                            "990               2020-05-28  1.0       5.0           10.0   1450.00    148.0   \n",
                            "991               2020-05-29  1.0       6.0           15.0  15487.20   8310.0   \n",
                            "994               2020-06-01  1.0       1.0            2.0   9651.44   6470.0   \n",
                            "996               2020-06-03  1.0       2.0            4.0    500.00      8.0   \n",
                            "997               2020-06-04  1.0       1.0           23.0  16236.00  10824.0   \n",
                            "\n",
                            "     span_first  dif   qty_tar  \n",
                            "1     13.116667    1  512046.0  \n",
                            "2      9.366667    1    1778.0  \n",
                            "3      8.400000    1   16690.0  \n",
                            "4      9.783333    1   93797.0  \n",
                            "7      8.966667    1  122508.0  \n",
                            "..          ...  ...       ...  \n",
                            "990   14.850000    1  276520.0  \n",
                            "991   12.616667    1   75476.0  \n",
                            "994   10.850000    1   78856.0  \n",
                            "996    8.850000    1     552.0  \n",
                            "997    9.983333    1   11051.0  \n",
                            "\n",
                            "[652 rows x 9 columns]"
                        ],
                        "text/html": [
                            "<div>\n",
                            "<style scoped>\n",
                            "    .dataframe tbody tr th:only-of-type {\n",
                            "        vertical-align: middle;\n",
                            "    }\n",
                            "\n",
                            "    .dataframe tbody tr th {\n",
                            "        vertical-align: top;\n",
                            "    }\n",
                            "\n",
                            "    .dataframe thead th {\n",
                            "        text-align: right;\n",
                            "    }\n",
                            "</style>\n",
                            "<table border=\"1\" class=\"dataframe\">\n",
                            "  <thead>\n",
                            "    <tr style=\"text-align: right;\">\n",
                            "      <th></th>\n",
                            "      <th>CREATION_DATE_TIME_STAMP</th>\n",
                            "      <th>id</th>\n",
                            "      <th>line_sum</th>\n",
                            "      <th>container_sum</th>\n",
                            "      <th>weight</th>\n",
                            "      <th>qty</th>\n",
                            "      <th>span_first</th>\n",
                            "      <th>dif</th>\n",
                            "      <th>qty_tar</th>\n",
                            "    </tr>\n",
                            "  </thead>\n",
                            "  <tbody>\n",
                            "    <tr>\n",
                            "      <th>1</th>\n",
                            "      <td>2017-09-12</td>\n",
                            "      <td>1.0</td>\n",
                            "      <td>1.0</td>\n",
                            "      <td>19.0</td>\n",
                            "      <td>18600.00</td>\n",
                            "      <td>744.0</td>\n",
                            "      <td>13.116667</td>\n",
                            "      <td>1</td>\n",
                            "      <td>512046.0</td>\n",
                            "    </tr>\n",
                            "    <tr>\n",
                            "      <th>2</th>\n",
                            "      <td>2017-09-13</td>\n",
                            "      <td>1.0</td>\n",
                            "      <td>1.0</td>\n",
                            "      <td>1.0</td>\n",
                            "      <td>100.00</td>\n",
                            "      <td>4.0</td>\n",
                            "      <td>9.366667</td>\n",
                            "      <td>1</td>\n",
                            "      <td>1778.0</td>\n",
                            "    </tr>\n",
                            "    <tr>\n",
                            "      <th>3</th>\n",
                            "      <td>2017-09-14</td>\n",
                            "      <td>1.0</td>\n",
                            "      <td>1.0</td>\n",
                            "      <td>9.0</td>\n",
                            "      <td>8000.00</td>\n",
                            "      <td>6000.0</td>\n",
                            "      <td>8.400000</td>\n",
                            "      <td>1</td>\n",
                            "      <td>16690.0</td>\n",
                            "    </tr>\n",
                            "    <tr>\n",
                            "      <th>4</th>\n",
                            "      <td>2017-09-15</td>\n",
                            "      <td>1.0</td>\n",
                            "      <td>2.0</td>\n",
                            "      <td>13.0</td>\n",
                            "      <td>12525.00</td>\n",
                            "      <td>501.0</td>\n",
                            "      <td>9.783333</td>\n",
                            "      <td>1</td>\n",
                            "      <td>93797.0</td>\n",
                            "    </tr>\n",
                            "    <tr>\n",
                            "      <th>7</th>\n",
                            "      <td>2017-09-18</td>\n",
                            "      <td>1.0</td>\n",
                            "      <td>1.0</td>\n",
                            "      <td>1.0</td>\n",
                            "      <td>0.00</td>\n",
                            "      <td>600.0</td>\n",
                            "      <td>8.966667</td>\n",
                            "      <td>1</td>\n",
                            "      <td>122508.0</td>\n",
                            "    </tr>\n",
                            "    <tr>\n",
                            "      <th>...</th>\n",
                            "      <td>...</td>\n",
                            "      <td>...</td>\n",
                            "      <td>...</td>\n",
                            "      <td>...</td>\n",
                            "      <td>...</td>\n",
                            "      <td>...</td>\n",
                            "      <td>...</td>\n",
                            "      <td>...</td>\n",
                            "      <td>...</td>\n",
                            "    </tr>\n",
                            "    <tr>\n",
                            "      <th>990</th>\n",
                            "      <td>2020-05-28</td>\n",
                            "      <td>1.0</td>\n",
                            "      <td>5.0</td>\n",
                            "      <td>10.0</td>\n",
                            "      <td>1450.00</td>\n",
                            "      <td>148.0</td>\n",
                            "      <td>14.850000</td>\n",
                            "      <td>1</td>\n",
                            "      <td>276520.0</td>\n",
                            "    </tr>\n",
                            "    <tr>\n",
                            "      <th>991</th>\n",
                            "      <td>2020-05-29</td>\n",
                            "      <td>1.0</td>\n",
                            "      <td>6.0</td>\n",
                            "      <td>15.0</td>\n",
                            "      <td>15487.20</td>\n",
                            "      <td>8310.0</td>\n",
                            "      <td>12.616667</td>\n",
                            "      <td>1</td>\n",
                            "      <td>75476.0</td>\n",
                            "    </tr>\n",
                            "    <tr>\n",
                            "      <th>994</th>\n",
                            "      <td>2020-06-01</td>\n",
                            "      <td>1.0</td>\n",
                            "      <td>1.0</td>\n",
                            "      <td>2.0</td>\n",
                            "      <td>9651.44</td>\n",
                            "      <td>6470.0</td>\n",
                            "      <td>10.850000</td>\n",
                            "      <td>1</td>\n",
                            "      <td>78856.0</td>\n",
                            "    </tr>\n",
                            "    <tr>\n",
                            "      <th>996</th>\n",
                            "      <td>2020-06-03</td>\n",
                            "      <td>1.0</td>\n",
                            "      <td>2.0</td>\n",
                            "      <td>4.0</td>\n",
                            "      <td>500.00</td>\n",
                            "      <td>8.0</td>\n",
                            "      <td>8.850000</td>\n",
                            "      <td>1</td>\n",
                            "      <td>552.0</td>\n",
                            "    </tr>\n",
                            "    <tr>\n",
                            "      <th>997</th>\n",
                            "      <td>2020-06-04</td>\n",
                            "      <td>1.0</td>\n",
                            "      <td>1.0</td>\n",
                            "      <td>23.0</td>\n",
                            "      <td>16236.00</td>\n",
                            "      <td>10824.0</td>\n",
                            "      <td>9.983333</td>\n",
                            "      <td>1</td>\n",
                            "      <td>11051.0</td>\n",
                            "    </tr>\n",
                            "  </tbody>\n",
                            "</table>\n",
                            "<p>652 rows × 9 columns</p>\n",
                            "</div>"
                        ]
                    },
                    "metadata": {},
                    "execution_count": 23
                }
            ],
            "metadata": {}
        },
        {
            "cell_type": "code",
            "execution_count": 24,
            "source": [
                "import h2o\r\n",
                "from h2o.estimators import H2OIsolationForestEstimator\r\n",
                "from h2o.estimators import H2ODeepLearningEstimator\r\n",
                "from h2o.estimators import H2OXGBoostEstimator\r\n",
                "h2o.init()\r\n"
            ],
            "outputs": [
                {
                    "output_type": "stream",
                    "name": "stdout",
                    "text": [
                        "Checking whether there is an H2O instance running at http://localhost:54321 ..... not found.\n",
                        "Attempting to start a local H2O server...\n",
                        "; Java HotSpot(TM) 64-Bit Server VM (build 25.261-b12, mixed mode)\n",
                        "  Starting server from C:\\Users\\dscshap3808\\Miniconda3\\envs\\siming\\Lib\\site-packages\\h2o\\backend\\bin\\h2o.jar\n",
                        "  Ice root: C:\\Users\\DSCSHA~1\\AppData\\Local\\Temp\\tmp3gyun6d8\n",
                        "  JVM stdout: C:\\Users\\DSCSHA~1\\AppData\\Local\\Temp\\tmp3gyun6d8\\h2o_dscshap3808_started_from_python.out\n",
                        "  JVM stderr: C:\\Users\\DSCSHA~1\\AppData\\Local\\Temp\\tmp3gyun6d8\\h2o_dscshap3808_started_from_python.err\n",
                        "  Server is running at http://127.0.0.1:54321\n",
                        "Connecting to H2O server at http://127.0.0.1:54321 ... successful.\n"
                    ]
                },
                {
                    "output_type": "display_data",
                    "data": {
                        "text/plain": [
                            "--------------------------  ---------------------------------------------------------\n",
                            "H2O_cluster_uptime:         05 secs\n",
                            "H2O_cluster_timezone:       Asia/Shanghai\n",
                            "H2O_data_parsing_timezone:  UTC\n",
                            "H2O_cluster_version:        3.32.1.3\n",
                            "H2O_cluster_version_age:    3 months and 4 days\n",
                            "H2O_cluster_name:           H2O_from_python_dscshap3808_m8s28w\n",
                            "H2O_cluster_total_nodes:    1\n",
                            "H2O_cluster_free_memory:    3.465 Gb\n",
                            "H2O_cluster_total_cores:    8\n",
                            "H2O_cluster_allowed_cores:  8\n",
                            "H2O_cluster_status:         accepting new members, healthy\n",
                            "H2O_connection_url:         http://127.0.0.1:54321\n",
                            "H2O_connection_proxy:       {\"http\": null, \"https\": null}\n",
                            "H2O_internal_security:      False\n",
                            "H2O_API_Extensions:         Amazon S3, Algos, AutoML, Core V3, TargetEncoder, Core V4\n",
                            "Python_version:             3.8.8 final\n",
                            "--------------------------  ---------------------------------------------------------"
                        ],
                        "text/html": [
                            "<div style=\"overflow:auto\"><table style=\"width:50%\"><tr><td>H2O_cluster_uptime:</td>\n",
                            "<td>05 secs</td></tr>\n",
                            "<tr><td>H2O_cluster_timezone:</td>\n",
                            "<td>Asia/Shanghai</td></tr>\n",
                            "<tr><td>H2O_data_parsing_timezone:</td>\n",
                            "<td>UTC</td></tr>\n",
                            "<tr><td>H2O_cluster_version:</td>\n",
                            "<td>3.32.1.3</td></tr>\n",
                            "<tr><td>H2O_cluster_version_age:</td>\n",
                            "<td>3 months and 4 days </td></tr>\n",
                            "<tr><td>H2O_cluster_name:</td>\n",
                            "<td>H2O_from_python_dscshap3808_m8s28w</td></tr>\n",
                            "<tr><td>H2O_cluster_total_nodes:</td>\n",
                            "<td>1</td></tr>\n",
                            "<tr><td>H2O_cluster_free_memory:</td>\n",
                            "<td>3.465 Gb</td></tr>\n",
                            "<tr><td>H2O_cluster_total_cores:</td>\n",
                            "<td>8</td></tr>\n",
                            "<tr><td>H2O_cluster_allowed_cores:</td>\n",
                            "<td>8</td></tr>\n",
                            "<tr><td>H2O_cluster_status:</td>\n",
                            "<td>accepting new members, healthy</td></tr>\n",
                            "<tr><td>H2O_connection_url:</td>\n",
                            "<td>http://127.0.0.1:54321</td></tr>\n",
                            "<tr><td>H2O_connection_proxy:</td>\n",
                            "<td>{\"http\": null, \"https\": null}</td></tr>\n",
                            "<tr><td>H2O_internal_security:</td>\n",
                            "<td>False</td></tr>\n",
                            "<tr><td>H2O_API_Extensions:</td>\n",
                            "<td>Amazon S3, Algos, AutoML, Core V3, TargetEncoder, Core V4</td></tr>\n",
                            "<tr><td>Python_version:</td>\n",
                            "<td>3.8.8 final</td></tr></table></div>"
                        ]
                    },
                    "metadata": {}
                }
            ],
            "metadata": {}
        },
        {
            "cell_type": "code",
            "execution_count": 25,
            "source": [
                "cols_h2o = [i for i in x_train2.columns.to_numpy() if i not in 'qty_tar']\r\n",
                "\r\n",
                "# Import the prostate dataset\r\n",
                "h2o_df = h2o.H2OFrame(x_train2)\r\n",
                "# Split the data giving the training dataset 75% of the data\r\n",
                "train,test = h2o_df.split_frame(ratios=[0.75])\r\n",
                "\r\n",
                "# Build an Isolation forest model\r\n",
                "model = H2OIsolationForestEstimator(sample_rate = 0.1,\r\n",
                "                                    max_depth = 20,\r\n",
                "                                    ntrees = 500)\r\n",
                "model.train(training_frame=train,x =cols_h2o)\r\n",
                "\r\n",
                "# Calculate score\r\n",
                "score = model.predict(test)\r\n",
                "result_pred = score[\"predict\"]\r\n",
                "\r\n",
                "# Predict the leaf node assignment\r\n",
                "ln_pred = model.predict_leaf_node_assignment(test, \"Path\")"
            ],
            "outputs": [
                {
                    "output_type": "stream",
                    "name": "stdout",
                    "text": [
                        "Parse progress: |█████████████████████████████████████████████████████████| 100%\n"
                    ]
                },
                {
                    "output_type": "stream",
                    "name": "stderr",
                    "text": [
                        "C:\\Users\\dscshap3808\\Miniconda3\\envs\\siming\\lib\\site-packages\\h2o\\estimators\\estimator_base.py:200: RuntimeWarning: Dropping bad and constant columns: [dif, id]\n",
                        "  warnings.warn(mesg[\"message\"], RuntimeWarning)\n"
                    ]
                },
                {
                    "output_type": "stream",
                    "name": "stdout",
                    "text": [
                        "isolationforest Model Build progress: |███████████████████████████████████| 100%\n",
                        "isolationforest prediction progress: |████████████████████████████████████| 100%\n"
                    ]
                }
            ],
            "metadata": {}
        },
        {
            "cell_type": "code",
            "execution_count": 42,
            "source": [
                "score_train = model.predict(train)\r\n",
                "forest_pred_trai = pd.concat([score_train['predict'].as_data_frame(),\\\r\n",
                "    result_pred.as_data_frame() ], axis = 0).reset_index()\r\n",
                "forest_pred_test = model.predict(h2o.H2OFrame(x_test2))"
            ],
            "outputs": [
                {
                    "output_type": "stream",
                    "name": "stdout",
                    "text": [
                        "isolationforest prediction progress: |████████████████████████████████████| 100%\n",
                        "Parse progress: |█████████████████████████████████████████████████████████| 100%\n",
                        "isolationforest prediction progress: |████████████████████████████████████| 100%\n"
                    ]
                }
            ],
            "metadata": {}
        },
        {
            "cell_type": "code",
            "execution_count": 44,
            "source": [
                "train.as_data_frame()"
            ],
            "outputs": [
                {
                    "output_type": "execute_result",
                    "data": {
                        "text/plain": [
                            "     CREATION_DATE_TIME_STAMP  id  line_sum  container_sum    weight    qty  \\\n",
                            "0               1505260800000   1         1              1    100.00      4   \n",
                            "1               1505347200000   1         1              9   8000.00   6000   \n",
                            "2               1505433600000   1         2             13  12525.00    501   \n",
                            "3               1505692800000   1         1              1      0.00    600   \n",
                            "4               1505779200000   1         1              1   1375.00     55   \n",
                            "..                        ...  ..       ...            ...       ...    ...   \n",
                            "503             1590105600000   1         2              2   1000.00     40   \n",
                            "504             1590364800000   1        31             46   4240.00   1550   \n",
                            "505             1590537600000   1         2             18      0.00    720   \n",
                            "506             1590969600000   1         1              2   9651.44   6470   \n",
                            "507             1591228800000   1         1             23  16236.00  10824   \n",
                            "\n",
                            "     span_first  dif  qty_tar  \n",
                            "0      9.366667    1     1778  \n",
                            "1      8.400000    1    16690  \n",
                            "2      9.783333    1    93797  \n",
                            "3      8.966667    1   122508  \n",
                            "4      9.083333    1    18459  \n",
                            "..          ...  ...      ...  \n",
                            "503    9.483333    1    11413  \n",
                            "504   16.166667    1     3670  \n",
                            "505    9.000000    1   278830  \n",
                            "506   10.850000    1    78856  \n",
                            "507    9.983333    1    11051  \n",
                            "\n",
                            "[508 rows x 9 columns]"
                        ],
                        "text/html": [
                            "<div>\n",
                            "<style scoped>\n",
                            "    .dataframe tbody tr th:only-of-type {\n",
                            "        vertical-align: middle;\n",
                            "    }\n",
                            "\n",
                            "    .dataframe tbody tr th {\n",
                            "        vertical-align: top;\n",
                            "    }\n",
                            "\n",
                            "    .dataframe thead th {\n",
                            "        text-align: right;\n",
                            "    }\n",
                            "</style>\n",
                            "<table border=\"1\" class=\"dataframe\">\n",
                            "  <thead>\n",
                            "    <tr style=\"text-align: right;\">\n",
                            "      <th></th>\n",
                            "      <th>CREATION_DATE_TIME_STAMP</th>\n",
                            "      <th>id</th>\n",
                            "      <th>line_sum</th>\n",
                            "      <th>container_sum</th>\n",
                            "      <th>weight</th>\n",
                            "      <th>qty</th>\n",
                            "      <th>span_first</th>\n",
                            "      <th>dif</th>\n",
                            "      <th>qty_tar</th>\n",
                            "    </tr>\n",
                            "  </thead>\n",
                            "  <tbody>\n",
                            "    <tr>\n",
                            "      <th>0</th>\n",
                            "      <td>1505260800000</td>\n",
                            "      <td>1</td>\n",
                            "      <td>1</td>\n",
                            "      <td>1</td>\n",
                            "      <td>100.00</td>\n",
                            "      <td>4</td>\n",
                            "      <td>9.366667</td>\n",
                            "      <td>1</td>\n",
                            "      <td>1778</td>\n",
                            "    </tr>\n",
                            "    <tr>\n",
                            "      <th>1</th>\n",
                            "      <td>1505347200000</td>\n",
                            "      <td>1</td>\n",
                            "      <td>1</td>\n",
                            "      <td>9</td>\n",
                            "      <td>8000.00</td>\n",
                            "      <td>6000</td>\n",
                            "      <td>8.400000</td>\n",
                            "      <td>1</td>\n",
                            "      <td>16690</td>\n",
                            "    </tr>\n",
                            "    <tr>\n",
                            "      <th>2</th>\n",
                            "      <td>1505433600000</td>\n",
                            "      <td>1</td>\n",
                            "      <td>2</td>\n",
                            "      <td>13</td>\n",
                            "      <td>12525.00</td>\n",
                            "      <td>501</td>\n",
                            "      <td>9.783333</td>\n",
                            "      <td>1</td>\n",
                            "      <td>93797</td>\n",
                            "    </tr>\n",
                            "    <tr>\n",
                            "      <th>3</th>\n",
                            "      <td>1505692800000</td>\n",
                            "      <td>1</td>\n",
                            "      <td>1</td>\n",
                            "      <td>1</td>\n",
                            "      <td>0.00</td>\n",
                            "      <td>600</td>\n",
                            "      <td>8.966667</td>\n",
                            "      <td>1</td>\n",
                            "      <td>122508</td>\n",
                            "    </tr>\n",
                            "    <tr>\n",
                            "      <th>4</th>\n",
                            "      <td>1505779200000</td>\n",
                            "      <td>1</td>\n",
                            "      <td>1</td>\n",
                            "      <td>1</td>\n",
                            "      <td>1375.00</td>\n",
                            "      <td>55</td>\n",
                            "      <td>9.083333</td>\n",
                            "      <td>1</td>\n",
                            "      <td>18459</td>\n",
                            "    </tr>\n",
                            "    <tr>\n",
                            "      <th>...</th>\n",
                            "      <td>...</td>\n",
                            "      <td>...</td>\n",
                            "      <td>...</td>\n",
                            "      <td>...</td>\n",
                            "      <td>...</td>\n",
                            "      <td>...</td>\n",
                            "      <td>...</td>\n",
                            "      <td>...</td>\n",
                            "      <td>...</td>\n",
                            "    </tr>\n",
                            "    <tr>\n",
                            "      <th>503</th>\n",
                            "      <td>1590105600000</td>\n",
                            "      <td>1</td>\n",
                            "      <td>2</td>\n",
                            "      <td>2</td>\n",
                            "      <td>1000.00</td>\n",
                            "      <td>40</td>\n",
                            "      <td>9.483333</td>\n",
                            "      <td>1</td>\n",
                            "      <td>11413</td>\n",
                            "    </tr>\n",
                            "    <tr>\n",
                            "      <th>504</th>\n",
                            "      <td>1590364800000</td>\n",
                            "      <td>1</td>\n",
                            "      <td>31</td>\n",
                            "      <td>46</td>\n",
                            "      <td>4240.00</td>\n",
                            "      <td>1550</td>\n",
                            "      <td>16.166667</td>\n",
                            "      <td>1</td>\n",
                            "      <td>3670</td>\n",
                            "    </tr>\n",
                            "    <tr>\n",
                            "      <th>505</th>\n",
                            "      <td>1590537600000</td>\n",
                            "      <td>1</td>\n",
                            "      <td>2</td>\n",
                            "      <td>18</td>\n",
                            "      <td>0.00</td>\n",
                            "      <td>720</td>\n",
                            "      <td>9.000000</td>\n",
                            "      <td>1</td>\n",
                            "      <td>278830</td>\n",
                            "    </tr>\n",
                            "    <tr>\n",
                            "      <th>506</th>\n",
                            "      <td>1590969600000</td>\n",
                            "      <td>1</td>\n",
                            "      <td>1</td>\n",
                            "      <td>2</td>\n",
                            "      <td>9651.44</td>\n",
                            "      <td>6470</td>\n",
                            "      <td>10.850000</td>\n",
                            "      <td>1</td>\n",
                            "      <td>78856</td>\n",
                            "    </tr>\n",
                            "    <tr>\n",
                            "      <th>507</th>\n",
                            "      <td>1591228800000</td>\n",
                            "      <td>1</td>\n",
                            "      <td>1</td>\n",
                            "      <td>23</td>\n",
                            "      <td>16236.00</td>\n",
                            "      <td>10824</td>\n",
                            "      <td>9.983333</td>\n",
                            "      <td>1</td>\n",
                            "      <td>11051</td>\n",
                            "    </tr>\n",
                            "  </tbody>\n",
                            "</table>\n",
                            "<p>508 rows × 9 columns</p>\n",
                            "</div>"
                        ]
                    },
                    "metadata": {},
                    "execution_count": 44
                }
            ],
            "metadata": {}
        },
        {
            "cell_type": "code",
            "execution_count": 64,
            "source": [
                "train.as_data_frame().append(score_train.as_data_frame)"
            ],
            "outputs": [
                {
                    "output_type": "error",
                    "ename": "NameError",
                    "evalue": "name 'train' is not defined",
                    "traceback": [
                        "\u001b[1;31m---------------------------------------------------------------------------\u001b[0m",
                        "\u001b[1;31mNameError\u001b[0m                                 Traceback (most recent call last)",
                        "\u001b[1;32m<ipython-input-64-c12ac431da53>\u001b[0m in \u001b[0;36m<module>\u001b[1;34m\u001b[0m\n\u001b[1;32m----> 1\u001b[1;33m \u001b[0mtrain\u001b[0m\u001b[1;33m.\u001b[0m\u001b[0mas_data_frame\u001b[0m\u001b[1;33m(\u001b[0m\u001b[1;33m)\u001b[0m\u001b[1;33m.\u001b[0m\u001b[0mappend\u001b[0m\u001b[1;33m(\u001b[0m\u001b[0mscore_train\u001b[0m\u001b[1;33m.\u001b[0m\u001b[0mas_data_frame\u001b[0m\u001b[1;33m)\u001b[0m\u001b[1;33m\u001b[0m\u001b[1;33m\u001b[0m\u001b[0m\n\u001b[0m",
                        "\u001b[1;31mNameError\u001b[0m: name 'train' is not defined"
                    ]
                }
            ],
            "metadata": {}
        },
        {
            "cell_type": "code",
            "execution_count": 38,
            "source": [
                "score2"
            ],
            "outputs": [
                {
                    "output_type": "display_data",
                    "data": {
                        "text/html": [
                            "<table>\n",
                            "<thead>\n",
                            "<tr><th style=\"text-align: right;\">  predict</th><th style=\"text-align: right;\">  mean_length</th></tr>\n",
                            "</thead>\n",
                            "<tbody>\n",
                            "<tr><td style=\"text-align: right;\"> 0.21833 </td><td style=\"text-align: right;\">        4.796</td></tr>\n",
                            "<tr><td style=\"text-align: right;\"> 0.285029</td><td style=\"text-align: right;\">        4.518</td></tr>\n",
                            "<tr><td style=\"text-align: right;\"> 0.21881 </td><td style=\"text-align: right;\">        4.794</td></tr>\n",
                            "<tr><td style=\"text-align: right;\"> 0.21785 </td><td style=\"text-align: right;\">        4.798</td></tr>\n",
                            "<tr><td style=\"text-align: right;\"> 0.203935</td><td style=\"text-align: right;\">        4.856</td></tr>\n",
                            "<tr><td style=\"text-align: right;\"> 0.256238</td><td style=\"text-align: right;\">        4.638</td></tr>\n",
                            "<tr><td style=\"text-align: right;\"> 0.179463</td><td style=\"text-align: right;\">        4.958</td></tr>\n",
                            "<tr><td style=\"text-align: right;\"> 0.230326</td><td style=\"text-align: right;\">        4.746</td></tr>\n",
                            "<tr><td style=\"text-align: right;\"> 0.547985</td><td style=\"text-align: right;\">        3.422</td></tr>\n",
                            "<tr><td style=\"text-align: right;\"> 0.194338</td><td style=\"text-align: right;\">        4.896</td></tr>\n",
                            "</tbody>\n",
                            "</table>"
                        ]
                    },
                    "metadata": {}
                },
                {
                    "output_type": "execute_result",
                    "data": {
                        "text/plain": []
                    },
                    "metadata": {},
                    "execution_count": 38
                }
            ],
            "metadata": {}
        },
        {
            "cell_type": "code",
            "execution_count": 27,
            "source": [
                "# Generate predictions on a test set (if necessary):\r\n",
                "pred = dl.predict(test)"
            ],
            "outputs": [
                {
                    "output_type": "error",
                    "ename": "NameError",
                    "evalue": "name 'dl' is not defined",
                    "traceback": [
                        "\u001b[1;31m---------------------------------------------------------------------------\u001b[0m",
                        "\u001b[1;31mNameError\u001b[0m                                 Traceback (most recent call last)",
                        "\u001b[1;32m<ipython-input-27-de1a15cc7552>\u001b[0m in \u001b[0;36m<module>\u001b[1;34m\u001b[0m\n\u001b[0;32m      1\u001b[0m \u001b[1;31m# Generate predictions on a test set (if necessary):\u001b[0m\u001b[1;33m\u001b[0m\u001b[1;33m\u001b[0m\u001b[1;33m\u001b[0m\u001b[0m\n\u001b[1;32m----> 2\u001b[1;33m \u001b[0mpred\u001b[0m \u001b[1;33m=\u001b[0m \u001b[0mdl\u001b[0m\u001b[1;33m.\u001b[0m\u001b[0mpredict\u001b[0m\u001b[1;33m(\u001b[0m\u001b[0mtest\u001b[0m\u001b[1;33m)\u001b[0m\u001b[1;33m\u001b[0m\u001b[1;33m\u001b[0m\u001b[0m\n\u001b[0m",
                        "\u001b[1;31mNameError\u001b[0m: name 'dl' is not defined"
                    ]
                }
            ],
            "metadata": {}
        },
        {
            "cell_type": "code",
            "execution_count": 28,
            "source": [
                "sult = pd.concat([test.as_data_frame()['qty_tar'], pred.as_data_frame()], axis = 1)"
            ],
            "outputs": [
                {
                    "output_type": "error",
                    "ename": "NameError",
                    "evalue": "name 'pred' is not defined",
                    "traceback": [
                        "\u001b[1;31m---------------------------------------------------------------------------\u001b[0m",
                        "\u001b[1;31mNameError\u001b[0m                                 Traceback (most recent call last)",
                        "\u001b[1;32m<ipython-input-28-6e84cc99b40e>\u001b[0m in \u001b[0;36m<module>\u001b[1;34m\u001b[0m\n\u001b[1;32m----> 1\u001b[1;33m \u001b[0msult\u001b[0m \u001b[1;33m=\u001b[0m \u001b[0mpd\u001b[0m\u001b[1;33m.\u001b[0m\u001b[0mconcat\u001b[0m\u001b[1;33m(\u001b[0m\u001b[1;33m[\u001b[0m\u001b[0mtest\u001b[0m\u001b[1;33m.\u001b[0m\u001b[0mas_data_frame\u001b[0m\u001b[1;33m(\u001b[0m\u001b[1;33m)\u001b[0m\u001b[1;33m[\u001b[0m\u001b[1;34m'qty_tar'\u001b[0m\u001b[1;33m]\u001b[0m\u001b[1;33m,\u001b[0m\u001b[0mpred\u001b[0m\u001b[1;33m.\u001b[0m\u001b[0mas_data_frame\u001b[0m\u001b[1;33m(\u001b[0m\u001b[1;33m)\u001b[0m\u001b[1;33m]\u001b[0m\u001b[1;33m,\u001b[0m \u001b[0maxis\u001b[0m \u001b[1;33m=\u001b[0m \u001b[1;36m1\u001b[0m\u001b[1;33m)\u001b[0m\u001b[1;33m\u001b[0m\u001b[1;33m\u001b[0m\u001b[0m\n\u001b[0m",
                        "\u001b[1;31mNameError\u001b[0m: name 'pred' is not defined"
                    ]
                }
            ],
            "metadata": {}
        },
        {
            "cell_type": "code",
            "execution_count": 586,
            "source": [
                "sult"
            ],
            "outputs": [
                {
                    "output_type": "execute_result",
                    "data": {
                        "text/plain": [
                            "     qty_tar    predict\n",
                            "0     512046  70588.954\n",
                            "1     557054 118090.120\n",
                            "2     269974  75245.898\n",
                            "3     227126  49231.764\n",
                            "4       1556 110033.479\n",
                            "..       ...        ...\n",
                            "148   137628 101245.807\n",
                            "149    66792  94210.784\n",
                            "150      627 108667.831\n",
                            "151   174614  93680.845\n",
                            "152   278830  58322.019\n",
                            "\n",
                            "[153 rows x 2 columns]"
                        ],
                        "text/html": [
                            "<div>\n",
                            "<style scoped>\n",
                            "    .dataframe tbody tr th:only-of-type {\n",
                            "        vertical-align: middle;\n",
                            "    }\n",
                            "\n",
                            "    .dataframe tbody tr th {\n",
                            "        vertical-align: top;\n",
                            "    }\n",
                            "\n",
                            "    .dataframe thead th {\n",
                            "        text-align: right;\n",
                            "    }\n",
                            "</style>\n",
                            "<table border=\"1\" class=\"dataframe\">\n",
                            "  <thead>\n",
                            "    <tr style=\"text-align: right;\">\n",
                            "      <th></th>\n",
                            "      <th>qty_tar</th>\n",
                            "      <th>predict</th>\n",
                            "    </tr>\n",
                            "  </thead>\n",
                            "  <tbody>\n",
                            "    <tr>\n",
                            "      <th>0</th>\n",
                            "      <td>512046</td>\n",
                            "      <td>70588.954</td>\n",
                            "    </tr>\n",
                            "    <tr>\n",
                            "      <th>1</th>\n",
                            "      <td>557054</td>\n",
                            "      <td>118090.120</td>\n",
                            "    </tr>\n",
                            "    <tr>\n",
                            "      <th>2</th>\n",
                            "      <td>269974</td>\n",
                            "      <td>75245.898</td>\n",
                            "    </tr>\n",
                            "    <tr>\n",
                            "      <th>3</th>\n",
                            "      <td>227126</td>\n",
                            "      <td>49231.764</td>\n",
                            "    </tr>\n",
                            "    <tr>\n",
                            "      <th>4</th>\n",
                            "      <td>1556</td>\n",
                            "      <td>110033.479</td>\n",
                            "    </tr>\n",
                            "    <tr>\n",
                            "      <th>...</th>\n",
                            "      <td>...</td>\n",
                            "      <td>...</td>\n",
                            "    </tr>\n",
                            "    <tr>\n",
                            "      <th>148</th>\n",
                            "      <td>137628</td>\n",
                            "      <td>101245.807</td>\n",
                            "    </tr>\n",
                            "    <tr>\n",
                            "      <th>149</th>\n",
                            "      <td>66792</td>\n",
                            "      <td>94210.784</td>\n",
                            "    </tr>\n",
                            "    <tr>\n",
                            "      <th>150</th>\n",
                            "      <td>627</td>\n",
                            "      <td>108667.831</td>\n",
                            "    </tr>\n",
                            "    <tr>\n",
                            "      <th>151</th>\n",
                            "      <td>174614</td>\n",
                            "      <td>93680.845</td>\n",
                            "    </tr>\n",
                            "    <tr>\n",
                            "      <th>152</th>\n",
                            "      <td>278830</td>\n",
                            "      <td>58322.019</td>\n",
                            "    </tr>\n",
                            "  </tbody>\n",
                            "</table>\n",
                            "<p>153 rows × 2 columns</p>\n",
                            "</div>"
                        ]
                    },
                    "metadata": {},
                    "execution_count": 586
                }
            ],
            "metadata": {}
        },
        {
            "cell_type": "code",
            "execution_count": 587,
            "source": [
                "mean_absolute_percentage_error(sult['qty_tar'], sult['predict'])"
            ],
            "outputs": [
                {
                    "output_type": "execute_result",
                    "data": {
                        "text/plain": [
                            "0.9815690588439775"
                        ]
                    },
                    "metadata": {},
                    "execution_count": 587
                }
            ],
            "metadata": {}
        },
        {
            "cell_type": "code",
            "execution_count": null,
            "source": [
                "x_train2 = x_train2.reset_index()\r\n",
                "x_test2 = x_test2.reset_index()\r\n",
                "x_train2['labels'] = forest_pred_trai['predict'] \r\n",
                "x_test2['labels'] = forest_pred_test.as_data_frame()['predict']"
            ],
            "outputs": [],
            "metadata": {}
        },
        {
            "cell_type": "code",
            "execution_count": 625,
            "source": [
                "predictors = [i for i in x_train2.columns.to_numpy() if i not in 'qty_tar']\r\n",
                "response = 'qty_tar'\r\n",
                "# Import the prostate dataset\r\n",
                "h2o_df = h2o.H2OFrame(x_train2)\r\n",
                "# Split the data giving the training dataset 75% of the data\r\n",
                "train,test = h2o_df.split_frame(ratios=[0.75])\r\n",
                "\r\n",
                "dl = H2ODeepLearningEstimator(distribution=\"AUTO\",\r\n",
                "                               hidden=[300,300],\r\n",
                "                               epochs=600,\r\n",
                "                               train_samples_per_iteration=-1,\r\n",
                "                               reproducible=True,\r\n",
                "                               activation=\"Rectifierwithdropout\",\r\n",
                "                               single_node_mode=False,\r\n",
                "                               balance_classes=False,\r\n",
                "                               force_load_balance=False,\r\n",
                "                               seed=707,\r\n",
                "                               tweedie_power=1.5,\r\n",
                "                               score_training_samples=0,\r\n",
                "                               score_validation_samples=0,\r\n",
                "                               score_each_iteration = True,\r\n",
                "                               stopping_rounds=0)\r\n",
                "dl.train(x=predictors,\r\n",
                "         y=response,\r\n",
                "          training_frame= train,\r\n",
                "          validation_frame = test)\r\n",
                "\r\n",
                "# Eval performance:\r\n",
                "perf = dl.model_performance();perf\r\n"
            ],
            "outputs": [
                {
                    "output_type": "stream",
                    "name": "stdout",
                    "text": [
                        "Parse progress: |█████████████████████████████████████████████████████████| 100%\n"
                    ]
                },
                {
                    "output_type": "stream",
                    "name": "stderr",
                    "text": [
                        "C:\\Users\\dscshap3808\\Miniconda3\\envs\\siming\\lib\\site-packages\\h2o\\estimators\\estimator_base.py:200: RuntimeWarning:\n",
                        "\n",
                        "Dropping bad and constant columns: [dif, id]\n",
                        "\n"
                    ]
                },
                {
                    "output_type": "stream",
                    "name": "stdout",
                    "text": [
                        "deeplearning Model Build progress: |██████████████████████████████████████| 100%\n",
                        "WARNING: The `auc_type` parameter is set but it is not used because the `test_data` parameter is None.\n"
                    ]
                }
            ],
            "metadata": {}
        },
        {
            "cell_type": "code",
            "execution_count": 626,
            "source": [
                "perf"
            ],
            "outputs": [
                {
                    "output_type": "stream",
                    "name": "stdout",
                    "text": [
                        "\n",
                        "ModelMetricsRegression: deeplearning\n",
                        "** Reported on train data. **\n",
                        "\n",
                        "MSE: 14685154500.84614\n",
                        "RMSE: 121182.3192584056\n",
                        "MAE: 89018.82023171475\n",
                        "RMSLE: 2.1365093452549284\n",
                        "Mean Residual Deviance: 14685154500.84614\n"
                    ]
                },
                {
                    "output_type": "execute_result",
                    "data": {
                        "text/plain": []
                    },
                    "metadata": {},
                    "execution_count": 626
                }
            ],
            "metadata": {}
        },
        {
            "cell_type": "code",
            "execution_count": 634,
            "source": [
                "test_lb_qty_test2 = dl.predict(test).as_data_frame()"
            ],
            "outputs": [
                {
                    "output_type": "stream",
                    "name": "stdout",
                    "text": [
                        "deeplearning prediction progress: |███████████████████████████████████████| 100%\n"
                    ]
                }
            ],
            "metadata": {}
        },
        {
            "cell_type": "code",
            "execution_count": 635,
            "source": [
                "test_lb_qty_test2"
            ],
            "outputs": [
                {
                    "output_type": "execute_result",
                    "data": {
                        "text/plain": [
                            "       predict\n",
                            "0    99565.780\n",
                            "1    88117.935\n",
                            "2    89499.800\n",
                            "3    95550.174\n",
                            "4    75516.070\n",
                            "..         ...\n",
                            "158 118838.615\n",
                            "159 116225.289\n",
                            "160  91693.632\n",
                            "161 114525.696\n",
                            "162  80244.279\n",
                            "\n",
                            "[163 rows x 1 columns]"
                        ],
                        "text/html": [
                            "<div>\n",
                            "<style scoped>\n",
                            "    .dataframe tbody tr th:only-of-type {\n",
                            "        vertical-align: middle;\n",
                            "    }\n",
                            "\n",
                            "    .dataframe tbody tr th {\n",
                            "        vertical-align: top;\n",
                            "    }\n",
                            "\n",
                            "    .dataframe thead th {\n",
                            "        text-align: right;\n",
                            "    }\n",
                            "</style>\n",
                            "<table border=\"1\" class=\"dataframe\">\n",
                            "  <thead>\n",
                            "    <tr style=\"text-align: right;\">\n",
                            "      <th></th>\n",
                            "      <th>predict</th>\n",
                            "    </tr>\n",
                            "  </thead>\n",
                            "  <tbody>\n",
                            "    <tr>\n",
                            "      <th>0</th>\n",
                            "      <td>99565.780</td>\n",
                            "    </tr>\n",
                            "    <tr>\n",
                            "      <th>1</th>\n",
                            "      <td>88117.935</td>\n",
                            "    </tr>\n",
                            "    <tr>\n",
                            "      <th>2</th>\n",
                            "      <td>89499.800</td>\n",
                            "    </tr>\n",
                            "    <tr>\n",
                            "      <th>3</th>\n",
                            "      <td>95550.174</td>\n",
                            "    </tr>\n",
                            "    <tr>\n",
                            "      <th>4</th>\n",
                            "      <td>75516.070</td>\n",
                            "    </tr>\n",
                            "    <tr>\n",
                            "      <th>...</th>\n",
                            "      <td>...</td>\n",
                            "    </tr>\n",
                            "    <tr>\n",
                            "      <th>158</th>\n",
                            "      <td>118838.615</td>\n",
                            "    </tr>\n",
                            "    <tr>\n",
                            "      <th>159</th>\n",
                            "      <td>116225.289</td>\n",
                            "    </tr>\n",
                            "    <tr>\n",
                            "      <th>160</th>\n",
                            "      <td>91693.632</td>\n",
                            "    </tr>\n",
                            "    <tr>\n",
                            "      <th>161</th>\n",
                            "      <td>114525.696</td>\n",
                            "    </tr>\n",
                            "    <tr>\n",
                            "      <th>162</th>\n",
                            "      <td>80244.279</td>\n",
                            "    </tr>\n",
                            "  </tbody>\n",
                            "</table>\n",
                            "<p>163 rows × 1 columns</p>\n",
                            "</div>"
                        ]
                    },
                    "metadata": {},
                    "execution_count": 635
                }
            ],
            "metadata": {}
        },
        {
            "cell_type": "code",
            "execution_count": null,
            "source": [
                "mean_absolute_percentage_error(sult['qty_tar'], sult['predict'])"
            ],
            "outputs": [],
            "metadata": {}
        },
        {
            "cell_type": "markdown",
            "source": [
                "----\r\n",
                "## Darts"
            ],
            "metadata": {}
        },
        {
            "cell_type": "code",
            "execution_count": 20,
            "source": [
                "df_lb , x_test1 \r\n",
                "\r\n",
                "\"\"\"\r\n",
                "the dataframes are taken from fbprophet model, \r\n",
                "no need to split anyway.\r\n",
                "\"\"\""
            ],
            "outputs": [
                {
                    "output_type": "execute_result",
                    "data": {
                        "text/plain": [
                            "'\\nthe dataframes are taken from fbprophet model, \\nno need to split anyway.\\n'"
                        ]
                    },
                    "metadata": {},
                    "execution_count": 20
                }
            ],
            "metadata": {}
        },
        {
            "cell_type": "code",
            "execution_count": 40,
            "source": [
                "df_lb"
            ],
            "outputs": [
                {
                    "output_type": "execute_result",
                    "data": {
                        "text/plain": [
                            "             ds   id  line_sum  container_sum   weight      qty  span_first  y\n",
                            "0    2017-09-11  1.0       2.0           22.0  22000.0    880.0   11.400000  0\n",
                            "1    2017-09-12  1.0       1.0           19.0  18600.0    744.0   13.116667  1\n",
                            "2    2017-09-13  1.0       1.0            1.0    100.0      4.0    9.366667  1\n",
                            "3    2017-09-14  1.0       1.0            9.0   8000.0   6000.0    8.400000  1\n",
                            "4    2017-09-15  1.0       2.0           13.0  12525.0    501.0    9.783333  1\n",
                            "...         ...  ...       ...            ...      ...      ...         ... ..\n",
                            "996  2020-06-03  1.0       2.0            4.0    500.0      8.0    8.850000  1\n",
                            "997  2020-06-04  1.0       1.0           23.0  16236.0  10824.0    9.983333  1\n",
                            "998  2020-06-05  0.0       0.0            0.0      0.0      0.0    8.000000  0\n",
                            "999  2020-06-06  0.0       0.0            0.0      0.0      0.0    8.000000  0\n",
                            "1000 2020-06-07  0.0       0.0            0.0      0.0      0.0    8.000000  0\n",
                            "\n",
                            "[1001 rows x 8 columns]"
                        ],
                        "text/html": [
                            "<div>\n",
                            "<style scoped>\n",
                            "    .dataframe tbody tr th:only-of-type {\n",
                            "        vertical-align: middle;\n",
                            "    }\n",
                            "\n",
                            "    .dataframe tbody tr th {\n",
                            "        vertical-align: top;\n",
                            "    }\n",
                            "\n",
                            "    .dataframe thead th {\n",
                            "        text-align: right;\n",
                            "    }\n",
                            "</style>\n",
                            "<table border=\"1\" class=\"dataframe\">\n",
                            "  <thead>\n",
                            "    <tr style=\"text-align: right;\">\n",
                            "      <th></th>\n",
                            "      <th>ds</th>\n",
                            "      <th>id</th>\n",
                            "      <th>line_sum</th>\n",
                            "      <th>container_sum</th>\n",
                            "      <th>weight</th>\n",
                            "      <th>qty</th>\n",
                            "      <th>span_first</th>\n",
                            "      <th>y</th>\n",
                            "    </tr>\n",
                            "  </thead>\n",
                            "  <tbody>\n",
                            "    <tr>\n",
                            "      <th>0</th>\n",
                            "      <td>2017-09-11</td>\n",
                            "      <td>1.0</td>\n",
                            "      <td>2.0</td>\n",
                            "      <td>22.0</td>\n",
                            "      <td>22000.0</td>\n",
                            "      <td>880.0</td>\n",
                            "      <td>11.400000</td>\n",
                            "      <td>0</td>\n",
                            "    </tr>\n",
                            "    <tr>\n",
                            "      <th>1</th>\n",
                            "      <td>2017-09-12</td>\n",
                            "      <td>1.0</td>\n",
                            "      <td>1.0</td>\n",
                            "      <td>19.0</td>\n",
                            "      <td>18600.0</td>\n",
                            "      <td>744.0</td>\n",
                            "      <td>13.116667</td>\n",
                            "      <td>1</td>\n",
                            "    </tr>\n",
                            "    <tr>\n",
                            "      <th>2</th>\n",
                            "      <td>2017-09-13</td>\n",
                            "      <td>1.0</td>\n",
                            "      <td>1.0</td>\n",
                            "      <td>1.0</td>\n",
                            "      <td>100.0</td>\n",
                            "      <td>4.0</td>\n",
                            "      <td>9.366667</td>\n",
                            "      <td>1</td>\n",
                            "    </tr>\n",
                            "    <tr>\n",
                            "      <th>3</th>\n",
                            "      <td>2017-09-14</td>\n",
                            "      <td>1.0</td>\n",
                            "      <td>1.0</td>\n",
                            "      <td>9.0</td>\n",
                            "      <td>8000.0</td>\n",
                            "      <td>6000.0</td>\n",
                            "      <td>8.400000</td>\n",
                            "      <td>1</td>\n",
                            "    </tr>\n",
                            "    <tr>\n",
                            "      <th>4</th>\n",
                            "      <td>2017-09-15</td>\n",
                            "      <td>1.0</td>\n",
                            "      <td>2.0</td>\n",
                            "      <td>13.0</td>\n",
                            "      <td>12525.0</td>\n",
                            "      <td>501.0</td>\n",
                            "      <td>9.783333</td>\n",
                            "      <td>1</td>\n",
                            "    </tr>\n",
                            "    <tr>\n",
                            "      <th>...</th>\n",
                            "      <td>...</td>\n",
                            "      <td>...</td>\n",
                            "      <td>...</td>\n",
                            "      <td>...</td>\n",
                            "      <td>...</td>\n",
                            "      <td>...</td>\n",
                            "      <td>...</td>\n",
                            "      <td>...</td>\n",
                            "    </tr>\n",
                            "    <tr>\n",
                            "      <th>996</th>\n",
                            "      <td>2020-06-03</td>\n",
                            "      <td>1.0</td>\n",
                            "      <td>2.0</td>\n",
                            "      <td>4.0</td>\n",
                            "      <td>500.0</td>\n",
                            "      <td>8.0</td>\n",
                            "      <td>8.850000</td>\n",
                            "      <td>1</td>\n",
                            "    </tr>\n",
                            "    <tr>\n",
                            "      <th>997</th>\n",
                            "      <td>2020-06-04</td>\n",
                            "      <td>1.0</td>\n",
                            "      <td>1.0</td>\n",
                            "      <td>23.0</td>\n",
                            "      <td>16236.0</td>\n",
                            "      <td>10824.0</td>\n",
                            "      <td>9.983333</td>\n",
                            "      <td>1</td>\n",
                            "    </tr>\n",
                            "    <tr>\n",
                            "      <th>998</th>\n",
                            "      <td>2020-06-05</td>\n",
                            "      <td>0.0</td>\n",
                            "      <td>0.0</td>\n",
                            "      <td>0.0</td>\n",
                            "      <td>0.0</td>\n",
                            "      <td>0.0</td>\n",
                            "      <td>8.000000</td>\n",
                            "      <td>0</td>\n",
                            "    </tr>\n",
                            "    <tr>\n",
                            "      <th>999</th>\n",
                            "      <td>2020-06-06</td>\n",
                            "      <td>0.0</td>\n",
                            "      <td>0.0</td>\n",
                            "      <td>0.0</td>\n",
                            "      <td>0.0</td>\n",
                            "      <td>0.0</td>\n",
                            "      <td>8.000000</td>\n",
                            "      <td>0</td>\n",
                            "    </tr>\n",
                            "    <tr>\n",
                            "      <th>1000</th>\n",
                            "      <td>2020-06-07</td>\n",
                            "      <td>0.0</td>\n",
                            "      <td>0.0</td>\n",
                            "      <td>0.0</td>\n",
                            "      <td>0.0</td>\n",
                            "      <td>0.0</td>\n",
                            "      <td>8.000000</td>\n",
                            "      <td>0</td>\n",
                            "    </tr>\n",
                            "  </tbody>\n",
                            "</table>\n",
                            "<p>1001 rows × 8 columns</p>\n",
                            "</div>"
                        ]
                    },
                    "metadata": {},
                    "execution_count": 40
                }
            ],
            "metadata": {}
        },
        {
            "cell_type": "code",
            "execution_count": 41,
            "source": [
                "from darts import TimeSeries\r\n",
                "\r\n",
                "series_train = TimeSeries.from_dataframe(df_lb, \r\n",
                "       time_col = 'ds', \r\n",
                "       value_cols ='y')\r\n",
                "series_test = TimeSeries.from_dataframe(x_test1, \r\n",
                "       time_col = 'ds', \r\n",
                "       value_cols =  'y')\r\n",
                "series_train_cov = TimeSeries.from_dataframe(df_lb,\\\r\n",
                "       'ds',\r\n",
                "       ['id', 'line_sum', 'container_sum', 'weight', 'qty', 'span_first'])\r\n",
                "series_test_cov = TimeSeries.from_dataframe(x_test1, \r\n",
                "       'ds', \r\n",
                "       ['id', 'line_sum', 'container_sum', 'weight', 'qty', 'span_first'] )"
            ],
            "outputs": [],
            "metadata": {}
        },
        {
            "cell_type": "code",
            "execution_count": 56,
            "source": [],
            "outputs": [
                {
                    "output_type": "execute_result",
                    "data": {
                        "text/plain": [
                            "             ds   id  line_sum  container_sum   weight     qty  span_first  y\n",
                            "0    2017-09-11  1.0       2.0           22.0  22000.0   880.0   11.400000  0\n",
                            "1    2017-09-12  1.0       1.0           19.0  18600.0   744.0   13.116667  1\n",
                            "2    2017-09-13  1.0       1.0            1.0    100.0     4.0    9.366667  1\n",
                            "3    2017-09-14  1.0       1.0            9.0   8000.0  6000.0    8.400000  1\n",
                            "4    2017-09-15  1.0       2.0           13.0  12525.0   501.0    9.783333  1\n",
                            "...         ...  ...       ...            ...      ...     ...         ... ..\n",
                            "1330 2021-05-03  0.0       0.0            0.0      0.0     0.0    8.000000  0\n",
                            "1331 2021-05-04  0.0       0.0            0.0      0.0     0.0    8.000000  0\n",
                            "1332 2021-05-05  0.0       0.0            0.0      0.0     0.0    8.000000  0\n",
                            "1333 2021-05-06  0.0       0.0            0.0      0.0     0.0    8.000000  0\n",
                            "1334 2021-05-07  1.0       2.0           17.0   9292.5  5400.0   16.733333  0\n",
                            "\n",
                            "[1335 rows x 8 columns]"
                        ],
                        "text/html": [
                            "<div>\n",
                            "<style scoped>\n",
                            "    .dataframe tbody tr th:only-of-type {\n",
                            "        vertical-align: middle;\n",
                            "    }\n",
                            "\n",
                            "    .dataframe tbody tr th {\n",
                            "        vertical-align: top;\n",
                            "    }\n",
                            "\n",
                            "    .dataframe thead th {\n",
                            "        text-align: right;\n",
                            "    }\n",
                            "</style>\n",
                            "<table border=\"1\" class=\"dataframe\">\n",
                            "  <thead>\n",
                            "    <tr style=\"text-align: right;\">\n",
                            "      <th></th>\n",
                            "      <th>ds</th>\n",
                            "      <th>id</th>\n",
                            "      <th>line_sum</th>\n",
                            "      <th>container_sum</th>\n",
                            "      <th>weight</th>\n",
                            "      <th>qty</th>\n",
                            "      <th>span_first</th>\n",
                            "      <th>y</th>\n",
                            "    </tr>\n",
                            "  </thead>\n",
                            "  <tbody>\n",
                            "    <tr>\n",
                            "      <th>0</th>\n",
                            "      <td>2017-09-11</td>\n",
                            "      <td>1.0</td>\n",
                            "      <td>2.0</td>\n",
                            "      <td>22.0</td>\n",
                            "      <td>22000.0</td>\n",
                            "      <td>880.0</td>\n",
                            "      <td>11.400000</td>\n",
                            "      <td>0</td>\n",
                            "    </tr>\n",
                            "    <tr>\n",
                            "      <th>1</th>\n",
                            "      <td>2017-09-12</td>\n",
                            "      <td>1.0</td>\n",
                            "      <td>1.0</td>\n",
                            "      <td>19.0</td>\n",
                            "      <td>18600.0</td>\n",
                            "      <td>744.0</td>\n",
                            "      <td>13.116667</td>\n",
                            "      <td>1</td>\n",
                            "    </tr>\n",
                            "    <tr>\n",
                            "      <th>2</th>\n",
                            "      <td>2017-09-13</td>\n",
                            "      <td>1.0</td>\n",
                            "      <td>1.0</td>\n",
                            "      <td>1.0</td>\n",
                            "      <td>100.0</td>\n",
                            "      <td>4.0</td>\n",
                            "      <td>9.366667</td>\n",
                            "      <td>1</td>\n",
                            "    </tr>\n",
                            "    <tr>\n",
                            "      <th>3</th>\n",
                            "      <td>2017-09-14</td>\n",
                            "      <td>1.0</td>\n",
                            "      <td>1.0</td>\n",
                            "      <td>9.0</td>\n",
                            "      <td>8000.0</td>\n",
                            "      <td>6000.0</td>\n",
                            "      <td>8.400000</td>\n",
                            "      <td>1</td>\n",
                            "    </tr>\n",
                            "    <tr>\n",
                            "      <th>4</th>\n",
                            "      <td>2017-09-15</td>\n",
                            "      <td>1.0</td>\n",
                            "      <td>2.0</td>\n",
                            "      <td>13.0</td>\n",
                            "      <td>12525.0</td>\n",
                            "      <td>501.0</td>\n",
                            "      <td>9.783333</td>\n",
                            "      <td>1</td>\n",
                            "    </tr>\n",
                            "    <tr>\n",
                            "      <th>...</th>\n",
                            "      <td>...</td>\n",
                            "      <td>...</td>\n",
                            "      <td>...</td>\n",
                            "      <td>...</td>\n",
                            "      <td>...</td>\n",
                            "      <td>...</td>\n",
                            "      <td>...</td>\n",
                            "      <td>...</td>\n",
                            "    </tr>\n",
                            "    <tr>\n",
                            "      <th>1330</th>\n",
                            "      <td>2021-05-03</td>\n",
                            "      <td>0.0</td>\n",
                            "      <td>0.0</td>\n",
                            "      <td>0.0</td>\n",
                            "      <td>0.0</td>\n",
                            "      <td>0.0</td>\n",
                            "      <td>8.000000</td>\n",
                            "      <td>0</td>\n",
                            "    </tr>\n",
                            "    <tr>\n",
                            "      <th>1331</th>\n",
                            "      <td>2021-05-04</td>\n",
                            "      <td>0.0</td>\n",
                            "      <td>0.0</td>\n",
                            "      <td>0.0</td>\n",
                            "      <td>0.0</td>\n",
                            "      <td>0.0</td>\n",
                            "      <td>8.000000</td>\n",
                            "      <td>0</td>\n",
                            "    </tr>\n",
                            "    <tr>\n",
                            "      <th>1332</th>\n",
                            "      <td>2021-05-05</td>\n",
                            "      <td>0.0</td>\n",
                            "      <td>0.0</td>\n",
                            "      <td>0.0</td>\n",
                            "      <td>0.0</td>\n",
                            "      <td>0.0</td>\n",
                            "      <td>8.000000</td>\n",
                            "      <td>0</td>\n",
                            "    </tr>\n",
                            "    <tr>\n",
                            "      <th>1333</th>\n",
                            "      <td>2021-05-06</td>\n",
                            "      <td>0.0</td>\n",
                            "      <td>0.0</td>\n",
                            "      <td>0.0</td>\n",
                            "      <td>0.0</td>\n",
                            "      <td>0.0</td>\n",
                            "      <td>8.000000</td>\n",
                            "      <td>0</td>\n",
                            "    </tr>\n",
                            "    <tr>\n",
                            "      <th>1334</th>\n",
                            "      <td>2021-05-07</td>\n",
                            "      <td>1.0</td>\n",
                            "      <td>2.0</td>\n",
                            "      <td>17.0</td>\n",
                            "      <td>9292.5</td>\n",
                            "      <td>5400.0</td>\n",
                            "      <td>16.733333</td>\n",
                            "      <td>0</td>\n",
                            "    </tr>\n",
                            "  </tbody>\n",
                            "</table>\n",
                            "<p>1335 rows × 8 columns</p>\n",
                            "</div>"
                        ]
                    },
                    "metadata": {},
                    "execution_count": 56
                }
            ],
            "metadata": {}
        },
        {
            "cell_type": "code",
            "execution_count": 57,
            "source": [
                "ful_span = TimeSeries.from_dataframe(df_lb.append(x_test1), \\\r\n",
                "    'ds', \r\n",
                "    value_cols = 'y')\r\n",
                "ful_span_cov = TimeSeries.from_dataframe(df_lb.append(x_test1), \\\r\n",
                "    'ds', \r\n",
                "    ['id', 'line_sum', 'container_sum', 'weight', 'qty', 'span_first'] )"
            ],
            "outputs": [],
            "metadata": {}
        },
        {
            "cell_type": "code",
            "execution_count": 42,
            "source": [
                "from darts.models import *\r\n",
                "md1_bert = NBEATSModel(input_chunk_length=31, \\\r\n",
                "    output_chunk_length=15, n_epochs=5, random_state=43)\r\n",
                "# md2_lstm = BlockRNNModel(model='LSTM', \\\r\n",
                "#     input_chunk_length=12, output_chunk_length=6, n_epochs=5, random_state=43)\r\n"
            ],
            "outputs": [],
            "metadata": {}
        },
        {
            "cell_type": "markdown",
            "source": [
                " > ## *Past Covariates denote time series whose past values are known at prediction time. These are usually things that have to be measured or observed. * Future Covariates denote time series whose future values are already known at prediction time for the span of the forecast horizon. These can for instance represent known future holidays, or weather forecasts.*\r\n",
                "> \r\n",
                "> \r\n",
                " > ## input_chunk_length: this is the length of the lookback window of the model; so each output will be computed by the model by reading the previous input_chunk_length points. "
            ],
            "metadata": {}
        },
        {
            "cell_type": "code",
            "execution_count": 36,
            "source": [
                "%%time\r\n",
                "md1_bert.fit(series = series_train, \\\r\n",
                "    past_covariates = series_train_cov,\r\n",
                "    verbose=True)"
            ],
            "outputs": [
                {
                    "output_type": "stream",
                    "name": "stderr",
                    "text": [
                        "[2021-08-24 14:30:29,688] INFO | darts.models.torch_forecasting_model | Train dataset contains 956 samples.\n",
                        "[2021-08-24 14:30:29,688] INFO | darts.models.torch_forecasting_model | Train dataset contains 956 samples.\n",
                        "INFO:darts.models.torch_forecasting_model:Train dataset contains 956 samples.\n",
                        "[2021-08-24 14:30:29,862] INFO | darts.models.torch_forecasting_model | Time series values are 64-bits; casting model to float64. If training is too slow you can try casting your data to 32-bits.\n",
                        "[2021-08-24 14:30:29,862] INFO | darts.models.torch_forecasting_model | Time series values are 64-bits; casting model to float64. If training is too slow you can try casting your data to 32-bits.\n",
                        "INFO:darts.models.torch_forecasting_model:Time series values are 64-bits; casting model to float64. If training is too slow you can try casting your data to 32-bits.\n"
                    ]
                },
                {
                    "output_type": "display_data",
                    "data": {
                        "text/plain": [
                            "  0%|          | 0/5 [00:00<?, ?it/s]"
                        ],
                        "application/vnd.jupyter.widget-view+json": {
                            "version_major": 2,
                            "version_minor": 0,
                            "model_id": "a9aed40470c8492087caafcb8de26eff"
                        }
                    },
                    "metadata": {}
                },
                {
                    "output_type": "stream",
                    "name": "stdout",
                    "text": [
                        "Wall time: 1min 7s\n"
                    ]
                }
            ],
            "metadata": {}
        },
        {
            "cell_type": "code",
            "execution_count": 38,
            "source": [
                "%%time\r\n",
                "backtest_bert = md1_bert.historical_forecasts(series_train,\\\r\n",
                "    past_covariates = series_train_cov,\r\n",
                "    start = .75,\r\n",
                "    retrain = False)\r\n",
                "\r\n",
                "# backtest_cov = model_cov.historical_forecasts(series_air_scaled,\r\n",
                "#                                               past_covariates=air_covariates,\r\n",
                "#                                               start=0.6,\r\n",
                "#                                               forecast_horizon=12,\r\n",
                "#                                               stride=1,\r\n",
                "#                                               retrain=False,\r\n",
                "#                                               verbose=True)\r\n"
            ],
            "outputs": [
                {
                    "output_type": "stream",
                    "name": "stdout",
                    "text": [
                        "Wall time: 20.2 s\n"
                    ]
                }
            ],
            "metadata": {}
        },
        {
            "cell_type": "code",
            "execution_count": 65,
            "source": [
                "backtest_bert.values()"
            ],
            "outputs": [
                {
                    "output_type": "execute_result",
                    "data": {
                        "text/plain": [
                            "array([[  8.58003488],\n",
                            "       [ 16.75006646],\n",
                            "       [ -7.71201114],\n",
                            "       [ 19.46110313],\n",
                            "       [ 12.88660144],\n",
                            "       [ 28.29548925],\n",
                            "       [ 20.85115673],\n",
                            "       [  5.7885872 ],\n",
                            "       [  3.74193627],\n",
                            "       [  1.9756352 ],\n",
                            "       [ -5.39893731],\n",
                            "       [ -3.82845924],\n",
                            "       [  8.08884992],\n",
                            "       [ -3.57432284],\n",
                            "       [  4.51135072],\n",
                            "       [ 12.48935999],\n",
                            "       [ 17.10340229],\n",
                            "       [  2.95315206],\n",
                            "       [ -6.86915419],\n",
                            "       [  5.87270726],\n",
                            "       [ -0.13573028],\n",
                            "       [ 32.73669842],\n",
                            "       [ 28.48003049],\n",
                            "       [ -9.44669531],\n",
                            "       [ 21.75007443],\n",
                            "       [  8.8699816 ],\n",
                            "       [ -8.8958137 ],\n",
                            "       [ -1.46431506],\n",
                            "       [ -0.40100006],\n",
                            "       [ -3.77870952],\n",
                            "       [ -2.47703573],\n",
                            "       [  1.24799463],\n",
                            "       [  3.20450235],\n",
                            "       [  0.45291843],\n",
                            "       [ 24.27563614],\n",
                            "       [ -0.56996219],\n",
                            "       [ 10.20096776],\n",
                            "       [ -0.02575219],\n",
                            "       [  1.7723841 ],\n",
                            "       [  4.92180411],\n",
                            "       [ -9.43878706],\n",
                            "       [ 24.11984083],\n",
                            "       [ -0.59175919],\n",
                            "       [-24.59204906],\n",
                            "       [  5.15947662],\n",
                            "       [ 13.90521664],\n",
                            "       [  4.45775491],\n",
                            "       [ -6.03433411],\n",
                            "       [-15.04306304],\n",
                            "       [ 28.16154355],\n",
                            "       [ 15.30890131],\n",
                            "       [ -8.11050958],\n",
                            "       [ 31.37876541],\n",
                            "       [ 37.6553616 ],\n",
                            "       [ 37.04553572],\n",
                            "       [ -4.95970009],\n",
                            "       [ 13.27170086],\n",
                            "       [  3.47728535],\n",
                            "       [ -9.6923448 ],\n",
                            "       [ 51.83467687],\n",
                            "       [  2.04926087],\n",
                            "       [  4.64415017],\n",
                            "       [ -1.37302172],\n",
                            "       [ 15.56751001],\n",
                            "       [ 23.04420999],\n",
                            "       [  4.04268624],\n",
                            "       [ 37.675009  ],\n",
                            "       [  4.68210444],\n",
                            "       [ 29.54395494],\n",
                            "       [  7.78129852],\n",
                            "       [  3.96895926],\n",
                            "       [  3.80979058],\n",
                            "       [-15.72974353],\n",
                            "       [ 28.60876054],\n",
                            "       [ 31.27184265],\n",
                            "       [ 22.78557003],\n",
                            "       [ -6.47500429],\n",
                            "       [ 33.60377424],\n",
                            "       [ -1.63387723],\n",
                            "       [ -0.72917141],\n",
                            "       [ 21.41429285],\n",
                            "       [ -0.87776886],\n",
                            "       [ -1.43205378],\n",
                            "       [ -1.17066217],\n",
                            "       [ 24.066364  ],\n",
                            "       [  2.85210819],\n",
                            "       [ 33.235266  ],\n",
                            "       [  0.61508458],\n",
                            "       [-14.64318371],\n",
                            "       [  0.71490718],\n",
                            "       [  1.73357509],\n",
                            "       [  8.80153202],\n",
                            "       [  6.06162852],\n",
                            "       [  5.12174795],\n",
                            "       [  2.68398756],\n",
                            "       [  9.01997774],\n",
                            "       [  8.15441422],\n",
                            "       [  4.32378574],\n",
                            "       [ 13.22216171],\n",
                            "       [ 19.38810404],\n",
                            "       [  0.85778137],\n",
                            "       [  8.24444378],\n",
                            "       [  2.4514336 ],\n",
                            "       [  9.57256796],\n",
                            "       [-12.92110299],\n",
                            "       [  6.28977171],\n",
                            "       [ 11.80367967],\n",
                            "       [  3.09627159],\n",
                            "       [-13.92273834],\n",
                            "       [ -1.22807862],\n",
                            "       [ 11.43949166],\n",
                            "       [ -4.97721398],\n",
                            "       [-21.04655601],\n",
                            "       [ -8.9948376 ],\n",
                            "       [  8.22058778],\n",
                            "       [ -3.40405075],\n",
                            "       [ -4.69692197],\n",
                            "       [  5.56053864],\n",
                            "       [  4.23378788],\n",
                            "       [ 31.19582452],\n",
                            "       [ 11.74624127],\n",
                            "       [ -0.36350936],\n",
                            "       [ -3.29889564],\n",
                            "       [ 24.02561311],\n",
                            "       [ 26.18890548],\n",
                            "       [-16.2683065 ],\n",
                            "       [ -7.8150794 ],\n",
                            "       [ 10.40807796],\n",
                            "       [ 21.49450371],\n",
                            "       [  3.65743075],\n",
                            "       [ 12.55821314],\n",
                            "       [ 15.1397785 ],\n",
                            "       [ 25.56813877],\n",
                            "       [  4.97350462],\n",
                            "       [ 37.95373483],\n",
                            "       [ 20.28762692],\n",
                            "       [-25.3850518 ],\n",
                            "       [  7.53243591],\n",
                            "       [ 14.02835922],\n",
                            "       [ 16.56549672],\n",
                            "       [ 21.32022795],\n",
                            "       [ 12.36502894],\n",
                            "       [  2.51133068],\n",
                            "       [ 23.96802047],\n",
                            "       [ 11.75527193],\n",
                            "       [ 27.2986827 ],\n",
                            "       [ -0.11777581],\n",
                            "       [ 14.68092382],\n",
                            "       [ -1.89822484],\n",
                            "       [-12.63006561],\n",
                            "       [  8.09059855],\n",
                            "       [-23.06877206],\n",
                            "       [  5.56798495],\n",
                            "       [  1.23688784],\n",
                            "       [ -3.10158247],\n",
                            "       [ -1.6058022 ],\n",
                            "       [ -4.72519656],\n",
                            "       [ 32.32982079],\n",
                            "       [  0.95659075],\n",
                            "       [  1.9213151 ],\n",
                            "       [ 18.32932254],\n",
                            "       [ 18.42584375],\n",
                            "       [-24.22748354],\n",
                            "       [-21.07070996],\n",
                            "       [ -7.09712587],\n",
                            "       [-17.9221744 ],\n",
                            "       [ 44.13682133],\n",
                            "       [ 22.42314527],\n",
                            "       [  2.30093031],\n",
                            "       [ 28.45244689],\n",
                            "       [  7.14141469],\n",
                            "       [ 35.87444703],\n",
                            "       [-26.3792231 ],\n",
                            "       [ -7.25076204],\n",
                            "       [ -9.17615941],\n",
                            "       [ 20.62620246],\n",
                            "       [ 10.85540498],\n",
                            "       [ -5.83702877],\n",
                            "       [ 15.58517821],\n",
                            "       [  8.98903727],\n",
                            "       [ 24.58801399],\n",
                            "       [  9.72375864],\n",
                            "       [  7.36603021],\n",
                            "       [  3.80746667],\n",
                            "       [ 49.56437155],\n",
                            "       [  1.56254857],\n",
                            "       [-15.07771437],\n",
                            "       [  9.21721118],\n",
                            "       [  8.11202065],\n",
                            "       [ 10.4751266 ],\n",
                            "       [ 16.69715185],\n",
                            "       [  4.86771843],\n",
                            "       [ 29.11681286],\n",
                            "       [ 47.46891453],\n",
                            "       [-25.75654632],\n",
                            "       [ 28.41168765],\n",
                            "       [ 48.33814805],\n",
                            "       [ 43.33510511],\n",
                            "       [  2.35939461],\n",
                            "       [-12.21352748],\n",
                            "       [-17.26469578],\n",
                            "       [ 10.77063737],\n",
                            "       [ 28.91800018],\n",
                            "       [ 20.64547483],\n",
                            "       [ 29.93514788],\n",
                            "       [  5.26317192],\n",
                            "       [ -6.23901798],\n",
                            "       [ 15.17199648],\n",
                            "       [ 35.32072066],\n",
                            "       [ 20.50934844],\n",
                            "       [ 14.47341637],\n",
                            "       [ 12.58813973],\n",
                            "       [ -0.18402917],\n",
                            "       [  6.34497635],\n",
                            "       [ -3.69905626],\n",
                            "       [-28.54388195],\n",
                            "       [ 12.99944423],\n",
                            "       [  9.39062034],\n",
                            "       [ -9.01504712],\n",
                            "       [ 38.38124352],\n",
                            "       [ 12.33525293],\n",
                            "       [ 11.97790707],\n",
                            "       [ 13.57455094],\n",
                            "       [-32.10179855],\n",
                            "       [ 17.27001296],\n",
                            "       [-23.62243386],\n",
                            "       [-29.89067889],\n",
                            "       [-14.74621369],\n",
                            "       [ 18.12304463],\n",
                            "       [-12.3731201 ],\n",
                            "       [ 14.3425507 ],\n",
                            "       [ 12.18077361],\n",
                            "       [ 12.07898671],\n",
                            "       [ 30.96492879],\n",
                            "       [ 11.68069132],\n",
                            "       [ -8.82106007],\n",
                            "       [ 11.92192897],\n",
                            "       [  9.43783991],\n",
                            "       [ -5.98199512],\n",
                            "       [  2.44788094],\n",
                            "       [ 20.84172668],\n",
                            "       [ -8.69621836],\n",
                            "       [  3.93319223],\n",
                            "       [ -8.61458707],\n",
                            "       [ -9.59583753],\n",
                            "       [ 10.12304376],\n",
                            "       [  1.17598957],\n",
                            "       [-25.85138285],\n",
                            "       [ 25.88878948],\n",
                            "       [  0.85515201],\n",
                            "       [ -3.11950064]])"
                        ]
                    },
                    "metadata": {},
                    "execution_count": 65
                }
            ],
            "metadata": {}
        },
        {
            "cell_type": "code",
            "execution_count": 27,
            "source": [
                "%%time\r\n",
                "train_pred_bert = md1_bert.predict(n = 334 , \r\n",
                "    past_covariates = series_train_cov,\r\n",
                "    # future_covariates = series_test_cov\r\n",
                "    )\r\n",
                "train_pred_bert.values()"
            ],
            "outputs": [],
            "metadata": {}
        },
        {
            "cell_type": "code",
            "execution_count": 85,
            "source": [
                "from darts.metrics import mape\r\n",
                "mean_absolute_error(train_pred_bert.values(), series_test.values())"
            ],
            "outputs": [
                {
                    "output_type": "execute_result",
                    "data": {
                        "text/plain": [
                            "20.53783696504374"
                        ]
                    },
                    "metadata": {},
                    "execution_count": 85
                }
            ],
            "metadata": {}
        },
        {
            "cell_type": "markdown",
            "source": [
                "## lSTM in darts"
            ],
            "metadata": {}
        },
        {
            "cell_type": "code",
            "execution_count": 37,
            "source": [
                "%%time\r\n",
                "LSTM_darts = RNNModel(\r\n",
                "    model='LSTM',\r\n",
                "    hidden_dim=20,\r\n",
                "    dropout=0,\r\n",
                "    batch_size=7,\r\n",
                "    n_epochs=5,\r\n",
                "    optimizer_kwargs={'lr': 1e-3},\r\n",
                "    model_name='lstm_RNN',\r\n",
                "    log_tensorboard=True,\r\n",
                "    random_state=42,\r\n",
                "    # training_length=20,\r\n",
                "    input_chunk_length=31,\r\n",
                "    force_reset=True\r\n",
                ")\r\n",
                "LSTM_darts.fit(series_train,\r\n",
                "             future_covariates=series_train_cov,\r\n",
                "            #  val_series=series_test,\r\n",
                "            #  val_future_covariates=series_test_cov,\r\n",
                "             verbose=True)"
            ],
            "outputs": [
                {
                    "output_type": "stream",
                    "name": "stderr",
                    "text": [
                        "[2021-08-24 14:32:34,355] INFO | darts.models.torch_forecasting_model | Train dataset contains 977 samples.\n",
                        "[2021-08-24 14:32:34,355] INFO | darts.models.torch_forecasting_model | Train dataset contains 977 samples.\n",
                        "INFO:darts.models.torch_forecasting_model:Train dataset contains 977 samples.\n",
                        "[2021-08-24 14:32:34,367] INFO | darts.models.torch_forecasting_model | Time series values are 64-bits; casting model to float64. If training is too slow you can try casting your data to 32-bits.\n",
                        "[2021-08-24 14:32:34,367] INFO | darts.models.torch_forecasting_model | Time series values are 64-bits; casting model to float64. If training is too slow you can try casting your data to 32-bits.\n",
                        "INFO:darts.models.torch_forecasting_model:Time series values are 64-bits; casting model to float64. If training is too slow you can try casting your data to 32-bits.\n"
                    ]
                },
                {
                    "output_type": "display_data",
                    "data": {
                        "text/plain": [
                            "  0%|          | 0/5 [00:00<?, ?it/s]"
                        ],
                        "application/vnd.jupyter.widget-view+json": {
                            "version_major": 2,
                            "version_minor": 0,
                            "model_id": "dc5c7d9e157e45e09e9bf3f72980ddaa"
                        }
                    },
                    "metadata": {}
                },
                {
                    "output_type": "stream",
                    "name": "stdout",
                    "text": [
                        "Wall time: 23.1 s\n"
                    ]
                }
            ],
            "metadata": {}
        },
        {
            "cell_type": "code",
            "execution_count": 62,
            "source": [
                "np.set_printoptions(suppress=True)\r\n",
                "lstm_pred_test = LSTM_darts.predict(n = 334, future_covariates = ful_span_cov).values()"
            ],
            "outputs": [],
            "metadata": {}
        },
        {
            "cell_type": "code",
            "execution_count": 67,
            "source": [
                "acc_score_data  = [1 if i>=lstm_pred_test.mean() \\\r\n",
                "    else 0 for i in lstm_pred_test]\r\n",
                "\r\n",
                "# acc_score_data1 = [1 if i>=lstm_pred_test.sort_values() \\\r\n",
                "#     else 0 for i in forecast['yhat']]\r\n",
                "    \r\n",
                "# acc_score_data2 = [1 if i>lb_prophet_result['yhat'].std() \\\r\n",
                "#     else 0 for i in forecast['yhat']]\r\n",
                "\r\n",
                "# mean_absolute_error(x_test1['y'], m.predict(x_test1)['yhat'])\r\n",
                "# [accuracy_score(x_test1['y'],i) for i in [acc_score_data, acc_score_data1, acc_score_data2]]\r\n",
                "accuracy_score(x_test1['y'],acc_score_data) "
            ],
            "outputs": [
                {
                    "output_type": "execute_result",
                    "data": {
                        "text/plain": [
                            "0.9131736526946108"
                        ]
                    },
                    "metadata": {},
                    "execution_count": 67
                }
            ],
            "metadata": {}
        },
        {
            "cell_type": "code",
            "execution_count": 86,
            "source": [
                "lstm_plt = x_test1.copy()\r\n",
                "lstm_plt['y_pred'] = lstm_pred_test"
            ],
            "outputs": [],
            "metadata": {}
        },
        {
            "cell_type": "code",
            "execution_count": 109,
            "source": [
                "import plotly.express as ex\r\n",
                "fig = ex.scatter(data_frame=lstm_plt, x = 'ds', y = 'y')\r\n",
                "fig.add_scatter(x = lstm_plt['ds'],  y = lstm_plt['y_pred'])\r\n",
                "fig.show()"
            ],
            "outputs": [
                {
                    "output_type": "display_data",
                    "data": {
                        "application/vnd.plotly.v1+json": {
                            "config": {
                                "plotlyServerURL": "https://plot.ly"
                            },
                            "data": [
                                {
                                    "hovertemplate": "ds=%{x}<br>y=%{y}<extra></extra>",
                                    "legendgroup": "",
                                    "marker": {
                                        "color": "#636efa",
                                        "symbol": "circle"
                                    },
                                    "mode": "markers",
                                    "name": "",
                                    "orientation": "v",
                                    "showlegend": false,
                                    "type": "scatter",
                                    "x": [
                                        "2020-06-08T00:00:00",
                                        "2020-06-09T00:00:00",
                                        "2020-06-10T00:00:00",
                                        "2020-06-11T00:00:00",
                                        "2020-06-12T00:00:00",
                                        "2020-06-13T00:00:00",
                                        "2020-06-14T00:00:00",
                                        "2020-06-15T00:00:00",
                                        "2020-06-16T00:00:00",
                                        "2020-06-17T00:00:00",
                                        "2020-06-18T00:00:00",
                                        "2020-06-19T00:00:00",
                                        "2020-06-20T00:00:00",
                                        "2020-06-21T00:00:00",
                                        "2020-06-22T00:00:00",
                                        "2020-06-23T00:00:00",
                                        "2020-06-24T00:00:00",
                                        "2020-06-25T00:00:00",
                                        "2020-06-26T00:00:00",
                                        "2020-06-27T00:00:00",
                                        "2020-06-28T00:00:00",
                                        "2020-06-29T00:00:00",
                                        "2020-06-30T00:00:00",
                                        "2020-07-01T00:00:00",
                                        "2020-07-02T00:00:00",
                                        "2020-07-03T00:00:00",
                                        "2020-07-04T00:00:00",
                                        "2020-07-05T00:00:00",
                                        "2020-07-06T00:00:00",
                                        "2020-07-07T00:00:00",
                                        "2020-07-08T00:00:00",
                                        "2020-07-09T00:00:00",
                                        "2020-07-10T00:00:00",
                                        "2020-07-11T00:00:00",
                                        "2020-07-12T00:00:00",
                                        "2020-07-13T00:00:00",
                                        "2020-07-14T00:00:00",
                                        "2020-07-15T00:00:00",
                                        "2020-07-16T00:00:00",
                                        "2020-07-17T00:00:00",
                                        "2020-07-18T00:00:00",
                                        "2020-07-19T00:00:00",
                                        "2020-07-20T00:00:00",
                                        "2020-07-21T00:00:00",
                                        "2020-07-22T00:00:00",
                                        "2020-07-23T00:00:00",
                                        "2020-07-24T00:00:00",
                                        "2020-07-25T00:00:00",
                                        "2020-07-26T00:00:00",
                                        "2020-07-27T00:00:00",
                                        "2020-07-28T00:00:00",
                                        "2020-07-29T00:00:00",
                                        "2020-07-30T00:00:00",
                                        "2020-07-31T00:00:00",
                                        "2020-08-01T00:00:00",
                                        "2020-08-02T00:00:00",
                                        "2020-08-03T00:00:00",
                                        "2020-08-04T00:00:00",
                                        "2020-08-05T00:00:00",
                                        "2020-08-06T00:00:00",
                                        "2020-08-07T00:00:00",
                                        "2020-08-08T00:00:00",
                                        "2020-08-09T00:00:00",
                                        "2020-08-10T00:00:00",
                                        "2020-08-11T00:00:00",
                                        "2020-08-12T00:00:00",
                                        "2020-08-13T00:00:00",
                                        "2020-08-14T00:00:00",
                                        "2020-08-15T00:00:00",
                                        "2020-08-16T00:00:00",
                                        "2020-08-17T00:00:00",
                                        "2020-08-18T00:00:00",
                                        "2020-08-19T00:00:00",
                                        "2020-08-20T00:00:00",
                                        "2020-08-21T00:00:00",
                                        "2020-08-22T00:00:00",
                                        "2020-08-23T00:00:00",
                                        "2020-08-24T00:00:00",
                                        "2020-08-25T00:00:00",
                                        "2020-08-26T00:00:00",
                                        "2020-08-27T00:00:00",
                                        "2020-08-28T00:00:00",
                                        "2020-08-29T00:00:00",
                                        "2020-08-30T00:00:00",
                                        "2020-08-31T00:00:00",
                                        "2020-09-01T00:00:00",
                                        "2020-09-02T00:00:00",
                                        "2020-09-03T00:00:00",
                                        "2020-09-04T00:00:00",
                                        "2020-09-05T00:00:00",
                                        "2020-09-06T00:00:00",
                                        "2020-09-07T00:00:00",
                                        "2020-09-08T00:00:00",
                                        "2020-09-09T00:00:00",
                                        "2020-09-10T00:00:00",
                                        "2020-09-11T00:00:00",
                                        "2020-09-12T00:00:00",
                                        "2020-09-13T00:00:00",
                                        "2020-09-14T00:00:00",
                                        "2020-09-15T00:00:00",
                                        "2020-09-16T00:00:00",
                                        "2020-09-17T00:00:00",
                                        "2020-09-18T00:00:00",
                                        "2020-09-19T00:00:00",
                                        "2020-09-20T00:00:00",
                                        "2020-09-21T00:00:00",
                                        "2020-09-22T00:00:00",
                                        "2020-09-23T00:00:00",
                                        "2020-09-24T00:00:00",
                                        "2020-09-25T00:00:00",
                                        "2020-09-26T00:00:00",
                                        "2020-09-27T00:00:00",
                                        "2020-09-28T00:00:00",
                                        "2020-09-29T00:00:00",
                                        "2020-09-30T00:00:00",
                                        "2020-10-01T00:00:00",
                                        "2020-10-02T00:00:00",
                                        "2020-10-03T00:00:00",
                                        "2020-10-04T00:00:00",
                                        "2020-10-05T00:00:00",
                                        "2020-10-06T00:00:00",
                                        "2020-10-07T00:00:00",
                                        "2020-10-08T00:00:00",
                                        "2020-10-09T00:00:00",
                                        "2020-10-10T00:00:00",
                                        "2020-10-11T00:00:00",
                                        "2020-10-12T00:00:00",
                                        "2020-10-13T00:00:00",
                                        "2020-10-14T00:00:00",
                                        "2020-10-15T00:00:00",
                                        "2020-10-16T00:00:00",
                                        "2020-10-17T00:00:00",
                                        "2020-10-18T00:00:00",
                                        "2020-10-19T00:00:00",
                                        "2020-10-20T00:00:00",
                                        "2020-10-21T00:00:00",
                                        "2020-10-22T00:00:00",
                                        "2020-10-23T00:00:00",
                                        "2020-10-24T00:00:00",
                                        "2020-10-25T00:00:00",
                                        "2020-10-26T00:00:00",
                                        "2020-10-27T00:00:00",
                                        "2020-10-28T00:00:00",
                                        "2020-10-29T00:00:00",
                                        "2020-10-30T00:00:00",
                                        "2020-10-31T00:00:00",
                                        "2020-11-01T00:00:00",
                                        "2020-11-02T00:00:00",
                                        "2020-11-03T00:00:00",
                                        "2020-11-04T00:00:00",
                                        "2020-11-05T00:00:00",
                                        "2020-11-06T00:00:00",
                                        "2020-11-07T00:00:00",
                                        "2020-11-08T00:00:00",
                                        "2020-11-09T00:00:00",
                                        "2020-11-10T00:00:00",
                                        "2020-11-11T00:00:00",
                                        "2020-11-12T00:00:00",
                                        "2020-11-13T00:00:00",
                                        "2020-11-14T00:00:00",
                                        "2020-11-15T00:00:00",
                                        "2020-11-16T00:00:00",
                                        "2020-11-17T00:00:00",
                                        "2020-11-18T00:00:00",
                                        "2020-11-19T00:00:00",
                                        "2020-11-20T00:00:00",
                                        "2020-11-21T00:00:00",
                                        "2020-11-22T00:00:00",
                                        "2020-11-23T00:00:00",
                                        "2020-11-24T00:00:00",
                                        "2020-11-25T00:00:00",
                                        "2020-11-26T00:00:00",
                                        "2020-11-27T00:00:00",
                                        "2020-11-28T00:00:00",
                                        "2020-11-29T00:00:00",
                                        "2020-11-30T00:00:00",
                                        "2020-12-01T00:00:00",
                                        "2020-12-02T00:00:00",
                                        "2020-12-03T00:00:00",
                                        "2020-12-04T00:00:00",
                                        "2020-12-05T00:00:00",
                                        "2020-12-06T00:00:00",
                                        "2020-12-07T00:00:00",
                                        "2020-12-08T00:00:00",
                                        "2020-12-09T00:00:00",
                                        "2020-12-10T00:00:00",
                                        "2020-12-11T00:00:00",
                                        "2020-12-12T00:00:00",
                                        "2020-12-13T00:00:00",
                                        "2020-12-14T00:00:00",
                                        "2020-12-15T00:00:00",
                                        "2020-12-16T00:00:00",
                                        "2020-12-17T00:00:00",
                                        "2020-12-18T00:00:00",
                                        "2020-12-19T00:00:00",
                                        "2020-12-20T00:00:00",
                                        "2020-12-21T00:00:00",
                                        "2020-12-22T00:00:00",
                                        "2020-12-23T00:00:00",
                                        "2020-12-24T00:00:00",
                                        "2020-12-25T00:00:00",
                                        "2020-12-26T00:00:00",
                                        "2020-12-27T00:00:00",
                                        "2020-12-28T00:00:00",
                                        "2020-12-29T00:00:00",
                                        "2020-12-30T00:00:00",
                                        "2020-12-31T00:00:00",
                                        "2021-01-01T00:00:00",
                                        "2021-01-02T00:00:00",
                                        "2021-01-03T00:00:00",
                                        "2021-01-04T00:00:00",
                                        "2021-01-05T00:00:00",
                                        "2021-01-06T00:00:00",
                                        "2021-01-07T00:00:00",
                                        "2021-01-08T00:00:00",
                                        "2021-01-09T00:00:00",
                                        "2021-01-10T00:00:00",
                                        "2021-01-11T00:00:00",
                                        "2021-01-12T00:00:00",
                                        "2021-01-13T00:00:00",
                                        "2021-01-14T00:00:00",
                                        "2021-01-15T00:00:00",
                                        "2021-01-16T00:00:00",
                                        "2021-01-17T00:00:00",
                                        "2021-01-18T00:00:00",
                                        "2021-01-19T00:00:00",
                                        "2021-01-20T00:00:00",
                                        "2021-01-21T00:00:00",
                                        "2021-01-22T00:00:00",
                                        "2021-01-23T00:00:00",
                                        "2021-01-24T00:00:00",
                                        "2021-01-25T00:00:00",
                                        "2021-01-26T00:00:00",
                                        "2021-01-27T00:00:00",
                                        "2021-01-28T00:00:00",
                                        "2021-01-29T00:00:00",
                                        "2021-01-30T00:00:00",
                                        "2021-01-31T00:00:00",
                                        "2021-02-01T00:00:00",
                                        "2021-02-02T00:00:00",
                                        "2021-02-03T00:00:00",
                                        "2021-02-04T00:00:00",
                                        "2021-02-05T00:00:00",
                                        "2021-02-06T00:00:00",
                                        "2021-02-07T00:00:00",
                                        "2021-02-08T00:00:00",
                                        "2021-02-09T00:00:00",
                                        "2021-02-10T00:00:00",
                                        "2021-02-11T00:00:00",
                                        "2021-02-12T00:00:00",
                                        "2021-02-13T00:00:00",
                                        "2021-02-14T00:00:00",
                                        "2021-02-15T00:00:00",
                                        "2021-02-16T00:00:00",
                                        "2021-02-17T00:00:00",
                                        "2021-02-18T00:00:00",
                                        "2021-02-19T00:00:00",
                                        "2021-02-20T00:00:00",
                                        "2021-02-21T00:00:00",
                                        "2021-02-22T00:00:00",
                                        "2021-02-23T00:00:00",
                                        "2021-02-24T00:00:00",
                                        "2021-02-25T00:00:00",
                                        "2021-02-26T00:00:00",
                                        "2021-02-27T00:00:00",
                                        "2021-02-28T00:00:00",
                                        "2021-03-01T00:00:00",
                                        "2021-03-02T00:00:00",
                                        "2021-03-03T00:00:00",
                                        "2021-03-04T00:00:00",
                                        "2021-03-05T00:00:00",
                                        "2021-03-06T00:00:00",
                                        "2021-03-07T00:00:00",
                                        "2021-03-08T00:00:00",
                                        "2021-03-09T00:00:00",
                                        "2021-03-10T00:00:00",
                                        "2021-03-11T00:00:00",
                                        "2021-03-12T00:00:00",
                                        "2021-03-13T00:00:00",
                                        "2021-03-14T00:00:00",
                                        "2021-03-15T00:00:00",
                                        "2021-03-16T00:00:00",
                                        "2021-03-17T00:00:00",
                                        "2021-03-18T00:00:00",
                                        "2021-03-19T00:00:00",
                                        "2021-03-20T00:00:00",
                                        "2021-03-21T00:00:00",
                                        "2021-03-22T00:00:00",
                                        "2021-03-23T00:00:00",
                                        "2021-03-24T00:00:00",
                                        "2021-03-25T00:00:00",
                                        "2021-03-26T00:00:00",
                                        "2021-03-27T00:00:00",
                                        "2021-03-28T00:00:00",
                                        "2021-03-29T00:00:00",
                                        "2021-03-30T00:00:00",
                                        "2021-03-31T00:00:00",
                                        "2021-04-01T00:00:00",
                                        "2021-04-02T00:00:00",
                                        "2021-04-03T00:00:00",
                                        "2021-04-04T00:00:00",
                                        "2021-04-05T00:00:00",
                                        "2021-04-06T00:00:00",
                                        "2021-04-07T00:00:00",
                                        "2021-04-08T00:00:00",
                                        "2021-04-09T00:00:00",
                                        "2021-04-10T00:00:00",
                                        "2021-04-11T00:00:00",
                                        "2021-04-12T00:00:00",
                                        "2021-04-13T00:00:00",
                                        "2021-04-14T00:00:00",
                                        "2021-04-15T00:00:00",
                                        "2021-04-16T00:00:00",
                                        "2021-04-17T00:00:00",
                                        "2021-04-18T00:00:00",
                                        "2021-04-19T00:00:00",
                                        "2021-04-20T00:00:00",
                                        "2021-04-21T00:00:00",
                                        "2021-04-22T00:00:00",
                                        "2021-04-23T00:00:00",
                                        "2021-04-24T00:00:00",
                                        "2021-04-25T00:00:00",
                                        "2021-04-26T00:00:00",
                                        "2021-04-27T00:00:00",
                                        "2021-04-28T00:00:00",
                                        "2021-04-29T00:00:00",
                                        "2021-04-30T00:00:00",
                                        "2021-05-01T00:00:00",
                                        "2021-05-02T00:00:00",
                                        "2021-05-03T00:00:00",
                                        "2021-05-04T00:00:00",
                                        "2021-05-05T00:00:00",
                                        "2021-05-06T00:00:00",
                                        "2021-05-07T00:00:00"
                                    ],
                                    "xaxis": "x",
                                    "y": [
                                        0,
                                        1,
                                        1,
                                        0,
                                        1,
                                        0,
                                        0,
                                        1,
                                        1,
                                        1,
                                        1,
                                        1,
                                        0,
                                        0,
                                        1,
                                        1,
                                        1,
                                        0,
                                        0,
                                        0,
                                        0,
                                        1,
                                        1,
                                        1,
                                        1,
                                        1,
                                        0,
                                        0,
                                        1,
                                        1,
                                        1,
                                        1,
                                        1,
                                        0,
                                        0,
                                        1,
                                        1,
                                        1,
                                        1,
                                        1,
                                        0,
                                        0,
                                        0,
                                        1,
                                        1,
                                        1,
                                        0,
                                        0,
                                        0,
                                        1,
                                        1,
                                        1,
                                        1,
                                        1,
                                        0,
                                        0,
                                        1,
                                        1,
                                        1,
                                        1,
                                        1,
                                        0,
                                        0,
                                        1,
                                        1,
                                        1,
                                        0,
                                        1,
                                        0,
                                        0,
                                        1,
                                        1,
                                        1,
                                        1,
                                        1,
                                        0,
                                        0,
                                        1,
                                        1,
                                        1,
                                        1,
                                        0,
                                        0,
                                        0,
                                        1,
                                        1,
                                        1,
                                        1,
                                        1,
                                        0,
                                        0,
                                        1,
                                        1,
                                        1,
                                        1,
                                        1,
                                        0,
                                        0,
                                        1,
                                        1,
                                        1,
                                        1,
                                        1,
                                        1,
                                        0,
                                        0,
                                        1,
                                        1,
                                        1,
                                        1,
                                        0,
                                        1,
                                        1,
                                        1,
                                        0,
                                        0,
                                        0,
                                        0,
                                        0,
                                        0,
                                        0,
                                        0,
                                        0,
                                        1,
                                        1,
                                        0,
                                        1,
                                        1,
                                        1,
                                        1,
                                        1,
                                        1,
                                        0,
                                        1,
                                        1,
                                        1,
                                        0,
                                        1,
                                        0,
                                        0,
                                        1,
                                        1,
                                        1,
                                        1,
                                        1,
                                        0,
                                        0,
                                        1,
                                        1,
                                        1,
                                        1,
                                        1,
                                        0,
                                        0,
                                        1,
                                        1,
                                        1,
                                        1,
                                        1,
                                        0,
                                        0,
                                        1,
                                        1,
                                        1,
                                        1,
                                        1,
                                        1,
                                        0,
                                        0,
                                        1,
                                        1,
                                        1,
                                        1,
                                        0,
                                        0,
                                        1,
                                        1,
                                        1,
                                        1,
                                        0,
                                        1,
                                        0,
                                        1,
                                        1,
                                        1,
                                        1,
                                        1,
                                        0,
                                        0,
                                        1,
                                        1,
                                        1,
                                        1,
                                        1,
                                        0,
                                        0,
                                        1,
                                        1,
                                        1,
                                        1,
                                        1,
                                        1,
                                        0,
                                        1,
                                        0,
                                        1,
                                        1,
                                        0,
                                        0,
                                        0,
                                        1,
                                        1,
                                        1,
                                        1,
                                        0,
                                        0,
                                        0,
                                        1,
                                        0,
                                        1,
                                        0,
                                        0,
                                        1,
                                        0,
                                        1,
                                        1,
                                        0,
                                        1,
                                        0,
                                        0,
                                        0,
                                        1,
                                        1,
                                        0,
                                        1,
                                        0,
                                        0,
                                        0,
                                        1,
                                        1,
                                        1,
                                        0,
                                        0,
                                        0,
                                        0,
                                        1,
                                        1,
                                        0,
                                        0,
                                        0,
                                        0,
                                        0,
                                        0,
                                        0,
                                        0,
                                        1,
                                        0,
                                        1,
                                        0,
                                        1,
                                        0,
                                        1,
                                        0,
                                        1,
                                        0,
                                        0,
                                        0,
                                        0,
                                        1,
                                        1,
                                        1,
                                        1,
                                        0,
                                        1,
                                        1,
                                        0,
                                        0,
                                        1,
                                        0,
                                        0,
                                        1,
                                        1,
                                        0,
                                        0,
                                        0,
                                        0,
                                        0,
                                        0,
                                        1,
                                        0,
                                        1,
                                        0,
                                        0,
                                        0,
                                        1,
                                        1,
                                        0,
                                        0,
                                        0,
                                        0,
                                        0,
                                        0,
                                        1,
                                        0,
                                        1,
                                        1,
                                        0,
                                        0,
                                        1,
                                        1,
                                        0,
                                        0,
                                        1,
                                        0,
                                        0,
                                        0,
                                        0,
                                        0,
                                        0,
                                        0,
                                        0,
                                        1,
                                        0,
                                        0,
                                        0,
                                        0,
                                        1,
                                        0,
                                        0,
                                        0,
                                        0,
                                        0,
                                        0,
                                        0
                                    ],
                                    "yaxis": "y"
                                },
                                {
                                    "type": "scatter",
                                    "x": [
                                        "2020-06-08T00:00:00",
                                        "2020-06-09T00:00:00",
                                        "2020-06-10T00:00:00",
                                        "2020-06-11T00:00:00",
                                        "2020-06-12T00:00:00",
                                        "2020-06-13T00:00:00",
                                        "2020-06-14T00:00:00",
                                        "2020-06-15T00:00:00",
                                        "2020-06-16T00:00:00",
                                        "2020-06-17T00:00:00",
                                        "2020-06-18T00:00:00",
                                        "2020-06-19T00:00:00",
                                        "2020-06-20T00:00:00",
                                        "2020-06-21T00:00:00",
                                        "2020-06-22T00:00:00",
                                        "2020-06-23T00:00:00",
                                        "2020-06-24T00:00:00",
                                        "2020-06-25T00:00:00",
                                        "2020-06-26T00:00:00",
                                        "2020-06-27T00:00:00",
                                        "2020-06-28T00:00:00",
                                        "2020-06-29T00:00:00",
                                        "2020-06-30T00:00:00",
                                        "2020-07-01T00:00:00",
                                        "2020-07-02T00:00:00",
                                        "2020-07-03T00:00:00",
                                        "2020-07-04T00:00:00",
                                        "2020-07-05T00:00:00",
                                        "2020-07-06T00:00:00",
                                        "2020-07-07T00:00:00",
                                        "2020-07-08T00:00:00",
                                        "2020-07-09T00:00:00",
                                        "2020-07-10T00:00:00",
                                        "2020-07-11T00:00:00",
                                        "2020-07-12T00:00:00",
                                        "2020-07-13T00:00:00",
                                        "2020-07-14T00:00:00",
                                        "2020-07-15T00:00:00",
                                        "2020-07-16T00:00:00",
                                        "2020-07-17T00:00:00",
                                        "2020-07-18T00:00:00",
                                        "2020-07-19T00:00:00",
                                        "2020-07-20T00:00:00",
                                        "2020-07-21T00:00:00",
                                        "2020-07-22T00:00:00",
                                        "2020-07-23T00:00:00",
                                        "2020-07-24T00:00:00",
                                        "2020-07-25T00:00:00",
                                        "2020-07-26T00:00:00",
                                        "2020-07-27T00:00:00",
                                        "2020-07-28T00:00:00",
                                        "2020-07-29T00:00:00",
                                        "2020-07-30T00:00:00",
                                        "2020-07-31T00:00:00",
                                        "2020-08-01T00:00:00",
                                        "2020-08-02T00:00:00",
                                        "2020-08-03T00:00:00",
                                        "2020-08-04T00:00:00",
                                        "2020-08-05T00:00:00",
                                        "2020-08-06T00:00:00",
                                        "2020-08-07T00:00:00",
                                        "2020-08-08T00:00:00",
                                        "2020-08-09T00:00:00",
                                        "2020-08-10T00:00:00",
                                        "2020-08-11T00:00:00",
                                        "2020-08-12T00:00:00",
                                        "2020-08-13T00:00:00",
                                        "2020-08-14T00:00:00",
                                        "2020-08-15T00:00:00",
                                        "2020-08-16T00:00:00",
                                        "2020-08-17T00:00:00",
                                        "2020-08-18T00:00:00",
                                        "2020-08-19T00:00:00",
                                        "2020-08-20T00:00:00",
                                        "2020-08-21T00:00:00",
                                        "2020-08-22T00:00:00",
                                        "2020-08-23T00:00:00",
                                        "2020-08-24T00:00:00",
                                        "2020-08-25T00:00:00",
                                        "2020-08-26T00:00:00",
                                        "2020-08-27T00:00:00",
                                        "2020-08-28T00:00:00",
                                        "2020-08-29T00:00:00",
                                        "2020-08-30T00:00:00",
                                        "2020-08-31T00:00:00",
                                        "2020-09-01T00:00:00",
                                        "2020-09-02T00:00:00",
                                        "2020-09-03T00:00:00",
                                        "2020-09-04T00:00:00",
                                        "2020-09-05T00:00:00",
                                        "2020-09-06T00:00:00",
                                        "2020-09-07T00:00:00",
                                        "2020-09-08T00:00:00",
                                        "2020-09-09T00:00:00",
                                        "2020-09-10T00:00:00",
                                        "2020-09-11T00:00:00",
                                        "2020-09-12T00:00:00",
                                        "2020-09-13T00:00:00",
                                        "2020-09-14T00:00:00",
                                        "2020-09-15T00:00:00",
                                        "2020-09-16T00:00:00",
                                        "2020-09-17T00:00:00",
                                        "2020-09-18T00:00:00",
                                        "2020-09-19T00:00:00",
                                        "2020-09-20T00:00:00",
                                        "2020-09-21T00:00:00",
                                        "2020-09-22T00:00:00",
                                        "2020-09-23T00:00:00",
                                        "2020-09-24T00:00:00",
                                        "2020-09-25T00:00:00",
                                        "2020-09-26T00:00:00",
                                        "2020-09-27T00:00:00",
                                        "2020-09-28T00:00:00",
                                        "2020-09-29T00:00:00",
                                        "2020-09-30T00:00:00",
                                        "2020-10-01T00:00:00",
                                        "2020-10-02T00:00:00",
                                        "2020-10-03T00:00:00",
                                        "2020-10-04T00:00:00",
                                        "2020-10-05T00:00:00",
                                        "2020-10-06T00:00:00",
                                        "2020-10-07T00:00:00",
                                        "2020-10-08T00:00:00",
                                        "2020-10-09T00:00:00",
                                        "2020-10-10T00:00:00",
                                        "2020-10-11T00:00:00",
                                        "2020-10-12T00:00:00",
                                        "2020-10-13T00:00:00",
                                        "2020-10-14T00:00:00",
                                        "2020-10-15T00:00:00",
                                        "2020-10-16T00:00:00",
                                        "2020-10-17T00:00:00",
                                        "2020-10-18T00:00:00",
                                        "2020-10-19T00:00:00",
                                        "2020-10-20T00:00:00",
                                        "2020-10-21T00:00:00",
                                        "2020-10-22T00:00:00",
                                        "2020-10-23T00:00:00",
                                        "2020-10-24T00:00:00",
                                        "2020-10-25T00:00:00",
                                        "2020-10-26T00:00:00",
                                        "2020-10-27T00:00:00",
                                        "2020-10-28T00:00:00",
                                        "2020-10-29T00:00:00",
                                        "2020-10-30T00:00:00",
                                        "2020-10-31T00:00:00",
                                        "2020-11-01T00:00:00",
                                        "2020-11-02T00:00:00",
                                        "2020-11-03T00:00:00",
                                        "2020-11-04T00:00:00",
                                        "2020-11-05T00:00:00",
                                        "2020-11-06T00:00:00",
                                        "2020-11-07T00:00:00",
                                        "2020-11-08T00:00:00",
                                        "2020-11-09T00:00:00",
                                        "2020-11-10T00:00:00",
                                        "2020-11-11T00:00:00",
                                        "2020-11-12T00:00:00",
                                        "2020-11-13T00:00:00",
                                        "2020-11-14T00:00:00",
                                        "2020-11-15T00:00:00",
                                        "2020-11-16T00:00:00",
                                        "2020-11-17T00:00:00",
                                        "2020-11-18T00:00:00",
                                        "2020-11-19T00:00:00",
                                        "2020-11-20T00:00:00",
                                        "2020-11-21T00:00:00",
                                        "2020-11-22T00:00:00",
                                        "2020-11-23T00:00:00",
                                        "2020-11-24T00:00:00",
                                        "2020-11-25T00:00:00",
                                        "2020-11-26T00:00:00",
                                        "2020-11-27T00:00:00",
                                        "2020-11-28T00:00:00",
                                        "2020-11-29T00:00:00",
                                        "2020-11-30T00:00:00",
                                        "2020-12-01T00:00:00",
                                        "2020-12-02T00:00:00",
                                        "2020-12-03T00:00:00",
                                        "2020-12-04T00:00:00",
                                        "2020-12-05T00:00:00",
                                        "2020-12-06T00:00:00",
                                        "2020-12-07T00:00:00",
                                        "2020-12-08T00:00:00",
                                        "2020-12-09T00:00:00",
                                        "2020-12-10T00:00:00",
                                        "2020-12-11T00:00:00",
                                        "2020-12-12T00:00:00",
                                        "2020-12-13T00:00:00",
                                        "2020-12-14T00:00:00",
                                        "2020-12-15T00:00:00",
                                        "2020-12-16T00:00:00",
                                        "2020-12-17T00:00:00",
                                        "2020-12-18T00:00:00",
                                        "2020-12-19T00:00:00",
                                        "2020-12-20T00:00:00",
                                        "2020-12-21T00:00:00",
                                        "2020-12-22T00:00:00",
                                        "2020-12-23T00:00:00",
                                        "2020-12-24T00:00:00",
                                        "2020-12-25T00:00:00",
                                        "2020-12-26T00:00:00",
                                        "2020-12-27T00:00:00",
                                        "2020-12-28T00:00:00",
                                        "2020-12-29T00:00:00",
                                        "2020-12-30T00:00:00",
                                        "2020-12-31T00:00:00",
                                        "2021-01-01T00:00:00",
                                        "2021-01-02T00:00:00",
                                        "2021-01-03T00:00:00",
                                        "2021-01-04T00:00:00",
                                        "2021-01-05T00:00:00",
                                        "2021-01-06T00:00:00",
                                        "2021-01-07T00:00:00",
                                        "2021-01-08T00:00:00",
                                        "2021-01-09T00:00:00",
                                        "2021-01-10T00:00:00",
                                        "2021-01-11T00:00:00",
                                        "2021-01-12T00:00:00",
                                        "2021-01-13T00:00:00",
                                        "2021-01-14T00:00:00",
                                        "2021-01-15T00:00:00",
                                        "2021-01-16T00:00:00",
                                        "2021-01-17T00:00:00",
                                        "2021-01-18T00:00:00",
                                        "2021-01-19T00:00:00",
                                        "2021-01-20T00:00:00",
                                        "2021-01-21T00:00:00",
                                        "2021-01-22T00:00:00",
                                        "2021-01-23T00:00:00",
                                        "2021-01-24T00:00:00",
                                        "2021-01-25T00:00:00",
                                        "2021-01-26T00:00:00",
                                        "2021-01-27T00:00:00",
                                        "2021-01-28T00:00:00",
                                        "2021-01-29T00:00:00",
                                        "2021-01-30T00:00:00",
                                        "2021-01-31T00:00:00",
                                        "2021-02-01T00:00:00",
                                        "2021-02-02T00:00:00",
                                        "2021-02-03T00:00:00",
                                        "2021-02-04T00:00:00",
                                        "2021-02-05T00:00:00",
                                        "2021-02-06T00:00:00",
                                        "2021-02-07T00:00:00",
                                        "2021-02-08T00:00:00",
                                        "2021-02-09T00:00:00",
                                        "2021-02-10T00:00:00",
                                        "2021-02-11T00:00:00",
                                        "2021-02-12T00:00:00",
                                        "2021-02-13T00:00:00",
                                        "2021-02-14T00:00:00",
                                        "2021-02-15T00:00:00",
                                        "2021-02-16T00:00:00",
                                        "2021-02-17T00:00:00",
                                        "2021-02-18T00:00:00",
                                        "2021-02-19T00:00:00",
                                        "2021-02-20T00:00:00",
                                        "2021-02-21T00:00:00",
                                        "2021-02-22T00:00:00",
                                        "2021-02-23T00:00:00",
                                        "2021-02-24T00:00:00",
                                        "2021-02-25T00:00:00",
                                        "2021-02-26T00:00:00",
                                        "2021-02-27T00:00:00",
                                        "2021-02-28T00:00:00",
                                        "2021-03-01T00:00:00",
                                        "2021-03-02T00:00:00",
                                        "2021-03-03T00:00:00",
                                        "2021-03-04T00:00:00",
                                        "2021-03-05T00:00:00",
                                        "2021-03-06T00:00:00",
                                        "2021-03-07T00:00:00",
                                        "2021-03-08T00:00:00",
                                        "2021-03-09T00:00:00",
                                        "2021-03-10T00:00:00",
                                        "2021-03-11T00:00:00",
                                        "2021-03-12T00:00:00",
                                        "2021-03-13T00:00:00",
                                        "2021-03-14T00:00:00",
                                        "2021-03-15T00:00:00",
                                        "2021-03-16T00:00:00",
                                        "2021-03-17T00:00:00",
                                        "2021-03-18T00:00:00",
                                        "2021-03-19T00:00:00",
                                        "2021-03-20T00:00:00",
                                        "2021-03-21T00:00:00",
                                        "2021-03-22T00:00:00",
                                        "2021-03-23T00:00:00",
                                        "2021-03-24T00:00:00",
                                        "2021-03-25T00:00:00",
                                        "2021-03-26T00:00:00",
                                        "2021-03-27T00:00:00",
                                        "2021-03-28T00:00:00",
                                        "2021-03-29T00:00:00",
                                        "2021-03-30T00:00:00",
                                        "2021-03-31T00:00:00",
                                        "2021-04-01T00:00:00",
                                        "2021-04-02T00:00:00",
                                        "2021-04-03T00:00:00",
                                        "2021-04-04T00:00:00",
                                        "2021-04-05T00:00:00",
                                        "2021-04-06T00:00:00",
                                        "2021-04-07T00:00:00",
                                        "2021-04-08T00:00:00",
                                        "2021-04-09T00:00:00",
                                        "2021-04-10T00:00:00",
                                        "2021-04-11T00:00:00",
                                        "2021-04-12T00:00:00",
                                        "2021-04-13T00:00:00",
                                        "2021-04-14T00:00:00",
                                        "2021-04-15T00:00:00",
                                        "2021-04-16T00:00:00",
                                        "2021-04-17T00:00:00",
                                        "2021-04-18T00:00:00",
                                        "2021-04-19T00:00:00",
                                        "2021-04-20T00:00:00",
                                        "2021-04-21T00:00:00",
                                        "2021-04-22T00:00:00",
                                        "2021-04-23T00:00:00",
                                        "2021-04-24T00:00:00",
                                        "2021-04-25T00:00:00",
                                        "2021-04-26T00:00:00",
                                        "2021-04-27T00:00:00",
                                        "2021-04-28T00:00:00",
                                        "2021-04-29T00:00:00",
                                        "2021-04-30T00:00:00",
                                        "2021-05-01T00:00:00",
                                        "2021-05-02T00:00:00",
                                        "2021-05-03T00:00:00",
                                        "2021-05-04T00:00:00",
                                        "2021-05-05T00:00:00",
                                        "2021-05-06T00:00:00",
                                        "2021-05-07T00:00:00"
                                    ],
                                    "y": [
                                        0.9407931364316884,
                                        0.9608725804640029,
                                        0.9640060067710612,
                                        1.0113933169466494,
                                        0.9558081544050611,
                                        0.016514792882360668,
                                        0.012893045526094975,
                                        0.9449137483909027,
                                        0.9645520521099938,
                                        1.0200741173032026,
                                        1.0679430767164957,
                                        0.963349764461408,
                                        -0.015513691886355725,
                                        -0.012554035612417486,
                                        0.932398036537589,
                                        0.9775430083601749,
                                        1.0295074454904687,
                                        0.04105790907729771,
                                        0.02564999741798755,
                                        0.014104559297115665,
                                        0.008033708524309829,
                                        0.9554933506479282,
                                        0.9852512159896285,
                                        0.983398756228519,
                                        0.906671777474155,
                                        0.944216229499159,
                                        -0.01922467355616127,
                                        0.007014008680239309,
                                        0.938173288056462,
                                        1.0055644018512198,
                                        0.9935864411454755,
                                        0.9910871929720917,
                                        0.9107438401314363,
                                        0.003463774536317116,
                                        0.004543512185534654,
                                        0.9575432042889749,
                                        0.9608998399506388,
                                        1.0952775129871823,
                                        1.0052385458908153,
                                        0.9118939580268806,
                                        0.0644009060839381,
                                        0.04235544433235726,
                                        0.02061016008756204,
                                        0.9797502519300891,
                                        0.9753490985245769,
                                        0.8683823219896643,
                                        0.8050193127955438,
                                        -0.05188296286903256,
                                        -0.0003869345613224549,
                                        0.9431421850970692,
                                        0.9767634806667947,
                                        0.8690062932415419,
                                        0.9854520322075714,
                                        1.0425263429764076,
                                        0.005787073144290983,
                                        0.003374868042926177,
                                        0.9589200959615363,
                                        0.9890825791935658,
                                        1.0352504936821478,
                                        0.9916173314377494,
                                        0.9474900641542243,
                                        0.010573578015437828,
                                        -0.010100891046625222,
                                        0.9549196320032413,
                                        0.9318991058812326,
                                        0.9764524137071802,
                                        0.9578490007578642,
                                        1.023461006385806,
                                        0.0058181776111574214,
                                        0.016438379639795036,
                                        0.9375963563767248,
                                        0.9734925566533392,
                                        1.0064041958984205,
                                        1.0004919267070214,
                                        1.0005665747359653,
                                        -0.014595718286524468,
                                        -0.0027790438054378806,
                                        0.9434873125514399,
                                        0.9523639066830177,
                                        0.9576942787687998,
                                        1.0171995582640778,
                                        0.9410825865251061,
                                        -0.001557984824746411,
                                        -0.006374477550971941,
                                        0.9344169370678534,
                                        1.0915312977495668,
                                        0.9676924331201221,
                                        0.9678293421618507,
                                        0.9679525303778708,
                                        -0.01747883233983884,
                                        -0.003429989844064357,
                                        0.9405077746779051,
                                        0.9670094831977715,
                                        1.109430710301318,
                                        1.3465729040568577,
                                        1.111652404045366,
                                        0.007916453265579087,
                                        0.026490342786560355,
                                        0.9356108795253094,
                                        0.995828993702597,
                                        0.9784372928524054,
                                        0.8916165447066248,
                                        0.9615896262996093,
                                        0.9647156195552193,
                                        0.031431314776779615,
                                        0.0008294692426851604,
                                        0.9321513749787096,
                                        0.9945831371550726,
                                        0.9897137812946195,
                                        0.9901891053941793,
                                        -0.014854068557350626,
                                        0.8858380553754163,
                                        0.9669917406471252,
                                        1.2689810553993386,
                                        1.0055197833680527,
                                        0.0025771963817123157,
                                        0.004041311277483623,
                                        0.00912907390048327,
                                        0.0061441109552066555,
                                        0.0033336954196081904,
                                        0.0013441341320306445,
                                        0.0001290174300869586,
                                        -0.0005642359392506622,
                                        0.9422842488092859,
                                        0.9632234205130878,
                                        -0.018261697989939058,
                                        0.887391310035073,
                                        0.9519914821005069,
                                        0.8518664510526445,
                                        0.8918495650672782,
                                        0.9961718634066451,
                                        0.941781652781829,
                                        -0.005836474068187564,
                                        0.8748689563312858,
                                        0.925663134879526,
                                        0.9541242963967294,
                                        0.9347990989944825,
                                        1.0562493759138039,
                                        -0.004647760976253873,
                                        0.006350390677075696,
                                        0.5650318668518024,
                                        0.9558086486852242,
                                        1.013324796173961,
                                        1.0190909492264053,
                                        1.0035539832893345,
                                        0.0029246173789923948,
                                        0.000938521577346735,
                                        0.9339967325414607,
                                        0.9543058621282094,
                                        0.9994122660893692,
                                        0.9903186921683119,
                                        0.7740421632457968,
                                        -0.036431826157269656,
                                        0.0006928479388436494,
                                        0.9518404439257784,
                                        0.983742762880283,
                                        0.9750160962186382,
                                        1.0343806974975265,
                                        1.0583127494380875,
                                        0.9639920409059721,
                                        0.002436535295561576,
                                        0.8839928079356368,
                                        0.9756342474570048,
                                        0.9878312107142934,
                                        0.9637492210943792,
                                        1.0011058208606047,
                                        0.9142793322676414,
                                        -0.01943118081822,
                                        -0.02192415124195442,
                                        0.9253981115678424,
                                        0.9505394910064263,
                                        0.956831221175002,
                                        0.9765529168402174,
                                        0.035297335093697854,
                                        0.023030317148136564,
                                        0.9965551809699068,
                                        0.9427324877351969,
                                        0.9547565379335623,
                                        0.9565276124580692,
                                        0.89349724357921,
                                        0.9425075642807326,
                                        0.0037057794998164697,
                                        1.0219056515094402,
                                        0.9490000117921008,
                                        1.0027348586816214,
                                        0.9460739997688477,
                                        0.8890384306381428,
                                        -0.05955352353159883,
                                        -0.022892124766653494,
                                        0.9231302070371421,
                                        0.9506478344731617,
                                        0.9844651524284951,
                                        0.988257036491129,
                                        0.9883412509353369,
                                        0.013095976119670099,
                                        -0.0060902048049154165,
                                        0.9721362361248796,
                                        1.0010707452911203,
                                        0.9968271566074417,
                                        1.099847395213262,
                                        1.0817293624867153,
                                        0.9500692047606014,
                                        -0.02377837206172036,
                                        0.8721549852734566,
                                        -0.024762739514315697,
                                        0.884974717140977,
                                        0.9561631907242404,
                                        0.9661385178660074,
                                        -0.02334409723823379,
                                        -0.002919676135789212,
                                        0.9349583444172332,
                                        0.9976547678410894,
                                        0.9906566013492661,
                                        1.0091899671539357,
                                        -0.03121888656491408,
                                        -0.017734767661558754,
                                        -0.004100743305480564,
                                        0.9888884227223131,
                                        -0.008848299240782748,
                                        0.8758512537230555,
                                        0.9296277980801501,
                                        0.9415278242811085,
                                        0.9432784330705732,
                                        -0.008941117207740507,
                                        0.8932241167162822,
                                        0.9399336368421182,
                                        -0.02150739030916234,
                                        0.8887913965593951,
                                        -0.025767086946449486,
                                        0.005135614616352297,
                                        0.009500203269239043,
                                        0.9406673818693879,
                                        1.014683165139652,
                                        0.010158624426087986,
                                        0.8846008840766586,
                                        -0.020779214564195642,
                                        0.013347028535553567,
                                        0.01223540293819068,
                                        0.9398157933925169,
                                        0.956048905338387,
                                        0.951115598964877,
                                        0.0004387679059051743,
                                        0.7336954116362134,
                                        0.052129856135723115,
                                        0.024038430074088995,
                                        0.9431790732068723,
                                        0.9632816747291767,
                                        -0.01568787742572793,
                                        0.006162015366883916,
                                        0.009752098687099846,
                                        0.005522739292578666,
                                        0.0025594877570253418,
                                        0.0007604748696636689,
                                        -0.0002512565366555473,
                                        -0.000801763808928063,
                                        0.9422143901988467,
                                        -0.020561938271686803,
                                        0.8866979706378879,
                                        -0.023094079768016935,
                                        0.90673395581623,
                                        0.9272260037735289,
                                        0.9495143169405318,
                                        -0.002079654330049324,
                                        0.8736761797121573,
                                        -0.019800034969172504,
                                        0.009556572451294636,
                                        0.010911663671649512,
                                        0.006515611862229692,
                                        0.9418160298144034,
                                        0.9630472537372678,
                                        0.9663697320609289,
                                        0.9208826999119695,
                                        -0.003020948504551718,
                                        0.8816971201933723,
                                        0.9336562138458115,
                                        1.0004620416666654,
                                        0.9469907836673237,
                                        0.9472976075459729,
                                        -0.019906177718681434,
                                        -0.0025427302350315593,
                                        0.9428879416489162,
                                        0.9404224857357611,
                                        -0.0024053256620962414,
                                        0.0029692505973723917,
                                        0.973640338988405,
                                        0.010091796677416259,
                                        0.009566840361545408,
                                        0.009546236749787145,
                                        0.9435893023915056,
                                        0.9637466638725799,
                                        0.9668880029302874,
                                        -0.021336637802343923,
                                        0.0011966732199786114,
                                        0.007956146151212911,
                                        0.9403462680458743,
                                        0.9604199847205961,
                                        0.9635547760613771,
                                        0.9639878998459238,
                                        0.9640466828444189,
                                        -0.011383354880103964,
                                        -0.0034558284362506573,
                                        0.006150228320387569,
                                        0.9387396993876486,
                                        -0.016204474239638406,
                                        0.9021797989294297,
                                        0.9237978828535633,
                                        -0.003493942006025058,
                                        0.004277845155597687,
                                        0.934803571644221,
                                        1.0217834573691191,
                                        0.9597749753011177,
                                        0.00037867343123957915,
                                        0.8902021381395033,
                                        -0.019241689396356638,
                                        0.007023800342997971,
                                        0.958684629510676,
                                        -0.010601751468932403,
                                        -0.006004207203977335,
                                        0.9376624455791736,
                                        0.9888943813572557,
                                        0.04676611019117437,
                                        0.9456291268434832,
                                        -0.029377732803838336,
                                        0.01489968247761218,
                                        0.9370462827884067,
                                        0.960278711002704,
                                        1.0562878772695528,
                                        -0.0025146757072479096,
                                        0.0097010560947197,
                                        0.012412638942071823,
                                        0.008239498476348455,
                                        0.004430056479962513,
                                        0.0018867567514432694,
                                        0.9427570429412897
                                    ]
                                }
                            ],
                            "layout": {
                                "legend": {
                                    "tracegroupgap": 0
                                },
                                "margin": {
                                    "t": 60
                                },
                                "template": {
                                    "data": {
                                        "bar": [
                                            {
                                                "error_x": {
                                                    "color": "#2a3f5f"
                                                },
                                                "error_y": {
                                                    "color": "#2a3f5f"
                                                },
                                                "marker": {
                                                    "line": {
                                                        "color": "#E5ECF6",
                                                        "width": 0.5
                                                    }
                                                },
                                                "type": "bar"
                                            }
                                        ],
                                        "barpolar": [
                                            {
                                                "marker": {
                                                    "line": {
                                                        "color": "#E5ECF6",
                                                        "width": 0.5
                                                    }
                                                },
                                                "type": "barpolar"
                                            }
                                        ],
                                        "carpet": [
                                            {
                                                "aaxis": {
                                                    "endlinecolor": "#2a3f5f",
                                                    "gridcolor": "white",
                                                    "linecolor": "white",
                                                    "minorgridcolor": "white",
                                                    "startlinecolor": "#2a3f5f"
                                                },
                                                "baxis": {
                                                    "endlinecolor": "#2a3f5f",
                                                    "gridcolor": "white",
                                                    "linecolor": "white",
                                                    "minorgridcolor": "white",
                                                    "startlinecolor": "#2a3f5f"
                                                },
                                                "type": "carpet"
                                            }
                                        ],
                                        "choropleth": [
                                            {
                                                "colorbar": {
                                                    "outlinewidth": 0,
                                                    "ticks": ""
                                                },
                                                "type": "choropleth"
                                            }
                                        ],
                                        "contour": [
                                            {
                                                "colorbar": {
                                                    "outlinewidth": 0,
                                                    "ticks": ""
                                                },
                                                "colorscale": [
                                                    [
                                                        0,
                                                        "#0d0887"
                                                    ],
                                                    [
                                                        0.1111111111111111,
                                                        "#46039f"
                                                    ],
                                                    [
                                                        0.2222222222222222,
                                                        "#7201a8"
                                                    ],
                                                    [
                                                        0.3333333333333333,
                                                        "#9c179e"
                                                    ],
                                                    [
                                                        0.4444444444444444,
                                                        "#bd3786"
                                                    ],
                                                    [
                                                        0.5555555555555556,
                                                        "#d8576b"
                                                    ],
                                                    [
                                                        0.6666666666666666,
                                                        "#ed7953"
                                                    ],
                                                    [
                                                        0.7777777777777778,
                                                        "#fb9f3a"
                                                    ],
                                                    [
                                                        0.8888888888888888,
                                                        "#fdca26"
                                                    ],
                                                    [
                                                        1,
                                                        "#f0f921"
                                                    ]
                                                ],
                                                "type": "contour"
                                            }
                                        ],
                                        "contourcarpet": [
                                            {
                                                "colorbar": {
                                                    "outlinewidth": 0,
                                                    "ticks": ""
                                                },
                                                "type": "contourcarpet"
                                            }
                                        ],
                                        "heatmap": [
                                            {
                                                "colorbar": {
                                                    "outlinewidth": 0,
                                                    "ticks": ""
                                                },
                                                "colorscale": [
                                                    [
                                                        0,
                                                        "#0d0887"
                                                    ],
                                                    [
                                                        0.1111111111111111,
                                                        "#46039f"
                                                    ],
                                                    [
                                                        0.2222222222222222,
                                                        "#7201a8"
                                                    ],
                                                    [
                                                        0.3333333333333333,
                                                        "#9c179e"
                                                    ],
                                                    [
                                                        0.4444444444444444,
                                                        "#bd3786"
                                                    ],
                                                    [
                                                        0.5555555555555556,
                                                        "#d8576b"
                                                    ],
                                                    [
                                                        0.6666666666666666,
                                                        "#ed7953"
                                                    ],
                                                    [
                                                        0.7777777777777778,
                                                        "#fb9f3a"
                                                    ],
                                                    [
                                                        0.8888888888888888,
                                                        "#fdca26"
                                                    ],
                                                    [
                                                        1,
                                                        "#f0f921"
                                                    ]
                                                ],
                                                "type": "heatmap"
                                            }
                                        ],
                                        "heatmapgl": [
                                            {
                                                "colorbar": {
                                                    "outlinewidth": 0,
                                                    "ticks": ""
                                                },
                                                "colorscale": [
                                                    [
                                                        0,
                                                        "#0d0887"
                                                    ],
                                                    [
                                                        0.1111111111111111,
                                                        "#46039f"
                                                    ],
                                                    [
                                                        0.2222222222222222,
                                                        "#7201a8"
                                                    ],
                                                    [
                                                        0.3333333333333333,
                                                        "#9c179e"
                                                    ],
                                                    [
                                                        0.4444444444444444,
                                                        "#bd3786"
                                                    ],
                                                    [
                                                        0.5555555555555556,
                                                        "#d8576b"
                                                    ],
                                                    [
                                                        0.6666666666666666,
                                                        "#ed7953"
                                                    ],
                                                    [
                                                        0.7777777777777778,
                                                        "#fb9f3a"
                                                    ],
                                                    [
                                                        0.8888888888888888,
                                                        "#fdca26"
                                                    ],
                                                    [
                                                        1,
                                                        "#f0f921"
                                                    ]
                                                ],
                                                "type": "heatmapgl"
                                            }
                                        ],
                                        "histogram": [
                                            {
                                                "marker": {
                                                    "colorbar": {
                                                        "outlinewidth": 0,
                                                        "ticks": ""
                                                    }
                                                },
                                                "type": "histogram"
                                            }
                                        ],
                                        "histogram2d": [
                                            {
                                                "colorbar": {
                                                    "outlinewidth": 0,
                                                    "ticks": ""
                                                },
                                                "colorscale": [
                                                    [
                                                        0,
                                                        "#0d0887"
                                                    ],
                                                    [
                                                        0.1111111111111111,
                                                        "#46039f"
                                                    ],
                                                    [
                                                        0.2222222222222222,
                                                        "#7201a8"
                                                    ],
                                                    [
                                                        0.3333333333333333,
                                                        "#9c179e"
                                                    ],
                                                    [
                                                        0.4444444444444444,
                                                        "#bd3786"
                                                    ],
                                                    [
                                                        0.5555555555555556,
                                                        "#d8576b"
                                                    ],
                                                    [
                                                        0.6666666666666666,
                                                        "#ed7953"
                                                    ],
                                                    [
                                                        0.7777777777777778,
                                                        "#fb9f3a"
                                                    ],
                                                    [
                                                        0.8888888888888888,
                                                        "#fdca26"
                                                    ],
                                                    [
                                                        1,
                                                        "#f0f921"
                                                    ]
                                                ],
                                                "type": "histogram2d"
                                            }
                                        ],
                                        "histogram2dcontour": [
                                            {
                                                "colorbar": {
                                                    "outlinewidth": 0,
                                                    "ticks": ""
                                                },
                                                "colorscale": [
                                                    [
                                                        0,
                                                        "#0d0887"
                                                    ],
                                                    [
                                                        0.1111111111111111,
                                                        "#46039f"
                                                    ],
                                                    [
                                                        0.2222222222222222,
                                                        "#7201a8"
                                                    ],
                                                    [
                                                        0.3333333333333333,
                                                        "#9c179e"
                                                    ],
                                                    [
                                                        0.4444444444444444,
                                                        "#bd3786"
                                                    ],
                                                    [
                                                        0.5555555555555556,
                                                        "#d8576b"
                                                    ],
                                                    [
                                                        0.6666666666666666,
                                                        "#ed7953"
                                                    ],
                                                    [
                                                        0.7777777777777778,
                                                        "#fb9f3a"
                                                    ],
                                                    [
                                                        0.8888888888888888,
                                                        "#fdca26"
                                                    ],
                                                    [
                                                        1,
                                                        "#f0f921"
                                                    ]
                                                ],
                                                "type": "histogram2dcontour"
                                            }
                                        ],
                                        "mesh3d": [
                                            {
                                                "colorbar": {
                                                    "outlinewidth": 0,
                                                    "ticks": ""
                                                },
                                                "type": "mesh3d"
                                            }
                                        ],
                                        "parcoords": [
                                            {
                                                "line": {
                                                    "colorbar": {
                                                        "outlinewidth": 0,
                                                        "ticks": ""
                                                    }
                                                },
                                                "type": "parcoords"
                                            }
                                        ],
                                        "pie": [
                                            {
                                                "automargin": true,
                                                "type": "pie"
                                            }
                                        ],
                                        "scatter": [
                                            {
                                                "marker": {
                                                    "colorbar": {
                                                        "outlinewidth": 0,
                                                        "ticks": ""
                                                    }
                                                },
                                                "type": "scatter"
                                            }
                                        ],
                                        "scatter3d": [
                                            {
                                                "line": {
                                                    "colorbar": {
                                                        "outlinewidth": 0,
                                                        "ticks": ""
                                                    }
                                                },
                                                "marker": {
                                                    "colorbar": {
                                                        "outlinewidth": 0,
                                                        "ticks": ""
                                                    }
                                                },
                                                "type": "scatter3d"
                                            }
                                        ],
                                        "scattercarpet": [
                                            {
                                                "marker": {
                                                    "colorbar": {
                                                        "outlinewidth": 0,
                                                        "ticks": ""
                                                    }
                                                },
                                                "type": "scattercarpet"
                                            }
                                        ],
                                        "scattergeo": [
                                            {
                                                "marker": {
                                                    "colorbar": {
                                                        "outlinewidth": 0,
                                                        "ticks": ""
                                                    }
                                                },
                                                "type": "scattergeo"
                                            }
                                        ],
                                        "scattergl": [
                                            {
                                                "marker": {
                                                    "colorbar": {
                                                        "outlinewidth": 0,
                                                        "ticks": ""
                                                    }
                                                },
                                                "type": "scattergl"
                                            }
                                        ],
                                        "scattermapbox": [
                                            {
                                                "marker": {
                                                    "colorbar": {
                                                        "outlinewidth": 0,
                                                        "ticks": ""
                                                    }
                                                },
                                                "type": "scattermapbox"
                                            }
                                        ],
                                        "scatterpolar": [
                                            {
                                                "marker": {
                                                    "colorbar": {
                                                        "outlinewidth": 0,
                                                        "ticks": ""
                                                    }
                                                },
                                                "type": "scatterpolar"
                                            }
                                        ],
                                        "scatterpolargl": [
                                            {
                                                "marker": {
                                                    "colorbar": {
                                                        "outlinewidth": 0,
                                                        "ticks": ""
                                                    }
                                                },
                                                "type": "scatterpolargl"
                                            }
                                        ],
                                        "scatterternary": [
                                            {
                                                "marker": {
                                                    "colorbar": {
                                                        "outlinewidth": 0,
                                                        "ticks": ""
                                                    }
                                                },
                                                "type": "scatterternary"
                                            }
                                        ],
                                        "surface": [
                                            {
                                                "colorbar": {
                                                    "outlinewidth": 0,
                                                    "ticks": ""
                                                },
                                                "colorscale": [
                                                    [
                                                        0,
                                                        "#0d0887"
                                                    ],
                                                    [
                                                        0.1111111111111111,
                                                        "#46039f"
                                                    ],
                                                    [
                                                        0.2222222222222222,
                                                        "#7201a8"
                                                    ],
                                                    [
                                                        0.3333333333333333,
                                                        "#9c179e"
                                                    ],
                                                    [
                                                        0.4444444444444444,
                                                        "#bd3786"
                                                    ],
                                                    [
                                                        0.5555555555555556,
                                                        "#d8576b"
                                                    ],
                                                    [
                                                        0.6666666666666666,
                                                        "#ed7953"
                                                    ],
                                                    [
                                                        0.7777777777777778,
                                                        "#fb9f3a"
                                                    ],
                                                    [
                                                        0.8888888888888888,
                                                        "#fdca26"
                                                    ],
                                                    [
                                                        1,
                                                        "#f0f921"
                                                    ]
                                                ],
                                                "type": "surface"
                                            }
                                        ],
                                        "table": [
                                            {
                                                "cells": {
                                                    "fill": {
                                                        "color": "#EBF0F8"
                                                    },
                                                    "line": {
                                                        "color": "white"
                                                    }
                                                },
                                                "header": {
                                                    "fill": {
                                                        "color": "#C8D4E3"
                                                    },
                                                    "line": {
                                                        "color": "white"
                                                    }
                                                },
                                                "type": "table"
                                            }
                                        ]
                                    },
                                    "layout": {
                                        "annotationdefaults": {
                                            "arrowcolor": "#2a3f5f",
                                            "arrowhead": 0,
                                            "arrowwidth": 1
                                        },
                                        "autotypenumbers": "strict",
                                        "coloraxis": {
                                            "colorbar": {
                                                "outlinewidth": 0,
                                                "ticks": ""
                                            }
                                        },
                                        "colorscale": {
                                            "diverging": [
                                                [
                                                    0,
                                                    "#8e0152"
                                                ],
                                                [
                                                    0.1,
                                                    "#c51b7d"
                                                ],
                                                [
                                                    0.2,
                                                    "#de77ae"
                                                ],
                                                [
                                                    0.3,
                                                    "#f1b6da"
                                                ],
                                                [
                                                    0.4,
                                                    "#fde0ef"
                                                ],
                                                [
                                                    0.5,
                                                    "#f7f7f7"
                                                ],
                                                [
                                                    0.6,
                                                    "#e6f5d0"
                                                ],
                                                [
                                                    0.7,
                                                    "#b8e186"
                                                ],
                                                [
                                                    0.8,
                                                    "#7fbc41"
                                                ],
                                                [
                                                    0.9,
                                                    "#4d9221"
                                                ],
                                                [
                                                    1,
                                                    "#276419"
                                                ]
                                            ],
                                            "sequential": [
                                                [
                                                    0,
                                                    "#0d0887"
                                                ],
                                                [
                                                    0.1111111111111111,
                                                    "#46039f"
                                                ],
                                                [
                                                    0.2222222222222222,
                                                    "#7201a8"
                                                ],
                                                [
                                                    0.3333333333333333,
                                                    "#9c179e"
                                                ],
                                                [
                                                    0.4444444444444444,
                                                    "#bd3786"
                                                ],
                                                [
                                                    0.5555555555555556,
                                                    "#d8576b"
                                                ],
                                                [
                                                    0.6666666666666666,
                                                    "#ed7953"
                                                ],
                                                [
                                                    0.7777777777777778,
                                                    "#fb9f3a"
                                                ],
                                                [
                                                    0.8888888888888888,
                                                    "#fdca26"
                                                ],
                                                [
                                                    1,
                                                    "#f0f921"
                                                ]
                                            ],
                                            "sequentialminus": [
                                                [
                                                    0,
                                                    "#0d0887"
                                                ],
                                                [
                                                    0.1111111111111111,
                                                    "#46039f"
                                                ],
                                                [
                                                    0.2222222222222222,
                                                    "#7201a8"
                                                ],
                                                [
                                                    0.3333333333333333,
                                                    "#9c179e"
                                                ],
                                                [
                                                    0.4444444444444444,
                                                    "#bd3786"
                                                ],
                                                [
                                                    0.5555555555555556,
                                                    "#d8576b"
                                                ],
                                                [
                                                    0.6666666666666666,
                                                    "#ed7953"
                                                ],
                                                [
                                                    0.7777777777777778,
                                                    "#fb9f3a"
                                                ],
                                                [
                                                    0.8888888888888888,
                                                    "#fdca26"
                                                ],
                                                [
                                                    1,
                                                    "#f0f921"
                                                ]
                                            ]
                                        },
                                        "colorway": [
                                            "#636efa",
                                            "#EF553B",
                                            "#00cc96",
                                            "#ab63fa",
                                            "#FFA15A",
                                            "#19d3f3",
                                            "#FF6692",
                                            "#B6E880",
                                            "#FF97FF",
                                            "#FECB52"
                                        ],
                                        "font": {
                                            "color": "#2a3f5f"
                                        },
                                        "geo": {
                                            "bgcolor": "white",
                                            "lakecolor": "white",
                                            "landcolor": "#E5ECF6",
                                            "showlakes": true,
                                            "showland": true,
                                            "subunitcolor": "white"
                                        },
                                        "hoverlabel": {
                                            "align": "left"
                                        },
                                        "hovermode": "closest",
                                        "mapbox": {
                                            "style": "light"
                                        },
                                        "paper_bgcolor": "white",
                                        "plot_bgcolor": "#E5ECF6",
                                        "polar": {
                                            "angularaxis": {
                                                "gridcolor": "white",
                                                "linecolor": "white",
                                                "ticks": ""
                                            },
                                            "bgcolor": "#E5ECF6",
                                            "radialaxis": {
                                                "gridcolor": "white",
                                                "linecolor": "white",
                                                "ticks": ""
                                            }
                                        },
                                        "scene": {
                                            "xaxis": {
                                                "backgroundcolor": "#E5ECF6",
                                                "gridcolor": "white",
                                                "gridwidth": 2,
                                                "linecolor": "white",
                                                "showbackground": true,
                                                "ticks": "",
                                                "zerolinecolor": "white"
                                            },
                                            "yaxis": {
                                                "backgroundcolor": "#E5ECF6",
                                                "gridcolor": "white",
                                                "gridwidth": 2,
                                                "linecolor": "white",
                                                "showbackground": true,
                                                "ticks": "",
                                                "zerolinecolor": "white"
                                            },
                                            "zaxis": {
                                                "backgroundcolor": "#E5ECF6",
                                                "gridcolor": "white",
                                                "gridwidth": 2,
                                                "linecolor": "white",
                                                "showbackground": true,
                                                "ticks": "",
                                                "zerolinecolor": "white"
                                            }
                                        },
                                        "shapedefaults": {
                                            "line": {
                                                "color": "#2a3f5f"
                                            }
                                        },
                                        "ternary": {
                                            "aaxis": {
                                                "gridcolor": "white",
                                                "linecolor": "white",
                                                "ticks": ""
                                            },
                                            "baxis": {
                                                "gridcolor": "white",
                                                "linecolor": "white",
                                                "ticks": ""
                                            },
                                            "bgcolor": "#E5ECF6",
                                            "caxis": {
                                                "gridcolor": "white",
                                                "linecolor": "white",
                                                "ticks": ""
                                            }
                                        },
                                        "title": {
                                            "x": 0.05
                                        },
                                        "xaxis": {
                                            "automargin": true,
                                            "gridcolor": "white",
                                            "linecolor": "white",
                                            "ticks": "",
                                            "title": {
                                                "standoff": 15
                                            },
                                            "zerolinecolor": "white",
                                            "zerolinewidth": 2
                                        },
                                        "yaxis": {
                                            "automargin": true,
                                            "gridcolor": "white",
                                            "linecolor": "white",
                                            "ticks": "",
                                            "title": {
                                                "standoff": 15
                                            },
                                            "zerolinecolor": "white",
                                            "zerolinewidth": 2
                                        }
                                    }
                                },
                                "xaxis": {
                                    "anchor": "y",
                                    "domain": [
                                        0,
                                        1
                                    ],
                                    "title": {
                                        "text": "ds"
                                    }
                                },
                                "yaxis": {
                                    "anchor": "x",
                                    "domain": [
                                        0,
                                        1
                                    ],
                                    "title": {
                                        "text": "y"
                                    }
                                }
                            }
                        }
                    },
                    "metadata": {}
                }
            ],
            "metadata": {}
        },
        {
            "cell_type": "code",
            "execution_count": 127,
            "source": [
                "# import altair as alt\r\n",
                "# brush = alt.selection_interval()\r\n",
                "# alt.Chart(lstm_plt).mark_point().encode(\r\n",
                "#     x='ds',\r\n",
                "#     y='y'\r\n",
                "# ).add_selection(\r\n",
                "#     brush\r\n",
                "# )\r\n",
                " "
            ],
            "outputs": [],
            "metadata": {}
        },
        {
            "cell_type": "code",
            "execution_count": 136,
            "source": [
                "# min(abs(lstm_plt['y_pred'] - .5))\r\n",
                "\r\n",
                "lstm_plt['abs_diff'] = np.abs(lstm_plt['y_pred'] - .5)\r\n",
                "lstm_plt.sort_values('abs_diff')"
            ],
            "outputs": [
                {
                    "output_type": "execute_result",
                    "data": {
                        "text/plain": [
                            "             ds   id  line_sum  container_sum    weight      qty  span_first  \\\n",
                            "1141 2020-10-26  1.0       1.0            1.0      1.00      1.0   10.683333   \n",
                            "1243 2021-02-05  1.0       1.0            1.0     13.70     12.0   11.750000   \n",
                            "1152 2020-11-06  1.0       3.0           11.0   8603.77  14364.0   14.533333   \n",
                            "1047 2020-07-24  1.0       3.0           17.0  11534.34  52440.0   10.433333   \n",
                            "1129 2020-10-14  1.0       1.0           13.0   8757.00   7560.0    9.200000   \n",
                            "...         ...  ...       ...            ...       ...      ...         ...   \n",
                            "1200 2020-12-24  1.0       2.0           21.0  17050.90  16404.0   10.216667   \n",
                            "1094 2020-09-09  1.0       1.0            1.0     25.00      1.0   10.483333   \n",
                            "1096 2020-09-11  1.0       1.0           10.0   7476.00   7200.0   15.533333   \n",
                            "1114 2020-09-29  1.0      12.0           13.0      0.00     13.0    9.016667   \n",
                            "1095 2020-09-10  1.0      10.0           30.0      0.00     30.0   17.366667   \n",
                            "\n",
                            "      y    y_pred  abs_diff  \n",
                            "1141  1  0.565032  0.065032  \n",
                            "1243  0  0.733695  0.233695  \n",
                            "1152  1  0.774042  0.274042  \n",
                            "1047  0  0.805019  0.305019  \n",
                            "1129  1  0.851866  0.351866  \n",
                            "...  ..       ...       ...  \n",
                            "1200  1  1.099847  0.599847  \n",
                            "1094  1  1.109431  0.609431  \n",
                            "1096  1  1.111652  0.611652  \n",
                            "1114  1  1.268981  0.768981  \n",
                            "1095  1  1.346573  0.846573  \n",
                            "\n",
                            "[334 rows x 10 columns]"
                        ],
                        "text/html": [
                            "<div>\n",
                            "<style scoped>\n",
                            "    .dataframe tbody tr th:only-of-type {\n",
                            "        vertical-align: middle;\n",
                            "    }\n",
                            "\n",
                            "    .dataframe tbody tr th {\n",
                            "        vertical-align: top;\n",
                            "    }\n",
                            "\n",
                            "    .dataframe thead th {\n",
                            "        text-align: right;\n",
                            "    }\n",
                            "</style>\n",
                            "<table border=\"1\" class=\"dataframe\">\n",
                            "  <thead>\n",
                            "    <tr style=\"text-align: right;\">\n",
                            "      <th></th>\n",
                            "      <th>ds</th>\n",
                            "      <th>id</th>\n",
                            "      <th>line_sum</th>\n",
                            "      <th>container_sum</th>\n",
                            "      <th>weight</th>\n",
                            "      <th>qty</th>\n",
                            "      <th>span_first</th>\n",
                            "      <th>y</th>\n",
                            "      <th>y_pred</th>\n",
                            "      <th>abs_diff</th>\n",
                            "    </tr>\n",
                            "  </thead>\n",
                            "  <tbody>\n",
                            "    <tr>\n",
                            "      <th>1141</th>\n",
                            "      <td>2020-10-26</td>\n",
                            "      <td>1.0</td>\n",
                            "      <td>1.0</td>\n",
                            "      <td>1.0</td>\n",
                            "      <td>1.00</td>\n",
                            "      <td>1.0</td>\n",
                            "      <td>10.683333</td>\n",
                            "      <td>1</td>\n",
                            "      <td>0.565032</td>\n",
                            "      <td>0.065032</td>\n",
                            "    </tr>\n",
                            "    <tr>\n",
                            "      <th>1243</th>\n",
                            "      <td>2021-02-05</td>\n",
                            "      <td>1.0</td>\n",
                            "      <td>1.0</td>\n",
                            "      <td>1.0</td>\n",
                            "      <td>13.70</td>\n",
                            "      <td>12.0</td>\n",
                            "      <td>11.750000</td>\n",
                            "      <td>0</td>\n",
                            "      <td>0.733695</td>\n",
                            "      <td>0.233695</td>\n",
                            "    </tr>\n",
                            "    <tr>\n",
                            "      <th>1152</th>\n",
                            "      <td>2020-11-06</td>\n",
                            "      <td>1.0</td>\n",
                            "      <td>3.0</td>\n",
                            "      <td>11.0</td>\n",
                            "      <td>8603.77</td>\n",
                            "      <td>14364.0</td>\n",
                            "      <td>14.533333</td>\n",
                            "      <td>1</td>\n",
                            "      <td>0.774042</td>\n",
                            "      <td>0.274042</td>\n",
                            "    </tr>\n",
                            "    <tr>\n",
                            "      <th>1047</th>\n",
                            "      <td>2020-07-24</td>\n",
                            "      <td>1.0</td>\n",
                            "      <td>3.0</td>\n",
                            "      <td>17.0</td>\n",
                            "      <td>11534.34</td>\n",
                            "      <td>52440.0</td>\n",
                            "      <td>10.433333</td>\n",
                            "      <td>0</td>\n",
                            "      <td>0.805019</td>\n",
                            "      <td>0.305019</td>\n",
                            "    </tr>\n",
                            "    <tr>\n",
                            "      <th>1129</th>\n",
                            "      <td>2020-10-14</td>\n",
                            "      <td>1.0</td>\n",
                            "      <td>1.0</td>\n",
                            "      <td>13.0</td>\n",
                            "      <td>8757.00</td>\n",
                            "      <td>7560.0</td>\n",
                            "      <td>9.200000</td>\n",
                            "      <td>1</td>\n",
                            "      <td>0.851866</td>\n",
                            "      <td>0.351866</td>\n",
                            "    </tr>\n",
                            "    <tr>\n",
                            "      <th>...</th>\n",
                            "      <td>...</td>\n",
                            "      <td>...</td>\n",
                            "      <td>...</td>\n",
                            "      <td>...</td>\n",
                            "      <td>...</td>\n",
                            "      <td>...</td>\n",
                            "      <td>...</td>\n",
                            "      <td>...</td>\n",
                            "      <td>...</td>\n",
                            "      <td>...</td>\n",
                            "    </tr>\n",
                            "    <tr>\n",
                            "      <th>1200</th>\n",
                            "      <td>2020-12-24</td>\n",
                            "      <td>1.0</td>\n",
                            "      <td>2.0</td>\n",
                            "      <td>21.0</td>\n",
                            "      <td>17050.90</td>\n",
                            "      <td>16404.0</td>\n",
                            "      <td>10.216667</td>\n",
                            "      <td>1</td>\n",
                            "      <td>1.099847</td>\n",
                            "      <td>0.599847</td>\n",
                            "    </tr>\n",
                            "    <tr>\n",
                            "      <th>1094</th>\n",
                            "      <td>2020-09-09</td>\n",
                            "      <td>1.0</td>\n",
                            "      <td>1.0</td>\n",
                            "      <td>1.0</td>\n",
                            "      <td>25.00</td>\n",
                            "      <td>1.0</td>\n",
                            "      <td>10.483333</td>\n",
                            "      <td>1</td>\n",
                            "      <td>1.109431</td>\n",
                            "      <td>0.609431</td>\n",
                            "    </tr>\n",
                            "    <tr>\n",
                            "      <th>1096</th>\n",
                            "      <td>2020-09-11</td>\n",
                            "      <td>1.0</td>\n",
                            "      <td>1.0</td>\n",
                            "      <td>10.0</td>\n",
                            "      <td>7476.00</td>\n",
                            "      <td>7200.0</td>\n",
                            "      <td>15.533333</td>\n",
                            "      <td>1</td>\n",
                            "      <td>1.111652</td>\n",
                            "      <td>0.611652</td>\n",
                            "    </tr>\n",
                            "    <tr>\n",
                            "      <th>1114</th>\n",
                            "      <td>2020-09-29</td>\n",
                            "      <td>1.0</td>\n",
                            "      <td>12.0</td>\n",
                            "      <td>13.0</td>\n",
                            "      <td>0.00</td>\n",
                            "      <td>13.0</td>\n",
                            "      <td>9.016667</td>\n",
                            "      <td>1</td>\n",
                            "      <td>1.268981</td>\n",
                            "      <td>0.768981</td>\n",
                            "    </tr>\n",
                            "    <tr>\n",
                            "      <th>1095</th>\n",
                            "      <td>2020-09-10</td>\n",
                            "      <td>1.0</td>\n",
                            "      <td>10.0</td>\n",
                            "      <td>30.0</td>\n",
                            "      <td>0.00</td>\n",
                            "      <td>30.0</td>\n",
                            "      <td>17.366667</td>\n",
                            "      <td>1</td>\n",
                            "      <td>1.346573</td>\n",
                            "      <td>0.846573</td>\n",
                            "    </tr>\n",
                            "  </tbody>\n",
                            "</table>\n",
                            "<p>334 rows × 10 columns</p>\n",
                            "</div>"
                        ]
                    },
                    "metadata": {},
                    "execution_count": 136
                }
            ],
            "metadata": {}
        },
        {
            "cell_type": "code",
            "execution_count": 151,
            "source": [
                "pred_1_lable1 = [1 if i> 0.565032 else 0 for i in lstm_plt['y_pred']]\r\n",
                "# lstm_plt['y_pred']\r\n",
                "pred_1_lable2 = [1 if i> lstm_plt['y_pred'].mean() else 0 for i in lstm_plt['y_pred']]"
            ],
            "outputs": [],
            "metadata": {}
        },
        {
            "cell_type": "code",
            "execution_count": 152,
            "source": [
                "from sklearn.metrics import mean_absolute_percentage_error\r\n",
                "[accuracy_score(lstm_plt['y'], pred_1_lable1),\r\n",
                "accuracy_score(lstm_plt['y'], pred_1_lable2)]"
            ],
            "outputs": [
                {
                    "output_type": "execute_result",
                    "data": {
                        "text/plain": [
                            "[0.9131736526946108, 0.9131736526946108]"
                        ]
                    },
                    "metadata": {},
                    "execution_count": 152
                }
            ],
            "metadata": {}
        },
        {
            "cell_type": "code",
            "execution_count": 154,
            "source": [
                "\r\n",
                "\r\n",
                "# series.plot(label='data')\r\n",
                "# for i, m in enumerate(berkets):\r\n",
                "#     err = mape(backtests[i], series)\r\n",
                "#     backtests[i].plot(lw=3, label='{}, MAPE={:.2f}%'.format(m, err))\r\n",
                "\r\n",
                "# plt.title('Backtests with 3-months forecast horizon')\r\n",
                "# plt.legend()"
            ],
            "outputs": [],
            "metadata": {}
        },
        {
            "cell_type": "markdown",
            "source": [
                "---"
            ],
            "metadata": {}
        },
        {
            "cell_type": "markdown",
            "source": [
                "## qty prediction, filter data which not 1"
            ],
            "metadata": {}
        },
        {
            "cell_type": "code",
            "execution_count": 478,
            "source": [
                "x_train2 = x_train[x_train['dif'] == 1] \r\n",
                "x_test2 = x_test[x_test['dif'] == 1];len(x_test2)\r\n",
                "x_train2['qty_tar'] = train_full[train_full['dif'] == 1].iloc[0:len(x_train2), :]['qty']\r\n",
                "x_test2['qty_tar'] = train_full[train_full['dif'] == 1].iloc[len(x_train2):, :]['qty']"
            ],
            "outputs": [
                {
                    "output_type": "stream",
                    "name": "stderr",
                    "text": [
                        "<ipython-input-478-ec36bd9eb2ef>:3: SettingWithCopyWarning:\n",
                        "\n",
                        "\n",
                        "A value is trying to be set on a copy of a slice from a DataFrame.\n",
                        "Try using .loc[row_indexer,col_indexer] = value instead\n",
                        "\n",
                        "See the caveats in the documentation: https://pandas.pydata.org/pandas-docs/stable/user_guide/indexing.html#returning-a-view-versus-a-copy\n",
                        "\n",
                        "<ipython-input-478-ec36bd9eb2ef>:4: SettingWithCopyWarning:\n",
                        "\n",
                        "\n",
                        "A value is trying to be set on a copy of a slice from a DataFrame.\n",
                        "Try using .loc[row_indexer,col_indexer] = value instead\n",
                        "\n",
                        "See the caveats in the documentation: https://pandas.pydata.org/pandas-docs/stable/user_guide/indexing.html#returning-a-view-versus-a-copy\n",
                        "\n"
                    ]
                }
            ],
            "metadata": {}
        },
        {
            "cell_type": "code",
            "execution_count": 479,
            "source": [
                "[len(x_train2),len(x_test2)]"
            ],
            "outputs": [
                {
                    "output_type": "execute_result",
                    "data": {
                        "text/plain": [
                            "[652, 180]"
                        ]
                    },
                    "metadata": {},
                    "execution_count": 479
                }
            ],
            "metadata": {}
        },
        {
            "cell_type": "code",
            "execution_count": 485,
            "source": [
                "df_2_all = pd.DataFrame(pd.concat([x_train2, x_test2], axis = 0)).reset_index(); df_2_all"
            ],
            "outputs": [
                {
                    "output_type": "execute_result",
                    "data": {
                        "text/plain": [
                            "index                                int64\n",
                            "CREATION_DATE_TIME_STAMP    datetime64[ns]\n",
                            "id                                 float64\n",
                            "line_sum                           float64\n",
                            "container_sum                      float64\n",
                            "weight                             float64\n",
                            "qty                                float64\n",
                            "span_first                         float64\n",
                            "dif                                  int64\n",
                            "qty_tar                            float64\n",
                            "dtype: object"
                        ]
                    },
                    "metadata": {},
                    "execution_count": 485
                }
            ],
            "metadata": {}
        },
        {
            "cell_type": "code",
            "execution_count": 487,
            "source": [
                "pd.set_option('display.float_format', lambda x: '%.3f' % x)\r\n",
                "from sklearn.compose import ColumnTransformer\r\n",
                "from sklearn.preprocessing import StandardScaler\r\n",
                "\r\n",
                "tran3 = ColumnTransformer([\r\n",
                "        ('somename', StandardScaler(), ['weight', 'qty', 'qty_tar'])\r\n",
                "    ])\r\n",
                "tran3.fit(df_2_all[['weight', 'qty', 'qty_tar']])\r\n",
                "\r\n",
                "df_2_all[['weight', 'qty',  'qty_tar']] = pd.DataFrame(\r\n",
                "    tran3.fit_transform(df_2_all[['weight', 'qty', 'qty_tar']])\r\n",
                "\r\n",
                ") "
            ],
            "outputs": [],
            "metadata": {}
        },
        {
            "cell_type": "code",
            "execution_count": 449,
            "source": [
                "# tran2.fit(x_train2[['weight', 'qty', 'span_first']])\r\n",
                "# tran2.transform(x_test2[['weight', 'qty', 'span_first']])\r\n",
                "\r\n",
                "df_2_all =df_2_all.fillna(0)\r\n",
                "x_train2 = df_2_all.iloc[0:652,:]\r\n",
                "x_test2 = df_2_all.iloc[652:,:]"
            ],
            "outputs": [],
            "metadata": {}
        },
        {
            "cell_type": "code",
            "execution_count": 499,
            "source": [
                "from fbprophet import Prophet \r\n",
                "df_lb = x_train2\r\n",
                "\r\n",
                "## qty_x s是最终预测值, 所以要drop\r\n",
                "cols_lb = [i for i in df_lb.columns \r\n",
                "    if i not in ['qty_tar', 'CREATION_DATE_TIME_STAMP']]\r\n",
                "\r\n",
                "# df_lb = df_lb.drop(['creat_time_x','creat_time_y', 'qty_x'], axis =1 )\r\n",
                "df_lb = df_lb.rename({'CREATION_DATE_TIME_STAMP' : 'ds', 'qty_tar': 'y'}, axis = 1)\r\n",
                "m = Prophet(daily_seasonality=True)\r\n",
                "[m.add_regressor(i) for i in cols_lb]\r\n",
                "\r\n",
                "m.fit(df_lb)\r\n",
                "\r\n",
                "\r\n",
                "# ?mean_absolute_percentage_error\r\n",
                "from sktime.performance_metrics.forecasting import  mean_absolute_percentage_error\r\n",
                "from sktime.performance_metrics.forecasting import mean_absolute_error\r\n",
                "from sklearn.metrics import accuracy_score\r\n",
                "\r\n",
                "# x_test1 = x_test.drop(['dif'], axis =1 )\r\n",
                "x_test1 = x_test2.rename({'CREATION_DATE_TIME_STAMP' : 'ds', 'qty_tar': 'y'}, axis = 1)\r\n",
                " \r\n",
                "# m.predict(x_test)\r\n",
                "forecast = m.predict(x_test1)\r\n",
                "mean_absolute_percentage_error(x_test1['y'], m.predict(x_test1)['yhat'])\r\n",
                "# fig = m.plot_components(m.predict(x_test))"
            ],
            "outputs": [
                {
                    "output_type": "execute_result",
                    "data": {
                        "text/plain": [
                            "1.5763984683125858"
                        ]
                    },
                    "metadata": {},
                    "execution_count": 499
                }
            ],
            "metadata": {}
        },
        {
            "cell_type": "code",
            "execution_count": null,
            "source": [],
            "outputs": [],
            "metadata": {}
        },
        {
            "cell_type": "markdown",
            "source": [
                "---\r\n",
                "# cross validation on prophet"
            ],
            "metadata": {}
        },
        {
            "cell_type": "code",
            "execution_count": null,
            "source": [
                "from prophet.diagnostics import cross_validation, performance_metrics\r\n",
                "df_cv = cross_validation(m, initial='365 days', period='31 days', horizon = '180 days')\r\n"
            ],
            "outputs": [],
            "metadata": {}
        },
        {
            "cell_type": "code",
            "execution_count": null,
            "source": [
                "df_cv = pd.DataFrame(df_cv);df_cv"
            ],
            "outputs": [],
            "metadata": {}
        },
        {
            "cell_type": "code",
            "execution_count": null,
            "source": [
                "sns.scatterplot(data = df_cv, x = 'ds', y = 'yhat')"
            ],
            "outputs": [],
            "metadata": {}
        },
        {
            "cell_type": "code",
            "execution_count": null,
            "source": [
                "performance_metrics(df_cv).sort_values('mae')"
            ],
            "outputs": [],
            "metadata": {}
        },
        {
            "cell_type": "markdown",
            "source": [
                "## Tunning paras"
            ],
            "metadata": {}
        },
        {
            "cell_type": "code",
            "execution_count": null,
            "source": [
                "from fbprophet import Prophet \r\n",
                "df_lb = x_train \r\n",
                "cols_lb = [i for i in df_lb.columns \r\n",
                "    if i not in ['diff','qty_x','creat_time_x','creat_time_y','CREATION_DATE_TIME_STAMP']]\r\n",
                "\r\n",
                "df_lb = df_lb.drop(['creat_time_x','creat_time_y', 'qty_x'], axis =1 )\r\n",
                "df_lb = df_lb.rename({'CREATION_DATE_TIME_STAMP' : 'ds', 'diff': 'y'}, axis = 1)\r\n",
                "m = Prophet()\r\n",
                "[m.add_regressor(i) for i in cols_lb]\r\n",
                "\r\n",
                "m.fit(df_lb)"
            ],
            "outputs": [],
            "metadata": {}
        },
        {
            "cell_type": "code",
            "execution_count": null,
            "source": [
                "%%Time\r\n",
                "import itertools\r\n",
                "param_grid = {  \r\n",
                "    'changepoint_prior_scale': [0.01,  0.5],\r\n",
                "    'seasonality_prior_scale': [0.01, 0.1],\r\n",
                "}\r\n",
                " \r\n",
                "\r\n",
                "# Generate all combinations of parameters\r\n",
                "all_params = [dict(zip(param_grid.keys(), v)) for v in itertools.product(*param_grid.values())]\r\n",
                "rmses = []  # Store the RMSEs for each params here\r\n",
                "\r\n",
                "# Use cross validation to evaluate all parameters\r\n",
                "for params in all_params:\r\n",
                "    m = Prophet(**params)  # Fit model with given params\r\n",
                "    [m.add_regressor(i) for i in cols_lb]\r\n",
                "    m.fit(df_lb)\r\n",
                "    df_cv = cross_validation(m, \r\n",
                "        initial='365 days', period='31 days', horizon = '180 days', parallel=\"processes\")\r\n",
                "    df_p = performance_metrics(df_cv, rolling_window=1)\r\n",
                "    rmses.append(df_p['rmse'].values[0])\r\n",
                "\r\n",
                "# Find the best parameters\r\n",
                "tuning_results = pd.DataFrame(all_params)\r\n",
                "tuning_results['rmse'] = rmses\r\n",
                "print(tuning_results)"
            ],
            "outputs": [],
            "metadata": {}
        },
        {
            "cell_type": "code",
            "execution_count": null,
            "source": [
                "# Python\r\n",
                "best_params = all_params[np.argmin(rmses)]\r\n",
                "print(best_params)"
            ],
            "outputs": [],
            "metadata": {}
        },
        {
            "cell_type": "code",
            "execution_count": null,
            "source": [
                "df_lb"
            ],
            "outputs": [],
            "metadata": {}
        },
        {
            "cell_type": "code",
            "execution_count": null,
            "source": [
                "x_test1 = x_test.drop(['creat_time_x','creat_time_y', 'qty_x', 'diff'], axis =1 )\r\n",
                "x_test1 = x_test1.rename({'CREATION_DATE_TIME_STAMP' : 'ds'}, axis = 1)\r\n",
                "x_test1['y'] = 0\r\n",
                "m.predict(x_test1)\r\n",
                "mean_absolute_error(x_test['diff'], m.predict(x_test1)['yhat'])"
            ],
            "outputs": [],
            "metadata": {}
        },
        {
            "cell_type": "code",
            "execution_count": null,
            "source": [
                "values = m.predict(x_test1)['yhat']\r\n",
                "labels = [1 if i>.5 else 0 for i in values]"
            ],
            "outputs": [],
            "metadata": {}
        },
        {
            "cell_type": "code",
            "execution_count": null,
            "source": [
                "x_test['pred_labels'] = labels;x_test\r\n"
            ],
            "outputs": [],
            "metadata": {}
        },
        {
            "cell_type": "code",
            "execution_count": null,
            "source": [
                "accuracy_score(x_test['diff'], x_test['pred_labels'])"
            ],
            "outputs": [],
            "metadata": {}
        },
        {
            "cell_type": "code",
            "execution_count": null,
            "source": [
                "x_train"
            ],
            "outputs": [],
            "metadata": {}
        },
        {
            "cell_type": "code",
            "execution_count": null,
            "source": [
                "# qty_x is target\r\n",
                "from fbprophet import Prophet \r\n",
                "df_value = x_train \r\n",
                "df_value = df_value.drop(['creat_time_x','creat_time_y'], axis =1 )\r\n",
                "\r\n",
                "df_value = df_value.rename({\r\n",
                "    'CREATION_DATE_TIME_STAMP' : 'ds', 'qty_x': 'y', 'diff':'pred_labels'\r\n",
                "    }, axis = 1)\r\n",
                "\r\n",
                "    \r\n",
                "cols_value = [i for i in df_value.columns \r\n",
                "    if i not in ['y', 'ds', 'pred_labels']]\r\n",
                "\r\n",
                "m = Prophet()\r\n",
                "[m.add_regressor(i) for i in cols_value]\r\n",
                "\r\n",
                "m.fit(df_value)"
            ],
            "outputs": [],
            "metadata": {}
        },
        {
            "cell_type": "code",
            "execution_count": null,
            "source": [
                "df_value"
            ],
            "outputs": [],
            "metadata": {}
        },
        {
            "cell_type": "code",
            "execution_count": null,
            "source": [
                "x_test_fin = x_test.drop(['creat_time_x','creat_time_y', 'qty_x', 'diff'], axis =1 )\r\n",
                " \r\n",
                "x_test_fin = x_test_fin.rename({'CREATION_DATE_TIME_STAMP' : 'ds'}, axis = 1);\r\n",
                "x_test_fin"
            ],
            "outputs": [],
            "metadata": {}
        },
        {
            "cell_type": "code",
            "execution_count": null,
            "source": [
                "\r\n",
                "# m.predict(x_test_fin)\r\n",
                "mean_absolute_percentage_error(x_test['qty_x'], m.predict(x_test_fin)['yhat'])"
            ],
            "outputs": [],
            "metadata": {}
        },
        {
            "cell_type": "code",
            "execution_count": null,
            "source": [],
            "outputs": [],
            "metadata": {}
        },
        {
            "cell_type": "markdown",
            "source": [
                "# aaa"
            ],
            "metadata": {}
        },
        {
            "cell_type": "code",
            "execution_count": null,
            "source": [
                "from sklearn.linear_model import Ridge, LinearRegression, Lasso\r\n",
                "from sklearn import model_selection\r\n",
                "cv_split = model_selection.ShuffleSplit(\r\n",
                "    n_splits = 6, \r\n",
                "    test_size = .25, \r\n",
                "    # max_train_size = .75\r\n",
                "    )\r\n",
                "alg1 = Lasso()\r\n",
                "\r\n",
                "cv_results_1 = model_selection.cross_validate(\r\n",
                "    alg1, \r\n",
                "    train_first.drop(['qty2','CREATION_DATE_TIME_STAMP','creat_time'], axis =1) , train_first['qty2'].to_numpy(), \r\n",
                "    cv  = cv_split, scoring='neg_mean_absolute_percentage_error')\r\n",
                "\r\n",
                "\r\n",
                "cv_results_1['test_score'].mean()"
            ],
            "outputs": [],
            "metadata": {}
        },
        {
            "cell_type": "code",
            "execution_count": null,
            "source": [
                "from sklearn.ensemble import RandomForestRegressor\r\n",
                "alg2 = RandomForestRegressor(n_estimators = 34, \r\n",
                "        max_depth = 61,\r\n",
                "        min_samples_split = 3, \r\n",
                "        min_samples_leaf=4, \r\n",
                "        # max_leaf_nodes = 31\r\n",
                "        )\r\n",
                "cv_results_2 = model_selection.cross_validate(\r\n",
                "        alg2, \r\n",
                "        train_first, \r\n",
                "        train_full['qty'], \r\n",
                "        cv  = cv_split, scoring='neg_mean_absolute_percentage_error')\r\n",
                "cv_results_2['test_score'].mean()"
            ],
            "outputs": [],
            "metadata": {}
        },
        {
            "cell_type": "code",
            "execution_count": null,
            "source": [
                "alg2.fit(train_first,train_full['qty']).predict(train_first)"
            ],
            "outputs": [],
            "metadata": {}
        },
        {
            "cell_type": "code",
            "execution_count": null,
            "source": [
                "from sklearn.neural_network import MLPRegressor\r\n",
                "alg3 = MLPRegressor(\r\n",
                "    hidden_layer_sizes = (891, 891, 450, 135), \r\n",
                "    max_iter=1000,\r\n",
                "    verbose=True, \r\n",
                "    activation = 'identity', \r\n",
                "    solver = 'adam', learning_rate = 'adaptive')\r\n",
                "cv_results_3 = model_selection.cross_validate(\r\n",
                "    alg3, train_first,train_full['qty'], \r\n",
                "    cv  = cv_split, \r\n",
                "    scoring='neg_mean_absolute_percentage_error')\r\n",
                "cv_results_3['test_score'].mean()"
            ],
            "outputs": [],
            "metadata": {}
        },
        {
            "cell_type": "code",
            "execution_count": null,
            "source": [
                "from sklearn.neural_network import MLPRegressor\r\n",
                "alg3 = MLPRegressor(\r\n",
                "    hidden_layer_sizes = (1120, 850, 450, 135), \r\n",
                "    max_iter=1000,\r\n",
                "    verbose=True, \r\n",
                "    activation = 'relu', \r\n",
                "    solver = 'adam', \r\n",
                "    learning_rate = 'adaptive',\r\n",
                "    warm_start = True,\r\n",
                "    early_stopping = True\r\n",
                "    )\r\n",
                "cv_results_3 = model_selection.cross_validate(\r\n",
                "    alg3, train_first,train_full['qty'], \r\n",
                "    cv  = cv_split, \r\n",
                "    scoring='neg_mean_absolute_percentage_error')\r\n",
                "cv_results_3['test_score'].mean()"
            ],
            "outputs": [],
            "metadata": {}
        },
        {
            "cell_type": "code",
            "execution_count": null,
            "source": [],
            "outputs": [],
            "metadata": {}
        }
    ],
    "metadata": {
        "orig_nbformat": 4,
        "language_info": {
            "name": "python",
            "version": "3.8.8",
            "mimetype": "text/x-python",
            "codemirror_mode": {
                "name": "ipython",
                "version": 3
            },
            "pygments_lexer": "ipython3",
            "nbconvert_exporter": "python",
            "file_extension": ".py"
        },
        "kernelspec": {
            "name": "python3",
            "display_name": "Python 3.8.8 64-bit ('siming': conda)"
        },
        "interpreter": {
            "hash": "47b50d2908d96196e4220cfb4e81faa93803065ea975497e7026f672c1f58470"
        }
    },
    "nbformat": 4,
    "nbformat_minor": 2
}