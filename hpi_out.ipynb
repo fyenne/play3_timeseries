{
    "cells": [
        {
            "cell_type": "code",
            "execution_count": 3,
            "source": [
                "import pandas as pd\r\n",
                "import numpy as np\r\n",
                "import sklearn\r\n",
                "import matplotlib.pyplot as plt\r\n",
                "import seaborn as sns\r\n",
                "import re\r\n",
                "\r\n",
                "path0= 'Q:\\\\SHA_KQ\\\\Digital Intelligence\\\\深度赋智-AI\\\\FTP\\\\hp_train\\\\2019 outbound\\\\'\r\n",
                "path1= 'Q:\\\\SHA_KQ\\\\Digital Intelligence\\\\深度赋智-AI\\\\FTP\\\\hp_train\\\\2020 outbound\\\\'\r\n",
                "path2= 'Q:\\\\SHA_KQ\\\\Digital Intelligence\\\\深度赋智-AI\\\\FTP\\\\hp_train\\\\2021 outbound\\\\'"
            ],
            "outputs": [],
            "metadata": {}
        },
        {
            "cell_type": "code",
            "execution_count": 6,
            "source": [
                "%%time\r\n",
                "dfs0 = pd.DataFrame()\r\n",
                "for fname in os.listdir(path0):\r\n",
                "    if re.search(r'\\.xls$', fname):\r\n",
                "        dfs0 = pd.concat(\r\n",
                "            [dfs0 ,pd.read_excel(path0 + fname)], \r\n",
                "            axis = 0, \r\n",
                "            ignore_index = True)\r\n",
                "\r\n",
                "dfs1 = pd.DataFrame()\r\n",
                "for fname in os.listdir(path1):\r\n",
                "    if re.search(r'\\.xls$', fname):\r\n",
                "        dfs1 = pd.concat(\r\n",
                "            [dfs1 ,pd.read_excel(path1 + fname)], \r\n",
                "            axis = 0, \r\n",
                "            ignore_index = True)\r\n",
                "\r\n",
                "\r\n",
                "dfs2 = pd.DataFrame()\r\n",
                "for fname in os.listdir(path2):\r\n",
                "    if re.search(r'\\.xls$', fname):\r\n",
                "        dfs2 = pd.concat(\r\n",
                "            [dfs2 ,pd.read_excel(path2 + fname)], \r\n",
                "            axis = 0, \r\n",
                "            ignore_index = True)\r\n",
                "\r\n"
            ],
            "outputs": [],
            "metadata": {}
        },
        {
            "cell_type": "code",
            "execution_count": null,
            "source": [
                "[dfs0.head(1),\r\n",
                "dfs1.head(1),\r\n",
                "dfs2.head(1)\r\n",
                "]"
            ],
            "outputs": [],
            "metadata": {}
        },
        {
            "cell_type": "code",
            "execution_count": null,
            "source": [
                "dfs3 = pd.DataFrame()\r\n",
                "for fname in os.listdir(path2):\r\n",
                "    if re.search(r'\\.xlsx$', fname):\r\n",
                "        dfs3 = pd.concat(\r\n",
                "            [dfs3 ,pd.read_excel(path3 + fname)], \r\n",
                "            axis = 0, \r\n",
                "            ignore_index = True)"
            ],
            "outputs": [],
            "metadata": {}
        }
    ],
    "metadata": {
        "orig_nbformat": 4,
        "language_info": {
            "name": "python",
            "version": "3.8.8",
            "mimetype": "text/x-python",
            "codemirror_mode": {
                "name": "ipython",
                "version": 3
            },
            "pygments_lexer": "ipython3",
            "nbconvert_exporter": "python",
            "file_extension": ".py"
        },
        "kernelspec": {
            "name": "python3",
            "display_name": "Python 3.8.8 64-bit ('siming': conda)"
        },
        "interpreter": {
            "hash": "47b50d2908d96196e4220cfb4e81faa93803065ea975497e7026f672c1f58470"
        }
    },
    "nbformat": 4,
    "nbformat_minor": 2
}